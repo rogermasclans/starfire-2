{
 "cells": [
  {
   "cell_type": "code",
   "execution_count": 147,
   "id": "90cbe14f-6a7c-43da-984d-ca8fd255b870",
   "metadata": {
    "tags": []
   },
   "outputs": [
    {
     "name": "stdout",
     "output_type": "stream",
     "text": [
      "/home/jupyter\n"
     ]
    }
   ],
   "source": [
    "import pandas as pd\n",
    "import seaborn as sns\n",
    "import matplotlib.pyplot as plt\n",
    "import numpy as np\n",
    "import matplotlib.ticker as ticker\n",
    "from google.cloud import bigquery\n",
    "import os\n",
    "from google.cloud import bigquery\n",
    "\n",
    "\n",
    "# pd.set_option('display.max_columns', None)\n",
    "\n",
    "os.chdir('/home/jupyter')\n",
    "!pwd\n",
    "# # %cd \n",
    "# !pwd\n",
    "\n",
    "import refinitiv.dataplatform as rdp\n",
    "\n",
    "%run ./starfire/notebooks/credentials.ipynb\n",
    "\n",
    "session = rdp.open_platform_session(\n",
    "    APP_KEY,\n",
    "    rdp.GrantPassword(\n",
    "        username = RDP_LOGIN,\n",
    "        password = RDP_PASSWORD\n",
    "    )\n",
    ")\n",
    "\n"
   ]
  },
  {
   "cell_type": "code",
   "execution_count": 162,
   "id": "ebc024cb-4544-419e-a755-ccb622f809b7",
   "metadata": {
    "tags": []
   },
   "outputs": [
    {
     "name": "stdout",
     "output_type": "stream",
     "text": [
      "session is closed\n",
      "session is open\n",
      "     instrument                 Date  TR.CLOSEPRICE  TR.PriceOpen  TR.Volume\n",
      "0         .IRTS  1999-12-31T00:00:00       175.2623      150.2467          0\n",
      "1         .IRTS  1999-12-31T00:00:00       175.2623      150.2467          0\n",
      "2         .IRTS  2000-01-05T00:00:00       179.0125      168.5584          0\n",
      "3         .IRTS  2000-01-06T00:00:00       185.5198      180.2751          0\n",
      "4         .IRTS  2000-01-06T00:00:00       185.5198      180.2751          0\n",
      "...         ...                  ...            ...           ...        ...\n",
      "6461      .IRTS  2024-06-14T00:00:00        1137.45          <NA>       <NA>\n",
      "6462      .IRTS  2024-06-14T00:00:00        1137.45          <NA>       <NA>\n",
      "6463      .IRTS  2024-06-14T00:00:00        1137.45          <NA>       <NA>\n",
      "6464      .IRTS  2024-06-14T00:00:00        1137.45          <NA>       <NA>\n",
      "6465      .IRTS  2024-06-14T00:00:00        1137.45          <NA>       <NA>\n",
      "\n",
      "[6466 rows x 5 columns]\n",
      "session is closed\n"
     ]
    }
   ],
   "source": [
    "## Session needs to be closed and opened to avoid errors caused by ...who knows what.\n",
    "rdp.close_session()\n",
    "print('session is closed')\n",
    "session = rdp.open_platform_session(\n",
    "    APP_KEY,\n",
    "    rdp.GrantPassword(\n",
    "        username = RDP_LOGIN,\n",
    "        password = RDP_PASSWORD\n",
    "    )\n",
    ")\n",
    "print('session is open')\n",
    "\n",
    "\n",
    "ticker_list = ['.AXJO','.BSESN','.BVSP','.FTEU1','.FTSE','.GSPTSE','.KS200','.MXX','.SP500','.SSEC',\n",
    "               '.TOPX','.TRXFLDAFPU','.TRXFLDAZPU','.TRXFLDLAPU', '.HSI', '.GDAXI', '.FCHI', '.TWII',\\\n",
    "               '.IBEX', '.FTMIB', '.SSMI', '.OMXS30', '.IRTS']\n",
    "\n",
    "index = '.IRTS'\n",
    "sdate = '2000-01-01'\n",
    "edate = '2024-12-31'\n",
    "\n",
    "index_prices = rdp.get_data(\n",
    "    index,\n",
    "    fields = ['TR.CLOSEPRICE.Date','TR.CLOSEPRICE', 'TR.PriceOpen', \n",
    "              'TR.VOLUME'],\n",
    "    parameters = {'SDate':sdate,'EDate':edate,'Curn':'USD'}\n",
    ")\n",
    "index_prices\n",
    "print(index_prices)\n",
    "rdp.close_session()\n",
    "print('session is closed')\n",
    "index_prices.to_csv(f'{index.strip(\".\")}_{sdate}_{edate}.csv')\n"
   ]
  },
  {
   "cell_type": "code",
   "execution_count": 134,
   "id": "08ef4c25-94b4-438e-9a1b-fcfa8b721cdf",
   "metadata": {
    "tags": []
   },
   "outputs": [],
   "source": []
  },
  {
   "cell_type": "code",
   "execution_count": 164,
   "id": "d8dc95a8-37cd-4b03-ad14-982c9cd9c763",
   "metadata": {
    "tags": []
   },
   "outputs": [
    {
     "name": "stdout",
     "output_type": "stream",
     "text": [
      "        unnamed: 0 instrument                 date   closeprice    priceopen  \\\n",
      "0                0     .GDAXI  2000-01-03T00:00:00  6927.622195  7144.109105   \n",
      "1                1     .GDAXI  2000-01-04T00:00:00  6789.830124  6955.057106   \n",
      "2                2     .GDAXI  2000-01-05T00:00:00  6706.206939  6792.617270   \n",
      "3                3     .GDAXI  2000-01-06T00:00:00  6681.443416  6708.819614   \n",
      "4                4     .GDAXI  2000-01-07T00:00:00  6976.942309  6677.511292   \n",
      "...            ...        ...                  ...          ...          ...   \n",
      "148580        6461      .IRTS  2024-06-14T00:00:00  1137.450000          NaN   \n",
      "148581        6462      .IRTS  2024-06-14T00:00:00  1137.450000          NaN   \n",
      "148582        6463      .IRTS  2024-06-14T00:00:00  1137.450000          NaN   \n",
      "148583        6464      .IRTS  2024-06-14T00:00:00  1137.450000          NaN   \n",
      "148584        6465      .IRTS  2024-06-14T00:00:00  1137.450000          NaN   \n",
      "\n",
      "            volume  year  \n",
      "0       43072541.0  2000  \n",
      "1       46678439.0  2000  \n",
      "2       52682790.0  2000  \n",
      "3       41180558.0  2000  \n",
      "4       56058925.0  2000  \n",
      "...            ...   ...  \n",
      "148580         NaN  2024  \n",
      "148581         NaN  2024  \n",
      "148582         NaN  2024  \n",
      "148583         NaN  2024  \n",
      "148584         NaN  2024  \n",
      "\n",
      "[148585 rows x 7 columns]\n",
      "Loaded 148585 rows into starfire-410116.derived.equity_indices_2000_2024.\n"
     ]
    }
   ],
   "source": [
    "import pandas as pd\n",
    "import glob\n",
    "from google.cloud import bigquery\n",
    "\n",
    "# Define the folder containing the CSV files\n",
    "folder_path = 'data_index/*.csv'\n",
    "\n",
    "# Use glob to get all CSV file paths in the folder\n",
    "csv_files = glob.glob(folder_path)\n",
    "\n",
    "# Read and concatenate all CSV files into a single DataFrame\n",
    "df_list = [pd.read_csv(file) for file in csv_files]\n",
    "main_df = pd.concat(df_list, ignore_index=True)\n",
    "main_df.columns = main_df.columns.str.replace('TR.', '', regex=False).str.lower()\n",
    "main_df['year'] = main_df['date'].str[:4].astype(int)\n",
    "\n",
    "# Display the final concatenated DataFrame\n",
    "print(main_df)\n",
    "\n",
    "# Configure your BigQuery credentials and client\n",
    "# Make sure you've set the GOOGLE_APPLICATION_CREDENTIALS environment variable\n",
    "client = bigquery.Client()\n",
    "\n",
    "# Define your BigQuery dataset and table\n",
    "dataset_id = 'derived'  # Replace with your dataset ID\n",
    "table_id = 'equity_indices_2000_2024'  # Replace with your table ID\n",
    "\n",
    "# Create a full table ID in the format of project.dataset.table\n",
    "table_full_id = f'{client.project}.{dataset_id}.{table_id}'\n",
    "\n",
    "# Upload the DataFrame to BigQuery\n",
    "job = client.load_table_from_dataframe(main_df, table_full_id)\n",
    "\n",
    "# Wait for the load job to complete\n",
    "job.result()\n",
    "\n",
    "print(f\"Loaded {job.output_rows} rows into {table_full_id}.\")\n"
   ]
  }
 ],
 "metadata": {
  "environment": {
   "kernel": "conda-root-py",
   "name": "workbench-notebooks.m120",
   "type": "gcloud",
   "uri": "us-docker.pkg.dev/deeplearning-platform-release/gcr.io/workbench-notebooks:m120"
  },
  "kernelspec": {
   "display_name": "Python 3 (ipykernel)",
   "language": "python",
   "name": "conda-root-py"
  },
  "language_info": {
   "codemirror_mode": {
    "name": "ipython",
    "version": 3
   },
   "file_extension": ".py",
   "mimetype": "text/x-python",
   "name": "python",
   "nbconvert_exporter": "python",
   "pygments_lexer": "ipython3",
   "version": "3.10.14"
  }
 },
 "nbformat": 4,
 "nbformat_minor": 5
}

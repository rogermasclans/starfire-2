{
 "cells": [
  {
   "cell_type": "code",
   "execution_count": 2,
   "id": "90cbe14f-6a7c-43da-984d-ca8fd255b870",
   "metadata": {
    "tags": []
   },
   "outputs": [
    {
     "name": "stdout",
     "output_type": "stream",
     "text": [
      "/home/jupyter\n"
     ]
    }
   ],
   "source": [
    "import pandas as pd\n",
    "import seaborn as sns\n",
    "import matplotlib.pyplot as plt\n",
    "import numpy as np\n",
    "import matplotlib.ticker as ticker\n",
    "from google.cloud import bigquery\n",
    "import os\n",
    "from google.cloud import bigquery\n",
    "import glob\n",
    "\n",
    "\n",
    "# pd.set_option('display.max_columns', None)\n",
    "\n",
    "os.chdir('/home/jupyter')\n",
    "!pwd\n",
    "# # %cd \n",
    "# !pwd\n",
    "\n",
    "import refinitiv.dataplatform as rdp\n",
    "\n",
    "%run ./starfire/notebooks/refinitiv_credentials.ipynb\n",
    "\n",
    "session = rdp.open_platform_session(\n",
    "    APP_KEY,\n",
    "    rdp.GrantPassword(\n",
    "        username = RDP_LOGIN,\n",
    "        password = RDP_PASSWORD\n",
    "    )\n",
    ")\n",
    "\n"
   ]
  },
  {
   "cell_type": "markdown",
   "id": "70f7ca90-8162-4642-a8ba-29f5684a98b4",
   "metadata": {},
   "source": [
    "- AXJO starts in 1990 (official started in 2000)\n",
    "- BSESN starts in 1980 (The base value of the SENSEX was taken as 100 on 1 April 1979 and its base year as 1978–79. \n",
    "- BVSP starts in 1980 (begun on 2 January 1968)\n",
    "- FCHI (CAC) starts in 1987 (inaugurated on 23 June 1986)\n",
    "- FTEU1 starts in 1990\n",
    "- FTMIB starts in 1998 (as per wikipedia)\n",
    "- FTSE starts in 1984 (Foundation 3 January 1984)\n",
    "- GDAXI starts in 1988 (Foundation 1 July 1988)\n",
    "- GSPTSE starts in 1980 (Foundation May 1, 2001; 23 years ago after replacing the TSX300 which started in 1945)\n",
    "- HSI starts in 1965 (Foundation July 31, 1964)\n",
    "- IBEX starts in 1992 (Foundation January 14, 1992)\n",
    "- IRTS starts in 1996 (RTS Index, Introduced in September 1, 1995)\n",
    "- KS200 starts in 1990 (??)\n",
    "- MXX starts in 1988 (??)\n",
    "- OMXS30 starts in 1987 (Foundation 1986)\n",
    "- SSEC starts in  (Foundation 15 July 1991, launch date; 19 December 1990, base date))\n",
    "- SSMI starts in 1989(introduced on 30 June 1988)\n",
    "- TOPX starts in 1980 (?)\n",
    "- TRXFLDAFPU, TRXFLDAZPU, TRXFLDLAPU start in 2000??\n",
    "- TWII starts in 1976 (first published in 1967)"
   ]
  },
  {
   "cell_type": "code",
   "execution_count": 86,
   "id": "ebc024cb-4544-419e-a755-ccb622f809b7",
   "metadata": {
    "tags": []
   },
   "outputs": [
    {
     "name": "stdout",
     "output_type": "stream",
     "text": [
      "session is closed\n",
      "session is open\n",
      "     instrument                 Date  TR.CLOSEPRICE         TR.PriceOpen  \\\n",
      "0         .TWII  1967-01-05T00:00:00       3.601246  1969-12-30T00:00:00   \n",
      "1         .TWII  1967-01-06T00:00:00       3.601246  1969-12-30T00:00:00   \n",
      "2         .TWII  1967-01-07T00:00:00       3.609034  1970-01-05T00:00:00   \n",
      "3         .TWII  1967-01-09T00:00:00       3.614486  1970-01-06T00:00:00   \n",
      "4         .TWII  1967-01-10T00:00:00       3.614875  1970-01-07T00:00:00   \n",
      "...         ...                  ...            ...                  ...   \n",
      "2428      .TWII  1974-12-26T00:00:00       7.587617                 <NA>   \n",
      "2429      .TWII  1974-12-27T00:00:00       7.353193                 <NA>   \n",
      "2430      .TWII  1974-12-28T00:00:00       7.425234                 <NA>   \n",
      "2431      .TWII  1974-12-30T00:00:00       7.517913                 <NA>   \n",
      "2432      .TWII  1974-12-30T00:00:00       7.517913                 <NA>   \n",
      "\n",
      "     TR.PriceOpen  TR.Volume  \n",
      "0            None          0  \n",
      "1            None          0  \n",
      "2            None          0  \n",
      "3            None          0  \n",
      "4            None          0  \n",
      "...           ...        ...  \n",
      "2428         None       <NA>  \n",
      "2429         None       <NA>  \n",
      "2430         None       <NA>  \n",
      "2431         None       <NA>  \n",
      "2432         None       <NA>  \n",
      "\n",
      "[2433 rows x 6 columns]\n",
      "session is closed\n"
     ]
    }
   ],
   "source": [
    "## Session needs to be closed and opened to avoid errors caused by ...who knows what.\n",
    "rdp.close_session()\n",
    "print('session is closed')\n",
    "session = rdp.open_platform_session(\n",
    "    APP_KEY,\n",
    "    rdp.GrantPassword(\n",
    "        username = RDP_LOGIN,\n",
    "        password = RDP_PASSWORD\n",
    "    )\n",
    ")\n",
    "print('session is open')\n",
    "\n",
    "\n",
    "ticker_list = ['.AXJO','.BSESN','.BVSP','.FTEU1','.FTSE','.GSPTSE','.KS200','.MXX','.SP500','.SSEC',\n",
    "               '.TOPX','.TRXFLDAFPU','.TRXFLDAZPU','.TRXFLDLAPU', '.HSI', '.GDAXI', '.FCHI', '.TWII',\\\n",
    "               '.IBEX', '.FTMIB', '.SSMI', '.OMXS30', '.IRTS']\n",
    "\n",
    "index = '.TWII'\n",
    "sdate = '1967-01-01'\n",
    "edate = '1974-12-31'\n",
    "\n",
    "index_prices = rdp.get_data(\n",
    "    index,\n",
    "    fields = ['TR.CLOSEPRICE.Date','TR.CLOSEPRICE', 'TR.VOLUME'],\n",
    "    parameters = {'SDate':sdate,'EDate':edate,'Curn':'USD'}\n",
    ")\n",
    "index_prices\n",
    "print(index_prices)\n",
    "rdp.close_session()\n",
    "print('session is closed')\n",
    "index_prices.to_csv(f'data_index_before_2000/{index.strip(\".\")}_{sdate}_{edate}.csv')\n"
   ]
  },
  {
   "cell_type": "code",
   "execution_count": 134,
   "id": "08ef4c25-94b4-438e-9a1b-fcfa8b721cdf",
   "metadata": {
    "tags": []
   },
   "outputs": [],
   "source": []
  },
  {
   "cell_type": "code",
   "execution_count": 89,
   "id": "d8dc95a8-37cd-4b03-ad14-982c9cd9c763",
   "metadata": {
    "tags": []
   },
   "outputs": [
    {
     "name": "stdout",
     "output_type": "stream",
     "text": [
      "       unnamed: 0 instrument                 date  closeprice  volume  year\n",
      "0               0     .BSESN  1990-01-01T00:00:00   46.517221     0.0  1990\n",
      "1               1     .BSESN  1990-01-02T00:00:00   46.429167     0.0  1990\n",
      "2               2     .BSESN  1990-01-03T00:00:00   45.187685     0.0  1990\n",
      "3               3     .BSESN  1990-01-04T00:00:00   45.017751     0.0  1990\n",
      "4               4     .BSESN  1990-01-05T00:00:00   45.887441     0.0  1990\n",
      "...           ...        ...                  ...         ...     ...   ...\n",
      "92168        1047      .IRTS  1999-12-27T00:00:00  156.613300     NaN  1999\n",
      "92169        1048      .IRTS  1999-12-28T00:00:00  151.734600     NaN  1999\n",
      "92170        1049      .IRTS  1999-12-29T00:00:00  147.280100     NaN  1999\n",
      "92171        1050      .IRTS  1999-12-30T00:00:00  150.010600     NaN  1999\n",
      "92172        1051      .IRTS  1999-12-31T00:00:00  175.262300     NaN  1999\n",
      "\n",
      "[92172 rows x 6 columns]\n",
      "Loaded 92172 rows into starfire-410116.derived.equity_indices_xxx_2000.\n"
     ]
    }
   ],
   "source": [
    "\n",
    "# Define the folder containing the CSV files\n",
    "folder_path = 'data_index_before_2000/*.csv'\n",
    "\n",
    "# Use glob to get all CSV file paths in the folder\n",
    "csv_files = glob.glob(folder_path)\n",
    "\n",
    "# Read and concatenate all CSV files into a single DataFrame\n",
    "df_list = [pd.read_csv(file) for file in csv_files]\n",
    "main_df = pd.concat(df_list, ignore_index=True)\n",
    "main_df.columns = main_df.columns.str.replace('TR.', '', regex=False).str.lower()\n",
    "# Drop rows with NaN in 'date' column\n",
    "main_df = main_df.dropna(subset=['date'])\n",
    "\n",
    "## Drop columns not needed and causing errors on BQ. I removed them from the refinitiv query\n",
    "main_df = main_df.drop(columns=['priceopen', 'priceopen.1'])\n",
    "\n",
    "# Extract the year and convert to integer\n",
    "main_df['year'] = main_df['date'].str[:4].astype(int)\n",
    "\n",
    "# Display the final concatenated DataFrame\n",
    "print(main_df)\n",
    "\n",
    "# Configure your BigQuery credentials and client\n",
    "# Make sure you've set the GOOGLE_APPLICATION_CREDENTIALS environment variable\n",
    "client = bigquery.Client()\n",
    "\n",
    "# Define your BigQuery dataset and table\n",
    "dataset_id = 'derived' \n",
    "table_id = 'equity_indices_xxx_2000'  \n",
    "\n",
    "# Create a full table ID in the format of project.dataset.table\n",
    "table_full_id = f'{client.project}.{dataset_id}.{table_id}'\n",
    "\n",
    "# Upload the DataFrame to BigQuery\n",
    "job = client.load_table_from_dataframe(main_df, table_full_id)\n",
    "\n",
    "# Wait for the load job to complete\n",
    "job.result()\n",
    "\n",
    "print(f\"Loaded {job.output_rows} rows into {table_full_id}.\")\n",
    "\n",
    "\n",
    "\"\"\"\n",
    "\n",
    "The following query merged the two files (2000-2024 with xxx-1999), cleaning them up a bit:\n",
    "\n",
    "CREATE OR REPLACE TABLE `starfire-410116.derived.equity_indices_all_times` AS\n",
    "WITH aux AS (\n",
    "  SELECT\n",
    "    * EXCEPT (`unnamed: 0`)\n",
    "  FROM `starfire-410116.derived.equity_indices_xxx_2000` t1\n",
    "  LEFT JOIN(\n",
    "    SELECT \n",
    "      * EXCEPT(count_deals, perc_deals, cum_perc)\n",
    "    FROM `starfire-410116.derived.eqindx_country_dict`\n",
    "  ) t2\n",
    "  ON t1.instrument = t2.ticker\n",
    ")\n",
    "SELECT \n",
    "  * EXCEPT (`unnamed: 0`, priceopen, count_deals, perc_deals, cum_perc)\n",
    "FROM `starfire-410116.derived.equity_indices_2000_2024`\n",
    "UNION ALL SELECT * FROM aux \n",
    "\"\"\""
   ]
  }
 ],
 "metadata": {
  "environment": {
   "kernel": "conda-root-py",
   "name": "workbench-notebooks.m120",
   "type": "gcloud",
   "uri": "us-docker.pkg.dev/deeplearning-platform-release/gcr.io/workbench-notebooks:m120"
  },
  "kernelspec": {
   "display_name": "Python 3 (ipykernel)",
   "language": "python",
   "name": "conda-root-py"
  },
  "language_info": {
   "codemirror_mode": {
    "name": "ipython",
    "version": 3
   },
   "file_extension": ".py",
   "mimetype": "text/x-python",
   "name": "python",
   "nbconvert_exporter": "python",
   "pygments_lexer": "ipython3",
   "version": "3.10.14"
  }
 },
 "nbformat": 4,
 "nbformat_minor": 5
}

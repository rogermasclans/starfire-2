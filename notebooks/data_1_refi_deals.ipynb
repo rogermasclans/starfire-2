{
 "cells": [
  {
   "cell_type": "code",
   "execution_count": 1,
   "id": "90cbe14f-6a7c-43da-984d-ca8fd255b870",
   "metadata": {
    "tags": []
   },
   "outputs": [
    {
     "name": "stdout",
     "output_type": "stream",
     "text": [
      "/home/jupyter\n",
      "{\n",
      "  \"shell_port\": 33609,\n",
      "  \"iopub_port\": 54653,\n",
      "  \"stdin_port\": 40423,\n",
      "  \"control_port\": 52377,\n",
      "  \"hb_port\": 36207,\n",
      "  \"ip\": \"127.0.0.1\",\n",
      "  \"key\": \"244c80b5-0416ad359880ef783b590213\",\n",
      "  \"transport\": \"tcp\",\n",
      "  \"signature_scheme\": \"hmac-sha256\",\n",
      "  \"kernel_name\": \"conda-root-py\",\n",
      "  \"jupyter_session\": \"/home/jupyter/starfire/notebooks/data_1_refi_deals.ipynb\"\n",
      "}\n",
      "\n",
      "Paste the above JSON into a file, and connect with:\n",
      "    $> jupyter <app> --existing <file>\n",
      "or, if you are local, you can connect with just:\n",
      "    $> jupyter <app> --existing kernel-ddb5ba7b-61a5-41e9-8b2b-988411085db6.json\n",
      "or even just:\n",
      "    $> jupyter <app> --existing\n",
      "if this is the most recent Jupyter kernel you have started.\n"
     ]
    }
   ],
   "source": [
    "import pandas as pd\n",
    "import seaborn as sns\n",
    "import matplotlib.pyplot as plt\n",
    "import numpy as np\n",
    "import matplotlib.ticker as ticker\n",
    "from google.cloud import bigquery\n",
    "import os\n",
    "from google.cloud import bigquery\n",
    "\n",
    "\n",
    "# pd.set_option('display.max_columns', None)\n",
    "\n",
    "os.chdir('/home/jupyter')\n",
    "!pwd\n",
    "# # %cd \n",
    "# !pwd\n",
    "# (base) jupyter@starfire-1:~$ pip install jupyter-console\n",
    "# (base) jupyter@starfire-1:~$ !jupyter console --existing\n",
    "%connect_info\n",
    "\n"
   ]
  },
  {
   "cell_type": "code",
   "execution_count": 3,
   "id": "c4e25274-9db7-440e-8353-5c229657bd2c",
   "metadata": {
    "tags": []
   },
   "outputs": [],
   "source": [
    "\n",
    "import refinitiv.dataplatform as rdp\n",
    "\n",
    "%run ./starfire/notebooks/credentials.ipynb\n",
    "\n",
    "session = rdp.open_platform_session(\n",
    "    APP_KEY,\n",
    "    rdp.GrantPassword(\n",
    "        username = RDP_LOGIN,\n",
    "        password = RDP_PASSWORD\n",
    "    )\n",
    ")"
   ]
  },
  {
   "cell_type": "code",
   "execution_count": 7,
   "id": "f7e2b1d9-2e61-45fc-840e-aa5bcc2e79b2",
   "metadata": {
    "tags": []
   },
   "outputs": [
    {
     "name": "stdout",
     "output_type": "stream",
     "text": [
      "Start Date: 19850101, End Date: 19850103\n",
      "Downloading data from refinitiv...\n",
      "(26, 71)\n",
      "Master shape: (26, 71)\n",
      "Start Date: 19850104, End Date: 19850106\n",
      "Downloading data from refinitiv...\n"
     ]
    },
    {
     "name": "stderr",
     "output_type": "stream",
     "text": [
      "ERROR!!! An error occurred while requesting URL('https://api.refinitiv.com/data/datagrid/beta1/').\n",
      "     ReadTimeout('')\n"
     ]
    },
    {
     "name": "stdout",
     "output_type": "stream",
     "text": [
      "An error occurred: . Retrying for the range 19850104 to 19850106...\n",
      "Start Date: 19850104, End Date: 19850106\n",
      "Downloading data from refinitiv...\n",
      "(15, 71)\n",
      "Master shape: (41, 71)\n",
      "Start Date: 19850107, End Date: 19850109\n",
      "Downloading data from refinitiv...\n"
     ]
    },
    {
     "name": "stderr",
     "output_type": "stream",
     "text": [
      "/var/tmp/ipykernel_10925/3801902500.py:128: FutureWarning: The behavior of DataFrame concatenation with empty or all-NA entries is deprecated. In a future version, this will no longer exclude empty or all-NA columns when determining the result dtypes. To retain the old behavior, exclude the relevant entries before the concat operation.\n",
      "  master_df = pd.concat([master_df, mnas], ignore_index=True)\n"
     ]
    },
    {
     "name": "stdout",
     "output_type": "stream",
     "text": [
      "(57, 71)\n",
      "Master shape: (98, 71)\n",
      "Start Date: 19850110, End Date: 19850112\n",
      "Downloading data from refinitiv...\n"
     ]
    },
    {
     "name": "stderr",
     "output_type": "stream",
     "text": [
      "/var/tmp/ipykernel_10925/3801902500.py:128: FutureWarning: The behavior of DataFrame concatenation with empty or all-NA entries is deprecated. In a future version, this will no longer exclude empty or all-NA columns when determining the result dtypes. To retain the old behavior, exclude the relevant entries before the concat operation.\n",
      "  master_df = pd.concat([master_df, mnas], ignore_index=True)\n"
     ]
    },
    {
     "name": "stdout",
     "output_type": "stream",
     "text": [
      "(34, 71)\n",
      "Master shape: (132, 71)\n",
      "Start Date: 19850113, End Date: 19850115\n",
      "Downloading data from refinitiv...\n"
     ]
    },
    {
     "name": "stderr",
     "output_type": "stream",
     "text": [
      "/var/tmp/ipykernel_10925/3801902500.py:128: FutureWarning: The behavior of DataFrame concatenation with empty or all-NA entries is deprecated. In a future version, this will no longer exclude empty or all-NA columns when determining the result dtypes. To retain the old behavior, exclude the relevant entries before the concat operation.\n",
      "  master_df = pd.concat([master_df, mnas], ignore_index=True)\n"
     ]
    },
    {
     "name": "stdout",
     "output_type": "stream",
     "text": [
      "(30, 71)\n",
      "Master shape: (162, 71)\n",
      "Start Date: 19850116, End Date: 19850118\n",
      "Downloading data from refinitiv...\n"
     ]
    },
    {
     "name": "stderr",
     "output_type": "stream",
     "text": [
      "/var/tmp/ipykernel_10925/3801902500.py:128: FutureWarning: The behavior of DataFrame concatenation with empty or all-NA entries is deprecated. In a future version, this will no longer exclude empty or all-NA columns when determining the result dtypes. To retain the old behavior, exclude the relevant entries before the concat operation.\n",
      "  master_df = pd.concat([master_df, mnas], ignore_index=True)\n",
      "ERROR!!! An error occurred while requesting URL('https://api.refinitiv.com/data/datagrid/beta1/').\n",
      "     ReadTimeout('')\n"
     ]
    },
    {
     "name": "stdout",
     "output_type": "stream",
     "text": [
      "An error occurred: . Retrying for the range 19850116 to 19850118...\n",
      "Start Date: 19850116, End Date: 19850118\n",
      "Downloading data from refinitiv...\n",
      "(47, 71)\n",
      "Master shape: (209, 71)\n",
      "Start Date: 19850119, End Date: 19850121\n",
      "Downloading data from refinitiv...\n"
     ]
    },
    {
     "name": "stderr",
     "output_type": "stream",
     "text": [
      "/var/tmp/ipykernel_10925/3801902500.py:128: FutureWarning: The behavior of DataFrame concatenation with empty or all-NA entries is deprecated. In a future version, this will no longer exclude empty or all-NA columns when determining the result dtypes. To retain the old behavior, exclude the relevant entries before the concat operation.\n",
      "  master_df = pd.concat([master_df, mnas], ignore_index=True)\n"
     ]
    },
    {
     "name": "stdout",
     "output_type": "stream",
     "text": [
      "(19, 71)\n",
      "Master shape: (228, 71)\n",
      "Start Date: 19850122, End Date: 19850124\n",
      "Downloading data from refinitiv...\n"
     ]
    },
    {
     "name": "stderr",
     "output_type": "stream",
     "text": [
      "/var/tmp/ipykernel_10925/3801902500.py:128: FutureWarning: The behavior of DataFrame concatenation with empty or all-NA entries is deprecated. In a future version, this will no longer exclude empty or all-NA columns when determining the result dtypes. To retain the old behavior, exclude the relevant entries before the concat operation.\n",
      "  master_df = pd.concat([master_df, mnas], ignore_index=True)\n"
     ]
    },
    {
     "name": "stdout",
     "output_type": "stream",
     "text": [
      "(27, 71)\n",
      "Master shape: (255, 71)\n",
      "Start Date: 19850125, End Date: 19850127\n",
      "Downloading data from refinitiv...\n",
      "(9, 71)\n",
      "Master shape: (264, 71)\n",
      "Start Date: 19850128, End Date: 19850130\n",
      "Downloading data from refinitiv...\n"
     ]
    },
    {
     "name": "stderr",
     "output_type": "stream",
     "text": [
      "/var/tmp/ipykernel_10925/3801902500.py:128: FutureWarning: The behavior of DataFrame concatenation with empty or all-NA entries is deprecated. In a future version, this will no longer exclude empty or all-NA columns when determining the result dtypes. To retain the old behavior, exclude the relevant entries before the concat operation.\n",
      "  master_df = pd.concat([master_df, mnas], ignore_index=True)\n",
      "/var/tmp/ipykernel_10925/3801902500.py:128: FutureWarning: The behavior of DataFrame concatenation with empty or all-NA entries is deprecated. In a future version, this will no longer exclude empty or all-NA columns when determining the result dtypes. To retain the old behavior, exclude the relevant entries before the concat operation.\n",
      "  master_df = pd.concat([master_df, mnas], ignore_index=True)\n"
     ]
    },
    {
     "name": "stdout",
     "output_type": "stream",
     "text": [
      "(28, 71)\n",
      "Master shape: (292, 71)\n",
      "Start Date: 19850131, End Date: 19850202\n",
      "Downloading data from refinitiv...\n"
     ]
    },
    {
     "name": "stderr",
     "output_type": "stream",
     "text": [
      "/var/tmp/ipykernel_10925/3801902500.py:128: FutureWarning: The behavior of DataFrame concatenation with empty or all-NA entries is deprecated. In a future version, this will no longer exclude empty or all-NA columns when determining the result dtypes. To retain the old behavior, exclude the relevant entries before the concat operation.\n",
      "  master_df = pd.concat([master_df, mnas], ignore_index=True)\n"
     ]
    },
    {
     "name": "stdout",
     "output_type": "stream",
     "text": [
      "(41, 71)\n",
      "Master shape: (333, 71)\n",
      "Start Date: 19850203, End Date: 19850205\n",
      "Downloading data from refinitiv...\n"
     ]
    },
    {
     "name": "stderr",
     "output_type": "stream",
     "text": [
      "/var/tmp/ipykernel_10925/3801902500.py:128: FutureWarning: The behavior of DataFrame concatenation with empty or all-NA entries is deprecated. In a future version, this will no longer exclude empty or all-NA columns when determining the result dtypes. To retain the old behavior, exclude the relevant entries before the concat operation.\n",
      "  master_df = pd.concat([master_df, mnas], ignore_index=True)\n"
     ]
    },
    {
     "name": "stdout",
     "output_type": "stream",
     "text": [
      "(25, 71)\n",
      "Master shape: (358, 71)\n",
      "Start Date: 19850206, End Date: 19850208\n",
      "Downloading data from refinitiv...\n"
     ]
    },
    {
     "name": "stderr",
     "output_type": "stream",
     "text": [
      "/var/tmp/ipykernel_10925/3801902500.py:128: FutureWarning: The behavior of DataFrame concatenation with empty or all-NA entries is deprecated. In a future version, this will no longer exclude empty or all-NA columns when determining the result dtypes. To retain the old behavior, exclude the relevant entries before the concat operation.\n",
      "  master_df = pd.concat([master_df, mnas], ignore_index=True)\n"
     ]
    },
    {
     "name": "stdout",
     "output_type": "stream",
     "text": [
      "(28, 71)\n",
      "Master shape: (386, 71)\n",
      "Start Date: 19850209, End Date: 19850211\n",
      "Downloading data from refinitiv...\n"
     ]
    },
    {
     "name": "stderr",
     "output_type": "stream",
     "text": [
      "/var/tmp/ipykernel_10925/3801902500.py:128: FutureWarning: The behavior of DataFrame concatenation with empty or all-NA entries is deprecated. In a future version, this will no longer exclude empty or all-NA columns when determining the result dtypes. To retain the old behavior, exclude the relevant entries before the concat operation.\n",
      "  master_df = pd.concat([master_df, mnas], ignore_index=True)\n"
     ]
    },
    {
     "name": "stdout",
     "output_type": "stream",
     "text": [
      "(13, 71)\n",
      "Master shape: (399, 71)\n",
      "Start Date: 19850212, End Date: 19850214\n",
      "Downloading data from refinitiv...\n"
     ]
    },
    {
     "name": "stderr",
     "output_type": "stream",
     "text": [
      "/var/tmp/ipykernel_10925/3801902500.py:128: FutureWarning: The behavior of DataFrame concatenation with empty or all-NA entries is deprecated. In a future version, this will no longer exclude empty or all-NA columns when determining the result dtypes. To retain the old behavior, exclude the relevant entries before the concat operation.\n",
      "  master_df = pd.concat([master_df, mnas], ignore_index=True)\n"
     ]
    },
    {
     "name": "stdout",
     "output_type": "stream",
     "text": [
      "(35, 71)\n",
      "Master shape: (434, 71)\n",
      "Start Date: 19850215, End Date: 19850217\n",
      "Downloading data from refinitiv...\n"
     ]
    },
    {
     "name": "stderr",
     "output_type": "stream",
     "text": [
      "/var/tmp/ipykernel_10925/3801902500.py:128: FutureWarning: The behavior of DataFrame concatenation with empty or all-NA entries is deprecated. In a future version, this will no longer exclude empty or all-NA columns when determining the result dtypes. To retain the old behavior, exclude the relevant entries before the concat operation.\n",
      "  master_df = pd.concat([master_df, mnas], ignore_index=True)\n"
     ]
    },
    {
     "name": "stdout",
     "output_type": "stream",
     "text": [
      "(6, 71)\n",
      "Master shape: (440, 71)\n",
      "Start Date: 19850218, End Date: 19850220\n",
      "Downloading data from refinitiv...\n"
     ]
    },
    {
     "name": "stderr",
     "output_type": "stream",
     "text": [
      "/var/tmp/ipykernel_10925/3801902500.py:128: FutureWarning: The behavior of DataFrame concatenation with empty or all-NA entries is deprecated. In a future version, this will no longer exclude empty or all-NA columns when determining the result dtypes. To retain the old behavior, exclude the relevant entries before the concat operation.\n",
      "  master_df = pd.concat([master_df, mnas], ignore_index=True)\n"
     ]
    },
    {
     "name": "stdout",
     "output_type": "stream",
     "text": [
      "(38, 71)\n",
      "Master shape: (478, 71)\n",
      "Start Date: 19850221, End Date: 19850223\n",
      "Downloading data from refinitiv...\n"
     ]
    },
    {
     "name": "stderr",
     "output_type": "stream",
     "text": [
      "/var/tmp/ipykernel_10925/3801902500.py:128: FutureWarning: The behavior of DataFrame concatenation with empty or all-NA entries is deprecated. In a future version, this will no longer exclude empty or all-NA columns when determining the result dtypes. To retain the old behavior, exclude the relevant entries before the concat operation.\n",
      "  master_df = pd.concat([master_df, mnas], ignore_index=True)\n",
      "/var/tmp/ipykernel_10925/3801902500.py:128: FutureWarning: The behavior of DataFrame concatenation with empty or all-NA entries is deprecated. In a future version, this will no longer exclude empty or all-NA columns when determining the result dtypes. To retain the old behavior, exclude the relevant entries before the concat operation.\n",
      "  master_df = pd.concat([master_df, mnas], ignore_index=True)\n"
     ]
    },
    {
     "name": "stdout",
     "output_type": "stream",
     "text": [
      "(19, 71)\n",
      "Master shape: (497, 71)\n",
      "Start Date: 19850224, End Date: 19850226\n",
      "Downloading data from refinitiv...\n"
     ]
    },
    {
     "name": "stderr",
     "output_type": "stream",
     "text": [
      "/var/tmp/ipykernel_10925/3801902500.py:128: FutureWarning: The behavior of DataFrame concatenation with empty or all-NA entries is deprecated. In a future version, this will no longer exclude empty or all-NA columns when determining the result dtypes. To retain the old behavior, exclude the relevant entries before the concat operation.\n",
      "  master_df = pd.concat([master_df, mnas], ignore_index=True)\n",
      "/var/tmp/ipykernel_10925/3801902500.py:128: FutureWarning: The behavior of DataFrame concatenation with empty or all-NA entries is deprecated. In a future version, this will no longer exclude empty or all-NA columns when determining the result dtypes. To retain the old behavior, exclude the relevant entries before the concat operation.\n",
      "  master_df = pd.concat([master_df, mnas], ignore_index=True)\n"
     ]
    },
    {
     "name": "stdout",
     "output_type": "stream",
     "text": [
      "(29, 71)\n",
      "Master shape: (526, 71)\n",
      "Start Date: 19850227, End Date: 19850301\n",
      "Downloading data from refinitiv...\n"
     ]
    },
    {
     "name": "stderr",
     "output_type": "stream",
     "text": [
      "/var/tmp/ipykernel_10925/3801902500.py:128: FutureWarning: The behavior of DataFrame concatenation with empty or all-NA entries is deprecated. In a future version, this will no longer exclude empty or all-NA columns when determining the result dtypes. To retain the old behavior, exclude the relevant entries before the concat operation.\n",
      "  master_df = pd.concat([master_df, mnas], ignore_index=True)\n",
      "/var/tmp/ipykernel_10925/3801902500.py:128: FutureWarning: The behavior of DataFrame concatenation with empty or all-NA entries is deprecated. In a future version, this will no longer exclude empty or all-NA columns when determining the result dtypes. To retain the old behavior, exclude the relevant entries before the concat operation.\n",
      "  master_df = pd.concat([master_df, mnas], ignore_index=True)\n"
     ]
    },
    {
     "name": "stdout",
     "output_type": "stream",
     "text": [
      "(61, 71)\n",
      "Master shape: (587, 71)\n",
      "Appending chunk to BQ\n"
     ]
    },
    {
     "name": "stderr",
     "output_type": "stream",
     "text": [
      "/var/tmp/ipykernel_10925/3801902500.py:128: FutureWarning: The behavior of DataFrame concatenation with empty or all-NA entries is deprecated. In a future version, this will no longer exclude empty or all-NA columns when determining the result dtypes. To retain the old behavior, exclude the relevant entries before the concat operation.\n",
      "  master_df = pd.concat([master_df, mnas], ignore_index=True)\n"
     ]
    },
    {
     "name": "stdout",
     "output_type": "stream",
     "text": [
      "Data appended successfully\n",
      "Start Date: 19850302, End Date: 19850304\n",
      "Downloading data from refinitiv...\n",
      "(12, 71)\n",
      "Master shape: (12, 71)\n",
      "Start Date: 19850305, End Date: 19850307\n",
      "Downloading data from refinitiv...\n",
      "(41, 71)\n",
      "Master shape: (53, 71)\n",
      "Start Date: 19850308, End Date: 19850310\n",
      "Downloading data from refinitiv...\n"
     ]
    },
    {
     "name": "stderr",
     "output_type": "stream",
     "text": [
      "/var/tmp/ipykernel_10925/3801902500.py:128: FutureWarning: The behavior of DataFrame concatenation with empty or all-NA entries is deprecated. In a future version, this will no longer exclude empty or all-NA columns when determining the result dtypes. To retain the old behavior, exclude the relevant entries before the concat operation.\n",
      "  master_df = pd.concat([master_df, mnas], ignore_index=True)\n"
     ]
    },
    {
     "name": "stdout",
     "output_type": "stream",
     "text": [
      "(18, 71)\n",
      "Master shape: (71, 71)\n",
      "Start Date: 19850311, End Date: 19850313\n",
      "Downloading data from refinitiv...\n"
     ]
    },
    {
     "name": "stderr",
     "output_type": "stream",
     "text": [
      "/var/tmp/ipykernel_10925/3801902500.py:128: FutureWarning: The behavior of DataFrame concatenation with empty or all-NA entries is deprecated. In a future version, this will no longer exclude empty or all-NA columns when determining the result dtypes. To retain the old behavior, exclude the relevant entries before the concat operation.\n",
      "  master_df = pd.concat([master_df, mnas], ignore_index=True)\n",
      "ERROR!!! An error occurred while requesting URL('https://api.refinitiv.com/data/datagrid/beta1/').\n",
      "     ReadTimeout('')\n"
     ]
    },
    {
     "name": "stdout",
     "output_type": "stream",
     "text": [
      "An error occurred: . Retrying for the range 19850311 to 19850313...\n",
      "Start Date: 19850311, End Date: 19850313\n",
      "Downloading data from refinitiv...\n",
      "(42, 71)\n",
      "Master shape: (113, 71)\n",
      "Start Date: 19850314, End Date: 19850316\n",
      "Downloading data from refinitiv...\n"
     ]
    },
    {
     "name": "stderr",
     "output_type": "stream",
     "text": [
      "/var/tmp/ipykernel_10925/3801902500.py:128: FutureWarning: The behavior of DataFrame concatenation with empty or all-NA entries is deprecated. In a future version, this will no longer exclude empty or all-NA columns when determining the result dtypes. To retain the old behavior, exclude the relevant entries before the concat operation.\n",
      "  master_df = pd.concat([master_df, mnas], ignore_index=True)\n"
     ]
    },
    {
     "name": "stdout",
     "output_type": "stream",
     "text": [
      "(27, 71)\n",
      "Master shape: (140, 71)\n",
      "Start Date: 19850317, End Date: 19850319\n",
      "Downloading data from refinitiv...\n"
     ]
    },
    {
     "name": "stderr",
     "output_type": "stream",
     "text": [
      "/var/tmp/ipykernel_10925/3801902500.py:128: FutureWarning: The behavior of DataFrame concatenation with empty or all-NA entries is deprecated. In a future version, this will no longer exclude empty or all-NA columns when determining the result dtypes. To retain the old behavior, exclude the relevant entries before the concat operation.\n",
      "  master_df = pd.concat([master_df, mnas], ignore_index=True)\n"
     ]
    },
    {
     "name": "stdout",
     "output_type": "stream",
     "text": [
      "(31, 71)\n",
      "Master shape: (171, 71)\n",
      "Start Date: 19850320, End Date: 19850322\n",
      "Downloading data from refinitiv...\n"
     ]
    },
    {
     "name": "stderr",
     "output_type": "stream",
     "text": [
      "/var/tmp/ipykernel_10925/3801902500.py:128: FutureWarning: The behavior of DataFrame concatenation with empty or all-NA entries is deprecated. In a future version, this will no longer exclude empty or all-NA columns when determining the result dtypes. To retain the old behavior, exclude the relevant entries before the concat operation.\n",
      "  master_df = pd.concat([master_df, mnas], ignore_index=True)\n"
     ]
    },
    {
     "name": "stdout",
     "output_type": "stream",
     "text": [
      "(33, 71)\n",
      "Master shape: (204, 71)\n",
      "Start Date: 19850323, End Date: 19850325\n",
      "Downloading data from refinitiv...\n"
     ]
    },
    {
     "name": "stderr",
     "output_type": "stream",
     "text": [
      "/var/tmp/ipykernel_10925/3801902500.py:128: FutureWarning: The behavior of DataFrame concatenation with empty or all-NA entries is deprecated. In a future version, this will no longer exclude empty or all-NA columns when determining the result dtypes. To retain the old behavior, exclude the relevant entries before the concat operation.\n",
      "  master_df = pd.concat([master_df, mnas], ignore_index=True)\n",
      "ERROR!!! An error occurred while requesting URL('https://api.refinitiv.com/data/datagrid/beta1/').\n",
      "     ReadTimeout('')\n"
     ]
    },
    {
     "name": "stdout",
     "output_type": "stream",
     "text": [
      "An error occurred: . Retrying for the range 19850323 to 19850325...\n",
      "Start Date: 19850323, End Date: 19850325\n",
      "Downloading data from refinitiv...\n",
      "(13, 71)\n",
      "Master shape: (217, 71)\n",
      "Start Date: 19850326, End Date: 19850328\n",
      "Downloading data from refinitiv...\n"
     ]
    },
    {
     "name": "stderr",
     "output_type": "stream",
     "text": [
      "/var/tmp/ipykernel_10925/3801902500.py:128: FutureWarning: The behavior of DataFrame concatenation with empty or all-NA entries is deprecated. In a future version, this will no longer exclude empty or all-NA columns when determining the result dtypes. To retain the old behavior, exclude the relevant entries before the concat operation.\n",
      "  master_df = pd.concat([master_df, mnas], ignore_index=True)\n"
     ]
    },
    {
     "name": "stdout",
     "output_type": "stream",
     "text": [
      "(28, 71)\n",
      "Master shape: (245, 71)\n",
      "Start Date: 19850329, End Date: 19850331\n",
      "Downloading data from refinitiv...\n"
     ]
    },
    {
     "name": "stderr",
     "output_type": "stream",
     "text": [
      "/var/tmp/ipykernel_10925/3801902500.py:128: FutureWarning: The behavior of DataFrame concatenation with empty or all-NA entries is deprecated. In a future version, this will no longer exclude empty or all-NA columns when determining the result dtypes. To retain the old behavior, exclude the relevant entries before the concat operation.\n",
      "  master_df = pd.concat([master_df, mnas], ignore_index=True)\n"
     ]
    },
    {
     "name": "stdout",
     "output_type": "stream",
     "text": [
      "(25, 71)\n",
      "Master shape: (270, 71)\n",
      "Start Date: 19850401, End Date: 19850403\n",
      "Downloading data from refinitiv...\n"
     ]
    },
    {
     "name": "stderr",
     "output_type": "stream",
     "text": [
      "/var/tmp/ipykernel_10925/3801902500.py:128: FutureWarning: The behavior of DataFrame concatenation with empty or all-NA entries is deprecated. In a future version, this will no longer exclude empty or all-NA columns when determining the result dtypes. To retain the old behavior, exclude the relevant entries before the concat operation.\n",
      "  master_df = pd.concat([master_df, mnas], ignore_index=True)\n"
     ]
    },
    {
     "name": "stdout",
     "output_type": "stream",
     "text": [
      "(56, 71)\n",
      "Master shape: (326, 71)\n",
      "Start Date: 19850404, End Date: 19850406\n",
      "Downloading data from refinitiv...\n"
     ]
    },
    {
     "name": "stderr",
     "output_type": "stream",
     "text": [
      "/var/tmp/ipykernel_10925/3801902500.py:128: FutureWarning: The behavior of DataFrame concatenation with empty or all-NA entries is deprecated. In a future version, this will no longer exclude empty or all-NA columns when determining the result dtypes. To retain the old behavior, exclude the relevant entries before the concat operation.\n",
      "  master_df = pd.concat([master_df, mnas], ignore_index=True)\n"
     ]
    },
    {
     "name": "stdout",
     "output_type": "stream",
     "text": [
      "(19, 71)\n",
      "Master shape: (345, 71)\n",
      "Start Date: 19850407, End Date: 19850409\n",
      "Downloading data from refinitiv...\n"
     ]
    },
    {
     "name": "stderr",
     "output_type": "stream",
     "text": [
      "/var/tmp/ipykernel_10925/3801902500.py:128: FutureWarning: The behavior of DataFrame concatenation with empty or all-NA entries is deprecated. In a future version, this will no longer exclude empty or all-NA columns when determining the result dtypes. To retain the old behavior, exclude the relevant entries before the concat operation.\n",
      "  master_df = pd.concat([master_df, mnas], ignore_index=True)\n"
     ]
    },
    {
     "name": "stdout",
     "output_type": "stream",
     "text": [
      "(28, 71)\n",
      "Master shape: (373, 71)\n",
      "Start Date: 19850410, End Date: 19850412\n",
      "Downloading data from refinitiv...\n"
     ]
    },
    {
     "name": "stderr",
     "output_type": "stream",
     "text": [
      "/var/tmp/ipykernel_10925/3801902500.py:128: FutureWarning: The behavior of DataFrame concatenation with empty or all-NA entries is deprecated. In a future version, this will no longer exclude empty or all-NA columns when determining the result dtypes. To retain the old behavior, exclude the relevant entries before the concat operation.\n",
      "  master_df = pd.concat([master_df, mnas], ignore_index=True)\n"
     ]
    },
    {
     "name": "stdout",
     "output_type": "stream",
     "text": [
      "(36, 71)\n",
      "Master shape: (409, 71)\n",
      "Start Date: 19850413, End Date: 19850415\n",
      "Downloading data from refinitiv...\n"
     ]
    },
    {
     "name": "stderr",
     "output_type": "stream",
     "text": [
      "/var/tmp/ipykernel_10925/3801902500.py:128: FutureWarning: The behavior of DataFrame concatenation with empty or all-NA entries is deprecated. In a future version, this will no longer exclude empty or all-NA columns when determining the result dtypes. To retain the old behavior, exclude the relevant entries before the concat operation.\n",
      "  master_df = pd.concat([master_df, mnas], ignore_index=True)\n"
     ]
    },
    {
     "name": "stdout",
     "output_type": "stream",
     "text": [
      "(13, 71)\n",
      "Master shape: (422, 71)\n",
      "Start Date: 19850416, End Date: 19850418\n",
      "Downloading data from refinitiv...\n"
     ]
    },
    {
     "name": "stderr",
     "output_type": "stream",
     "text": [
      "/var/tmp/ipykernel_10925/3801902500.py:128: FutureWarning: The behavior of DataFrame concatenation with empty or all-NA entries is deprecated. In a future version, this will no longer exclude empty or all-NA columns when determining the result dtypes. To retain the old behavior, exclude the relevant entries before the concat operation.\n",
      "  master_df = pd.concat([master_df, mnas], ignore_index=True)\n"
     ]
    },
    {
     "name": "stdout",
     "output_type": "stream",
     "text": [
      "(22, 71)\n",
      "Master shape: (444, 71)\n",
      "Start Date: 19850419, End Date: 19850421\n",
      "Downloading data from refinitiv...\n"
     ]
    },
    {
     "name": "stderr",
     "output_type": "stream",
     "text": [
      "/var/tmp/ipykernel_10925/3801902500.py:128: FutureWarning: The behavior of DataFrame concatenation with empty or all-NA entries is deprecated. In a future version, this will no longer exclude empty or all-NA columns when determining the result dtypes. To retain the old behavior, exclude the relevant entries before the concat operation.\n",
      "  master_df = pd.concat([master_df, mnas], ignore_index=True)\n"
     ]
    },
    {
     "name": "stdout",
     "output_type": "stream",
     "text": [
      "(20, 71)\n",
      "Master shape: (464, 71)\n",
      "Start Date: 19850422, End Date: 19850424\n",
      "Downloading data from refinitiv...\n"
     ]
    },
    {
     "name": "stderr",
     "output_type": "stream",
     "text": [
      "/var/tmp/ipykernel_10925/3801902500.py:128: FutureWarning: The behavior of DataFrame concatenation with empty or all-NA entries is deprecated. In a future version, this will no longer exclude empty or all-NA columns when determining the result dtypes. To retain the old behavior, exclude the relevant entries before the concat operation.\n",
      "  master_df = pd.concat([master_df, mnas], ignore_index=True)\n"
     ]
    },
    {
     "name": "stdout",
     "output_type": "stream",
     "text": [
      "(37, 71)\n",
      "Master shape: (501, 71)\n",
      "Start Date: 19850425, End Date: 19850427\n",
      "Downloading data from refinitiv...\n"
     ]
    },
    {
     "name": "stderr",
     "output_type": "stream",
     "text": [
      "/var/tmp/ipykernel_10925/3801902500.py:128: FutureWarning: The behavior of DataFrame concatenation with empty or all-NA entries is deprecated. In a future version, this will no longer exclude empty or all-NA columns when determining the result dtypes. To retain the old behavior, exclude the relevant entries before the concat operation.\n",
      "  master_df = pd.concat([master_df, mnas], ignore_index=True)\n"
     ]
    },
    {
     "name": "stdout",
     "output_type": "stream",
     "text": [
      "(41, 71)\n",
      "Master shape: (542, 71)\n",
      "Start Date: 19850428, End Date: 19850430\n",
      "Downloading data from refinitiv...\n"
     ]
    },
    {
     "name": "stderr",
     "output_type": "stream",
     "text": [
      "/var/tmp/ipykernel_10925/3801902500.py:128: FutureWarning: The behavior of DataFrame concatenation with empty or all-NA entries is deprecated. In a future version, this will no longer exclude empty or all-NA columns when determining the result dtypes. To retain the old behavior, exclude the relevant entries before the concat operation.\n",
      "  master_df = pd.concat([master_df, mnas], ignore_index=True)\n"
     ]
    },
    {
     "name": "stdout",
     "output_type": "stream",
     "text": [
      "(51, 71)\n",
      "Master shape: (593, 71)\n",
      "Appending chunk to BQ\n"
     ]
    },
    {
     "name": "stderr",
     "output_type": "stream",
     "text": [
      "/var/tmp/ipykernel_10925/3801902500.py:128: FutureWarning: The behavior of DataFrame concatenation with empty or all-NA entries is deprecated. In a future version, this will no longer exclude empty or all-NA columns when determining the result dtypes. To retain the old behavior, exclude the relevant entries before the concat operation.\n",
      "  master_df = pd.concat([master_df, mnas], ignore_index=True)\n"
     ]
    },
    {
     "name": "stdout",
     "output_type": "stream",
     "text": [
      "Data appended successfully\n",
      "Start Date: 19850501, End Date: 19850503\n",
      "Downloading data from refinitiv...\n"
     ]
    },
    {
     "name": "stderr",
     "output_type": "stream",
     "text": [
      "ERROR!!! An error occurred while requesting URL('https://api.refinitiv.com/data/datagrid/beta1/').\n",
      "     ReadTimeout('')\n"
     ]
    },
    {
     "name": "stdout",
     "output_type": "stream",
     "text": [
      "An error occurred: . Retrying for the range 19850501 to 19850503...\n",
      "Start Date: 19850501, End Date: 19850503\n",
      "Downloading data from refinitiv...\n",
      "(25, 71)\n",
      "Master shape: (25, 71)\n",
      "Start Date: 19850504, End Date: 19850506\n",
      "Downloading data from refinitiv...\n",
      "(23, 71)\n",
      "Master shape: (48, 71)\n",
      "Start Date: 19850507, End Date: 19850509\n",
      "Downloading data from refinitiv...\n"
     ]
    },
    {
     "name": "stderr",
     "output_type": "stream",
     "text": [
      "/var/tmp/ipykernel_10925/3801902500.py:128: FutureWarning: The behavior of DataFrame concatenation with empty or all-NA entries is deprecated. In a future version, this will no longer exclude empty or all-NA columns when determining the result dtypes. To retain the old behavior, exclude the relevant entries before the concat operation.\n",
      "  master_df = pd.concat([master_df, mnas], ignore_index=True)\n"
     ]
    },
    {
     "name": "stdout",
     "output_type": "stream",
     "text": [
      "(41, 71)\n",
      "Master shape: (89, 71)\n",
      "Start Date: 19850510, End Date: 19850512\n",
      "Downloading data from refinitiv...\n"
     ]
    },
    {
     "name": "stderr",
     "output_type": "stream",
     "text": [
      "/var/tmp/ipykernel_10925/3801902500.py:128: FutureWarning: The behavior of DataFrame concatenation with empty or all-NA entries is deprecated. In a future version, this will no longer exclude empty or all-NA columns when determining the result dtypes. To retain the old behavior, exclude the relevant entries before the concat operation.\n",
      "  master_df = pd.concat([master_df, mnas], ignore_index=True)\n"
     ]
    },
    {
     "name": "stdout",
     "output_type": "stream",
     "text": [
      "(9, 71)\n",
      "Master shape: (98, 71)\n",
      "Start Date: 19850513, End Date: 19850515\n",
      "Downloading data from refinitiv...\n"
     ]
    },
    {
     "name": "stderr",
     "output_type": "stream",
     "text": [
      "/var/tmp/ipykernel_10925/3801902500.py:128: FutureWarning: The behavior of DataFrame concatenation with empty or all-NA entries is deprecated. In a future version, this will no longer exclude empty or all-NA columns when determining the result dtypes. To retain the old behavior, exclude the relevant entries before the concat operation.\n",
      "  master_df = pd.concat([master_df, mnas], ignore_index=True)\n"
     ]
    },
    {
     "name": "stdout",
     "output_type": "stream",
     "text": [
      "(34, 71)\n",
      "Master shape: (132, 71)\n",
      "Start Date: 19850516, End Date: 19850518\n",
      "Downloading data from refinitiv...\n"
     ]
    },
    {
     "name": "stderr",
     "output_type": "stream",
     "text": [
      "/var/tmp/ipykernel_10925/3801902500.py:128: FutureWarning: The behavior of DataFrame concatenation with empty or all-NA entries is deprecated. In a future version, this will no longer exclude empty or all-NA columns when determining the result dtypes. To retain the old behavior, exclude the relevant entries before the concat operation.\n",
      "  master_df = pd.concat([master_df, mnas], ignore_index=True)\n"
     ]
    },
    {
     "name": "stdout",
     "output_type": "stream",
     "text": [
      "(14, 71)\n",
      "Master shape: (146, 71)\n",
      "Start Date: 19850519, End Date: 19850521\n",
      "Downloading data from refinitiv...\n"
     ]
    },
    {
     "name": "stderr",
     "output_type": "stream",
     "text": [
      "/var/tmp/ipykernel_10925/3801902500.py:128: FutureWarning: The behavior of DataFrame concatenation with empty or all-NA entries is deprecated. In a future version, this will no longer exclude empty or all-NA columns when determining the result dtypes. To retain the old behavior, exclude the relevant entries before the concat operation.\n",
      "  master_df = pd.concat([master_df, mnas], ignore_index=True)\n",
      "ERROR!!! An error occurred while requesting URL('https://api.refinitiv.com/data/datagrid/beta1/').\n",
      "     ReadTimeout('')\n"
     ]
    },
    {
     "name": "stdout",
     "output_type": "stream",
     "text": [
      "An error occurred: . Retrying for the range 19850519 to 19850521...\n",
      "Start Date: 19850519, End Date: 19850521\n",
      "Downloading data from refinitiv...\n"
     ]
    },
    {
     "name": "stderr",
     "output_type": "stream",
     "text": [
      "ERROR!!! An error occurred while requesting URL('https://api.refinitiv.com/data/datagrid/beta1/').\n",
      "     ReadTimeout('')\n"
     ]
    },
    {
     "name": "stdout",
     "output_type": "stream",
     "text": [
      "An error occurred: . Retrying for the range 19850519 to 19850521...\n",
      "Start Date: 19850519, End Date: 19850521\n",
      "Downloading data from refinitiv...\n",
      "(21, 71)\n",
      "Master shape: (167, 71)\n",
      "Start Date: 19850522, End Date: 19850524\n",
      "Downloading data from refinitiv...\n"
     ]
    },
    {
     "name": "stderr",
     "output_type": "stream",
     "text": [
      "/var/tmp/ipykernel_10925/3801902500.py:128: FutureWarning: The behavior of DataFrame concatenation with empty or all-NA entries is deprecated. In a future version, this will no longer exclude empty or all-NA columns when determining the result dtypes. To retain the old behavior, exclude the relevant entries before the concat operation.\n",
      "  master_df = pd.concat([master_df, mnas], ignore_index=True)\n"
     ]
    },
    {
     "name": "stdout",
     "output_type": "stream",
     "text": [
      "(24, 71)\n",
      "Master shape: (191, 71)\n",
      "Start Date: 19850525, End Date: 19850527\n",
      "Downloading data from refinitiv...\n"
     ]
    },
    {
     "name": "stderr",
     "output_type": "stream",
     "text": [
      "/var/tmp/ipykernel_10925/3801902500.py:128: FutureWarning: The behavior of DataFrame concatenation with empty or all-NA entries is deprecated. In a future version, this will no longer exclude empty or all-NA columns when determining the result dtypes. To retain the old behavior, exclude the relevant entries before the concat operation.\n",
      "  master_df = pd.concat([master_df, mnas], ignore_index=True)\n"
     ]
    },
    {
     "name": "stdout",
     "output_type": "stream",
     "text": [
      "(5, 71)\n",
      "Master shape: (196, 71)\n",
      "Start Date: 19850528, End Date: 19850530\n",
      "Downloading data from refinitiv...\n"
     ]
    },
    {
     "name": "stderr",
     "output_type": "stream",
     "text": [
      "/var/tmp/ipykernel_10925/3801902500.py:128: FutureWarning: The behavior of DataFrame concatenation with empty or all-NA entries is deprecated. In a future version, this will no longer exclude empty or all-NA columns when determining the result dtypes. To retain the old behavior, exclude the relevant entries before the concat operation.\n",
      "  master_df = pd.concat([master_df, mnas], ignore_index=True)\n",
      "/var/tmp/ipykernel_10925/3801902500.py:128: FutureWarning: The behavior of DataFrame concatenation with empty or all-NA entries is deprecated. In a future version, this will no longer exclude empty or all-NA columns when determining the result dtypes. To retain the old behavior, exclude the relevant entries before the concat operation.\n",
      "  master_df = pd.concat([master_df, mnas], ignore_index=True)\n"
     ]
    },
    {
     "name": "stdout",
     "output_type": "stream",
     "text": [
      "(60, 71)\n",
      "Master shape: (256, 71)\n",
      "Start Date: 19850531, End Date: 19850602\n",
      "Downloading data from refinitiv...\n"
     ]
    },
    {
     "name": "stderr",
     "output_type": "stream",
     "text": [
      "/var/tmp/ipykernel_10925/3801902500.py:128: FutureWarning: The behavior of DataFrame concatenation with empty or all-NA entries is deprecated. In a future version, this will no longer exclude empty or all-NA columns when determining the result dtypes. To retain the old behavior, exclude the relevant entries before the concat operation.\n",
      "  master_df = pd.concat([master_df, mnas], ignore_index=True)\n"
     ]
    },
    {
     "name": "stdout",
     "output_type": "stream",
     "text": [
      "(14, 71)\n",
      "Master shape: (270, 71)\n",
      "Start Date: 19850603, End Date: 19850605\n",
      "Downloading data from refinitiv...\n"
     ]
    },
    {
     "name": "stderr",
     "output_type": "stream",
     "text": [
      "/var/tmp/ipykernel_10925/3801902500.py:128: FutureWarning: The behavior of DataFrame concatenation with empty or all-NA entries is deprecated. In a future version, this will no longer exclude empty or all-NA columns when determining the result dtypes. To retain the old behavior, exclude the relevant entries before the concat operation.\n",
      "  master_df = pd.concat([master_df, mnas], ignore_index=True)\n"
     ]
    },
    {
     "name": "stdout",
     "output_type": "stream",
     "text": [
      "(37, 71)\n",
      "Master shape: (307, 71)\n",
      "Start Date: 19850606, End Date: 19850608\n",
      "Downloading data from refinitiv...\n"
     ]
    },
    {
     "name": "stderr",
     "output_type": "stream",
     "text": [
      "/var/tmp/ipykernel_10925/3801902500.py:128: FutureWarning: The behavior of DataFrame concatenation with empty or all-NA entries is deprecated. In a future version, this will no longer exclude empty or all-NA columns when determining the result dtypes. To retain the old behavior, exclude the relevant entries before the concat operation.\n",
      "  master_df = pd.concat([master_df, mnas], ignore_index=True)\n"
     ]
    },
    {
     "name": "stdout",
     "output_type": "stream",
     "text": [
      "(18, 71)\n",
      "Master shape: (325, 71)\n",
      "Start Date: 19850609, End Date: 19850611\n",
      "Downloading data from refinitiv...\n"
     ]
    },
    {
     "name": "stderr",
     "output_type": "stream",
     "text": [
      "/var/tmp/ipykernel_10925/3801902500.py:128: FutureWarning: The behavior of DataFrame concatenation with empty or all-NA entries is deprecated. In a future version, this will no longer exclude empty or all-NA columns when determining the result dtypes. To retain the old behavior, exclude the relevant entries before the concat operation.\n",
      "  master_df = pd.concat([master_df, mnas], ignore_index=True)\n"
     ]
    },
    {
     "name": "stdout",
     "output_type": "stream",
     "text": [
      "(29, 71)\n",
      "Master shape: (354, 71)\n",
      "Start Date: 19850612, End Date: 19850614\n",
      "Downloading data from refinitiv...\n"
     ]
    },
    {
     "name": "stderr",
     "output_type": "stream",
     "text": [
      "/var/tmp/ipykernel_10925/3801902500.py:128: FutureWarning: The behavior of DataFrame concatenation with empty or all-NA entries is deprecated. In a future version, this will no longer exclude empty or all-NA columns when determining the result dtypes. To retain the old behavior, exclude the relevant entries before the concat operation.\n",
      "  master_df = pd.concat([master_df, mnas], ignore_index=True)\n"
     ]
    },
    {
     "name": "stdout",
     "output_type": "stream",
     "text": [
      "(35, 71)\n",
      "Master shape: (389, 71)\n",
      "Start Date: 19850615, End Date: 19850617\n",
      "Downloading data from refinitiv...\n"
     ]
    },
    {
     "name": "stderr",
     "output_type": "stream",
     "text": [
      "/var/tmp/ipykernel_10925/3801902500.py:128: FutureWarning: The behavior of DataFrame concatenation with empty or all-NA entries is deprecated. In a future version, this will no longer exclude empty or all-NA columns when determining the result dtypes. To retain the old behavior, exclude the relevant entries before the concat operation.\n",
      "  master_df = pd.concat([master_df, mnas], ignore_index=True)\n"
     ]
    },
    {
     "name": "stdout",
     "output_type": "stream",
     "text": [
      "(11, 71)\n",
      "Master shape: (400, 71)\n",
      "Start Date: 19850618, End Date: 19850620\n",
      "Downloading data from refinitiv...\n"
     ]
    },
    {
     "name": "stderr",
     "output_type": "stream",
     "text": [
      "/var/tmp/ipykernel_10925/3801902500.py:128: FutureWarning: The behavior of DataFrame concatenation with empty or all-NA entries is deprecated. In a future version, this will no longer exclude empty or all-NA columns when determining the result dtypes. To retain the old behavior, exclude the relevant entries before the concat operation.\n",
      "  master_df = pd.concat([master_df, mnas], ignore_index=True)\n"
     ]
    },
    {
     "name": "stdout",
     "output_type": "stream",
     "text": [
      "(39, 71)\n",
      "Master shape: (439, 71)\n",
      "Start Date: 19850621, End Date: 19850623\n",
      "Downloading data from refinitiv...\n"
     ]
    },
    {
     "name": "stderr",
     "output_type": "stream",
     "text": [
      "/var/tmp/ipykernel_10925/3801902500.py:128: FutureWarning: The behavior of DataFrame concatenation with empty or all-NA entries is deprecated. In a future version, this will no longer exclude empty or all-NA columns when determining the result dtypes. To retain the old behavior, exclude the relevant entries before the concat operation.\n",
      "  master_df = pd.concat([master_df, mnas], ignore_index=True)\n"
     ]
    },
    {
     "name": "stdout",
     "output_type": "stream",
     "text": [
      "(14, 71)\n",
      "Master shape: (453, 71)\n",
      "Start Date: 19850624, End Date: 19850626\n",
      "Downloading data from refinitiv...\n"
     ]
    },
    {
     "name": "stderr",
     "output_type": "stream",
     "text": [
      "/var/tmp/ipykernel_10925/3801902500.py:128: FutureWarning: The behavior of DataFrame concatenation with empty or all-NA entries is deprecated. In a future version, this will no longer exclude empty or all-NA columns when determining the result dtypes. To retain the old behavior, exclude the relevant entries before the concat operation.\n",
      "  master_df = pd.concat([master_df, mnas], ignore_index=True)\n"
     ]
    },
    {
     "name": "stdout",
     "output_type": "stream",
     "text": [
      "(33, 71)\n",
      "Master shape: (486, 71)\n",
      "Start Date: 19850627, End Date: 19850629\n",
      "Downloading data from refinitiv...\n"
     ]
    },
    {
     "name": "stderr",
     "output_type": "stream",
     "text": [
      "/var/tmp/ipykernel_10925/3801902500.py:128: FutureWarning: The behavior of DataFrame concatenation with empty or all-NA entries is deprecated. In a future version, this will no longer exclude empty or all-NA columns when determining the result dtypes. To retain the old behavior, exclude the relevant entries before the concat operation.\n",
      "  master_df = pd.concat([master_df, mnas], ignore_index=True)\n"
     ]
    },
    {
     "name": "stdout",
     "output_type": "stream",
     "text": [
      "(33, 71)\n",
      "Master shape: (519, 71)\n",
      "Appending chunk to BQ\n"
     ]
    },
    {
     "name": "stderr",
     "output_type": "stream",
     "text": [
      "/var/tmp/ipykernel_10925/3801902500.py:128: FutureWarning: The behavior of DataFrame concatenation with empty or all-NA entries is deprecated. In a future version, this will no longer exclude empty or all-NA columns when determining the result dtypes. To retain the old behavior, exclude the relevant entries before the concat operation.\n",
      "  master_df = pd.concat([master_df, mnas], ignore_index=True)\n"
     ]
    },
    {
     "name": "stdout",
     "output_type": "stream",
     "text": [
      "Data appended successfully\n",
      "Start Date: 19850630, End Date: 19850702\n",
      "Downloading data from refinitiv...\n",
      "(37, 71)\n",
      "Master shape: (37, 71)\n",
      "Start Date: 19850703, End Date: 19850705\n",
      "Downloading data from refinitiv...\n",
      "(28, 71)\n",
      "Master shape: (65, 71)\n",
      "Start Date: 19850706, End Date: 19850708\n",
      "Downloading data from refinitiv...\n"
     ]
    },
    {
     "name": "stderr",
     "output_type": "stream",
     "text": [
      "/var/tmp/ipykernel_10925/3801902500.py:128: FutureWarning: The behavior of DataFrame concatenation with empty or all-NA entries is deprecated. In a future version, this will no longer exclude empty or all-NA columns when determining the result dtypes. To retain the old behavior, exclude the relevant entries before the concat operation.\n",
      "  master_df = pd.concat([master_df, mnas], ignore_index=True)\n"
     ]
    },
    {
     "name": "stdout",
     "output_type": "stream",
     "text": [
      "(17, 71)\n",
      "Master shape: (82, 71)\n",
      "Start Date: 19850709, End Date: 19850711\n",
      "Downloading data from refinitiv...\n"
     ]
    },
    {
     "name": "stderr",
     "output_type": "stream",
     "text": [
      "/var/tmp/ipykernel_10925/3801902500.py:128: FutureWarning: The behavior of DataFrame concatenation with empty or all-NA entries is deprecated. In a future version, this will no longer exclude empty or all-NA columns when determining the result dtypes. To retain the old behavior, exclude the relevant entries before the concat operation.\n",
      "  master_df = pd.concat([master_df, mnas], ignore_index=True)\n"
     ]
    },
    {
     "name": "stdout",
     "output_type": "stream",
     "text": [
      "(32, 71)\n",
      "Master shape: (114, 71)\n",
      "Start Date: 19850712, End Date: 19850714\n",
      "Downloading data from refinitiv...\n"
     ]
    },
    {
     "name": "stderr",
     "output_type": "stream",
     "text": [
      "/var/tmp/ipykernel_10925/3801902500.py:128: FutureWarning: The behavior of DataFrame concatenation with empty or all-NA entries is deprecated. In a future version, this will no longer exclude empty or all-NA columns when determining the result dtypes. To retain the old behavior, exclude the relevant entries before the concat operation.\n",
      "  master_df = pd.concat([master_df, mnas], ignore_index=True)\n"
     ]
    },
    {
     "name": "stdout",
     "output_type": "stream",
     "text": [
      "(6, 71)\n",
      "Master shape: (120, 71)\n",
      "Start Date: 19850715, End Date: 19850717\n",
      "Downloading data from refinitiv...\n"
     ]
    },
    {
     "name": "stderr",
     "output_type": "stream",
     "text": [
      "/var/tmp/ipykernel_10925/3801902500.py:128: FutureWarning: The behavior of DataFrame concatenation with empty or all-NA entries is deprecated. In a future version, this will no longer exclude empty or all-NA columns when determining the result dtypes. To retain the old behavior, exclude the relevant entries before the concat operation.\n",
      "  master_df = pd.concat([master_df, mnas], ignore_index=True)\n",
      "ERROR!!! An error occurred while requesting URL('https://api.refinitiv.com/data/datagrid/beta1/').\n",
      "     ReadTimeout('')\n"
     ]
    },
    {
     "name": "stdout",
     "output_type": "stream",
     "text": [
      "An error occurred: . Retrying for the range 19850715 to 19850717...\n",
      "Start Date: 19850715, End Date: 19850717\n",
      "Downloading data from refinitiv...\n",
      "(18, 71)\n",
      "Master shape: (138, 71)\n",
      "Start Date: 19850718, End Date: 19850720\n",
      "Downloading data from refinitiv...\n"
     ]
    },
    {
     "name": "stderr",
     "output_type": "stream",
     "text": [
      "/var/tmp/ipykernel_10925/3801902500.py:128: FutureWarning: The behavior of DataFrame concatenation with empty or all-NA entries is deprecated. In a future version, this will no longer exclude empty or all-NA columns when determining the result dtypes. To retain the old behavior, exclude the relevant entries before the concat operation.\n",
      "  master_df = pd.concat([master_df, mnas], ignore_index=True)\n"
     ]
    },
    {
     "name": "stdout",
     "output_type": "stream",
     "text": [
      "(18, 71)\n",
      "Master shape: (156, 71)\n",
      "Start Date: 19850721, End Date: 19850723\n",
      "Downloading data from refinitiv...\n"
     ]
    },
    {
     "name": "stderr",
     "output_type": "stream",
     "text": [
      "/var/tmp/ipykernel_10925/3801902500.py:128: FutureWarning: The behavior of DataFrame concatenation with empty or all-NA entries is deprecated. In a future version, this will no longer exclude empty or all-NA columns when determining the result dtypes. To retain the old behavior, exclude the relevant entries before the concat operation.\n",
      "  master_df = pd.concat([master_df, mnas], ignore_index=True)\n"
     ]
    },
    {
     "name": "stdout",
     "output_type": "stream",
     "text": [
      "(24, 71)\n",
      "Master shape: (180, 71)\n",
      "Start Date: 19850724, End Date: 19850726\n",
      "Downloading data from refinitiv...\n"
     ]
    },
    {
     "name": "stderr",
     "output_type": "stream",
     "text": [
      "/var/tmp/ipykernel_10925/3801902500.py:128: FutureWarning: The behavior of DataFrame concatenation with empty or all-NA entries is deprecated. In a future version, this will no longer exclude empty or all-NA columns when determining the result dtypes. To retain the old behavior, exclude the relevant entries before the concat operation.\n",
      "  master_df = pd.concat([master_df, mnas], ignore_index=True)\n"
     ]
    },
    {
     "name": "stdout",
     "output_type": "stream",
     "text": [
      "(36, 71)\n",
      "Master shape: (216, 71)\n",
      "Start Date: 19850727, End Date: 19850729\n",
      "Downloading data from refinitiv...\n"
     ]
    },
    {
     "name": "stderr",
     "output_type": "stream",
     "text": [
      "/var/tmp/ipykernel_10925/3801902500.py:128: FutureWarning: The behavior of DataFrame concatenation with empty or all-NA entries is deprecated. In a future version, this will no longer exclude empty or all-NA columns when determining the result dtypes. To retain the old behavior, exclude the relevant entries before the concat operation.\n",
      "  master_df = pd.concat([master_df, mnas], ignore_index=True)\n"
     ]
    },
    {
     "name": "stdout",
     "output_type": "stream",
     "text": [
      "(14, 71)\n",
      "Master shape: (230, 71)\n",
      "Start Date: 19850730, End Date: 19850801\n",
      "Downloading data from refinitiv...\n"
     ]
    },
    {
     "name": "stderr",
     "output_type": "stream",
     "text": [
      "/var/tmp/ipykernel_10925/3801902500.py:128: FutureWarning: The behavior of DataFrame concatenation with empty or all-NA entries is deprecated. In a future version, this will no longer exclude empty or all-NA columns when determining the result dtypes. To retain the old behavior, exclude the relevant entries before the concat operation.\n",
      "  master_df = pd.concat([master_df, mnas], ignore_index=True)\n"
     ]
    },
    {
     "name": "stdout",
     "output_type": "stream",
     "text": [
      "(53, 71)\n",
      "Master shape: (283, 71)\n",
      "Start Date: 19850802, End Date: 19850804\n",
      "Downloading data from refinitiv...\n"
     ]
    },
    {
     "name": "stderr",
     "output_type": "stream",
     "text": [
      "/var/tmp/ipykernel_10925/3801902500.py:128: FutureWarning: The behavior of DataFrame concatenation with empty or all-NA entries is deprecated. In a future version, this will no longer exclude empty or all-NA columns when determining the result dtypes. To retain the old behavior, exclude the relevant entries before the concat operation.\n",
      "  master_df = pd.concat([master_df, mnas], ignore_index=True)\n"
     ]
    },
    {
     "name": "stdout",
     "output_type": "stream",
     "text": [
      "(18, 71)\n",
      "Master shape: (301, 71)\n",
      "Start Date: 19850805, End Date: 19850807\n",
      "Downloading data from refinitiv...\n"
     ]
    },
    {
     "name": "stderr",
     "output_type": "stream",
     "text": [
      "/var/tmp/ipykernel_10925/3801902500.py:128: FutureWarning: The behavior of DataFrame concatenation with empty or all-NA entries is deprecated. In a future version, this will no longer exclude empty or all-NA columns when determining the result dtypes. To retain the old behavior, exclude the relevant entries before the concat operation.\n",
      "  master_df = pd.concat([master_df, mnas], ignore_index=True)\n"
     ]
    },
    {
     "name": "stdout",
     "output_type": "stream",
     "text": [
      "(35, 71)\n",
      "Master shape: (336, 71)\n",
      "Start Date: 19850808, End Date: 19850810\n",
      "Downloading data from refinitiv...\n"
     ]
    },
    {
     "name": "stderr",
     "output_type": "stream",
     "text": [
      "/var/tmp/ipykernel_10925/3801902500.py:128: FutureWarning: The behavior of DataFrame concatenation with empty or all-NA entries is deprecated. In a future version, this will no longer exclude empty or all-NA columns when determining the result dtypes. To retain the old behavior, exclude the relevant entries before the concat operation.\n",
      "  master_df = pd.concat([master_df, mnas], ignore_index=True)\n",
      "ERROR!!! An error occurred while requesting URL('https://api.refinitiv.com/data/datagrid/beta1/').\n",
      "     ReadTimeout('')\n"
     ]
    },
    {
     "name": "stdout",
     "output_type": "stream",
     "text": [
      "An error occurred: . Retrying for the range 19850808 to 19850810...\n",
      "Start Date: 19850808, End Date: 19850810\n",
      "Downloading data from refinitiv...\n",
      "(23, 71)\n",
      "Master shape: (359, 71)\n",
      "Start Date: 19850811, End Date: 19850813\n",
      "Downloading data from refinitiv...\n"
     ]
    },
    {
     "name": "stderr",
     "output_type": "stream",
     "text": [
      "/var/tmp/ipykernel_10925/3801902500.py:128: FutureWarning: The behavior of DataFrame concatenation with empty or all-NA entries is deprecated. In a future version, this will no longer exclude empty or all-NA columns when determining the result dtypes. To retain the old behavior, exclude the relevant entries before the concat operation.\n",
      "  master_df = pd.concat([master_df, mnas], ignore_index=True)\n"
     ]
    },
    {
     "name": "stdout",
     "output_type": "stream",
     "text": [
      "(34, 71)\n",
      "Master shape: (393, 71)\n",
      "Start Date: 19850814, End Date: 19850816\n",
      "Downloading data from refinitiv...\n",
      "(36, 71)\n",
      "Master shape: (429, 71)\n",
      "Start Date: 19850817, End Date: 19850819\n",
      "Downloading data from refinitiv...\n"
     ]
    },
    {
     "name": "stderr",
     "output_type": "stream",
     "text": [
      "/var/tmp/ipykernel_10925/3801902500.py:128: FutureWarning: The behavior of DataFrame concatenation with empty or all-NA entries is deprecated. In a future version, this will no longer exclude empty or all-NA columns when determining the result dtypes. To retain the old behavior, exclude the relevant entries before the concat operation.\n",
      "  master_df = pd.concat([master_df, mnas], ignore_index=True)\n"
     ]
    },
    {
     "name": "stdout",
     "output_type": "stream",
     "text": [
      "(12, 71)\n",
      "Master shape: (441, 71)\n",
      "Start Date: 19850820, End Date: 19850822\n",
      "Downloading data from refinitiv...\n"
     ]
    },
    {
     "name": "stderr",
     "output_type": "stream",
     "text": [
      "/var/tmp/ipykernel_10925/3801902500.py:128: FutureWarning: The behavior of DataFrame concatenation with empty or all-NA entries is deprecated. In a future version, this will no longer exclude empty or all-NA columns when determining the result dtypes. To retain the old behavior, exclude the relevant entries before the concat operation.\n",
      "  master_df = pd.concat([master_df, mnas], ignore_index=True)\n"
     ]
    },
    {
     "name": "stdout",
     "output_type": "stream",
     "text": [
      "(43, 71)\n",
      "Master shape: (484, 71)\n",
      "Start Date: 19850823, End Date: 19850825\n",
      "Downloading data from refinitiv...\n"
     ]
    },
    {
     "name": "stderr",
     "output_type": "stream",
     "text": [
      "/var/tmp/ipykernel_10925/3801902500.py:128: FutureWarning: The behavior of DataFrame concatenation with empty or all-NA entries is deprecated. In a future version, this will no longer exclude empty or all-NA columns when determining the result dtypes. To retain the old behavior, exclude the relevant entries before the concat operation.\n",
      "  master_df = pd.concat([master_df, mnas], ignore_index=True)\n"
     ]
    },
    {
     "name": "stdout",
     "output_type": "stream",
     "text": [
      "(9, 71)\n",
      "Master shape: (493, 71)\n",
      "Start Date: 19850826, End Date: 19850828\n",
      "Downloading data from refinitiv...\n"
     ]
    },
    {
     "name": "stderr",
     "output_type": "stream",
     "text": [
      "/var/tmp/ipykernel_10925/3801902500.py:128: FutureWarning: The behavior of DataFrame concatenation with empty or all-NA entries is deprecated. In a future version, this will no longer exclude empty or all-NA columns when determining the result dtypes. To retain the old behavior, exclude the relevant entries before the concat operation.\n",
      "  master_df = pd.concat([master_df, mnas], ignore_index=True)\n"
     ]
    },
    {
     "name": "stdout",
     "output_type": "stream",
     "text": [
      "(35, 71)\n",
      "Master shape: (528, 71)\n",
      "Appending chunk to BQ\n"
     ]
    },
    {
     "name": "stderr",
     "output_type": "stream",
     "text": [
      "/var/tmp/ipykernel_10925/3801902500.py:128: FutureWarning: The behavior of DataFrame concatenation with empty or all-NA entries is deprecated. In a future version, this will no longer exclude empty or all-NA columns when determining the result dtypes. To retain the old behavior, exclude the relevant entries before the concat operation.\n",
      "  master_df = pd.concat([master_df, mnas], ignore_index=True)\n"
     ]
    },
    {
     "name": "stdout",
     "output_type": "stream",
     "text": [
      "Data appended successfully\n",
      "Start Date: 19850829, End Date: 19850831\n",
      "Downloading data from refinitiv...\n",
      "(21, 71)\n",
      "Master shape: (21, 71)\n",
      "Start Date: 19850901, End Date: 19850903\n",
      "Downloading data from refinitiv...\n",
      "(28, 71)\n",
      "Master shape: (49, 71)\n",
      "Start Date: 19850904, End Date: 19850906\n",
      "Downloading data from refinitiv...\n",
      "(43, 71)\n",
      "Master shape: (92, 71)\n",
      "Start Date: 19850907, End Date: 19850909\n",
      "Downloading data from refinitiv...\n"
     ]
    },
    {
     "name": "stderr",
     "output_type": "stream",
     "text": [
      "/var/tmp/ipykernel_10925/3801902500.py:128: FutureWarning: The behavior of DataFrame concatenation with empty or all-NA entries is deprecated. In a future version, this will no longer exclude empty or all-NA columns when determining the result dtypes. To retain the old behavior, exclude the relevant entries before the concat operation.\n",
      "  master_df = pd.concat([master_df, mnas], ignore_index=True)\n"
     ]
    },
    {
     "name": "stdout",
     "output_type": "stream",
     "text": [
      "(12, 71)\n",
      "Master shape: (104, 71)\n",
      "Start Date: 19850910, End Date: 19850912\n",
      "Downloading data from refinitiv...\n"
     ]
    },
    {
     "name": "stderr",
     "output_type": "stream",
     "text": [
      "/var/tmp/ipykernel_10925/3801902500.py:128: FutureWarning: The behavior of DataFrame concatenation with empty or all-NA entries is deprecated. In a future version, this will no longer exclude empty or all-NA columns when determining the result dtypes. To retain the old behavior, exclude the relevant entries before the concat operation.\n",
      "  master_df = pd.concat([master_df, mnas], ignore_index=True)\n",
      "ERROR!!! An error occurred while requesting URL('https://api.refinitiv.com/data/datagrid/beta1/').\n",
      "     ReadTimeout('')\n"
     ]
    },
    {
     "name": "stdout",
     "output_type": "stream",
     "text": [
      "An error occurred: . Retrying for the range 19850910 to 19850912...\n",
      "Start Date: 19850910, End Date: 19850912\n",
      "Downloading data from refinitiv...\n",
      "(40, 71)\n",
      "Master shape: (144, 71)\n",
      "Start Date: 19850913, End Date: 19850915\n",
      "Downloading data from refinitiv...\n",
      "(5, 71)\n",
      "Master shape: (149, 71)\n",
      "Start Date: 19850916, End Date: 19850918\n",
      "Downloading data from refinitiv...\n"
     ]
    },
    {
     "name": "stderr",
     "output_type": "stream",
     "text": [
      "/var/tmp/ipykernel_10925/3801902500.py:128: FutureWarning: The behavior of DataFrame concatenation with empty or all-NA entries is deprecated. In a future version, this will no longer exclude empty or all-NA columns when determining the result dtypes. To retain the old behavior, exclude the relevant entries before the concat operation.\n",
      "  master_df = pd.concat([master_df, mnas], ignore_index=True)\n",
      "ERROR!!! An error occurred while requesting URL('https://api.refinitiv.com/data/datagrid/beta1/').\n",
      "     ReadTimeout('')\n"
     ]
    },
    {
     "name": "stdout",
     "output_type": "stream",
     "text": [
      "An error occurred: . Retrying for the range 19850916 to 19850918...\n",
      "Start Date: 19850916, End Date: 19850918\n",
      "Downloading data from refinitiv...\n",
      "(25, 71)\n",
      "Master shape: (174, 71)\n",
      "Start Date: 19850919, End Date: 19850921\n",
      "Downloading data from refinitiv...\n"
     ]
    },
    {
     "name": "stderr",
     "output_type": "stream",
     "text": [
      "/var/tmp/ipykernel_10925/3801902500.py:128: FutureWarning: The behavior of DataFrame concatenation with empty or all-NA entries is deprecated. In a future version, this will no longer exclude empty or all-NA columns when determining the result dtypes. To retain the old behavior, exclude the relevant entries before the concat operation.\n",
      "  master_df = pd.concat([master_df, mnas], ignore_index=True)\n",
      "/var/tmp/ipykernel_10925/3801902500.py:128: FutureWarning: The behavior of DataFrame concatenation with empty or all-NA entries is deprecated. In a future version, this will no longer exclude empty or all-NA columns when determining the result dtypes. To retain the old behavior, exclude the relevant entries before the concat operation.\n",
      "  master_df = pd.concat([master_df, mnas], ignore_index=True)\n"
     ]
    },
    {
     "name": "stdout",
     "output_type": "stream",
     "text": [
      "(24, 71)\n",
      "Master shape: (198, 71)\n",
      "Start Date: 19850922, End Date: 19850924\n",
      "Downloading data from refinitiv...\n"
     ]
    },
    {
     "name": "stderr",
     "output_type": "stream",
     "text": [
      "/var/tmp/ipykernel_10925/3801902500.py:128: FutureWarning: The behavior of DataFrame concatenation with empty or all-NA entries is deprecated. In a future version, this will no longer exclude empty or all-NA columns when determining the result dtypes. To retain the old behavior, exclude the relevant entries before the concat operation.\n",
      "  master_df = pd.concat([master_df, mnas], ignore_index=True)\n"
     ]
    },
    {
     "name": "stdout",
     "output_type": "stream",
     "text": [
      "(20, 71)\n",
      "Master shape: (218, 71)\n",
      "Start Date: 19850925, End Date: 19850927\n",
      "Downloading data from refinitiv...\n"
     ]
    },
    {
     "name": "stderr",
     "output_type": "stream",
     "text": [
      "/var/tmp/ipykernel_10925/3801902500.py:128: FutureWarning: The behavior of DataFrame concatenation with empty or all-NA entries is deprecated. In a future version, this will no longer exclude empty or all-NA columns when determining the result dtypes. To retain the old behavior, exclude the relevant entries before the concat operation.\n",
      "  master_df = pd.concat([master_df, mnas], ignore_index=True)\n"
     ]
    },
    {
     "name": "stdout",
     "output_type": "stream",
     "text": [
      "(47, 71)\n",
      "Master shape: (265, 71)\n",
      "Start Date: 19850928, End Date: 19850930\n",
      "Downloading data from refinitiv...\n"
     ]
    },
    {
     "name": "stderr",
     "output_type": "stream",
     "text": [
      "/var/tmp/ipykernel_10925/3801902500.py:128: FutureWarning: The behavior of DataFrame concatenation with empty or all-NA entries is deprecated. In a future version, this will no longer exclude empty or all-NA columns when determining the result dtypes. To retain the old behavior, exclude the relevant entries before the concat operation.\n",
      "  master_df = pd.concat([master_df, mnas], ignore_index=True)\n"
     ]
    },
    {
     "name": "stdout",
     "output_type": "stream",
     "text": [
      "(27, 71)\n",
      "Master shape: (292, 71)\n",
      "Start Date: 19851001, End Date: 19851003\n",
      "Downloading data from refinitiv...\n"
     ]
    },
    {
     "name": "stderr",
     "output_type": "stream",
     "text": [
      "/var/tmp/ipykernel_10925/3801902500.py:128: FutureWarning: The behavior of DataFrame concatenation with empty or all-NA entries is deprecated. In a future version, this will no longer exclude empty or all-NA columns when determining the result dtypes. To retain the old behavior, exclude the relevant entries before the concat operation.\n",
      "  master_df = pd.concat([master_df, mnas], ignore_index=True)\n"
     ]
    },
    {
     "name": "stdout",
     "output_type": "stream",
     "text": [
      "(50, 71)\n",
      "Master shape: (342, 71)\n",
      "Start Date: 19851004, End Date: 19851006\n",
      "Downloading data from refinitiv...\n"
     ]
    },
    {
     "name": "stderr",
     "output_type": "stream",
     "text": [
      "/var/tmp/ipykernel_10925/3801902500.py:128: FutureWarning: The behavior of DataFrame concatenation with empty or all-NA entries is deprecated. In a future version, this will no longer exclude empty or all-NA columns when determining the result dtypes. To retain the old behavior, exclude the relevant entries before the concat operation.\n",
      "  master_df = pd.concat([master_df, mnas], ignore_index=True)\n"
     ]
    },
    {
     "name": "stdout",
     "output_type": "stream",
     "text": [
      "(14, 71)\n",
      "Master shape: (356, 71)\n",
      "Start Date: 19851007, End Date: 19851009\n",
      "Downloading data from refinitiv...\n"
     ]
    },
    {
     "name": "stderr",
     "output_type": "stream",
     "text": [
      "/var/tmp/ipykernel_10925/3801902500.py:128: FutureWarning: The behavior of DataFrame concatenation with empty or all-NA entries is deprecated. In a future version, this will no longer exclude empty or all-NA columns when determining the result dtypes. To retain the old behavior, exclude the relevant entries before the concat operation.\n",
      "  master_df = pd.concat([master_df, mnas], ignore_index=True)\n",
      "ERROR!!! An error occurred while requesting URL('https://api.refinitiv.com/data/datagrid/beta1/').\n",
      "     ReadTimeout('')\n"
     ]
    },
    {
     "name": "stdout",
     "output_type": "stream",
     "text": [
      "An error occurred: . Retrying for the range 19851007 to 19851009...\n",
      "Start Date: 19851007, End Date: 19851009\n",
      "Downloading data from refinitiv...\n",
      "(39, 71)\n",
      "Master shape: (395, 71)\n",
      "Start Date: 19851010, End Date: 19851012\n",
      "Downloading data from refinitiv...\n"
     ]
    },
    {
     "name": "stderr",
     "output_type": "stream",
     "text": [
      "/var/tmp/ipykernel_10925/3801902500.py:128: FutureWarning: The behavior of DataFrame concatenation with empty or all-NA entries is deprecated. In a future version, this will no longer exclude empty or all-NA columns when determining the result dtypes. To retain the old behavior, exclude the relevant entries before the concat operation.\n",
      "  master_df = pd.concat([master_df, mnas], ignore_index=True)\n"
     ]
    },
    {
     "name": "stdout",
     "output_type": "stream",
     "text": [
      "(19, 71)\n",
      "Master shape: (414, 71)\n",
      "Start Date: 19851013, End Date: 19851015\n",
      "Downloading data from refinitiv...\n"
     ]
    },
    {
     "name": "stderr",
     "output_type": "stream",
     "text": [
      "/var/tmp/ipykernel_10925/3801902500.py:128: FutureWarning: The behavior of DataFrame concatenation with empty or all-NA entries is deprecated. In a future version, this will no longer exclude empty or all-NA columns when determining the result dtypes. To retain the old behavior, exclude the relevant entries before the concat operation.\n",
      "  master_df = pd.concat([master_df, mnas], ignore_index=True)\n",
      "/var/tmp/ipykernel_10925/3801902500.py:128: FutureWarning: The behavior of DataFrame concatenation with empty or all-NA entries is deprecated. In a future version, this will no longer exclude empty or all-NA columns when determining the result dtypes. To retain the old behavior, exclude the relevant entries before the concat operation.\n",
      "  master_df = pd.concat([master_df, mnas], ignore_index=True)\n"
     ]
    },
    {
     "name": "stdout",
     "output_type": "stream",
     "text": [
      "(37, 71)\n",
      "Master shape: (451, 71)\n",
      "Start Date: 19851016, End Date: 19851018\n",
      "Downloading data from refinitiv...\n"
     ]
    },
    {
     "name": "stderr",
     "output_type": "stream",
     "text": [
      "/var/tmp/ipykernel_10925/3801902500.py:128: FutureWarning: The behavior of DataFrame concatenation with empty or all-NA entries is deprecated. In a future version, this will no longer exclude empty or all-NA columns when determining the result dtypes. To retain the old behavior, exclude the relevant entries before the concat operation.\n",
      "  master_df = pd.concat([master_df, mnas], ignore_index=True)\n"
     ]
    },
    {
     "name": "stdout",
     "output_type": "stream",
     "text": [
      "(47, 71)\n",
      "Master shape: (498, 71)\n",
      "Start Date: 19851019, End Date: 19851021\n",
      "Downloading data from refinitiv...\n"
     ]
    },
    {
     "name": "stderr",
     "output_type": "stream",
     "text": [
      "/var/tmp/ipykernel_10925/3801902500.py:128: FutureWarning: The behavior of DataFrame concatenation with empty or all-NA entries is deprecated. In a future version, this will no longer exclude empty or all-NA columns when determining the result dtypes. To retain the old behavior, exclude the relevant entries before the concat operation.\n",
      "  master_df = pd.concat([master_df, mnas], ignore_index=True)\n"
     ]
    },
    {
     "name": "stdout",
     "output_type": "stream",
     "text": [
      "(14, 71)\n",
      "Master shape: (512, 71)\n",
      "Start Date: 19851022, End Date: 19851024\n",
      "Downloading data from refinitiv...\n"
     ]
    },
    {
     "name": "stderr",
     "output_type": "stream",
     "text": [
      "/var/tmp/ipykernel_10925/3801902500.py:128: FutureWarning: The behavior of DataFrame concatenation with empty or all-NA entries is deprecated. In a future version, this will no longer exclude empty or all-NA columns when determining the result dtypes. To retain the old behavior, exclude the relevant entries before the concat operation.\n",
      "  master_df = pd.concat([master_df, mnas], ignore_index=True)\n"
     ]
    },
    {
     "name": "stdout",
     "output_type": "stream",
     "text": [
      "(31, 71)\n",
      "Master shape: (543, 71)\n",
      "Start Date: 19851025, End Date: 19851027\n",
      "Downloading data from refinitiv...\n"
     ]
    },
    {
     "name": "stderr",
     "output_type": "stream",
     "text": [
      "/var/tmp/ipykernel_10925/3801902500.py:128: FutureWarning: The behavior of DataFrame concatenation with empty or all-NA entries is deprecated. In a future version, this will no longer exclude empty or all-NA columns when determining the result dtypes. To retain the old behavior, exclude the relevant entries before the concat operation.\n",
      "  master_df = pd.concat([master_df, mnas], ignore_index=True)\n"
     ]
    },
    {
     "name": "stdout",
     "output_type": "stream",
     "text": [
      "(15, 71)\n",
      "Master shape: (558, 71)\n",
      "Appending chunk to BQ\n"
     ]
    },
    {
     "name": "stderr",
     "output_type": "stream",
     "text": [
      "/var/tmp/ipykernel_10925/3801902500.py:128: FutureWarning: The behavior of DataFrame concatenation with empty or all-NA entries is deprecated. In a future version, this will no longer exclude empty or all-NA columns when determining the result dtypes. To retain the old behavior, exclude the relevant entries before the concat operation.\n",
      "  master_df = pd.concat([master_df, mnas], ignore_index=True)\n"
     ]
    },
    {
     "name": "stdout",
     "output_type": "stream",
     "text": [
      "Data appended successfully\n",
      "Start Date: 19851028, End Date: 19851030\n",
      "Downloading data from refinitiv...\n",
      "(44, 71)\n",
      "Master shape: (44, 71)\n",
      "Start Date: 19851031, End Date: 19851102\n",
      "Downloading data from refinitiv...\n",
      "(36, 71)\n",
      "Master shape: (80, 71)\n",
      "Start Date: 19851103, End Date: 19851105\n",
      "Downloading data from refinitiv...\n",
      "(27, 71)\n",
      "Master shape: (107, 71)\n",
      "Start Date: 19851106, End Date: 19851108\n",
      "Downloading data from refinitiv...\n"
     ]
    },
    {
     "name": "stderr",
     "output_type": "stream",
     "text": [
      "/var/tmp/ipykernel_10925/3801902500.py:128: FutureWarning: The behavior of DataFrame concatenation with empty or all-NA entries is deprecated. In a future version, this will no longer exclude empty or all-NA columns when determining the result dtypes. To retain the old behavior, exclude the relevant entries before the concat operation.\n",
      "  master_df = pd.concat([master_df, mnas], ignore_index=True)\n"
     ]
    },
    {
     "name": "stdout",
     "output_type": "stream",
     "text": [
      "(39, 71)\n",
      "Master shape: (146, 71)\n",
      "Start Date: 19851109, End Date: 19851111\n",
      "Downloading data from refinitiv...\n"
     ]
    },
    {
     "name": "stderr",
     "output_type": "stream",
     "text": [
      "/var/tmp/ipykernel_10925/3801902500.py:128: FutureWarning: The behavior of DataFrame concatenation with empty or all-NA entries is deprecated. In a future version, this will no longer exclude empty or all-NA columns when determining the result dtypes. To retain the old behavior, exclude the relevant entries before the concat operation.\n",
      "  master_df = pd.concat([master_df, mnas], ignore_index=True)\n"
     ]
    },
    {
     "name": "stdout",
     "output_type": "stream",
     "text": [
      "(13, 71)\n",
      "Master shape: (159, 71)\n",
      "Start Date: 19851112, End Date: 19851114\n",
      "Downloading data from refinitiv...\n"
     ]
    },
    {
     "name": "stderr",
     "output_type": "stream",
     "text": [
      "/var/tmp/ipykernel_10925/3801902500.py:128: FutureWarning: The behavior of DataFrame concatenation with empty or all-NA entries is deprecated. In a future version, this will no longer exclude empty or all-NA columns when determining the result dtypes. To retain the old behavior, exclude the relevant entries before the concat operation.\n",
      "  master_df = pd.concat([master_df, mnas], ignore_index=True)\n"
     ]
    },
    {
     "name": "stdout",
     "output_type": "stream",
     "text": [
      "(30, 71)\n",
      "Master shape: (189, 71)\n",
      "Start Date: 19851115, End Date: 19851117\n",
      "Downloading data from refinitiv...\n"
     ]
    },
    {
     "name": "stderr",
     "output_type": "stream",
     "text": [
      "/var/tmp/ipykernel_10925/3801902500.py:128: FutureWarning: The behavior of DataFrame concatenation with empty or all-NA entries is deprecated. In a future version, this will no longer exclude empty or all-NA columns when determining the result dtypes. To retain the old behavior, exclude the relevant entries before the concat operation.\n",
      "  master_df = pd.concat([master_df, mnas], ignore_index=True)\n"
     ]
    },
    {
     "name": "stdout",
     "output_type": "stream",
     "text": [
      "(13, 71)\n",
      "Master shape: (202, 71)\n",
      "Start Date: 19851118, End Date: 19851120\n",
      "Downloading data from refinitiv...\n"
     ]
    },
    {
     "name": "stderr",
     "output_type": "stream",
     "text": [
      "/var/tmp/ipykernel_10925/3801902500.py:128: FutureWarning: The behavior of DataFrame concatenation with empty or all-NA entries is deprecated. In a future version, this will no longer exclude empty or all-NA columns when determining the result dtypes. To retain the old behavior, exclude the relevant entries before the concat operation.\n",
      "  master_df = pd.concat([master_df, mnas], ignore_index=True)\n",
      "/var/tmp/ipykernel_10925/3801902500.py:128: FutureWarning: The behavior of DataFrame concatenation with empty or all-NA entries is deprecated. In a future version, this will no longer exclude empty or all-NA columns when determining the result dtypes. To retain the old behavior, exclude the relevant entries before the concat operation.\n",
      "  master_df = pd.concat([master_df, mnas], ignore_index=True)\n"
     ]
    },
    {
     "name": "stdout",
     "output_type": "stream",
     "text": [
      "(35, 71)\n",
      "Master shape: (237, 71)\n",
      "Start Date: 19851121, End Date: 19851123\n",
      "Downloading data from refinitiv...\n"
     ]
    },
    {
     "name": "stderr",
     "output_type": "stream",
     "text": [
      "/var/tmp/ipykernel_10925/3801902500.py:128: FutureWarning: The behavior of DataFrame concatenation with empty or all-NA entries is deprecated. In a future version, this will no longer exclude empty or all-NA columns when determining the result dtypes. To retain the old behavior, exclude the relevant entries before the concat operation.\n",
      "  master_df = pd.concat([master_df, mnas], ignore_index=True)\n",
      "/var/tmp/ipykernel_10925/3801902500.py:128: FutureWarning: The behavior of DataFrame concatenation with empty or all-NA entries is deprecated. In a future version, this will no longer exclude empty or all-NA columns when determining the result dtypes. To retain the old behavior, exclude the relevant entries before the concat operation.\n",
      "  master_df = pd.concat([master_df, mnas], ignore_index=True)\n"
     ]
    },
    {
     "name": "stdout",
     "output_type": "stream",
     "text": [
      "(26, 71)\n",
      "Master shape: (263, 71)\n",
      "Start Date: 19851124, End Date: 19851126\n",
      "Downloading data from refinitiv...\n"
     ]
    },
    {
     "name": "stderr",
     "output_type": "stream",
     "text": [
      "/var/tmp/ipykernel_10925/3801902500.py:128: FutureWarning: The behavior of DataFrame concatenation with empty or all-NA entries is deprecated. In a future version, this will no longer exclude empty or all-NA columns when determining the result dtypes. To retain the old behavior, exclude the relevant entries before the concat operation.\n",
      "  master_df = pd.concat([master_df, mnas], ignore_index=True)\n"
     ]
    },
    {
     "name": "stdout",
     "output_type": "stream",
     "text": [
      "(35, 71)\n",
      "Master shape: (298, 71)\n",
      "Start Date: 19851127, End Date: 19851129\n",
      "Downloading data from refinitiv...\n"
     ]
    },
    {
     "name": "stderr",
     "output_type": "stream",
     "text": [
      "/var/tmp/ipykernel_10925/3801902500.py:128: FutureWarning: The behavior of DataFrame concatenation with empty or all-NA entries is deprecated. In a future version, this will no longer exclude empty or all-NA columns when determining the result dtypes. To retain the old behavior, exclude the relevant entries before the concat operation.\n",
      "  master_df = pd.concat([master_df, mnas], ignore_index=True)\n"
     ]
    },
    {
     "name": "stdout",
     "output_type": "stream",
     "text": [
      "(28, 71)\n",
      "Master shape: (326, 71)\n",
      "Start Date: 19851130, End Date: 19851202\n",
      "Downloading data from refinitiv...\n"
     ]
    },
    {
     "name": "stderr",
     "output_type": "stream",
     "text": [
      "/var/tmp/ipykernel_10925/3801902500.py:128: FutureWarning: The behavior of DataFrame concatenation with empty or all-NA entries is deprecated. In a future version, this will no longer exclude empty or all-NA columns when determining the result dtypes. To retain the old behavior, exclude the relevant entries before the concat operation.\n",
      "  master_df = pd.concat([master_df, mnas], ignore_index=True)\n"
     ]
    },
    {
     "name": "stdout",
     "output_type": "stream",
     "text": [
      "(19, 71)\n",
      "Master shape: (345, 71)\n",
      "Start Date: 19851203, End Date: 19851205\n",
      "Downloading data from refinitiv...\n"
     ]
    },
    {
     "name": "stderr",
     "output_type": "stream",
     "text": [
      "/var/tmp/ipykernel_10925/3801902500.py:128: FutureWarning: The behavior of DataFrame concatenation with empty or all-NA entries is deprecated. In a future version, this will no longer exclude empty or all-NA columns when determining the result dtypes. To retain the old behavior, exclude the relevant entries before the concat operation.\n",
      "  master_df = pd.concat([master_df, mnas], ignore_index=True)\n"
     ]
    },
    {
     "name": "stdout",
     "output_type": "stream",
     "text": [
      "(39, 71)\n",
      "Master shape: (384, 71)\n",
      "Start Date: 19851206, End Date: 19851208\n",
      "Downloading data from refinitiv...\n"
     ]
    },
    {
     "name": "stderr",
     "output_type": "stream",
     "text": [
      "/var/tmp/ipykernel_10925/3801902500.py:128: FutureWarning: The behavior of DataFrame concatenation with empty or all-NA entries is deprecated. In a future version, this will no longer exclude empty or all-NA columns when determining the result dtypes. To retain the old behavior, exclude the relevant entries before the concat operation.\n",
      "  master_df = pd.concat([master_df, mnas], ignore_index=True)\n"
     ]
    },
    {
     "name": "stdout",
     "output_type": "stream",
     "text": [
      "(12, 71)\n",
      "Master shape: (396, 71)\n",
      "Start Date: 19851209, End Date: 19851211\n",
      "Downloading data from refinitiv...\n"
     ]
    },
    {
     "name": "stderr",
     "output_type": "stream",
     "text": [
      "/var/tmp/ipykernel_10925/3801902500.py:128: FutureWarning: The behavior of DataFrame concatenation with empty or all-NA entries is deprecated. In a future version, this will no longer exclude empty or all-NA columns when determining the result dtypes. To retain the old behavior, exclude the relevant entries before the concat operation.\n",
      "  master_df = pd.concat([master_df, mnas], ignore_index=True)\n"
     ]
    },
    {
     "name": "stdout",
     "output_type": "stream",
     "text": [
      "(38, 71)\n",
      "Master shape: (434, 71)\n",
      "Start Date: 19851212, End Date: 19851214\n",
      "Downloading data from refinitiv...\n"
     ]
    },
    {
     "name": "stderr",
     "output_type": "stream",
     "text": [
      "/var/tmp/ipykernel_10925/3801902500.py:128: FutureWarning: The behavior of DataFrame concatenation with empty or all-NA entries is deprecated. In a future version, this will no longer exclude empty or all-NA columns when determining the result dtypes. To retain the old behavior, exclude the relevant entries before the concat operation.\n",
      "  master_df = pd.concat([master_df, mnas], ignore_index=True)\n"
     ]
    },
    {
     "name": "stdout",
     "output_type": "stream",
     "text": [
      "(27, 71)\n",
      "Master shape: (461, 71)\n",
      "Start Date: 19851215, End Date: 19851217\n",
      "Downloading data from refinitiv...\n"
     ]
    },
    {
     "name": "stderr",
     "output_type": "stream",
     "text": [
      "/var/tmp/ipykernel_10925/3801902500.py:128: FutureWarning: The behavior of DataFrame concatenation with empty or all-NA entries is deprecated. In a future version, this will no longer exclude empty or all-NA columns when determining the result dtypes. To retain the old behavior, exclude the relevant entries before the concat operation.\n",
      "  master_df = pd.concat([master_df, mnas], ignore_index=True)\n"
     ]
    },
    {
     "name": "stdout",
     "output_type": "stream",
     "text": [
      "(35, 71)\n",
      "Master shape: (496, 71)\n",
      "Start Date: 19851218, End Date: 19851220\n",
      "Downloading data from refinitiv...\n"
     ]
    },
    {
     "name": "stderr",
     "output_type": "stream",
     "text": [
      "/var/tmp/ipykernel_10925/3801902500.py:128: FutureWarning: The behavior of DataFrame concatenation with empty or all-NA entries is deprecated. In a future version, this will no longer exclude empty or all-NA columns when determining the result dtypes. To retain the old behavior, exclude the relevant entries before the concat operation.\n",
      "  master_df = pd.concat([master_df, mnas], ignore_index=True)\n"
     ]
    },
    {
     "name": "stdout",
     "output_type": "stream",
     "text": [
      "(59, 71)\n",
      "Master shape: (555, 71)\n",
      "Start Date: 19851221, End Date: 19851223\n",
      "Downloading data from refinitiv...\n"
     ]
    },
    {
     "name": "stderr",
     "output_type": "stream",
     "text": [
      "/var/tmp/ipykernel_10925/3801902500.py:128: FutureWarning: The behavior of DataFrame concatenation with empty or all-NA entries is deprecated. In a future version, this will no longer exclude empty or all-NA columns when determining the result dtypes. To retain the old behavior, exclude the relevant entries before the concat operation.\n",
      "  master_df = pd.concat([master_df, mnas], ignore_index=True)\n"
     ]
    },
    {
     "name": "stdout",
     "output_type": "stream",
     "text": [
      "(22, 71)\n",
      "Master shape: (577, 71)\n",
      "Start Date: 19851224, End Date: 19851226\n",
      "Downloading data from refinitiv...\n"
     ]
    },
    {
     "name": "stderr",
     "output_type": "stream",
     "text": [
      "/var/tmp/ipykernel_10925/3801902500.py:128: FutureWarning: The behavior of DataFrame concatenation with empty or all-NA entries is deprecated. In a future version, this will no longer exclude empty or all-NA columns when determining the result dtypes. To retain the old behavior, exclude the relevant entries before the concat operation.\n",
      "  master_df = pd.concat([master_df, mnas], ignore_index=True)\n"
     ]
    },
    {
     "name": "stdout",
     "output_type": "stream",
     "text": [
      "(28, 71)\n",
      "Master shape: (605, 71)\n",
      "Appending chunk to BQ\n"
     ]
    },
    {
     "name": "stderr",
     "output_type": "stream",
     "text": [
      "/var/tmp/ipykernel_10925/3801902500.py:128: FutureWarning: The behavior of DataFrame concatenation with empty or all-NA entries is deprecated. In a future version, this will no longer exclude empty or all-NA columns when determining the result dtypes. To retain the old behavior, exclude the relevant entries before the concat operation.\n",
      "  master_df = pd.concat([master_df, mnas], ignore_index=True)\n"
     ]
    },
    {
     "name": "stdout",
     "output_type": "stream",
     "text": [
      "Data appended successfully\n",
      "Start Date: 19851227, End Date: 19851229\n",
      "Downloading data from refinitiv...\n",
      "(16, 71)\n",
      "Master shape: (16, 71)\n",
      "Start Date: 19851230, End Date: 19860101\n",
      "Downloading data from refinitiv...\n",
      "(178, 71)\n",
      "Master shape: (194, 71)\n",
      "Start Date: 19860102, End Date: 19860104\n",
      "Downloading data from refinitiv...\n"
     ]
    },
    {
     "name": "stderr",
     "output_type": "stream",
     "text": [
      "/var/tmp/ipykernel_10925/3801902500.py:128: FutureWarning: The behavior of DataFrame concatenation with empty or all-NA entries is deprecated. In a future version, this will no longer exclude empty or all-NA columns when determining the result dtypes. To retain the old behavior, exclude the relevant entries before the concat operation.\n",
      "  master_df = pd.concat([master_df, mnas], ignore_index=True)\n"
     ]
    },
    {
     "name": "stdout",
     "output_type": "stream",
     "text": [
      "(38, 71)\n",
      "Master shape: (232, 71)\n",
      "Start Date: 19860105, End Date: 19860107\n",
      "Downloading data from refinitiv...\n",
      "(24, 71)\n",
      "Master shape: (256, 71)\n",
      "Start Date: 19860108, End Date: 19860110\n",
      "Downloading data from refinitiv...\n"
     ]
    },
    {
     "name": "stderr",
     "output_type": "stream",
     "text": [
      "ERROR!!! An error occurred while requesting URL('https://api.refinitiv.com/data/datagrid/beta1/').\n",
      "     ReadTimeout('')\n"
     ]
    },
    {
     "name": "stdout",
     "output_type": "stream",
     "text": [
      "An error occurred: . Retrying for the range 19860108 to 19860110...\n",
      "Start Date: 19860108, End Date: 19860110\n",
      "Downloading data from refinitiv...\n",
      "(40, 71)\n",
      "Master shape: (296, 71)\n",
      "Start Date: 19860111, End Date: 19860113\n",
      "Downloading data from refinitiv...\n"
     ]
    },
    {
     "name": "stderr",
     "output_type": "stream",
     "text": [
      "ERROR!!! An error occurred while requesting URL('https://api.refinitiv.com/data/datagrid/beta1/').\n",
      "     ReadTimeout('')\n"
     ]
    },
    {
     "name": "stdout",
     "output_type": "stream",
     "text": [
      "An error occurred: . Retrying for the range 19860111 to 19860113...\n",
      "Start Date: 19860111, End Date: 19860113\n",
      "Downloading data from refinitiv...\n",
      "(12, 71)\n",
      "Master shape: (308, 71)\n",
      "Start Date: 19860114, End Date: 19860116\n",
      "Downloading data from refinitiv...\n",
      "(55, 71)\n",
      "Master shape: (363, 71)\n",
      "Start Date: 19860117, End Date: 19860119\n",
      "Downloading data from refinitiv...\n",
      "(5, 71)\n",
      "Master shape: (368, 71)\n",
      "Start Date: 19860120, End Date: 19860122\n",
      "Downloading data from refinitiv...\n"
     ]
    },
    {
     "name": "stderr",
     "output_type": "stream",
     "text": [
      "/var/tmp/ipykernel_10925/3801902500.py:128: FutureWarning: The behavior of DataFrame concatenation with empty or all-NA entries is deprecated. In a future version, this will no longer exclude empty or all-NA columns when determining the result dtypes. To retain the old behavior, exclude the relevant entries before the concat operation.\n",
      "  master_df = pd.concat([master_df, mnas], ignore_index=True)\n"
     ]
    },
    {
     "name": "stdout",
     "output_type": "stream",
     "text": [
      "(38, 71)\n",
      "Master shape: (406, 71)\n",
      "Start Date: 19860123, End Date: 19860125\n",
      "Downloading data from refinitiv...\n",
      "(30, 71)\n",
      "Master shape: (436, 71)\n",
      "Start Date: 19860126, End Date: 19860128\n",
      "Downloading data from refinitiv...\n"
     ]
    },
    {
     "name": "stderr",
     "output_type": "stream",
     "text": [
      "/var/tmp/ipykernel_10925/3801902500.py:128: FutureWarning: The behavior of DataFrame concatenation with empty or all-NA entries is deprecated. In a future version, this will no longer exclude empty or all-NA columns when determining the result dtypes. To retain the old behavior, exclude the relevant entries before the concat operation.\n",
      "  master_df = pd.concat([master_df, mnas], ignore_index=True)\n"
     ]
    },
    {
     "name": "stdout",
     "output_type": "stream",
     "text": [
      "(26, 71)\n",
      "Master shape: (462, 71)\n",
      "Start Date: 19860129, End Date: 19860131\n",
      "Downloading data from refinitiv...\n"
     ]
    },
    {
     "name": "stderr",
     "output_type": "stream",
     "text": [
      "/var/tmp/ipykernel_10925/3801902500.py:128: FutureWarning: The behavior of DataFrame concatenation with empty or all-NA entries is deprecated. In a future version, this will no longer exclude empty or all-NA columns when determining the result dtypes. To retain the old behavior, exclude the relevant entries before the concat operation.\n",
      "  master_df = pd.concat([master_df, mnas], ignore_index=True)\n"
     ]
    },
    {
     "name": "stdout",
     "output_type": "stream",
     "text": [
      "(43, 71)\n",
      "Master shape: (505, 71)\n",
      "Start Date: 19860201, End Date: 19860203\n",
      "Downloading data from refinitiv...\n"
     ]
    },
    {
     "name": "stderr",
     "output_type": "stream",
     "text": [
      "/var/tmp/ipykernel_10925/3801902500.py:128: FutureWarning: The behavior of DataFrame concatenation with empty or all-NA entries is deprecated. In a future version, this will no longer exclude empty or all-NA columns when determining the result dtypes. To retain the old behavior, exclude the relevant entries before the concat operation.\n",
      "  master_df = pd.concat([master_df, mnas], ignore_index=True)\n"
     ]
    },
    {
     "name": "stdout",
     "output_type": "stream",
     "text": [
      "(29, 71)\n",
      "Master shape: (534, 71)\n",
      "Start Date: 19860204, End Date: 19860206\n",
      "Downloading data from refinitiv...\n"
     ]
    },
    {
     "name": "stderr",
     "output_type": "stream",
     "text": [
      "/var/tmp/ipykernel_10925/3801902500.py:128: FutureWarning: The behavior of DataFrame concatenation with empty or all-NA entries is deprecated. In a future version, this will no longer exclude empty or all-NA columns when determining the result dtypes. To retain the old behavior, exclude the relevant entries before the concat operation.\n",
      "  master_df = pd.concat([master_df, mnas], ignore_index=True)\n"
     ]
    },
    {
     "name": "stdout",
     "output_type": "stream",
     "text": [
      "(38, 71)\n",
      "Master shape: (572, 71)\n",
      "Start Date: 19860207, End Date: 19860209\n",
      "Downloading data from refinitiv...\n"
     ]
    },
    {
     "name": "stderr",
     "output_type": "stream",
     "text": [
      "/var/tmp/ipykernel_10925/3801902500.py:128: FutureWarning: The behavior of DataFrame concatenation with empty or all-NA entries is deprecated. In a future version, this will no longer exclude empty or all-NA columns when determining the result dtypes. To retain the old behavior, exclude the relevant entries before the concat operation.\n",
      "  master_df = pd.concat([master_df, mnas], ignore_index=True)\n"
     ]
    },
    {
     "name": "stdout",
     "output_type": "stream",
     "text": [
      "(27, 71)\n",
      "Master shape: (599, 71)\n",
      "Start Date: 19860210, End Date: 19860212\n",
      "Downloading data from refinitiv...\n"
     ]
    },
    {
     "name": "stderr",
     "output_type": "stream",
     "text": [
      "/var/tmp/ipykernel_10925/3801902500.py:128: FutureWarning: The behavior of DataFrame concatenation with empty or all-NA entries is deprecated. In a future version, this will no longer exclude empty or all-NA columns when determining the result dtypes. To retain the old behavior, exclude the relevant entries before the concat operation.\n",
      "  master_df = pd.concat([master_df, mnas], ignore_index=True)\n"
     ]
    },
    {
     "name": "stdout",
     "output_type": "stream",
     "text": [
      "(47, 71)\n",
      "Master shape: (646, 71)\n",
      "Start Date: 19860213, End Date: 19860215\n",
      "Downloading data from refinitiv...\n"
     ]
    },
    {
     "name": "stderr",
     "output_type": "stream",
     "text": [
      "/var/tmp/ipykernel_10925/3801902500.py:128: FutureWarning: The behavior of DataFrame concatenation with empty or all-NA entries is deprecated. In a future version, this will no longer exclude empty or all-NA columns when determining the result dtypes. To retain the old behavior, exclude the relevant entries before the concat operation.\n",
      "  master_df = pd.concat([master_df, mnas], ignore_index=True)\n"
     ]
    },
    {
     "name": "stdout",
     "output_type": "stream",
     "text": [
      "(15, 71)\n",
      "Master shape: (661, 71)\n",
      "Start Date: 19860216, End Date: 19860218\n",
      "Downloading data from refinitiv...\n"
     ]
    },
    {
     "name": "stderr",
     "output_type": "stream",
     "text": [
      "/var/tmp/ipykernel_10925/3801902500.py:128: FutureWarning: The behavior of DataFrame concatenation with empty or all-NA entries is deprecated. In a future version, this will no longer exclude empty or all-NA columns when determining the result dtypes. To retain the old behavior, exclude the relevant entries before the concat operation.\n",
      "  master_df = pd.concat([master_df, mnas], ignore_index=True)\n"
     ]
    },
    {
     "name": "stdout",
     "output_type": "stream",
     "text": [
      "(19, 71)\n",
      "Master shape: (680, 71)\n",
      "Start Date: 19860219, End Date: 19860221\n",
      "Downloading data from refinitiv...\n"
     ]
    },
    {
     "name": "stderr",
     "output_type": "stream",
     "text": [
      "/var/tmp/ipykernel_10925/3801902500.py:128: FutureWarning: The behavior of DataFrame concatenation with empty or all-NA entries is deprecated. In a future version, this will no longer exclude empty or all-NA columns when determining the result dtypes. To retain the old behavior, exclude the relevant entries before the concat operation.\n",
      "  master_df = pd.concat([master_df, mnas], ignore_index=True)\n",
      "ERROR!!! An error occurred while requesting URL('https://api.refinitiv.com/data/datagrid/beta1/').\n",
      "     ReadTimeout('')\n"
     ]
    },
    {
     "name": "stdout",
     "output_type": "stream",
     "text": [
      "An error occurred: . Retrying for the range 19860219 to 19860221...\n",
      "Start Date: 19860219, End Date: 19860221\n",
      "Downloading data from refinitiv...\n",
      "(28, 71)\n",
      "Master shape: (708, 71)\n",
      "Start Date: 19860222, End Date: 19860224\n",
      "Downloading data from refinitiv...\n"
     ]
    },
    {
     "name": "stderr",
     "output_type": "stream",
     "text": [
      "/var/tmp/ipykernel_10925/3801902500.py:128: FutureWarning: The behavior of DataFrame concatenation with empty or all-NA entries is deprecated. In a future version, this will no longer exclude empty or all-NA columns when determining the result dtypes. To retain the old behavior, exclude the relevant entries before the concat operation.\n",
      "  master_df = pd.concat([master_df, mnas], ignore_index=True)\n"
     ]
    },
    {
     "name": "stdout",
     "output_type": "stream",
     "text": [
      "(16, 71)\n",
      "Master shape: (724, 71)\n",
      "Appending chunk to BQ\n"
     ]
    },
    {
     "name": "stderr",
     "output_type": "stream",
     "text": [
      "/var/tmp/ipykernel_10925/3801902500.py:128: FutureWarning: The behavior of DataFrame concatenation with empty or all-NA entries is deprecated. In a future version, this will no longer exclude empty or all-NA columns when determining the result dtypes. To retain the old behavior, exclude the relevant entries before the concat operation.\n",
      "  master_df = pd.concat([master_df, mnas], ignore_index=True)\n"
     ]
    },
    {
     "name": "stdout",
     "output_type": "stream",
     "text": [
      "Data appended successfully\n",
      "Start Date: 19860225, End Date: 19860227\n",
      "Downloading data from refinitiv...\n",
      "(43, 71)\n",
      "Master shape: (43, 71)\n",
      "Start Date: 19860228, End Date: 19860302\n",
      "Downloading data from refinitiv...\n",
      "(32, 71)\n",
      "Master shape: (75, 71)\n",
      "Start Date: 19860303, End Date: 19860305\n",
      "Downloading data from refinitiv...\n"
     ]
    },
    {
     "name": "stderr",
     "output_type": "stream",
     "text": [
      "/var/tmp/ipykernel_10925/3801902500.py:128: FutureWarning: The behavior of DataFrame concatenation with empty or all-NA entries is deprecated. In a future version, this will no longer exclude empty or all-NA columns when determining the result dtypes. To retain the old behavior, exclude the relevant entries before the concat operation.\n",
      "  master_df = pd.concat([master_df, mnas], ignore_index=True)\n"
     ]
    },
    {
     "name": "stdout",
     "output_type": "stream",
     "text": [
      "(42, 71)\n",
      "Master shape: (117, 71)\n",
      "Start Date: 19860306, End Date: 19860308\n",
      "Downloading data from refinitiv...\n"
     ]
    },
    {
     "name": "stderr",
     "output_type": "stream",
     "text": [
      "/var/tmp/ipykernel_10925/3801902500.py:128: FutureWarning: The behavior of DataFrame concatenation with empty or all-NA entries is deprecated. In a future version, this will no longer exclude empty or all-NA columns when determining the result dtypes. To retain the old behavior, exclude the relevant entries before the concat operation.\n",
      "  master_df = pd.concat([master_df, mnas], ignore_index=True)\n"
     ]
    },
    {
     "name": "stdout",
     "output_type": "stream",
     "text": [
      "(20, 71)\n",
      "Master shape: (137, 71)\n",
      "Start Date: 19860309, End Date: 19860311\n",
      "Downloading data from refinitiv...\n",
      "(28, 71)\n",
      "Master shape: (165, 71)\n",
      "Start Date: 19860312, End Date: 19860314\n",
      "Downloading data from refinitiv...\n"
     ]
    },
    {
     "name": "stderr",
     "output_type": "stream",
     "text": [
      "/var/tmp/ipykernel_10925/3801902500.py:128: FutureWarning: The behavior of DataFrame concatenation with empty or all-NA entries is deprecated. In a future version, this will no longer exclude empty or all-NA columns when determining the result dtypes. To retain the old behavior, exclude the relevant entries before the concat operation.\n",
      "  master_df = pd.concat([master_df, mnas], ignore_index=True)\n"
     ]
    },
    {
     "name": "stdout",
     "output_type": "stream",
     "text": [
      "(37, 71)\n",
      "Master shape: (202, 71)\n",
      "Start Date: 19860315, End Date: 19860317\n",
      "Downloading data from refinitiv...\n"
     ]
    },
    {
     "name": "stderr",
     "output_type": "stream",
     "text": [
      "/var/tmp/ipykernel_10925/3801902500.py:128: FutureWarning: The behavior of DataFrame concatenation with empty or all-NA entries is deprecated. In a future version, this will no longer exclude empty or all-NA columns when determining the result dtypes. To retain the old behavior, exclude the relevant entries before the concat operation.\n",
      "  master_df = pd.concat([master_df, mnas], ignore_index=True)\n"
     ]
    },
    {
     "name": "stdout",
     "output_type": "stream",
     "text": [
      "(16, 71)\n",
      "Master shape: (218, 71)\n",
      "Start Date: 19860318, End Date: 19860320\n",
      "Downloading data from refinitiv...\n"
     ]
    },
    {
     "name": "stderr",
     "output_type": "stream",
     "text": [
      "/var/tmp/ipykernel_10925/3801902500.py:128: FutureWarning: The behavior of DataFrame concatenation with empty or all-NA entries is deprecated. In a future version, this will no longer exclude empty or all-NA columns when determining the result dtypes. To retain the old behavior, exclude the relevant entries before the concat operation.\n",
      "  master_df = pd.concat([master_df, mnas], ignore_index=True)\n"
     ]
    },
    {
     "name": "stdout",
     "output_type": "stream",
     "text": [
      "(41, 71)\n",
      "Master shape: (259, 71)\n",
      "Start Date: 19860321, End Date: 19860323\n",
      "Downloading data from refinitiv...\n"
     ]
    },
    {
     "name": "stderr",
     "output_type": "stream",
     "text": [
      "/var/tmp/ipykernel_10925/3801902500.py:128: FutureWarning: The behavior of DataFrame concatenation with empty or all-NA entries is deprecated. In a future version, this will no longer exclude empty or all-NA columns when determining the result dtypes. To retain the old behavior, exclude the relevant entries before the concat operation.\n",
      "  master_df = pd.concat([master_df, mnas], ignore_index=True)\n"
     ]
    },
    {
     "name": "stdout",
     "output_type": "stream",
     "text": [
      "(27, 71)\n",
      "Master shape: (286, 71)\n",
      "Start Date: 19860324, End Date: 19860326\n",
      "Downloading data from refinitiv...\n"
     ]
    },
    {
     "name": "stderr",
     "output_type": "stream",
     "text": [
      "/var/tmp/ipykernel_10925/3801902500.py:128: FutureWarning: The behavior of DataFrame concatenation with empty or all-NA entries is deprecated. In a future version, this will no longer exclude empty or all-NA columns when determining the result dtypes. To retain the old behavior, exclude the relevant entries before the concat operation.\n",
      "  master_df = pd.concat([master_df, mnas], ignore_index=True)\n"
     ]
    },
    {
     "name": "stdout",
     "output_type": "stream",
     "text": [
      "(60, 71)\n",
      "Master shape: (346, 71)\n",
      "Start Date: 19860327, End Date: 19860329\n",
      "Downloading data from refinitiv...\n",
      "(24, 71)\n",
      "Master shape: (370, 71)\n",
      "Start Date: 19860330, End Date: 19860401\n",
      "Downloading data from refinitiv...\n"
     ]
    },
    {
     "name": "stderr",
     "output_type": "stream",
     "text": [
      "/var/tmp/ipykernel_10925/3801902500.py:128: FutureWarning: The behavior of DataFrame concatenation with empty or all-NA entries is deprecated. In a future version, this will no longer exclude empty or all-NA columns when determining the result dtypes. To retain the old behavior, exclude the relevant entries before the concat operation.\n",
      "  master_df = pd.concat([master_df, mnas], ignore_index=True)\n"
     ]
    },
    {
     "name": "stdout",
     "output_type": "stream",
     "text": [
      "(61, 71)\n",
      "Master shape: (431, 71)\n",
      "Start Date: 19860402, End Date: 19860404\n",
      "Downloading data from refinitiv...\n"
     ]
    },
    {
     "name": "stderr",
     "output_type": "stream",
     "text": [
      "/var/tmp/ipykernel_10925/3801902500.py:128: FutureWarning: The behavior of DataFrame concatenation with empty or all-NA entries is deprecated. In a future version, this will no longer exclude empty or all-NA columns when determining the result dtypes. To retain the old behavior, exclude the relevant entries before the concat operation.\n",
      "  master_df = pd.concat([master_df, mnas], ignore_index=True)\n"
     ]
    },
    {
     "name": "stdout",
     "output_type": "stream",
     "text": [
      "(40, 71)\n",
      "Master shape: (471, 71)\n",
      "Start Date: 19860405, End Date: 19860407\n",
      "Downloading data from refinitiv...\n"
     ]
    },
    {
     "name": "stderr",
     "output_type": "stream",
     "text": [
      "/var/tmp/ipykernel_10925/3801902500.py:128: FutureWarning: The behavior of DataFrame concatenation with empty or all-NA entries is deprecated. In a future version, this will no longer exclude empty or all-NA columns when determining the result dtypes. To retain the old behavior, exclude the relevant entries before the concat operation.\n",
      "  master_df = pd.concat([master_df, mnas], ignore_index=True)\n"
     ]
    },
    {
     "name": "stdout",
     "output_type": "stream",
     "text": [
      "(14, 71)\n",
      "Master shape: (485, 71)\n",
      "Start Date: 19860408, End Date: 19860410\n",
      "Downloading data from refinitiv...\n"
     ]
    },
    {
     "name": "stderr",
     "output_type": "stream",
     "text": [
      "/var/tmp/ipykernel_10925/3801902500.py:128: FutureWarning: The behavior of DataFrame concatenation with empty or all-NA entries is deprecated. In a future version, this will no longer exclude empty or all-NA columns when determining the result dtypes. To retain the old behavior, exclude the relevant entries before the concat operation.\n",
      "  master_df = pd.concat([master_df, mnas], ignore_index=True)\n"
     ]
    },
    {
     "name": "stdout",
     "output_type": "stream",
     "text": [
      "(51, 71)\n",
      "Master shape: (536, 71)\n",
      "Start Date: 19860411, End Date: 19860413\n",
      "Downloading data from refinitiv...\n"
     ]
    },
    {
     "name": "stderr",
     "output_type": "stream",
     "text": [
      "/var/tmp/ipykernel_10925/3801902500.py:128: FutureWarning: The behavior of DataFrame concatenation with empty or all-NA entries is deprecated. In a future version, this will no longer exclude empty or all-NA columns when determining the result dtypes. To retain the old behavior, exclude the relevant entries before the concat operation.\n",
      "  master_df = pd.concat([master_df, mnas], ignore_index=True)\n"
     ]
    },
    {
     "name": "stdout",
     "output_type": "stream",
     "text": [
      "(12, 71)\n",
      "Master shape: (548, 71)\n",
      "Start Date: 19860414, End Date: 19860416\n",
      "Downloading data from refinitiv...\n"
     ]
    },
    {
     "name": "stderr",
     "output_type": "stream",
     "text": [
      "/var/tmp/ipykernel_10925/3801902500.py:128: FutureWarning: The behavior of DataFrame concatenation with empty or all-NA entries is deprecated. In a future version, this will no longer exclude empty or all-NA columns when determining the result dtypes. To retain the old behavior, exclude the relevant entries before the concat operation.\n",
      "  master_df = pd.concat([master_df, mnas], ignore_index=True)\n"
     ]
    },
    {
     "name": "stdout",
     "output_type": "stream",
     "text": [
      "(37, 71)\n",
      "Master shape: (585, 71)\n",
      "Start Date: 19860417, End Date: 19860419\n",
      "Downloading data from refinitiv...\n"
     ]
    },
    {
     "name": "stderr",
     "output_type": "stream",
     "text": [
      "/var/tmp/ipykernel_10925/3801902500.py:128: FutureWarning: The behavior of DataFrame concatenation with empty or all-NA entries is deprecated. In a future version, this will no longer exclude empty or all-NA columns when determining the result dtypes. To retain the old behavior, exclude the relevant entries before the concat operation.\n",
      "  master_df = pd.concat([master_df, mnas], ignore_index=True)\n"
     ]
    },
    {
     "name": "stdout",
     "output_type": "stream",
     "text": [
      "(25, 71)\n",
      "Master shape: (610, 71)\n",
      "Start Date: 19860420, End Date: 19860422\n",
      "Downloading data from refinitiv...\n"
     ]
    },
    {
     "name": "stderr",
     "output_type": "stream",
     "text": [
      "/var/tmp/ipykernel_10925/3801902500.py:128: FutureWarning: The behavior of DataFrame concatenation with empty or all-NA entries is deprecated. In a future version, this will no longer exclude empty or all-NA columns when determining the result dtypes. To retain the old behavior, exclude the relevant entries before the concat operation.\n",
      "  master_df = pd.concat([master_df, mnas], ignore_index=True)\n"
     ]
    },
    {
     "name": "stdout",
     "output_type": "stream",
     "text": [
      "(26, 71)\n",
      "Master shape: (636, 71)\n",
      "Start Date: 19860423, End Date: 19860425\n",
      "Downloading data from refinitiv...\n"
     ]
    },
    {
     "name": "stderr",
     "output_type": "stream",
     "text": [
      "/var/tmp/ipykernel_10925/3801902500.py:128: FutureWarning: The behavior of DataFrame concatenation with empty or all-NA entries is deprecated. In a future version, this will no longer exclude empty or all-NA columns when determining the result dtypes. To retain the old behavior, exclude the relevant entries before the concat operation.\n",
      "  master_df = pd.concat([master_df, mnas], ignore_index=True)\n"
     ]
    },
    {
     "name": "stdout",
     "output_type": "stream",
     "text": [
      "(35, 71)\n",
      "Master shape: (671, 71)\n",
      "Appending chunk to BQ\n"
     ]
    },
    {
     "name": "stderr",
     "output_type": "stream",
     "text": [
      "/var/tmp/ipykernel_10925/3801902500.py:128: FutureWarning: The behavior of DataFrame concatenation with empty or all-NA entries is deprecated. In a future version, this will no longer exclude empty or all-NA columns when determining the result dtypes. To retain the old behavior, exclude the relevant entries before the concat operation.\n",
      "  master_df = pd.concat([master_df, mnas], ignore_index=True)\n"
     ]
    },
    {
     "name": "stdout",
     "output_type": "stream",
     "text": [
      "Data appended successfully\n",
      "Start Date: 19860426, End Date: 19860428\n",
      "Downloading data from refinitiv...\n",
      "(16, 71)\n",
      "Master shape: (16, 71)\n",
      "Start Date: 19860429, End Date: 19860501\n",
      "Downloading data from refinitiv...\n"
     ]
    },
    {
     "name": "stderr",
     "output_type": "stream",
     "text": [
      "ERROR!!! An error occurred while requesting URL('https://api.refinitiv.com/data/datagrid/beta1/').\n",
      "     ReadTimeout('')\n"
     ]
    },
    {
     "name": "stdout",
     "output_type": "stream",
     "text": [
      "An error occurred: . Retrying for the range 19860429 to 19860501...\n",
      "Start Date: 19860429, End Date: 19860501\n",
      "Downloading data from refinitiv...\n",
      "(59, 71)\n",
      "Master shape: (75, 71)\n",
      "Start Date: 19860502, End Date: 19860504\n",
      "Downloading data from refinitiv...\n"
     ]
    },
    {
     "name": "stderr",
     "output_type": "stream",
     "text": [
      "/var/tmp/ipykernel_10925/3801902500.py:128: FutureWarning: The behavior of DataFrame concatenation with empty or all-NA entries is deprecated. In a future version, this will no longer exclude empty or all-NA columns when determining the result dtypes. To retain the old behavior, exclude the relevant entries before the concat operation.\n",
      "  master_df = pd.concat([master_df, mnas], ignore_index=True)\n"
     ]
    },
    {
     "name": "stdout",
     "output_type": "stream",
     "text": [
      "(13, 71)\n",
      "Master shape: (88, 71)\n",
      "Start Date: 19860505, End Date: 19860507\n",
      "Downloading data from refinitiv...\n"
     ]
    },
    {
     "name": "stderr",
     "output_type": "stream",
     "text": [
      "/var/tmp/ipykernel_10925/3801902500.py:128: FutureWarning: The behavior of DataFrame concatenation with empty or all-NA entries is deprecated. In a future version, this will no longer exclude empty or all-NA columns when determining the result dtypes. To retain the old behavior, exclude the relevant entries before the concat operation.\n",
      "  master_df = pd.concat([master_df, mnas], ignore_index=True)\n"
     ]
    },
    {
     "name": "stdout",
     "output_type": "stream",
     "text": [
      "(44, 71)\n",
      "Master shape: (132, 71)\n",
      "Start Date: 19860508, End Date: 19860510\n",
      "Downloading data from refinitiv...\n",
      "(40, 71)\n",
      "Master shape: (172, 71)\n",
      "Start Date: 19860511, End Date: 19860513\n",
      "Downloading data from refinitiv...\n",
      "(32, 71)\n",
      "Master shape: (204, 71)\n",
      "Start Date: 19860514, End Date: 19860516\n",
      "Downloading data from refinitiv...\n",
      "(62, 71)\n",
      "Master shape: (266, 71)\n",
      "Start Date: 19860517, End Date: 19860519\n",
      "Downloading data from refinitiv...\n",
      "(14, 71)\n",
      "Master shape: (280, 71)\n",
      "Start Date: 19860520, End Date: 19860522\n",
      "Downloading data from refinitiv...\n",
      "(67, 71)\n",
      "Master shape: (347, 71)\n",
      "Start Date: 19860523, End Date: 19860525\n",
      "Downloading data from refinitiv...\n"
     ]
    },
    {
     "name": "stderr",
     "output_type": "stream",
     "text": [
      "/var/tmp/ipykernel_10925/3801902500.py:128: FutureWarning: The behavior of DataFrame concatenation with empty or all-NA entries is deprecated. In a future version, this will no longer exclude empty or all-NA columns when determining the result dtypes. To retain the old behavior, exclude the relevant entries before the concat operation.\n",
      "  master_df = pd.concat([master_df, mnas], ignore_index=True)\n"
     ]
    },
    {
     "name": "stdout",
     "output_type": "stream",
     "text": [
      "(9, 71)\n",
      "Master shape: (356, 71)\n",
      "Start Date: 19860526, End Date: 19860528\n",
      "Downloading data from refinitiv...\n"
     ]
    },
    {
     "name": "stderr",
     "output_type": "stream",
     "text": [
      "/var/tmp/ipykernel_10925/3801902500.py:128: FutureWarning: The behavior of DataFrame concatenation with empty or all-NA entries is deprecated. In a future version, this will no longer exclude empty or all-NA columns when determining the result dtypes. To retain the old behavior, exclude the relevant entries before the concat operation.\n",
      "  master_df = pd.concat([master_df, mnas], ignore_index=True)\n"
     ]
    },
    {
     "name": "stdout",
     "output_type": "stream",
     "text": [
      "(44, 71)\n",
      "Master shape: (400, 71)\n",
      "Start Date: 19860529, End Date: 19860531\n",
      "Downloading data from refinitiv...\n"
     ]
    },
    {
     "name": "stderr",
     "output_type": "stream",
     "text": [
      "/var/tmp/ipykernel_10925/3801902500.py:128: FutureWarning: The behavior of DataFrame concatenation with empty or all-NA entries is deprecated. In a future version, this will no longer exclude empty or all-NA columns when determining the result dtypes. To retain the old behavior, exclude the relevant entries before the concat operation.\n",
      "  master_df = pd.concat([master_df, mnas], ignore_index=True)\n"
     ]
    },
    {
     "name": "stdout",
     "output_type": "stream",
     "text": [
      "(48, 71)\n",
      "Master shape: (448, 71)\n",
      "Start Date: 19860601, End Date: 19860603\n",
      "Downloading data from refinitiv...\n"
     ]
    },
    {
     "name": "stderr",
     "output_type": "stream",
     "text": [
      "/var/tmp/ipykernel_10925/3801902500.py:128: FutureWarning: The behavior of DataFrame concatenation with empty or all-NA entries is deprecated. In a future version, this will no longer exclude empty or all-NA columns when determining the result dtypes. To retain the old behavior, exclude the relevant entries before the concat operation.\n",
      "  master_df = pd.concat([master_df, mnas], ignore_index=True)\n"
     ]
    },
    {
     "name": "stdout",
     "output_type": "stream",
     "text": [
      "(46, 71)\n",
      "Master shape: (494, 71)\n",
      "Start Date: 19860604, End Date: 19860606\n",
      "Downloading data from refinitiv...\n",
      "(45, 71)\n",
      "Master shape: (539, 71)\n",
      "Start Date: 19860607, End Date: 19860609\n",
      "Downloading data from refinitiv...\n"
     ]
    },
    {
     "name": "stderr",
     "output_type": "stream",
     "text": [
      "/var/tmp/ipykernel_10925/3801902500.py:128: FutureWarning: The behavior of DataFrame concatenation with empty or all-NA entries is deprecated. In a future version, this will no longer exclude empty or all-NA columns when determining the result dtypes. To retain the old behavior, exclude the relevant entries before the concat operation.\n",
      "  master_df = pd.concat([master_df, mnas], ignore_index=True)\n"
     ]
    },
    {
     "name": "stdout",
     "output_type": "stream",
     "text": [
      "(21, 71)\n",
      "Master shape: (560, 71)\n",
      "Start Date: 19860610, End Date: 19860612\n",
      "Downloading data from refinitiv...\n"
     ]
    },
    {
     "name": "stderr",
     "output_type": "stream",
     "text": [
      "/var/tmp/ipykernel_10925/3801902500.py:128: FutureWarning: The behavior of DataFrame concatenation with empty or all-NA entries is deprecated. In a future version, this will no longer exclude empty or all-NA columns when determining the result dtypes. To retain the old behavior, exclude the relevant entries before the concat operation.\n",
      "  master_df = pd.concat([master_df, mnas], ignore_index=True)\n"
     ]
    },
    {
     "name": "stdout",
     "output_type": "stream",
     "text": [
      "(48, 71)\n",
      "Master shape: (608, 71)\n",
      "Start Date: 19860613, End Date: 19860615\n",
      "Downloading data from refinitiv...\n"
     ]
    },
    {
     "name": "stderr",
     "output_type": "stream",
     "text": [
      "/var/tmp/ipykernel_10925/3801902500.py:128: FutureWarning: The behavior of DataFrame concatenation with empty or all-NA entries is deprecated. In a future version, this will no longer exclude empty or all-NA columns when determining the result dtypes. To retain the old behavior, exclude the relevant entries before the concat operation.\n",
      "  master_df = pd.concat([master_df, mnas], ignore_index=True)\n"
     ]
    },
    {
     "name": "stdout",
     "output_type": "stream",
     "text": [
      "(19, 71)\n",
      "Master shape: (627, 71)\n",
      "Start Date: 19860616, End Date: 19860618\n",
      "Downloading data from refinitiv...\n"
     ]
    },
    {
     "name": "stderr",
     "output_type": "stream",
     "text": [
      "/var/tmp/ipykernel_10925/3801902500.py:128: FutureWarning: The behavior of DataFrame concatenation with empty or all-NA entries is deprecated. In a future version, this will no longer exclude empty or all-NA columns when determining the result dtypes. To retain the old behavior, exclude the relevant entries before the concat operation.\n",
      "  master_df = pd.concat([master_df, mnas], ignore_index=True)\n"
     ]
    },
    {
     "name": "stdout",
     "output_type": "stream",
     "text": [
      "(54, 71)\n",
      "Master shape: (681, 71)\n",
      "Start Date: 19860619, End Date: 19860621\n",
      "Downloading data from refinitiv...\n"
     ]
    },
    {
     "name": "stderr",
     "output_type": "stream",
     "text": [
      "/var/tmp/ipykernel_10925/3801902500.py:128: FutureWarning: The behavior of DataFrame concatenation with empty or all-NA entries is deprecated. In a future version, this will no longer exclude empty or all-NA columns when determining the result dtypes. To retain the old behavior, exclude the relevant entries before the concat operation.\n",
      "  master_df = pd.concat([master_df, mnas], ignore_index=True)\n"
     ]
    },
    {
     "name": "stdout",
     "output_type": "stream",
     "text": [
      "(26, 71)\n",
      "Master shape: (707, 71)\n",
      "Start Date: 19860622, End Date: 19860624\n",
      "Downloading data from refinitiv...\n"
     ]
    },
    {
     "name": "stderr",
     "output_type": "stream",
     "text": [
      "/var/tmp/ipykernel_10925/3801902500.py:128: FutureWarning: The behavior of DataFrame concatenation with empty or all-NA entries is deprecated. In a future version, this will no longer exclude empty or all-NA columns when determining the result dtypes. To retain the old behavior, exclude the relevant entries before the concat operation.\n",
      "  master_df = pd.concat([master_df, mnas], ignore_index=True)\n",
      "ERROR!!! An error occurred while requesting URL('https://api.refinitiv.com/data/datagrid/beta1/').\n",
      "     ReadTimeout('')\n"
     ]
    },
    {
     "name": "stdout",
     "output_type": "stream",
     "text": [
      "An error occurred: . Retrying for the range 19860622 to 19860624...\n",
      "Start Date: 19860622, End Date: 19860624\n",
      "Downloading data from refinitiv...\n"
     ]
    },
    {
     "name": "stderr",
     "output_type": "stream",
     "text": [
      "ERROR!!! An error occurred while requesting URL('https://api.refinitiv.com/data/datagrid/beta1/').\n",
      "     ReadTimeout('')\n"
     ]
    },
    {
     "name": "stdout",
     "output_type": "stream",
     "text": [
      "An error occurred: . Retrying for the range 19860622 to 19860624...\n",
      "Start Date: 19860622, End Date: 19860624\n",
      "Downloading data from refinitiv...\n",
      "(38, 71)\n",
      "Master shape: (745, 71)\n",
      "Appending chunk to BQ\n"
     ]
    },
    {
     "name": "stderr",
     "output_type": "stream",
     "text": [
      "/var/tmp/ipykernel_10925/3801902500.py:128: FutureWarning: The behavior of DataFrame concatenation with empty or all-NA entries is deprecated. In a future version, this will no longer exclude empty or all-NA columns when determining the result dtypes. To retain the old behavior, exclude the relevant entries before the concat operation.\n",
      "  master_df = pd.concat([master_df, mnas], ignore_index=True)\n"
     ]
    },
    {
     "name": "stdout",
     "output_type": "stream",
     "text": [
      "Data appended successfully\n",
      "Start Date: 19860625, End Date: 19860627\n",
      "Downloading data from refinitiv...\n",
      "(65, 71)\n",
      "Master shape: (65, 71)\n",
      "Start Date: 19860628, End Date: 19860630\n",
      "Downloading data from refinitiv...\n",
      "(58, 71)\n",
      "Master shape: (123, 71)\n",
      "Start Date: 19860701, End Date: 19860703\n",
      "Downloading data from refinitiv...\n"
     ]
    },
    {
     "name": "stderr",
     "output_type": "stream",
     "text": [
      "/var/tmp/ipykernel_10925/3801902500.py:128: FutureWarning: The behavior of DataFrame concatenation with empty or all-NA entries is deprecated. In a future version, this will no longer exclude empty or all-NA columns when determining the result dtypes. To retain the old behavior, exclude the relevant entries before the concat operation.\n",
      "  master_df = pd.concat([master_df, mnas], ignore_index=True)\n"
     ]
    },
    {
     "name": "stdout",
     "output_type": "stream",
     "text": [
      "(62, 71)\n",
      "Master shape: (185, 71)\n",
      "Start Date: 19860704, End Date: 19860706\n",
      "Downloading data from refinitiv...\n",
      "(3, 71)\n",
      "Master shape: (188, 71)\n",
      "Start Date: 19860707, End Date: 19860709\n",
      "Downloading data from refinitiv...\n"
     ]
    },
    {
     "name": "stderr",
     "output_type": "stream",
     "text": [
      "/var/tmp/ipykernel_10925/3801902500.py:128: FutureWarning: The behavior of DataFrame concatenation with empty or all-NA entries is deprecated. In a future version, this will no longer exclude empty or all-NA columns when determining the result dtypes. To retain the old behavior, exclude the relevant entries before the concat operation.\n",
      "  master_df = pd.concat([master_df, mnas], ignore_index=True)\n"
     ]
    },
    {
     "name": "stdout",
     "output_type": "stream",
     "text": [
      "(39, 71)\n",
      "Master shape: (227, 71)\n",
      "Start Date: 19860710, End Date: 19860712\n",
      "Downloading data from refinitiv...\n",
      "(26, 71)\n",
      "Master shape: (253, 71)\n",
      "Start Date: 19860713, End Date: 19860715\n",
      "Downloading data from refinitiv...\n"
     ]
    },
    {
     "name": "stderr",
     "output_type": "stream",
     "text": [
      "/var/tmp/ipykernel_10925/3801902500.py:128: FutureWarning: The behavior of DataFrame concatenation with empty or all-NA entries is deprecated. In a future version, this will no longer exclude empty or all-NA columns when determining the result dtypes. To retain the old behavior, exclude the relevant entries before the concat operation.\n",
      "  master_df = pd.concat([master_df, mnas], ignore_index=True)\n"
     ]
    },
    {
     "name": "stdout",
     "output_type": "stream",
     "text": [
      "(31, 71)\n",
      "Master shape: (284, 71)\n",
      "Start Date: 19860716, End Date: 19860718\n",
      "Downloading data from refinitiv...\n"
     ]
    },
    {
     "name": "stderr",
     "output_type": "stream",
     "text": [
      "/var/tmp/ipykernel_10925/3801902500.py:128: FutureWarning: The behavior of DataFrame concatenation with empty or all-NA entries is deprecated. In a future version, this will no longer exclude empty or all-NA columns when determining the result dtypes. To retain the old behavior, exclude the relevant entries before the concat operation.\n",
      "  master_df = pd.concat([master_df, mnas], ignore_index=True)\n"
     ]
    },
    {
     "name": "stdout",
     "output_type": "stream",
     "text": [
      "(44, 71)\n",
      "Master shape: (328, 71)\n",
      "Start Date: 19860719, End Date: 19860721\n",
      "Downloading data from refinitiv...\n"
     ]
    },
    {
     "name": "stderr",
     "output_type": "stream",
     "text": [
      "/var/tmp/ipykernel_10925/3801902500.py:128: FutureWarning: The behavior of DataFrame concatenation with empty or all-NA entries is deprecated. In a future version, this will no longer exclude empty or all-NA columns when determining the result dtypes. To retain the old behavior, exclude the relevant entries before the concat operation.\n",
      "  master_df = pd.concat([master_df, mnas], ignore_index=True)\n"
     ]
    },
    {
     "name": "stdout",
     "output_type": "stream",
     "text": [
      "(22, 71)\n",
      "Master shape: (350, 71)\n",
      "Start Date: 19860722, End Date: 19860724\n",
      "Downloading data from refinitiv...\n"
     ]
    },
    {
     "name": "stderr",
     "output_type": "stream",
     "text": [
      "/var/tmp/ipykernel_10925/3801902500.py:128: FutureWarning: The behavior of DataFrame concatenation with empty or all-NA entries is deprecated. In a future version, this will no longer exclude empty or all-NA columns when determining the result dtypes. To retain the old behavior, exclude the relevant entries before the concat operation.\n",
      "  master_df = pd.concat([master_df, mnas], ignore_index=True)\n"
     ]
    },
    {
     "name": "stdout",
     "output_type": "stream",
     "text": [
      "(42, 71)\n",
      "Master shape: (392, 71)\n",
      "Start Date: 19860725, End Date: 19860727\n",
      "Downloading data from refinitiv...\n"
     ]
    },
    {
     "name": "stderr",
     "output_type": "stream",
     "text": [
      "/var/tmp/ipykernel_10925/3801902500.py:128: FutureWarning: The behavior of DataFrame concatenation with empty or all-NA entries is deprecated. In a future version, this will no longer exclude empty or all-NA columns when determining the result dtypes. To retain the old behavior, exclude the relevant entries before the concat operation.\n",
      "  master_df = pd.concat([master_df, mnas], ignore_index=True)\n"
     ]
    },
    {
     "name": "stdout",
     "output_type": "stream",
     "text": [
      "(14, 71)\n",
      "Master shape: (406, 71)\n",
      "Start Date: 19860728, End Date: 19860730\n",
      "Downloading data from refinitiv...\n"
     ]
    },
    {
     "name": "stderr",
     "output_type": "stream",
     "text": [
      "/var/tmp/ipykernel_10925/3801902500.py:128: FutureWarning: The behavior of DataFrame concatenation with empty or all-NA entries is deprecated. In a future version, this will no longer exclude empty or all-NA columns when determining the result dtypes. To retain the old behavior, exclude the relevant entries before the concat operation.\n",
      "  master_df = pd.concat([master_df, mnas], ignore_index=True)\n",
      "ERROR!!! An error occurred while requesting URL('https://api.refinitiv.com/data/datagrid/beta1/').\n",
      "     ReadTimeout('')\n"
     ]
    },
    {
     "name": "stdout",
     "output_type": "stream",
     "text": [
      "An error occurred: . Retrying for the range 19860728 to 19860730...\n",
      "Start Date: 19860728, End Date: 19860730\n",
      "Downloading data from refinitiv...\n",
      "(68, 71)\n",
      "Master shape: (474, 71)\n",
      "Start Date: 19860731, End Date: 19860802\n",
      "Downloading data from refinitiv...\n",
      "(69, 71)\n",
      "Master shape: (543, 71)\n",
      "Start Date: 19860803, End Date: 19860805\n",
      "Downloading data from refinitiv...\n"
     ]
    },
    {
     "name": "stderr",
     "output_type": "stream",
     "text": [
      "/var/tmp/ipykernel_10925/3801902500.py:128: FutureWarning: The behavior of DataFrame concatenation with empty or all-NA entries is deprecated. In a future version, this will no longer exclude empty or all-NA columns when determining the result dtypes. To retain the old behavior, exclude the relevant entries before the concat operation.\n",
      "  master_df = pd.concat([master_df, mnas], ignore_index=True)\n"
     ]
    },
    {
     "name": "stdout",
     "output_type": "stream",
     "text": [
      "(37, 71)\n",
      "Master shape: (580, 71)\n",
      "Start Date: 19860806, End Date: 19860808\n",
      "Downloading data from refinitiv...\n"
     ]
    },
    {
     "name": "stderr",
     "output_type": "stream",
     "text": [
      "/var/tmp/ipykernel_10925/3801902500.py:128: FutureWarning: The behavior of DataFrame concatenation with empty or all-NA entries is deprecated. In a future version, this will no longer exclude empty or all-NA columns when determining the result dtypes. To retain the old behavior, exclude the relevant entries before the concat operation.\n",
      "  master_df = pd.concat([master_df, mnas], ignore_index=True)\n",
      "ERROR!!! An error occurred while requesting URL('https://api.refinitiv.com/data/datagrid/beta1/').\n",
      "     ReadTimeout('')\n"
     ]
    },
    {
     "name": "stdout",
     "output_type": "stream",
     "text": [
      "An error occurred: . Retrying for the range 19860806 to 19860808...\n",
      "Start Date: 19860806, End Date: 19860808\n",
      "Downloading data from refinitiv...\n",
      "(36, 71)\n",
      "Master shape: (616, 71)\n",
      "Start Date: 19860809, End Date: 19860811\n",
      "Downloading data from refinitiv...\n"
     ]
    },
    {
     "name": "stderr",
     "output_type": "stream",
     "text": [
      "/var/tmp/ipykernel_10925/3801902500.py:128: FutureWarning: The behavior of DataFrame concatenation with empty or all-NA entries is deprecated. In a future version, this will no longer exclude empty or all-NA columns when determining the result dtypes. To retain the old behavior, exclude the relevant entries before the concat operation.\n",
      "  master_df = pd.concat([master_df, mnas], ignore_index=True)\n",
      "ERROR!!! An error occurred while requesting URL('https://api.refinitiv.com/data/datagrid/beta1/').\n",
      "     ReadTimeout('')\n"
     ]
    },
    {
     "name": "stdout",
     "output_type": "stream",
     "text": [
      "An error occurred: . Retrying for the range 19860809 to 19860811...\n",
      "Start Date: 19860809, End Date: 19860811\n",
      "Downloading data from refinitiv...\n",
      "(24, 71)\n",
      "Master shape: (640, 71)\n",
      "Start Date: 19860812, End Date: 19860814\n",
      "Downloading data from refinitiv...\n"
     ]
    },
    {
     "name": "stderr",
     "output_type": "stream",
     "text": [
      "/var/tmp/ipykernel_10925/3801902500.py:128: FutureWarning: The behavior of DataFrame concatenation with empty or all-NA entries is deprecated. In a future version, this will no longer exclude empty or all-NA columns when determining the result dtypes. To retain the old behavior, exclude the relevant entries before the concat operation.\n",
      "  master_df = pd.concat([master_df, mnas], ignore_index=True)\n"
     ]
    },
    {
     "name": "stdout",
     "output_type": "stream",
     "text": [
      "(43, 71)\n",
      "Master shape: (683, 71)\n",
      "Start Date: 19860815, End Date: 19860817\n",
      "Downloading data from refinitiv...\n"
     ]
    },
    {
     "name": "stderr",
     "output_type": "stream",
     "text": [
      "/var/tmp/ipykernel_10925/3801902500.py:128: FutureWarning: The behavior of DataFrame concatenation with empty or all-NA entries is deprecated. In a future version, this will no longer exclude empty or all-NA columns when determining the result dtypes. To retain the old behavior, exclude the relevant entries before the concat operation.\n",
      "  master_df = pd.concat([master_df, mnas], ignore_index=True)\n"
     ]
    },
    {
     "name": "stdout",
     "output_type": "stream",
     "text": [
      "(15, 71)\n",
      "Master shape: (698, 71)\n",
      "Start Date: 19860818, End Date: 19860820\n",
      "Downloading data from refinitiv...\n",
      "(66, 71)\n",
      "Master shape: (764, 71)\n",
      "Start Date: 19860821, End Date: 19860823\n",
      "Downloading data from refinitiv...\n"
     ]
    },
    {
     "name": "stderr",
     "output_type": "stream",
     "text": [
      "/var/tmp/ipykernel_10925/3801902500.py:128: FutureWarning: The behavior of DataFrame concatenation with empty or all-NA entries is deprecated. In a future version, this will no longer exclude empty or all-NA columns when determining the result dtypes. To retain the old behavior, exclude the relevant entries before the concat operation.\n",
      "  master_df = pd.concat([master_df, mnas], ignore_index=True)\n"
     ]
    },
    {
     "name": "stdout",
     "output_type": "stream",
     "text": [
      "(37, 71)\n",
      "Master shape: (801, 71)\n",
      "Appending chunk to BQ\n"
     ]
    },
    {
     "name": "stderr",
     "output_type": "stream",
     "text": [
      "/var/tmp/ipykernel_10925/3801902500.py:128: FutureWarning: The behavior of DataFrame concatenation with empty or all-NA entries is deprecated. In a future version, this will no longer exclude empty or all-NA columns when determining the result dtypes. To retain the old behavior, exclude the relevant entries before the concat operation.\n",
      "  master_df = pd.concat([master_df, mnas], ignore_index=True)\n"
     ]
    },
    {
     "name": "stdout",
     "output_type": "stream",
     "text": [
      "Data appended successfully\n",
      "Start Date: 19860824, End Date: 19860826\n",
      "Downloading data from refinitiv...\n",
      "(30, 71)\n",
      "Master shape: (30, 71)\n",
      "Start Date: 19860827, End Date: 19860829\n",
      "Downloading data from refinitiv...\n",
      "(71, 71)\n",
      "Master shape: (101, 71)\n",
      "Start Date: 19860830, End Date: 19860901\n",
      "Downloading data from refinitiv...\n",
      "(6, 71)\n",
      "Master shape: (107, 71)\n",
      "Start Date: 19860902, End Date: 19860904\n",
      "Downloading data from refinitiv...\n"
     ]
    },
    {
     "name": "stderr",
     "output_type": "stream",
     "text": [
      "/var/tmp/ipykernel_10925/3801902500.py:128: FutureWarning: The behavior of DataFrame concatenation with empty or all-NA entries is deprecated. In a future version, this will no longer exclude empty or all-NA columns when determining the result dtypes. To retain the old behavior, exclude the relevant entries before the concat operation.\n",
      "  master_df = pd.concat([master_df, mnas], ignore_index=True)\n"
     ]
    },
    {
     "name": "stdout",
     "output_type": "stream",
     "text": [
      "(46, 71)\n",
      "Master shape: (153, 71)\n",
      "Start Date: 19860905, End Date: 19860907\n",
      "Downloading data from refinitiv...\n",
      "(11, 71)\n",
      "Master shape: (164, 71)\n",
      "Start Date: 19860908, End Date: 19860910\n",
      "Downloading data from refinitiv...\n",
      "(52, 71)\n",
      "Master shape: (216, 71)\n",
      "Start Date: 19860911, End Date: 19860913\n",
      "Downloading data from refinitiv...\n"
     ]
    },
    {
     "name": "stderr",
     "output_type": "stream",
     "text": [
      "/var/tmp/ipykernel_10925/3801902500.py:128: FutureWarning: The behavior of DataFrame concatenation with empty or all-NA entries is deprecated. In a future version, this will no longer exclude empty or all-NA columns when determining the result dtypes. To retain the old behavior, exclude the relevant entries before the concat operation.\n",
      "  master_df = pd.concat([master_df, mnas], ignore_index=True)\n"
     ]
    },
    {
     "name": "stdout",
     "output_type": "stream",
     "text": [
      "(29, 71)\n",
      "Master shape: (245, 71)\n",
      "Start Date: 19860914, End Date: 19860916\n",
      "Downloading data from refinitiv...\n",
      "(36, 71)\n",
      "Master shape: (281, 71)\n",
      "Start Date: 19860917, End Date: 19860919\n",
      "Downloading data from refinitiv...\n"
     ]
    },
    {
     "name": "stderr",
     "output_type": "stream",
     "text": [
      "/var/tmp/ipykernel_10925/3801902500.py:128: FutureWarning: The behavior of DataFrame concatenation with empty or all-NA entries is deprecated. In a future version, this will no longer exclude empty or all-NA columns when determining the result dtypes. To retain the old behavior, exclude the relevant entries before the concat operation.\n",
      "  master_df = pd.concat([master_df, mnas], ignore_index=True)\n"
     ]
    },
    {
     "name": "stdout",
     "output_type": "stream",
     "text": [
      "(56, 71)\n",
      "Master shape: (337, 71)\n",
      "Start Date: 19860920, End Date: 19860922\n",
      "Downloading data from refinitiv...\n"
     ]
    },
    {
     "name": "stderr",
     "output_type": "stream",
     "text": [
      "/var/tmp/ipykernel_10925/3801902500.py:128: FutureWarning: The behavior of DataFrame concatenation with empty or all-NA entries is deprecated. In a future version, this will no longer exclude empty or all-NA columns when determining the result dtypes. To retain the old behavior, exclude the relevant entries before the concat operation.\n",
      "  master_df = pd.concat([master_df, mnas], ignore_index=True)\n"
     ]
    },
    {
     "name": "stdout",
     "output_type": "stream",
     "text": [
      "(23, 71)\n",
      "Master shape: (360, 71)\n",
      "Start Date: 19860923, End Date: 19860925\n",
      "Downloading data from refinitiv...\n"
     ]
    },
    {
     "name": "stderr",
     "output_type": "stream",
     "text": [
      "/var/tmp/ipykernel_10925/3801902500.py:128: FutureWarning: The behavior of DataFrame concatenation with empty or all-NA entries is deprecated. In a future version, this will no longer exclude empty or all-NA columns when determining the result dtypes. To retain the old behavior, exclude the relevant entries before the concat operation.\n",
      "  master_df = pd.concat([master_df, mnas], ignore_index=True)\n"
     ]
    },
    {
     "name": "stdout",
     "output_type": "stream",
     "text": [
      "(53, 71)\n",
      "Master shape: (413, 71)\n",
      "Start Date: 19860926, End Date: 19860928\n",
      "Downloading data from refinitiv...\n"
     ]
    },
    {
     "name": "stderr",
     "output_type": "stream",
     "text": [
      "/var/tmp/ipykernel_10925/3801902500.py:128: FutureWarning: The behavior of DataFrame concatenation with empty or all-NA entries is deprecated. In a future version, this will no longer exclude empty or all-NA columns when determining the result dtypes. To retain the old behavior, exclude the relevant entries before the concat operation.\n",
      "  master_df = pd.concat([master_df, mnas], ignore_index=True)\n"
     ]
    },
    {
     "name": "stdout",
     "output_type": "stream",
     "text": [
      "(32, 71)\n",
      "Master shape: (445, 71)\n",
      "Start Date: 19860929, End Date: 19861001\n",
      "Downloading data from refinitiv...\n"
     ]
    },
    {
     "name": "stderr",
     "output_type": "stream",
     "text": [
      "/var/tmp/ipykernel_10925/3801902500.py:128: FutureWarning: The behavior of DataFrame concatenation with empty or all-NA entries is deprecated. In a future version, this will no longer exclude empty or all-NA columns when determining the result dtypes. To retain the old behavior, exclude the relevant entries before the concat operation.\n",
      "  master_df = pd.concat([master_df, mnas], ignore_index=True)\n"
     ]
    },
    {
     "name": "stdout",
     "output_type": "stream",
     "text": [
      "(103, 71)\n",
      "Master shape: (548, 71)\n",
      "Start Date: 19861002, End Date: 19861004\n",
      "Downloading data from refinitiv...\n",
      "(45, 71)\n",
      "Master shape: (593, 71)\n",
      "Start Date: 19861005, End Date: 19861007\n",
      "Downloading data from refinitiv...\n"
     ]
    },
    {
     "name": "stderr",
     "output_type": "stream",
     "text": [
      "/var/tmp/ipykernel_10925/3801902500.py:128: FutureWarning: The behavior of DataFrame concatenation with empty or all-NA entries is deprecated. In a future version, this will no longer exclude empty or all-NA columns when determining the result dtypes. To retain the old behavior, exclude the relevant entries before the concat operation.\n",
      "  master_df = pd.concat([master_df, mnas], ignore_index=True)\n"
     ]
    },
    {
     "name": "stdout",
     "output_type": "stream",
     "text": [
      "(42, 71)\n",
      "Master shape: (635, 71)\n",
      "Start Date: 19861008, End Date: 19861010\n",
      "Downloading data from refinitiv...\n",
      "(46, 71)\n",
      "Master shape: (681, 71)\n",
      "Start Date: 19861011, End Date: 19861013\n",
      "Downloading data from refinitiv...\n"
     ]
    },
    {
     "name": "stderr",
     "output_type": "stream",
     "text": [
      "/var/tmp/ipykernel_10925/3801902500.py:128: FutureWarning: The behavior of DataFrame concatenation with empty or all-NA entries is deprecated. In a future version, this will no longer exclude empty or all-NA columns when determining the result dtypes. To retain the old behavior, exclude the relevant entries before the concat operation.\n",
      "  master_df = pd.concat([master_df, mnas], ignore_index=True)\n"
     ]
    },
    {
     "name": "stdout",
     "output_type": "stream",
     "text": [
      "(19, 71)\n",
      "Master shape: (700, 71)\n",
      "Start Date: 19861014, End Date: 19861016\n",
      "Downloading data from refinitiv...\n",
      "(61, 71)\n",
      "Master shape: (761, 71)\n",
      "Start Date: 19861017, End Date: 19861019\n",
      "Downloading data from refinitiv...\n"
     ]
    },
    {
     "name": "stderr",
     "output_type": "stream",
     "text": [
      "/var/tmp/ipykernel_10925/3801902500.py:128: FutureWarning: The behavior of DataFrame concatenation with empty or all-NA entries is deprecated. In a future version, this will no longer exclude empty or all-NA columns when determining the result dtypes. To retain the old behavior, exclude the relevant entries before the concat operation.\n",
      "  master_df = pd.concat([master_df, mnas], ignore_index=True)\n"
     ]
    },
    {
     "name": "stdout",
     "output_type": "stream",
     "text": [
      "(14, 71)\n",
      "Master shape: (775, 71)\n",
      "Start Date: 19861020, End Date: 19861022\n",
      "Downloading data from refinitiv...\n"
     ]
    },
    {
     "name": "stderr",
     "output_type": "stream",
     "text": [
      "/var/tmp/ipykernel_10925/3801902500.py:128: FutureWarning: The behavior of DataFrame concatenation with empty or all-NA entries is deprecated. In a future version, this will no longer exclude empty or all-NA columns when determining the result dtypes. To retain the old behavior, exclude the relevant entries before the concat operation.\n",
      "  master_df = pd.concat([master_df, mnas], ignore_index=True)\n"
     ]
    },
    {
     "name": "stdout",
     "output_type": "stream",
     "text": [
      "(70, 71)\n",
      "Master shape: (845, 71)\n",
      "Appending chunk to BQ\n"
     ]
    },
    {
     "name": "stderr",
     "output_type": "stream",
     "text": [
      "/var/tmp/ipykernel_10925/3801902500.py:128: FutureWarning: The behavior of DataFrame concatenation with empty or all-NA entries is deprecated. In a future version, this will no longer exclude empty or all-NA columns when determining the result dtypes. To retain the old behavior, exclude the relevant entries before the concat operation.\n",
      "  master_df = pd.concat([master_df, mnas], ignore_index=True)\n"
     ]
    },
    {
     "name": "stdout",
     "output_type": "stream",
     "text": [
      "Data appended successfully\n",
      "Start Date: 19861023, End Date: 19861025\n",
      "Downloading data from refinitiv...\n",
      "(35, 71)\n",
      "Master shape: (35, 71)\n",
      "Start Date: 19861026, End Date: 19861028\n",
      "Downloading data from refinitiv...\n",
      "(45, 71)\n",
      "Master shape: (80, 71)\n",
      "Start Date: 19861029, End Date: 19861031\n",
      "Downloading data from refinitiv...\n",
      "(87, 71)\n",
      "Master shape: (167, 71)\n",
      "Start Date: 19861101, End Date: 19861103\n",
      "Downloading data from refinitiv...\n"
     ]
    },
    {
     "name": "stderr",
     "output_type": "stream",
     "text": [
      "/var/tmp/ipykernel_10925/3801902500.py:128: FutureWarning: The behavior of DataFrame concatenation with empty or all-NA entries is deprecated. In a future version, this will no longer exclude empty or all-NA columns when determining the result dtypes. To retain the old behavior, exclude the relevant entries before the concat operation.\n",
      "  master_df = pd.concat([master_df, mnas], ignore_index=True)\n",
      "ERROR!!! An error occurred while requesting URL('https://api.refinitiv.com/data/datagrid/beta1/').\n",
      "     ReadTimeout('')\n"
     ]
    },
    {
     "name": "stdout",
     "output_type": "stream",
     "text": [
      "An error occurred: . Retrying for the range 19861101 to 19861103...\n",
      "Start Date: 19861101, End Date: 19861103\n",
      "Downloading data from refinitiv...\n",
      "(32, 71)\n",
      "Master shape: (199, 71)\n",
      "Start Date: 19861104, End Date: 19861106\n",
      "Downloading data from refinitiv...\n"
     ]
    },
    {
     "name": "stderr",
     "output_type": "stream",
     "text": [
      "/var/tmp/ipykernel_10925/3801902500.py:128: FutureWarning: The behavior of DataFrame concatenation with empty or all-NA entries is deprecated. In a future version, this will no longer exclude empty or all-NA columns when determining the result dtypes. To retain the old behavior, exclude the relevant entries before the concat operation.\n",
      "  master_df = pd.concat([master_df, mnas], ignore_index=True)\n"
     ]
    },
    {
     "name": "stdout",
     "output_type": "stream",
     "text": [
      "(80, 71)\n",
      "Master shape: (279, 71)\n",
      "Start Date: 19861107, End Date: 19861109\n",
      "Downloading data from refinitiv...\n",
      "(28, 71)\n",
      "Master shape: (307, 71)\n",
      "Start Date: 19861110, End Date: 19861112\n",
      "Downloading data from refinitiv...\n"
     ]
    },
    {
     "name": "stderr",
     "output_type": "stream",
     "text": [
      "/var/tmp/ipykernel_10925/3801902500.py:128: FutureWarning: The behavior of DataFrame concatenation with empty or all-NA entries is deprecated. In a future version, this will no longer exclude empty or all-NA columns when determining the result dtypes. To retain the old behavior, exclude the relevant entries before the concat operation.\n",
      "  master_df = pd.concat([master_df, mnas], ignore_index=True)\n"
     ]
    },
    {
     "name": "stdout",
     "output_type": "stream",
     "text": [
      "(92, 71)\n",
      "Master shape: (399, 71)\n",
      "Start Date: 19861113, End Date: 19861115\n",
      "Downloading data from refinitiv...\n",
      "(51, 71)\n",
      "Master shape: (450, 71)\n",
      "Start Date: 19861116, End Date: 19861118\n",
      "Downloading data from refinitiv...\n"
     ]
    },
    {
     "name": "stderr",
     "output_type": "stream",
     "text": [
      "/var/tmp/ipykernel_10925/3801902500.py:128: FutureWarning: The behavior of DataFrame concatenation with empty or all-NA entries is deprecated. In a future version, this will no longer exclude empty or all-NA columns when determining the result dtypes. To retain the old behavior, exclude the relevant entries before the concat operation.\n",
      "  master_df = pd.concat([master_df, mnas], ignore_index=True)\n"
     ]
    },
    {
     "name": "stdout",
     "output_type": "stream",
     "text": [
      "(49, 71)\n",
      "Master shape: (499, 71)\n",
      "Start Date: 19861119, End Date: 19861121\n",
      "Downloading data from refinitiv...\n",
      "(71, 71)\n",
      "Master shape: (570, 71)\n",
      "Start Date: 19861122, End Date: 19861124\n",
      "Downloading data from refinitiv...\n"
     ]
    },
    {
     "name": "stderr",
     "output_type": "stream",
     "text": [
      "/var/tmp/ipykernel_10925/3801902500.py:128: FutureWarning: The behavior of DataFrame concatenation with empty or all-NA entries is deprecated. In a future version, this will no longer exclude empty or all-NA columns when determining the result dtypes. To retain the old behavior, exclude the relevant entries before the concat operation.\n",
      "  master_df = pd.concat([master_df, mnas], ignore_index=True)\n"
     ]
    },
    {
     "name": "stdout",
     "output_type": "stream",
     "text": [
      "(23, 71)\n",
      "Master shape: (593, 71)\n",
      "Start Date: 19861125, End Date: 19861127\n",
      "Downloading data from refinitiv...\n"
     ]
    },
    {
     "name": "stderr",
     "output_type": "stream",
     "text": [
      "/var/tmp/ipykernel_10925/3801902500.py:128: FutureWarning: The behavior of DataFrame concatenation with empty or all-NA entries is deprecated. In a future version, this will no longer exclude empty or all-NA columns when determining the result dtypes. To retain the old behavior, exclude the relevant entries before the concat operation.\n",
      "  master_df = pd.concat([master_df, mnas], ignore_index=True)\n"
     ]
    },
    {
     "name": "stdout",
     "output_type": "stream",
     "text": [
      "(48, 71)\n",
      "Master shape: (641, 71)\n",
      "Start Date: 19861128, End Date: 19861130\n",
      "Downloading data from refinitiv...\n"
     ]
    },
    {
     "name": "stderr",
     "output_type": "stream",
     "text": [
      "/var/tmp/ipykernel_10925/3801902500.py:128: FutureWarning: The behavior of DataFrame concatenation with empty or all-NA entries is deprecated. In a future version, this will no longer exclude empty or all-NA columns when determining the result dtypes. To retain the old behavior, exclude the relevant entries before the concat operation.\n",
      "  master_df = pd.concat([master_df, mnas], ignore_index=True)\n"
     ]
    },
    {
     "name": "stdout",
     "output_type": "stream",
     "text": [
      "(58, 71)\n",
      "Master shape: (699, 71)\n",
      "Start Date: 19861201, End Date: 19861203\n",
      "Downloading data from refinitiv...\n"
     ]
    },
    {
     "name": "stderr",
     "output_type": "stream",
     "text": [
      "/var/tmp/ipykernel_10925/3801902500.py:128: FutureWarning: The behavior of DataFrame concatenation with empty or all-NA entries is deprecated. In a future version, this will no longer exclude empty or all-NA columns when determining the result dtypes. To retain the old behavior, exclude the relevant entries before the concat operation.\n",
      "  master_df = pd.concat([master_df, mnas], ignore_index=True)\n"
     ]
    },
    {
     "name": "stdout",
     "output_type": "stream",
     "text": [
      "(73, 71)\n",
      "Master shape: (772, 71)\n",
      "Start Date: 19861204, End Date: 19861206\n",
      "Downloading data from refinitiv...\n"
     ]
    },
    {
     "name": "stderr",
     "output_type": "stream",
     "text": [
      "/var/tmp/ipykernel_10925/3801902500.py:128: FutureWarning: The behavior of DataFrame concatenation with empty or all-NA entries is deprecated. In a future version, this will no longer exclude empty or all-NA columns when determining the result dtypes. To retain the old behavior, exclude the relevant entries before the concat operation.\n",
      "  master_df = pd.concat([master_df, mnas], ignore_index=True)\n"
     ]
    },
    {
     "name": "stdout",
     "output_type": "stream",
     "text": [
      "(40, 71)\n",
      "Master shape: (812, 71)\n",
      "Start Date: 19861207, End Date: 19861209\n",
      "Downloading data from refinitiv...\n"
     ]
    },
    {
     "name": "stderr",
     "output_type": "stream",
     "text": [
      "/var/tmp/ipykernel_10925/3801902500.py:128: FutureWarning: The behavior of DataFrame concatenation with empty or all-NA entries is deprecated. In a future version, this will no longer exclude empty or all-NA columns when determining the result dtypes. To retain the old behavior, exclude the relevant entries before the concat operation.\n",
      "  master_df = pd.concat([master_df, mnas], ignore_index=True)\n"
     ]
    },
    {
     "name": "stdout",
     "output_type": "stream",
     "text": [
      "(37, 71)\n",
      "Master shape: (849, 71)\n",
      "Start Date: 19861210, End Date: 19861212\n",
      "Downloading data from refinitiv...\n"
     ]
    },
    {
     "name": "stderr",
     "output_type": "stream",
     "text": [
      "/var/tmp/ipykernel_10925/3801902500.py:128: FutureWarning: The behavior of DataFrame concatenation with empty or all-NA entries is deprecated. In a future version, this will no longer exclude empty or all-NA columns when determining the result dtypes. To retain the old behavior, exclude the relevant entries before the concat operation.\n",
      "  master_df = pd.concat([master_df, mnas], ignore_index=True)\n"
     ]
    },
    {
     "name": "stdout",
     "output_type": "stream",
     "text": [
      "(57, 71)\n",
      "Master shape: (906, 71)\n",
      "Start Date: 19861213, End Date: 19861215\n",
      "Downloading data from refinitiv...\n"
     ]
    },
    {
     "name": "stderr",
     "output_type": "stream",
     "text": [
      "/var/tmp/ipykernel_10925/3801902500.py:128: FutureWarning: The behavior of DataFrame concatenation with empty or all-NA entries is deprecated. In a future version, this will no longer exclude empty or all-NA columns when determining the result dtypes. To retain the old behavior, exclude the relevant entries before the concat operation.\n",
      "  master_df = pd.concat([master_df, mnas], ignore_index=True)\n"
     ]
    },
    {
     "name": "stdout",
     "output_type": "stream",
     "text": [
      "(12, 71)\n",
      "Master shape: (918, 71)\n",
      "Start Date: 19861216, End Date: 19861218\n",
      "Downloading data from refinitiv...\n"
     ]
    },
    {
     "name": "stderr",
     "output_type": "stream",
     "text": [
      "/var/tmp/ipykernel_10925/3801902500.py:128: FutureWarning: The behavior of DataFrame concatenation with empty or all-NA entries is deprecated. In a future version, this will no longer exclude empty or all-NA columns when determining the result dtypes. To retain the old behavior, exclude the relevant entries before the concat operation.\n",
      "  master_df = pd.concat([master_df, mnas], ignore_index=True)\n"
     ]
    },
    {
     "name": "stdout",
     "output_type": "stream",
     "text": [
      "(92, 71)\n",
      "Master shape: (1010, 71)\n",
      "Start Date: 19861219, End Date: 19861221\n",
      "Downloading data from refinitiv...\n"
     ]
    },
    {
     "name": "stderr",
     "output_type": "stream",
     "text": [
      "/var/tmp/ipykernel_10925/3801902500.py:128: FutureWarning: The behavior of DataFrame concatenation with empty or all-NA entries is deprecated. In a future version, this will no longer exclude empty or all-NA columns when determining the result dtypes. To retain the old behavior, exclude the relevant entries before the concat operation.\n",
      "  master_df = pd.concat([master_df, mnas], ignore_index=True)\n"
     ]
    },
    {
     "name": "stdout",
     "output_type": "stream",
     "text": [
      "(26, 71)\n",
      "Master shape: (1036, 71)\n",
      "Appending chunk to BQ\n"
     ]
    },
    {
     "name": "stderr",
     "output_type": "stream",
     "text": [
      "/var/tmp/ipykernel_10925/3801902500.py:128: FutureWarning: The behavior of DataFrame concatenation with empty or all-NA entries is deprecated. In a future version, this will no longer exclude empty or all-NA columns when determining the result dtypes. To retain the old behavior, exclude the relevant entries before the concat operation.\n",
      "  master_df = pd.concat([master_df, mnas], ignore_index=True)\n"
     ]
    },
    {
     "name": "stdout",
     "output_type": "stream",
     "text": [
      "Data appended successfully\n",
      "Start Date: 19861222, End Date: 19861224\n",
      "Downloading data from refinitiv...\n",
      "(73, 71)\n",
      "Master shape: (73, 71)\n",
      "Start Date: 19861225, End Date: 19861227\n",
      "Downloading data from refinitiv...\n",
      "(32, 71)\n",
      "Master shape: (105, 71)\n",
      "Start Date: 19861228, End Date: 19861230\n",
      "Downloading data from refinitiv...\n"
     ]
    },
    {
     "name": "stderr",
     "output_type": "stream",
     "text": [
      "/var/tmp/ipykernel_10925/3801902500.py:128: FutureWarning: The behavior of DataFrame concatenation with empty or all-NA entries is deprecated. In a future version, this will no longer exclude empty or all-NA columns when determining the result dtypes. To retain the old behavior, exclude the relevant entries before the concat operation.\n",
      "  master_df = pd.concat([master_df, mnas], ignore_index=True)\n",
      "ERROR!!! An error occurred while requesting URL('https://api.refinitiv.com/data/datagrid/beta1/').\n",
      "     ReadTimeout('')\n"
     ]
    },
    {
     "name": "stdout",
     "output_type": "stream",
     "text": [
      "An error occurred: . Retrying for the range 19861228 to 19861230...\n",
      "Start Date: 19861228, End Date: 19861230\n",
      "Downloading data from refinitiv...\n",
      "(205, 71)\n",
      "Master shape: (310, 71)\n",
      "Start Date: 19861231, End Date: 19870102\n",
      "Downloading data from refinitiv...\n",
      "(350, 71)\n",
      "Master shape: (660, 71)\n",
      "Start Date: 19870103, End Date: 19870105\n",
      "Downloading data from refinitiv...\n"
     ]
    },
    {
     "name": "stderr",
     "output_type": "stream",
     "text": [
      "/var/tmp/ipykernel_10925/3801902500.py:128: FutureWarning: The behavior of DataFrame concatenation with empty or all-NA entries is deprecated. In a future version, this will no longer exclude empty or all-NA columns when determining the result dtypes. To retain the old behavior, exclude the relevant entries before the concat operation.\n",
      "  master_df = pd.concat([master_df, mnas], ignore_index=True)\n"
     ]
    },
    {
     "name": "stdout",
     "output_type": "stream",
     "text": [
      "(48, 71)\n",
      "Master shape: (708, 71)\n",
      "Start Date: 19870106, End Date: 19870108\n",
      "Downloading data from refinitiv...\n"
     ]
    },
    {
     "name": "stderr",
     "output_type": "stream",
     "text": [
      "/var/tmp/ipykernel_10925/3801902500.py:128: FutureWarning: The behavior of DataFrame concatenation with empty or all-NA entries is deprecated. In a future version, this will no longer exclude empty or all-NA columns when determining the result dtypes. To retain the old behavior, exclude the relevant entries before the concat operation.\n",
      "  master_df = pd.concat([master_df, mnas], ignore_index=True)\n"
     ]
    },
    {
     "name": "stdout",
     "output_type": "stream",
     "text": [
      "(59, 71)\n",
      "Master shape: (767, 71)\n",
      "Start Date: 19870109, End Date: 19870111\n",
      "Downloading data from refinitiv...\n"
     ]
    },
    {
     "name": "stderr",
     "output_type": "stream",
     "text": [
      "/var/tmp/ipykernel_10925/3801902500.py:128: FutureWarning: The behavior of DataFrame concatenation with empty or all-NA entries is deprecated. In a future version, this will no longer exclude empty or all-NA columns when determining the result dtypes. To retain the old behavior, exclude the relevant entries before the concat operation.\n",
      "  master_df = pd.concat([master_df, mnas], ignore_index=True)\n"
     ]
    },
    {
     "name": "stdout",
     "output_type": "stream",
     "text": [
      "(15, 71)\n",
      "Master shape: (782, 71)\n",
      "Start Date: 19870112, End Date: 19870114\n",
      "Downloading data from refinitiv...\n"
     ]
    },
    {
     "name": "stderr",
     "output_type": "stream",
     "text": [
      "/var/tmp/ipykernel_10925/3801902500.py:128: FutureWarning: The behavior of DataFrame concatenation with empty or all-NA entries is deprecated. In a future version, this will no longer exclude empty or all-NA columns when determining the result dtypes. To retain the old behavior, exclude the relevant entries before the concat operation.\n",
      "  master_df = pd.concat([master_df, mnas], ignore_index=True)\n"
     ]
    },
    {
     "name": "stdout",
     "output_type": "stream",
     "text": [
      "(52, 71)\n",
      "Master shape: (834, 71)\n",
      "Start Date: 19870115, End Date: 19870117\n",
      "Downloading data from refinitiv...\n"
     ]
    },
    {
     "name": "stderr",
     "output_type": "stream",
     "text": [
      "/var/tmp/ipykernel_10925/3801902500.py:128: FutureWarning: The behavior of DataFrame concatenation with empty or all-NA entries is deprecated. In a future version, this will no longer exclude empty or all-NA columns when determining the result dtypes. To retain the old behavior, exclude the relevant entries before the concat operation.\n",
      "  master_df = pd.concat([master_df, mnas], ignore_index=True)\n"
     ]
    },
    {
     "name": "stdout",
     "output_type": "stream",
     "text": [
      "(41, 71)\n",
      "Master shape: (875, 71)\n",
      "Start Date: 19870118, End Date: 19870120\n",
      "Downloading data from refinitiv...\n"
     ]
    },
    {
     "name": "stderr",
     "output_type": "stream",
     "text": [
      "/var/tmp/ipykernel_10925/3801902500.py:128: FutureWarning: The behavior of DataFrame concatenation with empty or all-NA entries is deprecated. In a future version, this will no longer exclude empty or all-NA columns when determining the result dtypes. To retain the old behavior, exclude the relevant entries before the concat operation.\n",
      "  master_df = pd.concat([master_df, mnas], ignore_index=True)\n"
     ]
    },
    {
     "name": "stdout",
     "output_type": "stream",
     "text": [
      "(37, 71)\n",
      "Master shape: (912, 71)\n",
      "Start Date: 19870121, End Date: 19870123\n",
      "Downloading data from refinitiv...\n"
     ]
    },
    {
     "name": "stderr",
     "output_type": "stream",
     "text": [
      "/var/tmp/ipykernel_10925/3801902500.py:128: FutureWarning: The behavior of DataFrame concatenation with empty or all-NA entries is deprecated. In a future version, this will no longer exclude empty or all-NA columns when determining the result dtypes. To retain the old behavior, exclude the relevant entries before the concat operation.\n",
      "  master_df = pd.concat([master_df, mnas], ignore_index=True)\n"
     ]
    },
    {
     "name": "stdout",
     "output_type": "stream",
     "text": [
      "(48, 71)\n",
      "Master shape: (960, 71)\n",
      "Start Date: 19870124, End Date: 19870126\n",
      "Downloading data from refinitiv...\n"
     ]
    },
    {
     "name": "stderr",
     "output_type": "stream",
     "text": [
      "/var/tmp/ipykernel_10925/3801902500.py:128: FutureWarning: The behavior of DataFrame concatenation with empty or all-NA entries is deprecated. In a future version, this will no longer exclude empty or all-NA columns when determining the result dtypes. To retain the old behavior, exclude the relevant entries before the concat operation.\n",
      "  master_df = pd.concat([master_df, mnas], ignore_index=True)\n"
     ]
    },
    {
     "name": "stdout",
     "output_type": "stream",
     "text": [
      "(15, 71)\n",
      "Master shape: (975, 71)\n",
      "Start Date: 19870127, End Date: 19870129\n",
      "Downloading data from refinitiv...\n"
     ]
    },
    {
     "name": "stderr",
     "output_type": "stream",
     "text": [
      "/var/tmp/ipykernel_10925/3801902500.py:128: FutureWarning: The behavior of DataFrame concatenation with empty or all-NA entries is deprecated. In a future version, this will no longer exclude empty or all-NA columns when determining the result dtypes. To retain the old behavior, exclude the relevant entries before the concat operation.\n",
      "  master_df = pd.concat([master_df, mnas], ignore_index=True)\n"
     ]
    },
    {
     "name": "stdout",
     "output_type": "stream",
     "text": [
      "(71, 71)\n",
      "Master shape: (1046, 71)\n",
      "Start Date: 19870130, End Date: 19870201\n",
      "Downloading data from refinitiv...\n"
     ]
    },
    {
     "name": "stderr",
     "output_type": "stream",
     "text": [
      "/var/tmp/ipykernel_10925/3801902500.py:128: FutureWarning: The behavior of DataFrame concatenation with empty or all-NA entries is deprecated. In a future version, this will no longer exclude empty or all-NA columns when determining the result dtypes. To retain the old behavior, exclude the relevant entries before the concat operation.\n",
      "  master_df = pd.concat([master_df, mnas], ignore_index=True)\n"
     ]
    },
    {
     "name": "stdout",
     "output_type": "stream",
     "text": [
      "(51, 71)\n",
      "Master shape: (1097, 71)\n",
      "Start Date: 19870202, End Date: 19870204\n",
      "Downloading data from refinitiv...\n"
     ]
    },
    {
     "name": "stderr",
     "output_type": "stream",
     "text": [
      "/var/tmp/ipykernel_10925/3801902500.py:128: FutureWarning: The behavior of DataFrame concatenation with empty or all-NA entries is deprecated. In a future version, this will no longer exclude empty or all-NA columns when determining the result dtypes. To retain the old behavior, exclude the relevant entries before the concat operation.\n",
      "  master_df = pd.concat([master_df, mnas], ignore_index=True)\n",
      "ERROR!!! An error occurred while requesting URL('https://api.refinitiv.com/data/datagrid/beta1/').\n",
      "     ReadTimeout('')\n"
     ]
    },
    {
     "name": "stdout",
     "output_type": "stream",
     "text": [
      "An error occurred: . Retrying for the range 19870202 to 19870204...\n",
      "Start Date: 19870202, End Date: 19870204\n",
      "Downloading data from refinitiv...\n",
      "(74, 71)\n",
      "Master shape: (1171, 71)\n",
      "Start Date: 19870205, End Date: 19870207\n",
      "Downloading data from refinitiv...\n"
     ]
    },
    {
     "name": "stderr",
     "output_type": "stream",
     "text": [
      "/var/tmp/ipykernel_10925/3801902500.py:128: FutureWarning: The behavior of DataFrame concatenation with empty or all-NA entries is deprecated. In a future version, this will no longer exclude empty or all-NA columns when determining the result dtypes. To retain the old behavior, exclude the relevant entries before the concat operation.\n",
      "  master_df = pd.concat([master_df, mnas], ignore_index=True)\n"
     ]
    },
    {
     "name": "stdout",
     "output_type": "stream",
     "text": [
      "(47, 71)\n",
      "Master shape: (1218, 71)\n",
      "Start Date: 19870208, End Date: 19870210\n",
      "Downloading data from refinitiv...\n",
      "(37, 71)\n",
      "Master shape: (1255, 71)\n",
      "Start Date: 19870211, End Date: 19870213\n",
      "Downloading data from refinitiv...\n",
      "(51, 71)\n",
      "Master shape: (1306, 71)\n",
      "Start Date: 19870214, End Date: 19870216\n",
      "Downloading data from refinitiv...\n",
      "(14, 71)\n",
      "Master shape: (1320, 71)\n",
      "Start Date: 19870217, End Date: 19870219\n",
      "Downloading data from refinitiv...\n"
     ]
    },
    {
     "name": "stderr",
     "output_type": "stream",
     "text": [
      "/var/tmp/ipykernel_10925/3801902500.py:128: FutureWarning: The behavior of DataFrame concatenation with empty or all-NA entries is deprecated. In a future version, this will no longer exclude empty or all-NA columns when determining the result dtypes. To retain the old behavior, exclude the relevant entries before the concat operation.\n",
      "  master_df = pd.concat([master_df, mnas], ignore_index=True)\n"
     ]
    },
    {
     "name": "stdout",
     "output_type": "stream",
     "text": [
      "(75, 71)\n",
      "Master shape: (1395, 71)\n",
      "Appending chunk to BQ\n"
     ]
    },
    {
     "name": "stderr",
     "output_type": "stream",
     "text": [
      "/var/tmp/ipykernel_10925/3801902500.py:128: FutureWarning: The behavior of DataFrame concatenation with empty or all-NA entries is deprecated. In a future version, this will no longer exclude empty or all-NA columns when determining the result dtypes. To retain the old behavior, exclude the relevant entries before the concat operation.\n",
      "  master_df = pd.concat([master_df, mnas], ignore_index=True)\n"
     ]
    },
    {
     "name": "stdout",
     "output_type": "stream",
     "text": [
      "Data appended successfully\n",
      "Start Date: 19870220, End Date: 19870222\n",
      "Downloading data from refinitiv...\n",
      "(18, 71)\n",
      "Master shape: (18, 71)\n",
      "Start Date: 19870223, End Date: 19870225\n",
      "Downloading data from refinitiv...\n",
      "(52, 71)\n",
      "Master shape: (70, 71)\n",
      "Start Date: 19870226, End Date: 19870228\n",
      "Downloading data from refinitiv...\n",
      "(77, 71)\n",
      "Master shape: (147, 71)\n",
      "Start Date: 19870301, End Date: 19870303\n",
      "Downloading data from refinitiv...\n"
     ]
    },
    {
     "name": "stderr",
     "output_type": "stream",
     "text": [
      "/var/tmp/ipykernel_10925/3801902500.py:128: FutureWarning: The behavior of DataFrame concatenation with empty or all-NA entries is deprecated. In a future version, this will no longer exclude empty or all-NA columns when determining the result dtypes. To retain the old behavior, exclude the relevant entries before the concat operation.\n",
      "  master_df = pd.concat([master_df, mnas], ignore_index=True)\n"
     ]
    },
    {
     "name": "stdout",
     "output_type": "stream",
     "text": [
      "(55, 71)\n",
      "Master shape: (202, 71)\n",
      "Start Date: 19870304, End Date: 19870306\n",
      "Downloading data from refinitiv...\n",
      "(62, 71)\n",
      "Master shape: (264, 71)\n",
      "Start Date: 19870307, End Date: 19870309\n",
      "Downloading data from refinitiv...\n"
     ]
    },
    {
     "name": "stderr",
     "output_type": "stream",
     "text": [
      "/var/tmp/ipykernel_10925/3801902500.py:128: FutureWarning: The behavior of DataFrame concatenation with empty or all-NA entries is deprecated. In a future version, this will no longer exclude empty or all-NA columns when determining the result dtypes. To retain the old behavior, exclude the relevant entries before the concat operation.\n",
      "  master_df = pd.concat([master_df, mnas], ignore_index=True)\n"
     ]
    },
    {
     "name": "stdout",
     "output_type": "stream",
     "text": [
      "(28, 71)\n",
      "Master shape: (292, 71)\n",
      "Start Date: 19870310, End Date: 19870312\n",
      "Downloading data from refinitiv...\n",
      "(71, 71)\n",
      "Master shape: (363, 71)\n",
      "Start Date: 19870313, End Date: 19870315\n",
      "Downloading data from refinitiv...\n",
      "(23, 71)\n",
      "Master shape: (386, 71)\n",
      "Start Date: 19870316, End Date: 19870318\n",
      "Downloading data from refinitiv...\n"
     ]
    },
    {
     "name": "stderr",
     "output_type": "stream",
     "text": [
      "/var/tmp/ipykernel_10925/3801902500.py:128: FutureWarning: The behavior of DataFrame concatenation with empty or all-NA entries is deprecated. In a future version, this will no longer exclude empty or all-NA columns when determining the result dtypes. To retain the old behavior, exclude the relevant entries before the concat operation.\n",
      "  master_df = pd.concat([master_df, mnas], ignore_index=True)\n"
     ]
    },
    {
     "name": "stdout",
     "output_type": "stream",
     "text": [
      "(72, 71)\n",
      "Master shape: (458, 71)\n",
      "Start Date: 19870319, End Date: 19870321\n",
      "Downloading data from refinitiv...\n",
      "(45, 71)\n",
      "Master shape: (503, 71)\n",
      "Start Date: 19870322, End Date: 19870324\n",
      "Downloading data from refinitiv...\n"
     ]
    },
    {
     "name": "stderr",
     "output_type": "stream",
     "text": [
      "/var/tmp/ipykernel_10925/3801902500.py:128: FutureWarning: The behavior of DataFrame concatenation with empty or all-NA entries is deprecated. In a future version, this will no longer exclude empty or all-NA columns when determining the result dtypes. To retain the old behavior, exclude the relevant entries before the concat operation.\n",
      "  master_df = pd.concat([master_df, mnas], ignore_index=True)\n"
     ]
    },
    {
     "name": "stdout",
     "output_type": "stream",
     "text": [
      "(45, 71)\n",
      "Master shape: (548, 71)\n",
      "Start Date: 19870325, End Date: 19870327\n",
      "Downloading data from refinitiv...\n"
     ]
    },
    {
     "name": "stderr",
     "output_type": "stream",
     "text": [
      "/var/tmp/ipykernel_10925/3801902500.py:128: FutureWarning: The behavior of DataFrame concatenation with empty or all-NA entries is deprecated. In a future version, this will no longer exclude empty or all-NA columns when determining the result dtypes. To retain the old behavior, exclude the relevant entries before the concat operation.\n",
      "  master_df = pd.concat([master_df, mnas], ignore_index=True)\n"
     ]
    },
    {
     "name": "stdout",
     "output_type": "stream",
     "text": [
      "(37, 71)\n",
      "Master shape: (585, 71)\n",
      "Start Date: 19870328, End Date: 19870330\n",
      "Downloading data from refinitiv...\n",
      "(27, 71)\n",
      "Master shape: (612, 71)\n",
      "Start Date: 19870331, End Date: 19870402\n",
      "Downloading data from refinitiv...\n"
     ]
    },
    {
     "name": "stderr",
     "output_type": "stream",
     "text": [
      "/var/tmp/ipykernel_10925/3801902500.py:128: FutureWarning: The behavior of DataFrame concatenation with empty or all-NA entries is deprecated. In a future version, this will no longer exclude empty or all-NA columns when determining the result dtypes. To retain the old behavior, exclude the relevant entries before the concat operation.\n",
      "  master_df = pd.concat([master_df, mnas], ignore_index=True)\n"
     ]
    },
    {
     "name": "stdout",
     "output_type": "stream",
     "text": [
      "(94, 71)\n",
      "Master shape: (706, 71)\n",
      "Start Date: 19870403, End Date: 19870405\n",
      "Downloading data from refinitiv...\n"
     ]
    },
    {
     "name": "stderr",
     "output_type": "stream",
     "text": [
      "/var/tmp/ipykernel_10925/3801902500.py:128: FutureWarning: The behavior of DataFrame concatenation with empty or all-NA entries is deprecated. In a future version, this will no longer exclude empty or all-NA columns when determining the result dtypes. To retain the old behavior, exclude the relevant entries before the concat operation.\n",
      "  master_df = pd.concat([master_df, mnas], ignore_index=True)\n"
     ]
    },
    {
     "name": "stdout",
     "output_type": "stream",
     "text": [
      "(12, 71)\n",
      "Master shape: (718, 71)\n",
      "Start Date: 19870406, End Date: 19870408\n",
      "Downloading data from refinitiv...\n"
     ]
    },
    {
     "name": "stderr",
     "output_type": "stream",
     "text": [
      "/var/tmp/ipykernel_10925/3801902500.py:128: FutureWarning: The behavior of DataFrame concatenation with empty or all-NA entries is deprecated. In a future version, this will no longer exclude empty or all-NA columns when determining the result dtypes. To retain the old behavior, exclude the relevant entries before the concat operation.\n",
      "  master_df = pd.concat([master_df, mnas], ignore_index=True)\n"
     ]
    },
    {
     "name": "stdout",
     "output_type": "stream",
     "text": [
      "(61, 71)\n",
      "Master shape: (779, 71)\n",
      "Start Date: 19870409, End Date: 19870411\n",
      "Downloading data from refinitiv...\n",
      "(56, 71)\n",
      "Master shape: (835, 71)\n",
      "Start Date: 19870412, End Date: 19870414\n",
      "Downloading data from refinitiv...\n"
     ]
    },
    {
     "name": "stderr",
     "output_type": "stream",
     "text": [
      "ERROR!!! An error occurred while requesting URL('https://api.refinitiv.com/data/datagrid/beta1/').\n",
      "     ReadTimeout('')\n"
     ]
    },
    {
     "name": "stdout",
     "output_type": "stream",
     "text": [
      "An error occurred: . Retrying for the range 19870412 to 19870414...\n",
      "Start Date: 19870412, End Date: 19870414\n",
      "Downloading data from refinitiv...\n",
      "(46, 71)\n",
      "Master shape: (881, 71)\n",
      "Start Date: 19870415, End Date: 19870417\n",
      "Downloading data from refinitiv...\n"
     ]
    },
    {
     "name": "stderr",
     "output_type": "stream",
     "text": [
      "/var/tmp/ipykernel_10925/3801902500.py:128: FutureWarning: The behavior of DataFrame concatenation with empty or all-NA entries is deprecated. In a future version, this will no longer exclude empty or all-NA columns when determining the result dtypes. To retain the old behavior, exclude the relevant entries before the concat operation.\n",
      "  master_df = pd.concat([master_df, mnas], ignore_index=True)\n"
     ]
    },
    {
     "name": "stdout",
     "output_type": "stream",
     "text": [
      "(48, 71)\n",
      "Master shape: (929, 71)\n",
      "Start Date: 19870418, End Date: 19870420\n",
      "Downloading data from refinitiv...\n",
      "(11, 71)\n",
      "Master shape: (940, 71)\n",
      "Appending chunk to BQ\n"
     ]
    },
    {
     "name": "stderr",
     "output_type": "stream",
     "text": [
      "/var/tmp/ipykernel_10925/3801902500.py:128: FutureWarning: The behavior of DataFrame concatenation with empty or all-NA entries is deprecated. In a future version, this will no longer exclude empty or all-NA columns when determining the result dtypes. To retain the old behavior, exclude the relevant entries before the concat operation.\n",
      "  master_df = pd.concat([master_df, mnas], ignore_index=True)\n"
     ]
    },
    {
     "name": "stdout",
     "output_type": "stream",
     "text": [
      "Data appended successfully\n",
      "Start Date: 19870421, End Date: 19870423\n",
      "Downloading data from refinitiv...\n",
      "(44, 71)\n",
      "Master shape: (44, 71)\n",
      "Start Date: 19870424, End Date: 19870426\n",
      "Downloading data from refinitiv...\n",
      "(25, 71)\n",
      "Master shape: (69, 71)\n",
      "Start Date: 19870427, End Date: 19870429\n",
      "Downloading data from refinitiv...\n"
     ]
    },
    {
     "name": "stderr",
     "output_type": "stream",
     "text": [
      "/var/tmp/ipykernel_10925/3801902500.py:128: FutureWarning: The behavior of DataFrame concatenation with empty or all-NA entries is deprecated. In a future version, this will no longer exclude empty or all-NA columns when determining the result dtypes. To retain the old behavior, exclude the relevant entries before the concat operation.\n",
      "  master_df = pd.concat([master_df, mnas], ignore_index=True)\n"
     ]
    },
    {
     "name": "stdout",
     "output_type": "stream",
     "text": [
      "(53, 71)\n",
      "Master shape: (122, 71)\n",
      "Start Date: 19870430, End Date: 19870502\n",
      "Downloading data from refinitiv...\n"
     ]
    },
    {
     "name": "stderr",
     "output_type": "stream",
     "text": [
      "/var/tmp/ipykernel_10925/3801902500.py:128: FutureWarning: The behavior of DataFrame concatenation with empty or all-NA entries is deprecated. In a future version, this will no longer exclude empty or all-NA columns when determining the result dtypes. To retain the old behavior, exclude the relevant entries before the concat operation.\n",
      "  master_df = pd.concat([master_df, mnas], ignore_index=True)\n"
     ]
    },
    {
     "name": "stdout",
     "output_type": "stream",
     "text": [
      "(67, 71)\n",
      "Master shape: (189, 71)\n",
      "Start Date: 19870503, End Date: 19870505\n",
      "Downloading data from refinitiv...\n"
     ]
    },
    {
     "name": "stderr",
     "output_type": "stream",
     "text": [
      "/var/tmp/ipykernel_10925/3801902500.py:128: FutureWarning: The behavior of DataFrame concatenation with empty or all-NA entries is deprecated. In a future version, this will no longer exclude empty or all-NA columns when determining the result dtypes. To retain the old behavior, exclude the relevant entries before the concat operation.\n",
      "  master_df = pd.concat([master_df, mnas], ignore_index=True)\n"
     ]
    },
    {
     "name": "stdout",
     "output_type": "stream",
     "text": [
      "(39, 71)\n",
      "Master shape: (228, 71)\n",
      "Start Date: 19870506, End Date: 19870508\n",
      "Downloading data from refinitiv...\n"
     ]
    },
    {
     "name": "stderr",
     "output_type": "stream",
     "text": [
      "/var/tmp/ipykernel_10925/3801902500.py:128: FutureWarning: The behavior of DataFrame concatenation with empty or all-NA entries is deprecated. In a future version, this will no longer exclude empty or all-NA columns when determining the result dtypes. To retain the old behavior, exclude the relevant entries before the concat operation.\n",
      "  master_df = pd.concat([master_df, mnas], ignore_index=True)\n"
     ]
    },
    {
     "name": "stdout",
     "output_type": "stream",
     "text": [
      "(57, 71)\n",
      "Master shape: (285, 71)\n",
      "Start Date: 19870509, End Date: 19870511\n",
      "Downloading data from refinitiv...\n",
      "(25, 71)\n",
      "Master shape: (310, 71)\n",
      "Start Date: 19870512, End Date: 19870514\n",
      "Downloading data from refinitiv...\n"
     ]
    },
    {
     "name": "stderr",
     "output_type": "stream",
     "text": [
      "/var/tmp/ipykernel_10925/3801902500.py:128: FutureWarning: The behavior of DataFrame concatenation with empty or all-NA entries is deprecated. In a future version, this will no longer exclude empty or all-NA columns when determining the result dtypes. To retain the old behavior, exclude the relevant entries before the concat operation.\n",
      "  master_df = pd.concat([master_df, mnas], ignore_index=True)\n"
     ]
    },
    {
     "name": "stdout",
     "output_type": "stream",
     "text": [
      "(41, 71)\n",
      "Master shape: (351, 71)\n",
      "Start Date: 19870515, End Date: 19870517\n",
      "Downloading data from refinitiv...\n"
     ]
    },
    {
     "name": "stderr",
     "output_type": "stream",
     "text": [
      "/var/tmp/ipykernel_10925/3801902500.py:128: FutureWarning: The behavior of DataFrame concatenation with empty or all-NA entries is deprecated. In a future version, this will no longer exclude empty or all-NA columns when determining the result dtypes. To retain the old behavior, exclude the relevant entries before the concat operation.\n",
      "  master_df = pd.concat([master_df, mnas], ignore_index=True)\n"
     ]
    },
    {
     "name": "stdout",
     "output_type": "stream",
     "text": [
      "(19, 71)\n",
      "Master shape: (370, 71)\n",
      "Start Date: 19870518, End Date: 19870520\n",
      "Downloading data from refinitiv...\n"
     ]
    },
    {
     "name": "stderr",
     "output_type": "stream",
     "text": [
      "/var/tmp/ipykernel_10925/3801902500.py:128: FutureWarning: The behavior of DataFrame concatenation with empty or all-NA entries is deprecated. In a future version, this will no longer exclude empty or all-NA columns when determining the result dtypes. To retain the old behavior, exclude the relevant entries before the concat operation.\n",
      "  master_df = pd.concat([master_df, mnas], ignore_index=True)\n"
     ]
    },
    {
     "name": "stdout",
     "output_type": "stream",
     "text": [
      "(53, 71)\n",
      "Master shape: (423, 71)\n",
      "Start Date: 19870521, End Date: 19870523\n",
      "Downloading data from refinitiv...\n"
     ]
    },
    {
     "name": "stderr",
     "output_type": "stream",
     "text": [
      "/var/tmp/ipykernel_10925/3801902500.py:128: FutureWarning: The behavior of DataFrame concatenation with empty or all-NA entries is deprecated. In a future version, this will no longer exclude empty or all-NA columns when determining the result dtypes. To retain the old behavior, exclude the relevant entries before the concat operation.\n",
      "  master_df = pd.concat([master_df, mnas], ignore_index=True)\n"
     ]
    },
    {
     "name": "stdout",
     "output_type": "stream",
     "text": [
      "(20, 71)\n",
      "Master shape: (443, 71)\n",
      "Start Date: 19870524, End Date: 19870526\n",
      "Downloading data from refinitiv...\n"
     ]
    },
    {
     "name": "stderr",
     "output_type": "stream",
     "text": [
      "/var/tmp/ipykernel_10925/3801902500.py:128: FutureWarning: The behavior of DataFrame concatenation with empty or all-NA entries is deprecated. In a future version, this will no longer exclude empty or all-NA columns when determining the result dtypes. To retain the old behavior, exclude the relevant entries before the concat operation.\n",
      "  master_df = pd.concat([master_df, mnas], ignore_index=True)\n"
     ]
    },
    {
     "name": "stdout",
     "output_type": "stream",
     "text": [
      "(29, 71)\n",
      "Master shape: (472, 71)\n",
      "Start Date: 19870527, End Date: 19870529\n",
      "Downloading data from refinitiv...\n",
      "(74, 71)\n",
      "Master shape: (546, 71)\n",
      "Start Date: 19870530, End Date: 19870601\n",
      "Downloading data from refinitiv...\n"
     ]
    },
    {
     "name": "stderr",
     "output_type": "stream",
     "text": [
      "/var/tmp/ipykernel_10925/3801902500.py:128: FutureWarning: The behavior of DataFrame concatenation with empty or all-NA entries is deprecated. In a future version, this will no longer exclude empty or all-NA columns when determining the result dtypes. To retain the old behavior, exclude the relevant entries before the concat operation.\n",
      "  master_df = pd.concat([master_df, mnas], ignore_index=True)\n"
     ]
    },
    {
     "name": "stdout",
     "output_type": "stream",
     "text": [
      "(31, 71)\n",
      "Master shape: (577, 71)\n",
      "Start Date: 19870602, End Date: 19870604\n",
      "Downloading data from refinitiv...\n"
     ]
    },
    {
     "name": "stderr",
     "output_type": "stream",
     "text": [
      "/var/tmp/ipykernel_10925/3801902500.py:128: FutureWarning: The behavior of DataFrame concatenation with empty or all-NA entries is deprecated. In a future version, this will no longer exclude empty or all-NA columns when determining the result dtypes. To retain the old behavior, exclude the relevant entries before the concat operation.\n",
      "  master_df = pd.concat([master_df, mnas], ignore_index=True)\n"
     ]
    },
    {
     "name": "stdout",
     "output_type": "stream",
     "text": [
      "(67, 71)\n",
      "Master shape: (644, 71)\n",
      "Start Date: 19870605, End Date: 19870607\n",
      "Downloading data from refinitiv...\n",
      "(20, 71)\n",
      "Master shape: (664, 71)\n",
      "Start Date: 19870608, End Date: 19870610\n",
      "Downloading data from refinitiv...\n",
      "(60, 71)\n",
      "Master shape: (724, 71)\n",
      "Start Date: 19870611, End Date: 19870613\n",
      "Downloading data from refinitiv...\n"
     ]
    },
    {
     "name": "stderr",
     "output_type": "stream",
     "text": [
      "/var/tmp/ipykernel_10925/3801902500.py:128: FutureWarning: The behavior of DataFrame concatenation with empty or all-NA entries is deprecated. In a future version, this will no longer exclude empty or all-NA columns when determining the result dtypes. To retain the old behavior, exclude the relevant entries before the concat operation.\n",
      "  master_df = pd.concat([master_df, mnas], ignore_index=True)\n"
     ]
    },
    {
     "name": "stdout",
     "output_type": "stream",
     "text": [
      "(35, 71)\n",
      "Master shape: (759, 71)\n",
      "Start Date: 19870614, End Date: 19870616\n",
      "Downloading data from refinitiv...\n"
     ]
    },
    {
     "name": "stderr",
     "output_type": "stream",
     "text": [
      "/var/tmp/ipykernel_10925/3801902500.py:128: FutureWarning: The behavior of DataFrame concatenation with empty or all-NA entries is deprecated. In a future version, this will no longer exclude empty or all-NA columns when determining the result dtypes. To retain the old behavior, exclude the relevant entries before the concat operation.\n",
      "  master_df = pd.concat([master_df, mnas], ignore_index=True)\n"
     ]
    },
    {
     "name": "stdout",
     "output_type": "stream",
     "text": [
      "(49, 71)\n",
      "Master shape: (808, 71)\n",
      "Start Date: 19870617, End Date: 19870619\n",
      "Downloading data from refinitiv...\n"
     ]
    },
    {
     "name": "stderr",
     "output_type": "stream",
     "text": [
      "/var/tmp/ipykernel_10925/3801902500.py:128: FutureWarning: The behavior of DataFrame concatenation with empty or all-NA entries is deprecated. In a future version, this will no longer exclude empty or all-NA columns when determining the result dtypes. To retain the old behavior, exclude the relevant entries before the concat operation.\n",
      "  master_df = pd.concat([master_df, mnas], ignore_index=True)\n"
     ]
    },
    {
     "name": "stdout",
     "output_type": "stream",
     "text": [
      "(78, 71)\n",
      "Master shape: (886, 71)\n",
      "Appending chunk to BQ\n",
      "Data appended successfully\n",
      "Start Date: 19870620, End Date: 19870622\n",
      "Downloading data from refinitiv...\n",
      "(27, 71)\n",
      "Master shape: (27, 71)\n",
      "Start Date: 19870623, End Date: 19870625\n",
      "Downloading data from refinitiv...\n",
      "(73, 71)\n",
      "Master shape: (100, 71)\n",
      "Start Date: 19870626, End Date: 19870628\n",
      "Downloading data from refinitiv...\n"
     ]
    },
    {
     "name": "stderr",
     "output_type": "stream",
     "text": [
      "/var/tmp/ipykernel_10925/3801902500.py:128: FutureWarning: The behavior of DataFrame concatenation with empty or all-NA entries is deprecated. In a future version, this will no longer exclude empty or all-NA columns when determining the result dtypes. To retain the old behavior, exclude the relevant entries before the concat operation.\n",
      "  master_df = pd.concat([master_df, mnas], ignore_index=True)\n"
     ]
    },
    {
     "name": "stdout",
     "output_type": "stream",
     "text": [
      "(24, 71)\n",
      "Master shape: (124, 71)\n",
      "Start Date: 19870629, End Date: 19870701\n",
      "Downloading data from refinitiv...\n"
     ]
    },
    {
     "name": "stderr",
     "output_type": "stream",
     "text": [
      "/var/tmp/ipykernel_10925/3801902500.py:128: FutureWarning: The behavior of DataFrame concatenation with empty or all-NA entries is deprecated. In a future version, this will no longer exclude empty or all-NA columns when determining the result dtypes. To retain the old behavior, exclude the relevant entries before the concat operation.\n",
      "  master_df = pd.concat([master_df, mnas], ignore_index=True)\n"
     ]
    },
    {
     "name": "stdout",
     "output_type": "stream",
     "text": [
      "(152, 71)\n",
      "Master shape: (276, 71)\n",
      "Start Date: 19870702, End Date: 19870704\n",
      "Downloading data from refinitiv...\n",
      "(31, 71)\n",
      "Master shape: (307, 71)\n",
      "Start Date: 19870705, End Date: 19870707\n",
      "Downloading data from refinitiv...\n",
      "(36, 71)\n",
      "Master shape: (343, 71)\n",
      "Start Date: 19870708, End Date: 19870710\n",
      "Downloading data from refinitiv...\n"
     ]
    },
    {
     "name": "stderr",
     "output_type": "stream",
     "text": [
      "/var/tmp/ipykernel_10925/3801902500.py:128: FutureWarning: The behavior of DataFrame concatenation with empty or all-NA entries is deprecated. In a future version, this will no longer exclude empty or all-NA columns when determining the result dtypes. To retain the old behavior, exclude the relevant entries before the concat operation.\n",
      "  master_df = pd.concat([master_df, mnas], ignore_index=True)\n"
     ]
    },
    {
     "name": "stdout",
     "output_type": "stream",
     "text": [
      "(54, 71)\n",
      "Master shape: (397, 71)\n",
      "Start Date: 19870711, End Date: 19870713\n",
      "Downloading data from refinitiv...\n",
      "(20, 71)\n",
      "Master shape: (417, 71)\n",
      "Start Date: 19870714, End Date: 19870716\n",
      "Downloading data from refinitiv...\n"
     ]
    },
    {
     "name": "stderr",
     "output_type": "stream",
     "text": [
      "/var/tmp/ipykernel_10925/3801902500.py:128: FutureWarning: The behavior of DataFrame concatenation with empty or all-NA entries is deprecated. In a future version, this will no longer exclude empty or all-NA columns when determining the result dtypes. To retain the old behavior, exclude the relevant entries before the concat operation.\n",
      "  master_df = pd.concat([master_df, mnas], ignore_index=True)\n"
     ]
    },
    {
     "name": "stdout",
     "output_type": "stream",
     "text": [
      "(38, 71)\n",
      "Master shape: (455, 71)\n",
      "Start Date: 19870717, End Date: 19870719\n",
      "Downloading data from refinitiv...\n"
     ]
    },
    {
     "name": "stderr",
     "output_type": "stream",
     "text": [
      "/var/tmp/ipykernel_10925/3801902500.py:128: FutureWarning: The behavior of DataFrame concatenation with empty or all-NA entries is deprecated. In a future version, this will no longer exclude empty or all-NA columns when determining the result dtypes. To retain the old behavior, exclude the relevant entries before the concat operation.\n",
      "  master_df = pd.concat([master_df, mnas], ignore_index=True)\n"
     ]
    },
    {
     "name": "stdout",
     "output_type": "stream",
     "text": [
      "(13, 71)\n",
      "Master shape: (468, 71)\n",
      "Start Date: 19870720, End Date: 19870722\n",
      "Downloading data from refinitiv...\n"
     ]
    },
    {
     "name": "stderr",
     "output_type": "stream",
     "text": [
      "/var/tmp/ipykernel_10925/3801902500.py:128: FutureWarning: The behavior of DataFrame concatenation with empty or all-NA entries is deprecated. In a future version, this will no longer exclude empty or all-NA columns when determining the result dtypes. To retain the old behavior, exclude the relevant entries before the concat operation.\n",
      "  master_df = pd.concat([master_df, mnas], ignore_index=True)\n",
      "ERROR!!! An error occurred while requesting URL('https://api.refinitiv.com/data/datagrid/beta1/').\n",
      "     ReadTimeout('')\n"
     ]
    },
    {
     "name": "stdout",
     "output_type": "stream",
     "text": [
      "An error occurred: . Retrying for the range 19870720 to 19870722...\n",
      "Start Date: 19870720, End Date: 19870722\n",
      "Downloading data from refinitiv...\n",
      "(44, 71)\n",
      "Master shape: (512, 71)\n",
      "Start Date: 19870723, End Date: 19870725\n",
      "Downloading data from refinitiv...\n"
     ]
    },
    {
     "name": "stderr",
     "output_type": "stream",
     "text": [
      "/var/tmp/ipykernel_10925/3801902500.py:128: FutureWarning: The behavior of DataFrame concatenation with empty or all-NA entries is deprecated. In a future version, this will no longer exclude empty or all-NA columns when determining the result dtypes. To retain the old behavior, exclude the relevant entries before the concat operation.\n",
      "  master_df = pd.concat([master_df, mnas], ignore_index=True)\n"
     ]
    },
    {
     "name": "stdout",
     "output_type": "stream",
     "text": [
      "(32, 71)\n",
      "Master shape: (544, 71)\n",
      "Start Date: 19870726, End Date: 19870728\n",
      "Downloading data from refinitiv...\n"
     ]
    },
    {
     "name": "stderr",
     "output_type": "stream",
     "text": [
      "/var/tmp/ipykernel_10925/3801902500.py:128: FutureWarning: The behavior of DataFrame concatenation with empty or all-NA entries is deprecated. In a future version, this will no longer exclude empty or all-NA columns when determining the result dtypes. To retain the old behavior, exclude the relevant entries before the concat operation.\n",
      "  master_df = pd.concat([master_df, mnas], ignore_index=True)\n"
     ]
    },
    {
     "name": "stdout",
     "output_type": "stream",
     "text": [
      "(44, 71)\n",
      "Master shape: (588, 71)\n",
      "Start Date: 19870729, End Date: 19870731\n",
      "Downloading data from refinitiv...\n"
     ]
    },
    {
     "name": "stderr",
     "output_type": "stream",
     "text": [
      "/var/tmp/ipykernel_10925/3801902500.py:128: FutureWarning: The behavior of DataFrame concatenation with empty or all-NA entries is deprecated. In a future version, this will no longer exclude empty or all-NA columns when determining the result dtypes. To retain the old behavior, exclude the relevant entries before the concat operation.\n",
      "  master_df = pd.concat([master_df, mnas], ignore_index=True)\n"
     ]
    },
    {
     "name": "stdout",
     "output_type": "stream",
     "text": [
      "(87, 71)\n",
      "Master shape: (675, 71)\n",
      "Start Date: 19870801, End Date: 19870803\n",
      "Downloading data from refinitiv...\n"
     ]
    },
    {
     "name": "stderr",
     "output_type": "stream",
     "text": [
      "/var/tmp/ipykernel_10925/3801902500.py:128: FutureWarning: The behavior of DataFrame concatenation with empty or all-NA entries is deprecated. In a future version, this will no longer exclude empty or all-NA columns when determining the result dtypes. To retain the old behavior, exclude the relevant entries before the concat operation.\n",
      "  master_df = pd.concat([master_df, mnas], ignore_index=True)\n"
     ]
    },
    {
     "name": "stdout",
     "output_type": "stream",
     "text": [
      "(30, 71)\n",
      "Master shape: (705, 71)\n",
      "Start Date: 19870804, End Date: 19870806\n",
      "Downloading data from refinitiv...\n"
     ]
    },
    {
     "name": "stderr",
     "output_type": "stream",
     "text": [
      "/var/tmp/ipykernel_10925/3801902500.py:128: FutureWarning: The behavior of DataFrame concatenation with empty or all-NA entries is deprecated. In a future version, this will no longer exclude empty or all-NA columns when determining the result dtypes. To retain the old behavior, exclude the relevant entries before the concat operation.\n",
      "  master_df = pd.concat([master_df, mnas], ignore_index=True)\n"
     ]
    },
    {
     "name": "stdout",
     "output_type": "stream",
     "text": [
      "(75, 71)\n",
      "Master shape: (780, 71)\n",
      "Start Date: 19870807, End Date: 19870809\n",
      "Downloading data from refinitiv...\n"
     ]
    },
    {
     "name": "stderr",
     "output_type": "stream",
     "text": [
      "/var/tmp/ipykernel_10925/3801902500.py:128: FutureWarning: The behavior of DataFrame concatenation with empty or all-NA entries is deprecated. In a future version, this will no longer exclude empty or all-NA columns when determining the result dtypes. To retain the old behavior, exclude the relevant entries before the concat operation.\n",
      "  master_df = pd.concat([master_df, mnas], ignore_index=True)\n"
     ]
    },
    {
     "name": "stdout",
     "output_type": "stream",
     "text": [
      "(24, 71)\n",
      "Master shape: (804, 71)\n",
      "Start Date: 19870810, End Date: 19870812\n",
      "Downloading data from refinitiv...\n"
     ]
    },
    {
     "name": "stderr",
     "output_type": "stream",
     "text": [
      "/var/tmp/ipykernel_10925/3801902500.py:128: FutureWarning: The behavior of DataFrame concatenation with empty or all-NA entries is deprecated. In a future version, this will no longer exclude empty or all-NA columns when determining the result dtypes. To retain the old behavior, exclude the relevant entries before the concat operation.\n",
      "  master_df = pd.concat([master_df, mnas], ignore_index=True)\n"
     ]
    },
    {
     "name": "stdout",
     "output_type": "stream",
     "text": [
      "(61, 71)\n",
      "Master shape: (865, 71)\n",
      "Start Date: 19870813, End Date: 19870815\n",
      "Downloading data from refinitiv...\n"
     ]
    },
    {
     "name": "stderr",
     "output_type": "stream",
     "text": [
      "/var/tmp/ipykernel_10925/3801902500.py:128: FutureWarning: The behavior of DataFrame concatenation with empty or all-NA entries is deprecated. In a future version, this will no longer exclude empty or all-NA columns when determining the result dtypes. To retain the old behavior, exclude the relevant entries before the concat operation.\n",
      "  master_df = pd.concat([master_df, mnas], ignore_index=True)\n"
     ]
    },
    {
     "name": "stdout",
     "output_type": "stream",
     "text": [
      "(47, 71)\n",
      "Master shape: (912, 71)\n",
      "Start Date: 19870816, End Date: 19870818\n",
      "Downloading data from refinitiv...\n"
     ]
    },
    {
     "name": "stderr",
     "output_type": "stream",
     "text": [
      "/var/tmp/ipykernel_10925/3801902500.py:128: FutureWarning: The behavior of DataFrame concatenation with empty or all-NA entries is deprecated. In a future version, this will no longer exclude empty or all-NA columns when determining the result dtypes. To retain the old behavior, exclude the relevant entries before the concat operation.\n",
      "  master_df = pd.concat([master_df, mnas], ignore_index=True)\n"
     ]
    },
    {
     "name": "stdout",
     "output_type": "stream",
     "text": [
      "(36, 71)\n",
      "Master shape: (948, 71)\n",
      "Appending chunk to BQ\n"
     ]
    },
    {
     "name": "stderr",
     "output_type": "stream",
     "text": [
      "/var/tmp/ipykernel_10925/3801902500.py:128: FutureWarning: The behavior of DataFrame concatenation with empty or all-NA entries is deprecated. In a future version, this will no longer exclude empty or all-NA columns when determining the result dtypes. To retain the old behavior, exclude the relevant entries before the concat operation.\n",
      "  master_df = pd.concat([master_df, mnas], ignore_index=True)\n"
     ]
    },
    {
     "name": "stdout",
     "output_type": "stream",
     "text": [
      "Data appended successfully\n",
      "Start Date: 19870819, End Date: 19870821\n",
      "Downloading data from refinitiv...\n",
      "(63, 71)\n",
      "Master shape: (63, 71)\n",
      "Start Date: 19870822, End Date: 19870824\n",
      "Downloading data from refinitiv...\n",
      "(15, 71)\n",
      "Master shape: (78, 71)\n",
      "Start Date: 19870825, End Date: 19870827\n",
      "Downloading data from refinitiv...\n"
     ]
    },
    {
     "name": "stderr",
     "output_type": "stream",
     "text": [
      "/var/tmp/ipykernel_10925/3801902500.py:128: FutureWarning: The behavior of DataFrame concatenation with empty or all-NA entries is deprecated. In a future version, this will no longer exclude empty or all-NA columns when determining the result dtypes. To retain the old behavior, exclude the relevant entries before the concat operation.\n",
      "  master_df = pd.concat([master_df, mnas], ignore_index=True)\n"
     ]
    },
    {
     "name": "stdout",
     "output_type": "stream",
     "text": [
      "(57, 71)\n",
      "Master shape: (135, 71)\n",
      "Start Date: 19870828, End Date: 19870830\n",
      "Downloading data from refinitiv...\n",
      "(18, 71)\n",
      "Master shape: (153, 71)\n",
      "Start Date: 19870831, End Date: 19870902\n",
      "Downloading data from refinitiv...\n"
     ]
    },
    {
     "name": "stderr",
     "output_type": "stream",
     "text": [
      "/var/tmp/ipykernel_10925/3801902500.py:128: FutureWarning: The behavior of DataFrame concatenation with empty or all-NA entries is deprecated. In a future version, this will no longer exclude empty or all-NA columns when determining the result dtypes. To retain the old behavior, exclude the relevant entries before the concat operation.\n",
      "  master_df = pd.concat([master_df, mnas], ignore_index=True)\n"
     ]
    },
    {
     "name": "stdout",
     "output_type": "stream",
     "text": [
      "(80, 71)\n",
      "Master shape: (233, 71)\n",
      "Start Date: 19870903, End Date: 19870905\n",
      "Downloading data from refinitiv...\n"
     ]
    },
    {
     "name": "stderr",
     "output_type": "stream",
     "text": [
      "ERROR!!! An error occurred while requesting URL('https://api.refinitiv.com/data/datagrid/beta1/').\n",
      "     ReadTimeout('')\n"
     ]
    },
    {
     "name": "stdout",
     "output_type": "stream",
     "text": [
      "An error occurred: . Retrying for the range 19870903 to 19870905...\n",
      "Start Date: 19870903, End Date: 19870905\n",
      "Downloading data from refinitiv...\n",
      "(34, 71)\n",
      "Master shape: (267, 71)\n",
      "Start Date: 19870906, End Date: 19870908\n",
      "Downloading data from refinitiv...\n"
     ]
    },
    {
     "name": "stderr",
     "output_type": "stream",
     "text": [
      "ERROR!!! An error occurred while requesting URL('https://api.refinitiv.com/data/datagrid/beta1/').\n",
      "     ReadTimeout('')\n"
     ]
    },
    {
     "name": "stdout",
     "output_type": "stream",
     "text": [
      "An error occurred: . Retrying for the range 19870906 to 19870908...\n",
      "Start Date: 19870906, End Date: 19870908\n",
      "Downloading data from refinitiv...\n",
      "(53, 71)\n",
      "Master shape: (320, 71)\n",
      "Start Date: 19870909, End Date: 19870911\n",
      "Downloading data from refinitiv...\n",
      "(90, 71)\n",
      "Master shape: (410, 71)\n",
      "Start Date: 19870912, End Date: 19870914\n",
      "Downloading data from refinitiv...\n"
     ]
    },
    {
     "name": "stderr",
     "output_type": "stream",
     "text": [
      "/var/tmp/ipykernel_10925/3801902500.py:128: FutureWarning: The behavior of DataFrame concatenation with empty or all-NA entries is deprecated. In a future version, this will no longer exclude empty or all-NA columns when determining the result dtypes. To retain the old behavior, exclude the relevant entries before the concat operation.\n",
      "  master_df = pd.concat([master_df, mnas], ignore_index=True)\n"
     ]
    },
    {
     "name": "stdout",
     "output_type": "stream",
     "text": [
      "(32, 71)\n",
      "Master shape: (442, 71)\n",
      "Start Date: 19870915, End Date: 19870917\n",
      "Downloading data from refinitiv...\n",
      "(70, 71)\n",
      "Master shape: (512, 71)\n",
      "Start Date: 19870918, End Date: 19870920\n",
      "Downloading data from refinitiv...\n",
      "(18, 71)\n",
      "Master shape: (530, 71)\n",
      "Start Date: 19870921, End Date: 19870923\n",
      "Downloading data from refinitiv...\n"
     ]
    },
    {
     "name": "stderr",
     "output_type": "stream",
     "text": [
      "/var/tmp/ipykernel_10925/3801902500.py:128: FutureWarning: The behavior of DataFrame concatenation with empty or all-NA entries is deprecated. In a future version, this will no longer exclude empty or all-NA columns when determining the result dtypes. To retain the old behavior, exclude the relevant entries before the concat operation.\n",
      "  master_df = pd.concat([master_df, mnas], ignore_index=True)\n"
     ]
    },
    {
     "name": "stdout",
     "output_type": "stream",
     "text": [
      "(86, 71)\n",
      "Master shape: (616, 71)\n",
      "Start Date: 19870924, End Date: 19870926\n",
      "Downloading data from refinitiv...\n"
     ]
    },
    {
     "name": "stderr",
     "output_type": "stream",
     "text": [
      "ERROR!!! An error occurred while requesting URL('https://api.refinitiv.com/data/datagrid/beta1/').\n",
      "     ReadTimeout('')\n"
     ]
    },
    {
     "name": "stdout",
     "output_type": "stream",
     "text": [
      "An error occurred: . Retrying for the range 19870924 to 19870926...\n",
      "Start Date: 19870924, End Date: 19870926\n",
      "Downloading data from refinitiv...\n",
      "(42, 71)\n",
      "Master shape: (658, 71)\n",
      "Start Date: 19870927, End Date: 19870929\n",
      "Downloading data from refinitiv...\n"
     ]
    },
    {
     "name": "stderr",
     "output_type": "stream",
     "text": [
      "/var/tmp/ipykernel_10925/3801902500.py:128: FutureWarning: The behavior of DataFrame concatenation with empty or all-NA entries is deprecated. In a future version, this will no longer exclude empty or all-NA columns when determining the result dtypes. To retain the old behavior, exclude the relevant entries before the concat operation.\n",
      "  master_df = pd.concat([master_df, mnas], ignore_index=True)\n"
     ]
    },
    {
     "name": "stdout",
     "output_type": "stream",
     "text": [
      "(61, 71)\n",
      "Master shape: (719, 71)\n",
      "Start Date: 19870930, End Date: 19871002\n",
      "Downloading data from refinitiv...\n"
     ]
    },
    {
     "name": "stderr",
     "output_type": "stream",
     "text": [
      "/var/tmp/ipykernel_10925/3801902500.py:128: FutureWarning: The behavior of DataFrame concatenation with empty or all-NA entries is deprecated. In a future version, this will no longer exclude empty or all-NA columns when determining the result dtypes. To retain the old behavior, exclude the relevant entries before the concat operation.\n",
      "  master_df = pd.concat([master_df, mnas], ignore_index=True)\n"
     ]
    },
    {
     "name": "stdout",
     "output_type": "stream",
     "text": [
      "(123, 71)\n",
      "Master shape: (842, 71)\n",
      "Start Date: 19871003, End Date: 19871005\n",
      "Downloading data from refinitiv...\n",
      "(38, 71)\n",
      "Master shape: (880, 71)\n",
      "Start Date: 19871006, End Date: 19871008\n",
      "Downloading data from refinitiv...\n",
      "(60, 71)\n",
      "Master shape: (940, 71)\n",
      "Start Date: 19871009, End Date: 19871011\n",
      "Downloading data from refinitiv...\n",
      "(31, 71)\n",
      "Master shape: (971, 71)\n",
      "Start Date: 19871012, End Date: 19871014\n",
      "Downloading data from refinitiv...\n"
     ]
    },
    {
     "name": "stderr",
     "output_type": "stream",
     "text": [
      "/var/tmp/ipykernel_10925/3801902500.py:128: FutureWarning: The behavior of DataFrame concatenation with empty or all-NA entries is deprecated. In a future version, this will no longer exclude empty or all-NA columns when determining the result dtypes. To retain the old behavior, exclude the relevant entries before the concat operation.\n",
      "  master_df = pd.concat([master_df, mnas], ignore_index=True)\n"
     ]
    },
    {
     "name": "stdout",
     "output_type": "stream",
     "text": [
      "(81, 71)\n",
      "Master shape: (1052, 71)\n",
      "Start Date: 19871015, End Date: 19871017\n",
      "Downloading data from refinitiv...\n",
      "(46, 71)\n",
      "Master shape: (1098, 71)\n",
      "Appending chunk to BQ\n"
     ]
    },
    {
     "name": "stderr",
     "output_type": "stream",
     "text": [
      "/var/tmp/ipykernel_10925/3801902500.py:128: FutureWarning: The behavior of DataFrame concatenation with empty or all-NA entries is deprecated. In a future version, this will no longer exclude empty or all-NA columns when determining the result dtypes. To retain the old behavior, exclude the relevant entries before the concat operation.\n",
      "  master_df = pd.concat([master_df, mnas], ignore_index=True)\n"
     ]
    },
    {
     "name": "stdout",
     "output_type": "stream",
     "text": [
      "Data appended successfully\n",
      "Start Date: 19871018, End Date: 19871020\n",
      "Downloading data from refinitiv...\n",
      "(73, 71)\n",
      "Master shape: (73, 71)\n",
      "Start Date: 19871021, End Date: 19871023\n",
      "Downloading data from refinitiv...\n",
      "(306, 71)\n",
      "Master shape: (379, 71)\n",
      "Start Date: 19871024, End Date: 19871026\n",
      "Downloading data from refinitiv...\n"
     ]
    },
    {
     "name": "stderr",
     "output_type": "stream",
     "text": [
      "ERROR!!! An error occurred while requesting URL('https://api.refinitiv.com/data/datagrid/beta1/').\n",
      "     ReadTimeout('')\n"
     ]
    },
    {
     "name": "stdout",
     "output_type": "stream",
     "text": [
      "An error occurred: . Retrying for the range 19871024 to 19871026...\n",
      "Start Date: 19871024, End Date: 19871026\n",
      "Downloading data from refinitiv...\n",
      "(70, 71)\n",
      "Master shape: (449, 71)\n",
      "Start Date: 19871027, End Date: 19871029\n",
      "Downloading data from refinitiv...\n",
      "(240, 71)\n",
      "Master shape: (689, 71)\n",
      "Start Date: 19871030, End Date: 19871101\n",
      "Downloading data from refinitiv...\n"
     ]
    },
    {
     "name": "stderr",
     "output_type": "stream",
     "text": [
      "/var/tmp/ipykernel_10925/3801902500.py:128: FutureWarning: The behavior of DataFrame concatenation with empty or all-NA entries is deprecated. In a future version, this will no longer exclude empty or all-NA columns when determining the result dtypes. To retain the old behavior, exclude the relevant entries before the concat operation.\n",
      "  master_df = pd.concat([master_df, mnas], ignore_index=True)\n"
     ]
    },
    {
     "name": "stdout",
     "output_type": "stream",
     "text": [
      "(96, 71)\n",
      "Master shape: (785, 71)\n",
      "Start Date: 19871102, End Date: 19871104\n",
      "Downloading data from refinitiv...\n",
      "(75, 71)\n",
      "Master shape: (860, 71)\n",
      "Start Date: 19871105, End Date: 19871107\n",
      "Downloading data from refinitiv...\n",
      "(43, 71)\n",
      "Master shape: (903, 71)\n",
      "Start Date: 19871108, End Date: 19871110\n",
      "Downloading data from refinitiv...\n"
     ]
    },
    {
     "name": "stderr",
     "output_type": "stream",
     "text": [
      "/var/tmp/ipykernel_10925/3801902500.py:128: FutureWarning: The behavior of DataFrame concatenation with empty or all-NA entries is deprecated. In a future version, this will no longer exclude empty or all-NA columns when determining the result dtypes. To retain the old behavior, exclude the relevant entries before the concat operation.\n",
      "  master_df = pd.concat([master_df, mnas], ignore_index=True)\n"
     ]
    },
    {
     "name": "stdout",
     "output_type": "stream",
     "text": [
      "(77, 71)\n",
      "Master shape: (980, 71)\n",
      "Start Date: 19871111, End Date: 19871113\n",
      "Downloading data from refinitiv...\n",
      "(64, 71)\n",
      "Master shape: (1044, 71)\n",
      "Start Date: 19871114, End Date: 19871116\n",
      "Downloading data from refinitiv...\n"
     ]
    },
    {
     "name": "stderr",
     "output_type": "stream",
     "text": [
      "/var/tmp/ipykernel_10925/3801902500.py:128: FutureWarning: The behavior of DataFrame concatenation with empty or all-NA entries is deprecated. In a future version, this will no longer exclude empty or all-NA columns when determining the result dtypes. To retain the old behavior, exclude the relevant entries before the concat operation.\n",
      "  master_df = pd.concat([master_df, mnas], ignore_index=True)\n"
     ]
    },
    {
     "name": "stdout",
     "output_type": "stream",
     "text": [
      "(64, 71)\n",
      "Master shape: (1108, 71)\n",
      "Start Date: 19871117, End Date: 19871119\n",
      "Downloading data from refinitiv...\n"
     ]
    },
    {
     "name": "stderr",
     "output_type": "stream",
     "text": [
      "/var/tmp/ipykernel_10925/3801902500.py:128: FutureWarning: The behavior of DataFrame concatenation with empty or all-NA entries is deprecated. In a future version, this will no longer exclude empty or all-NA columns when determining the result dtypes. To retain the old behavior, exclude the relevant entries before the concat operation.\n",
      "  master_df = pd.concat([master_df, mnas], ignore_index=True)\n"
     ]
    },
    {
     "name": "stdout",
     "output_type": "stream",
     "text": [
      "(83, 71)\n",
      "Master shape: (1191, 71)\n",
      "Start Date: 19871120, End Date: 19871122\n",
      "Downloading data from refinitiv...\n",
      "(25, 71)\n",
      "Master shape: (1216, 71)\n",
      "Start Date: 19871123, End Date: 19871125\n",
      "Downloading data from refinitiv...\n"
     ]
    },
    {
     "name": "stderr",
     "output_type": "stream",
     "text": [
      "/var/tmp/ipykernel_10925/3801902500.py:128: FutureWarning: The behavior of DataFrame concatenation with empty or all-NA entries is deprecated. In a future version, this will no longer exclude empty or all-NA columns when determining the result dtypes. To retain the old behavior, exclude the relevant entries before the concat operation.\n",
      "  master_df = pd.concat([master_df, mnas], ignore_index=True)\n"
     ]
    },
    {
     "name": "stdout",
     "output_type": "stream",
     "text": [
      "(66, 71)\n",
      "Master shape: (1282, 71)\n",
      "Start Date: 19871126, End Date: 19871128\n",
      "Downloading data from refinitiv...\n"
     ]
    },
    {
     "name": "stderr",
     "output_type": "stream",
     "text": [
      "/var/tmp/ipykernel_10925/3801902500.py:128: FutureWarning: The behavior of DataFrame concatenation with empty or all-NA entries is deprecated. In a future version, this will no longer exclude empty or all-NA columns when determining the result dtypes. To retain the old behavior, exclude the relevant entries before the concat operation.\n",
      "  master_df = pd.concat([master_df, mnas], ignore_index=True)\n"
     ]
    },
    {
     "name": "stdout",
     "output_type": "stream",
     "text": [
      "(20, 71)\n",
      "Master shape: (1302, 71)\n",
      "Start Date: 19871129, End Date: 19871201\n",
      "Downloading data from refinitiv...\n",
      "(90, 71)\n",
      "Master shape: (1392, 71)\n",
      "Start Date: 19871202, End Date: 19871204\n",
      "Downloading data from refinitiv...\n"
     ]
    },
    {
     "name": "stderr",
     "output_type": "stream",
     "text": [
      "/var/tmp/ipykernel_10925/3801902500.py:128: FutureWarning: The behavior of DataFrame concatenation with empty or all-NA entries is deprecated. In a future version, this will no longer exclude empty or all-NA columns when determining the result dtypes. To retain the old behavior, exclude the relevant entries before the concat operation.\n",
      "  master_df = pd.concat([master_df, mnas], ignore_index=True)\n"
     ]
    },
    {
     "name": "stdout",
     "output_type": "stream",
     "text": [
      "(92, 71)\n",
      "Master shape: (1484, 71)\n",
      "Start Date: 19871205, End Date: 19871207\n",
      "Downloading data from refinitiv...\n"
     ]
    },
    {
     "name": "stderr",
     "output_type": "stream",
     "text": [
      "/var/tmp/ipykernel_10925/3801902500.py:128: FutureWarning: The behavior of DataFrame concatenation with empty or all-NA entries is deprecated. In a future version, this will no longer exclude empty or all-NA columns when determining the result dtypes. To retain the old behavior, exclude the relevant entries before the concat operation.\n",
      "  master_df = pd.concat([master_df, mnas], ignore_index=True)\n"
     ]
    },
    {
     "name": "stdout",
     "output_type": "stream",
     "text": [
      "(25, 71)\n",
      "Master shape: (1509, 71)\n",
      "Start Date: 19871208, End Date: 19871210\n",
      "Downloading data from refinitiv...\n"
     ]
    },
    {
     "name": "stderr",
     "output_type": "stream",
     "text": [
      "/var/tmp/ipykernel_10925/3801902500.py:128: FutureWarning: The behavior of DataFrame concatenation with empty or all-NA entries is deprecated. In a future version, this will no longer exclude empty or all-NA columns when determining the result dtypes. To retain the old behavior, exclude the relevant entries before the concat operation.\n",
      "  master_df = pd.concat([master_df, mnas], ignore_index=True)\n"
     ]
    },
    {
     "name": "stdout",
     "output_type": "stream",
     "text": [
      "(88, 71)\n",
      "Master shape: (1597, 71)\n",
      "Start Date: 19871211, End Date: 19871213\n",
      "Downloading data from refinitiv...\n"
     ]
    },
    {
     "name": "stderr",
     "output_type": "stream",
     "text": [
      "/var/tmp/ipykernel_10925/3801902500.py:128: FutureWarning: The behavior of DataFrame concatenation with empty or all-NA entries is deprecated. In a future version, this will no longer exclude empty or all-NA columns when determining the result dtypes. To retain the old behavior, exclude the relevant entries before the concat operation.\n",
      "  master_df = pd.concat([master_df, mnas], ignore_index=True)\n"
     ]
    },
    {
     "name": "stdout",
     "output_type": "stream",
     "text": [
      "(35, 71)\n",
      "Master shape: (1632, 71)\n",
      "Start Date: 19871214, End Date: 19871216\n",
      "Downloading data from refinitiv...\n"
     ]
    },
    {
     "name": "stderr",
     "output_type": "stream",
     "text": [
      "/var/tmp/ipykernel_10925/3801902500.py:128: FutureWarning: The behavior of DataFrame concatenation with empty or all-NA entries is deprecated. In a future version, this will no longer exclude empty or all-NA columns when determining the result dtypes. To retain the old behavior, exclude the relevant entries before the concat operation.\n",
      "  master_df = pd.concat([master_df, mnas], ignore_index=True)\n"
     ]
    },
    {
     "name": "stdout",
     "output_type": "stream",
     "text": [
      "(105, 71)\n",
      "Master shape: (1737, 71)\n",
      "Appending chunk to BQ\n",
      "Data appended successfully\n",
      "Start Date: 19871217, End Date: 19871219\n",
      "Downloading data from refinitiv...\n",
      "(69, 71)\n",
      "Master shape: (69, 71)\n",
      "Start Date: 19871220, End Date: 19871222\n",
      "Downloading data from refinitiv...\n",
      "(60, 71)\n",
      "Master shape: (129, 71)\n",
      "Start Date: 19871223, End Date: 19871225\n",
      "Downloading data from refinitiv...\n"
     ]
    },
    {
     "name": "stderr",
     "output_type": "stream",
     "text": [
      "/var/tmp/ipykernel_10925/3801902500.py:128: FutureWarning: The behavior of DataFrame concatenation with empty or all-NA entries is deprecated. In a future version, this will no longer exclude empty or all-NA columns when determining the result dtypes. To retain the old behavior, exclude the relevant entries before the concat operation.\n",
      "  master_df = pd.concat([master_df, mnas], ignore_index=True)\n"
     ]
    },
    {
     "name": "stdout",
     "output_type": "stream",
     "text": [
      "(61, 71)\n",
      "Master shape: (190, 71)\n",
      "Start Date: 19871226, End Date: 19871228\n",
      "Downloading data from refinitiv...\n",
      "(75, 71)\n",
      "Master shape: (265, 71)\n",
      "Start Date: 19871229, End Date: 19871231\n",
      "Downloading data from refinitiv...\n"
     ]
    },
    {
     "name": "stderr",
     "output_type": "stream",
     "text": [
      "/var/tmp/ipykernel_10925/3801902500.py:128: FutureWarning: The behavior of DataFrame concatenation with empty or all-NA entries is deprecated. In a future version, this will no longer exclude empty or all-NA columns when determining the result dtypes. To retain the old behavior, exclude the relevant entries before the concat operation.\n",
      "  master_df = pd.concat([master_df, mnas], ignore_index=True)\n"
     ]
    },
    {
     "name": "stdout",
     "output_type": "stream",
     "text": [
      "(400, 71)\n",
      "Master shape: (665, 71)\n",
      "Start Date: 19880101, End Date: 19880103\n",
      "Downloading data from refinitiv...\n",
      "(31, 71)\n",
      "Master shape: (696, 71)\n",
      "Start Date: 19880104, End Date: 19880106\n",
      "Downloading data from refinitiv...\n"
     ]
    },
    {
     "name": "stderr",
     "output_type": "stream",
     "text": [
      "/var/tmp/ipykernel_10925/3801902500.py:128: FutureWarning: The behavior of DataFrame concatenation with empty or all-NA entries is deprecated. In a future version, this will no longer exclude empty or all-NA columns when determining the result dtypes. To retain the old behavior, exclude the relevant entries before the concat operation.\n",
      "  master_df = pd.concat([master_df, mnas], ignore_index=True)\n"
     ]
    },
    {
     "name": "stdout",
     "output_type": "stream",
     "text": [
      "(77, 71)\n",
      "Master shape: (773, 71)\n",
      "Start Date: 19880107, End Date: 19880109\n",
      "Downloading data from refinitiv...\n"
     ]
    },
    {
     "name": "stderr",
     "output_type": "stream",
     "text": [
      "/var/tmp/ipykernel_10925/3801902500.py:128: FutureWarning: The behavior of DataFrame concatenation with empty or all-NA entries is deprecated. In a future version, this will no longer exclude empty or all-NA columns when determining the result dtypes. To retain the old behavior, exclude the relevant entries before the concat operation.\n",
      "  master_df = pd.concat([master_df, mnas], ignore_index=True)\n"
     ]
    },
    {
     "name": "stdout",
     "output_type": "stream",
     "text": [
      "(94, 71)\n",
      "Master shape: (867, 71)\n",
      "Start Date: 19880110, End Date: 19880112\n",
      "Downloading data from refinitiv...\n",
      "(49, 71)\n",
      "Master shape: (916, 71)\n",
      "Start Date: 19880113, End Date: 19880115\n",
      "Downloading data from refinitiv...\n"
     ]
    },
    {
     "name": "stderr",
     "output_type": "stream",
     "text": [
      "/var/tmp/ipykernel_10925/3801902500.py:128: FutureWarning: The behavior of DataFrame concatenation with empty or all-NA entries is deprecated. In a future version, this will no longer exclude empty or all-NA columns when determining the result dtypes. To retain the old behavior, exclude the relevant entries before the concat operation.\n",
      "  master_df = pd.concat([master_df, mnas], ignore_index=True)\n"
     ]
    },
    {
     "name": "stdout",
     "output_type": "stream",
     "text": [
      "(75, 71)\n",
      "Master shape: (991, 71)\n",
      "Start Date: 19880116, End Date: 19880118\n",
      "Downloading data from refinitiv...\n",
      "(28, 71)\n",
      "Master shape: (1019, 71)\n",
      "Start Date: 19880119, End Date: 19880121\n",
      "Downloading data from refinitiv...\n"
     ]
    },
    {
     "name": "stderr",
     "output_type": "stream",
     "text": [
      "/var/tmp/ipykernel_10925/3801902500.py:128: FutureWarning: The behavior of DataFrame concatenation with empty or all-NA entries is deprecated. In a future version, this will no longer exclude empty or all-NA columns when determining the result dtypes. To retain the old behavior, exclude the relevant entries before the concat operation.\n",
      "  master_df = pd.concat([master_df, mnas], ignore_index=True)\n"
     ]
    },
    {
     "name": "stdout",
     "output_type": "stream",
     "text": [
      "(87, 71)\n",
      "Master shape: (1106, 71)\n",
      "Start Date: 19880122, End Date: 19880124\n",
      "Downloading data from refinitiv...\n",
      "(38, 71)\n",
      "Master shape: (1144, 71)\n",
      "Start Date: 19880125, End Date: 19880127\n",
      "Downloading data from refinitiv...\n"
     ]
    },
    {
     "name": "stderr",
     "output_type": "stream",
     "text": [
      "/var/tmp/ipykernel_10925/3801902500.py:128: FutureWarning: The behavior of DataFrame concatenation with empty or all-NA entries is deprecated. In a future version, this will no longer exclude empty or all-NA columns when determining the result dtypes. To retain the old behavior, exclude the relevant entries before the concat operation.\n",
      "  master_df = pd.concat([master_df, mnas], ignore_index=True)\n"
     ]
    },
    {
     "name": "stdout",
     "output_type": "stream",
     "text": [
      "(95, 71)\n",
      "Master shape: (1239, 71)\n",
      "Start Date: 19880128, End Date: 19880130\n",
      "Downloading data from refinitiv...\n"
     ]
    },
    {
     "name": "stderr",
     "output_type": "stream",
     "text": [
      "ERROR!!! An error occurred while requesting URL('https://api.refinitiv.com/data/datagrid/beta1/').\n",
      "     ReadTimeout('')\n"
     ]
    },
    {
     "name": "stdout",
     "output_type": "stream",
     "text": [
      "An error occurred: . Retrying for the range 19880128 to 19880130...\n",
      "Start Date: 19880128, End Date: 19880130\n",
      "Downloading data from refinitiv...\n",
      "(83, 71)\n",
      "Master shape: (1322, 71)\n",
      "Start Date: 19880131, End Date: 19880202\n",
      "Downloading data from refinitiv...\n"
     ]
    },
    {
     "name": "stderr",
     "output_type": "stream",
     "text": [
      "/var/tmp/ipykernel_10925/3801902500.py:128: FutureWarning: The behavior of DataFrame concatenation with empty or all-NA entries is deprecated. In a future version, this will no longer exclude empty or all-NA columns when determining the result dtypes. To retain the old behavior, exclude the relevant entries before the concat operation.\n",
      "  master_df = pd.concat([master_df, mnas], ignore_index=True)\n"
     ]
    },
    {
     "name": "stdout",
     "output_type": "stream",
     "text": [
      "(83, 71)\n",
      "Master shape: (1405, 71)\n",
      "Start Date: 19880203, End Date: 19880205\n",
      "Downloading data from refinitiv...\n"
     ]
    },
    {
     "name": "stderr",
     "output_type": "stream",
     "text": [
      "/var/tmp/ipykernel_10925/3801902500.py:128: FutureWarning: The behavior of DataFrame concatenation with empty or all-NA entries is deprecated. In a future version, this will no longer exclude empty or all-NA columns when determining the result dtypes. To retain the old behavior, exclude the relevant entries before the concat operation.\n",
      "  master_df = pd.concat([master_df, mnas], ignore_index=True)\n"
     ]
    },
    {
     "name": "stdout",
     "output_type": "stream",
     "text": [
      "(73, 71)\n",
      "Master shape: (1478, 71)\n",
      "Start Date: 19880206, End Date: 19880208\n",
      "Downloading data from refinitiv...\n",
      "(57, 71)\n",
      "Master shape: (1535, 71)\n",
      "Start Date: 19880209, End Date: 19880211\n",
      "Downloading data from refinitiv...\n",
      "(61, 71)\n",
      "Master shape: (1596, 71)\n",
      "Start Date: 19880212, End Date: 19880214\n",
      "Downloading data from refinitiv...\n",
      "(57, 71)\n",
      "Master shape: (1653, 71)\n",
      "Appending chunk to BQ\n",
      "Data appended successfully\n",
      "Start Date: 19880215, End Date: 19880217\n",
      "Downloading data from refinitiv...\n",
      "(71, 71)\n",
      "Master shape: (71, 71)\n",
      "Start Date: 19880218, End Date: 19880220\n",
      "Downloading data from refinitiv...\n",
      "(44, 71)\n",
      "Master shape: (115, 71)\n",
      "Start Date: 19880221, End Date: 19880223\n",
      "Downloading data from refinitiv...\n"
     ]
    },
    {
     "name": "stderr",
     "output_type": "stream",
     "text": [
      "/var/tmp/ipykernel_10925/3801902500.py:128: FutureWarning: The behavior of DataFrame concatenation with empty or all-NA entries is deprecated. In a future version, this will no longer exclude empty or all-NA columns when determining the result dtypes. To retain the old behavior, exclude the relevant entries before the concat operation.\n",
      "  master_df = pd.concat([master_df, mnas], ignore_index=True)\n"
     ]
    },
    {
     "name": "stdout",
     "output_type": "stream",
     "text": [
      "(68, 71)\n",
      "Master shape: (183, 71)\n",
      "Start Date: 19880224, End Date: 19880226\n",
      "Downloading data from refinitiv...\n"
     ]
    },
    {
     "name": "stderr",
     "output_type": "stream",
     "text": [
      "/var/tmp/ipykernel_10925/3801902500.py:128: FutureWarning: The behavior of DataFrame concatenation with empty or all-NA entries is deprecated. In a future version, this will no longer exclude empty or all-NA columns when determining the result dtypes. To retain the old behavior, exclude the relevant entries before the concat operation.\n",
      "  master_df = pd.concat([master_df, mnas], ignore_index=True)\n"
     ]
    },
    {
     "name": "stdout",
     "output_type": "stream",
     "text": [
      "(80, 71)\n",
      "Master shape: (263, 71)\n",
      "Start Date: 19880227, End Date: 19880229\n",
      "Downloading data from refinitiv...\n",
      "(82, 71)\n",
      "Master shape: (345, 71)\n",
      "Start Date: 19880301, End Date: 19880303\n",
      "Downloading data from refinitiv...\n",
      "(110, 71)\n",
      "Master shape: (455, 71)\n",
      "Start Date: 19880304, End Date: 19880306\n",
      "Downloading data from refinitiv...\n",
      "(32, 71)\n",
      "Master shape: (487, 71)\n",
      "Start Date: 19880307, End Date: 19880309\n",
      "Downloading data from refinitiv...\n",
      "(94, 71)\n",
      "Master shape: (581, 71)\n",
      "Start Date: 19880310, End Date: 19880312\n",
      "Downloading data from refinitiv...\n",
      "(62, 71)\n",
      "Master shape: (643, 71)\n",
      "Start Date: 19880313, End Date: 19880315\n",
      "Downloading data from refinitiv...\n"
     ]
    },
    {
     "name": "stderr",
     "output_type": "stream",
     "text": [
      "/var/tmp/ipykernel_10925/3801902500.py:128: FutureWarning: The behavior of DataFrame concatenation with empty or all-NA entries is deprecated. In a future version, this will no longer exclude empty or all-NA columns when determining the result dtypes. To retain the old behavior, exclude the relevant entries before the concat operation.\n",
      "  master_df = pd.concat([master_df, mnas], ignore_index=True)\n"
     ]
    },
    {
     "name": "stdout",
     "output_type": "stream",
     "text": [
      "(46, 71)\n",
      "Master shape: (689, 71)\n",
      "Start Date: 19880316, End Date: 19880318\n",
      "Downloading data from refinitiv...\n"
     ]
    },
    {
     "name": "stderr",
     "output_type": "stream",
     "text": [
      "/var/tmp/ipykernel_10925/3801902500.py:128: FutureWarning: The behavior of DataFrame concatenation with empty or all-NA entries is deprecated. In a future version, this will no longer exclude empty or all-NA columns when determining the result dtypes. To retain the old behavior, exclude the relevant entries before the concat operation.\n",
      "  master_df = pd.concat([master_df, mnas], ignore_index=True)\n"
     ]
    },
    {
     "name": "stdout",
     "output_type": "stream",
     "text": [
      "(91, 71)\n",
      "Master shape: (780, 71)\n",
      "Start Date: 19880319, End Date: 19880321\n",
      "Downloading data from refinitiv...\n",
      "(39, 71)\n",
      "Master shape: (819, 71)\n",
      "Start Date: 19880322, End Date: 19880324\n",
      "Downloading data from refinitiv...\n",
      "(81, 71)\n",
      "Master shape: (900, 71)\n",
      "Start Date: 19880325, End Date: 19880327\n",
      "Downloading data from refinitiv...\n"
     ]
    },
    {
     "name": "stderr",
     "output_type": "stream",
     "text": [
      "/var/tmp/ipykernel_10925/3801902500.py:128: FutureWarning: The behavior of DataFrame concatenation with empty or all-NA entries is deprecated. In a future version, this will no longer exclude empty or all-NA columns when determining the result dtypes. To retain the old behavior, exclude the relevant entries before the concat operation.\n",
      "  master_df = pd.concat([master_df, mnas], ignore_index=True)\n"
     ]
    },
    {
     "name": "stdout",
     "output_type": "stream",
     "text": [
      "(29, 71)\n",
      "Master shape: (929, 71)\n",
      "Start Date: 19880328, End Date: 19880330\n",
      "Downloading data from refinitiv...\n",
      "(94, 71)\n",
      "Master shape: (1023, 71)\n",
      "Start Date: 19880331, End Date: 19880402\n",
      "Downloading data from refinitiv...\n"
     ]
    },
    {
     "name": "stderr",
     "output_type": "stream",
     "text": [
      "ERROR!!! An error occurred while requesting URL('https://api.refinitiv.com/data/datagrid/beta1/').\n",
      "     ReadTimeout('')\n"
     ]
    },
    {
     "name": "stdout",
     "output_type": "stream",
     "text": [
      "An error occurred: . Retrying for the range 19880331 to 19880402...\n",
      "Start Date: 19880331, End Date: 19880402\n",
      "Downloading data from refinitiv...\n",
      "(102, 71)\n",
      "Master shape: (1125, 71)\n",
      "Start Date: 19880403, End Date: 19880405\n",
      "Downloading data from refinitiv...\n"
     ]
    },
    {
     "name": "stderr",
     "output_type": "stream",
     "text": [
      "ERROR!!! An error occurred while requesting URL('https://api.refinitiv.com/data/datagrid/beta1/').\n",
      "     ReadTimeout('')\n"
     ]
    },
    {
     "name": "stdout",
     "output_type": "stream",
     "text": [
      "An error occurred: . Retrying for the range 19880403 to 19880405...\n",
      "Start Date: 19880403, End Date: 19880405\n",
      "Downloading data from refinitiv...\n",
      "(56, 71)\n",
      "Master shape: (1181, 71)\n",
      "Start Date: 19880406, End Date: 19880408\n",
      "Downloading data from refinitiv...\n",
      "(87, 71)\n",
      "Master shape: (1268, 71)\n",
      "Start Date: 19880409, End Date: 19880411\n",
      "Downloading data from refinitiv...\n",
      "(55, 71)\n",
      "Master shape: (1323, 71)\n",
      "Start Date: 19880412, End Date: 19880414\n",
      "Downloading data from refinitiv...\n"
     ]
    },
    {
     "name": "stderr",
     "output_type": "stream",
     "text": [
      "/var/tmp/ipykernel_10925/3801902500.py:128: FutureWarning: The behavior of DataFrame concatenation with empty or all-NA entries is deprecated. In a future version, this will no longer exclude empty or all-NA columns when determining the result dtypes. To retain the old behavior, exclude the relevant entries before the concat operation.\n",
      "  master_df = pd.concat([master_df, mnas], ignore_index=True)\n"
     ]
    },
    {
     "name": "stdout",
     "output_type": "stream",
     "text": [
      "(72, 71)\n",
      "Master shape: (1395, 71)\n",
      "Appending chunk to BQ\n",
      "Data appended successfully\n",
      "Start Date: 19880415, End Date: 19880417\n",
      "Downloading data from refinitiv...\n",
      "(41, 71)\n",
      "Master shape: (41, 71)\n",
      "Start Date: 19880418, End Date: 19880420\n",
      "Downloading data from refinitiv...\n",
      "(97, 71)\n",
      "Master shape: (138, 71)\n",
      "Start Date: 19880421, End Date: 19880423\n",
      "Downloading data from refinitiv...\n",
      "(59, 71)\n",
      "Master shape: (197, 71)\n",
      "Start Date: 19880424, End Date: 19880426\n",
      "Downloading data from refinitiv...\n",
      "(66, 71)\n",
      "Master shape: (263, 71)\n",
      "Start Date: 19880427, End Date: 19880429\n",
      "Downloading data from refinitiv...\n",
      "(130, 71)\n",
      "Master shape: (393, 71)\n",
      "Start Date: 19880430, End Date: 19880502\n",
      "Downloading data from refinitiv...\n"
     ]
    },
    {
     "name": "stderr",
     "output_type": "stream",
     "text": [
      "ERROR!!! An error occurred while requesting URL('https://api.refinitiv.com/data/datagrid/beta1/').\n",
      "     ReadTimeout('')\n"
     ]
    },
    {
     "name": "stdout",
     "output_type": "stream",
     "text": [
      "An error occurred: . Retrying for the range 19880430 to 19880502...\n",
      "Start Date: 19880430, End Date: 19880502\n",
      "Downloading data from refinitiv...\n",
      "(63, 71)\n",
      "Master shape: (456, 71)\n",
      "Start Date: 19880503, End Date: 19880505\n",
      "Downloading data from refinitiv...\n",
      "(97, 71)\n",
      "Master shape: (553, 71)\n",
      "Start Date: 19880506, End Date: 19880508\n",
      "Downloading data from refinitiv...\n",
      "(32, 71)\n",
      "Master shape: (585, 71)\n",
      "Start Date: 19880509, End Date: 19880511\n",
      "Downloading data from refinitiv...\n",
      "(108, 71)\n",
      "Master shape: (693, 71)\n",
      "Start Date: 19880512, End Date: 19880514\n",
      "Downloading data from refinitiv...\n",
      "(56, 71)\n",
      "Master shape: (749, 71)\n",
      "Start Date: 19880515, End Date: 19880517\n",
      "Downloading data from refinitiv...\n",
      "(80, 71)\n",
      "Master shape: (829, 71)\n",
      "Start Date: 19880518, End Date: 19880520\n",
      "Downloading data from refinitiv...\n",
      "(97, 71)\n",
      "Master shape: (926, 71)\n",
      "Start Date: 19880521, End Date: 19880523\n",
      "Downloading data from refinitiv...\n",
      "(47, 71)\n",
      "Master shape: (973, 71)\n",
      "Start Date: 19880524, End Date: 19880526\n",
      "Downloading data from refinitiv...\n",
      "(87, 71)\n",
      "Master shape: (1060, 71)\n",
      "Start Date: 19880527, End Date: 19880529\n",
      "Downloading data from refinitiv...\n"
     ]
    },
    {
     "name": "stderr",
     "output_type": "stream",
     "text": [
      "/var/tmp/ipykernel_10925/3801902500.py:128: FutureWarning: The behavior of DataFrame concatenation with empty or all-NA entries is deprecated. In a future version, this will no longer exclude empty or all-NA columns when determining the result dtypes. To retain the old behavior, exclude the relevant entries before the concat operation.\n",
      "  master_df = pd.concat([master_df, mnas], ignore_index=True)\n"
     ]
    },
    {
     "name": "stdout",
     "output_type": "stream",
     "text": [
      "(25, 71)\n",
      "Master shape: (1085, 71)\n",
      "Start Date: 19880530, End Date: 19880601\n",
      "Downloading data from refinitiv...\n"
     ]
    },
    {
     "name": "stderr",
     "output_type": "stream",
     "text": [
      "/var/tmp/ipykernel_10925/3801902500.py:128: FutureWarning: The behavior of DataFrame concatenation with empty or all-NA entries is deprecated. In a future version, this will no longer exclude empty or all-NA columns when determining the result dtypes. To retain the old behavior, exclude the relevant entries before the concat operation.\n",
      "  master_df = pd.concat([master_df, mnas], ignore_index=True)\n"
     ]
    },
    {
     "name": "stdout",
     "output_type": "stream",
     "text": [
      "(138, 71)\n",
      "Master shape: (1223, 71)\n",
      "Start Date: 19880602, End Date: 19880604\n",
      "Downloading data from refinitiv...\n",
      "(63, 71)\n",
      "Master shape: (1286, 71)\n",
      "Start Date: 19880605, End Date: 19880607\n",
      "Downloading data from refinitiv...\n",
      "(68, 71)\n",
      "Master shape: (1354, 71)\n",
      "Start Date: 19880608, End Date: 19880610\n",
      "Downloading data from refinitiv...\n",
      "(80, 71)\n",
      "Master shape: (1434, 71)\n",
      "Start Date: 19880611, End Date: 19880613\n",
      "Downloading data from refinitiv...\n",
      "(43, 71)\n",
      "Master shape: (1477, 71)\n",
      "Appending chunk to BQ\n",
      "Data appended successfully\n",
      "Start Date: 19880614, End Date: 19880616\n",
      "Downloading data from refinitiv...\n",
      "(90, 71)\n",
      "Master shape: (90, 71)\n",
      "Start Date: 19880617, End Date: 19880619\n",
      "Downloading data from refinitiv...\n",
      "(34, 71)\n",
      "Master shape: (124, 71)\n",
      "Start Date: 19880620, End Date: 19880622\n",
      "Downloading data from refinitiv...\n",
      "(96, 71)\n",
      "Master shape: (220, 71)\n",
      "Start Date: 19880623, End Date: 19880625\n",
      "Downloading data from refinitiv...\n",
      "(62, 71)\n",
      "Master shape: (282, 71)\n",
      "Start Date: 19880626, End Date: 19880628\n",
      "Downloading data from refinitiv...\n",
      "(108, 71)\n",
      "Master shape: (390, 71)\n",
      "Start Date: 19880629, End Date: 19880701\n",
      "Downloading data from refinitiv...\n"
     ]
    },
    {
     "name": "stderr",
     "output_type": "stream",
     "text": [
      "/var/tmp/ipykernel_10925/3801902500.py:128: FutureWarning: The behavior of DataFrame concatenation with empty or all-NA entries is deprecated. In a future version, this will no longer exclude empty or all-NA columns when determining the result dtypes. To retain the old behavior, exclude the relevant entries before the concat operation.\n",
      "  master_df = pd.concat([master_df, mnas], ignore_index=True)\n"
     ]
    },
    {
     "name": "stdout",
     "output_type": "stream",
     "text": [
      "(224, 71)\n",
      "Master shape: (614, 71)\n",
      "Start Date: 19880702, End Date: 19880704\n",
      "Downloading data from refinitiv...\n"
     ]
    },
    {
     "name": "stderr",
     "output_type": "stream",
     "text": [
      "ERROR!!! An error occurred while requesting URL('https://api.refinitiv.com/data/datagrid/beta1/').\n",
      "     ReadTimeout('')\n"
     ]
    },
    {
     "name": "stdout",
     "output_type": "stream",
     "text": [
      "An error occurred: . Retrying for the range 19880702 to 19880704...\n",
      "Start Date: 19880702, End Date: 19880704\n",
      "Downloading data from refinitiv...\n",
      "(24, 71)\n",
      "Master shape: (638, 71)\n",
      "Start Date: 19880705, End Date: 19880707\n",
      "Downloading data from refinitiv...\n"
     ]
    },
    {
     "name": "stderr",
     "output_type": "stream",
     "text": [
      "/var/tmp/ipykernel_10925/3801902500.py:128: FutureWarning: The behavior of DataFrame concatenation with empty or all-NA entries is deprecated. In a future version, this will no longer exclude empty or all-NA columns when determining the result dtypes. To retain the old behavior, exclude the relevant entries before the concat operation.\n",
      "  master_df = pd.concat([master_df, mnas], ignore_index=True)\n"
     ]
    },
    {
     "name": "stdout",
     "output_type": "stream",
     "text": [
      "(107, 71)\n",
      "Master shape: (745, 71)\n",
      "Start Date: 19880708, End Date: 19880710\n",
      "Downloading data from refinitiv...\n",
      "(56, 71)\n",
      "Master shape: (801, 71)\n",
      "Start Date: 19880711, End Date: 19880713\n",
      "Downloading data from refinitiv...\n",
      "(131, 71)\n",
      "Master shape: (932, 71)\n",
      "Start Date: 19880714, End Date: 19880716\n",
      "Downloading data from refinitiv...\n",
      "(49, 71)\n",
      "Master shape: (981, 71)\n",
      "Start Date: 19880717, End Date: 19880719\n",
      "Downloading data from refinitiv...\n",
      "(89, 71)\n",
      "Master shape: (1070, 71)\n",
      "Start Date: 19880720, End Date: 19880722\n",
      "Downloading data from refinitiv...\n",
      "(89, 71)\n",
      "Master shape: (1159, 71)\n",
      "Start Date: 19880723, End Date: 19880725\n",
      "Downloading data from refinitiv...\n",
      "(41, 71)\n",
      "Master shape: (1200, 71)\n",
      "Start Date: 19880726, End Date: 19880728\n",
      "Downloading data from refinitiv...\n"
     ]
    },
    {
     "name": "stderr",
     "output_type": "stream",
     "text": [
      "/var/tmp/ipykernel_10925/3801902500.py:128: FutureWarning: The behavior of DataFrame concatenation with empty or all-NA entries is deprecated. In a future version, this will no longer exclude empty or all-NA columns when determining the result dtypes. To retain the old behavior, exclude the relevant entries before the concat operation.\n",
      "  master_df = pd.concat([master_df, mnas], ignore_index=True)\n"
     ]
    },
    {
     "name": "stdout",
     "output_type": "stream",
     "text": [
      "(97, 71)\n",
      "Master shape: (1297, 71)\n",
      "Start Date: 19880729, End Date: 19880731\n",
      "Downloading data from refinitiv...\n",
      "(89, 71)\n",
      "Master shape: (1386, 71)\n",
      "Start Date: 19880801, End Date: 19880803\n",
      "Downloading data from refinitiv...\n"
     ]
    },
    {
     "name": "stderr",
     "output_type": "stream",
     "text": [
      "/var/tmp/ipykernel_10925/3801902500.py:128: FutureWarning: The behavior of DataFrame concatenation with empty or all-NA entries is deprecated. In a future version, this will no longer exclude empty or all-NA columns when determining the result dtypes. To retain the old behavior, exclude the relevant entries before the concat operation.\n",
      "  master_df = pd.concat([master_df, mnas], ignore_index=True)\n"
     ]
    },
    {
     "name": "stdout",
     "output_type": "stream",
     "text": [
      "(122, 71)\n",
      "Master shape: (1508, 71)\n",
      "Start Date: 19880804, End Date: 19880806\n",
      "Downloading data from refinitiv...\n",
      "(83, 71)\n",
      "Master shape: (1591, 71)\n",
      "Start Date: 19880807, End Date: 19880809\n",
      "Downloading data from refinitiv...\n"
     ]
    },
    {
     "name": "stderr",
     "output_type": "stream",
     "text": [
      "ERROR!!! An error occurred while requesting URL('https://api.refinitiv.com/data/datagrid/beta1/').\n",
      "     ReadTimeout('')\n"
     ]
    },
    {
     "name": "stdout",
     "output_type": "stream",
     "text": [
      "An error occurred: . Retrying for the range 19880807 to 19880809...\n",
      "Start Date: 19880807, End Date: 19880809\n",
      "Downloading data from refinitiv...\n",
      "(112, 71)\n",
      "Master shape: (1703, 71)\n",
      "Start Date: 19880810, End Date: 19880812\n",
      "Downloading data from refinitiv...\n",
      "(94, 71)\n",
      "Master shape: (1797, 71)\n",
      "Appending chunk to BQ\n",
      "Data appended successfully\n",
      "Start Date: 19880813, End Date: 19880815\n",
      "Downloading data from refinitiv...\n",
      "(42, 71)\n",
      "Master shape: (42, 71)\n",
      "Start Date: 19880816, End Date: 19880818\n",
      "Downloading data from refinitiv...\n",
      "(85, 71)\n",
      "Master shape: (127, 71)\n",
      "Start Date: 19880819, End Date: 19880821\n",
      "Downloading data from refinitiv...\n"
     ]
    },
    {
     "name": "stderr",
     "output_type": "stream",
     "text": [
      "/var/tmp/ipykernel_10925/3801902500.py:128: FutureWarning: The behavior of DataFrame concatenation with empty or all-NA entries is deprecated. In a future version, this will no longer exclude empty or all-NA columns when determining the result dtypes. To retain the old behavior, exclude the relevant entries before the concat operation.\n",
      "  master_df = pd.concat([master_df, mnas], ignore_index=True)\n"
     ]
    },
    {
     "name": "stdout",
     "output_type": "stream",
     "text": [
      "(36, 71)\n",
      "Master shape: (163, 71)\n",
      "Start Date: 19880822, End Date: 19880824\n",
      "Downloading data from refinitiv...\n",
      "(99, 71)\n",
      "Master shape: (262, 71)\n",
      "Start Date: 19880825, End Date: 19880827\n",
      "Downloading data from refinitiv...\n",
      "(73, 71)\n",
      "Master shape: (335, 71)\n",
      "Start Date: 19880828, End Date: 19880830\n",
      "Downloading data from refinitiv...\n",
      "(60, 71)\n",
      "Master shape: (395, 71)\n",
      "Start Date: 19880831, End Date: 19880902\n",
      "Downloading data from refinitiv...\n"
     ]
    },
    {
     "name": "stderr",
     "output_type": "stream",
     "text": [
      "/var/tmp/ipykernel_10925/3801902500.py:128: FutureWarning: The behavior of DataFrame concatenation with empty or all-NA entries is deprecated. In a future version, this will no longer exclude empty or all-NA columns when determining the result dtypes. To retain the old behavior, exclude the relevant entries before the concat operation.\n",
      "  master_df = pd.concat([master_df, mnas], ignore_index=True)\n"
     ]
    },
    {
     "name": "stdout",
     "output_type": "stream",
     "text": [
      "(168, 71)\n",
      "Master shape: (563, 71)\n",
      "Start Date: 19880903, End Date: 19880905\n",
      "Downloading data from refinitiv...\n"
     ]
    },
    {
     "name": "stderr",
     "output_type": "stream",
     "text": [
      "ERROR!!! An error occurred while requesting URL('https://api.refinitiv.com/data/datagrid/beta1/').\n",
      "     ReadTimeout('')\n"
     ]
    },
    {
     "name": "stdout",
     "output_type": "stream",
     "text": [
      "An error occurred: . Retrying for the range 19880903 to 19880905...\n",
      "Start Date: 19880903, End Date: 19880905\n",
      "Downloading data from refinitiv...\n",
      "(18, 71)\n",
      "Master shape: (581, 71)\n",
      "Start Date: 19880906, End Date: 19880908\n",
      "Downloading data from refinitiv...\n"
     ]
    },
    {
     "name": "stderr",
     "output_type": "stream",
     "text": [
      "/var/tmp/ipykernel_10925/3801902500.py:128: FutureWarning: The behavior of DataFrame concatenation with empty or all-NA entries is deprecated. In a future version, this will no longer exclude empty or all-NA columns when determining the result dtypes. To retain the old behavior, exclude the relevant entries before the concat operation.\n",
      "  master_df = pd.concat([master_df, mnas], ignore_index=True)\n"
     ]
    },
    {
     "name": "stdout",
     "output_type": "stream",
     "text": [
      "(116, 71)\n",
      "Master shape: (697, 71)\n",
      "Start Date: 19880909, End Date: 19880911\n",
      "Downloading data from refinitiv...\n",
      "(30, 71)\n",
      "Master shape: (727, 71)\n",
      "Start Date: 19880912, End Date: 19880914\n",
      "Downloading data from refinitiv...\n",
      "(88, 71)\n",
      "Master shape: (815, 71)\n",
      "Start Date: 19880915, End Date: 19880917\n",
      "Downloading data from refinitiv...\n",
      "(74, 71)\n",
      "Master shape: (889, 71)\n",
      "Start Date: 19880918, End Date: 19880920\n",
      "Downloading data from refinitiv...\n",
      "(67, 71)\n",
      "Master shape: (956, 71)\n",
      "Start Date: 19880921, End Date: 19880923\n",
      "Downloading data from refinitiv...\n",
      "(72, 71)\n",
      "Master shape: (1028, 71)\n",
      "Start Date: 19880924, End Date: 19880926\n",
      "Downloading data from refinitiv...\n"
     ]
    },
    {
     "name": "stderr",
     "output_type": "stream",
     "text": [
      "ERROR!!! An error occurred while requesting URL('https://api.refinitiv.com/data/datagrid/beta1/').\n",
      "     ReadTimeout('')\n"
     ]
    },
    {
     "name": "stdout",
     "output_type": "stream",
     "text": [
      "An error occurred: . Retrying for the range 19880924 to 19880926...\n",
      "Start Date: 19880924, End Date: 19880926\n",
      "Downloading data from refinitiv...\n",
      "(38, 71)\n",
      "Master shape: (1066, 71)\n",
      "Start Date: 19880927, End Date: 19880929\n",
      "Downloading data from refinitiv...\n"
     ]
    },
    {
     "name": "stderr",
     "output_type": "stream",
     "text": [
      "/var/tmp/ipykernel_10925/3801902500.py:128: FutureWarning: The behavior of DataFrame concatenation with empty or all-NA entries is deprecated. In a future version, this will no longer exclude empty or all-NA columns when determining the result dtypes. To retain the old behavior, exclude the relevant entries before the concat operation.\n",
      "  master_df = pd.concat([master_df, mnas], ignore_index=True)\n"
     ]
    },
    {
     "name": "stdout",
     "output_type": "stream",
     "text": [
      "(85, 71)\n",
      "Master shape: (1151, 71)\n",
      "Start Date: 19880930, End Date: 19881002\n",
      "Downloading data from refinitiv...\n"
     ]
    },
    {
     "name": "stderr",
     "output_type": "stream",
     "text": [
      "/var/tmp/ipykernel_10925/3801902500.py:128: FutureWarning: The behavior of DataFrame concatenation with empty or all-NA entries is deprecated. In a future version, this will no longer exclude empty or all-NA columns when determining the result dtypes. To retain the old behavior, exclude the relevant entries before the concat operation.\n",
      "  master_df = pd.concat([master_df, mnas], ignore_index=True)\n"
     ]
    },
    {
     "name": "stdout",
     "output_type": "stream",
     "text": [
      "(69, 71)\n",
      "Master shape: (1220, 71)\n",
      "Start Date: 19881003, End Date: 19881005\n",
      "Downloading data from refinitiv...\n",
      "(114, 71)\n",
      "Master shape: (1334, 71)\n",
      "Start Date: 19881006, End Date: 19881008\n",
      "Downloading data from refinitiv...\n",
      "(53, 71)\n",
      "Master shape: (1387, 71)\n",
      "Start Date: 19881009, End Date: 19881011\n",
      "Downloading data from refinitiv...\n"
     ]
    },
    {
     "name": "stderr",
     "output_type": "stream",
     "text": [
      "/var/tmp/ipykernel_10925/3801902500.py:128: FutureWarning: The behavior of DataFrame concatenation with empty or all-NA entries is deprecated. In a future version, this will no longer exclude empty or all-NA columns when determining the result dtypes. To retain the old behavior, exclude the relevant entries before the concat operation.\n",
      "  master_df = pd.concat([master_df, mnas], ignore_index=True)\n"
     ]
    },
    {
     "name": "stdout",
     "output_type": "stream",
     "text": [
      "(77, 71)\n",
      "Master shape: (1464, 71)\n",
      "Appending chunk to BQ\n"
     ]
    },
    {
     "name": "stderr",
     "output_type": "stream",
     "text": [
      "/var/tmp/ipykernel_10925/3801902500.py:128: FutureWarning: The behavior of DataFrame concatenation with empty or all-NA entries is deprecated. In a future version, this will no longer exclude empty or all-NA columns when determining the result dtypes. To retain the old behavior, exclude the relevant entries before the concat operation.\n",
      "  master_df = pd.concat([master_df, mnas], ignore_index=True)\n"
     ]
    },
    {
     "name": "stdout",
     "output_type": "stream",
     "text": [
      "Data appended successfully\n",
      "Start Date: 19881012, End Date: 19881014\n",
      "Downloading data from refinitiv...\n",
      "(95, 71)\n",
      "Master shape: (95, 71)\n",
      "Start Date: 19881015, End Date: 19881017\n",
      "Downloading data from refinitiv...\n",
      "(42, 71)\n",
      "Master shape: (137, 71)\n",
      "Start Date: 19881018, End Date: 19881020\n",
      "Downloading data from refinitiv...\n",
      "(97, 71)\n",
      "Master shape: (234, 71)\n",
      "Start Date: 19881021, End Date: 19881023\n",
      "Downloading data from refinitiv...\n",
      "(29, 71)\n",
      "Master shape: (263, 71)\n",
      "Start Date: 19881024, End Date: 19881026\n",
      "Downloading data from refinitiv...\n"
     ]
    },
    {
     "name": "stderr",
     "output_type": "stream",
     "text": [
      "/var/tmp/ipykernel_10925/3801902500.py:128: FutureWarning: The behavior of DataFrame concatenation with empty or all-NA entries is deprecated. In a future version, this will no longer exclude empty or all-NA columns when determining the result dtypes. To retain the old behavior, exclude the relevant entries before the concat operation.\n",
      "  master_df = pd.concat([master_df, mnas], ignore_index=True)\n",
      "ERROR!!! An error occurred while requesting URL('https://api.refinitiv.com/data/datagrid/beta1/').\n",
      "     ReadTimeout('')\n"
     ]
    },
    {
     "name": "stdout",
     "output_type": "stream",
     "text": [
      "An error occurred: . Retrying for the range 19881024 to 19881026...\n",
      "Start Date: 19881024, End Date: 19881026\n",
      "Downloading data from refinitiv...\n",
      "(99, 71)\n",
      "Master shape: (362, 71)\n",
      "Start Date: 19881027, End Date: 19881029\n",
      "Downloading data from refinitiv...\n",
      "(52, 71)\n",
      "Master shape: (414, 71)\n",
      "Start Date: 19881030, End Date: 19881101\n",
      "Downloading data from refinitiv...\n",
      "(135, 71)\n",
      "Master shape: (549, 71)\n",
      "Start Date: 19881102, End Date: 19881104\n",
      "Downloading data from refinitiv...\n",
      "(100, 71)\n",
      "Master shape: (649, 71)\n",
      "Start Date: 19881105, End Date: 19881107\n",
      "Downloading data from refinitiv...\n",
      "(56, 71)\n",
      "Master shape: (705, 71)\n",
      "Start Date: 19881108, End Date: 19881110\n",
      "Downloading data from refinitiv...\n",
      "(108, 71)\n",
      "Master shape: (813, 71)\n",
      "Start Date: 19881111, End Date: 19881113\n",
      "Downloading data from refinitiv...\n",
      "(29, 71)\n",
      "Master shape: (842, 71)\n",
      "Start Date: 19881114, End Date: 19881116\n",
      "Downloading data from refinitiv...\n",
      "(109, 71)\n",
      "Master shape: (951, 71)\n",
      "Start Date: 19881117, End Date: 19881119\n",
      "Downloading data from refinitiv...\n"
     ]
    },
    {
     "name": "stderr",
     "output_type": "stream",
     "text": [
      "ERROR!!! An error occurred while requesting URL('https://api.refinitiv.com/data/datagrid/beta1/').\n",
      "     ReadTimeout('')\n"
     ]
    },
    {
     "name": "stdout",
     "output_type": "stream",
     "text": [
      "An error occurred: . Retrying for the range 19881117 to 19881119...\n",
      "Start Date: 19881117, End Date: 19881119\n",
      "Downloading data from refinitiv...\n",
      "(68, 71)\n",
      "Master shape: (1019, 71)\n",
      "Start Date: 19881120, End Date: 19881122\n",
      "Downloading data from refinitiv...\n",
      "(71, 71)\n",
      "Master shape: (1090, 71)\n",
      "Start Date: 19881123, End Date: 19881125\n",
      "Downloading data from refinitiv...\n",
      "(79, 71)\n",
      "Master shape: (1169, 71)\n",
      "Start Date: 19881126, End Date: 19881128\n",
      "Downloading data from refinitiv...\n",
      "(33, 71)\n",
      "Master shape: (1202, 71)\n",
      "Start Date: 19881129, End Date: 19881201\n",
      "Downloading data from refinitiv...\n",
      "(161, 71)\n",
      "Master shape: (1363, 71)\n",
      "Start Date: 19881202, End Date: 19881204\n",
      "Downloading data from refinitiv...\n",
      "(29, 71)\n",
      "Master shape: (1392, 71)\n",
      "Start Date: 19881205, End Date: 19881207\n",
      "Downloading data from refinitiv...\n"
     ]
    },
    {
     "name": "stderr",
     "output_type": "stream",
     "text": [
      "ERROR!!! An error occurred while requesting URL('https://api.refinitiv.com/data/datagrid/beta1/').\n",
      "     ReadTimeout('')\n"
     ]
    },
    {
     "name": "stdout",
     "output_type": "stream",
     "text": [
      "An error occurred: . Retrying for the range 19881205 to 19881207...\n",
      "Start Date: 19881205, End Date: 19881207\n",
      "Downloading data from refinitiv...\n",
      "(96, 71)\n",
      "Master shape: (1488, 71)\n",
      "Start Date: 19881208, End Date: 19881210\n",
      "Downloading data from refinitiv...\n",
      "(58, 71)\n",
      "Master shape: (1546, 71)\n",
      "Appending chunk to BQ\n"
     ]
    },
    {
     "name": "stderr",
     "output_type": "stream",
     "text": [
      "/var/tmp/ipykernel_10925/3801902500.py:128: FutureWarning: The behavior of DataFrame concatenation with empty or all-NA entries is deprecated. In a future version, this will no longer exclude empty or all-NA columns when determining the result dtypes. To retain the old behavior, exclude the relevant entries before the concat operation.\n",
      "  master_df = pd.concat([master_df, mnas], ignore_index=True)\n"
     ]
    },
    {
     "name": "stdout",
     "output_type": "stream",
     "text": [
      "Data appended successfully\n",
      "Start Date: 19881211, End Date: 19881213\n",
      "Downloading data from refinitiv...\n",
      "(73, 71)\n",
      "Master shape: (73, 71)\n",
      "Start Date: 19881214, End Date: 19881216\n",
      "Downloading data from refinitiv...\n",
      "(111, 71)\n",
      "Master shape: (184, 71)\n",
      "Start Date: 19881217, End Date: 19881219\n",
      "Downloading data from refinitiv...\n",
      "(42, 71)\n",
      "Master shape: (226, 71)\n",
      "Start Date: 19881220, End Date: 19881222\n",
      "Downloading data from refinitiv...\n"
     ]
    },
    {
     "name": "stderr",
     "output_type": "stream",
     "text": [
      "/var/tmp/ipykernel_10925/3801902500.py:128: FutureWarning: The behavior of DataFrame concatenation with empty or all-NA entries is deprecated. In a future version, this will no longer exclude empty or all-NA columns when determining the result dtypes. To retain the old behavior, exclude the relevant entries before the concat operation.\n",
      "  master_df = pd.concat([master_df, mnas], ignore_index=True)\n"
     ]
    },
    {
     "name": "stdout",
     "output_type": "stream",
     "text": [
      "(141, 71)\n",
      "Master shape: (367, 71)\n",
      "Start Date: 19881223, End Date: 19881225\n",
      "Downloading data from refinitiv...\n",
      "(54, 71)\n",
      "Master shape: (421, 71)\n",
      "Start Date: 19881226, End Date: 19881228\n",
      "Downloading data from refinitiv...\n",
      "(107, 71)\n",
      "Master shape: (528, 71)\n",
      "Start Date: 19881229, End Date: 19881231\n",
      "Downloading data from refinitiv...\n"
     ]
    },
    {
     "name": "stderr",
     "output_type": "stream",
     "text": [
      "/var/tmp/ipykernel_10925/3801902500.py:128: FutureWarning: The behavior of DataFrame concatenation with empty or all-NA entries is deprecated. In a future version, this will no longer exclude empty or all-NA columns when determining the result dtypes. To retain the old behavior, exclude the relevant entries before the concat operation.\n",
      "  master_df = pd.concat([master_df, mnas], ignore_index=True)\n"
     ]
    },
    {
     "name": "stdout",
     "output_type": "stream",
     "text": [
      "(398, 71)\n",
      "Master shape: (926, 71)\n",
      "Start Date: 19890101, End Date: 19890103\n",
      "Downloading data from refinitiv...\n"
     ]
    },
    {
     "name": "stderr",
     "output_type": "stream",
     "text": [
      "ERROR!!! An error occurred while requesting URL('https://api.refinitiv.com/data/datagrid/beta1/').\n",
      "     ReadTimeout('')\n"
     ]
    },
    {
     "name": "stdout",
     "output_type": "stream",
     "text": [
      "An error occurred: . Retrying for the range 19890101 to 19890103...\n",
      "Start Date: 19890101, End Date: 19890103\n",
      "Downloading data from refinitiv...\n",
      "(104, 71)\n",
      "Master shape: (1030, 71)\n",
      "Start Date: 19890104, End Date: 19890106\n",
      "Downloading data from refinitiv...\n",
      "(190, 71)\n",
      "Master shape: (1220, 71)\n",
      "Start Date: 19890107, End Date: 19890109\n",
      "Downloading data from refinitiv...\n",
      "(66, 71)\n",
      "Master shape: (1286, 71)\n",
      "Start Date: 19890110, End Date: 19890112\n",
      "Downloading data from refinitiv...\n",
      "(141, 71)\n",
      "Master shape: (1427, 71)\n",
      "Start Date: 19890113, End Date: 19890115\n",
      "Downloading data from refinitiv...\n",
      "(46, 71)\n",
      "Master shape: (1473, 71)\n",
      "Start Date: 19890116, End Date: 19890118\n",
      "Downloading data from refinitiv...\n",
      "(116, 71)\n",
      "Master shape: (1589, 71)\n",
      "Start Date: 19890119, End Date: 19890121\n",
      "Downloading data from refinitiv...\n",
      "(76, 71)\n",
      "Master shape: (1665, 71)\n",
      "Start Date: 19890122, End Date: 19890124\n",
      "Downloading data from refinitiv...\n",
      "(89, 71)\n",
      "Master shape: (1754, 71)\n",
      "Start Date: 19890125, End Date: 19890127\n",
      "Downloading data from refinitiv...\n",
      "(130, 71)\n",
      "Master shape: (1884, 71)\n",
      "Start Date: 19890128, End Date: 19890130\n",
      "Downloading data from refinitiv...\n",
      "(52, 71)\n",
      "Master shape: (1936, 71)\n",
      "Start Date: 19890131, End Date: 19890202\n",
      "Downloading data from refinitiv...\n",
      "(186, 71)\n",
      "Master shape: (2122, 71)\n",
      "Start Date: 19890203, End Date: 19890205\n",
      "Downloading data from refinitiv...\n",
      "(41, 71)\n",
      "Master shape: (2163, 71)\n",
      "Start Date: 19890206, End Date: 19890208\n",
      "Downloading data from refinitiv...\n"
     ]
    },
    {
     "name": "stderr",
     "output_type": "stream",
     "text": [
      "ERROR!!! An error occurred while requesting URL('https://api.refinitiv.com/data/datagrid/beta1/').\n",
      "     ReadTimeout('')\n"
     ]
    },
    {
     "name": "stdout",
     "output_type": "stream",
     "text": [
      "An error occurred: . Retrying for the range 19890206 to 19890208...\n",
      "Start Date: 19890206, End Date: 19890208\n",
      "Downloading data from refinitiv...\n",
      "(139, 71)\n",
      "Master shape: (2302, 71)\n",
      "Appending chunk to BQ\n",
      "Data appended successfully\n",
      "Start Date: 19890209, End Date: 19890211\n",
      "Downloading data from refinitiv...\n",
      "(71, 71)\n",
      "Master shape: (71, 71)\n",
      "Start Date: 19890212, End Date: 19890214\n",
      "Downloading data from refinitiv...\n",
      "(96, 71)\n",
      "Master shape: (167, 71)\n",
      "Start Date: 19890215, End Date: 19890217\n",
      "Downloading data from refinitiv...\n"
     ]
    },
    {
     "name": "stderr",
     "output_type": "stream",
     "text": [
      "/var/tmp/ipykernel_10925/3801902500.py:128: FutureWarning: The behavior of DataFrame concatenation with empty or all-NA entries is deprecated. In a future version, this will no longer exclude empty or all-NA columns when determining the result dtypes. To retain the old behavior, exclude the relevant entries before the concat operation.\n",
      "  master_df = pd.concat([master_df, mnas], ignore_index=True)\n",
      "ERROR!!! An error occurred while requesting URL('https://api.refinitiv.com/data/datagrid/beta1/').\n",
      "     ReadTimeout('')\n"
     ]
    },
    {
     "name": "stdout",
     "output_type": "stream",
     "text": [
      "An error occurred: . Retrying for the range 19890215 to 19890217...\n",
      "Start Date: 19890215, End Date: 19890217\n",
      "Downloading data from refinitiv...\n",
      "(149, 71)\n",
      "Master shape: (316, 71)\n",
      "Start Date: 19890218, End Date: 19890220\n",
      "Downloading data from refinitiv...\n"
     ]
    },
    {
     "name": "stderr",
     "output_type": "stream",
     "text": [
      "ERROR!!! An error occurred while requesting URL('https://api.refinitiv.com/data/datagrid/beta1/').\n",
      "     ReadTimeout('')\n"
     ]
    },
    {
     "name": "stdout",
     "output_type": "stream",
     "text": [
      "An error occurred: . Retrying for the range 19890218 to 19890220...\n",
      "Start Date: 19890218, End Date: 19890220\n",
      "Downloading data from refinitiv...\n",
      "(39, 71)\n",
      "Master shape: (355, 71)\n",
      "Start Date: 19890221, End Date: 19890223\n",
      "Downloading data from refinitiv...\n"
     ]
    },
    {
     "name": "stderr",
     "output_type": "stream",
     "text": [
      "/var/tmp/ipykernel_10925/3801902500.py:128: FutureWarning: The behavior of DataFrame concatenation with empty or all-NA entries is deprecated. In a future version, this will no longer exclude empty or all-NA columns when determining the result dtypes. To retain the old behavior, exclude the relevant entries before the concat operation.\n",
      "  master_df = pd.concat([master_df, mnas], ignore_index=True)\n"
     ]
    },
    {
     "name": "stdout",
     "output_type": "stream",
     "text": [
      "(133, 71)\n",
      "Master shape: (488, 71)\n",
      "Start Date: 19890224, End Date: 19890226\n",
      "Downloading data from refinitiv...\n",
      "(48, 71)\n",
      "Master shape: (536, 71)\n",
      "Start Date: 19890227, End Date: 19890301\n",
      "Downloading data from refinitiv...\n",
      "(265, 71)\n",
      "Master shape: (801, 71)\n",
      "Start Date: 19890302, End Date: 19890304\n",
      "Downloading data from refinitiv...\n",
      "(90, 71)\n",
      "Master shape: (891, 71)\n",
      "Start Date: 19890305, End Date: 19890307\n",
      "Downloading data from refinitiv...\n",
      "(82, 71)\n",
      "Master shape: (973, 71)\n",
      "Start Date: 19890308, End Date: 19890310\n",
      "Downloading data from refinitiv...\n",
      "(122, 71)\n",
      "Master shape: (1095, 71)\n",
      "Start Date: 19890311, End Date: 19890313\n",
      "Downloading data from refinitiv...\n",
      "(43, 71)\n",
      "Master shape: (1138, 71)\n",
      "Start Date: 19890314, End Date: 19890316\n",
      "Downloading data from refinitiv...\n"
     ]
    },
    {
     "name": "stderr",
     "output_type": "stream",
     "text": [
      "/var/tmp/ipykernel_10925/3801902500.py:128: FutureWarning: The behavior of DataFrame concatenation with empty or all-NA entries is deprecated. In a future version, this will no longer exclude empty or all-NA columns when determining the result dtypes. To retain the old behavior, exclude the relevant entries before the concat operation.\n",
      "  master_df = pd.concat([master_df, mnas], ignore_index=True)\n"
     ]
    },
    {
     "name": "stdout",
     "output_type": "stream",
     "text": [
      "(147, 71)\n",
      "Master shape: (1285, 71)\n",
      "Start Date: 19890317, End Date: 19890319\n",
      "Downloading data from refinitiv...\n",
      "(56, 71)\n",
      "Master shape: (1341, 71)\n",
      "Start Date: 19890320, End Date: 19890322\n",
      "Downloading data from refinitiv...\n",
      "(147, 71)\n",
      "Master shape: (1488, 71)\n",
      "Start Date: 19890323, End Date: 19890325\n",
      "Downloading data from refinitiv...\n"
     ]
    },
    {
     "name": "stderr",
     "output_type": "stream",
     "text": [
      "ERROR!!! An error occurred while requesting URL('https://api.refinitiv.com/data/datagrid/beta1/').\n",
      "     ReadTimeout('')\n"
     ]
    },
    {
     "name": "stdout",
     "output_type": "stream",
     "text": [
      "An error occurred: . Retrying for the range 19890323 to 19890325...\n",
      "Start Date: 19890323, End Date: 19890325\n",
      "Downloading data from refinitiv...\n",
      "(53, 71)\n",
      "Master shape: (1541, 71)\n",
      "Start Date: 19890326, End Date: 19890328\n",
      "Downloading data from refinitiv...\n",
      "(89, 71)\n",
      "Master shape: (1630, 71)\n",
      "Start Date: 19890329, End Date: 19890331\n",
      "Downloading data from refinitiv...\n",
      "(187, 71)\n",
      "Master shape: (1817, 71)\n",
      "Start Date: 19890401, End Date: 19890403\n",
      "Downloading data from refinitiv...\n",
      "(63, 71)\n",
      "Master shape: (1880, 71)\n",
      "Start Date: 19890404, End Date: 19890406\n",
      "Downloading data from refinitiv...\n",
      "(144, 71)\n",
      "Master shape: (2024, 71)\n",
      "Start Date: 19890407, End Date: 19890409\n",
      "Downloading data from refinitiv...\n",
      "(61, 71)\n",
      "Master shape: (2085, 71)\n",
      "Appending chunk to BQ\n",
      "Data appended successfully\n",
      "Start Date: 19890410, End Date: 19890412\n",
      "Downloading data from refinitiv...\n",
      "(113, 71)\n",
      "Master shape: (113, 71)\n",
      "Start Date: 19890413, End Date: 19890415\n",
      "Downloading data from refinitiv...\n",
      "(93, 71)\n",
      "Master shape: (206, 71)\n",
      "Start Date: 19890416, End Date: 19890418\n",
      "Downloading data from refinitiv...\n",
      "(78, 71)\n",
      "Master shape: (284, 71)\n",
      "Start Date: 19890419, End Date: 19890421\n",
      "Downloading data from refinitiv...\n"
     ]
    },
    {
     "name": "stderr",
     "output_type": "stream",
     "text": [
      "/var/tmp/ipykernel_10925/3801902500.py:128: FutureWarning: The behavior of DataFrame concatenation with empty or all-NA entries is deprecated. In a future version, this will no longer exclude empty or all-NA columns when determining the result dtypes. To retain the old behavior, exclude the relevant entries before the concat operation.\n",
      "  master_df = pd.concat([master_df, mnas], ignore_index=True)\n"
     ]
    },
    {
     "name": "stdout",
     "output_type": "stream",
     "text": [
      "(139, 71)\n",
      "Master shape: (423, 71)\n",
      "Start Date: 19890422, End Date: 19890424\n",
      "Downloading data from refinitiv...\n",
      "(50, 71)\n",
      "Master shape: (473, 71)\n",
      "Start Date: 19890425, End Date: 19890427\n",
      "Downloading data from refinitiv...\n",
      "(140, 71)\n",
      "Master shape: (613, 71)\n",
      "Start Date: 19890428, End Date: 19890430\n",
      "Downloading data from refinitiv...\n",
      "(95, 71)\n",
      "Master shape: (708, 71)\n",
      "Start Date: 19890501, End Date: 19890503\n",
      "Downloading data from refinitiv...\n",
      "(128, 71)\n",
      "Master shape: (836, 71)\n",
      "Start Date: 19890504, End Date: 19890506\n",
      "Downloading data from refinitiv...\n",
      "(94, 71)\n",
      "Master shape: (930, 71)\n",
      "Start Date: 19890507, End Date: 19890509\n",
      "Downloading data from refinitiv...\n",
      "(77, 71)\n",
      "Master shape: (1007, 71)\n",
      "Start Date: 19890510, End Date: 19890512\n",
      "Downloading data from refinitiv...\n",
      "(132, 71)\n",
      "Master shape: (1139, 71)\n",
      "Start Date: 19890513, End Date: 19890515\n",
      "Downloading data from refinitiv...\n"
     ]
    },
    {
     "name": "stderr",
     "output_type": "stream",
     "text": [
      "ERROR!!! An error occurred while requesting URL('https://api.refinitiv.com/data/datagrid/beta1/').\n",
      "     ReadTimeout('')\n"
     ]
    },
    {
     "name": "stdout",
     "output_type": "stream",
     "text": [
      "An error occurred: . Retrying for the range 19890513 to 19890515...\n",
      "Start Date: 19890513, End Date: 19890515\n",
      "Downloading data from refinitiv...\n",
      "(48, 71)\n",
      "Master shape: (1187, 71)\n",
      "Start Date: 19890516, End Date: 19890518\n",
      "Downloading data from refinitiv...\n",
      "(116, 71)\n",
      "Master shape: (1303, 71)\n",
      "Start Date: 19890519, End Date: 19890521\n",
      "Downloading data from refinitiv...\n"
     ]
    },
    {
     "name": "stderr",
     "output_type": "stream",
     "text": [
      "/var/tmp/ipykernel_10925/3801902500.py:128: FutureWarning: The behavior of DataFrame concatenation with empty or all-NA entries is deprecated. In a future version, this will no longer exclude empty or all-NA columns when determining the result dtypes. To retain the old behavior, exclude the relevant entries before the concat operation.\n",
      "  master_df = pd.concat([master_df, mnas], ignore_index=True)\n"
     ]
    },
    {
     "name": "stdout",
     "output_type": "stream",
     "text": [
      "(44, 71)\n",
      "Master shape: (1347, 71)\n",
      "Start Date: 19890522, End Date: 19890524\n",
      "Downloading data from refinitiv...\n",
      "(126, 71)\n",
      "Master shape: (1473, 71)\n",
      "Start Date: 19890525, End Date: 19890527\n",
      "Downloading data from refinitiv...\n",
      "(85, 71)\n",
      "Master shape: (1558, 71)\n",
      "Start Date: 19890528, End Date: 19890530\n",
      "Downloading data from refinitiv...\n",
      "(76, 71)\n",
      "Master shape: (1634, 71)\n",
      "Start Date: 19890531, End Date: 19890602\n",
      "Downloading data from refinitiv...\n",
      "(227, 71)\n",
      "Master shape: (1861, 71)\n",
      "Start Date: 19890603, End Date: 19890605\n",
      "Downloading data from refinitiv...\n",
      "(70, 71)\n",
      "Master shape: (1931, 71)\n",
      "Start Date: 19890606, End Date: 19890608\n",
      "Downloading data from refinitiv...\n"
     ]
    },
    {
     "name": "stderr",
     "output_type": "stream",
     "text": [
      "ERROR!!! An error occurred while requesting URL('https://api.refinitiv.com/data/datagrid/beta1/').\n",
      "     ReadTimeout('')\n"
     ]
    },
    {
     "name": "stdout",
     "output_type": "stream",
     "text": [
      "An error occurred: . Retrying for the range 19890606 to 19890608...\n",
      "Start Date: 19890606, End Date: 19890608\n",
      "Downloading data from refinitiv...\n",
      "(143, 71)\n",
      "Master shape: (2074, 71)\n",
      "Appending chunk to BQ\n",
      "Data appended successfully\n",
      "Start Date: 19890609, End Date: 19890611\n",
      "Downloading data from refinitiv...\n",
      "(55, 71)\n",
      "Master shape: (55, 71)\n",
      "Start Date: 19890612, End Date: 19890614\n",
      "Downloading data from refinitiv...\n",
      "(157, 71)\n",
      "Master shape: (212, 71)\n",
      "Start Date: 19890615, End Date: 19890617\n",
      "Downloading data from refinitiv...\n",
      "(70, 71)\n",
      "Master shape: (282, 71)\n",
      "Start Date: 19890618, End Date: 19890620\n",
      "Downloading data from refinitiv...\n",
      "(91, 71)\n",
      "Master shape: (373, 71)\n",
      "Start Date: 19890621, End Date: 19890623\n",
      "Downloading data from refinitiv...\n",
      "(168, 71)\n",
      "Master shape: (541, 71)\n",
      "Start Date: 19890624, End Date: 19890626\n",
      "Downloading data from refinitiv...\n",
      "(61, 71)\n",
      "Master shape: (602, 71)\n",
      "Start Date: 19890627, End Date: 19890629\n",
      "Downloading data from refinitiv...\n"
     ]
    },
    {
     "name": "stderr",
     "output_type": "stream",
     "text": [
      "/var/tmp/ipykernel_10925/3801902500.py:128: FutureWarning: The behavior of DataFrame concatenation with empty or all-NA entries is deprecated. In a future version, this will no longer exclude empty or all-NA columns when determining the result dtypes. To retain the old behavior, exclude the relevant entries before the concat operation.\n",
      "  master_df = pd.concat([master_df, mnas], ignore_index=True)\n"
     ]
    },
    {
     "name": "stdout",
     "output_type": "stream",
     "text": [
      "(175, 71)\n",
      "Master shape: (777, 71)\n",
      "Start Date: 19890630, End Date: 19890702\n",
      "Downloading data from refinitiv...\n",
      "(132, 71)\n",
      "Master shape: (909, 71)\n",
      "Start Date: 19890703, End Date: 19890705\n",
      "Downloading data from refinitiv...\n"
     ]
    },
    {
     "name": "stderr",
     "output_type": "stream",
     "text": [
      "ERROR!!! An error occurred while requesting URL('https://api.refinitiv.com/data/datagrid/beta1/').\n",
      "     ReadTimeout('')\n"
     ]
    },
    {
     "name": "stdout",
     "output_type": "stream",
     "text": [
      "An error occurred: . Retrying for the range 19890703 to 19890705...\n",
      "Start Date: 19890703, End Date: 19890705\n",
      "Downloading data from refinitiv...\n",
      "(121, 71)\n",
      "Master shape: (1030, 71)\n",
      "Start Date: 19890706, End Date: 19890708\n",
      "Downloading data from refinitiv...\n",
      "(119, 71)\n",
      "Master shape: (1149, 71)\n",
      "Start Date: 19890709, End Date: 19890711\n",
      "Downloading data from refinitiv...\n",
      "(104, 71)\n",
      "Master shape: (1253, 71)\n",
      "Start Date: 19890712, End Date: 19890714\n",
      "Downloading data from refinitiv...\n",
      "(126, 71)\n",
      "Master shape: (1379, 71)\n",
      "Start Date: 19890715, End Date: 19890717\n",
      "Downloading data from refinitiv...\n",
      "(48, 71)\n",
      "Master shape: (1427, 71)\n",
      "Start Date: 19890718, End Date: 19890720\n",
      "Downloading data from refinitiv...\n",
      "(118, 71)\n",
      "Master shape: (1545, 71)\n",
      "Start Date: 19890721, End Date: 19890723\n",
      "Downloading data from refinitiv...\n",
      "(46, 71)\n",
      "Master shape: (1591, 71)\n",
      "Start Date: 19890724, End Date: 19890726\n",
      "Downloading data from refinitiv...\n"
     ]
    },
    {
     "name": "stderr",
     "output_type": "stream",
     "text": [
      "ERROR!!! An error occurred while requesting URL('https://api.refinitiv.com/data/datagrid/beta1/').\n",
      "     ReadTimeout('')\n"
     ]
    },
    {
     "name": "stdout",
     "output_type": "stream",
     "text": [
      "An error occurred: . Retrying for the range 19890724 to 19890726...\n",
      "Start Date: 19890724, End Date: 19890726\n",
      "Downloading data from refinitiv...\n",
      "(119, 71)\n",
      "Master shape: (1710, 71)\n",
      "Start Date: 19890727, End Date: 19890729\n",
      "Downloading data from refinitiv...\n",
      "(113, 71)\n",
      "Master shape: (1823, 71)\n",
      "Start Date: 19890730, End Date: 19890801\n",
      "Downloading data from refinitiv...\n",
      "(167, 71)\n",
      "Master shape: (1990, 71)\n",
      "Start Date: 19890802, End Date: 19890804\n",
      "Downloading data from refinitiv...\n",
      "(125, 71)\n",
      "Master shape: (2115, 71)\n",
      "Start Date: 19890805, End Date: 19890807\n",
      "Downloading data from refinitiv...\n"
     ]
    },
    {
     "name": "stderr",
     "output_type": "stream",
     "text": [
      "ERROR!!! An error occurred while requesting URL('https://api.refinitiv.com/data/datagrid/beta1/').\n",
      "     ReadTimeout('')\n"
     ]
    },
    {
     "name": "stdout",
     "output_type": "stream",
     "text": [
      "An error occurred: . Retrying for the range 19890805 to 19890807...\n",
      "Start Date: 19890805, End Date: 19890807\n",
      "Downloading data from refinitiv...\n",
      "(53, 71)\n",
      "Master shape: (2168, 71)\n",
      "Appending chunk to BQ\n",
      "Data appended successfully\n",
      "Start Date: 19890808, End Date: 19890810\n",
      "Downloading data from refinitiv...\n",
      "(146, 71)\n",
      "Master shape: (146, 71)\n",
      "Start Date: 19890811, End Date: 19890813\n",
      "Downloading data from refinitiv...\n",
      "(52, 71)\n",
      "Master shape: (198, 71)\n",
      "Start Date: 19890814, End Date: 19890816\n",
      "Downloading data from refinitiv...\n"
     ]
    },
    {
     "name": "stderr",
     "output_type": "stream",
     "text": [
      "ERROR!!! An error occurred while requesting URL('https://api.refinitiv.com/data/datagrid/beta1/').\n",
      "     ReadTimeout('')\n"
     ]
    },
    {
     "name": "stdout",
     "output_type": "stream",
     "text": [
      "An error occurred: . Retrying for the range 19890826 to 19890828...\n",
      "Start Date: 19890826, End Date: 19890828\n",
      "Downloading data from refinitiv...\n",
      "(42, 71)\n",
      "Master shape: (678, 71)\n",
      "Start Date: 19890829, End Date: 19890831\n",
      "Downloading data from refinitiv...\n"
     ]
    },
    {
     "name": "stderr",
     "output_type": "stream",
     "text": [
      "/var/tmp/ipykernel_10925/3801902500.py:128: FutureWarning: The behavior of DataFrame concatenation with empty or all-NA entries is deprecated. In a future version, this will no longer exclude empty or all-NA columns when determining the result dtypes. To retain the old behavior, exclude the relevant entries before the concat operation.\n",
      "  master_df = pd.concat([master_df, mnas], ignore_index=True)\n"
     ]
    },
    {
     "name": "stdout",
     "output_type": "stream",
     "text": [
      "(167, 71)\n",
      "Master shape: (845, 71)\n",
      "Start Date: 19890901, End Date: 19890903\n",
      "Downloading data from refinitiv...\n",
      "(45, 71)\n",
      "Master shape: (890, 71)\n",
      "Start Date: 19890904, End Date: 19890906\n",
      "Downloading data from refinitiv...\n",
      "(119, 71)\n",
      "Master shape: (1009, 71)\n",
      "Start Date: 19890907, End Date: 19890909\n",
      "Downloading data from refinitiv...\n",
      "(133, 71)\n",
      "Master shape: (1142, 71)\n",
      "Start Date: 19890910, End Date: 19890912\n",
      "Downloading data from refinitiv...\n",
      "(115, 71)\n",
      "Master shape: (1257, 71)\n",
      "Start Date: 19890913, End Date: 19890915\n",
      "Downloading data from refinitiv...\n",
      "(148, 71)\n",
      "Master shape: (1405, 71)\n",
      "Start Date: 19890916, End Date: 19890918\n",
      "Downloading data from refinitiv...\n",
      "(41, 71)\n",
      "Master shape: (1446, 71)\n",
      "Start Date: 19890919, End Date: 19890921\n",
      "Downloading data from refinitiv...\n"
     ]
    },
    {
     "name": "stderr",
     "output_type": "stream",
     "text": [
      "/var/tmp/ipykernel_10925/3801902500.py:128: FutureWarning: The behavior of DataFrame concatenation with empty or all-NA entries is deprecated. In a future version, this will no longer exclude empty or all-NA columns when determining the result dtypes. To retain the old behavior, exclude the relevant entries before the concat operation.\n",
      "  master_df = pd.concat([master_df, mnas], ignore_index=True)\n"
     ]
    },
    {
     "name": "stdout",
     "output_type": "stream",
     "text": [
      "(137, 71)\n",
      "Master shape: (1583, 71)\n",
      "Start Date: 19890922, End Date: 19890924\n",
      "Downloading data from refinitiv...\n",
      "(52, 71)\n",
      "Master shape: (1635, 71)\n",
      "Start Date: 19890925, End Date: 19890927\n",
      "Downloading data from refinitiv...\n",
      "(158, 71)\n",
      "Master shape: (1793, 71)\n",
      "Start Date: 19890928, End Date: 19890930\n",
      "Downloading data from refinitiv...\n",
      "(182, 71)\n",
      "Master shape: (1975, 71)\n",
      "Start Date: 19891001, End Date: 19891003\n",
      "Downloading data from refinitiv...\n",
      "(151, 71)\n",
      "Master shape: (2126, 71)\n",
      "Start Date: 19891004, End Date: 19891006\n",
      "Downloading data from refinitiv...\n",
      "(150, 71)\n",
      "Master shape: (2276, 71)\n",
      "Appending chunk to BQ\n",
      "Data appended successfully\n",
      "Start Date: 19891007, End Date: 19891009\n",
      "Downloading data from refinitiv...\n",
      "(65, 71)\n",
      "Master shape: (65, 71)\n",
      "Start Date: 19891010, End Date: 19891012\n",
      "Downloading data from refinitiv...\n"
     ]
    },
    {
     "name": "stderr",
     "output_type": "stream",
     "text": [
      "ERROR!!! An error occurred while requesting URL('https://api.refinitiv.com/data/datagrid/beta1/').\n",
      "     ReadTimeout('')\n"
     ]
    },
    {
     "name": "stdout",
     "output_type": "stream",
     "text": [
      "An error occurred: . Retrying for the range 19891010 to 19891012...\n",
      "Start Date: 19891010, End Date: 19891012\n",
      "Downloading data from refinitiv...\n",
      "(142, 71)\n",
      "Master shape: (207, 71)\n",
      "Start Date: 19891013, End Date: 19891015\n",
      "Downloading data from refinitiv...\n",
      "(38, 71)\n",
      "Master shape: (245, 71)\n",
      "Start Date: 19891016, End Date: 19891018\n",
      "Downloading data from refinitiv...\n",
      "(125, 71)\n",
      "Master shape: (370, 71)\n",
      "Start Date: 19891019, End Date: 19891021\n",
      "Downloading data from refinitiv...\n",
      "(120, 71)\n",
      "Master shape: (490, 71)\n",
      "Start Date: 19891022, End Date: 19891024\n",
      "Downloading data from refinitiv...\n",
      "(96, 71)\n",
      "Master shape: (586, 71)\n",
      "Start Date: 19891025, End Date: 19891027\n",
      "Downloading data from refinitiv...\n",
      "(144, 71)\n",
      "Master shape: (730, 71)\n",
      "Start Date: 19891028, End Date: 19891030\n",
      "Downloading data from refinitiv...\n",
      "(66, 71)\n",
      "Master shape: (796, 71)\n",
      "Start Date: 19891031, End Date: 19891102\n",
      "Downloading data from refinitiv...\n"
     ]
    },
    {
     "name": "stderr",
     "output_type": "stream",
     "text": [
      "/var/tmp/ipykernel_10925/3801902500.py:128: FutureWarning: The behavior of DataFrame concatenation with empty or all-NA entries is deprecated. In a future version, this will no longer exclude empty or all-NA columns when determining the result dtypes. To retain the old behavior, exclude the relevant entries before the concat operation.\n",
      "  master_df = pd.concat([master_df, mnas], ignore_index=True)\n"
     ]
    },
    {
     "name": "stdout",
     "output_type": "stream",
     "text": [
      "(180, 71)\n",
      "Master shape: (976, 71)\n",
      "Start Date: 19891103, End Date: 19891105\n",
      "Downloading data from refinitiv...\n",
      "(61, 71)\n",
      "Master shape: (1037, 71)\n",
      "Start Date: 19891106, End Date: 19891108\n",
      "Downloading data from refinitiv...\n",
      "(136, 71)\n",
      "Master shape: (1173, 71)\n",
      "Start Date: 19891109, End Date: 19891111\n",
      "Downloading data from refinitiv...\n"
     ]
    },
    {
     "name": "stderr",
     "output_type": "stream",
     "text": [
      "/var/tmp/ipykernel_10925/3801902500.py:128: FutureWarning: The behavior of DataFrame concatenation with empty or all-NA entries is deprecated. In a future version, this will no longer exclude empty or all-NA columns when determining the result dtypes. To retain the old behavior, exclude the relevant entries before the concat operation.\n",
      "  master_df = pd.concat([master_df, mnas], ignore_index=True)\n"
     ]
    },
    {
     "name": "stdout",
     "output_type": "stream",
     "text": [
      "(102, 71)\n",
      "Master shape: (1275, 71)\n",
      "Start Date: 19891112, End Date: 19891114\n",
      "Downloading data from refinitiv...\n",
      "(78, 71)\n",
      "Master shape: (1353, 71)\n",
      "Start Date: 19891115, End Date: 19891117\n",
      "Downloading data from refinitiv...\n"
     ]
    },
    {
     "name": "stderr",
     "output_type": "stream",
     "text": [
      "ERROR!!! An error occurred while requesting URL('https://api.refinitiv.com/data/datagrid/beta1/').\n",
      "     ReadTimeout('')\n"
     ]
    },
    {
     "name": "stdout",
     "output_type": "stream",
     "text": [
      "An error occurred: . Retrying for the range 19891115 to 19891117...\n",
      "Start Date: 19891115, End Date: 19891117\n",
      "Downloading data from refinitiv...\n",
      "(141, 71)\n",
      "Master shape: (1494, 71)\n",
      "Start Date: 19891118, End Date: 19891120\n",
      "Downloading data from refinitiv...\n"
     ]
    },
    {
     "name": "stderr",
     "output_type": "stream",
     "text": [
      "ERROR!!! An error occurred while requesting URL('https://api.refinitiv.com/data/datagrid/beta1/').\n",
      "     ReadTimeout('')\n"
     ]
    },
    {
     "name": "stdout",
     "output_type": "stream",
     "text": [
      "An error occurred: . Retrying for the range 19891118 to 19891120...\n",
      "Start Date: 19891118, End Date: 19891120\n",
      "Downloading data from refinitiv...\n",
      "(54, 71)\n",
      "Master shape: (1548, 71)\n",
      "Start Date: 19891121, End Date: 19891123\n",
      "Downloading data from refinitiv...\n"
     ]
    },
    {
     "name": "stderr",
     "output_type": "stream",
     "text": [
      "/var/tmp/ipykernel_10925/3801902500.py:128: FutureWarning: The behavior of DataFrame concatenation with empty or all-NA entries is deprecated. In a future version, this will no longer exclude empty or all-NA columns when determining the result dtypes. To retain the old behavior, exclude the relevant entries before the concat operation.\n",
      "  master_df = pd.concat([master_df, mnas], ignore_index=True)\n",
      "ERROR!!! An error occurred while requesting URL('https://api.refinitiv.com/data/datagrid/beta1/').\n",
      "     ReadTimeout('')\n"
     ]
    },
    {
     "name": "stdout",
     "output_type": "stream",
     "text": [
      "An error occurred: . Retrying for the range 19891121 to 19891123...\n",
      "Start Date: 19891121, End Date: 19891123\n",
      "Downloading data from refinitiv...\n",
      "(121, 71)\n",
      "Master shape: (1669, 71)\n",
      "Start Date: 19891124, End Date: 19891126\n",
      "Downloading data from refinitiv...\n",
      "(35, 71)\n",
      "Master shape: (1704, 71)\n",
      "Start Date: 19891127, End Date: 19891129\n",
      "Downloading data from refinitiv...\n",
      "(148, 71)\n",
      "Master shape: (1852, 71)\n",
      "Start Date: 19891130, End Date: 19891202\n",
      "Downloading data from refinitiv...\n",
      "(148, 71)\n",
      "Master shape: (2000, 71)\n",
      "Start Date: 19891203, End Date: 19891205\n",
      "Downloading data from refinitiv...\n",
      "(95, 71)\n",
      "Master shape: (2095, 71)\n",
      "Appending chunk to BQ\n",
      "Data appended successfully\n",
      "Start Date: 19891206, End Date: 19891208\n",
      "Downloading data from refinitiv...\n",
      "(129, 71)\n",
      "Master shape: (129, 71)\n",
      "Start Date: 19891209, End Date: 19891211\n",
      "Downloading data from refinitiv...\n",
      "(53, 71)\n",
      "Master shape: (182, 71)\n",
      "Start Date: 19891212, End Date: 19891214\n",
      "Downloading data from refinitiv...\n",
      "(180, 71)\n",
      "Master shape: (362, 71)\n",
      "Start Date: 19891215, End Date: 19891217\n",
      "Downloading data from refinitiv...\n"
     ]
    },
    {
     "name": "stderr",
     "output_type": "stream",
     "text": [
      "ERROR!!! An error occurred while requesting URL('https://api.refinitiv.com/data/datagrid/beta1/').\n",
      "     ReadTimeout('')\n"
     ]
    },
    {
     "name": "stdout",
     "output_type": "stream",
     "text": [
      "An error occurred: . Retrying for the range 19891215 to 19891217...\n",
      "Start Date: 19891215, End Date: 19891217\n",
      "Downloading data from refinitiv...\n",
      "(53, 71)\n",
      "Master shape: (415, 71)\n",
      "Start Date: 19891218, End Date: 19891220\n",
      "Downloading data from refinitiv...\n",
      "(186, 71)\n",
      "Master shape: (601, 71)\n",
      "Start Date: 19891221, End Date: 19891223\n",
      "Downloading data from refinitiv...\n",
      "(105, 71)\n",
      "Master shape: (706, 71)\n",
      "Start Date: 19891224, End Date: 19891226\n",
      "Downloading data from refinitiv...\n",
      "(34, 71)\n",
      "Master shape: (740, 71)\n",
      "Start Date: 19891227, End Date: 19891229\n",
      "Downloading data from refinitiv...\n"
     ]
    },
    {
     "name": "stderr",
     "output_type": "stream",
     "text": [
      "/var/tmp/ipykernel_10925/3801902500.py:128: FutureWarning: The behavior of DataFrame concatenation with empty or all-NA entries is deprecated. In a future version, this will no longer exclude empty or all-NA columns when determining the result dtypes. To retain the old behavior, exclude the relevant entries before the concat operation.\n",
      "  master_df = pd.concat([master_df, mnas], ignore_index=True)\n"
     ]
    },
    {
     "name": "stdout",
     "output_type": "stream",
     "text": [
      "(522, 71)\n",
      "Master shape: (1262, 71)\n",
      "Start Date: 19891230, End Date: 19900101\n",
      "Downloading data from refinitiv...\n",
      "(93, 71)\n",
      "Master shape: (1355, 71)\n",
      "Start Date: 19900102, End Date: 19900104\n",
      "Downloading data from refinitiv...\n",
      "(195, 71)\n",
      "Master shape: (1550, 71)\n",
      "Start Date: 19900105, End Date: 19900107\n",
      "Downloading data from refinitiv...\n",
      "(73, 71)\n",
      "Master shape: (1623, 71)\n",
      "Start Date: 19900108, End Date: 19900110\n",
      "Downloading data from refinitiv...\n",
      "(143, 71)\n",
      "Master shape: (1766, 71)\n",
      "Start Date: 19900111, End Date: 19900113\n",
      "Downloading data from refinitiv...\n",
      "(81, 71)\n",
      "Master shape: (1847, 71)\n",
      "Start Date: 19900114, End Date: 19900116\n",
      "Downloading data from refinitiv...\n",
      "(97, 71)\n",
      "Master shape: (1944, 71)\n",
      "Start Date: 19900117, End Date: 19900119\n",
      "Downloading data from refinitiv...\n"
     ]
    },
    {
     "name": "stderr",
     "output_type": "stream",
     "text": [
      "ERROR!!! An error occurred while requesting URL('https://api.refinitiv.com/data/datagrid/beta1/').\n",
      "     ReadTimeout('')\n"
     ]
    },
    {
     "name": "stdout",
     "output_type": "stream",
     "text": [
      "An error occurred: . Retrying for the range 19900117 to 19900119...\n",
      "Start Date: 19900117, End Date: 19900119\n",
      "Downloading data from refinitiv...\n",
      "(128, 71)\n",
      "Master shape: (2072, 71)\n",
      "Start Date: 19900120, End Date: 19900122\n",
      "Downloading data from refinitiv...\n",
      "(59, 71)\n",
      "Master shape: (2131, 71)\n",
      "Start Date: 19900123, End Date: 19900125\n",
      "Downloading data from refinitiv...\n",
      "(117, 71)\n",
      "Master shape: (2248, 71)\n",
      "Start Date: 19900126, End Date: 19900128\n",
      "Downloading data from refinitiv...\n",
      "(38, 71)\n",
      "Master shape: (2286, 71)\n",
      "Start Date: 19900129, End Date: 19900131\n",
      "Downloading data from refinitiv...\n"
     ]
    },
    {
     "name": "stderr",
     "output_type": "stream",
     "text": [
      "/var/tmp/ipykernel_10925/3801902500.py:128: FutureWarning: The behavior of DataFrame concatenation with empty or all-NA entries is deprecated. In a future version, this will no longer exclude empty or all-NA columns when determining the result dtypes. To retain the old behavior, exclude the relevant entries before the concat operation.\n",
      "  master_df = pd.concat([master_df, mnas], ignore_index=True)\n"
     ]
    },
    {
     "name": "stdout",
     "output_type": "stream",
     "text": [
      "(212, 71)\n",
      "Master shape: (2498, 71)\n",
      "Start Date: 19900201, End Date: 19900203\n",
      "Downloading data from refinitiv...\n",
      "(103, 71)\n",
      "Master shape: (2601, 71)\n",
      "Appending chunk to BQ\n"
     ]
    },
    {
     "name": "stderr",
     "output_type": "stream",
     "text": [
      "/var/tmp/ipykernel_10925/3801902500.py:128: FutureWarning: The behavior of DataFrame concatenation with empty or all-NA entries is deprecated. In a future version, this will no longer exclude empty or all-NA columns when determining the result dtypes. To retain the old behavior, exclude the relevant entries before the concat operation.\n",
      "  master_df = pd.concat([master_df, mnas], ignore_index=True)\n"
     ]
    },
    {
     "name": "stdout",
     "output_type": "stream",
     "text": [
      "Data appended successfully\n",
      "Start Date: 19900204, End Date: 19900206\n",
      "Downloading data from refinitiv...\n"
     ]
    },
    {
     "name": "stderr",
     "output_type": "stream",
     "text": [
      "ERROR!!! An error occurred while requesting URL('https://api.refinitiv.com/data/datagrid/beta1/').\n",
      "     ReadTimeout('')\n"
     ]
    },
    {
     "name": "stdout",
     "output_type": "stream",
     "text": [
      "An error occurred: . Retrying for the range 19900204 to 19900206...\n",
      "Start Date: 19900204, End Date: 19900206\n",
      "Downloading data from refinitiv...\n",
      "(111, 71)\n",
      "Master shape: (111, 71)\n",
      "Start Date: 19900207, End Date: 19900209\n",
      "Downloading data from refinitiv...\n",
      "(134, 71)\n",
      "Master shape: (245, 71)\n",
      "Start Date: 19900210, End Date: 19900212\n",
      "Downloading data from refinitiv...\n",
      "(57, 71)\n",
      "Master shape: (302, 71)\n",
      "Start Date: 19900213, End Date: 19900215\n",
      "Downloading data from refinitiv...\n",
      "(159, 71)\n",
      "Master shape: (461, 71)\n",
      "Start Date: 19900216, End Date: 19900218\n",
      "Downloading data from refinitiv...\n",
      "(43, 71)\n",
      "Master shape: (504, 71)\n",
      "Start Date: 19900219, End Date: 19900221\n",
      "Downloading data from refinitiv...\n"
     ]
    },
    {
     "name": "stderr",
     "output_type": "stream",
     "text": [
      "ERROR!!! An error occurred while requesting URL('https://api.refinitiv.com/data/datagrid/beta1/').\n",
      "     ReadTimeout('')\n"
     ]
    },
    {
     "name": "stdout",
     "output_type": "stream",
     "text": [
      "An error occurred: . Retrying for the range 19900219 to 19900221...\n",
      "Start Date: 19900219, End Date: 19900221\n",
      "Downloading data from refinitiv...\n",
      "(126, 71)\n",
      "Master shape: (630, 71)\n",
      "Start Date: 19900222, End Date: 19900224\n",
      "Downloading data from refinitiv...\n",
      "(79, 71)\n",
      "Master shape: (709, 71)\n",
      "Start Date: 19900225, End Date: 19900227\n",
      "Downloading data from refinitiv...\n",
      "(78, 71)\n",
      "Master shape: (787, 71)\n",
      "Start Date: 19900228, End Date: 19900302\n",
      "Downloading data from refinitiv...\n",
      "(212, 71)\n",
      "Master shape: (999, 71)\n",
      "Start Date: 19900303, End Date: 19900305\n",
      "Downloading data from refinitiv...\n",
      "(55, 71)\n",
      "Master shape: (1054, 71)\n",
      "Start Date: 19900306, End Date: 19900308\n",
      "Downloading data from refinitiv...\n"
     ]
    },
    {
     "name": "stderr",
     "output_type": "stream",
     "text": [
      "/var/tmp/ipykernel_10925/3801902500.py:128: FutureWarning: The behavior of DataFrame concatenation with empty or all-NA entries is deprecated. In a future version, this will no longer exclude empty or all-NA columns when determining the result dtypes. To retain the old behavior, exclude the relevant entries before the concat operation.\n",
      "  master_df = pd.concat([master_df, mnas], ignore_index=True)\n"
     ]
    },
    {
     "name": "stdout",
     "output_type": "stream",
     "text": [
      "(133, 71)\n",
      "Master shape: (1187, 71)\n",
      "Start Date: 19900309, End Date: 19900311\n",
      "Downloading data from refinitiv...\n"
     ]
    },
    {
     "name": "stderr",
     "output_type": "stream",
     "text": [
      "ERROR!!! An error occurred while requesting URL('https://api.refinitiv.com/data/datagrid/beta1/').\n",
      "     ReadTimeout('')\n"
     ]
    },
    {
     "name": "stdout",
     "output_type": "stream",
     "text": [
      "An error occurred: . Retrying for the range 19900309 to 19900311...\n",
      "Start Date: 19900309, End Date: 19900311\n",
      "Downloading data from refinitiv...\n",
      "(39, 71)\n",
      "Master shape: (1226, 71)\n",
      "Start Date: 19900312, End Date: 19900314\n",
      "Downloading data from refinitiv...\n"
     ]
    },
    {
     "name": "stderr",
     "output_type": "stream",
     "text": [
      "ERROR!!! An error occurred while requesting URL('https://api.refinitiv.com/data/datagrid/beta1/').\n",
      "     ReadTimeout('')\n"
     ]
    },
    {
     "name": "stdout",
     "output_type": "stream",
     "text": [
      "An error occurred: . Retrying for the range 19900312 to 19900314...\n",
      "Start Date: 19900312, End Date: 19900314\n",
      "Downloading data from refinitiv...\n"
     ]
    },
    {
     "name": "stderr",
     "output_type": "stream",
     "text": [
      "ERROR!!! An error occurred while requesting URL('https://api.refinitiv.com/data/datagrid/beta1/').\n",
      "     ReadTimeout('')\n"
     ]
    },
    {
     "name": "stdout",
     "output_type": "stream",
     "text": [
      "An error occurred: . Retrying for the range 19900312 to 19900314...\n",
      "Start Date: 19900312, End Date: 19900314\n",
      "Downloading data from refinitiv...\n"
     ]
    },
    {
     "name": "stderr",
     "output_type": "stream",
     "text": [
      "ERROR!!! An error occurred while requesting URL('https://api.refinitiv.com/data/datagrid/beta1/').\n",
      "     ReadTimeout('')\n"
     ]
    },
    {
     "name": "stdout",
     "output_type": "stream",
     "text": [
      "An error occurred: . Retrying for the range 19900312 to 19900314...\n",
      "Start Date: 19900312, End Date: 19900314\n",
      "Downloading data from refinitiv...\n",
      "(152, 71)\n",
      "Master shape: (1378, 71)\n",
      "Start Date: 19900315, End Date: 19900317\n",
      "Downloading data from refinitiv...\n"
     ]
    },
    {
     "name": "stderr",
     "output_type": "stream",
     "text": [
      "ERROR!!! An error occurred while requesting URL('https://api.refinitiv.com/data/datagrid/beta1/').\n",
      "     ReadTimeout('')\n"
     ]
    },
    {
     "name": "stdout",
     "output_type": "stream",
     "text": [
      "An error occurred: . Retrying for the range 19900315 to 19900317...\n",
      "Start Date: 19900315, End Date: 19900317\n",
      "Downloading data from refinitiv...\n",
      "(106, 71)\n",
      "Master shape: (1484, 71)\n",
      "Start Date: 19900318, End Date: 19900320\n",
      "Downloading data from refinitiv...\n",
      "(100, 71)\n",
      "Master shape: (1584, 71)\n",
      "Start Date: 19900321, End Date: 19900323\n",
      "Downloading data from refinitiv...\n",
      "(134, 71)\n",
      "Master shape: (1718, 71)\n",
      "Start Date: 19900324, End Date: 19900326\n",
      "Downloading data from refinitiv...\n",
      "(52, 71)\n",
      "Master shape: (1770, 71)\n",
      "Start Date: 19900327, End Date: 19900329\n",
      "Downloading data from refinitiv...\n",
      "(127, 71)\n",
      "Master shape: (1897, 71)\n",
      "Start Date: 19900330, End Date: 19900401\n",
      "Downloading data from refinitiv...\n",
      "(162, 71)\n",
      "Master shape: (2059, 71)\n",
      "Start Date: 19900402, End Date: 19900404\n",
      "Downloading data from refinitiv...\n",
      "(186, 71)\n",
      "Master shape: (2245, 71)\n",
      "Appending chunk to BQ\n",
      "Data appended successfully\n",
      "Start Date: 19900405, End Date: 19900407\n",
      "Downloading data from refinitiv...\n",
      "(93, 71)\n",
      "Master shape: (93, 71)\n",
      "Start Date: 19900408, End Date: 19900410\n",
      "Downloading data from refinitiv...\n",
      "(111, 71)\n",
      "Master shape: (204, 71)\n",
      "Start Date: 19900411, End Date: 19900413\n",
      "Downloading data from refinitiv...\n"
     ]
    },
    {
     "name": "stderr",
     "output_type": "stream",
     "text": [
      "/var/tmp/ipykernel_10925/3801902500.py:128: FutureWarning: The behavior of DataFrame concatenation with empty or all-NA entries is deprecated. In a future version, this will no longer exclude empty or all-NA columns when determining the result dtypes. To retain the old behavior, exclude the relevant entries before the concat operation.\n",
      "  master_df = pd.concat([master_df, mnas], ignore_index=True)\n"
     ]
    },
    {
     "name": "stdout",
     "output_type": "stream",
     "text": [
      "(101, 71)\n",
      "Master shape: (305, 71)\n",
      "Start Date: 19900414, End Date: 19900416\n",
      "Downloading data from refinitiv...\n",
      "(51, 71)\n",
      "Master shape: (356, 71)\n",
      "Start Date: 19900417, End Date: 19900419\n",
      "Downloading data from refinitiv...\n",
      "(130, 71)\n",
      "Master shape: (486, 71)\n",
      "Start Date: 19900420, End Date: 19900422\n",
      "Downloading data from refinitiv...\n",
      "(56, 71)\n",
      "Master shape: (542, 71)\n",
      "Start Date: 19900423, End Date: 19900425\n",
      "Downloading data from refinitiv...\n"
     ]
    },
    {
     "name": "stderr",
     "output_type": "stream",
     "text": [
      "/var/tmp/ipykernel_10925/3801902500.py:128: FutureWarning: The behavior of DataFrame concatenation with empty or all-NA entries is deprecated. In a future version, this will no longer exclude empty or all-NA columns when determining the result dtypes. To retain the old behavior, exclude the relevant entries before the concat operation.\n",
      "  master_df = pd.concat([master_df, mnas], ignore_index=True)\n"
     ]
    },
    {
     "name": "stdout",
     "output_type": "stream",
     "text": [
      "(150, 71)\n",
      "Master shape: (692, 71)\n",
      "Start Date: 19900426, End Date: 19900428\n",
      "Downloading data from refinitiv...\n",
      "(93, 71)\n",
      "Master shape: (785, 71)\n",
      "Start Date: 19900429, End Date: 19900501\n",
      "Downloading data from refinitiv...\n"
     ]
    },
    {
     "name": "stderr",
     "output_type": "stream",
     "text": [
      "ERROR!!! An error occurred while requesting URL('https://api.refinitiv.com/data/datagrid/beta1/').\n",
      "     ReadTimeout('')\n"
     ]
    },
    {
     "name": "stdout",
     "output_type": "stream",
     "text": [
      "An error occurred: . Retrying for the range 19900429 to 19900501...\n",
      "Start Date: 19900429, End Date: 19900501\n",
      "Downloading data from refinitiv...\n"
     ]
    },
    {
     "name": "stderr",
     "output_type": "stream",
     "text": [
      "ERROR!!! An error occurred while requesting URL('https://api.refinitiv.com/data/datagrid/beta1/').\n",
      "     ReadTimeout('')\n"
     ]
    },
    {
     "name": "stdout",
     "output_type": "stream",
     "text": [
      "An error occurred: . Retrying for the range 19900429 to 19900501...\n",
      "Start Date: 19900429, End Date: 19900501\n",
      "Downloading data from refinitiv...\n",
      "(220, 71)\n",
      "Master shape: (1005, 71)\n",
      "Start Date: 19900502, End Date: 19900504\n",
      "Downloading data from refinitiv...\n"
     ]
    },
    {
     "name": "stderr",
     "output_type": "stream",
     "text": [
      "/var/tmp/ipykernel_10925/3801902500.py:128: FutureWarning: The behavior of DataFrame concatenation with empty or all-NA entries is deprecated. In a future version, this will no longer exclude empty or all-NA columns when determining the result dtypes. To retain the old behavior, exclude the relevant entries before the concat operation.\n",
      "  master_df = pd.concat([master_df, mnas], ignore_index=True)\n"
     ]
    },
    {
     "name": "stdout",
     "output_type": "stream",
     "text": [
      "(168, 71)\n",
      "Master shape: (1173, 71)\n",
      "Start Date: 19900505, End Date: 19900507\n",
      "Downloading data from refinitiv...\n",
      "(49, 71)\n",
      "Master shape: (1222, 71)\n",
      "Start Date: 19900508, End Date: 19900510\n",
      "Downloading data from refinitiv...\n"
     ]
    },
    {
     "name": "stderr",
     "output_type": "stream",
     "text": [
      "/var/tmp/ipykernel_10925/3801902500.py:128: FutureWarning: The behavior of DataFrame concatenation with empty or all-NA entries is deprecated. In a future version, this will no longer exclude empty or all-NA columns when determining the result dtypes. To retain the old behavior, exclude the relevant entries before the concat operation.\n",
      "  master_df = pd.concat([master_df, mnas], ignore_index=True)\n"
     ]
    },
    {
     "name": "stdout",
     "output_type": "stream",
     "text": [
      "(184, 71)\n",
      "Master shape: (1406, 71)\n",
      "Start Date: 19900511, End Date: 19900513\n",
      "Downloading data from refinitiv...\n",
      "(53, 71)\n",
      "Master shape: (1459, 71)\n",
      "Start Date: 19900514, End Date: 19900516\n",
      "Downloading data from refinitiv...\n",
      "(157, 71)\n",
      "Master shape: (1616, 71)\n",
      "Start Date: 19900517, End Date: 19900519\n",
      "Downloading data from refinitiv...\n",
      "(106, 71)\n",
      "Master shape: (1722, 71)\n",
      "Start Date: 19900520, End Date: 19900522\n",
      "Downloading data from refinitiv...\n",
      "(108, 71)\n",
      "Master shape: (1830, 71)\n",
      "Start Date: 19900523, End Date: 19900525\n",
      "Downloading data from refinitiv...\n",
      "(128, 71)\n",
      "Master shape: (1958, 71)\n",
      "Start Date: 19900526, End Date: 19900528\n",
      "Downloading data from refinitiv...\n",
      "(17, 71)\n",
      "Master shape: (1975, 71)\n",
      "Start Date: 19900529, End Date: 19900531\n",
      "Downloading data from refinitiv...\n"
     ]
    },
    {
     "name": "stderr",
     "output_type": "stream",
     "text": [
      "/var/tmp/ipykernel_10925/3801902500.py:128: FutureWarning: The behavior of DataFrame concatenation with empty or all-NA entries is deprecated. In a future version, this will no longer exclude empty or all-NA columns when determining the result dtypes. To retain the old behavior, exclude the relevant entries before the concat operation.\n",
      "  master_df = pd.concat([master_df, mnas], ignore_index=True)\n"
     ]
    },
    {
     "name": "stdout",
     "output_type": "stream",
     "text": [
      "(209, 71)\n",
      "Master shape: (2184, 71)\n",
      "Start Date: 19900601, End Date: 19900603\n",
      "Downloading data from refinitiv...\n",
      "(78, 71)\n",
      "Master shape: (2262, 71)\n",
      "Appending chunk to BQ\n"
     ]
    },
    {
     "name": "stderr",
     "output_type": "stream",
     "text": [
      "/var/tmp/ipykernel_10925/3801902500.py:128: FutureWarning: The behavior of DataFrame concatenation with empty or all-NA entries is deprecated. In a future version, this will no longer exclude empty or all-NA columns when determining the result dtypes. To retain the old behavior, exclude the relevant entries before the concat operation.\n",
      "  master_df = pd.concat([master_df, mnas], ignore_index=True)\n"
     ]
    },
    {
     "name": "stdout",
     "output_type": "stream",
     "text": [
      "Data appended successfully\n",
      "Start Date: 19900604, End Date: 19900606\n",
      "Downloading data from refinitiv...\n",
      "(184, 71)\n",
      "Master shape: (184, 71)\n",
      "Start Date: 19900607, End Date: 19900609\n",
      "Downloading data from refinitiv...\n",
      "(129, 71)\n",
      "Master shape: (313, 71)\n",
      "Start Date: 19900610, End Date: 19900612\n",
      "Downloading data from refinitiv...\n",
      "(99, 71)\n",
      "Master shape: (412, 71)\n",
      "Start Date: 19900613, End Date: 19900615\n",
      "Downloading data from refinitiv...\n",
      "(135, 71)\n",
      "Master shape: (547, 71)\n",
      "Start Date: 19900616, End Date: 19900618\n",
      "Downloading data from refinitiv...\n",
      "(33, 71)\n",
      "Master shape: (580, 71)\n",
      "Start Date: 19900619, End Date: 19900621\n",
      "Downloading data from refinitiv...\n"
     ]
    },
    {
     "name": "stderr",
     "output_type": "stream",
     "text": [
      "/var/tmp/ipykernel_10925/3801902500.py:128: FutureWarning: The behavior of DataFrame concatenation with empty or all-NA entries is deprecated. In a future version, this will no longer exclude empty or all-NA columns when determining the result dtypes. To retain the old behavior, exclude the relevant entries before the concat operation.\n",
      "  master_df = pd.concat([master_df, mnas], ignore_index=True)\n"
     ]
    },
    {
     "name": "stdout",
     "output_type": "stream",
     "text": [
      "(126, 71)\n",
      "Master shape: (706, 71)\n",
      "Start Date: 19900622, End Date: 19900624\n",
      "Downloading data from refinitiv...\n"
     ]
    },
    {
     "name": "stderr",
     "output_type": "stream",
     "text": [
      "/var/tmp/ipykernel_10925/3801902500.py:128: FutureWarning: The behavior of DataFrame concatenation with empty or all-NA entries is deprecated. In a future version, this will no longer exclude empty or all-NA columns when determining the result dtypes. To retain the old behavior, exclude the relevant entries before the concat operation.\n",
      "  master_df = pd.concat([master_df, mnas], ignore_index=True)\n"
     ]
    },
    {
     "name": "stdout",
     "output_type": "stream",
     "text": [
      "(61, 71)\n",
      "Master shape: (767, 71)\n",
      "Start Date: 19900625, End Date: 19900627\n",
      "Downloading data from refinitiv...\n"
     ]
    },
    {
     "name": "stderr",
     "output_type": "stream",
     "text": [
      "/var/tmp/ipykernel_10925/3801902500.py:128: FutureWarning: The behavior of DataFrame concatenation with empty or all-NA entries is deprecated. In a future version, this will no longer exclude empty or all-NA columns when determining the result dtypes. To retain the old behavior, exclude the relevant entries before the concat operation.\n",
      "  master_df = pd.concat([master_df, mnas], ignore_index=True)\n"
     ]
    },
    {
     "name": "stdout",
     "output_type": "stream",
     "text": [
      "(203, 71)\n",
      "Master shape: (970, 71)\n",
      "Start Date: 19900628, End Date: 19900630\n",
      "Downloading data from refinitiv...\n",
      "(272, 71)\n",
      "Master shape: (1242, 71)\n",
      "Start Date: 19900701, End Date: 19900703\n",
      "Downloading data from refinitiv...\n",
      "(113, 71)\n",
      "Master shape: (1355, 71)\n",
      "Start Date: 19900704, End Date: 19900706\n",
      "Downloading data from refinitiv...\n",
      "(79, 71)\n",
      "Master shape: (1434, 71)\n",
      "Start Date: 19900707, End Date: 19900709\n",
      "Downloading data from refinitiv...\n"
     ]
    },
    {
     "name": "stderr",
     "output_type": "stream",
     "text": [
      "ERROR!!! An error occurred while requesting URL('https://api.refinitiv.com/data/datagrid/beta1/').\n",
      "     ReadTimeout('')\n"
     ]
    },
    {
     "name": "stdout",
     "output_type": "stream",
     "text": [
      "An error occurred: . Retrying for the range 19900707 to 19900709...\n",
      "Start Date: 19900707, End Date: 19900709\n",
      "Downloading data from refinitiv...\n",
      "(55, 71)\n",
      "Master shape: (1489, 71)\n",
      "Start Date: 19900710, End Date: 19900712\n",
      "Downloading data from refinitiv...\n",
      "(128, 71)\n",
      "Master shape: (1617, 71)\n",
      "Start Date: 19900713, End Date: 19900715\n",
      "Downloading data from refinitiv...\n"
     ]
    },
    {
     "name": "stderr",
     "output_type": "stream",
     "text": [
      "ERROR!!! An error occurred while requesting URL('https://api.refinitiv.com/data/datagrid/beta1/').\n",
      "     ReadTimeout('')\n"
     ]
    },
    {
     "name": "stdout",
     "output_type": "stream",
     "text": [
      "An error occurred: . Retrying for the range 19900713 to 19900715...\n",
      "Start Date: 19900713, End Date: 19900715\n",
      "Downloading data from refinitiv...\n",
      "(59, 71)\n",
      "Master shape: (1676, 71)\n",
      "Start Date: 19900716, End Date: 19900718\n",
      "Downloading data from refinitiv...\n",
      "(128, 71)\n",
      "Master shape: (1804, 71)\n",
      "Start Date: 19900719, End Date: 19900721\n",
      "Downloading data from refinitiv...\n",
      "(89, 71)\n",
      "Master shape: (1893, 71)\n",
      "Start Date: 19900722, End Date: 19900724\n",
      "Downloading data from refinitiv...\n"
     ]
    },
    {
     "name": "stderr",
     "output_type": "stream",
     "text": [
      "/var/tmp/ipykernel_10925/3801902500.py:128: FutureWarning: The behavior of DataFrame concatenation with empty or all-NA entries is deprecated. In a future version, this will no longer exclude empty or all-NA columns when determining the result dtypes. To retain the old behavior, exclude the relevant entries before the concat operation.\n",
      "  master_df = pd.concat([master_df, mnas], ignore_index=True)\n"
     ]
    },
    {
     "name": "stdout",
     "output_type": "stream",
     "text": [
      "(83, 71)\n",
      "Master shape: (1976, 71)\n",
      "Start Date: 19900725, End Date: 19900727\n",
      "Downloading data from refinitiv...\n",
      "(150, 71)\n",
      "Master shape: (2126, 71)\n",
      "Start Date: 19900728, End Date: 19900730\n",
      "Downloading data from refinitiv...\n",
      "(70, 71)\n",
      "Master shape: (2196, 71)\n",
      "Start Date: 19900731, End Date: 19900802\n",
      "Downloading data from refinitiv...\n"
     ]
    },
    {
     "name": "stderr",
     "output_type": "stream",
     "text": [
      "/var/tmp/ipykernel_10925/3801902500.py:128: FutureWarning: The behavior of DataFrame concatenation with empty or all-NA entries is deprecated. In a future version, this will no longer exclude empty or all-NA columns when determining the result dtypes. To retain the old behavior, exclude the relevant entries before the concat operation.\n",
      "  master_df = pd.concat([master_df, mnas], ignore_index=True)\n"
     ]
    },
    {
     "name": "stdout",
     "output_type": "stream",
     "text": [
      "(220, 71)\n",
      "Master shape: (2416, 71)\n",
      "Appending chunk to BQ\n",
      "Data appended successfully\n",
      "Start Date: 19900803, End Date: 19900805\n",
      "Downloading data from refinitiv...\n",
      "(49, 71)\n",
      "Master shape: (49, 71)\n",
      "Start Date: 19900806, End Date: 19900808\n",
      "Downloading data from refinitiv...\n",
      "(141, 71)\n",
      "Master shape: (190, 71)\n",
      "Start Date: 19900809, End Date: 19900811\n",
      "Downloading data from refinitiv...\n"
     ]
    },
    {
     "name": "stderr",
     "output_type": "stream",
     "text": [
      "/var/tmp/ipykernel_10925/3801902500.py:128: FutureWarning: The behavior of DataFrame concatenation with empty or all-NA entries is deprecated. In a future version, this will no longer exclude empty or all-NA columns when determining the result dtypes. To retain the old behavior, exclude the relevant entries before the concat operation.\n",
      "  master_df = pd.concat([master_df, mnas], ignore_index=True)\n",
      "ERROR!!! An error occurred while requesting URL('https://api.refinitiv.com/data/datagrid/beta1/').\n",
      "     ReadTimeout('')\n"
     ]
    },
    {
     "name": "stdout",
     "output_type": "stream",
     "text": [
      "An error occurred: . Retrying for the range 19900809 to 19900811...\n",
      "Start Date: 19900809, End Date: 19900811\n",
      "Downloading data from refinitiv...\n",
      "(88, 71)\n",
      "Master shape: (278, 71)\n",
      "Start Date: 19900812, End Date: 19900814\n",
      "Downloading data from refinitiv...\n",
      "(93, 71)\n",
      "Master shape: (371, 71)\n",
      "Start Date: 19900815, End Date: 19900817\n",
      "Downloading data from refinitiv...\n"
     ]
    },
    {
     "name": "stderr",
     "output_type": "stream",
     "text": [
      "ERROR!!! An error occurred while requesting URL('https://api.refinitiv.com/data/datagrid/beta1/').\n",
      "     ReadTimeout('')\n"
     ]
    },
    {
     "name": "stdout",
     "output_type": "stream",
     "text": [
      "An error occurred: . Retrying for the range 19900815 to 19900817...\n",
      "Start Date: 19900815, End Date: 19900817\n",
      "Downloading data from refinitiv...\n",
      "(131, 71)\n",
      "Master shape: (502, 71)\n",
      "Start Date: 19900818, End Date: 19900820\n",
      "Downloading data from refinitiv...\n",
      "(41, 71)\n",
      "Master shape: (543, 71)\n",
      "Start Date: 19900821, End Date: 19900823\n",
      "Downloading data from refinitiv...\n",
      "(118, 71)\n",
      "Master shape: (661, 71)\n",
      "Start Date: 19900824, End Date: 19900826\n",
      "Downloading data from refinitiv...\n",
      "(61, 71)\n",
      "Master shape: (722, 71)\n",
      "Start Date: 19900827, End Date: 19900829\n",
      "Downloading data from refinitiv...\n",
      "(151, 71)\n",
      "Master shape: (873, 71)\n",
      "Start Date: 19900830, End Date: 19900901\n",
      "Downloading data from refinitiv...\n",
      "(191, 71)\n",
      "Master shape: (1064, 71)\n",
      "Start Date: 19900902, End Date: 19900904\n",
      "Downloading data from refinitiv...\n",
      "(109, 71)\n",
      "Master shape: (1173, 71)\n",
      "Start Date: 19900905, End Date: 19900907\n",
      "Downloading data from refinitiv...\n",
      "(142, 71)\n",
      "Master shape: (1315, 71)\n",
      "Start Date: 19900908, End Date: 19900910\n",
      "Downloading data from refinitiv...\n",
      "(72, 71)\n",
      "Master shape: (1387, 71)\n",
      "Start Date: 19900911, End Date: 19900913\n",
      "Downloading data from refinitiv...\n"
     ]
    },
    {
     "name": "stderr",
     "output_type": "stream",
     "text": [
      "/var/tmp/ipykernel_10925/3801902500.py:128: FutureWarning: The behavior of DataFrame concatenation with empty or all-NA entries is deprecated. In a future version, this will no longer exclude empty or all-NA columns when determining the result dtypes. To retain the old behavior, exclude the relevant entries before the concat operation.\n",
      "  master_df = pd.concat([master_df, mnas], ignore_index=True)\n"
     ]
    },
    {
     "name": "stdout",
     "output_type": "stream",
     "text": [
      "(144, 71)\n",
      "Master shape: (1531, 71)\n",
      "Start Date: 19900914, End Date: 19900916\n",
      "Downloading data from refinitiv...\n",
      "(66, 71)\n",
      "Master shape: (1597, 71)\n",
      "Start Date: 19900917, End Date: 19900919\n",
      "Downloading data from refinitiv...\n"
     ]
    },
    {
     "name": "stderr",
     "output_type": "stream",
     "text": [
      "/var/tmp/ipykernel_10925/3801902500.py:128: FutureWarning: The behavior of DataFrame concatenation with empty or all-NA entries is deprecated. In a future version, this will no longer exclude empty or all-NA columns when determining the result dtypes. To retain the old behavior, exclude the relevant entries before the concat operation.\n",
      "  master_df = pd.concat([master_df, mnas], ignore_index=True)\n",
      "ERROR!!! An error occurred while requesting URL('https://api.refinitiv.com/data/datagrid/beta1/').\n",
      "     ReadTimeout('')\n"
     ]
    },
    {
     "name": "stdout",
     "output_type": "stream",
     "text": [
      "An error occurred: . Retrying for the range 19900917 to 19900919...\n",
      "Start Date: 19900917, End Date: 19900919\n",
      "Downloading data from refinitiv...\n",
      "(174, 71)\n",
      "Master shape: (1771, 71)\n",
      "Start Date: 19900920, End Date: 19900922\n",
      "Downloading data from refinitiv...\n",
      "(74, 71)\n",
      "Master shape: (1845, 71)\n",
      "Start Date: 19900923, End Date: 19900925\n",
      "Downloading data from refinitiv...\n"
     ]
    },
    {
     "name": "stderr",
     "output_type": "stream",
     "text": [
      "/var/tmp/ipykernel_10925/3801902500.py:128: FutureWarning: The behavior of DataFrame concatenation with empty or all-NA entries is deprecated. In a future version, this will no longer exclude empty or all-NA columns when determining the result dtypes. To retain the old behavior, exclude the relevant entries before the concat operation.\n",
      "  master_df = pd.concat([master_df, mnas], ignore_index=True)\n"
     ]
    },
    {
     "name": "stdout",
     "output_type": "stream",
     "text": [
      "(144, 71)\n",
      "Master shape: (1989, 71)\n",
      "Start Date: 19900926, End Date: 19900928\n",
      "Downloading data from refinitiv...\n",
      "(270, 71)\n",
      "Master shape: (2259, 71)\n",
      "Start Date: 19900929, End Date: 19901001\n",
      "Downloading data from refinitiv...\n",
      "(144, 71)\n",
      "Master shape: (2403, 71)\n",
      "Appending chunk to BQ\n"
     ]
    },
    {
     "name": "stderr",
     "output_type": "stream",
     "text": [
      "/var/tmp/ipykernel_10925/3801902500.py:128: FutureWarning: The behavior of DataFrame concatenation with empty or all-NA entries is deprecated. In a future version, this will no longer exclude empty or all-NA columns when determining the result dtypes. To retain the old behavior, exclude the relevant entries before the concat operation.\n",
      "  master_df = pd.concat([master_df, mnas], ignore_index=True)\n"
     ]
    },
    {
     "name": "stdout",
     "output_type": "stream",
     "text": [
      "Data appended successfully\n",
      "Start Date: 19901002, End Date: 19901004\n",
      "Downloading data from refinitiv...\n",
      "(188, 71)\n",
      "Master shape: (188, 71)\n",
      "Start Date: 19901005, End Date: 19901007\n",
      "Downloading data from refinitiv...\n",
      "(50, 71)\n",
      "Master shape: (238, 71)\n",
      "Start Date: 19901008, End Date: 19901010\n",
      "Downloading data from refinitiv...\n"
     ]
    },
    {
     "name": "stderr",
     "output_type": "stream",
     "text": [
      "ERROR!!! An error occurred while requesting URL('https://api.refinitiv.com/data/datagrid/beta1/').\n",
      "     ReadTimeout('')\n"
     ]
    },
    {
     "name": "stdout",
     "output_type": "stream",
     "text": [
      "An error occurred: . Retrying for the range 19901008 to 19901010...\n",
      "Start Date: 19901008, End Date: 19901010\n",
      "Downloading data from refinitiv...\n",
      "(188, 71)\n",
      "Master shape: (426, 71)\n",
      "Start Date: 19901011, End Date: 19901013\n",
      "Downloading data from refinitiv...\n",
      "(97, 71)\n",
      "Master shape: (523, 71)\n",
      "Start Date: 19901014, End Date: 19901016\n",
      "Downloading data from refinitiv...\n"
     ]
    },
    {
     "name": "stderr",
     "output_type": "stream",
     "text": [
      "/var/tmp/ipykernel_10925/3801902500.py:128: FutureWarning: The behavior of DataFrame concatenation with empty or all-NA entries is deprecated. In a future version, this will no longer exclude empty or all-NA columns when determining the result dtypes. To retain the old behavior, exclude the relevant entries before the concat operation.\n",
      "  master_df = pd.concat([master_df, mnas], ignore_index=True)\n",
      "ERROR!!! An error occurred while requesting URL('https://api.refinitiv.com/data/datagrid/beta1/').\n",
      "     ReadTimeout('')\n"
     ]
    },
    {
     "name": "stdout",
     "output_type": "stream",
     "text": [
      "An error occurred: . Retrying for the range 19901014 to 19901016...\n",
      "Start Date: 19901014, End Date: 19901016\n",
      "Downloading data from refinitiv...\n",
      "(108, 71)\n",
      "Master shape: (631, 71)\n",
      "Start Date: 19901017, End Date: 19901019\n",
      "Downloading data from refinitiv...\n",
      "(118, 71)\n",
      "Master shape: (749, 71)\n",
      "Start Date: 19901020, End Date: 19901022\n",
      "Downloading data from refinitiv...\n",
      "(85, 71)\n",
      "Master shape: (834, 71)\n",
      "Start Date: 19901023, End Date: 19901025\n",
      "Downloading data from refinitiv...\n"
     ]
    },
    {
     "name": "stderr",
     "output_type": "stream",
     "text": [
      "/var/tmp/ipykernel_10925/3801902500.py:128: FutureWarning: The behavior of DataFrame concatenation with empty or all-NA entries is deprecated. In a future version, this will no longer exclude empty or all-NA columns when determining the result dtypes. To retain the old behavior, exclude the relevant entries before the concat operation.\n",
      "  master_df = pd.concat([master_df, mnas], ignore_index=True)\n"
     ]
    },
    {
     "name": "stdout",
     "output_type": "stream",
     "text": [
      "(137, 71)\n",
      "Master shape: (971, 71)\n",
      "Start Date: 19901026, End Date: 19901028\n",
      "Downloading data from refinitiv...\n",
      "(45, 71)\n",
      "Master shape: (1016, 71)\n",
      "Start Date: 19901029, End Date: 19901031\n",
      "Downloading data from refinitiv...\n"
     ]
    },
    {
     "name": "stderr",
     "output_type": "stream",
     "text": [
      "/var/tmp/ipykernel_10925/3801902500.py:128: FutureWarning: The behavior of DataFrame concatenation with empty or all-NA entries is deprecated. In a future version, this will no longer exclude empty or all-NA columns when determining the result dtypes. To retain the old behavior, exclude the relevant entries before the concat operation.\n",
      "  master_df = pd.concat([master_df, mnas], ignore_index=True)\n"
     ]
    },
    {
     "name": "stdout",
     "output_type": "stream",
     "text": [
      "(262, 71)\n",
      "Master shape: (1278, 71)\n",
      "Start Date: 19901101, End Date: 19901103\n",
      "Downloading data from refinitiv...\n",
      "(127, 71)\n",
      "Master shape: (1405, 71)\n",
      "Start Date: 19901104, End Date: 19901106\n",
      "Downloading data from refinitiv...\n"
     ]
    },
    {
     "name": "stderr",
     "output_type": "stream",
     "text": [
      "/var/tmp/ipykernel_10925/3801902500.py:128: FutureWarning: The behavior of DataFrame concatenation with empty or all-NA entries is deprecated. In a future version, this will no longer exclude empty or all-NA columns when determining the result dtypes. To retain the old behavior, exclude the relevant entries before the concat operation.\n",
      "  master_df = pd.concat([master_df, mnas], ignore_index=True)\n"
     ]
    },
    {
     "name": "stdout",
     "output_type": "stream",
     "text": [
      "(146, 71)\n",
      "Master shape: (1551, 71)\n",
      "Start Date: 19901107, End Date: 19901109\n",
      "Downloading data from refinitiv...\n",
      "(171, 71)\n",
      "Master shape: (1722, 71)\n",
      "Start Date: 19901110, End Date: 19901112\n",
      "Downloading data from refinitiv...\n"
     ]
    },
    {
     "name": "stderr",
     "output_type": "stream",
     "text": [
      "/var/tmp/ipykernel_10925/3801902500.py:128: FutureWarning: The behavior of DataFrame concatenation with empty or all-NA entries is deprecated. In a future version, this will no longer exclude empty or all-NA columns when determining the result dtypes. To retain the old behavior, exclude the relevant entries before the concat operation.\n",
      "  master_df = pd.concat([master_df, mnas], ignore_index=True)\n"
     ]
    },
    {
     "name": "stdout",
     "output_type": "stream",
     "text": [
      "(87, 71)\n",
      "Master shape: (1809, 71)\n",
      "Start Date: 19901113, End Date: 19901115\n",
      "Downloading data from refinitiv...\n"
     ]
    },
    {
     "name": "stderr",
     "output_type": "stream",
     "text": [
      "/var/tmp/ipykernel_10925/3801902500.py:128: FutureWarning: The behavior of DataFrame concatenation with empty or all-NA entries is deprecated. In a future version, this will no longer exclude empty or all-NA columns when determining the result dtypes. To retain the old behavior, exclude the relevant entries before the concat operation.\n",
      "  master_df = pd.concat([master_df, mnas], ignore_index=True)\n"
     ]
    },
    {
     "name": "stdout",
     "output_type": "stream",
     "text": [
      "(150, 71)\n",
      "Master shape: (1959, 71)\n",
      "Start Date: 19901116, End Date: 19901118\n",
      "Downloading data from refinitiv...\n"
     ]
    },
    {
     "name": "stderr",
     "output_type": "stream",
     "text": [
      "/var/tmp/ipykernel_10925/3801902500.py:128: FutureWarning: The behavior of DataFrame concatenation with empty or all-NA entries is deprecated. In a future version, this will no longer exclude empty or all-NA columns when determining the result dtypes. To retain the old behavior, exclude the relevant entries before the concat operation.\n",
      "  master_df = pd.concat([master_df, mnas], ignore_index=True)\n",
      "ERROR!!! An error occurred while requesting URL('https://api.refinitiv.com/data/datagrid/beta1/').\n",
      "     ReadTimeout('')\n"
     ]
    },
    {
     "name": "stdout",
     "output_type": "stream",
     "text": [
      "An error occurred: . Retrying for the range 19901116 to 19901118...\n",
      "Start Date: 19901116, End Date: 19901118\n",
      "Downloading data from refinitiv...\n",
      "(77, 71)\n",
      "Master shape: (2036, 71)\n",
      "Start Date: 19901119, End Date: 19901121\n",
      "Downloading data from refinitiv...\n",
      "(217, 71)\n",
      "Master shape: (2253, 71)\n",
      "Start Date: 19901122, End Date: 19901124\n",
      "Downloading data from refinitiv...\n"
     ]
    },
    {
     "name": "stderr",
     "output_type": "stream",
     "text": [
      "/var/tmp/ipykernel_10925/3801902500.py:128: FutureWarning: The behavior of DataFrame concatenation with empty or all-NA entries is deprecated. In a future version, this will no longer exclude empty or all-NA columns when determining the result dtypes. To retain the old behavior, exclude the relevant entries before the concat operation.\n",
      "  master_df = pd.concat([master_df, mnas], ignore_index=True)\n"
     ]
    },
    {
     "name": "stdout",
     "output_type": "stream",
     "text": [
      "(48, 71)\n",
      "Master shape: (2301, 71)\n",
      "Start Date: 19901125, End Date: 19901127\n",
      "Downloading data from refinitiv...\n"
     ]
    },
    {
     "name": "stderr",
     "output_type": "stream",
     "text": [
      "ERROR!!! An error occurred while requesting URL('https://api.refinitiv.com/data/datagrid/beta1/').\n",
      "     ReadTimeout('')\n"
     ]
    },
    {
     "name": "stdout",
     "output_type": "stream",
     "text": [
      "An error occurred: . Retrying for the range 19901125 to 19901127...\n",
      "Start Date: 19901125, End Date: 19901127\n",
      "Downloading data from refinitiv...\n",
      "(141, 71)\n",
      "Master shape: (2442, 71)\n",
      "Start Date: 19901128, End Date: 19901130\n",
      "Downloading data from refinitiv...\n"
     ]
    },
    {
     "name": "stderr",
     "output_type": "stream",
     "text": [
      "/var/tmp/ipykernel_10925/3801902500.py:128: FutureWarning: The behavior of DataFrame concatenation with empty or all-NA entries is deprecated. In a future version, this will no longer exclude empty or all-NA columns when determining the result dtypes. To retain the old behavior, exclude the relevant entries before the concat operation.\n",
      "  master_df = pd.concat([master_df, mnas], ignore_index=True)\n",
      "ERROR!!! An error occurred while requesting URL('https://api.refinitiv.com/data/datagrid/beta1/').\n",
      "     ReadTimeout('')\n"
     ]
    },
    {
     "name": "stdout",
     "output_type": "stream",
     "text": [
      "An error occurred: . Retrying for the range 19901128 to 19901130...\n",
      "Start Date: 19901128, End Date: 19901130\n",
      "Downloading data from refinitiv...\n"
     ]
    },
    {
     "name": "stderr",
     "output_type": "stream",
     "text": [
      "ERROR!!! An error occurred while requesting URL('https://api.refinitiv.com/data/datagrid/beta1/').\n",
      "     ReadTimeout('')\n"
     ]
    },
    {
     "name": "stdout",
     "output_type": "stream",
     "text": [
      "An error occurred: . Retrying for the range 19901128 to 19901130...\n",
      "Start Date: 19901128, End Date: 19901130\n",
      "Downloading data from refinitiv...\n",
      "(234, 71)\n",
      "Master shape: (2676, 71)\n",
      "Appending chunk to BQ\n",
      "Data appended successfully\n",
      "Start Date: 19901201, End Date: 19901203\n",
      "Downloading data from refinitiv...\n",
      "(112, 71)\n",
      "Master shape: (112, 71)\n",
      "Start Date: 19901204, End Date: 19901206\n",
      "Downloading data from refinitiv...\n",
      "(178, 71)\n",
      "Master shape: (290, 71)\n",
      "Start Date: 19901207, End Date: 19901209\n",
      "Downloading data from refinitiv...\n",
      "(66, 71)\n",
      "Master shape: (356, 71)\n",
      "Start Date: 19901210, End Date: 19901212\n",
      "Downloading data from refinitiv...\n"
     ]
    },
    {
     "name": "stderr",
     "output_type": "stream",
     "text": [
      "ERROR!!! An error occurred while requesting URL('https://api.refinitiv.com/data/datagrid/beta1/').\n",
      "     ReadTimeout('')\n"
     ]
    },
    {
     "name": "stdout",
     "output_type": "stream",
     "text": [
      "An error occurred: . Retrying for the range 19901210 to 19901212...\n",
      "Start Date: 19901210, End Date: 19901212\n",
      "Downloading data from refinitiv...\n",
      "(170, 71)\n",
      "Master shape: (526, 71)\n",
      "Start Date: 19901213, End Date: 19901215\n",
      "Downloading data from refinitiv...\n",
      "(143, 71)\n",
      "Master shape: (669, 71)\n",
      "Start Date: 19901216, End Date: 19901218\n",
      "Downloading data from refinitiv...\n",
      "(152, 71)\n",
      "Master shape: (821, 71)\n",
      "Start Date: 19901219, End Date: 19901221\n",
      "Downloading data from refinitiv...\n",
      "(205, 71)\n",
      "Master shape: (1026, 71)\n",
      "Start Date: 19901222, End Date: 19901224\n",
      "Downloading data from refinitiv...\n",
      "(32, 71)\n",
      "Master shape: (1058, 71)\n",
      "Start Date: 19901225, End Date: 19901227\n",
      "Downloading data from refinitiv...\n"
     ]
    },
    {
     "name": "stderr",
     "output_type": "stream",
     "text": [
      "/var/tmp/ipykernel_10925/3801902500.py:128: FutureWarning: The behavior of DataFrame concatenation with empty or all-NA entries is deprecated. In a future version, this will no longer exclude empty or all-NA columns when determining the result dtypes. To retain the old behavior, exclude the relevant entries before the concat operation.\n",
      "  master_df = pd.concat([master_df, mnas], ignore_index=True)\n"
     ]
    },
    {
     "name": "stdout",
     "output_type": "stream",
     "text": [
      "(83, 71)\n",
      "Master shape: (1141, 71)\n",
      "Start Date: 19901228, End Date: 19901230\n",
      "Downloading data from refinitiv...\n"
     ]
    },
    {
     "name": "stderr",
     "output_type": "stream",
     "text": [
      "/var/tmp/ipykernel_10925/3801902500.py:128: FutureWarning: The behavior of DataFrame concatenation with empty or all-NA entries is deprecated. In a future version, this will no longer exclude empty or all-NA columns when determining the result dtypes. To retain the old behavior, exclude the relevant entries before the concat operation.\n",
      "  master_df = pd.concat([master_df, mnas], ignore_index=True)\n"
     ]
    },
    {
     "name": "stdout",
     "output_type": "stream",
     "text": [
      "(50, 71)\n",
      "Master shape: (1191, 71)\n",
      "Start Date: 19901231, End Date: 19910102\n",
      "Downloading data from refinitiv...\n",
      "(689, 71)\n",
      "Master shape: (1880, 71)\n",
      "Start Date: 19910103, End Date: 19910105\n",
      "Downloading data from refinitiv...\n",
      "(161, 71)\n",
      "Master shape: (2041, 71)\n",
      "Start Date: 19910106, End Date: 19910108\n",
      "Downloading data from refinitiv...\n"
     ]
    },
    {
     "name": "stderr",
     "output_type": "stream",
     "text": [
      "/var/tmp/ipykernel_10925/3801902500.py:128: FutureWarning: The behavior of DataFrame concatenation with empty or all-NA entries is deprecated. In a future version, this will no longer exclude empty or all-NA columns when determining the result dtypes. To retain the old behavior, exclude the relevant entries before the concat operation.\n",
      "  master_df = pd.concat([master_df, mnas], ignore_index=True)\n"
     ]
    },
    {
     "name": "stdout",
     "output_type": "stream",
     "text": [
      "(190, 71)\n",
      "Master shape: (2231, 71)\n",
      "Start Date: 19910109, End Date: 19910111\n",
      "Downloading data from refinitiv...\n",
      "(259, 71)\n",
      "Master shape: (2490, 71)\n",
      "Start Date: 19910112, End Date: 19910114\n",
      "Downloading data from refinitiv...\n"
     ]
    },
    {
     "name": "stderr",
     "output_type": "stream",
     "text": [
      "/var/tmp/ipykernel_10925/3801902500.py:128: FutureWarning: The behavior of DataFrame concatenation with empty or all-NA entries is deprecated. In a future version, this will no longer exclude empty or all-NA columns when determining the result dtypes. To retain the old behavior, exclude the relevant entries before the concat operation.\n",
      "  master_df = pd.concat([master_df, mnas], ignore_index=True)\n"
     ]
    },
    {
     "name": "stdout",
     "output_type": "stream",
     "text": [
      "(94, 71)\n",
      "Master shape: (2584, 71)\n",
      "Start Date: 19910115, End Date: 19910117\n",
      "Downloading data from refinitiv...\n",
      "(222, 71)\n",
      "Master shape: (2806, 71)\n",
      "Start Date: 19910118, End Date: 19910120\n",
      "Downloading data from refinitiv...\n",
      "(81, 71)\n",
      "Master shape: (2887, 71)\n",
      "Start Date: 19910121, End Date: 19910123\n",
      "Downloading data from refinitiv...\n"
     ]
    },
    {
     "name": "stderr",
     "output_type": "stream",
     "text": [
      "/var/tmp/ipykernel_10925/3801902500.py:128: FutureWarning: The behavior of DataFrame concatenation with empty or all-NA entries is deprecated. In a future version, this will no longer exclude empty or all-NA columns when determining the result dtypes. To retain the old behavior, exclude the relevant entries before the concat operation.\n",
      "  master_df = pd.concat([master_df, mnas], ignore_index=True)\n"
     ]
    },
    {
     "name": "stdout",
     "output_type": "stream",
     "text": [
      "(203, 71)\n",
      "Master shape: (3090, 71)\n",
      "Start Date: 19910124, End Date: 19910126\n",
      "Downloading data from refinitiv...\n",
      "(158, 71)\n",
      "Master shape: (3248, 71)\n",
      "Start Date: 19910127, End Date: 19910129\n",
      "Downloading data from refinitiv...\n",
      "(156, 71)\n",
      "Master shape: (3404, 71)\n",
      "Appending chunk to BQ\n",
      "Data appended successfully\n",
      "Start Date: 19910130, End Date: 19910201\n",
      "Downloading data from refinitiv...\n",
      "(354, 71)\n",
      "Master shape: (354, 71)\n",
      "Start Date: 19910202, End Date: 19910204\n",
      "Downloading data from refinitiv...\n",
      "(99, 71)\n",
      "Master shape: (453, 71)\n",
      "Start Date: 19910205, End Date: 19910207\n",
      "Downloading data from refinitiv...\n"
     ]
    },
    {
     "name": "stderr",
     "output_type": "stream",
     "text": [
      "/var/tmp/ipykernel_10925/3801902500.py:128: FutureWarning: The behavior of DataFrame concatenation with empty or all-NA entries is deprecated. In a future version, this will no longer exclude empty or all-NA columns when determining the result dtypes. To retain the old behavior, exclude the relevant entries before the concat operation.\n",
      "  master_df = pd.concat([master_df, mnas], ignore_index=True)\n"
     ]
    },
    {
     "name": "stdout",
     "output_type": "stream",
     "text": [
      "(213, 71)\n",
      "Master shape: (666, 71)\n",
      "Start Date: 19910208, End Date: 19910210\n",
      "Downloading data from refinitiv...\n",
      "(86, 71)\n",
      "Master shape: (752, 71)\n",
      "Start Date: 19910211, End Date: 19910213\n",
      "Downloading data from refinitiv...\n",
      "(231, 71)\n",
      "Master shape: (983, 71)\n",
      "Start Date: 19910214, End Date: 19910216\n",
      "Downloading data from refinitiv...\n",
      "(112, 71)\n",
      "Master shape: (1095, 71)\n",
      "Start Date: 19910217, End Date: 19910219\n",
      "Downloading data from refinitiv...\n"
     ]
    },
    {
     "name": "stderr",
     "output_type": "stream",
     "text": [
      "/var/tmp/ipykernel_10925/3801902500.py:128: FutureWarning: The behavior of DataFrame concatenation with empty or all-NA entries is deprecated. In a future version, this will no longer exclude empty or all-NA columns when determining the result dtypes. To retain the old behavior, exclude the relevant entries before the concat operation.\n",
      "  master_df = pd.concat([master_df, mnas], ignore_index=True)\n"
     ]
    },
    {
     "name": "stdout",
     "output_type": "stream",
     "text": [
      "(164, 71)\n",
      "Master shape: (1259, 71)\n",
      "Start Date: 19910220, End Date: 19910222\n",
      "Downloading data from refinitiv...\n",
      "(256, 71)\n",
      "Master shape: (1515, 71)\n",
      "Start Date: 19910223, End Date: 19910225\n",
      "Downloading data from refinitiv...\n",
      "(86, 71)\n",
      "Master shape: (1601, 71)\n",
      "Start Date: 19910226, End Date: 19910228\n",
      "Downloading data from refinitiv...\n"
     ]
    },
    {
     "name": "stderr",
     "output_type": "stream",
     "text": [
      "/var/tmp/ipykernel_10925/3801902500.py:128: FutureWarning: The behavior of DataFrame concatenation with empty or all-NA entries is deprecated. In a future version, this will no longer exclude empty or all-NA columns when determining the result dtypes. To retain the old behavior, exclude the relevant entries before the concat operation.\n",
      "  master_df = pd.concat([master_df, mnas], ignore_index=True)\n"
     ]
    },
    {
     "name": "stdout",
     "output_type": "stream",
     "text": [
      "(365, 71)\n",
      "Master shape: (1966, 71)\n",
      "Start Date: 19910301, End Date: 19910303\n",
      "Downloading data from refinitiv...\n"
     ]
    },
    {
     "name": "stderr",
     "output_type": "stream",
     "text": [
      "/var/tmp/ipykernel_10925/3801902500.py:128: FutureWarning: The behavior of DataFrame concatenation with empty or all-NA entries is deprecated. In a future version, this will no longer exclude empty or all-NA columns when determining the result dtypes. To retain the old behavior, exclude the relevant entries before the concat operation.\n",
      "  master_df = pd.concat([master_df, mnas], ignore_index=True)\n"
     ]
    },
    {
     "name": "stdout",
     "output_type": "stream",
     "text": [
      "(142, 71)\n",
      "Master shape: (2108, 71)\n",
      "Start Date: 19910304, End Date: 19910306\n",
      "Downloading data from refinitiv...\n"
     ]
    },
    {
     "name": "stderr",
     "output_type": "stream",
     "text": [
      "/var/tmp/ipykernel_10925/3801902500.py:128: FutureWarning: The behavior of DataFrame concatenation with empty or all-NA entries is deprecated. In a future version, this will no longer exclude empty or all-NA columns when determining the result dtypes. To retain the old behavior, exclude the relevant entries before the concat operation.\n",
      "  master_df = pd.concat([master_df, mnas], ignore_index=True)\n",
      "ERROR!!! An error occurred while requesting URL('https://api.refinitiv.com/data/datagrid/beta1/').\n",
      "     ReadTimeout('')\n"
     ]
    },
    {
     "name": "stdout",
     "output_type": "stream",
     "text": [
      "An error occurred: . Retrying for the range 19910304 to 19910306...\n",
      "Start Date: 19910304, End Date: 19910306\n",
      "Downloading data from refinitiv...\n",
      "(238, 71)\n",
      "Master shape: (2346, 71)\n",
      "Start Date: 19910307, End Date: 19910309\n",
      "Downloading data from refinitiv...\n"
     ]
    },
    {
     "name": "stderr",
     "output_type": "stream",
     "text": [
      "ERROR!!! An error occurred while requesting URL('https://api.refinitiv.com/data/datagrid/beta1/').\n",
      "     ReadTimeout('')\n"
     ]
    },
    {
     "name": "stdout",
     "output_type": "stream",
     "text": [
      "An error occurred: . Retrying for the range 19910307 to 19910309...\n",
      "Start Date: 19910307, End Date: 19910309\n",
      "Downloading data from refinitiv...\n",
      "(143, 71)\n",
      "Master shape: (2489, 71)\n",
      "Start Date: 19910310, End Date: 19910312\n",
      "Downloading data from refinitiv...\n",
      "(172, 71)\n",
      "Master shape: (2661, 71)\n",
      "Start Date: 19910313, End Date: 19910315\n",
      "Downloading data from refinitiv...\n"
     ]
    },
    {
     "name": "stderr",
     "output_type": "stream",
     "text": [
      "/var/tmp/ipykernel_10925/3801902500.py:128: FutureWarning: The behavior of DataFrame concatenation with empty or all-NA entries is deprecated. In a future version, this will no longer exclude empty or all-NA columns when determining the result dtypes. To retain the old behavior, exclude the relevant entries before the concat operation.\n",
      "  master_df = pd.concat([master_df, mnas], ignore_index=True)\n"
     ]
    },
    {
     "name": "stdout",
     "output_type": "stream",
     "text": [
      "(238, 71)\n",
      "Master shape: (2899, 71)\n",
      "Start Date: 19910316, End Date: 19910318\n",
      "Downloading data from refinitiv...\n",
      "(101, 71)\n",
      "Master shape: (3000, 71)\n",
      "Start Date: 19910319, End Date: 19910321\n",
      "Downloading data from refinitiv...\n"
     ]
    },
    {
     "name": "stderr",
     "output_type": "stream",
     "text": [
      "/var/tmp/ipykernel_10925/3801902500.py:128: FutureWarning: The behavior of DataFrame concatenation with empty or all-NA entries is deprecated. In a future version, this will no longer exclude empty or all-NA columns when determining the result dtypes. To retain the old behavior, exclude the relevant entries before the concat operation.\n",
      "  master_df = pd.concat([master_df, mnas], ignore_index=True)\n"
     ]
    },
    {
     "name": "stdout",
     "output_type": "stream",
     "text": [
      "(193, 71)\n",
      "Master shape: (3193, 71)\n",
      "Start Date: 19910322, End Date: 19910324\n",
      "Downloading data from refinitiv...\n"
     ]
    },
    {
     "name": "stderr",
     "output_type": "stream",
     "text": [
      "/var/tmp/ipykernel_10925/3801902500.py:128: FutureWarning: The behavior of DataFrame concatenation with empty or all-NA entries is deprecated. In a future version, this will no longer exclude empty or all-NA columns when determining the result dtypes. To retain the old behavior, exclude the relevant entries before the concat operation.\n",
      "  master_df = pd.concat([master_df, mnas], ignore_index=True)\n"
     ]
    },
    {
     "name": "stdout",
     "output_type": "stream",
     "text": [
      "(68, 71)\n",
      "Master shape: (3261, 71)\n",
      "Start Date: 19910325, End Date: 19910327\n",
      "Downloading data from refinitiv...\n"
     ]
    },
    {
     "name": "stderr",
     "output_type": "stream",
     "text": [
      "/var/tmp/ipykernel_10925/3801902500.py:128: FutureWarning: The behavior of DataFrame concatenation with empty or all-NA entries is deprecated. In a future version, this will no longer exclude empty or all-NA columns when determining the result dtypes. To retain the old behavior, exclude the relevant entries before the concat operation.\n",
      "  master_df = pd.concat([master_df, mnas], ignore_index=True)\n"
     ]
    },
    {
     "name": "stdout",
     "output_type": "stream",
     "text": [
      "(246, 71)\n",
      "Master shape: (3507, 71)\n",
      "Start Date: 19910328, End Date: 19910330\n",
      "Downloading data from refinitiv...\n",
      "(204, 71)\n",
      "Master shape: (3711, 71)\n",
      "Appending chunk to BQ\n",
      "Data appended successfully\n",
      "Start Date: 19910331, End Date: 19910402\n",
      "Downloading data from refinitiv...\n"
     ]
    },
    {
     "name": "stderr",
     "output_type": "stream",
     "text": [
      "ERROR!!! An error occurred while requesting URL('https://api.refinitiv.com/data/datagrid/beta1/').\n",
      "     ReadTimeout('')\n"
     ]
    },
    {
     "name": "stdout",
     "output_type": "stream",
     "text": [
      "An error occurred: . Retrying for the range 19910331 to 19910402...\n",
      "Start Date: 19910331, End Date: 19910402\n",
      "Downloading data from refinitiv...\n"
     ]
    },
    {
     "name": "stderr",
     "output_type": "stream",
     "text": [
      "ERROR!!! An error occurred while requesting URL('https://api.refinitiv.com/data/datagrid/beta1/').\n",
      "     ReadTimeout('')\n"
     ]
    },
    {
     "name": "stdout",
     "output_type": "stream",
     "text": [
      "An error occurred: . Retrying for the range 19910331 to 19910402...\n",
      "Start Date: 19910331, End Date: 19910402\n",
      "Downloading data from refinitiv...\n",
      "(161, 71)\n",
      "Master shape: (161, 71)\n",
      "Start Date: 19910403, End Date: 19910405\n",
      "Downloading data from refinitiv...\n",
      "(227, 71)\n",
      "Master shape: (388, 71)\n",
      "Start Date: 19910406, End Date: 19910408\n",
      "Downloading data from refinitiv...\n"
     ]
    },
    {
     "name": "stderr",
     "output_type": "stream",
     "text": [
      "/var/tmp/ipykernel_10925/3801902500.py:128: FutureWarning: The behavior of DataFrame concatenation with empty or all-NA entries is deprecated. In a future version, this will no longer exclude empty or all-NA columns when determining the result dtypes. To retain the old behavior, exclude the relevant entries before the concat operation.\n",
      "  master_df = pd.concat([master_df, mnas], ignore_index=True)\n"
     ]
    },
    {
     "name": "stdout",
     "output_type": "stream",
     "text": [
      "(89, 71)\n",
      "Master shape: (477, 71)\n",
      "Start Date: 19910409, End Date: 19910411\n",
      "Downloading data from refinitiv...\n"
     ]
    },
    {
     "name": "stderr",
     "output_type": "stream",
     "text": [
      "/var/tmp/ipykernel_10925/3801902500.py:128: FutureWarning: The behavior of DataFrame concatenation with empty or all-NA entries is deprecated. In a future version, this will no longer exclude empty or all-NA columns when determining the result dtypes. To retain the old behavior, exclude the relevant entries before the concat operation.\n",
      "  master_df = pd.concat([master_df, mnas], ignore_index=True)\n"
     ]
    },
    {
     "name": "stdout",
     "output_type": "stream",
     "text": [
      "(174, 71)\n",
      "Master shape: (651, 71)\n",
      "Start Date: 19910412, End Date: 19910414\n",
      "Downloading data from refinitiv...\n",
      "(77, 71)\n",
      "Master shape: (728, 71)\n",
      "Start Date: 19910415, End Date: 19910417\n",
      "Downloading data from refinitiv...\n"
     ]
    },
    {
     "name": "stderr",
     "output_type": "stream",
     "text": [
      "/var/tmp/ipykernel_10925/3801902500.py:128: FutureWarning: The behavior of DataFrame concatenation with empty or all-NA entries is deprecated. In a future version, this will no longer exclude empty or all-NA columns when determining the result dtypes. To retain the old behavior, exclude the relevant entries before the concat operation.\n",
      "  master_df = pd.concat([master_df, mnas], ignore_index=True)\n"
     ]
    },
    {
     "name": "stdout",
     "output_type": "stream",
     "text": [
      "(258, 71)\n",
      "Master shape: (986, 71)\n",
      "Start Date: 19910418, End Date: 19910420\n",
      "Downloading data from refinitiv...\n",
      "(137, 71)\n",
      "Master shape: (1123, 71)\n",
      "Start Date: 19910421, End Date: 19910423\n",
      "Downloading data from refinitiv...\n",
      "(148, 71)\n",
      "Master shape: (1271, 71)\n",
      "Start Date: 19910424, End Date: 19910426\n",
      "Downloading data from refinitiv...\n",
      "(226, 71)\n",
      "Master shape: (1497, 71)\n",
      "Start Date: 19910427, End Date: 19910429\n",
      "Downloading data from refinitiv...\n",
      "(89, 71)\n",
      "Master shape: (1586, 71)\n",
      "Start Date: 19910430, End Date: 19910502\n",
      "Downloading data from refinitiv...\n"
     ]
    },
    {
     "name": "stderr",
     "output_type": "stream",
     "text": [
      "ERROR!!! An error occurred while requesting URL('https://api.refinitiv.com/data/datagrid/beta1/').\n",
      "     ReadTimeout('')\n"
     ]
    },
    {
     "name": "stdout",
     "output_type": "stream",
     "text": [
      "An error occurred: . Retrying for the range 19910430 to 19910502...\n",
      "Start Date: 19910430, End Date: 19910502\n",
      "Downloading data from refinitiv...\n",
      "(333, 71)\n",
      "Master shape: (1919, 71)\n",
      "Start Date: 19910503, End Date: 19910505\n",
      "Downloading data from refinitiv...\n",
      "(93, 71)\n",
      "Master shape: (2012, 71)\n",
      "Start Date: 19910506, End Date: 19910508\n",
      "Downloading data from refinitiv...\n"
     ]
    },
    {
     "name": "stderr",
     "output_type": "stream",
     "text": [
      "/var/tmp/ipykernel_10925/3801902500.py:128: FutureWarning: The behavior of DataFrame concatenation with empty or all-NA entries is deprecated. In a future version, this will no longer exclude empty or all-NA columns when determining the result dtypes. To retain the old behavior, exclude the relevant entries before the concat operation.\n",
      "  master_df = pd.concat([master_df, mnas], ignore_index=True)\n"
     ]
    },
    {
     "name": "stdout",
     "output_type": "stream",
     "text": [
      "(206, 71)\n",
      "Master shape: (2218, 71)\n",
      "Start Date: 19910509, End Date: 19910511\n",
      "Downloading data from refinitiv...\n"
     ]
    },
    {
     "name": "stderr",
     "output_type": "stream",
     "text": [
      "ERROR!!! An error occurred while requesting URL('https://api.refinitiv.com/data/datagrid/beta1/').\n",
      "     ReadTimeout('')\n"
     ]
    },
    {
     "name": "stdout",
     "output_type": "stream",
     "text": [
      "An error occurred: . Retrying for the range 19910509 to 19910511...\n",
      "Start Date: 19910509, End Date: 19910511\n",
      "Downloading data from refinitiv...\n",
      "(119, 71)\n",
      "Master shape: (2337, 71)\n",
      "Start Date: 19910512, End Date: 19910514\n",
      "Downloading data from refinitiv...\n",
      "(139, 71)\n",
      "Master shape: (2476, 71)\n",
      "Start Date: 19910515, End Date: 19910517\n",
      "Downloading data from refinitiv...\n",
      "(207, 71)\n",
      "Master shape: (2683, 71)\n",
      "Start Date: 19910518, End Date: 19910520\n",
      "Downloading data from refinitiv...\n",
      "(69, 71)\n",
      "Master shape: (2752, 71)\n",
      "Start Date: 19910521, End Date: 19910523\n",
      "Downloading data from refinitiv...\n"
     ]
    },
    {
     "name": "stderr",
     "output_type": "stream",
     "text": [
      "/var/tmp/ipykernel_10925/3801902500.py:128: FutureWarning: The behavior of DataFrame concatenation with empty or all-NA entries is deprecated. In a future version, this will no longer exclude empty or all-NA columns when determining the result dtypes. To retain the old behavior, exclude the relevant entries before the concat operation.\n",
      "  master_df = pd.concat([master_df, mnas], ignore_index=True)\n"
     ]
    },
    {
     "name": "stdout",
     "output_type": "stream",
     "text": [
      "(166, 71)\n",
      "Master shape: (2918, 71)\n",
      "Start Date: 19910524, End Date: 19910526\n",
      "Downloading data from refinitiv...\n",
      "(80, 71)\n",
      "Master shape: (2998, 71)\n",
      "Start Date: 19910527, End Date: 19910529\n",
      "Downloading data from refinitiv...\n",
      "(190, 71)\n",
      "Master shape: (3188, 71)\n",
      "Appending chunk to BQ\n",
      "Data appended successfully\n",
      "Start Date: 19910530, End Date: 19910601\n",
      "Downloading data from refinitiv...\n"
     ]
    },
    {
     "name": "stderr",
     "output_type": "stream",
     "text": [
      "ERROR!!! An error occurred while requesting URL('https://api.refinitiv.com/data/datagrid/beta1/').\n",
      "     ReadTimeout('')\n"
     ]
    },
    {
     "name": "stdout",
     "output_type": "stream",
     "text": [
      "An error occurred: . Retrying for the range 19910530 to 19910601...\n",
      "Start Date: 19910530, End Date: 19910601\n",
      "Downloading data from refinitiv...\n"
     ]
    },
    {
     "name": "stderr",
     "output_type": "stream",
     "text": [
      "ERROR!!! An error occurred while requesting URL('https://api.refinitiv.com/data/datagrid/beta1/').\n",
      "     ReadTimeout('')\n"
     ]
    },
    {
     "name": "stdout",
     "output_type": "stream",
     "text": [
      "An error occurred: . Retrying for the range 19910530 to 19910601...\n",
      "Start Date: 19910530, End Date: 19910601\n",
      "Downloading data from refinitiv...\n",
      "(266, 71)\n",
      "Master shape: (266, 71)\n",
      "Start Date: 19910602, End Date: 19910604\n",
      "Downloading data from refinitiv...\n"
     ]
    },
    {
     "name": "stderr",
     "output_type": "stream",
     "text": [
      "ERROR!!! An error occurred while requesting URL('https://api.refinitiv.com/data/datagrid/beta1/').\n",
      "     ReadTimeout('')\n"
     ]
    },
    {
     "name": "stdout",
     "output_type": "stream",
     "text": [
      "An error occurred: . Retrying for the range 19910602 to 19910604...\n",
      "Start Date: 19910602, End Date: 19910604\n",
      "Downloading data from refinitiv...\n",
      "(206, 71)\n",
      "Master shape: (472, 71)\n",
      "Start Date: 19910605, End Date: 19910607\n",
      "Downloading data from refinitiv...\n",
      "(276, 71)\n",
      "Master shape: (748, 71)\n",
      "Start Date: 19910608, End Date: 19910610\n",
      "Downloading data from refinitiv...\n"
     ]
    },
    {
     "name": "stderr",
     "output_type": "stream",
     "text": [
      "/var/tmp/ipykernel_10925/3801902500.py:128: FutureWarning: The behavior of DataFrame concatenation with empty or all-NA entries is deprecated. In a future version, this will no longer exclude empty or all-NA columns when determining the result dtypes. To retain the old behavior, exclude the relevant entries before the concat operation.\n",
      "  master_df = pd.concat([master_df, mnas], ignore_index=True)\n",
      "ERROR!!! An error occurred while requesting URL('https://api.refinitiv.com/data/datagrid/beta1/').\n",
      "     ReadTimeout('')\n"
     ]
    },
    {
     "name": "stdout",
     "output_type": "stream",
     "text": [
      "An error occurred: . Retrying for the range 19910608 to 19910610...\n",
      "Start Date: 19910608, End Date: 19910610\n",
      "Downloading data from refinitiv...\n"
     ]
    },
    {
     "name": "stderr",
     "output_type": "stream",
     "text": [
      "ERROR!!! An error occurred while requesting URL('https://api.refinitiv.com/data/datagrid/beta1/').\n",
      "     ReadTimeout('')\n"
     ]
    },
    {
     "name": "stdout",
     "output_type": "stream",
     "text": [
      "An error occurred: . Retrying for the range 19910608 to 19910610...\n",
      "Start Date: 19910608, End Date: 19910610\n",
      "Downloading data from refinitiv...\n",
      "(100, 71)\n",
      "Master shape: (848, 71)\n",
      "Start Date: 19910611, End Date: 19910613\n",
      "Downloading data from refinitiv...\n",
      "(203, 71)\n",
      "Master shape: (1051, 71)\n",
      "Start Date: 19910614, End Date: 19910616\n",
      "Downloading data from refinitiv...\n"
     ]
    },
    {
     "name": "stderr",
     "output_type": "stream",
     "text": [
      "/var/tmp/ipykernel_10925/3801902500.py:128: FutureWarning: The behavior of DataFrame concatenation with empty or all-NA entries is deprecated. In a future version, this will no longer exclude empty or all-NA columns when determining the result dtypes. To retain the old behavior, exclude the relevant entries before the concat operation.\n",
      "  master_df = pd.concat([master_df, mnas], ignore_index=True)\n"
     ]
    },
    {
     "name": "stdout",
     "output_type": "stream",
     "text": [
      "(89, 71)\n",
      "Master shape: (1140, 71)\n",
      "Start Date: 19910617, End Date: 19910619\n",
      "Downloading data from refinitiv...\n"
     ]
    },
    {
     "name": "stderr",
     "output_type": "stream",
     "text": [
      "/var/tmp/ipykernel_10925/3801902500.py:128: FutureWarning: The behavior of DataFrame concatenation with empty or all-NA entries is deprecated. In a future version, this will no longer exclude empty or all-NA columns when determining the result dtypes. To retain the old behavior, exclude the relevant entries before the concat operation.\n",
      "  master_df = pd.concat([master_df, mnas], ignore_index=True)\n"
     ]
    },
    {
     "name": "stdout",
     "output_type": "stream",
     "text": [
      "(265, 71)\n",
      "Master shape: (1405, 71)\n",
      "Start Date: 19910620, End Date: 19910622\n",
      "Downloading data from refinitiv...\n",
      "(149, 71)\n",
      "Master shape: (1554, 71)\n",
      "Start Date: 19910623, End Date: 19910625\n",
      "Downloading data from refinitiv...\n",
      "(146, 71)\n",
      "Master shape: (1700, 71)\n",
      "Start Date: 19910626, End Date: 19910628\n",
      "Downloading data from refinitiv...\n",
      "(346, 71)\n",
      "Master shape: (2046, 71)\n",
      "Start Date: 19910629, End Date: 19910701\n",
      "Downloading data from refinitiv...\n"
     ]
    },
    {
     "name": "stderr",
     "output_type": "stream",
     "text": [
      "ERROR!!! An error occurred while requesting URL('https://api.refinitiv.com/data/datagrid/beta1/').\n",
      "     ReadTimeout('')\n"
     ]
    },
    {
     "name": "stdout",
     "output_type": "stream",
     "text": [
      "An error occurred: . Retrying for the range 19910629 to 19910701...\n",
      "Start Date: 19910629, End Date: 19910701\n",
      "Downloading data from refinitiv...\n",
      "(184, 71)\n",
      "Master shape: (2230, 71)\n",
      "Start Date: 19910702, End Date: 19910704\n",
      "Downloading data from refinitiv...\n",
      "(184, 71)\n",
      "Master shape: (2414, 71)\n",
      "Start Date: 19910705, End Date: 19910707\n",
      "Downloading data from refinitiv...\n",
      "(72, 71)\n",
      "Master shape: (2486, 71)\n",
      "Start Date: 19910708, End Date: 19910710\n",
      "Downloading data from refinitiv...\n"
     ]
    },
    {
     "name": "stderr",
     "output_type": "stream",
     "text": [
      "/var/tmp/ipykernel_10925/3801902500.py:128: FutureWarning: The behavior of DataFrame concatenation with empty or all-NA entries is deprecated. In a future version, this will no longer exclude empty or all-NA columns when determining the result dtypes. To retain the old behavior, exclude the relevant entries before the concat operation.\n",
      "  master_df = pd.concat([master_df, mnas], ignore_index=True)\n"
     ]
    },
    {
     "name": "stdout",
     "output_type": "stream",
     "text": [
      "(201, 71)\n",
      "Master shape: (2687, 71)\n",
      "Start Date: 19910711, End Date: 19910713\n",
      "Downloading data from refinitiv...\n",
      "(142, 71)\n",
      "Master shape: (2829, 71)\n",
      "Start Date: 19910714, End Date: 19910716\n",
      "Downloading data from refinitiv...\n"
     ]
    },
    {
     "name": "stderr",
     "output_type": "stream",
     "text": [
      "/var/tmp/ipykernel_10925/3801902500.py:128: FutureWarning: The behavior of DataFrame concatenation with empty or all-NA entries is deprecated. In a future version, this will no longer exclude empty or all-NA columns when determining the result dtypes. To retain the old behavior, exclude the relevant entries before the concat operation.\n",
      "  master_df = pd.concat([master_df, mnas], ignore_index=True)\n"
     ]
    },
    {
     "name": "stdout",
     "output_type": "stream",
     "text": [
      "(153, 71)\n",
      "Master shape: (2982, 71)\n",
      "Start Date: 19910717, End Date: 19910719\n",
      "Downloading data from refinitiv...\n",
      "(221, 71)\n",
      "Master shape: (3203, 71)\n",
      "Start Date: 19910720, End Date: 19910722\n",
      "Downloading data from refinitiv...\n",
      "(97, 71)\n",
      "Master shape: (3300, 71)\n",
      "Start Date: 19910723, End Date: 19910725\n",
      "Downloading data from refinitiv...\n"
     ]
    },
    {
     "name": "stderr",
     "output_type": "stream",
     "text": [
      "/var/tmp/ipykernel_10925/3801902500.py:128: FutureWarning: The behavior of DataFrame concatenation with empty or all-NA entries is deprecated. In a future version, this will no longer exclude empty or all-NA columns when determining the result dtypes. To retain the old behavior, exclude the relevant entries before the concat operation.\n",
      "  master_df = pd.concat([master_df, mnas], ignore_index=True)\n"
     ]
    },
    {
     "name": "stdout",
     "output_type": "stream",
     "text": [
      "(199, 71)\n",
      "Master shape: (3499, 71)\n",
      "Start Date: 19910726, End Date: 19910728\n",
      "Downloading data from refinitiv...\n"
     ]
    },
    {
     "name": "stderr",
     "output_type": "stream",
     "text": [
      "/var/tmp/ipykernel_10925/3801902500.py:128: FutureWarning: The behavior of DataFrame concatenation with empty or all-NA entries is deprecated. In a future version, this will no longer exclude empty or all-NA columns when determining the result dtypes. To retain the old behavior, exclude the relevant entries before the concat operation.\n",
      "  master_df = pd.concat([master_df, mnas], ignore_index=True)\n"
     ]
    },
    {
     "name": "stdout",
     "output_type": "stream",
     "text": [
      "(93, 71)\n",
      "Master shape: (3592, 71)\n",
      "Appending chunk to BQ\n"
     ]
    },
    {
     "name": "stderr",
     "output_type": "stream",
     "text": [
      "/var/tmp/ipykernel_10925/3801902500.py:128: FutureWarning: The behavior of DataFrame concatenation with empty or all-NA entries is deprecated. In a future version, this will no longer exclude empty or all-NA columns when determining the result dtypes. To retain the old behavior, exclude the relevant entries before the concat operation.\n",
      "  master_df = pd.concat([master_df, mnas], ignore_index=True)\n"
     ]
    },
    {
     "name": "stdout",
     "output_type": "stream",
     "text": [
      "Data appended successfully\n",
      "Start Date: 19910729, End Date: 19910731\n",
      "Downloading data from refinitiv...\n",
      "(284, 71)\n",
      "Master shape: (284, 71)\n",
      "Start Date: 19910801, End Date: 19910803\n",
      "Downloading data from refinitiv...\n",
      "(164, 71)\n",
      "Master shape: (448, 71)\n",
      "Start Date: 19910804, End Date: 19910806\n",
      "Downloading data from refinitiv...\n",
      "(216, 71)\n",
      "Master shape: (664, 71)\n",
      "Start Date: 19910807, End Date: 19910809\n",
      "Downloading data from refinitiv...\n"
     ]
    },
    {
     "name": "stderr",
     "output_type": "stream",
     "text": [
      "/var/tmp/ipykernel_10925/3801902500.py:128: FutureWarning: The behavior of DataFrame concatenation with empty or all-NA entries is deprecated. In a future version, this will no longer exclude empty or all-NA columns when determining the result dtypes. To retain the old behavior, exclude the relevant entries before the concat operation.\n",
      "  master_df = pd.concat([master_df, mnas], ignore_index=True)\n"
     ]
    },
    {
     "name": "stdout",
     "output_type": "stream",
     "text": [
      "(227, 71)\n",
      "Master shape: (891, 71)\n",
      "Start Date: 19910810, End Date: 19910812\n",
      "Downloading data from refinitiv...\n",
      "(74, 71)\n",
      "Master shape: (965, 71)\n",
      "Start Date: 19910813, End Date: 19910815\n",
      "Downloading data from refinitiv...\n",
      "(159, 71)\n",
      "Master shape: (1124, 71)\n",
      "Start Date: 19910816, End Date: 19910818\n",
      "Downloading data from refinitiv...\n"
     ]
    },
    {
     "name": "stderr",
     "output_type": "stream",
     "text": [
      "/var/tmp/ipykernel_10925/3801902500.py:128: FutureWarning: The behavior of DataFrame concatenation with empty or all-NA entries is deprecated. In a future version, this will no longer exclude empty or all-NA columns when determining the result dtypes. To retain the old behavior, exclude the relevant entries before the concat operation.\n",
      "  master_df = pd.concat([master_df, mnas], ignore_index=True)\n"
     ]
    },
    {
     "name": "stdout",
     "output_type": "stream",
     "text": [
      "(53, 71)\n",
      "Master shape: (1177, 71)\n",
      "Start Date: 19910819, End Date: 19910821\n",
      "Downloading data from refinitiv...\n"
     ]
    },
    {
     "name": "stderr",
     "output_type": "stream",
     "text": [
      "/var/tmp/ipykernel_10925/3801902500.py:128: FutureWarning: The behavior of DataFrame concatenation with empty or all-NA entries is deprecated. In a future version, this will no longer exclude empty or all-NA columns when determining the result dtypes. To retain the old behavior, exclude the relevant entries before the concat operation.\n",
      "  master_df = pd.concat([master_df, mnas], ignore_index=True)\n"
     ]
    },
    {
     "name": "stdout",
     "output_type": "stream",
     "text": [
      "(157, 71)\n",
      "Master shape: (1334, 71)\n",
      "Start Date: 19910822, End Date: 19910824\n",
      "Downloading data from refinitiv...\n",
      "(96, 71)\n",
      "Master shape: (1430, 71)\n",
      "Start Date: 19910825, End Date: 19910827\n",
      "Downloading data from refinitiv...\n",
      "(114, 71)\n",
      "Master shape: (1544, 71)\n",
      "Start Date: 19910828, End Date: 19910830\n",
      "Downloading data from refinitiv...\n"
     ]
    },
    {
     "name": "stderr",
     "output_type": "stream",
     "text": [
      "/var/tmp/ipykernel_10925/3801902500.py:128: FutureWarning: The behavior of DataFrame concatenation with empty or all-NA entries is deprecated. In a future version, this will no longer exclude empty or all-NA columns when determining the result dtypes. To retain the old behavior, exclude the relevant entries before the concat operation.\n",
      "  master_df = pd.concat([master_df, mnas], ignore_index=True)\n"
     ]
    },
    {
     "name": "stdout",
     "output_type": "stream",
     "text": [
      "(266, 71)\n",
      "Master shape: (1810, 71)\n",
      "Start Date: 19910831, End Date: 19910902\n",
      "Downloading data from refinitiv...\n",
      "(76, 71)\n",
      "Master shape: (1886, 71)\n",
      "Start Date: 19910903, End Date: 19910905\n",
      "Downloading data from refinitiv...\n"
     ]
    },
    {
     "name": "stderr",
     "output_type": "stream",
     "text": [
      "ERROR!!! An error occurred while requesting URL('https://api.refinitiv.com/data/datagrid/beta1/').\n",
      "     ReadTimeout('')\n"
     ]
    },
    {
     "name": "stdout",
     "output_type": "stream",
     "text": [
      "An error occurred: . Retrying for the range 19910903 to 19910905...\n",
      "Start Date: 19910903, End Date: 19910905\n",
      "Downloading data from refinitiv...\n",
      "(201, 71)\n",
      "Master shape: (2087, 71)\n",
      "Start Date: 19910906, End Date: 19910908\n",
      "Downloading data from refinitiv...\n",
      "(84, 71)\n",
      "Master shape: (2171, 71)\n",
      "Start Date: 19910909, End Date: 19910911\n",
      "Downloading data from refinitiv...\n"
     ]
    },
    {
     "name": "stderr",
     "output_type": "stream",
     "text": [
      "/var/tmp/ipykernel_10925/3801902500.py:128: FutureWarning: The behavior of DataFrame concatenation with empty or all-NA entries is deprecated. In a future version, this will no longer exclude empty or all-NA columns when determining the result dtypes. To retain the old behavior, exclude the relevant entries before the concat operation.\n",
      "  master_df = pd.concat([master_df, mnas], ignore_index=True)\n"
     ]
    },
    {
     "name": "stdout",
     "output_type": "stream",
     "text": [
      "(224, 71)\n",
      "Master shape: (2395, 71)\n",
      "Start Date: 19910912, End Date: 19910914\n",
      "Downloading data from refinitiv...\n"
     ]
    },
    {
     "name": "stderr",
     "output_type": "stream",
     "text": [
      "/var/tmp/ipykernel_10925/3801902500.py:128: FutureWarning: The behavior of DataFrame concatenation with empty or all-NA entries is deprecated. In a future version, this will no longer exclude empty or all-NA columns when determining the result dtypes. To retain the old behavior, exclude the relevant entries before the concat operation.\n",
      "  master_df = pd.concat([master_df, mnas], ignore_index=True)\n"
     ]
    },
    {
     "name": "stdout",
     "output_type": "stream",
     "text": [
      "(142, 71)\n",
      "Master shape: (2537, 71)\n",
      "Start Date: 19910915, End Date: 19910917\n",
      "Downloading data from refinitiv...\n",
      "(165, 71)\n",
      "Master shape: (2702, 71)\n",
      "Start Date: 19910918, End Date: 19910920\n",
      "Downloading data from refinitiv...\n",
      "(245, 71)\n",
      "Master shape: (2947, 71)\n",
      "Start Date: 19910921, End Date: 19910923\n",
      "Downloading data from refinitiv...\n",
      "(82, 71)\n",
      "Master shape: (3029, 71)\n",
      "Start Date: 19910924, End Date: 19910926\n",
      "Downloading data from refinitiv...\n",
      "(177, 71)\n",
      "Master shape: (3206, 71)\n",
      "Appending chunk to BQ\n",
      "Data appended successfully\n",
      "Start Date: 19910927, End Date: 19910929\n",
      "Downloading data from refinitiv...\n",
      "(86, 71)\n",
      "Master shape: (86, 71)\n",
      "Start Date: 19910930, End Date: 19911002\n",
      "Downloading data from refinitiv...\n",
      "(353, 71)\n",
      "Master shape: (439, 71)\n",
      "Start Date: 19911003, End Date: 19911005\n",
      "Downloading data from refinitiv...\n"
     ]
    },
    {
     "name": "stderr",
     "output_type": "stream",
     "text": [
      "/var/tmp/ipykernel_10925/3801902500.py:128: FutureWarning: The behavior of DataFrame concatenation with empty or all-NA entries is deprecated. In a future version, this will no longer exclude empty or all-NA columns when determining the result dtypes. To retain the old behavior, exclude the relevant entries before the concat operation.\n",
      "  master_df = pd.concat([master_df, mnas], ignore_index=True)\n"
     ]
    },
    {
     "name": "stdout",
     "output_type": "stream",
     "text": [
      "(144, 71)\n",
      "Master shape: (583, 71)\n",
      "Start Date: 19911006, End Date: 19911008\n",
      "Downloading data from refinitiv...\n",
      "(129, 71)\n",
      "Master shape: (712, 71)\n",
      "Start Date: 19911009, End Date: 19911011\n",
      "Downloading data from refinitiv...\n"
     ]
    },
    {
     "name": "stderr",
     "output_type": "stream",
     "text": [
      "/var/tmp/ipykernel_10925/3801902500.py:128: FutureWarning: The behavior of DataFrame concatenation with empty or all-NA entries is deprecated. In a future version, this will no longer exclude empty or all-NA columns when determining the result dtypes. To retain the old behavior, exclude the relevant entries before the concat operation.\n",
      "  master_df = pd.concat([master_df, mnas], ignore_index=True)\n"
     ]
    },
    {
     "name": "stdout",
     "output_type": "stream",
     "text": [
      "(230, 71)\n",
      "Master shape: (942, 71)\n",
      "Start Date: 19911012, End Date: 19911014\n",
      "Downloading data from refinitiv...\n",
      "(72, 71)\n",
      "Master shape: (1014, 71)\n",
      "Start Date: 19911015, End Date: 19911017\n",
      "Downloading data from refinitiv...\n",
      "(170, 71)\n",
      "Master shape: (1184, 71)\n",
      "Start Date: 19911018, End Date: 19911020\n",
      "Downloading data from refinitiv...\n",
      "(87, 71)\n",
      "Master shape: (1271, 71)\n",
      "Start Date: 19911021, End Date: 19911023\n",
      "Downloading data from refinitiv...\n"
     ]
    },
    {
     "name": "stderr",
     "output_type": "stream",
     "text": [
      "/var/tmp/ipykernel_10925/3801902500.py:128: FutureWarning: The behavior of DataFrame concatenation with empty or all-NA entries is deprecated. In a future version, this will no longer exclude empty or all-NA columns when determining the result dtypes. To retain the old behavior, exclude the relevant entries before the concat operation.\n",
      "  master_df = pd.concat([master_df, mnas], ignore_index=True)\n"
     ]
    },
    {
     "name": "stdout",
     "output_type": "stream",
     "text": [
      "(257, 71)\n",
      "Master shape: (1528, 71)\n",
      "Start Date: 19911024, End Date: 19911026\n",
      "Downloading data from refinitiv...\n",
      "(153, 71)\n",
      "Master shape: (1681, 71)\n",
      "Start Date: 19911027, End Date: 19911029\n",
      "Downloading data from refinitiv...\n"
     ]
    },
    {
     "name": "stderr",
     "output_type": "stream",
     "text": [
      "/var/tmp/ipykernel_10925/3801902500.py:128: FutureWarning: The behavior of DataFrame concatenation with empty or all-NA entries is deprecated. In a future version, this will no longer exclude empty or all-NA columns when determining the result dtypes. To retain the old behavior, exclude the relevant entries before the concat operation.\n",
      "  master_df = pd.concat([master_df, mnas], ignore_index=True)\n"
     ]
    },
    {
     "name": "stdout",
     "output_type": "stream",
     "text": [
      "(198, 71)\n",
      "Master shape: (1879, 71)\n",
      "Start Date: 19911030, End Date: 19911101\n",
      "Downloading data from refinitiv...\n",
      "(313, 71)\n",
      "Master shape: (2192, 71)\n",
      "Start Date: 19911102, End Date: 19911104\n",
      "Downloading data from refinitiv...\n",
      "(88, 71)\n",
      "Master shape: (2280, 71)\n",
      "Start Date: 19911105, End Date: 19911107\n",
      "Downloading data from refinitiv...\n",
      "(177, 71)\n",
      "Master shape: (2457, 71)\n",
      "Start Date: 19911108, End Date: 19911110\n",
      "Downloading data from refinitiv...\n"
     ]
    },
    {
     "name": "stderr",
     "output_type": "stream",
     "text": [
      "/var/tmp/ipykernel_10925/3801902500.py:128: FutureWarning: The behavior of DataFrame concatenation with empty or all-NA entries is deprecated. In a future version, this will no longer exclude empty or all-NA columns when determining the result dtypes. To retain the old behavior, exclude the relevant entries before the concat operation.\n",
      "  master_df = pd.concat([master_df, mnas], ignore_index=True)\n"
     ]
    },
    {
     "name": "stdout",
     "output_type": "stream",
     "text": [
      "(60, 71)\n",
      "Master shape: (2517, 71)\n",
      "Start Date: 19911111, End Date: 19911113\n",
      "Downloading data from refinitiv...\n",
      "(219, 71)\n",
      "Master shape: (2736, 71)\n",
      "Start Date: 19911114, End Date: 19911116\n",
      "Downloading data from refinitiv...\n",
      "(139, 71)\n",
      "Master shape: (2875, 71)\n",
      "Start Date: 19911117, End Date: 19911119\n",
      "Downloading data from refinitiv...\n",
      "(174, 71)\n",
      "Master shape: (3049, 71)\n",
      "Start Date: 19911120, End Date: 19911122\n",
      "Downloading data from refinitiv...\n",
      "(200, 71)\n",
      "Master shape: (3249, 71)\n",
      "Start Date: 19911123, End Date: 19911125\n",
      "Downloading data from refinitiv...\n",
      "(85, 71)\n",
      "Master shape: (3334, 71)\n",
      "Appending chunk to BQ\n",
      "Data appended successfully\n",
      "Start Date: 19911126, End Date: 19911128\n",
      "Downloading data from refinitiv...\n",
      "(172, 71)\n",
      "Master shape: (172, 71)\n",
      "Start Date: 19911129, End Date: 19911201\n",
      "Downloading data from refinitiv...\n",
      "(106, 71)\n",
      "Master shape: (278, 71)\n",
      "Start Date: 19911202, End Date: 19911204\n",
      "Downloading data from refinitiv...\n",
      "(250, 71)\n",
      "Master shape: (528, 71)\n",
      "Start Date: 19911205, End Date: 19911207\n",
      "Downloading data from refinitiv...\n",
      "(141, 71)\n",
      "Master shape: (669, 71)\n",
      "Start Date: 19911208, End Date: 19911210\n",
      "Downloading data from refinitiv...\n"
     ]
    },
    {
     "name": "stderr",
     "output_type": "stream",
     "text": [
      "ERROR!!! An error occurred while requesting URL('https://api.refinitiv.com/data/datagrid/beta1/').\n",
      "     ReadTimeout('')\n"
     ]
    },
    {
     "name": "stdout",
     "output_type": "stream",
     "text": [
      "An error occurred: . Retrying for the range 19911208 to 19911210...\n",
      "Start Date: 19911208, End Date: 19911210\n",
      "Downloading data from refinitiv...\n",
      "(171, 71)\n",
      "Master shape: (840, 71)\n",
      "Start Date: 19911211, End Date: 19911213\n",
      "Downloading data from refinitiv...\n",
      "(232, 71)\n",
      "Master shape: (1072, 71)\n",
      "Start Date: 19911214, End Date: 19911216\n",
      "Downloading data from refinitiv...\n",
      "(101, 71)\n",
      "Master shape: (1173, 71)\n",
      "Start Date: 19911217, End Date: 19911219\n",
      "Downloading data from refinitiv...\n",
      "(233, 71)\n",
      "Master shape: (1406, 71)\n",
      "Start Date: 19911220, End Date: 19911222\n",
      "Downloading data from refinitiv...\n",
      "(99, 71)\n",
      "Master shape: (1505, 71)\n",
      "Start Date: 19911223, End Date: 19911225\n",
      "Downloading data from refinitiv...\n",
      "(120, 71)\n",
      "Master shape: (1625, 71)\n",
      "Start Date: 19911226, End Date: 19911228\n",
      "Downloading data from refinitiv...\n",
      "(100, 71)\n",
      "Master shape: (1725, 71)\n",
      "Start Date: 19911229, End Date: 19911231\n",
      "Downloading data from refinitiv...\n",
      "(528, 71)\n",
      "Master shape: (2253, 71)\n",
      "Start Date: 19920101, End Date: 19920103\n",
      "Downloading data from refinitiv...\n"
     ]
    },
    {
     "name": "stderr",
     "output_type": "stream",
     "text": [
      "/var/tmp/ipykernel_10925/3801902500.py:128: FutureWarning: The behavior of DataFrame concatenation with empty or all-NA entries is deprecated. In a future version, this will no longer exclude empty or all-NA columns when determining the result dtypes. To retain the old behavior, exclude the relevant entries before the concat operation.\n",
      "  master_df = pd.concat([master_df, mnas], ignore_index=True)\n"
     ]
    },
    {
     "name": "stdout",
     "output_type": "stream",
     "text": [
      "(203, 71)\n",
      "Master shape: (2456, 71)\n",
      "Start Date: 19920104, End Date: 19920106\n",
      "Downloading data from refinitiv...\n",
      "(77, 71)\n",
      "Master shape: (2533, 71)\n",
      "Start Date: 19920107, End Date: 19920109\n",
      "Downloading data from refinitiv...\n",
      "(247, 71)\n",
      "Master shape: (2780, 71)\n",
      "Start Date: 19920110, End Date: 19920112\n",
      "Downloading data from refinitiv...\n",
      "(97, 71)\n",
      "Master shape: (2877, 71)\n",
      "Start Date: 19920113, End Date: 19920115\n",
      "Downloading data from refinitiv...\n"
     ]
    },
    {
     "name": "stderr",
     "output_type": "stream",
     "text": [
      "/var/tmp/ipykernel_10925/3801902500.py:128: FutureWarning: The behavior of DataFrame concatenation with empty or all-NA entries is deprecated. In a future version, this will no longer exclude empty or all-NA columns when determining the result dtypes. To retain the old behavior, exclude the relevant entries before the concat operation.\n",
      "  master_df = pd.concat([master_df, mnas], ignore_index=True)\n",
      "ERROR!!! An error occurred while requesting URL('https://api.refinitiv.com/data/datagrid/beta1/').\n",
      "     ReadTimeout('')\n"
     ]
    },
    {
     "name": "stdout",
     "output_type": "stream",
     "text": [
      "An error occurred: . Retrying for the range 19920113 to 19920115...\n",
      "Start Date: 19920113, End Date: 19920115\n",
      "Downloading data from refinitiv...\n",
      "(288, 71)\n",
      "Master shape: (3165, 71)\n",
      "Start Date: 19920116, End Date: 19920118\n",
      "Downloading data from refinitiv...\n"
     ]
    },
    {
     "name": "stderr",
     "output_type": "stream",
     "text": [
      "ERROR!!! An error occurred while requesting URL('https://api.refinitiv.com/data/datagrid/beta1/').\n",
      "     ReadTimeout('')\n"
     ]
    },
    {
     "name": "stdout",
     "output_type": "stream",
     "text": [
      "An error occurred: . Retrying for the range 19920116 to 19920118...\n",
      "Start Date: 19920116, End Date: 19920118\n",
      "Downloading data from refinitiv...\n",
      "(183, 71)\n",
      "Master shape: (3348, 71)\n",
      "Start Date: 19920119, End Date: 19920121\n",
      "Downloading data from refinitiv...\n",
      "(189, 71)\n",
      "Master shape: (3537, 71)\n",
      "Start Date: 19920122, End Date: 19920124\n",
      "Downloading data from refinitiv...\n"
     ]
    },
    {
     "name": "stderr",
     "output_type": "stream",
     "text": [
      "ERROR!!! An error occurred while requesting URL('https://api.refinitiv.com/data/datagrid/beta1/').\n",
      "     ReadTimeout('')\n"
     ]
    },
    {
     "name": "stdout",
     "output_type": "stream",
     "text": [
      "An error occurred: . Retrying for the range 19920122 to 19920124...\n",
      "Start Date: 19920122, End Date: 19920124\n",
      "Downloading data from refinitiv...\n",
      "(267, 71)\n",
      "Master shape: (3804, 71)\n",
      "Appending chunk to BQ\n",
      "Data appended successfully\n",
      "Start Date: 19920125, End Date: 19920127\n",
      "Downloading data from refinitiv...\n",
      "(81, 71)\n",
      "Master shape: (81, 71)\n",
      "Start Date: 19920128, End Date: 19920130\n",
      "Downloading data from refinitiv...\n",
      "(220, 71)\n",
      "Master shape: (301, 71)\n",
      "Start Date: 19920131, End Date: 19920202\n",
      "Downloading data from refinitiv...\n"
     ]
    },
    {
     "name": "stderr",
     "output_type": "stream",
     "text": [
      "/var/tmp/ipykernel_10925/3801902500.py:128: FutureWarning: The behavior of DataFrame concatenation with empty or all-NA entries is deprecated. In a future version, this will no longer exclude empty or all-NA columns when determining the result dtypes. To retain the old behavior, exclude the relevant entries before the concat operation.\n",
      "  master_df = pd.concat([master_df, mnas], ignore_index=True)\n"
     ]
    },
    {
     "name": "stdout",
     "output_type": "stream",
     "text": [
      "(172, 71)\n",
      "Master shape: (473, 71)\n",
      "Start Date: 19920203, End Date: 19920205\n",
      "Downloading data from refinitiv...\n",
      "(227, 71)\n",
      "Master shape: (700, 71)\n",
      "Start Date: 19920206, End Date: 19920208\n",
      "Downloading data from refinitiv...\n",
      "(144, 71)\n",
      "Master shape: (844, 71)\n",
      "Start Date: 19920209, End Date: 19920211\n",
      "Downloading data from refinitiv...\n",
      "(160, 71)\n",
      "Master shape: (1004, 71)\n",
      "Start Date: 19920212, End Date: 19920214\n",
      "Downloading data from refinitiv...\n",
      "(206, 71)\n",
      "Master shape: (1210, 71)\n",
      "Start Date: 19920215, End Date: 19920217\n",
      "Downloading data from refinitiv...\n",
      "(129, 71)\n",
      "Master shape: (1339, 71)\n",
      "Start Date: 19920218, End Date: 19920220\n",
      "Downloading data from refinitiv...\n"
     ]
    },
    {
     "name": "stderr",
     "output_type": "stream",
     "text": [
      "/var/tmp/ipykernel_10925/3801902500.py:128: FutureWarning: The behavior of DataFrame concatenation with empty or all-NA entries is deprecated. In a future version, this will no longer exclude empty or all-NA columns when determining the result dtypes. To retain the old behavior, exclude the relevant entries before the concat operation.\n",
      "  master_df = pd.concat([master_df, mnas], ignore_index=True)\n"
     ]
    },
    {
     "name": "stdout",
     "output_type": "stream",
     "text": [
      "(196, 71)\n",
      "Master shape: (1535, 71)\n",
      "Start Date: 19920221, End Date: 19920223\n",
      "Downloading data from refinitiv...\n",
      "(62, 71)\n",
      "Master shape: (1597, 71)\n",
      "Start Date: 19920224, End Date: 19920226\n",
      "Downloading data from refinitiv...\n",
      "(240, 71)\n",
      "Master shape: (1837, 71)\n",
      "Start Date: 19920227, End Date: 19920229\n",
      "Downloading data from refinitiv...\n",
      "(232, 71)\n",
      "Master shape: (2069, 71)\n",
      "Start Date: 19920301, End Date: 19920303\n",
      "Downloading data from refinitiv...\n",
      "(185, 71)\n",
      "Master shape: (2254, 71)\n",
      "Start Date: 19920304, End Date: 19920306\n",
      "Downloading data from refinitiv...\n"
     ]
    },
    {
     "name": "stderr",
     "output_type": "stream",
     "text": [
      "/var/tmp/ipykernel_10925/3801902500.py:128: FutureWarning: The behavior of DataFrame concatenation with empty or all-NA entries is deprecated. In a future version, this will no longer exclude empty or all-NA columns when determining the result dtypes. To retain the old behavior, exclude the relevant entries before the concat operation.\n",
      "  master_df = pd.concat([master_df, mnas], ignore_index=True)\n"
     ]
    },
    {
     "name": "stdout",
     "output_type": "stream",
     "text": [
      "(219, 71)\n",
      "Master shape: (2473, 71)\n",
      "Start Date: 19920307, End Date: 19920309\n",
      "Downloading data from refinitiv...\n"
     ]
    },
    {
     "name": "stderr",
     "output_type": "stream",
     "text": [
      "ERROR!!! An error occurred while requesting URL('https://api.refinitiv.com/data/datagrid/beta1/').\n",
      "     ReadTimeout('')\n"
     ]
    },
    {
     "name": "stdout",
     "output_type": "stream",
     "text": [
      "An error occurred: . Retrying for the range 19920307 to 19920309...\n",
      "Start Date: 19920307, End Date: 19920309\n",
      "Downloading data from refinitiv...\n",
      "(70, 71)\n",
      "Master shape: (2543, 71)\n",
      "Start Date: 19920310, End Date: 19920312\n",
      "Downloading data from refinitiv...\n"
     ]
    },
    {
     "name": "stderr",
     "output_type": "stream",
     "text": [
      "/var/tmp/ipykernel_10925/3801902500.py:128: FutureWarning: The behavior of DataFrame concatenation with empty or all-NA entries is deprecated. In a future version, this will no longer exclude empty or all-NA columns when determining the result dtypes. To retain the old behavior, exclude the relevant entries before the concat operation.\n",
      "  master_df = pd.concat([master_df, mnas], ignore_index=True)\n"
     ]
    },
    {
     "name": "stdout",
     "output_type": "stream",
     "text": [
      "(213, 71)\n",
      "Master shape: (2756, 71)\n",
      "Start Date: 19920313, End Date: 19920315\n",
      "Downloading data from refinitiv...\n"
     ]
    },
    {
     "name": "stderr",
     "output_type": "stream",
     "text": [
      "ERROR!!! An error occurred while requesting URL('https://api.refinitiv.com/data/datagrid/beta1/').\n",
      "     ReadTimeout('')\n"
     ]
    },
    {
     "name": "stdout",
     "output_type": "stream",
     "text": [
      "An error occurred: . Retrying for the range 19920313 to 19920315...\n",
      "Start Date: 19920313, End Date: 19920315\n",
      "Downloading data from refinitiv...\n",
      "(80, 71)\n",
      "Master shape: (2836, 71)\n",
      "Start Date: 19920316, End Date: 19920318\n",
      "Downloading data from refinitiv...\n"
     ]
    },
    {
     "name": "stderr",
     "output_type": "stream",
     "text": [
      "/var/tmp/ipykernel_10925/3801902500.py:128: FutureWarning: The behavior of DataFrame concatenation with empty or all-NA entries is deprecated. In a future version, this will no longer exclude empty or all-NA columns when determining the result dtypes. To retain the old behavior, exclude the relevant entries before the concat operation.\n",
      "  master_df = pd.concat([master_df, mnas], ignore_index=True)\n"
     ]
    },
    {
     "name": "stdout",
     "output_type": "stream",
     "text": [
      "(212, 71)\n",
      "Master shape: (3048, 71)\n",
      "Start Date: 19920319, End Date: 19920321\n",
      "Downloading data from refinitiv...\n",
      "(133, 71)\n",
      "Master shape: (3181, 71)\n",
      "Start Date: 19920322, End Date: 19920324\n",
      "Downloading data from refinitiv...\n"
     ]
    },
    {
     "name": "stderr",
     "output_type": "stream",
     "text": [
      "ERROR!!! An error occurred while requesting URL('https://api.refinitiv.com/data/datagrid/beta1/').\n",
      "     ReadTimeout('')\n"
     ]
    },
    {
     "name": "stdout",
     "output_type": "stream",
     "text": [
      "An error occurred: . Retrying for the range 19920322 to 19920324...\n",
      "Start Date: 19920322, End Date: 19920324\n",
      "Downloading data from refinitiv...\n",
      "(153, 71)\n",
      "Master shape: (3334, 71)\n",
      "Appending chunk to BQ\n",
      "Data appended successfully\n",
      "Start Date: 19920325, End Date: 19920327\n",
      "Downloading data from refinitiv...\n",
      "(214, 71)\n",
      "Master shape: (214, 71)\n",
      "Start Date: 19920328, End Date: 19920330\n",
      "Downloading data from refinitiv...\n",
      "(119, 71)\n",
      "Master shape: (333, 71)\n",
      "Start Date: 19920331, End Date: 19920402\n",
      "Downloading data from refinitiv...\n",
      "(298, 71)\n",
      "Master shape: (631, 71)\n",
      "Start Date: 19920403, End Date: 19920405\n",
      "Downloading data from refinitiv...\n",
      "(67, 71)\n",
      "Master shape: (698, 71)\n",
      "Start Date: 19920406, End Date: 19920408\n",
      "Downloading data from refinitiv...\n"
     ]
    },
    {
     "name": "stderr",
     "output_type": "stream",
     "text": [
      "/var/tmp/ipykernel_10925/3801902500.py:128: FutureWarning: The behavior of DataFrame concatenation with empty or all-NA entries is deprecated. In a future version, this will no longer exclude empty or all-NA columns when determining the result dtypes. To retain the old behavior, exclude the relevant entries before the concat operation.\n",
      "  master_df = pd.concat([master_df, mnas], ignore_index=True)\n"
     ]
    },
    {
     "name": "stdout",
     "output_type": "stream",
     "text": [
      "(240, 71)\n",
      "Master shape: (938, 71)\n",
      "Start Date: 19920409, End Date: 19920411\n",
      "Downloading data from refinitiv...\n",
      "(142, 71)\n",
      "Master shape: (1080, 71)\n",
      "Start Date: 19920412, End Date: 19920414\n",
      "Downloading data from refinitiv...\n",
      "(141, 71)\n",
      "Master shape: (1221, 71)\n",
      "Start Date: 19920415, End Date: 19920417\n",
      "Downloading data from refinitiv...\n",
      "(120, 71)\n",
      "Master shape: (1341, 71)\n",
      "Start Date: 19920418, End Date: 19920420\n",
      "Downloading data from refinitiv...\n"
     ]
    },
    {
     "name": "stderr",
     "output_type": "stream",
     "text": [
      "/var/tmp/ipykernel_10925/3801902500.py:128: FutureWarning: The behavior of DataFrame concatenation with empty or all-NA entries is deprecated. In a future version, this will no longer exclude empty or all-NA columns when determining the result dtypes. To retain the old behavior, exclude the relevant entries before the concat operation.\n",
      "  master_df = pd.concat([master_df, mnas], ignore_index=True)\n"
     ]
    },
    {
     "name": "stdout",
     "output_type": "stream",
     "text": [
      "(55, 71)\n",
      "Master shape: (1396, 71)\n",
      "Start Date: 19920421, End Date: 19920423\n",
      "Downloading data from refinitiv...\n"
     ]
    },
    {
     "name": "stderr",
     "output_type": "stream",
     "text": [
      "/var/tmp/ipykernel_10925/3801902500.py:128: FutureWarning: The behavior of DataFrame concatenation with empty or all-NA entries is deprecated. In a future version, this will no longer exclude empty or all-NA columns when determining the result dtypes. To retain the old behavior, exclude the relevant entries before the concat operation.\n",
      "  master_df = pd.concat([master_df, mnas], ignore_index=True)\n"
     ]
    },
    {
     "name": "stdout",
     "output_type": "stream",
     "text": [
      "(180, 71)\n",
      "Master shape: (1576, 71)\n",
      "Start Date: 19920424, End Date: 19920426\n",
      "Downloading data from refinitiv...\n",
      "(73, 71)\n",
      "Master shape: (1649, 71)\n",
      "Start Date: 19920427, End Date: 19920429\n",
      "Downloading data from refinitiv...\n",
      "(187, 71)\n",
      "Master shape: (1836, 71)\n",
      "Start Date: 19920430, End Date: 19920502\n",
      "Downloading data from refinitiv...\n",
      "(203, 71)\n",
      "Master shape: (2039, 71)\n",
      "Start Date: 19920503, End Date: 19920505\n",
      "Downloading data from refinitiv...\n"
     ]
    },
    {
     "name": "stderr",
     "output_type": "stream",
     "text": [
      "/var/tmp/ipykernel_10925/3801902500.py:128: FutureWarning: The behavior of DataFrame concatenation with empty or all-NA entries is deprecated. In a future version, this will no longer exclude empty or all-NA columns when determining the result dtypes. To retain the old behavior, exclude the relevant entries before the concat operation.\n",
      "  master_df = pd.concat([master_df, mnas], ignore_index=True)\n"
     ]
    },
    {
     "name": "stdout",
     "output_type": "stream",
     "text": [
      "(125, 71)\n",
      "Master shape: (2164, 71)\n",
      "Start Date: 19920506, End Date: 19920508\n",
      "Downloading data from refinitiv...\n"
     ]
    },
    {
     "name": "stderr",
     "output_type": "stream",
     "text": [
      "/var/tmp/ipykernel_10925/3801902500.py:128: FutureWarning: The behavior of DataFrame concatenation with empty or all-NA entries is deprecated. In a future version, this will no longer exclude empty or all-NA columns when determining the result dtypes. To retain the old behavior, exclude the relevant entries before the concat operation.\n",
      "  master_df = pd.concat([master_df, mnas], ignore_index=True)\n",
      "ERROR!!! An error occurred while requesting URL('https://api.refinitiv.com/data/datagrid/beta1/').\n",
      "     ReadTimeout('')\n"
     ]
    },
    {
     "name": "stdout",
     "output_type": "stream",
     "text": [
      "An error occurred: . Retrying for the range 19920506 to 19920508...\n",
      "Start Date: 19920506, End Date: 19920508\n",
      "Downloading data from refinitiv...\n",
      "(205, 71)\n",
      "Master shape: (2369, 71)\n",
      "Start Date: 19920509, End Date: 19920511\n",
      "Downloading data from refinitiv...\n",
      "(81, 71)\n",
      "Master shape: (2450, 71)\n",
      "Start Date: 19920512, End Date: 19920514\n",
      "Downloading data from refinitiv...\n",
      "(215, 71)\n",
      "Master shape: (2665, 71)\n",
      "Start Date: 19920515, End Date: 19920517\n",
      "Downloading data from refinitiv...\n"
     ]
    },
    {
     "name": "stderr",
     "output_type": "stream",
     "text": [
      "/var/tmp/ipykernel_10925/3801902500.py:128: FutureWarning: The behavior of DataFrame concatenation with empty or all-NA entries is deprecated. In a future version, this will no longer exclude empty or all-NA columns when determining the result dtypes. To retain the old behavior, exclude the relevant entries before the concat operation.\n",
      "  master_df = pd.concat([master_df, mnas], ignore_index=True)\n"
     ]
    },
    {
     "name": "stdout",
     "output_type": "stream",
     "text": [
      "(86, 71)\n",
      "Master shape: (2751, 71)\n",
      "Start Date: 19920518, End Date: 19920520\n",
      "Downloading data from refinitiv...\n"
     ]
    },
    {
     "name": "stderr",
     "output_type": "stream",
     "text": [
      "/var/tmp/ipykernel_10925/3801902500.py:128: FutureWarning: The behavior of DataFrame concatenation with empty or all-NA entries is deprecated. In a future version, this will no longer exclude empty or all-NA columns when determining the result dtypes. To retain the old behavior, exclude the relevant entries before the concat operation.\n",
      "  master_df = pd.concat([master_df, mnas], ignore_index=True)\n"
     ]
    },
    {
     "name": "stdout",
     "output_type": "stream",
     "text": [
      "(198, 71)\n",
      "Master shape: (2949, 71)\n",
      "Start Date: 19920521, End Date: 19920523\n",
      "Downloading data from refinitiv...\n",
      "(143, 71)\n",
      "Master shape: (3092, 71)\n",
      "Appending chunk to BQ\n"
     ]
    },
    {
     "name": "stderr",
     "output_type": "stream",
     "text": [
      "/var/tmp/ipykernel_10925/3801902500.py:128: FutureWarning: The behavior of DataFrame concatenation with empty or all-NA entries is deprecated. In a future version, this will no longer exclude empty or all-NA columns when determining the result dtypes. To retain the old behavior, exclude the relevant entries before the concat operation.\n",
      "  master_df = pd.concat([master_df, mnas], ignore_index=True)\n"
     ]
    },
    {
     "name": "stdout",
     "output_type": "stream",
     "text": [
      "Data appended successfully\n",
      "Start Date: 19920524, End Date: 19920526\n",
      "Downloading data from refinitiv...\n",
      "(108, 71)\n",
      "Master shape: (108, 71)\n",
      "Start Date: 19920527, End Date: 19920529\n",
      "Downloading data from refinitiv...\n",
      "(221, 71)\n",
      "Master shape: (329, 71)\n",
      "Start Date: 19920530, End Date: 19920601\n",
      "Downloading data from refinitiv...\n",
      "(134, 71)\n",
      "Master shape: (463, 71)\n",
      "Start Date: 19920602, End Date: 19920604\n",
      "Downloading data from refinitiv...\n"
     ]
    },
    {
     "name": "stderr",
     "output_type": "stream",
     "text": [
      "/var/tmp/ipykernel_10925/3801902500.py:128: FutureWarning: The behavior of DataFrame concatenation with empty or all-NA entries is deprecated. In a future version, this will no longer exclude empty or all-NA columns when determining the result dtypes. To retain the old behavior, exclude the relevant entries before the concat operation.\n",
      "  master_df = pd.concat([master_df, mnas], ignore_index=True)\n",
      "ERROR!!! An error occurred while requesting URL('https://api.refinitiv.com/data/datagrid/beta1/').\n",
      "     ReadTimeout('')\n"
     ]
    },
    {
     "name": "stdout",
     "output_type": "stream",
     "text": [
      "An error occurred: . Retrying for the range 19920602 to 19920604...\n",
      "Start Date: 19920602, End Date: 19920604\n",
      "Downloading data from refinitiv...\n"
     ]
    },
    {
     "name": "stderr",
     "output_type": "stream",
     "text": [
      "ERROR!!! An error occurred while requesting URL('https://api.refinitiv.com/data/datagrid/beta1/').\n",
      "     ReadTimeout('')\n"
     ]
    },
    {
     "name": "stdout",
     "output_type": "stream",
     "text": [
      "An error occurred: . Retrying for the range 19920602 to 19920604...\n",
      "Start Date: 19920602, End Date: 19920604\n",
      "Downloading data from refinitiv...\n",
      "(212, 71)\n",
      "Master shape: (675, 71)\n",
      "Start Date: 19920605, End Date: 19920607\n",
      "Downloading data from refinitiv...\n",
      "(62, 71)\n",
      "Master shape: (737, 71)\n",
      "Start Date: 19920608, End Date: 19920610\n",
      "Downloading data from refinitiv...\n"
     ]
    },
    {
     "name": "stderr",
     "output_type": "stream",
     "text": [
      "/var/tmp/ipykernel_10925/3801902500.py:128: FutureWarning: The behavior of DataFrame concatenation with empty or all-NA entries is deprecated. In a future version, this will no longer exclude empty or all-NA columns when determining the result dtypes. To retain the old behavior, exclude the relevant entries before the concat operation.\n",
      "  master_df = pd.concat([master_df, mnas], ignore_index=True)\n"
     ]
    },
    {
     "name": "stdout",
     "output_type": "stream",
     "text": [
      "(204, 71)\n",
      "Master shape: (941, 71)\n",
      "Start Date: 19920611, End Date: 19920613\n",
      "Downloading data from refinitiv...\n"
     ]
    },
    {
     "name": "stderr",
     "output_type": "stream",
     "text": [
      "ERROR!!! An error occurred while requesting URL('https://api.refinitiv.com/data/datagrid/beta1/').\n",
      "     ReadTimeout('')\n"
     ]
    },
    {
     "name": "stdout",
     "output_type": "stream",
     "text": [
      "An error occurred: . Retrying for the range 19920611 to 19920613...\n",
      "Start Date: 19920611, End Date: 19920613\n",
      "Downloading data from refinitiv...\n",
      "(164, 71)\n",
      "Master shape: (1105, 71)\n",
      "Start Date: 19920614, End Date: 19920616\n",
      "Downloading data from refinitiv...\n",
      "(142, 71)\n",
      "Master shape: (1247, 71)\n",
      "Start Date: 19920617, End Date: 19920619\n",
      "Downloading data from refinitiv...\n",
      "(203, 71)\n",
      "Master shape: (1450, 71)\n",
      "Start Date: 19920620, End Date: 19920622\n",
      "Downloading data from refinitiv...\n",
      "(87, 71)\n",
      "Master shape: (1537, 71)\n",
      "Start Date: 19920623, End Date: 19920625\n",
      "Downloading data from refinitiv...\n",
      "(209, 71)\n",
      "Master shape: (1746, 71)\n",
      "Start Date: 19920626, End Date: 19920628\n",
      "Downloading data from refinitiv...\n",
      "(101, 71)\n",
      "Master shape: (1847, 71)\n",
      "Start Date: 19920629, End Date: 19920701\n",
      "Downloading data from refinitiv...\n",
      "(412, 71)\n",
      "Master shape: (2259, 71)\n",
      "Start Date: 19920702, End Date: 19920704\n",
      "Downloading data from refinitiv...\n",
      "(123, 71)\n",
      "Master shape: (2382, 71)\n",
      "Start Date: 19920705, End Date: 19920707\n",
      "Downloading data from refinitiv...\n"
     ]
    },
    {
     "name": "stderr",
     "output_type": "stream",
     "text": [
      "/var/tmp/ipykernel_10925/3801902500.py:128: FutureWarning: The behavior of DataFrame concatenation with empty or all-NA entries is deprecated. In a future version, this will no longer exclude empty or all-NA columns when determining the result dtypes. To retain the old behavior, exclude the relevant entries before the concat operation.\n",
      "  master_df = pd.concat([master_df, mnas], ignore_index=True)\n"
     ]
    },
    {
     "name": "stdout",
     "output_type": "stream",
     "text": [
      "(157, 71)\n",
      "Master shape: (2539, 71)\n",
      "Start Date: 19920708, End Date: 19920710\n",
      "Downloading data from refinitiv...\n",
      "(198, 71)\n",
      "Master shape: (2737, 71)\n",
      "Start Date: 19920711, End Date: 19920713\n",
      "Downloading data from refinitiv...\n",
      "(80, 71)\n",
      "Master shape: (2817, 71)\n",
      "Start Date: 19920714, End Date: 19920716\n",
      "Downloading data from refinitiv...\n",
      "(221, 71)\n",
      "Master shape: (3038, 71)\n",
      "Start Date: 19920717, End Date: 19920719\n",
      "Downloading data from refinitiv...\n",
      "(87, 71)\n",
      "Master shape: (3125, 71)\n",
      "Start Date: 19920720, End Date: 19920722\n",
      "Downloading data from refinitiv...\n"
     ]
    },
    {
     "name": "stderr",
     "output_type": "stream",
     "text": [
      "/var/tmp/ipykernel_10925/3801902500.py:128: FutureWarning: The behavior of DataFrame concatenation with empty or all-NA entries is deprecated. In a future version, this will no longer exclude empty or all-NA columns when determining the result dtypes. To retain the old behavior, exclude the relevant entries before the concat operation.\n",
      "  master_df = pd.concat([master_df, mnas], ignore_index=True)\n"
     ]
    },
    {
     "name": "stdout",
     "output_type": "stream",
     "text": [
      "(226, 71)\n",
      "Master shape: (3351, 71)\n",
      "Appending chunk to BQ\n",
      "Data appended successfully\n",
      "Start Date: 19920723, End Date: 19920725\n",
      "Downloading data from refinitiv...\n",
      "(119, 71)\n",
      "Master shape: (119, 71)\n",
      "Start Date: 19920726, End Date: 19920728\n",
      "Downloading data from refinitiv...\n",
      "(125, 71)\n",
      "Master shape: (244, 71)\n",
      "Start Date: 19920729, End Date: 19920731\n",
      "Downloading data from refinitiv...\n"
     ]
    },
    {
     "name": "stderr",
     "output_type": "stream",
     "text": [
      "/var/tmp/ipykernel_10925/3801902500.py:128: FutureWarning: The behavior of DataFrame concatenation with empty or all-NA entries is deprecated. In a future version, this will no longer exclude empty or all-NA columns when determining the result dtypes. To retain the old behavior, exclude the relevant entries before the concat operation.\n",
      "  master_df = pd.concat([master_df, mnas], ignore_index=True)\n"
     ]
    },
    {
     "name": "stdout",
     "output_type": "stream",
     "text": [
      "(264, 71)\n",
      "Master shape: (508, 71)\n",
      "Start Date: 19920801, End Date: 19920803\n",
      "Downloading data from refinitiv...\n"
     ]
    },
    {
     "name": "stderr",
     "output_type": "stream",
     "text": [
      "ERROR!!! An error occurred while requesting URL('https://api.refinitiv.com/data/datagrid/beta1/').\n",
      "     ReadTimeout('')\n"
     ]
    },
    {
     "name": "stdout",
     "output_type": "stream",
     "text": [
      "An error occurred: . Retrying for the range 19920801 to 19920803...\n",
      "Start Date: 19920801, End Date: 19920803\n",
      "Downloading data from refinitiv...\n"
     ]
    },
    {
     "name": "stderr",
     "output_type": "stream",
     "text": [
      "ERROR!!! An error occurred while requesting URL('https://api.refinitiv.com/data/datagrid/beta1/').\n",
      "     ReadTimeout('')\n"
     ]
    },
    {
     "name": "stdout",
     "output_type": "stream",
     "text": [
      "An error occurred: . Retrying for the range 19920801 to 19920803...\n",
      "Start Date: 19920801, End Date: 19920803\n",
      "Downloading data from refinitiv...\n",
      "(81, 71)\n",
      "Master shape: (589, 71)\n",
      "Start Date: 19920804, End Date: 19920806\n",
      "Downloading data from refinitiv...\n",
      "(187, 71)\n",
      "Master shape: (776, 71)\n",
      "Start Date: 19920807, End Date: 19920809\n",
      "Downloading data from refinitiv...\n",
      "(60, 71)\n",
      "Master shape: (836, 71)\n",
      "Start Date: 19920810, End Date: 19920812\n",
      "Downloading data from refinitiv...\n"
     ]
    },
    {
     "name": "stderr",
     "output_type": "stream",
     "text": [
      "/var/tmp/ipykernel_10925/3801902500.py:128: FutureWarning: The behavior of DataFrame concatenation with empty or all-NA entries is deprecated. In a future version, this will no longer exclude empty or all-NA columns when determining the result dtypes. To retain the old behavior, exclude the relevant entries before the concat operation.\n",
      "  master_df = pd.concat([master_df, mnas], ignore_index=True)\n"
     ]
    },
    {
     "name": "stdout",
     "output_type": "stream",
     "text": [
      "(185, 71)\n",
      "Master shape: (1021, 71)\n",
      "Start Date: 19920813, End Date: 19920815\n",
      "Downloading data from refinitiv...\n",
      "(116, 71)\n",
      "Master shape: (1137, 71)\n",
      "Start Date: 19920816, End Date: 19920818\n",
      "Downloading data from refinitiv...\n",
      "(118, 71)\n",
      "Master shape: (1255, 71)\n",
      "Start Date: 19920819, End Date: 19920821\n",
      "Downloading data from refinitiv...\n",
      "(189, 71)\n",
      "Master shape: (1444, 71)\n",
      "Start Date: 19920822, End Date: 19920824\n",
      "Downloading data from refinitiv...\n",
      "(81, 71)\n",
      "Master shape: (1525, 71)\n",
      "Start Date: 19920825, End Date: 19920827\n",
      "Downloading data from refinitiv...\n"
     ]
    },
    {
     "name": "stderr",
     "output_type": "stream",
     "text": [
      "/var/tmp/ipykernel_10925/3801902500.py:128: FutureWarning: The behavior of DataFrame concatenation with empty or all-NA entries is deprecated. In a future version, this will no longer exclude empty or all-NA columns when determining the result dtypes. To retain the old behavior, exclude the relevant entries before the concat operation.\n",
      "  master_df = pd.concat([master_df, mnas], ignore_index=True)\n"
     ]
    },
    {
     "name": "stdout",
     "output_type": "stream",
     "text": [
      "(163, 71)\n",
      "Master shape: (1688, 71)\n",
      "Start Date: 19920828, End Date: 19920830\n",
      "Downloading data from refinitiv...\n",
      "(58, 71)\n",
      "Master shape: (1746, 71)\n",
      "Start Date: 19920831, End Date: 19920902\n",
      "Downloading data from refinitiv...\n"
     ]
    },
    {
     "name": "stderr",
     "output_type": "stream",
     "text": [
      "/var/tmp/ipykernel_10925/3801902500.py:128: FutureWarning: The behavior of DataFrame concatenation with empty or all-NA entries is deprecated. In a future version, this will no longer exclude empty or all-NA columns when determining the result dtypes. To retain the old behavior, exclude the relevant entries before the concat operation.\n",
      "  master_df = pd.concat([master_df, mnas], ignore_index=True)\n"
     ]
    },
    {
     "name": "stdout",
     "output_type": "stream",
     "text": [
      "(240, 71)\n",
      "Master shape: (1986, 71)\n",
      "Start Date: 19920903, End Date: 19920905\n",
      "Downloading data from refinitiv...\n",
      "(95, 71)\n",
      "Master shape: (2081, 71)\n",
      "Start Date: 19920906, End Date: 19920908\n",
      "Downloading data from refinitiv...\n",
      "(103, 71)\n",
      "Master shape: (2184, 71)\n",
      "Start Date: 19920909, End Date: 19920911\n",
      "Downloading data from refinitiv...\n",
      "(191, 71)\n",
      "Master shape: (2375, 71)\n",
      "Start Date: 19920912, End Date: 19920914\n",
      "Downloading data from refinitiv...\n"
     ]
    },
    {
     "name": "stderr",
     "output_type": "stream",
     "text": [
      "ERROR!!! An error occurred while requesting URL('https://api.refinitiv.com/data/datagrid/beta1/').\n",
      "     ReadTimeout('')\n"
     ]
    },
    {
     "name": "stdout",
     "output_type": "stream",
     "text": [
      "An error occurred: . Retrying for the range 19920912 to 19920914...\n",
      "Start Date: 19920912, End Date: 19920914\n",
      "Downloading data from refinitiv...\n",
      "(84, 71)\n",
      "Master shape: (2459, 71)\n",
      "Start Date: 19920915, End Date: 19920917\n",
      "Downloading data from refinitiv...\n"
     ]
    },
    {
     "name": "stderr",
     "output_type": "stream",
     "text": [
      "/var/tmp/ipykernel_10925/3801902500.py:128: FutureWarning: The behavior of DataFrame concatenation with empty or all-NA entries is deprecated. In a future version, this will no longer exclude empty or all-NA columns when determining the result dtypes. To retain the old behavior, exclude the relevant entries before the concat operation.\n",
      "  master_df = pd.concat([master_df, mnas], ignore_index=True)\n"
     ]
    },
    {
     "name": "stdout",
     "output_type": "stream",
     "text": [
      "(202, 71)\n",
      "Master shape: (2661, 71)\n",
      "Start Date: 19920918, End Date: 19920920\n",
      "Downloading data from refinitiv...\n",
      "(66, 71)\n",
      "Master shape: (2727, 71)\n",
      "Appending chunk to BQ\n"
     ]
    },
    {
     "name": "stderr",
     "output_type": "stream",
     "text": [
      "/var/tmp/ipykernel_10925/3801902500.py:128: FutureWarning: The behavior of DataFrame concatenation with empty or all-NA entries is deprecated. In a future version, this will no longer exclude empty or all-NA columns when determining the result dtypes. To retain the old behavior, exclude the relevant entries before the concat operation.\n",
      "  master_df = pd.concat([master_df, mnas], ignore_index=True)\n"
     ]
    },
    {
     "name": "stdout",
     "output_type": "stream",
     "text": [
      "Data appended successfully\n",
      "Start Date: 19920921, End Date: 19920923\n",
      "Downloading data from refinitiv...\n",
      "(209, 71)\n",
      "Master shape: (209, 71)\n",
      "Start Date: 19920924, End Date: 19920926\n",
      "Downloading data from refinitiv...\n",
      "(129, 71)\n",
      "Master shape: (338, 71)\n",
      "Start Date: 19920927, End Date: 19920929\n",
      "Downloading data from refinitiv...\n",
      "(115, 71)\n",
      "Master shape: (453, 71)\n",
      "Start Date: 19920930, End Date: 19921002\n",
      "Downloading data from refinitiv...\n",
      "(330, 71)\n",
      "Master shape: (783, 71)\n",
      "Start Date: 19921003, End Date: 19921005\n",
      "Downloading data from refinitiv...\n",
      "(77, 71)\n",
      "Master shape: (860, 71)\n",
      "Start Date: 19921006, End Date: 19921008\n",
      "Downloading data from refinitiv...\n",
      "(171, 71)\n",
      "Master shape: (1031, 71)\n",
      "Start Date: 19921009, End Date: 19921011\n",
      "Downloading data from refinitiv...\n",
      "(63, 71)\n",
      "Master shape: (1094, 71)\n",
      "Start Date: 19921012, End Date: 19921014\n",
      "Downloading data from refinitiv...\n",
      "(181, 71)\n",
      "Master shape: (1275, 71)\n",
      "Start Date: 19921015, End Date: 19921017\n",
      "Downloading data from refinitiv...\n",
      "(153, 71)\n",
      "Master shape: (1428, 71)\n",
      "Start Date: 19921018, End Date: 19921020\n",
      "Downloading data from refinitiv...\n"
     ]
    },
    {
     "name": "stderr",
     "output_type": "stream",
     "text": [
      "/var/tmp/ipykernel_10925/3801902500.py:128: FutureWarning: The behavior of DataFrame concatenation with empty or all-NA entries is deprecated. In a future version, this will no longer exclude empty or all-NA columns when determining the result dtypes. To retain the old behavior, exclude the relevant entries before the concat operation.\n",
      "  master_df = pd.concat([master_df, mnas], ignore_index=True)\n"
     ]
    },
    {
     "name": "stdout",
     "output_type": "stream",
     "text": [
      "(145, 71)\n",
      "Master shape: (1573, 71)\n",
      "Start Date: 19921021, End Date: 19921023\n",
      "Downloading data from refinitiv...\n",
      "(209, 71)\n",
      "Master shape: (1782, 71)\n",
      "Start Date: 19921024, End Date: 19921026\n",
      "Downloading data from refinitiv...\n"
     ]
    },
    {
     "name": "stderr",
     "output_type": "stream",
     "text": [
      "/var/tmp/ipykernel_10925/3801902500.py:128: FutureWarning: The behavior of DataFrame concatenation with empty or all-NA entries is deprecated. In a future version, this will no longer exclude empty or all-NA columns when determining the result dtypes. To retain the old behavior, exclude the relevant entries before the concat operation.\n",
      "  master_df = pd.concat([master_df, mnas], ignore_index=True)\n",
      "ERROR!!! An error occurred while requesting URL('https://api.refinitiv.com/data/datagrid/beta1/').\n",
      "     ReadTimeout('')\n"
     ]
    },
    {
     "name": "stdout",
     "output_type": "stream",
     "text": [
      "An error occurred: . Retrying for the range 19921024 to 19921026...\n",
      "Start Date: 19921024, End Date: 19921026\n",
      "Downloading data from refinitiv...\n",
      "(76, 71)\n",
      "Master shape: (1858, 71)\n",
      "Start Date: 19921027, End Date: 19921029\n",
      "Downloading data from refinitiv...\n"
     ]
    },
    {
     "name": "stderr",
     "output_type": "stream",
     "text": [
      "/var/tmp/ipykernel_10925/3801902500.py:128: FutureWarning: The behavior of DataFrame concatenation with empty or all-NA entries is deprecated. In a future version, this will no longer exclude empty or all-NA columns when determining the result dtypes. To retain the old behavior, exclude the relevant entries before the concat operation.\n",
      "  master_df = pd.concat([master_df, mnas], ignore_index=True)\n"
     ]
    },
    {
     "name": "stdout",
     "output_type": "stream",
     "text": [
      "(190, 71)\n",
      "Master shape: (2048, 71)\n",
      "Start Date: 19921030, End Date: 19921101\n",
      "Downloading data from refinitiv...\n",
      "(129, 71)\n",
      "Master shape: (2177, 71)\n",
      "Start Date: 19921102, End Date: 19921104\n",
      "Downloading data from refinitiv...\n"
     ]
    },
    {
     "name": "stderr",
     "output_type": "stream",
     "text": [
      "/var/tmp/ipykernel_10925/3801902500.py:128: FutureWarning: The behavior of DataFrame concatenation with empty or all-NA entries is deprecated. In a future version, this will no longer exclude empty or all-NA columns when determining the result dtypes. To retain the old behavior, exclude the relevant entries before the concat operation.\n",
      "  master_df = pd.concat([master_df, mnas], ignore_index=True)\n"
     ]
    },
    {
     "name": "stdout",
     "output_type": "stream",
     "text": [
      "(249, 71)\n",
      "Master shape: (2426, 71)\n",
      "Start Date: 19921105, End Date: 19921107\n",
      "Downloading data from refinitiv...\n",
      "(152, 71)\n",
      "Master shape: (2578, 71)\n",
      "Start Date: 19921108, End Date: 19921110\n",
      "Downloading data from refinitiv...\n",
      "(136, 71)\n",
      "Master shape: (2714, 71)\n",
      "Start Date: 19921111, End Date: 19921113\n",
      "Downloading data from refinitiv...\n",
      "(265, 71)\n",
      "Master shape: (2979, 71)\n",
      "Start Date: 19921114, End Date: 19921116\n",
      "Downloading data from refinitiv...\n",
      "(119, 71)\n",
      "Master shape: (3098, 71)\n",
      "Start Date: 19921117, End Date: 19921119\n",
      "Downloading data from refinitiv...\n"
     ]
    },
    {
     "name": "stderr",
     "output_type": "stream",
     "text": [
      "/var/tmp/ipykernel_10925/3801902500.py:128: FutureWarning: The behavior of DataFrame concatenation with empty or all-NA entries is deprecated. In a future version, this will no longer exclude empty or all-NA columns when determining the result dtypes. To retain the old behavior, exclude the relevant entries before the concat operation.\n",
      "  master_df = pd.concat([master_df, mnas], ignore_index=True)\n",
      "ERROR!!! An error occurred while requesting URL('https://api.refinitiv.com/data/datagrid/beta1/').\n",
      "     ReadTimeout('')\n"
     ]
    },
    {
     "name": "stdout",
     "output_type": "stream",
     "text": [
      "An error occurred: . Retrying for the range 19921117 to 19921119...\n",
      "Start Date: 19921117, End Date: 19921119\n",
      "Downloading data from refinitiv...\n",
      "(221, 71)\n",
      "Master shape: (3319, 71)\n",
      "Appending chunk to BQ\n",
      "Data appended successfully\n",
      "Start Date: 19921120, End Date: 19921122\n",
      "Downloading data from refinitiv...\n",
      "(89, 71)\n",
      "Master shape: (89, 71)\n",
      "Start Date: 19921123, End Date: 19921125\n",
      "Downloading data from refinitiv...\n",
      "(217, 71)\n",
      "Master shape: (306, 71)\n",
      "Start Date: 19921126, End Date: 19921128\n",
      "Downloading data from refinitiv...\n",
      "(100, 71)\n",
      "Master shape: (406, 71)\n",
      "Start Date: 19921129, End Date: 19921201\n",
      "Downloading data from refinitiv...\n"
     ]
    },
    {
     "name": "stderr",
     "output_type": "stream",
     "text": [
      "/var/tmp/ipykernel_10925/3801902500.py:128: FutureWarning: The behavior of DataFrame concatenation with empty or all-NA entries is deprecated. In a future version, this will no longer exclude empty or all-NA columns when determining the result dtypes. To retain the old behavior, exclude the relevant entries before the concat operation.\n",
      "  master_df = pd.concat([master_df, mnas], ignore_index=True)\n"
     ]
    },
    {
     "name": "stdout",
     "output_type": "stream",
     "text": [
      "(232, 71)\n",
      "Master shape: (638, 71)\n",
      "Start Date: 19921202, End Date: 19921204\n",
      "Downloading data from refinitiv...\n",
      "(276, 71)\n",
      "Master shape: (914, 71)\n",
      "Start Date: 19921205, End Date: 19921207\n",
      "Downloading data from refinitiv...\n",
      "(111, 71)\n",
      "Master shape: (1025, 71)\n",
      "Start Date: 19921208, End Date: 19921210\n",
      "Downloading data from refinitiv...\n"
     ]
    },
    {
     "name": "stderr",
     "output_type": "stream",
     "text": [
      "/var/tmp/ipykernel_10925/3801902500.py:128: FutureWarning: The behavior of DataFrame concatenation with empty or all-NA entries is deprecated. In a future version, this will no longer exclude empty or all-NA columns when determining the result dtypes. To retain the old behavior, exclude the relevant entries before the concat operation.\n",
      "  master_df = pd.concat([master_df, mnas], ignore_index=True)\n"
     ]
    },
    {
     "name": "stdout",
     "output_type": "stream",
     "text": [
      "(242, 71)\n",
      "Master shape: (1267, 71)\n",
      "Start Date: 19921211, End Date: 19921213\n",
      "Downloading data from refinitiv...\n",
      "(98, 71)\n",
      "Master shape: (1365, 71)\n",
      "Start Date: 19921214, End Date: 19921216\n",
      "Downloading data from refinitiv...\n"
     ]
    },
    {
     "name": "stderr",
     "output_type": "stream",
     "text": [
      "/var/tmp/ipykernel_10925/3801902500.py:128: FutureWarning: The behavior of DataFrame concatenation with empty or all-NA entries is deprecated. In a future version, this will no longer exclude empty or all-NA columns when determining the result dtypes. To retain the old behavior, exclude the relevant entries before the concat operation.\n",
      "  master_df = pd.concat([master_df, mnas], ignore_index=True)\n"
     ]
    },
    {
     "name": "stdout",
     "output_type": "stream",
     "text": [
      "(268, 71)\n",
      "Master shape: (1633, 71)\n",
      "Start Date: 19921217, End Date: 19921219\n",
      "Downloading data from refinitiv...\n",
      "(201, 71)\n",
      "Master shape: (1834, 71)\n",
      "Start Date: 19921220, End Date: 19921222\n",
      "Downloading data from refinitiv...\n",
      "(200, 71)\n",
      "Master shape: (2034, 71)\n",
      "Start Date: 19921223, End Date: 19921225\n",
      "Downloading data from refinitiv...\n",
      "(155, 71)\n",
      "Master shape: (2189, 71)\n",
      "Start Date: 19921226, End Date: 19921228\n",
      "Downloading data from refinitiv...\n",
      "(49, 71)\n",
      "Master shape: (2238, 71)\n",
      "Start Date: 19921229, End Date: 19921231\n",
      "Downloading data from refinitiv...\n"
     ]
    },
    {
     "name": "stderr",
     "output_type": "stream",
     "text": [
      "/var/tmp/ipykernel_10925/3801902500.py:128: FutureWarning: The behavior of DataFrame concatenation with empty or all-NA entries is deprecated. In a future version, this will no longer exclude empty or all-NA columns when determining the result dtypes. To retain the old behavior, exclude the relevant entries before the concat operation.\n",
      "  master_df = pd.concat([master_df, mnas], ignore_index=True)\n"
     ]
    },
    {
     "name": "stdout",
     "output_type": "stream",
     "text": [
      "(421, 71)\n",
      "Master shape: (2659, 71)\n",
      "Start Date: 19930101, End Date: 19930103\n",
      "Downloading data from refinitiv...\n"
     ]
    },
    {
     "name": "stderr",
     "output_type": "stream",
     "text": [
      "/var/tmp/ipykernel_10925/3801902500.py:128: FutureWarning: The behavior of DataFrame concatenation with empty or all-NA entries is deprecated. In a future version, this will no longer exclude empty or all-NA columns when determining the result dtypes. To retain the old behavior, exclude the relevant entries before the concat operation.\n",
      "  master_df = pd.concat([master_df, mnas], ignore_index=True)\n",
      "ERROR!!! An error occurred while requesting URL('https://api.refinitiv.com/data/datagrid/beta1/').\n",
      "     ReadTimeout('')\n"
     ]
    },
    {
     "name": "stdout",
     "output_type": "stream",
     "text": [
      "An error occurred: . Retrying for the range 19930101 to 19930103...\n",
      "Start Date: 19930101, End Date: 19930103\n",
      "Downloading data from refinitiv...\n"
     ]
    },
    {
     "name": "stderr",
     "output_type": "stream",
     "text": [
      "ERROR!!! An error occurred while requesting URL('https://api.refinitiv.com/data/datagrid/beta1/').\n",
      "     ReadTimeout('')\n"
     ]
    },
    {
     "name": "stdout",
     "output_type": "stream",
     "text": [
      "An error occurred: . Retrying for the range 19930101 to 19930103...\n",
      "Start Date: 19930101, End Date: 19930103\n",
      "Downloading data from refinitiv...\n",
      "(107, 71)\n",
      "Master shape: (2766, 71)\n",
      "Start Date: 19930104, End Date: 19930106\n",
      "Downloading data from refinitiv...\n"
     ]
    },
    {
     "name": "stderr",
     "output_type": "stream",
     "text": [
      "/var/tmp/ipykernel_10925/3801902500.py:128: FutureWarning: The behavior of DataFrame concatenation with empty or all-NA entries is deprecated. In a future version, this will no longer exclude empty or all-NA columns when determining the result dtypes. To retain the old behavior, exclude the relevant entries before the concat operation.\n",
      "  master_df = pd.concat([master_df, mnas], ignore_index=True)\n"
     ]
    },
    {
     "name": "stdout",
     "output_type": "stream",
     "text": [
      "(269, 71)\n",
      "Master shape: (3035, 71)\n",
      "Start Date: 19930107, End Date: 19930109\n",
      "Downloading data from refinitiv...\n"
     ]
    },
    {
     "name": "stderr",
     "output_type": "stream",
     "text": [
      "ERROR!!! An error occurred while requesting URL('https://api.refinitiv.com/data/datagrid/beta1/').\n",
      "     ReadTimeout('')\n"
     ]
    },
    {
     "name": "stdout",
     "output_type": "stream",
     "text": [
      "An error occurred: . Retrying for the range 19930107 to 19930109...\n",
      "Start Date: 19930107, End Date: 19930109\n",
      "Downloading data from refinitiv...\n",
      "(176, 71)\n",
      "Master shape: (3211, 71)\n",
      "Start Date: 19930110, End Date: 19930112\n",
      "Downloading data from refinitiv...\n",
      "(166, 71)\n",
      "Master shape: (3377, 71)\n",
      "Start Date: 19930113, End Date: 19930115\n",
      "Downloading data from refinitiv...\n"
     ]
    },
    {
     "name": "stderr",
     "output_type": "stream",
     "text": [
      "/var/tmp/ipykernel_10925/3801902500.py:128: FutureWarning: The behavior of DataFrame concatenation with empty or all-NA entries is deprecated. In a future version, this will no longer exclude empty or all-NA columns when determining the result dtypes. To retain the old behavior, exclude the relevant entries before the concat operation.\n",
      "  master_df = pd.concat([master_df, mnas], ignore_index=True)\n"
     ]
    },
    {
     "name": "stdout",
     "output_type": "stream",
     "text": [
      "(233, 71)\n",
      "Master shape: (3610, 71)\n",
      "Start Date: 19930116, End Date: 19930118\n",
      "Downloading data from refinitiv...\n",
      "(61, 71)\n",
      "Master shape: (3671, 71)\n",
      "Appending chunk to BQ\n",
      "Data appended successfully\n",
      "Start Date: 19930119, End Date: 19930121\n",
      "Downloading data from refinitiv...\n",
      "(230, 71)\n",
      "Master shape: (230, 71)\n",
      "Start Date: 19930122, End Date: 19930124\n",
      "Downloading data from refinitiv...\n",
      "(85, 71)\n",
      "Master shape: (315, 71)\n",
      "Start Date: 19930125, End Date: 19930127\n",
      "Downloading data from refinitiv...\n",
      "(226, 71)\n",
      "Master shape: (541, 71)\n",
      "Start Date: 19930128, End Date: 19930130\n",
      "Downloading data from refinitiv...\n",
      "(203, 71)\n",
      "Master shape: (744, 71)\n",
      "Start Date: 19930131, End Date: 19930202\n",
      "Downloading data from refinitiv...\n",
      "(193, 71)\n",
      "Master shape: (937, 71)\n",
      "Start Date: 19930203, End Date: 19930205\n",
      "Downloading data from refinitiv...\n",
      "(233, 71)\n",
      "Master shape: (1170, 71)\n",
      "Start Date: 19930206, End Date: 19930208\n",
      "Downloading data from refinitiv...\n",
      "(83, 71)\n",
      "Master shape: (1253, 71)\n",
      "Start Date: 19930209, End Date: 19930211\n",
      "Downloading data from refinitiv...\n",
      "(230, 71)\n",
      "Master shape: (1483, 71)\n",
      "Start Date: 19930212, End Date: 19930214\n",
      "Downloading data from refinitiv...\n",
      "(87, 71)\n",
      "Master shape: (1570, 71)\n",
      "Start Date: 19930215, End Date: 19930217\n",
      "Downloading data from refinitiv...\n",
      "(210, 71)\n",
      "Master shape: (1780, 71)\n",
      "Start Date: 19930218, End Date: 19930220\n",
      "Downloading data from refinitiv...\n",
      "(152, 71)\n",
      "Master shape: (1932, 71)\n",
      "Start Date: 19930221, End Date: 19930223\n",
      "Downloading data from refinitiv...\n",
      "(135, 71)\n",
      "Master shape: (2067, 71)\n",
      "Start Date: 19930224, End Date: 19930226\n",
      "Downloading data from refinitiv...\n",
      "(228, 71)\n",
      "Master shape: (2295, 71)\n",
      "Start Date: 19930227, End Date: 19930301\n",
      "Downloading data from refinitiv...\n",
      "(124, 71)\n",
      "Master shape: (2419, 71)\n",
      "Start Date: 19930302, End Date: 19930304\n",
      "Downloading data from refinitiv...\n",
      "(191, 71)\n",
      "Master shape: (2610, 71)\n",
      "Start Date: 19930305, End Date: 19930307\n",
      "Downloading data from refinitiv...\n",
      "(66, 71)\n",
      "Master shape: (2676, 71)\n",
      "Start Date: 19930308, End Date: 19930310\n",
      "Downloading data from refinitiv...\n",
      "(214, 71)\n",
      "Master shape: (2890, 71)\n",
      "Start Date: 19930311, End Date: 19930313\n",
      "Downloading data from refinitiv...\n",
      "(156, 71)\n",
      "Master shape: (3046, 71)\n",
      "Start Date: 19930314, End Date: 19930316\n",
      "Downloading data from refinitiv...\n",
      "(158, 71)\n",
      "Master shape: (3204, 71)\n",
      "Start Date: 19930317, End Date: 19930319\n",
      "Downloading data from refinitiv...\n",
      "(229, 71)\n",
      "Master shape: (3433, 71)\n",
      "Appending chunk to BQ\n",
      "Data appended successfully\n",
      "Start Date: 19930320, End Date: 19930322\n",
      "Downloading data from refinitiv...\n",
      "(80, 71)\n",
      "Master shape: (80, 71)\n",
      "Start Date: 19930323, End Date: 19930325\n",
      "Downloading data from refinitiv...\n",
      "(232, 71)\n",
      "Master shape: (312, 71)\n",
      "Start Date: 19930326, End Date: 19930328\n",
      "Downloading data from refinitiv...\n"
     ]
    },
    {
     "name": "stderr",
     "output_type": "stream",
     "text": [
      "ERROR!!! An error occurred while requesting URL('https://api.refinitiv.com/data/datagrid/beta1/').\n",
      "     ReadTimeout('')\n"
     ]
    },
    {
     "name": "stdout",
     "output_type": "stream",
     "text": [
      "An error occurred: . Retrying for the range 19930326 to 19930328...\n",
      "Start Date: 19930326, End Date: 19930328\n",
      "Downloading data from refinitiv...\n"
     ]
    },
    {
     "name": "stderr",
     "output_type": "stream",
     "text": [
      "ERROR!!! An error occurred while requesting URL('https://api.refinitiv.com/data/datagrid/beta1/').\n",
      "     ReadTimeout('')\n"
     ]
    },
    {
     "name": "stdout",
     "output_type": "stream",
     "text": [
      "An error occurred: . Retrying for the range 19930326 to 19930328...\n",
      "Start Date: 19930326, End Date: 19930328\n",
      "Downloading data from refinitiv...\n",
      "(53, 71)\n",
      "Master shape: (365, 71)\n",
      "Start Date: 19930329, End Date: 19930331\n",
      "Downloading data from refinitiv...\n",
      "(285, 71)\n",
      "Master shape: (650, 71)\n",
      "Start Date: 19930401, End Date: 19930403\n",
      "Downloading data from refinitiv...\n"
     ]
    },
    {
     "name": "stderr",
     "output_type": "stream",
     "text": [
      "/var/tmp/ipykernel_10925/3801902500.py:128: FutureWarning: The behavior of DataFrame concatenation with empty or all-NA entries is deprecated. In a future version, this will no longer exclude empty or all-NA columns when determining the result dtypes. To retain the old behavior, exclude the relevant entries before the concat operation.\n",
      "  master_df = pd.concat([master_df, mnas], ignore_index=True)\n"
     ]
    },
    {
     "name": "stdout",
     "output_type": "stream",
     "text": [
      "(207, 71)\n",
      "Master shape: (857, 71)\n",
      "Start Date: 19930404, End Date: 19930406\n",
      "Downloading data from refinitiv...\n",
      "(135, 71)\n",
      "Master shape: (992, 71)\n",
      "Start Date: 19930407, End Date: 19930409\n",
      "Downloading data from refinitiv...\n",
      "(156, 71)\n",
      "Master shape: (1148, 71)\n",
      "Start Date: 19930410, End Date: 19930412\n",
      "Downloading data from refinitiv...\n",
      "(56, 71)\n",
      "Master shape: (1204, 71)\n",
      "Start Date: 19930413, End Date: 19930415\n",
      "Downloading data from refinitiv...\n"
     ]
    },
    {
     "name": "stderr",
     "output_type": "stream",
     "text": [
      "/var/tmp/ipykernel_10925/3801902500.py:128: FutureWarning: The behavior of DataFrame concatenation with empty or all-NA entries is deprecated. In a future version, this will no longer exclude empty or all-NA columns when determining the result dtypes. To retain the old behavior, exclude the relevant entries before the concat operation.\n",
      "  master_df = pd.concat([master_df, mnas], ignore_index=True)\n"
     ]
    },
    {
     "name": "stdout",
     "output_type": "stream",
     "text": [
      "(193, 71)\n",
      "Master shape: (1397, 71)\n",
      "Start Date: 19930416, End Date: 19930418\n",
      "Downloading data from refinitiv...\n",
      "(66, 71)\n",
      "Master shape: (1463, 71)\n",
      "Start Date: 19930419, End Date: 19930421\n",
      "Downloading data from refinitiv...\n",
      "(207, 71)\n",
      "Master shape: (1670, 71)\n",
      "Start Date: 19930422, End Date: 19930424\n",
      "Downloading data from refinitiv...\n"
     ]
    },
    {
     "name": "stderr",
     "output_type": "stream",
     "text": [
      "/var/tmp/ipykernel_10925/3801902500.py:128: FutureWarning: The behavior of DataFrame concatenation with empty or all-NA entries is deprecated. In a future version, this will no longer exclude empty or all-NA columns when determining the result dtypes. To retain the old behavior, exclude the relevant entries before the concat operation.\n",
      "  master_df = pd.concat([master_df, mnas], ignore_index=True)\n",
      "ERROR!!! An error occurred while requesting URL('https://api.refinitiv.com/data/datagrid/beta1/').\n",
      "     ReadTimeout('')\n"
     ]
    },
    {
     "name": "stdout",
     "output_type": "stream",
     "text": [
      "An error occurred: . Retrying for the range 19930422 to 19930424...\n",
      "Start Date: 19930422, End Date: 19930424\n",
      "Downloading data from refinitiv...\n",
      "(148, 71)\n",
      "Master shape: (1818, 71)\n",
      "Start Date: 19930425, End Date: 19930427\n",
      "Downloading data from refinitiv...\n",
      "(134, 71)\n",
      "Master shape: (1952, 71)\n",
      "Start Date: 19930428, End Date: 19930430\n",
      "Downloading data from refinitiv...\n",
      "(244, 71)\n",
      "Master shape: (2196, 71)\n",
      "Start Date: 19930501, End Date: 19930503\n",
      "Downloading data from refinitiv...\n",
      "(112, 71)\n",
      "Master shape: (2308, 71)\n",
      "Start Date: 19930504, End Date: 19930506\n",
      "Downloading data from refinitiv...\n"
     ]
    },
    {
     "name": "stderr",
     "output_type": "stream",
     "text": [
      "ERROR!!! An error occurred while requesting URL('https://api.refinitiv.com/data/datagrid/beta1/').\n",
      "     ReadTimeout('')\n"
     ]
    },
    {
     "name": "stdout",
     "output_type": "stream",
     "text": [
      "An error occurred: . Retrying for the range 19930504 to 19930506...\n",
      "Start Date: 19930504, End Date: 19930506\n",
      "Downloading data from refinitiv...\n",
      "(222, 71)\n",
      "Master shape: (2530, 71)\n",
      "Start Date: 19930507, End Date: 19930509\n",
      "Downloading data from refinitiv...\n",
      "(93, 71)\n",
      "Master shape: (2623, 71)\n",
      "Start Date: 19930510, End Date: 19930512\n",
      "Downloading data from refinitiv...\n",
      "(258, 71)\n",
      "Master shape: (2881, 71)\n",
      "Start Date: 19930513, End Date: 19930515\n",
      "Downloading data from refinitiv...\n",
      "(174, 71)\n",
      "Master shape: (3055, 71)\n",
      "Start Date: 19930516, End Date: 19930518\n",
      "Downloading data from refinitiv...\n",
      "(150, 71)\n",
      "Master shape: (3205, 71)\n",
      "Appending chunk to BQ\n",
      "Data appended successfully\n",
      "Start Date: 19930519, End Date: 19930521\n",
      "Downloading data from refinitiv...\n",
      "(219, 71)\n",
      "Master shape: (219, 71)\n",
      "Start Date: 19930522, End Date: 19930524\n",
      "Downloading data from refinitiv...\n",
      "(117, 71)\n",
      "Master shape: (336, 71)\n",
      "Start Date: 19930525, End Date: 19930527\n",
      "Downloading data from refinitiv...\n"
     ]
    },
    {
     "name": "stderr",
     "output_type": "stream",
     "text": [
      "/var/tmp/ipykernel_10925/3801902500.py:128: FutureWarning: The behavior of DataFrame concatenation with empty or all-NA entries is deprecated. In a future version, this will no longer exclude empty or all-NA columns when determining the result dtypes. To retain the old behavior, exclude the relevant entries before the concat operation.\n",
      "  master_df = pd.concat([master_df, mnas], ignore_index=True)\n"
     ]
    },
    {
     "name": "stdout",
     "output_type": "stream",
     "text": [
      "(217, 71)\n",
      "Master shape: (553, 71)\n",
      "Start Date: 19930528, End Date: 19930530\n",
      "Downloading data from refinitiv...\n",
      "(96, 71)\n",
      "Master shape: (649, 71)\n",
      "Start Date: 19930531, End Date: 19930602\n",
      "Downloading data from refinitiv...\n"
     ]
    },
    {
     "name": "stderr",
     "output_type": "stream",
     "text": [
      "/var/tmp/ipykernel_10925/3801902500.py:128: FutureWarning: The behavior of DataFrame concatenation with empty or all-NA entries is deprecated. In a future version, this will no longer exclude empty or all-NA columns when determining the result dtypes. To retain the old behavior, exclude the relevant entries before the concat operation.\n",
      "  master_df = pd.concat([master_df, mnas], ignore_index=True)\n"
     ]
    },
    {
     "name": "stdout",
     "output_type": "stream",
     "text": [
      "(189, 71)\n",
      "Master shape: (838, 71)\n",
      "Start Date: 19930603, End Date: 19930605\n",
      "Downloading data from refinitiv...\n",
      "(143, 71)\n",
      "Master shape: (981, 71)\n",
      "Start Date: 19930606, End Date: 19930608\n",
      "Downloading data from refinitiv...\n",
      "(170, 71)\n",
      "Master shape: (1151, 71)\n",
      "Start Date: 19930609, End Date: 19930611\n",
      "Downloading data from refinitiv...\n",
      "(214, 71)\n",
      "Master shape: (1365, 71)\n",
      "Start Date: 19930612, End Date: 19930614\n",
      "Downloading data from refinitiv...\n",
      "(75, 71)\n",
      "Master shape: (1440, 71)\n",
      "Start Date: 19930615, End Date: 19930617\n",
      "Downloading data from refinitiv...\n"
     ]
    },
    {
     "name": "stderr",
     "output_type": "stream",
     "text": [
      "/var/tmp/ipykernel_10925/3801902500.py:128: FutureWarning: The behavior of DataFrame concatenation with empty or all-NA entries is deprecated. In a future version, this will no longer exclude empty or all-NA columns when determining the result dtypes. To retain the old behavior, exclude the relevant entries before the concat operation.\n",
      "  master_df = pd.concat([master_df, mnas], ignore_index=True)\n"
     ]
    },
    {
     "name": "stdout",
     "output_type": "stream",
     "text": [
      "(234, 71)\n",
      "Master shape: (1674, 71)\n",
      "Start Date: 19930618, End Date: 19930620\n",
      "Downloading data from refinitiv...\n",
      "(75, 71)\n",
      "Master shape: (1749, 71)\n",
      "Start Date: 19930621, End Date: 19930623\n",
      "Downloading data from refinitiv...\n"
     ]
    },
    {
     "name": "stderr",
     "output_type": "stream",
     "text": [
      "/var/tmp/ipykernel_10925/3801902500.py:128: FutureWarning: The behavior of DataFrame concatenation with empty or all-NA entries is deprecated. In a future version, this will no longer exclude empty or all-NA columns when determining the result dtypes. To retain the old behavior, exclude the relevant entries before the concat operation.\n",
      "  master_df = pd.concat([master_df, mnas], ignore_index=True)\n"
     ]
    },
    {
     "name": "stdout",
     "output_type": "stream",
     "text": [
      "(255, 71)\n",
      "Master shape: (2004, 71)\n",
      "Start Date: 19930624, End Date: 19930626\n",
      "Downloading data from refinitiv...\n"
     ]
    },
    {
     "name": "stderr",
     "output_type": "stream",
     "text": [
      "ERROR!!! An error occurred while requesting URL('https://api.refinitiv.com/data/datagrid/beta1/').\n",
      "     ReadTimeout('')\n"
     ]
    },
    {
     "name": "stdout",
     "output_type": "stream",
     "text": [
      "An error occurred: . Retrying for the range 19930624 to 19930626...\n",
      "Start Date: 19930624, End Date: 19930626\n",
      "Downloading data from refinitiv...\n",
      "(150, 71)\n",
      "Master shape: (2154, 71)\n",
      "Start Date: 19930627, End Date: 19930629\n",
      "Downloading data from refinitiv...\n"
     ]
    },
    {
     "name": "stderr",
     "output_type": "stream",
     "text": [
      "/var/tmp/ipykernel_10925/3801902500.py:128: FutureWarning: The behavior of DataFrame concatenation with empty or all-NA entries is deprecated. In a future version, this will no longer exclude empty or all-NA columns when determining the result dtypes. To retain the old behavior, exclude the relevant entries before the concat operation.\n",
      "  master_df = pd.concat([master_df, mnas], ignore_index=True)\n"
     ]
    },
    {
     "name": "stdout",
     "output_type": "stream",
     "text": [
      "(176, 71)\n",
      "Master shape: (2330, 71)\n",
      "Start Date: 19930630, End Date: 19930702\n",
      "Downloading data from refinitiv...\n",
      "(416, 71)\n",
      "Master shape: (2746, 71)\n",
      "Start Date: 19930703, End Date: 19930705\n",
      "Downloading data from refinitiv...\n",
      "(56, 71)\n",
      "Master shape: (2802, 71)\n",
      "Start Date: 19930706, End Date: 19930708\n",
      "Downloading data from refinitiv...\n"
     ]
    },
    {
     "name": "stderr",
     "output_type": "stream",
     "text": [
      "/var/tmp/ipykernel_10925/3801902500.py:128: FutureWarning: The behavior of DataFrame concatenation with empty or all-NA entries is deprecated. In a future version, this will no longer exclude empty or all-NA columns when determining the result dtypes. To retain the old behavior, exclude the relevant entries before the concat operation.\n",
      "  master_df = pd.concat([master_df, mnas], ignore_index=True)\n"
     ]
    },
    {
     "name": "stdout",
     "output_type": "stream",
     "text": [
      "(238, 71)\n",
      "Master shape: (3040, 71)\n",
      "Start Date: 19930709, End Date: 19930711\n",
      "Downloading data from refinitiv...\n",
      "(79, 71)\n",
      "Master shape: (3119, 71)\n",
      "Start Date: 19930712, End Date: 19930714\n",
      "Downloading data from refinitiv...\n"
     ]
    },
    {
     "name": "stderr",
     "output_type": "stream",
     "text": [
      "/var/tmp/ipykernel_10925/3801902500.py:128: FutureWarning: The behavior of DataFrame concatenation with empty or all-NA entries is deprecated. In a future version, this will no longer exclude empty or all-NA columns when determining the result dtypes. To retain the old behavior, exclude the relevant entries before the concat operation.\n",
      "  master_df = pd.concat([master_df, mnas], ignore_index=True)\n"
     ]
    },
    {
     "name": "stdout",
     "output_type": "stream",
     "text": [
      "(220, 71)\n",
      "Master shape: (3339, 71)\n",
      "Start Date: 19930715, End Date: 19930717\n",
      "Downloading data from refinitiv...\n",
      "(141, 71)\n",
      "Master shape: (3480, 71)\n",
      "Appending chunk to BQ\n"
     ]
    },
    {
     "name": "stderr",
     "output_type": "stream",
     "text": [
      "/var/tmp/ipykernel_10925/3801902500.py:128: FutureWarning: The behavior of DataFrame concatenation with empty or all-NA entries is deprecated. In a future version, this will no longer exclude empty or all-NA columns when determining the result dtypes. To retain the old behavior, exclude the relevant entries before the concat operation.\n",
      "  master_df = pd.concat([master_df, mnas], ignore_index=True)\n"
     ]
    },
    {
     "name": "stdout",
     "output_type": "stream",
     "text": [
      "Data appended successfully\n",
      "Start Date: 19930718, End Date: 19930720\n",
      "Downloading data from refinitiv...\n",
      "(132, 71)\n",
      "Master shape: (132, 71)\n",
      "Start Date: 19930721, End Date: 19930723\n",
      "Downloading data from refinitiv...\n",
      "(234, 71)\n",
      "Master shape: (366, 71)\n",
      "Start Date: 19930724, End Date: 19930726\n",
      "Downloading data from refinitiv...\n",
      "(63, 71)\n",
      "Master shape: (429, 71)\n",
      "Start Date: 19930727, End Date: 19930729\n",
      "Downloading data from refinitiv...\n"
     ]
    },
    {
     "name": "stderr",
     "output_type": "stream",
     "text": [
      "/var/tmp/ipykernel_10925/3801902500.py:128: FutureWarning: The behavior of DataFrame concatenation with empty or all-NA entries is deprecated. In a future version, this will no longer exclude empty or all-NA columns when determining the result dtypes. To retain the old behavior, exclude the relevant entries before the concat operation.\n",
      "  master_df = pd.concat([master_df, mnas], ignore_index=True)\n"
     ]
    },
    {
     "name": "stdout",
     "output_type": "stream",
     "text": [
      "(166, 71)\n",
      "Master shape: (595, 71)\n",
      "Start Date: 19930730, End Date: 19930801\n",
      "Downloading data from refinitiv...\n",
      "(130, 71)\n",
      "Master shape: (725, 71)\n",
      "Start Date: 19930802, End Date: 19930804\n",
      "Downloading data from refinitiv...\n"
     ]
    },
    {
     "name": "stderr",
     "output_type": "stream",
     "text": [
      "/var/tmp/ipykernel_10925/3801902500.py:128: FutureWarning: The behavior of DataFrame concatenation with empty or all-NA entries is deprecated. In a future version, this will no longer exclude empty or all-NA columns when determining the result dtypes. To retain the old behavior, exclude the relevant entries before the concat operation.\n",
      "  master_df = pd.concat([master_df, mnas], ignore_index=True)\n"
     ]
    },
    {
     "name": "stdout",
     "output_type": "stream",
     "text": [
      "(264, 71)\n",
      "Master shape: (989, 71)\n",
      "Start Date: 19930805, End Date: 19930807\n",
      "Downloading data from refinitiv...\n",
      "(153, 71)\n",
      "Master shape: (1142, 71)\n",
      "Start Date: 19930808, End Date: 19930810\n",
      "Downloading data from refinitiv...\n",
      "(169, 71)\n",
      "Master shape: (1311, 71)\n",
      "Start Date: 19930811, End Date: 19930813\n",
      "Downloading data from refinitiv...\n",
      "(216, 71)\n",
      "Master shape: (1527, 71)\n",
      "Start Date: 19930814, End Date: 19930816\n",
      "Downloading data from refinitiv...\n"
     ]
    },
    {
     "name": "stderr",
     "output_type": "stream",
     "text": [
      "ERROR!!! An error occurred while requesting URL('https://api.refinitiv.com/data/datagrid/beta1/').\n",
      "     ReadTimeout('')\n"
     ]
    },
    {
     "name": "stdout",
     "output_type": "stream",
     "text": [
      "An error occurred: . Retrying for the range 19930814 to 19930816...\n",
      "Start Date: 19930814, End Date: 19930816\n",
      "Downloading data from refinitiv...\n",
      "(86, 71)\n",
      "Master shape: (1613, 71)\n",
      "Start Date: 19930817, End Date: 19930819\n",
      "Downloading data from refinitiv...\n",
      "(203, 71)\n",
      "Master shape: (1816, 71)\n",
      "Start Date: 19930820, End Date: 19930822\n",
      "Downloading data from refinitiv...\n",
      "(80, 71)\n",
      "Master shape: (1896, 71)\n",
      "Start Date: 19930823, End Date: 19930825\n",
      "Downloading data from refinitiv...\n"
     ]
    },
    {
     "name": "stderr",
     "output_type": "stream",
     "text": [
      "ERROR!!! An error occurred while requesting URL('https://api.refinitiv.com/data/datagrid/beta1/').\n",
      "     ReadTimeout('')\n"
     ]
    },
    {
     "name": "stdout",
     "output_type": "stream",
     "text": [
      "An error occurred: . Retrying for the range 19930823 to 19930825...\n",
      "Start Date: 19930823, End Date: 19930825\n",
      "Downloading data from refinitiv...\n"
     ]
    },
    {
     "name": "stderr",
     "output_type": "stream",
     "text": [
      "ERROR!!! An error occurred while requesting URL('https://api.refinitiv.com/data/datagrid/beta1/').\n",
      "     ReadTimeout('')\n"
     ]
    },
    {
     "name": "stdout",
     "output_type": "stream",
     "text": [
      "An error occurred: . Retrying for the range 19930823 to 19930825...\n",
      "Start Date: 19930823, End Date: 19930825\n",
      "Downloading data from refinitiv...\n",
      "(195, 71)\n",
      "Master shape: (2091, 71)\n",
      "Start Date: 19930826, End Date: 19930828\n",
      "Downloading data from refinitiv...\n",
      "(156, 71)\n",
      "Master shape: (2247, 71)\n",
      "Start Date: 19930829, End Date: 19930831\n",
      "Downloading data from refinitiv...\n"
     ]
    },
    {
     "name": "stderr",
     "output_type": "stream",
     "text": [
      "/var/tmp/ipykernel_10925/3801902500.py:128: FutureWarning: The behavior of DataFrame concatenation with empty or all-NA entries is deprecated. In a future version, this will no longer exclude empty or all-NA columns when determining the result dtypes. To retain the old behavior, exclude the relevant entries before the concat operation.\n",
      "  master_df = pd.concat([master_df, mnas], ignore_index=True)\n"
     ]
    },
    {
     "name": "stdout",
     "output_type": "stream",
     "text": [
      "(138, 71)\n",
      "Master shape: (2385, 71)\n",
      "Start Date: 19930901, End Date: 19930903\n",
      "Downloading data from refinitiv...\n",
      "(236, 71)\n",
      "Master shape: (2621, 71)\n",
      "Start Date: 19930904, End Date: 19930906\n",
      "Downloading data from refinitiv...\n",
      "(43, 71)\n",
      "Master shape: (2664, 71)\n",
      "Start Date: 19930907, End Date: 19930909\n",
      "Downloading data from refinitiv...\n"
     ]
    },
    {
     "name": "stderr",
     "output_type": "stream",
     "text": [
      "/var/tmp/ipykernel_10925/3801902500.py:128: FutureWarning: The behavior of DataFrame concatenation with empty or all-NA entries is deprecated. In a future version, this will no longer exclude empty or all-NA columns when determining the result dtypes. To retain the old behavior, exclude the relevant entries before the concat operation.\n",
      "  master_df = pd.concat([master_df, mnas], ignore_index=True)\n"
     ]
    },
    {
     "name": "stdout",
     "output_type": "stream",
     "text": [
      "(224, 71)\n",
      "Master shape: (2888, 71)\n",
      "Start Date: 19930910, End Date: 19930912\n",
      "Downloading data from refinitiv...\n",
      "(64, 71)\n",
      "Master shape: (2952, 71)\n",
      "Start Date: 19930913, End Date: 19930915\n",
      "Downloading data from refinitiv...\n",
      "(233, 71)\n",
      "Master shape: (3185, 71)\n",
      "Appending chunk to BQ\n",
      "Data appended successfully\n",
      "Start Date: 19930916, End Date: 19930918\n",
      "Downloading data from refinitiv...\n",
      "(144, 71)\n",
      "Master shape: (144, 71)\n",
      "Start Date: 19930919, End Date: 19930921\n",
      "Downloading data from refinitiv...\n",
      "(178, 71)\n",
      "Master shape: (322, 71)\n",
      "Start Date: 19930922, End Date: 19930924\n",
      "Downloading data from refinitiv...\n"
     ]
    },
    {
     "name": "stderr",
     "output_type": "stream",
     "text": [
      "ERROR!!! An error occurred while requesting URL('https://api.refinitiv.com/data/datagrid/beta1/').\n",
      "     ReadTimeout('')\n"
     ]
    },
    {
     "name": "stdout",
     "output_type": "stream",
     "text": [
      "An error occurred: . Retrying for the range 19930922 to 19930924...\n",
      "Start Date: 19930922, End Date: 19930924\n",
      "Downloading data from refinitiv...\n",
      "(252, 71)\n",
      "Master shape: (574, 71)\n",
      "Start Date: 19930925, End Date: 19930927\n",
      "Downloading data from refinitiv...\n",
      "(95, 71)\n",
      "Master shape: (669, 71)\n",
      "Start Date: 19930928, End Date: 19930930\n",
      "Downloading data from refinitiv...\n"
     ]
    },
    {
     "name": "stderr",
     "output_type": "stream",
     "text": [
      "/var/tmp/ipykernel_10925/3801902500.py:128: FutureWarning: The behavior of DataFrame concatenation with empty or all-NA entries is deprecated. In a future version, this will no longer exclude empty or all-NA columns when determining the result dtypes. To retain the old behavior, exclude the relevant entries before the concat operation.\n",
      "  master_df = pd.concat([master_df, mnas], ignore_index=True)\n"
     ]
    },
    {
     "name": "stdout",
     "output_type": "stream",
     "text": [
      "(298, 71)\n",
      "Master shape: (967, 71)\n",
      "Start Date: 19931001, End Date: 19931003\n",
      "Downloading data from refinitiv...\n",
      "(144, 71)\n",
      "Master shape: (1111, 71)\n",
      "Start Date: 19931004, End Date: 19931006\n",
      "Downloading data from refinitiv...\n",
      "(243, 71)\n",
      "Master shape: (1354, 71)\n",
      "Start Date: 19931007, End Date: 19931009\n",
      "Downloading data from refinitiv...\n",
      "(175, 71)\n",
      "Master shape: (1529, 71)\n",
      "Start Date: 19931010, End Date: 19931012\n",
      "Downloading data from refinitiv...\n"
     ]
    },
    {
     "name": "stderr",
     "output_type": "stream",
     "text": [
      "/var/tmp/ipykernel_10925/3801902500.py:128: FutureWarning: The behavior of DataFrame concatenation with empty or all-NA entries is deprecated. In a future version, this will no longer exclude empty or all-NA columns when determining the result dtypes. To retain the old behavior, exclude the relevant entries before the concat operation.\n",
      "  master_df = pd.concat([master_df, mnas], ignore_index=True)\n"
     ]
    },
    {
     "name": "stdout",
     "output_type": "stream",
     "text": [
      "(184, 71)\n",
      "Master shape: (1713, 71)\n",
      "Start Date: 19931013, End Date: 19931015\n",
      "Downloading data from refinitiv...\n"
     ]
    },
    {
     "name": "stderr",
     "output_type": "stream",
     "text": [
      "/var/tmp/ipykernel_10925/3801902500.py:128: FutureWarning: The behavior of DataFrame concatenation with empty or all-NA entries is deprecated. In a future version, this will no longer exclude empty or all-NA columns when determining the result dtypes. To retain the old behavior, exclude the relevant entries before the concat operation.\n",
      "  master_df = pd.concat([master_df, mnas], ignore_index=True)\n"
     ]
    },
    {
     "name": "stdout",
     "output_type": "stream",
     "text": [
      "(243, 71)\n",
      "Master shape: (1956, 71)\n",
      "Start Date: 19931016, End Date: 19931018\n",
      "Downloading data from refinitiv...\n",
      "(109, 71)\n",
      "Master shape: (2065, 71)\n",
      "Start Date: 19931019, End Date: 19931021\n",
      "Downloading data from refinitiv...\n",
      "(227, 71)\n",
      "Master shape: (2292, 71)\n",
      "Start Date: 19931022, End Date: 19931024\n",
      "Downloading data from refinitiv...\n",
      "(88, 71)\n",
      "Master shape: (2380, 71)\n",
      "Start Date: 19931025, End Date: 19931027\n",
      "Downloading data from refinitiv...\n",
      "(223, 71)\n",
      "Master shape: (2603, 71)\n",
      "Start Date: 19931028, End Date: 19931030\n",
      "Downloading data from refinitiv...\n",
      "(154, 71)\n",
      "Master shape: (2757, 71)\n",
      "Start Date: 19931031, End Date: 19931102\n",
      "Downloading data from refinitiv...\n"
     ]
    },
    {
     "name": "stderr",
     "output_type": "stream",
     "text": [
      "ERROR!!! An error occurred while requesting URL('https://api.refinitiv.com/data/datagrid/beta1/').\n",
      "     ReadTimeout('')\n"
     ]
    },
    {
     "name": "stdout",
     "output_type": "stream",
     "text": [
      "An error occurred: . Retrying for the range 19931031 to 19931102...\n",
      "Start Date: 19931031, End Date: 19931102\n",
      "Downloading data from refinitiv...\n",
      "(247, 71)\n",
      "Master shape: (3004, 71)\n",
      "Start Date: 19931103, End Date: 19931105\n",
      "Downloading data from refinitiv...\n",
      "(265, 71)\n",
      "Master shape: (3269, 71)\n",
      "Start Date: 19931106, End Date: 19931108\n",
      "Downloading data from refinitiv...\n",
      "(115, 71)\n",
      "Master shape: (3384, 71)\n",
      "Start Date: 19931109, End Date: 19931111\n",
      "Downloading data from refinitiv...\n",
      "(246, 71)\n",
      "Master shape: (3630, 71)\n",
      "Start Date: 19931112, End Date: 19931114\n",
      "Downloading data from refinitiv...\n",
      "(79, 71)\n",
      "Master shape: (3709, 71)\n",
      "Appending chunk to BQ\n",
      "Data appended successfully\n",
      "Start Date: 19931115, End Date: 19931117\n",
      "Downloading data from refinitiv...\n"
     ]
    },
    {
     "name": "stderr",
     "output_type": "stream",
     "text": [
      "ERROR!!! An error occurred while requesting URL('https://api.refinitiv.com/data/datagrid/beta1/').\n",
      "     ReadTimeout('')\n"
     ]
    },
    {
     "name": "stdout",
     "output_type": "stream",
     "text": [
      "An error occurred: . Retrying for the range 19931115 to 19931117...\n",
      "Start Date: 19931115, End Date: 19931117\n",
      "Downloading data from refinitiv...\n",
      "(250, 71)\n",
      "Master shape: (250, 71)\n",
      "Start Date: 19931118, End Date: 19931120\n",
      "Downloading data from refinitiv...\n",
      "(155, 71)\n",
      "Master shape: (405, 71)\n",
      "Start Date: 19931121, End Date: 19931123\n",
      "Downloading data from refinitiv...\n",
      "(164, 71)\n",
      "Master shape: (569, 71)\n",
      "Start Date: 19931124, End Date: 19931126\n",
      "Downloading data from refinitiv...\n",
      "(180, 71)\n",
      "Master shape: (749, 71)\n",
      "Start Date: 19931127, End Date: 19931129\n",
      "Downloading data from refinitiv...\n",
      "(101, 71)\n",
      "Master shape: (850, 71)\n",
      "Start Date: 19931130, End Date: 19931202\n",
      "Downloading data from refinitiv...\n",
      "(356, 71)\n",
      "Master shape: (1206, 71)\n",
      "Start Date: 19931203, End Date: 19931205\n",
      "Downloading data from refinitiv...\n"
     ]
    },
    {
     "name": "stderr",
     "output_type": "stream",
     "text": [
      "ERROR!!! An error occurred while requesting URL('https://api.refinitiv.com/data/datagrid/beta1/').\n",
      "     ReadTimeout('')\n"
     ]
    },
    {
     "name": "stdout",
     "output_type": "stream",
     "text": [
      "An error occurred: . Retrying for the range 19931203 to 19931205...\n",
      "Start Date: 19931203, End Date: 19931205\n",
      "Downloading data from refinitiv...\n",
      "(92, 71)\n",
      "Master shape: (1298, 71)\n",
      "Start Date: 19931206, End Date: 19931208\n",
      "Downloading data from refinitiv...\n",
      "(261, 71)\n",
      "Master shape: (1559, 71)\n",
      "Start Date: 19931209, End Date: 19931211\n",
      "Downloading data from refinitiv...\n",
      "(189, 71)\n",
      "Master shape: (1748, 71)\n",
      "Start Date: 19931212, End Date: 19931214\n",
      "Downloading data from refinitiv...\n"
     ]
    },
    {
     "name": "stderr",
     "output_type": "stream",
     "text": [
      "ERROR!!! An error occurred while requesting URL('https://api.refinitiv.com/data/datagrid/beta1/').\n",
      "     ReadTimeout('')\n"
     ]
    },
    {
     "name": "stdout",
     "output_type": "stream",
     "text": [
      "An error occurred: . Retrying for the range 19931212 to 19931214...\n",
      "Start Date: 19931212, End Date: 19931214\n",
      "Downloading data from refinitiv...\n",
      "(188, 71)\n",
      "Master shape: (1936, 71)\n",
      "Start Date: 19931215, End Date: 19931217\n",
      "Downloading data from refinitiv...\n"
     ]
    },
    {
     "name": "stderr",
     "output_type": "stream",
     "text": [
      "ERROR!!! An error occurred while requesting URL('https://api.refinitiv.com/data/datagrid/beta1/').\n",
      "     ReadTimeout('')\n"
     ]
    },
    {
     "name": "stdout",
     "output_type": "stream",
     "text": [
      "An error occurred: . Retrying for the range 19931215 to 19931217...\n",
      "Start Date: 19931215, End Date: 19931217\n",
      "Downloading data from refinitiv...\n",
      "(308, 71)\n",
      "Master shape: (2244, 71)\n",
      "Start Date: 19931218, End Date: 19931220\n",
      "Downloading data from refinitiv...\n"
     ]
    },
    {
     "name": "stderr",
     "output_type": "stream",
     "text": [
      "ERROR!!! An error occurred while requesting URL('https://api.refinitiv.com/data/datagrid/beta1/').\n",
      "     ReadTimeout('')\n"
     ]
    },
    {
     "name": "stdout",
     "output_type": "stream",
     "text": [
      "An error occurred: . Retrying for the range 19931218 to 19931220...\n",
      "Start Date: 19931218, End Date: 19931220\n",
      "Downloading data from refinitiv...\n",
      "(109, 71)\n",
      "Master shape: (2353, 71)\n",
      "Start Date: 19931221, End Date: 19931223\n",
      "Downloading data from refinitiv...\n",
      "(290, 71)\n",
      "Master shape: (2643, 71)\n",
      "Start Date: 19931224, End Date: 19931226\n",
      "Downloading data from refinitiv...\n",
      "(16, 71)\n",
      "Master shape: (2659, 71)\n",
      "Start Date: 19931227, End Date: 19931229\n",
      "Downloading data from refinitiv...\n"
     ]
    },
    {
     "name": "stderr",
     "output_type": "stream",
     "text": [
      "/var/tmp/ipykernel_10925/3801902500.py:128: FutureWarning: The behavior of DataFrame concatenation with empty or all-NA entries is deprecated. In a future version, this will no longer exclude empty or all-NA columns when determining the result dtypes. To retain the old behavior, exclude the relevant entries before the concat operation.\n",
      "  master_df = pd.concat([master_df, mnas], ignore_index=True)\n"
     ]
    },
    {
     "name": "stdout",
     "output_type": "stream",
     "text": [
      "(140, 71)\n",
      "Master shape: (2799, 71)\n",
      "Start Date: 19931230, End Date: 19940101\n",
      "Downloading data from refinitiv...\n",
      "(321, 71)\n",
      "Master shape: (3120, 71)\n",
      "Start Date: 19940102, End Date: 19940104\n",
      "Downloading data from refinitiv...\n",
      "(214, 71)\n",
      "Master shape: (3334, 71)\n",
      "Start Date: 19940105, End Date: 19940107\n",
      "Downloading data from refinitiv...\n",
      "(267, 71)\n",
      "Master shape: (3601, 71)\n",
      "Start Date: 19940108, End Date: 19940110\n",
      "Downloading data from refinitiv...\n",
      "(78, 71)\n",
      "Master shape: (3679, 71)\n",
      "Start Date: 19940111, End Date: 19940113\n",
      "Downloading data from refinitiv...\n"
     ]
    },
    {
     "name": "stderr",
     "output_type": "stream",
     "text": [
      "/var/tmp/ipykernel_10925/3801902500.py:128: FutureWarning: The behavior of DataFrame concatenation with empty or all-NA entries is deprecated. In a future version, this will no longer exclude empty or all-NA columns when determining the result dtypes. To retain the old behavior, exclude the relevant entries before the concat operation.\n",
      "  master_df = pd.concat([master_df, mnas], ignore_index=True)\n"
     ]
    },
    {
     "name": "stdout",
     "output_type": "stream",
     "text": [
      "(227, 71)\n",
      "Master shape: (3906, 71)\n",
      "Appending chunk to BQ\n",
      "Data appended successfully\n",
      "Start Date: 19940114, End Date: 19940116\n",
      "Downloading data from refinitiv...\n",
      "(87, 71)\n",
      "Master shape: (87, 71)\n",
      "Start Date: 19940117, End Date: 19940119\n",
      "Downloading data from refinitiv...\n",
      "(232, 71)\n",
      "Master shape: (319, 71)\n",
      "Start Date: 19940120, End Date: 19940122\n",
      "Downloading data from refinitiv...\n"
     ]
    },
    {
     "name": "stderr",
     "output_type": "stream",
     "text": [
      "/var/tmp/ipykernel_10925/3801902500.py:128: FutureWarning: The behavior of DataFrame concatenation with empty or all-NA entries is deprecated. In a future version, this will no longer exclude empty or all-NA columns when determining the result dtypes. To retain the old behavior, exclude the relevant entries before the concat operation.\n",
      "  master_df = pd.concat([master_df, mnas], ignore_index=True)\n"
     ]
    },
    {
     "name": "stdout",
     "output_type": "stream",
     "text": [
      "(157, 71)\n",
      "Master shape: (476, 71)\n",
      "Start Date: 19940123, End Date: 19940125\n",
      "Downloading data from refinitiv...\n",
      "(160, 71)\n",
      "Master shape: (636, 71)\n",
      "Start Date: 19940126, End Date: 19940128\n",
      "Downloading data from refinitiv...\n"
     ]
    },
    {
     "name": "stderr",
     "output_type": "stream",
     "text": [
      "ERROR!!! An error occurred while requesting URL('https://api.refinitiv.com/data/datagrid/beta1/').\n",
      "     ReadTimeout('')\n"
     ]
    },
    {
     "name": "stdout",
     "output_type": "stream",
     "text": [
      "An error occurred: . Retrying for the range 19940126 to 19940128...\n",
      "Start Date: 19940126, End Date: 19940128\n",
      "Downloading data from refinitiv...\n",
      "(213, 71)\n",
      "Master shape: (849, 71)\n",
      "Start Date: 19940129, End Date: 19940131\n",
      "Downloading data from refinitiv...\n",
      "(152, 71)\n",
      "Master shape: (1001, 71)\n",
      "Start Date: 19940201, End Date: 19940203\n",
      "Downloading data from refinitiv...\n",
      "(261, 71)\n",
      "Master shape: (1262, 71)\n",
      "Start Date: 19940204, End Date: 19940206\n",
      "Downloading data from refinitiv...\n",
      "(91, 71)\n",
      "Master shape: (1353, 71)\n",
      "Start Date: 19940207, End Date: 19940209\n",
      "Downloading data from refinitiv...\n",
      "(223, 71)\n",
      "Master shape: (1576, 71)\n",
      "Start Date: 19940210, End Date: 19940212\n",
      "Downloading data from refinitiv...\n",
      "(155, 71)\n",
      "Master shape: (1731, 71)\n",
      "Start Date: 19940213, End Date: 19940215\n",
      "Downloading data from refinitiv...\n"
     ]
    },
    {
     "name": "stderr",
     "output_type": "stream",
     "text": [
      "/var/tmp/ipykernel_10925/3801902500.py:128: FutureWarning: The behavior of DataFrame concatenation with empty or all-NA entries is deprecated. In a future version, this will no longer exclude empty or all-NA columns when determining the result dtypes. To retain the old behavior, exclude the relevant entries before the concat operation.\n",
      "  master_df = pd.concat([master_df, mnas], ignore_index=True)\n"
     ]
    },
    {
     "name": "stdout",
     "output_type": "stream",
     "text": [
      "(147, 71)\n",
      "Master shape: (1878, 71)\n",
      "Start Date: 19940216, End Date: 19940218\n",
      "Downloading data from refinitiv...\n"
     ]
    },
    {
     "name": "stderr",
     "output_type": "stream",
     "text": [
      "ERROR!!! An error occurred while requesting URL('https://api.refinitiv.com/data/datagrid/beta1/').\n",
      "     ReadTimeout('')\n"
     ]
    },
    {
     "name": "stdout",
     "output_type": "stream",
     "text": [
      "An error occurred: . Retrying for the range 19940216 to 19940218...\n",
      "Start Date: 19940216, End Date: 19940218\n",
      "Downloading data from refinitiv...\n",
      "(246, 71)\n",
      "Master shape: (2124, 71)\n",
      "Start Date: 19940219, End Date: 19940221\n",
      "Downloading data from refinitiv...\n",
      "(66, 71)\n",
      "Master shape: (2190, 71)\n",
      "Start Date: 19940222, End Date: 19940224\n",
      "Downloading data from refinitiv...\n",
      "(285, 71)\n",
      "Master shape: (2475, 71)\n",
      "Start Date: 19940225, End Date: 19940227\n",
      "Downloading data from refinitiv...\n"
     ]
    },
    {
     "name": "stderr",
     "output_type": "stream",
     "text": [
      "/var/tmp/ipykernel_10925/3801902500.py:128: FutureWarning: The behavior of DataFrame concatenation with empty or all-NA entries is deprecated. In a future version, this will no longer exclude empty or all-NA columns when determining the result dtypes. To retain the old behavior, exclude the relevant entries before the concat operation.\n",
      "  master_df = pd.concat([master_df, mnas], ignore_index=True)\n"
     ]
    },
    {
     "name": "stdout",
     "output_type": "stream",
     "text": [
      "(91, 71)\n",
      "Master shape: (2566, 71)\n",
      "Start Date: 19940228, End Date: 19940302\n",
      "Downloading data from refinitiv...\n"
     ]
    },
    {
     "name": "stderr",
     "output_type": "stream",
     "text": [
      "ERROR!!! An error occurred while requesting URL('https://api.refinitiv.com/data/datagrid/beta1/').\n",
      "     ReadTimeout('')\n"
     ]
    },
    {
     "name": "stdout",
     "output_type": "stream",
     "text": [
      "An error occurred: . Retrying for the range 19940228 to 19940302...\n",
      "Start Date: 19940228, End Date: 19940302\n",
      "Downloading data from refinitiv...\n",
      "(330, 71)\n",
      "Master shape: (2896, 71)\n",
      "Start Date: 19940303, End Date: 19940305\n",
      "Downloading data from refinitiv...\n",
      "(158, 71)\n",
      "Master shape: (3054, 71)\n",
      "Start Date: 19940306, End Date: 19940308\n",
      "Downloading data from refinitiv...\n",
      "(180, 71)\n",
      "Master shape: (3234, 71)\n",
      "Start Date: 19940309, End Date: 19940311\n",
      "Downloading data from refinitiv...\n",
      "(223, 71)\n",
      "Master shape: (3457, 71)\n",
      "Start Date: 19940312, End Date: 19940314\n",
      "Downloading data from refinitiv...\n",
      "(90, 71)\n",
      "Master shape: (3547, 71)\n",
      "Appending chunk to BQ\n",
      "Data appended successfully\n",
      "Start Date: 19940315, End Date: 19940317\n",
      "Downloading data from refinitiv...\n"
     ]
    },
    {
     "name": "stderr",
     "output_type": "stream",
     "text": [
      "ERROR!!! An error occurred while requesting URL('https://api.refinitiv.com/data/datagrid/beta1/').\n",
      "     ReadTimeout('')\n"
     ]
    },
    {
     "name": "stdout",
     "output_type": "stream",
     "text": [
      "An error occurred: . Retrying for the range 19940315 to 19940317...\n",
      "Start Date: 19940315, End Date: 19940317\n",
      "Downloading data from refinitiv...\n",
      "(220, 71)\n",
      "Master shape: (220, 71)\n",
      "Start Date: 19940318, End Date: 19940320\n",
      "Downloading data from refinitiv...\n",
      "(120, 71)\n",
      "Master shape: (340, 71)\n",
      "Start Date: 19940321, End Date: 19940323\n",
      "Downloading data from refinitiv...\n",
      "(232, 71)\n",
      "Master shape: (572, 71)\n",
      "Start Date: 19940324, End Date: 19940326\n",
      "Downloading data from refinitiv...\n",
      "(193, 71)\n",
      "Master shape: (765, 71)\n",
      "Start Date: 19940327, End Date: 19940329\n",
      "Downloading data from refinitiv...\n",
      "(169, 71)\n",
      "Master shape: (934, 71)\n",
      "Start Date: 19940330, End Date: 19940401\n",
      "Downloading data from refinitiv...\n",
      "(291, 71)\n",
      "Master shape: (1225, 71)\n",
      "Start Date: 19940402, End Date: 19940404\n",
      "Downloading data from refinitiv...\n",
      "(73, 71)\n",
      "Master shape: (1298, 71)\n",
      "Start Date: 19940405, End Date: 19940407\n",
      "Downloading data from refinitiv...\n"
     ]
    },
    {
     "name": "stderr",
     "output_type": "stream",
     "text": [
      "/var/tmp/ipykernel_10925/3801902500.py:128: FutureWarning: The behavior of DataFrame concatenation with empty or all-NA entries is deprecated. In a future version, this will no longer exclude empty or all-NA columns when determining the result dtypes. To retain the old behavior, exclude the relevant entries before the concat operation.\n",
      "  master_df = pd.concat([master_df, mnas], ignore_index=True)\n"
     ]
    },
    {
     "name": "stdout",
     "output_type": "stream",
     "text": [
      "(253, 71)\n",
      "Master shape: (1551, 71)\n",
      "Start Date: 19940408, End Date: 19940410\n",
      "Downloading data from refinitiv...\n",
      "(85, 71)\n",
      "Master shape: (1636, 71)\n",
      "Start Date: 19940411, End Date: 19940413\n",
      "Downloading data from refinitiv...\n"
     ]
    },
    {
     "name": "stderr",
     "output_type": "stream",
     "text": [
      "ERROR!!! An error occurred while requesting URL('https://api.refinitiv.com/data/datagrid/beta1/').\n",
      "     ReadTimeout('')\n"
     ]
    },
    {
     "name": "stdout",
     "output_type": "stream",
     "text": [
      "An error occurred: . Retrying for the range 19940411 to 19940413...\n",
      "Start Date: 19940411, End Date: 19940413\n",
      "Downloading data from refinitiv...\n",
      "(263, 71)\n",
      "Master shape: (1899, 71)\n",
      "Start Date: 19940414, End Date: 19940416\n",
      "Downloading data from refinitiv...\n"
     ]
    },
    {
     "name": "stderr",
     "output_type": "stream",
     "text": [
      "/var/tmp/ipykernel_10925/3801902500.py:128: FutureWarning: The behavior of DataFrame concatenation with empty or all-NA entries is deprecated. In a future version, this will no longer exclude empty or all-NA columns when determining the result dtypes. To retain the old behavior, exclude the relevant entries before the concat operation.\n",
      "  master_df = pd.concat([master_df, mnas], ignore_index=True)\n"
     ]
    },
    {
     "name": "stdout",
     "output_type": "stream",
     "text": [
      "(190, 71)\n",
      "Master shape: (2089, 71)\n",
      "Start Date: 19940417, End Date: 19940419\n",
      "Downloading data from refinitiv...\n",
      "(206, 71)\n",
      "Master shape: (2295, 71)\n",
      "Start Date: 19940420, End Date: 19940422\n",
      "Downloading data from refinitiv...\n"
     ]
    },
    {
     "name": "stderr",
     "output_type": "stream",
     "text": [
      "ERROR!!! An error occurred while requesting URL('https://api.refinitiv.com/data/datagrid/beta1/').\n",
      "     ReadTimeout('')\n"
     ]
    },
    {
     "name": "stdout",
     "output_type": "stream",
     "text": [
      "An error occurred: . Retrying for the range 19940420 to 19940422...\n",
      "Start Date: 19940420, End Date: 19940422\n",
      "Downloading data from refinitiv...\n",
      "(247, 71)\n",
      "Master shape: (2542, 71)\n",
      "Start Date: 19940423, End Date: 19940425\n",
      "Downloading data from refinitiv...\n",
      "(115, 71)\n",
      "Master shape: (2657, 71)\n",
      "Start Date: 19940426, End Date: 19940428\n",
      "Downloading data from refinitiv...\n",
      "(266, 71)\n",
      "Master shape: (2923, 71)\n",
      "Start Date: 19940429, End Date: 19940501\n",
      "Downloading data from refinitiv...\n",
      "(158, 71)\n",
      "Master shape: (3081, 71)\n",
      "Start Date: 19940502, End Date: 19940504\n",
      "Downloading data from refinitiv...\n",
      "(280, 71)\n",
      "Master shape: (3361, 71)\n",
      "Start Date: 19940505, End Date: 19940507\n",
      "Downloading data from refinitiv...\n",
      "(172, 71)\n",
      "Master shape: (3533, 71)\n",
      "Start Date: 19940508, End Date: 19940510\n",
      "Downloading data from refinitiv...\n"
     ]
    },
    {
     "name": "stderr",
     "output_type": "stream",
     "text": [
      "ERROR!!! An error occurred while requesting URL('https://api.refinitiv.com/data/datagrid/beta1/').\n",
      "     ReadTimeout('')\n"
     ]
    },
    {
     "name": "stdout",
     "output_type": "stream",
     "text": [
      "An error occurred: . Retrying for the range 19940508 to 19940510...\n",
      "Start Date: 19940508, End Date: 19940510\n",
      "Downloading data from refinitiv...\n",
      "(230, 71)\n",
      "Master shape: (3763, 71)\n",
      "Start Date: 19940511, End Date: 19940513\n",
      "Downloading data from refinitiv...\n",
      "(253, 71)\n",
      "Master shape: (4016, 71)\n",
      "Appending chunk to BQ\n",
      "Data appended successfully\n",
      "Start Date: 19940514, End Date: 19940516\n",
      "Downloading data from refinitiv...\n"
     ]
    },
    {
     "name": "stderr",
     "output_type": "stream",
     "text": [
      "ERROR!!! An error occurred while requesting URL('https://api.refinitiv.com/data/datagrid/beta1/').\n",
      "     ReadTimeout('')\n"
     ]
    },
    {
     "name": "stdout",
     "output_type": "stream",
     "text": [
      "An error occurred: . Retrying for the range 19940514 to 19940516...\n",
      "Start Date: 19940514, End Date: 19940516\n",
      "Downloading data from refinitiv...\n",
      "(88, 71)\n",
      "Master shape: (88, 71)\n",
      "Start Date: 19940517, End Date: 19940519\n",
      "Downloading data from refinitiv...\n",
      "(304, 71)\n",
      "Master shape: (392, 71)\n",
      "Start Date: 19940520, End Date: 19940522\n",
      "Downloading data from refinitiv...\n",
      "(84, 71)\n",
      "Master shape: (476, 71)\n",
      "Start Date: 19940523, End Date: 19940525\n",
      "Downloading data from refinitiv...\n",
      "(231, 71)\n",
      "Master shape: (707, 71)\n",
      "Start Date: 19940526, End Date: 19940528\n",
      "Downloading data from refinitiv...\n",
      "(183, 71)\n",
      "Master shape: (890, 71)\n",
      "Start Date: 19940529, End Date: 19940531\n",
      "Downloading data from refinitiv...\n",
      "(136, 71)\n",
      "Master shape: (1026, 71)\n",
      "Start Date: 19940601, End Date: 19940603\n",
      "Downloading data from refinitiv...\n",
      "(339, 71)\n",
      "Master shape: (1365, 71)\n",
      "Start Date: 19940604, End Date: 19940606\n",
      "Downloading data from refinitiv...\n"
     ]
    },
    {
     "name": "stderr",
     "output_type": "stream",
     "text": [
      "ERROR!!! An error occurred while requesting URL('https://api.refinitiv.com/data/datagrid/beta1/').\n",
      "     ReadTimeout('')\n"
     ]
    },
    {
     "name": "stdout",
     "output_type": "stream",
     "text": [
      "An error occurred: . Retrying for the range 19940604 to 19940606...\n",
      "Start Date: 19940604, End Date: 19940606\n",
      "Downloading data from refinitiv...\n",
      "(93, 71)\n",
      "Master shape: (1458, 71)\n",
      "Start Date: 19940607, End Date: 19940609\n",
      "Downloading data from refinitiv...\n"
     ]
    },
    {
     "name": "stderr",
     "output_type": "stream",
     "text": [
      "/var/tmp/ipykernel_10925/3801902500.py:128: FutureWarning: The behavior of DataFrame concatenation with empty or all-NA entries is deprecated. In a future version, this will no longer exclude empty or all-NA columns when determining the result dtypes. To retain the old behavior, exclude the relevant entries before the concat operation.\n",
      "  master_df = pd.concat([master_df, mnas], ignore_index=True)\n"
     ]
    },
    {
     "name": "stdout",
     "output_type": "stream",
     "text": [
      "(282, 71)\n",
      "Master shape: (1740, 71)\n",
      "Start Date: 19940610, End Date: 19940612\n",
      "Downloading data from refinitiv...\n",
      "(100, 71)\n",
      "Master shape: (1840, 71)\n",
      "Start Date: 19940613, End Date: 19940615\n",
      "Downloading data from refinitiv...\n"
     ]
    },
    {
     "name": "stderr",
     "output_type": "stream",
     "text": [
      "/var/tmp/ipykernel_10925/3801902500.py:128: FutureWarning: The behavior of DataFrame concatenation with empty or all-NA entries is deprecated. In a future version, this will no longer exclude empty or all-NA columns when determining the result dtypes. To retain the old behavior, exclude the relevant entries before the concat operation.\n",
      "  master_df = pd.concat([master_df, mnas], ignore_index=True)\n"
     ]
    },
    {
     "name": "stdout",
     "output_type": "stream",
     "text": [
      "(292, 71)\n",
      "Master shape: (2132, 71)\n",
      "Start Date: 19940616, End Date: 19940618\n",
      "Downloading data from refinitiv...\n",
      "(172, 71)\n",
      "Master shape: (2304, 71)\n",
      "Start Date: 19940619, End Date: 19940621\n",
      "Downloading data from refinitiv...\n",
      "(182, 71)\n",
      "Master shape: (2486, 71)\n",
      "Start Date: 19940622, End Date: 19940624\n",
      "Downloading data from refinitiv...\n",
      "(271, 71)\n",
      "Master shape: (2757, 71)\n",
      "Start Date: 19940625, End Date: 19940627\n",
      "Downloading data from refinitiv...\n",
      "(97, 71)\n",
      "Master shape: (2854, 71)\n",
      "Start Date: 19940628, End Date: 19940630\n",
      "Downloading data from refinitiv...\n"
     ]
    },
    {
     "name": "stderr",
     "output_type": "stream",
     "text": [
      "/var/tmp/ipykernel_10925/3801902500.py:128: FutureWarning: The behavior of DataFrame concatenation with empty or all-NA entries is deprecated. In a future version, this will no longer exclude empty or all-NA columns when determining the result dtypes. To retain the old behavior, exclude the relevant entries before the concat operation.\n",
      "  master_df = pd.concat([master_df, mnas], ignore_index=True)\n",
      "ERROR!!! An error occurred while requesting URL('https://api.refinitiv.com/data/datagrid/beta1/').\n",
      "     ReadTimeout('')\n"
     ]
    },
    {
     "name": "stdout",
     "output_type": "stream",
     "text": [
      "An error occurred: . Retrying for the range 19940628 to 19940630...\n",
      "Start Date: 19940628, End Date: 19940630\n",
      "Downloading data from refinitiv...\n",
      "(371, 71)\n",
      "Master shape: (3225, 71)\n",
      "Start Date: 19940701, End Date: 19940703\n",
      "Downloading data from refinitiv...\n",
      "(138, 71)\n",
      "Master shape: (3363, 71)\n",
      "Start Date: 19940704, End Date: 19940706\n",
      "Downloading data from refinitiv...\n",
      "(239, 71)\n",
      "Master shape: (3602, 71)\n",
      "Start Date: 19940707, End Date: 19940709\n",
      "Downloading data from refinitiv...\n"
     ]
    },
    {
     "name": "stderr",
     "output_type": "stream",
     "text": [
      "ERROR!!! An error occurred while requesting URL('https://api.refinitiv.com/data/datagrid/beta1/').\n",
      "     ReadTimeout('')\n"
     ]
    },
    {
     "name": "stdout",
     "output_type": "stream",
     "text": [
      "An error occurred: . Retrying for the range 19940707 to 19940709...\n",
      "Start Date: 19940707, End Date: 19940709\n",
      "Downloading data from refinitiv...\n",
      "(193, 71)\n",
      "Master shape: (3795, 71)\n",
      "Start Date: 19940710, End Date: 19940712\n",
      "Downloading data from refinitiv...\n",
      "(176, 71)\n",
      "Master shape: (3971, 71)\n",
      "Appending chunk to BQ\n",
      "Data appended successfully\n",
      "Start Date: 19940713, End Date: 19940715\n",
      "Downloading data from refinitiv...\n",
      "(268, 71)\n",
      "Master shape: (268, 71)\n",
      "Start Date: 19940716, End Date: 19940718\n",
      "Downloading data from refinitiv...\n",
      "(77, 71)\n",
      "Master shape: (345, 71)\n",
      "Start Date: 19940719, End Date: 19940721\n",
      "Downloading data from refinitiv...\n",
      "(243, 71)\n",
      "Master shape: (588, 71)\n",
      "Start Date: 19940722, End Date: 19940724\n",
      "Downloading data from refinitiv...\n"
     ]
    },
    {
     "name": "stderr",
     "output_type": "stream",
     "text": [
      "/var/tmp/ipykernel_10925/3801902500.py:128: FutureWarning: The behavior of DataFrame concatenation with empty or all-NA entries is deprecated. In a future version, this will no longer exclude empty or all-NA columns when determining the result dtypes. To retain the old behavior, exclude the relevant entries before the concat operation.\n",
      "  master_df = pd.concat([master_df, mnas], ignore_index=True)\n"
     ]
    },
    {
     "name": "stdout",
     "output_type": "stream",
     "text": [
      "(72, 71)\n",
      "Master shape: (660, 71)\n",
      "Start Date: 19940725, End Date: 19940727\n",
      "Downloading data from refinitiv...\n"
     ]
    },
    {
     "name": "stderr",
     "output_type": "stream",
     "text": [
      "/var/tmp/ipykernel_10925/3801902500.py:128: FutureWarning: The behavior of DataFrame concatenation with empty or all-NA entries is deprecated. In a future version, this will no longer exclude empty or all-NA columns when determining the result dtypes. To retain the old behavior, exclude the relevant entries before the concat operation.\n",
      "  master_df = pd.concat([master_df, mnas], ignore_index=True)\n"
     ]
    },
    {
     "name": "stdout",
     "output_type": "stream",
     "text": [
      "(291, 71)\n",
      "Master shape: (951, 71)\n",
      "Start Date: 19940728, End Date: 19940730\n",
      "Downloading data from refinitiv...\n"
     ]
    },
    {
     "name": "stderr",
     "output_type": "stream",
     "text": [
      "ERROR!!! An error occurred while requesting URL('https://api.refinitiv.com/data/datagrid/beta1/').\n",
      "     ReadTimeout('')\n"
     ]
    },
    {
     "name": "stdout",
     "output_type": "stream",
     "text": [
      "An error occurred: . Retrying for the range 19940728 to 19940730...\n",
      "Start Date: 19940728, End Date: 19940730\n",
      "Downloading data from refinitiv...\n",
      "(222, 71)\n",
      "Master shape: (1173, 71)\n",
      "Start Date: 19940731, End Date: 19940802\n",
      "Downloading data from refinitiv...\n",
      "(192, 71)\n",
      "Master shape: (1365, 71)\n",
      "Start Date: 19940803, End Date: 19940805\n",
      "Downloading data from refinitiv...\n"
     ]
    },
    {
     "name": "stderr",
     "output_type": "stream",
     "text": [
      "ERROR!!! An error occurred while requesting URL('https://api.refinitiv.com/data/datagrid/beta1/').\n",
      "     ReadTimeout('')\n"
     ]
    },
    {
     "name": "stdout",
     "output_type": "stream",
     "text": [
      "An error occurred: . Retrying for the range 19940803 to 19940805...\n",
      "Start Date: 19940803, End Date: 19940805\n",
      "Downloading data from refinitiv...\n",
      "(244, 71)\n",
      "Master shape: (1609, 71)\n",
      "Start Date: 19940806, End Date: 19940808\n",
      "Downloading data from refinitiv...\n",
      "(97, 71)\n",
      "Master shape: (1706, 71)\n",
      "Start Date: 19940809, End Date: 19940811\n",
      "Downloading data from refinitiv...\n"
     ]
    },
    {
     "name": "stderr",
     "output_type": "stream",
     "text": [
      "/var/tmp/ipykernel_10925/3801902500.py:128: FutureWarning: The behavior of DataFrame concatenation with empty or all-NA entries is deprecated. In a future version, this will no longer exclude empty or all-NA columns when determining the result dtypes. To retain the old behavior, exclude the relevant entries before the concat operation.\n",
      "  master_df = pd.concat([master_df, mnas], ignore_index=True)\n"
     ]
    },
    {
     "name": "stdout",
     "output_type": "stream",
     "text": [
      "(229, 71)\n",
      "Master shape: (1935, 71)\n",
      "Start Date: 19940812, End Date: 19940814\n",
      "Downloading data from refinitiv...\n",
      "(103, 71)\n",
      "Master shape: (2038, 71)\n",
      "Start Date: 19940815, End Date: 19940817\n",
      "Downloading data from refinitiv...\n",
      "(242, 71)\n",
      "Master shape: (2280, 71)\n",
      "Start Date: 19940818, End Date: 19940820\n",
      "Downloading data from refinitiv...\n",
      "(174, 71)\n",
      "Master shape: (2454, 71)\n",
      "Start Date: 19940821, End Date: 19940823\n",
      "Downloading data from refinitiv...\n"
     ]
    },
    {
     "name": "stderr",
     "output_type": "stream",
     "text": [
      "ERROR!!! An error occurred while requesting URL('https://api.refinitiv.com/data/datagrid/beta1/').\n",
      "     ReadTimeout('')\n"
     ]
    },
    {
     "name": "stdout",
     "output_type": "stream",
     "text": [
      "An error occurred: . Retrying for the range 19940821 to 19940823...\n",
      "Start Date: 19940821, End Date: 19940823\n",
      "Downloading data from refinitiv...\n",
      "(144, 71)\n",
      "Master shape: (2598, 71)\n",
      "Start Date: 19940824, End Date: 19940826\n",
      "Downloading data from refinitiv...\n",
      "(284, 71)\n",
      "Master shape: (2882, 71)\n",
      "Start Date: 19940827, End Date: 19940829\n",
      "Downloading data from refinitiv...\n",
      "(88, 71)\n",
      "Master shape: (2970, 71)\n",
      "Start Date: 19940830, End Date: 19940901\n",
      "Downloading data from refinitiv...\n"
     ]
    },
    {
     "name": "stderr",
     "output_type": "stream",
     "text": [
      "/var/tmp/ipykernel_10925/3801902500.py:128: FutureWarning: The behavior of DataFrame concatenation with empty or all-NA entries is deprecated. In a future version, this will no longer exclude empty or all-NA columns when determining the result dtypes. To retain the old behavior, exclude the relevant entries before the concat operation.\n",
      "  master_df = pd.concat([master_df, mnas], ignore_index=True)\n"
     ]
    },
    {
     "name": "stdout",
     "output_type": "stream",
     "text": [
      "(339, 71)\n",
      "Master shape: (3309, 71)\n",
      "Start Date: 19940902, End Date: 19940904\n",
      "Downloading data from refinitiv...\n",
      "(89, 71)\n",
      "Master shape: (3398, 71)\n",
      "Start Date: 19940905, End Date: 19940907\n",
      "Downloading data from refinitiv...\n",
      "(203, 71)\n",
      "Master shape: (3601, 71)\n",
      "Start Date: 19940908, End Date: 19940910\n",
      "Downloading data from refinitiv...\n"
     ]
    },
    {
     "name": "stderr",
     "output_type": "stream",
     "text": [
      "/var/tmp/ipykernel_10925/3801902500.py:128: FutureWarning: The behavior of DataFrame concatenation with empty or all-NA entries is deprecated. In a future version, this will no longer exclude empty or all-NA columns when determining the result dtypes. To retain the old behavior, exclude the relevant entries before the concat operation.\n",
      "  master_df = pd.concat([master_df, mnas], ignore_index=True)\n"
     ]
    },
    {
     "name": "stdout",
     "output_type": "stream",
     "text": [
      "(186, 71)\n",
      "Master shape: (3787, 71)\n",
      "Appending chunk to BQ\n",
      "Data appended successfully\n",
      "Start Date: 19940911, End Date: 19940913\n",
      "Downloading data from refinitiv...\n",
      "(191, 71)\n",
      "Master shape: (191, 71)\n",
      "Start Date: 19940914, End Date: 19940916\n",
      "Downloading data from refinitiv...\n",
      "(218, 71)\n",
      "Master shape: (409, 71)\n",
      "Start Date: 19940917, End Date: 19940919\n",
      "Downloading data from refinitiv...\n"
     ]
    },
    {
     "name": "stderr",
     "output_type": "stream",
     "text": [
      "/var/tmp/ipykernel_10925/3801902500.py:128: FutureWarning: The behavior of DataFrame concatenation with empty or all-NA entries is deprecated. In a future version, this will no longer exclude empty or all-NA columns when determining the result dtypes. To retain the old behavior, exclude the relevant entries before the concat operation.\n",
      "  master_df = pd.concat([master_df, mnas], ignore_index=True)\n"
     ]
    },
    {
     "name": "stdout",
     "output_type": "stream",
     "text": [
      "(99, 71)\n",
      "Master shape: (508, 71)\n",
      "Start Date: 19940920, End Date: 19940922\n",
      "Downloading data from refinitiv...\n",
      "(251, 71)\n",
      "Master shape: (759, 71)\n",
      "Start Date: 19940923, End Date: 19940925\n",
      "Downloading data from refinitiv...\n",
      "(104, 71)\n",
      "Master shape: (863, 71)\n",
      "Start Date: 19940926, End Date: 19940928\n",
      "Downloading data from refinitiv...\n",
      "(284, 71)\n",
      "Master shape: (1147, 71)\n",
      "Start Date: 19940929, End Date: 19941001\n",
      "Downloading data from refinitiv...\n",
      "(237, 71)\n",
      "Master shape: (1384, 71)\n",
      "Start Date: 19941002, End Date: 19941004\n",
      "Downloading data from refinitiv...\n"
     ]
    },
    {
     "name": "stderr",
     "output_type": "stream",
     "text": [
      "ERROR!!! An error occurred while requesting URL('https://api.refinitiv.com/data/datagrid/beta1/').\n",
      "     ReadTimeout('')\n"
     ]
    },
    {
     "name": "stdout",
     "output_type": "stream",
     "text": [
      "An error occurred: . Retrying for the range 19941002 to 19941004...\n",
      "Start Date: 19941002, End Date: 19941004\n",
      "Downloading data from refinitiv...\n",
      "(215, 71)\n",
      "Master shape: (1599, 71)\n",
      "Start Date: 19941005, End Date: 19941007\n",
      "Downloading data from refinitiv...\n",
      "(302, 71)\n",
      "Master shape: (1901, 71)\n",
      "Start Date: 19941008, End Date: 19941010\n",
      "Downloading data from refinitiv...\n",
      "(83, 71)\n",
      "Master shape: (1984, 71)\n",
      "Start Date: 19941011, End Date: 19941013\n",
      "Downloading data from refinitiv...\n"
     ]
    },
    {
     "name": "stderr",
     "output_type": "stream",
     "text": [
      "/var/tmp/ipykernel_10925/3801902500.py:128: FutureWarning: The behavior of DataFrame concatenation with empty or all-NA entries is deprecated. In a future version, this will no longer exclude empty or all-NA columns when determining the result dtypes. To retain the old behavior, exclude the relevant entries before the concat operation.\n",
      "  master_df = pd.concat([master_df, mnas], ignore_index=True)\n"
     ]
    },
    {
     "name": "stdout",
     "output_type": "stream",
     "text": [
      "(263, 71)\n",
      "Master shape: (2247, 71)\n",
      "Start Date: 19941014, End Date: 19941016\n",
      "Downloading data from refinitiv...\n",
      "(87, 71)\n",
      "Master shape: (2334, 71)\n",
      "Start Date: 19941017, End Date: 19941019\n",
      "Downloading data from refinitiv...\n"
     ]
    },
    {
     "name": "stderr",
     "output_type": "stream",
     "text": [
      "/var/tmp/ipykernel_10925/3801902500.py:128: FutureWarning: The behavior of DataFrame concatenation with empty or all-NA entries is deprecated. In a future version, this will no longer exclude empty or all-NA columns when determining the result dtypes. To retain the old behavior, exclude the relevant entries before the concat operation.\n",
      "  master_df = pd.concat([master_df, mnas], ignore_index=True)\n"
     ]
    },
    {
     "name": "stdout",
     "output_type": "stream",
     "text": [
      "(239, 71)\n",
      "Master shape: (2573, 71)\n",
      "Start Date: 19941020, End Date: 19941022\n",
      "Downloading data from refinitiv...\n"
     ]
    },
    {
     "name": "stderr",
     "output_type": "stream",
     "text": [
      "/var/tmp/ipykernel_10925/3801902500.py:128: FutureWarning: The behavior of DataFrame concatenation with empty or all-NA entries is deprecated. In a future version, this will no longer exclude empty or all-NA columns when determining the result dtypes. To retain the old behavior, exclude the relevant entries before the concat operation.\n",
      "  master_df = pd.concat([master_df, mnas], ignore_index=True)\n"
     ]
    },
    {
     "name": "stdout",
     "output_type": "stream",
     "text": [
      "(190, 71)\n",
      "Master shape: (2763, 71)\n",
      "Start Date: 19941023, End Date: 19941025\n",
      "Downloading data from refinitiv...\n",
      "(167, 71)\n",
      "Master shape: (2930, 71)\n",
      "Start Date: 19941026, End Date: 19941028\n",
      "Downloading data from refinitiv...\n"
     ]
    },
    {
     "name": "stderr",
     "output_type": "stream",
     "text": [
      "/var/tmp/ipykernel_10925/3801902500.py:128: FutureWarning: The behavior of DataFrame concatenation with empty or all-NA entries is deprecated. In a future version, this will no longer exclude empty or all-NA columns when determining the result dtypes. To retain the old behavior, exclude the relevant entries before the concat operation.\n",
      "  master_df = pd.concat([master_df, mnas], ignore_index=True)\n",
      "ERROR!!! An error occurred while requesting URL('https://api.refinitiv.com/data/datagrid/beta1/').\n",
      "     ReadTimeout('')\n"
     ]
    },
    {
     "name": "stdout",
     "output_type": "stream",
     "text": [
      "An error occurred: . Retrying for the range 19941026 to 19941028...\n",
      "Start Date: 19941026, End Date: 19941028\n",
      "Downloading data from refinitiv...\n",
      "(291, 71)\n",
      "Master shape: (3221, 71)\n",
      "Start Date: 19941029, End Date: 19941031\n",
      "Downloading data from refinitiv...\n",
      "(134, 71)\n",
      "Master shape: (3355, 71)\n",
      "Start Date: 19941101, End Date: 19941103\n",
      "Downloading data from refinitiv...\n"
     ]
    },
    {
     "name": "stderr",
     "output_type": "stream",
     "text": [
      "/var/tmp/ipykernel_10925/3801902500.py:128: FutureWarning: The behavior of DataFrame concatenation with empty or all-NA entries is deprecated. In a future version, this will no longer exclude empty or all-NA columns when determining the result dtypes. To retain the old behavior, exclude the relevant entries before the concat operation.\n",
      "  master_df = pd.concat([master_df, mnas], ignore_index=True)\n"
     ]
    },
    {
     "name": "stdout",
     "output_type": "stream",
     "text": [
      "(300, 71)\n",
      "Master shape: (3655, 71)\n",
      "Start Date: 19941104, End Date: 19941106\n",
      "Downloading data from refinitiv...\n",
      "(71, 71)\n",
      "Master shape: (3726, 71)\n",
      "Start Date: 19941107, End Date: 19941109\n",
      "Downloading data from refinitiv...\n",
      "(244, 71)\n",
      "Master shape: (3970, 71)\n",
      "Appending chunk to BQ\n",
      "Data appended successfully\n",
      "Start Date: 19941110, End Date: 19941112\n",
      "Downloading data from refinitiv...\n",
      "(198, 71)\n",
      "Master shape: (198, 71)\n",
      "Start Date: 19941113, End Date: 19941115\n",
      "Downloading data from refinitiv...\n",
      "(175, 71)\n",
      "Master shape: (373, 71)\n",
      "Start Date: 19941116, End Date: 19941118\n",
      "Downloading data from refinitiv...\n",
      "(292, 71)\n",
      "Master shape: (665, 71)\n",
      "Start Date: 19941119, End Date: 19941121\n",
      "Downloading data from refinitiv...\n",
      "(103, 71)\n",
      "Master shape: (768, 71)\n",
      "Start Date: 19941122, End Date: 19941124\n",
      "Downloading data from refinitiv...\n"
     ]
    },
    {
     "name": "stderr",
     "output_type": "stream",
     "text": [
      "/var/tmp/ipykernel_10925/3801902500.py:128: FutureWarning: The behavior of DataFrame concatenation with empty or all-NA entries is deprecated. In a future version, this will no longer exclude empty or all-NA columns when determining the result dtypes. To retain the old behavior, exclude the relevant entries before the concat operation.\n",
      "  master_df = pd.concat([master_df, mnas], ignore_index=True)\n"
     ]
    },
    {
     "name": "stdout",
     "output_type": "stream",
     "text": [
      "(234, 71)\n",
      "Master shape: (1002, 71)\n",
      "Start Date: 19941125, End Date: 19941127\n",
      "Downloading data from refinitiv...\n",
      "(80, 71)\n",
      "Master shape: (1082, 71)\n",
      "Start Date: 19941128, End Date: 19941130\n",
      "Downloading data from refinitiv...\n",
      "(291, 71)\n",
      "Master shape: (1373, 71)\n",
      "Start Date: 19941201, End Date: 19941203\n",
      "Downloading data from refinitiv...\n",
      "(249, 71)\n",
      "Master shape: (1622, 71)\n",
      "Start Date: 19941204, End Date: 19941206\n",
      "Downloading data from refinitiv...\n",
      "(211, 71)\n",
      "Master shape: (1833, 71)\n",
      "Start Date: 19941207, End Date: 19941209\n",
      "Downloading data from refinitiv...\n",
      "(260, 71)\n",
      "Master shape: (2093, 71)\n",
      "Start Date: 19941210, End Date: 19941212\n",
      "Downloading data from refinitiv...\n",
      "(93, 71)\n",
      "Master shape: (2186, 71)\n",
      "Start Date: 19941213, End Date: 19941215\n",
      "Downloading data from refinitiv...\n",
      "(333, 71)\n",
      "Master shape: (2519, 71)\n",
      "Start Date: 19941216, End Date: 19941218\n",
      "Downloading data from refinitiv...\n",
      "(76, 71)\n",
      "Master shape: (2595, 71)\n",
      "Start Date: 19941219, End Date: 19941221\n",
      "Downloading data from refinitiv...\n"
     ]
    },
    {
     "name": "stderr",
     "output_type": "stream",
     "text": [
      "/var/tmp/ipykernel_10925/3801902500.py:128: FutureWarning: The behavior of DataFrame concatenation with empty or all-NA entries is deprecated. In a future version, this will no longer exclude empty or all-NA columns when determining the result dtypes. To retain the old behavior, exclude the relevant entries before the concat operation.\n",
      "  master_df = pd.concat([master_df, mnas], ignore_index=True)\n"
     ]
    },
    {
     "name": "stdout",
     "output_type": "stream",
     "text": [
      "(346, 71)\n",
      "Master shape: (2941, 71)\n",
      "Start Date: 19941222, End Date: 19941224\n",
      "Downloading data from refinitiv...\n",
      "(214, 71)\n",
      "Master shape: (3155, 71)\n",
      "Start Date: 19941225, End Date: 19941227\n",
      "Downloading data from refinitiv...\n"
     ]
    },
    {
     "name": "stderr",
     "output_type": "stream",
     "text": [
      "ERROR!!! An error occurred while requesting URL('https://api.refinitiv.com/data/datagrid/beta1/').\n",
      "     ReadTimeout('')\n"
     ]
    },
    {
     "name": "stdout",
     "output_type": "stream",
     "text": [
      "An error occurred: . Retrying for the range 19941225 to 19941227...\n",
      "Start Date: 19941225, End Date: 19941227\n",
      "Downloading data from refinitiv...\n",
      "(87, 71)\n",
      "Master shape: (3242, 71)\n",
      "Start Date: 19941228, End Date: 19941230\n",
      "Downloading data from refinitiv...\n",
      "(359, 71)\n",
      "Master shape: (3601, 71)\n",
      "Start Date: 19941231, End Date: 19950102\n",
      "Downloading data from refinitiv...\n",
      "(191, 71)\n",
      "Master shape: (3792, 71)\n",
      "Start Date: 19950103, End Date: 19950105\n",
      "Downloading data from refinitiv...\n"
     ]
    },
    {
     "name": "stderr",
     "output_type": "stream",
     "text": [
      "/var/tmp/ipykernel_10925/3801902500.py:128: FutureWarning: The behavior of DataFrame concatenation with empty or all-NA entries is deprecated. In a future version, this will no longer exclude empty or all-NA columns when determining the result dtypes. To retain the old behavior, exclude the relevant entries before the concat operation.\n",
      "  master_df = pd.concat([master_df, mnas], ignore_index=True)\n"
     ]
    },
    {
     "name": "stdout",
     "output_type": "stream",
     "text": [
      "(323, 71)\n",
      "Master shape: (4115, 71)\n",
      "Start Date: 19950106, End Date: 19950108\n",
      "Downloading data from refinitiv...\n",
      "(99, 71)\n",
      "Master shape: (4214, 71)\n",
      "Appending chunk to BQ\n",
      "Data appended successfully\n",
      "Start Date: 19950109, End Date: 19950111\n",
      "Downloading data from refinitiv...\n",
      "(356, 71)\n",
      "Master shape: (356, 71)\n",
      "Start Date: 19950112, End Date: 19950114\n",
      "Downloading data from refinitiv...\n",
      "(207, 71)\n",
      "Master shape: (563, 71)\n",
      "Start Date: 19950115, End Date: 19950117\n",
      "Downloading data from refinitiv...\n",
      "(192, 71)\n",
      "Master shape: (755, 71)\n",
      "Start Date: 19950118, End Date: 19950120\n",
      "Downloading data from refinitiv...\n",
      "(270, 71)\n",
      "Master shape: (1025, 71)\n",
      "Start Date: 19950121, End Date: 19950123\n",
      "Downloading data from refinitiv...\n",
      "(99, 71)\n",
      "Master shape: (1124, 71)\n",
      "Start Date: 19950124, End Date: 19950126\n",
      "Downloading data from refinitiv...\n",
      "(299, 71)\n",
      "Master shape: (1423, 71)\n",
      "Start Date: 19950127, End Date: 19950129\n",
      "Downloading data from refinitiv...\n",
      "(104, 71)\n",
      "Master shape: (1527, 71)\n",
      "Start Date: 19950130, End Date: 19950201\n",
      "Downloading data from refinitiv...\n",
      "(402, 71)\n",
      "Master shape: (1929, 71)\n",
      "Start Date: 19950202, End Date: 19950204\n",
      "Downloading data from refinitiv...\n",
      "(227, 71)\n",
      "Master shape: (2156, 71)\n",
      "Start Date: 19950205, End Date: 19950207\n",
      "Downloading data from refinitiv...\n",
      "(228, 71)\n",
      "Master shape: (2384, 71)\n",
      "Start Date: 19950208, End Date: 19950210\n",
      "Downloading data from refinitiv...\n",
      "(291, 71)\n",
      "Master shape: (2675, 71)\n",
      "Start Date: 19950211, End Date: 19950213\n",
      "Downloading data from refinitiv...\n",
      "(92, 71)\n",
      "Master shape: (2767, 71)\n",
      "Start Date: 19950214, End Date: 19950216\n",
      "Downloading data from refinitiv...\n",
      "(253, 71)\n",
      "Master shape: (3020, 71)\n",
      "Start Date: 19950217, End Date: 19950219\n",
      "Downloading data from refinitiv...\n",
      "(99, 71)\n",
      "Master shape: (3119, 71)\n",
      "Start Date: 19950220, End Date: 19950222\n",
      "Downloading data from refinitiv...\n"
     ]
    },
    {
     "name": "stderr",
     "output_type": "stream",
     "text": [
      "/var/tmp/ipykernel_10925/3801902500.py:128: FutureWarning: The behavior of DataFrame concatenation with empty or all-NA entries is deprecated. In a future version, this will no longer exclude empty or all-NA columns when determining the result dtypes. To retain the old behavior, exclude the relevant entries before the concat operation.\n",
      "  master_df = pd.concat([master_df, mnas], ignore_index=True)\n"
     ]
    },
    {
     "name": "stdout",
     "output_type": "stream",
     "text": [
      "(244, 71)\n",
      "Master shape: (3363, 71)\n",
      "Start Date: 19950223, End Date: 19950225\n",
      "Downloading data from refinitiv...\n",
      "(207, 71)\n",
      "Master shape: (3570, 71)\n",
      "Start Date: 19950226, End Date: 19950228\n",
      "Downloading data from refinitiv...\n",
      "(248, 71)\n",
      "Master shape: (3818, 71)\n",
      "Start Date: 19950301, End Date: 19950303\n",
      "Downloading data from refinitiv...\n"
     ]
    },
    {
     "name": "stderr",
     "output_type": "stream",
     "text": [
      "/var/tmp/ipykernel_10925/3801902500.py:128: FutureWarning: The behavior of DataFrame concatenation with empty or all-NA entries is deprecated. In a future version, this will no longer exclude empty or all-NA columns when determining the result dtypes. To retain the old behavior, exclude the relevant entries before the concat operation.\n",
      "  master_df = pd.concat([master_df, mnas], ignore_index=True)\n"
     ]
    },
    {
     "name": "stdout",
     "output_type": "stream",
     "text": [
      "(460, 71)\n",
      "Master shape: (4278, 71)\n",
      "Start Date: 19950304, End Date: 19950306\n",
      "Downloading data from refinitiv...\n",
      "(87, 71)\n",
      "Master shape: (4365, 71)\n",
      "Start Date: 19950307, End Date: 19950309\n",
      "Downloading data from refinitiv...\n",
      "(271, 71)\n",
      "Master shape: (4636, 71)\n",
      "Appending chunk to BQ\n",
      "Data appended successfully\n",
      "Start Date: 19950310, End Date: 19950312\n",
      "Downloading data from refinitiv...\n"
     ]
    },
    {
     "name": "stderr",
     "output_type": "stream",
     "text": [
      "ERROR!!! An error occurred while requesting URL('https://api.refinitiv.com/data/datagrid/beta1/').\n",
      "     ReadTimeout('')\n"
     ]
    },
    {
     "name": "stdout",
     "output_type": "stream",
     "text": [
      "An error occurred: . Retrying for the range 19950310 to 19950312...\n",
      "Start Date: 19950310, End Date: 19950312\n",
      "Downloading data from refinitiv...\n",
      "(107, 71)\n",
      "Master shape: (107, 71)\n",
      "Start Date: 19950313, End Date: 19950315\n",
      "Downloading data from refinitiv...\n",
      "(273, 71)\n",
      "Master shape: (380, 71)\n",
      "Start Date: 19950316, End Date: 19950318\n",
      "Downloading data from refinitiv...\n"
     ]
    },
    {
     "name": "stderr",
     "output_type": "stream",
     "text": [
      "ERROR!!! An error occurred while requesting URL('https://api.refinitiv.com/data/datagrid/beta1/').\n",
      "     ReadTimeout('')\n"
     ]
    },
    {
     "name": "stdout",
     "output_type": "stream",
     "text": [
      "An error occurred: . Retrying for the range 19950316 to 19950318...\n",
      "Start Date: 19950316, End Date: 19950318\n",
      "Downloading data from refinitiv...\n",
      "(198, 71)\n",
      "Master shape: (578, 71)\n",
      "Start Date: 19950319, End Date: 19950321\n",
      "Downloading data from refinitiv...\n",
      "(176, 71)\n",
      "Master shape: (754, 71)\n",
      "Start Date: 19950322, End Date: 19950324\n",
      "Downloading data from refinitiv...\n",
      "(302, 71)\n",
      "Master shape: (1056, 71)\n",
      "Start Date: 19950325, End Date: 19950327\n",
      "Downloading data from refinitiv...\n",
      "(116, 71)\n",
      "Master shape: (1172, 71)\n",
      "Start Date: 19950328, End Date: 19950330\n",
      "Downloading data from refinitiv...\n",
      "(265, 71)\n",
      "Master shape: (1437, 71)\n",
      "Start Date: 19950331, End Date: 19950402\n",
      "Downloading data from refinitiv...\n",
      "(203, 71)\n",
      "Master shape: (1640, 71)\n",
      "Start Date: 19950403, End Date: 19950405\n",
      "Downloading data from refinitiv...\n"
     ]
    },
    {
     "name": "stderr",
     "output_type": "stream",
     "text": [
      "/var/tmp/ipykernel_10925/3801902500.py:128: FutureWarning: The behavior of DataFrame concatenation with empty or all-NA entries is deprecated. In a future version, this will no longer exclude empty or all-NA columns when determining the result dtypes. To retain the old behavior, exclude the relevant entries before the concat operation.\n",
      "  master_df = pd.concat([master_df, mnas], ignore_index=True)\n"
     ]
    },
    {
     "name": "stdout",
     "output_type": "stream",
     "text": [
      "(359, 71)\n",
      "Master shape: (1999, 71)\n",
      "Start Date: 19950406, End Date: 19950408\n",
      "Downloading data from refinitiv...\n",
      "(190, 71)\n",
      "Master shape: (2189, 71)\n",
      "Start Date: 19950409, End Date: 19950411\n",
      "Downloading data from refinitiv...\n",
      "(228, 71)\n",
      "Master shape: (2417, 71)\n",
      "Start Date: 19950412, End Date: 19950414\n",
      "Downloading data from refinitiv...\n",
      "(234, 71)\n",
      "Master shape: (2651, 71)\n",
      "Start Date: 19950415, End Date: 19950417\n",
      "Downloading data from refinitiv...\n",
      "(49, 71)\n",
      "Master shape: (2700, 71)\n",
      "Start Date: 19950418, End Date: 19950420\n",
      "Downloading data from refinitiv...\n"
     ]
    },
    {
     "name": "stderr",
     "output_type": "stream",
     "text": [
      "/var/tmp/ipykernel_10925/3801902500.py:128: FutureWarning: The behavior of DataFrame concatenation with empty or all-NA entries is deprecated. In a future version, this will no longer exclude empty or all-NA columns when determining the result dtypes. To retain the old behavior, exclude the relevant entries before the concat operation.\n",
      "  master_df = pd.concat([master_df, mnas], ignore_index=True)\n"
     ]
    },
    {
     "name": "stdout",
     "output_type": "stream",
     "text": [
      "(330, 71)\n",
      "Master shape: (3030, 71)\n",
      "Start Date: 19950421, End Date: 19950423\n",
      "Downloading data from refinitiv...\n"
     ]
    },
    {
     "name": "stderr",
     "output_type": "stream",
     "text": [
      "ERROR!!! An error occurred while requesting URL('https://api.refinitiv.com/data/datagrid/beta1/').\n",
      "     ReadTimeout('')\n"
     ]
    },
    {
     "name": "stdout",
     "output_type": "stream",
     "text": [
      "An error occurred: . Retrying for the range 19950421 to 19950423...\n",
      "Start Date: 19950421, End Date: 19950423\n",
      "Downloading data from refinitiv...\n",
      "(100, 71)\n",
      "Master shape: (3130, 71)\n",
      "Start Date: 19950424, End Date: 19950426\n",
      "Downloading data from refinitiv...\n",
      "(287, 71)\n",
      "Master shape: (3417, 71)\n",
      "Start Date: 19950427, End Date: 19950429\n",
      "Downloading data from refinitiv...\n"
     ]
    },
    {
     "name": "stderr",
     "output_type": "stream",
     "text": [
      "/var/tmp/ipykernel_10925/3801902500.py:128: FutureWarning: The behavior of DataFrame concatenation with empty or all-NA entries is deprecated. In a future version, this will no longer exclude empty or all-NA columns when determining the result dtypes. To retain the old behavior, exclude the relevant entries before the concat operation.\n",
      "  master_df = pd.concat([master_df, mnas], ignore_index=True)\n"
     ]
    },
    {
     "name": "stdout",
     "output_type": "stream",
     "text": [
      "(276, 71)\n",
      "Master shape: (3693, 71)\n",
      "Start Date: 19950430, End Date: 19950502\n",
      "Downloading data from refinitiv...\n"
     ]
    },
    {
     "name": "stderr",
     "output_type": "stream",
     "text": [
      "ERROR!!! An error occurred while requesting URL('https://api.refinitiv.com/data/datagrid/beta1/').\n",
      "     ReadTimeout('')\n"
     ]
    },
    {
     "name": "stdout",
     "output_type": "stream",
     "text": [
      "An error occurred: . Retrying for the range 19950430 to 19950502...\n",
      "Start Date: 19950430, End Date: 19950502\n",
      "Downloading data from refinitiv...\n",
      "(233, 71)\n",
      "Master shape: (3926, 71)\n",
      "Start Date: 19950503, End Date: 19950505\n",
      "Downloading data from refinitiv...\n",
      "(349, 71)\n",
      "Master shape: (4275, 71)\n",
      "Start Date: 19950506, End Date: 19950508\n",
      "Downloading data from refinitiv...\n",
      "(78, 71)\n",
      "Master shape: (4353, 71)\n",
      "Appending chunk to BQ\n",
      "Data appended successfully\n",
      "Start Date: 19950509, End Date: 19950511\n",
      "Downloading data from refinitiv...\n",
      "(366, 71)\n",
      "Master shape: (366, 71)\n",
      "Start Date: 19950512, End Date: 19950514\n",
      "Downloading data from refinitiv...\n",
      "(117, 71)\n",
      "Master shape: (483, 71)\n",
      "Start Date: 19950515, End Date: 19950517\n",
      "Downloading data from refinitiv...\n",
      "(303, 71)\n",
      "Master shape: (786, 71)\n",
      "Start Date: 19950518, End Date: 19950520\n",
      "Downloading data from refinitiv...\n",
      "(206, 71)\n",
      "Master shape: (992, 71)\n",
      "Start Date: 19950521, End Date: 19950523\n",
      "Downloading data from refinitiv...\n"
     ]
    },
    {
     "name": "stderr",
     "output_type": "stream",
     "text": [
      "ERROR!!! An error occurred while requesting URL('https://api.refinitiv.com/data/datagrid/beta1/').\n",
      "     ReadTimeout('')\n"
     ]
    },
    {
     "name": "stdout",
     "output_type": "stream",
     "text": [
      "An error occurred: . Retrying for the range 19950521 to 19950523...\n",
      "Start Date: 19950521, End Date: 19950523\n",
      "Downloading data from refinitiv...\n",
      "(181, 71)\n",
      "Master shape: (1173, 71)\n",
      "Start Date: 19950524, End Date: 19950526\n",
      "Downloading data from refinitiv...\n",
      "(270, 71)\n",
      "Master shape: (1443, 71)\n",
      "Start Date: 19950527, End Date: 19950529\n",
      "Downloading data from refinitiv...\n",
      "(37, 71)\n",
      "Master shape: (1480, 71)\n",
      "Start Date: 19950530, End Date: 19950601\n",
      "Downloading data from refinitiv...\n"
     ]
    },
    {
     "name": "stderr",
     "output_type": "stream",
     "text": [
      "/var/tmp/ipykernel_10925/3801902500.py:128: FutureWarning: The behavior of DataFrame concatenation with empty or all-NA entries is deprecated. In a future version, this will no longer exclude empty or all-NA columns when determining the result dtypes. To retain the old behavior, exclude the relevant entries before the concat operation.\n",
      "  master_df = pd.concat([master_df, mnas], ignore_index=True)\n"
     ]
    },
    {
     "name": "stdout",
     "output_type": "stream",
     "text": [
      "(458, 71)\n",
      "Master shape: (1938, 71)\n",
      "Start Date: 19950602, End Date: 19950604\n",
      "Downloading data from refinitiv...\n",
      "(112, 71)\n",
      "Master shape: (2050, 71)\n",
      "Start Date: 19950605, End Date: 19950607\n",
      "Downloading data from refinitiv...\n",
      "(280, 71)\n",
      "Master shape: (2330, 71)\n",
      "Start Date: 19950608, End Date: 19950610\n",
      "Downloading data from refinitiv...\n",
      "(180, 71)\n",
      "Master shape: (2510, 71)\n",
      "Start Date: 19950611, End Date: 19950613\n",
      "Downloading data from refinitiv...\n",
      "(180, 71)\n",
      "Master shape: (2690, 71)\n",
      "Start Date: 19950614, End Date: 19950616\n",
      "Downloading data from refinitiv...\n",
      "(304, 71)\n",
      "Master shape: (2994, 71)\n",
      "Start Date: 19950617, End Date: 19950619\n",
      "Downloading data from refinitiv...\n",
      "(97, 71)\n",
      "Master shape: (3091, 71)\n",
      "Start Date: 19950620, End Date: 19950622\n",
      "Downloading data from refinitiv...\n",
      "(289, 71)\n",
      "Master shape: (3380, 71)\n",
      "Start Date: 19950623, End Date: 19950625\n",
      "Downloading data from refinitiv...\n",
      "(131, 71)\n",
      "Master shape: (3511, 71)\n",
      "Start Date: 19950626, End Date: 19950628\n",
      "Downloading data from refinitiv...\n",
      "(299, 71)\n",
      "Master shape: (3810, 71)\n",
      "Start Date: 19950629, End Date: 19950701\n",
      "Downloading data from refinitiv...\n"
     ]
    },
    {
     "name": "stderr",
     "output_type": "stream",
     "text": [
      "/var/tmp/ipykernel_10925/3801902500.py:128: FutureWarning: The behavior of DataFrame concatenation with empty or all-NA entries is deprecated. In a future version, this will no longer exclude empty or all-NA columns when determining the result dtypes. To retain the old behavior, exclude the relevant entries before the concat operation.\n",
      "  master_df = pd.concat([master_df, mnas], ignore_index=True)\n"
     ]
    },
    {
     "name": "stdout",
     "output_type": "stream",
     "text": [
      "(467, 71)\n",
      "Master shape: (4277, 71)\n",
      "Start Date: 19950702, End Date: 19950704\n",
      "Downloading data from refinitiv...\n"
     ]
    },
    {
     "name": "stderr",
     "output_type": "stream",
     "text": [
      "ERROR!!! An error occurred while requesting URL('https://api.refinitiv.com/data/datagrid/beta1/').\n",
      "     ReadTimeout('')\n"
     ]
    },
    {
     "name": "stdout",
     "output_type": "stream",
     "text": [
      "An error occurred: . Retrying for the range 19950702 to 19950704...\n",
      "Start Date: 19950702, End Date: 19950704\n",
      "Downloading data from refinitiv...\n"
     ]
    },
    {
     "name": "stderr",
     "output_type": "stream",
     "text": [
      "ERROR!!! An error occurred while requesting URL('https://api.refinitiv.com/data/datagrid/beta1/').\n",
      "     ReadTimeout('')\n"
     ]
    },
    {
     "name": "stdout",
     "output_type": "stream",
     "text": [
      "An error occurred: . Retrying for the range 19950702 to 19950704...\n",
      "Start Date: 19950702, End Date: 19950704\n",
      "Downloading data from refinitiv...\n",
      "(172, 71)\n",
      "Master shape: (4449, 71)\n",
      "Start Date: 19950705, End Date: 19950707\n",
      "Downloading data from refinitiv...\n"
     ]
    },
    {
     "name": "stderr",
     "output_type": "stream",
     "text": [
      "ERROR!!! An error occurred while requesting URL('https://api.refinitiv.com/data/datagrid/beta1/').\n",
      "     ReadTimeout('')\n"
     ]
    },
    {
     "name": "stdout",
     "output_type": "stream",
     "text": [
      "An error occurred: . Retrying for the range 19950705 to 19950707...\n",
      "Start Date: 19950705, End Date: 19950707\n",
      "Downloading data from refinitiv...\n"
     ]
    },
    {
     "name": "stderr",
     "output_type": "stream",
     "text": [
      "ERROR!!! An error occurred while requesting URL('https://api.refinitiv.com/data/datagrid/beta1/').\n",
      "     ReadTimeout('')\n"
     ]
    },
    {
     "name": "stdout",
     "output_type": "stream",
     "text": [
      "An error occurred: . Retrying for the range 19950705 to 19950707...\n",
      "Start Date: 19950705, End Date: 19950707\n",
      "Downloading data from refinitiv...\n",
      "(337, 71)\n",
      "Master shape: (4786, 71)\n",
      "Appending chunk to BQ\n",
      "Data appended successfully\n",
      "Start Date: 19950708, End Date: 19950710\n",
      "Downloading data from refinitiv...\n",
      "(97, 71)\n",
      "Master shape: (97, 71)\n",
      "Start Date: 19950711, End Date: 19950713\n",
      "Downloading data from refinitiv...\n",
      "(281, 71)\n",
      "Master shape: (378, 71)\n",
      "Start Date: 19950714, End Date: 19950716\n",
      "Downloading data from refinitiv...\n"
     ]
    },
    {
     "name": "stderr",
     "output_type": "stream",
     "text": [
      "ERROR!!! An error occurred while requesting URL('https://api.refinitiv.com/data/datagrid/beta1/').\n",
      "     ReadTimeout('')\n"
     ]
    },
    {
     "name": "stdout",
     "output_type": "stream",
     "text": [
      "An error occurred: . Retrying for the range 19950714 to 19950716...\n",
      "Start Date: 19950714, End Date: 19950716\n",
      "Downloading data from refinitiv...\n",
      "(93, 71)\n",
      "Master shape: (471, 71)\n",
      "Start Date: 19950717, End Date: 19950719\n",
      "Downloading data from refinitiv...\n",
      "(306, 71)\n",
      "Master shape: (777, 71)\n",
      "Start Date: 19950720, End Date: 19950722\n",
      "Downloading data from refinitiv...\n",
      "(191, 71)\n",
      "Master shape: (968, 71)\n",
      "Start Date: 19950723, End Date: 19950725\n",
      "Downloading data from refinitiv...\n",
      "(209, 71)\n",
      "Master shape: (1177, 71)\n",
      "Start Date: 19950726, End Date: 19950728\n",
      "Downloading data from refinitiv...\n"
     ]
    },
    {
     "name": "stderr",
     "output_type": "stream",
     "text": [
      "ERROR!!! An error occurred while requesting URL('https://api.refinitiv.com/data/datagrid/beta1/').\n",
      "     ReadTimeout('')\n"
     ]
    },
    {
     "name": "stdout",
     "output_type": "stream",
     "text": [
      "An error occurred: . Retrying for the range 19950726 to 19950728...\n",
      "Start Date: 19950726, End Date: 19950728\n",
      "Downloading data from refinitiv...\n",
      "(324, 71)\n",
      "Master shape: (1501, 71)\n",
      "Start Date: 19950729, End Date: 19950731\n",
      "Downloading data from refinitiv...\n",
      "(145, 71)\n",
      "Master shape: (1646, 71)\n",
      "Start Date: 19950801, End Date: 19950803\n",
      "Downloading data from refinitiv...\n"
     ]
    },
    {
     "name": "stderr",
     "output_type": "stream",
     "text": [
      "/var/tmp/ipykernel_10925/3801902500.py:128: FutureWarning: The behavior of DataFrame concatenation with empty or all-NA entries is deprecated. In a future version, this will no longer exclude empty or all-NA columns when determining the result dtypes. To retain the old behavior, exclude the relevant entries before the concat operation.\n",
      "  master_df = pd.concat([master_df, mnas], ignore_index=True)\n",
      "ERROR!!! An error occurred while requesting URL('https://api.refinitiv.com/data/datagrid/beta1/').\n",
      "     ReadTimeout('')\n"
     ]
    },
    {
     "name": "stdout",
     "output_type": "stream",
     "text": [
      "An error occurred: . Retrying for the range 19950801 to 19950803...\n",
      "Start Date: 19950801, End Date: 19950803\n",
      "Downloading data from refinitiv...\n",
      "(332, 71)\n",
      "Master shape: (1978, 71)\n",
      "Start Date: 19950804, End Date: 19950806\n",
      "Downloading data from refinitiv...\n",
      "(109, 71)\n",
      "Master shape: (2087, 71)\n",
      "Start Date: 19950807, End Date: 19950809\n",
      "Downloading data from refinitiv...\n",
      "(273, 71)\n",
      "Master shape: (2360, 71)\n",
      "Start Date: 19950810, End Date: 19950812\n",
      "Downloading data from refinitiv...\n",
      "(186, 71)\n",
      "Master shape: (2546, 71)\n",
      "Start Date: 19950813, End Date: 19950815\n",
      "Downloading data from refinitiv...\n",
      "(183, 71)\n",
      "Master shape: (2729, 71)\n",
      "Start Date: 19950816, End Date: 19950818\n",
      "Downloading data from refinitiv...\n",
      "(289, 71)\n",
      "Master shape: (3018, 71)\n",
      "Start Date: 19950819, End Date: 19950821\n",
      "Downloading data from refinitiv...\n",
      "(102, 71)\n",
      "Master shape: (3120, 71)\n",
      "Start Date: 19950822, End Date: 19950824\n",
      "Downloading data from refinitiv...\n",
      "(304, 71)\n",
      "Master shape: (3424, 71)\n",
      "Start Date: 19950825, End Date: 19950827\n",
      "Downloading data from refinitiv...\n",
      "(109, 71)\n",
      "Master shape: (3533, 71)\n",
      "Start Date: 19950828, End Date: 19950830\n",
      "Downloading data from refinitiv...\n"
     ]
    },
    {
     "name": "stderr",
     "output_type": "stream",
     "text": [
      "/var/tmp/ipykernel_10925/3801902500.py:128: FutureWarning: The behavior of DataFrame concatenation with empty or all-NA entries is deprecated. In a future version, this will no longer exclude empty or all-NA columns when determining the result dtypes. To retain the old behavior, exclude the relevant entries before the concat operation.\n",
      "  master_df = pd.concat([master_df, mnas], ignore_index=True)\n"
     ]
    },
    {
     "name": "stdout",
     "output_type": "stream",
     "text": [
      "(313, 71)\n",
      "Master shape: (3846, 71)\n",
      "Start Date: 19950831, End Date: 19950902\n",
      "Downloading data from refinitiv...\n",
      "(333, 71)\n",
      "Master shape: (4179, 71)\n",
      "Start Date: 19950903, End Date: 19950905\n",
      "Downloading data from refinitiv...\n"
     ]
    },
    {
     "name": "stderr",
     "output_type": "stream",
     "text": [
      "/var/tmp/ipykernel_10925/3801902500.py:128: FutureWarning: The behavior of DataFrame concatenation with empty or all-NA entries is deprecated. In a future version, this will no longer exclude empty or all-NA columns when determining the result dtypes. To retain the old behavior, exclude the relevant entries before the concat operation.\n",
      "  master_df = pd.concat([master_df, mnas], ignore_index=True)\n"
     ]
    },
    {
     "name": "stdout",
     "output_type": "stream",
     "text": [
      "(169, 71)\n",
      "Master shape: (4348, 71)\n",
      "Appending chunk to BQ\n",
      "Data appended successfully\n",
      "Start Date: 19950906, End Date: 19950908\n",
      "Downloading data from refinitiv...\n",
      "(421, 71)\n",
      "Master shape: (421, 71)\n",
      "Start Date: 19950909, End Date: 19950911\n",
      "Downloading data from refinitiv...\n",
      "(107, 71)\n",
      "Master shape: (528, 71)\n",
      "Start Date: 19950912, End Date: 19950914\n",
      "Downloading data from refinitiv...\n",
      "(326, 71)\n",
      "Master shape: (854, 71)\n",
      "Start Date: 19950915, End Date: 19950917\n",
      "Downloading data from refinitiv...\n",
      "(132, 71)\n",
      "Master shape: (986, 71)\n",
      "Start Date: 19950918, End Date: 19950920\n",
      "Downloading data from refinitiv...\n",
      "(331, 71)\n",
      "Master shape: (1317, 71)\n",
      "Start Date: 19950921, End Date: 19950923\n",
      "Downloading data from refinitiv...\n",
      "(216, 71)\n",
      "Master shape: (1533, 71)\n",
      "Start Date: 19950924, End Date: 19950926\n",
      "Downloading data from refinitiv...\n",
      "(233, 71)\n",
      "Master shape: (1766, 71)\n",
      "Start Date: 19950927, End Date: 19950929\n",
      "Downloading data from refinitiv...\n",
      "(414, 71)\n",
      "Master shape: (2180, 71)\n",
      "Start Date: 19950930, End Date: 19951002\n",
      "Downloading data from refinitiv...\n",
      "(192, 71)\n",
      "Master shape: (2372, 71)\n",
      "Start Date: 19951003, End Date: 19951005\n",
      "Downloading data from refinitiv...\n",
      "(324, 71)\n",
      "Master shape: (2696, 71)\n",
      "Start Date: 19951006, End Date: 19951008\n",
      "Downloading data from refinitiv...\n"
     ]
    },
    {
     "name": "stderr",
     "output_type": "stream",
     "text": [
      "ERROR!!! An error occurred while requesting URL('https://api.refinitiv.com/data/datagrid/beta1/').\n",
      "     ReadTimeout('')\n"
     ]
    },
    {
     "name": "stdout",
     "output_type": "stream",
     "text": [
      "An error occurred: . Retrying for the range 19951006 to 19951008...\n",
      "Start Date: 19951006, End Date: 19951008\n",
      "Downloading data from refinitiv...\n",
      "(110, 71)\n",
      "Master shape: (2806, 71)\n",
      "Start Date: 19951009, End Date: 19951011\n",
      "Downloading data from refinitiv...\n"
     ]
    },
    {
     "name": "stderr",
     "output_type": "stream",
     "text": [
      "/var/tmp/ipykernel_10925/3801902500.py:128: FutureWarning: The behavior of DataFrame concatenation with empty or all-NA entries is deprecated. In a future version, this will no longer exclude empty or all-NA columns when determining the result dtypes. To retain the old behavior, exclude the relevant entries before the concat operation.\n",
      "  master_df = pd.concat([master_df, mnas], ignore_index=True)\n"
     ]
    },
    {
     "name": "stdout",
     "output_type": "stream",
     "text": [
      "(317, 71)\n",
      "Master shape: (3123, 71)\n",
      "Start Date: 19951012, End Date: 19951014\n",
      "Downloading data from refinitiv...\n",
      "(232, 71)\n",
      "Master shape: (3355, 71)\n",
      "Start Date: 19951015, End Date: 19951017\n",
      "Downloading data from refinitiv...\n",
      "(222, 71)\n",
      "Master shape: (3577, 71)\n",
      "Start Date: 19951018, End Date: 19951020\n",
      "Downloading data from refinitiv...\n"
     ]
    },
    {
     "name": "stderr",
     "output_type": "stream",
     "text": [
      "ERROR!!! An error occurred while requesting URL('https://api.refinitiv.com/data/datagrid/beta1/').\n",
      "     ReadTimeout('')\n"
     ]
    },
    {
     "name": "stdout",
     "output_type": "stream",
     "text": [
      "An error occurred: . Retrying for the range 19951018 to 19951020...\n",
      "Start Date: 19951018, End Date: 19951020\n",
      "Downloading data from refinitiv...\n",
      "(320, 71)\n",
      "Master shape: (3897, 71)\n",
      "Start Date: 19951021, End Date: 19951023\n",
      "Downloading data from refinitiv...\n",
      "(103, 71)\n",
      "Master shape: (4000, 71)\n",
      "Start Date: 19951024, End Date: 19951026\n",
      "Downloading data from refinitiv...\n",
      "(435, 71)\n",
      "Master shape: (4435, 71)\n",
      "Start Date: 19951027, End Date: 19951029\n",
      "Downloading data from refinitiv...\n",
      "(118, 71)\n",
      "Master shape: (4553, 71)\n",
      "Start Date: 19951030, End Date: 19951101\n",
      "Downloading data from refinitiv...\n"
     ]
    },
    {
     "name": "stderr",
     "output_type": "stream",
     "text": [
      "/var/tmp/ipykernel_10925/3801902500.py:128: FutureWarning: The behavior of DataFrame concatenation with empty or all-NA entries is deprecated. In a future version, this will no longer exclude empty or all-NA columns when determining the result dtypes. To retain the old behavior, exclude the relevant entries before the concat operation.\n",
      "  master_df = pd.concat([master_df, mnas], ignore_index=True)\n"
     ]
    },
    {
     "name": "stdout",
     "output_type": "stream",
     "text": [
      "(389, 71)\n",
      "Master shape: (4942, 71)\n",
      "Start Date: 19951102, End Date: 19951104\n",
      "Downloading data from refinitiv...\n",
      "(243, 71)\n",
      "Master shape: (5185, 71)\n",
      "Appending chunk to BQ\n",
      "Data appended successfully\n",
      "Start Date: 19951105, End Date: 19951107\n",
      "Downloading data from refinitiv...\n",
      "(235, 71)\n",
      "Master shape: (235, 71)\n",
      "Start Date: 19951108, End Date: 19951110\n",
      "Downloading data from refinitiv...\n",
      "(300, 71)\n",
      "Master shape: (535, 71)\n",
      "Start Date: 19951111, End Date: 19951113\n",
      "Downloading data from refinitiv...\n",
      "(113, 71)\n",
      "Master shape: (648, 71)\n",
      "Start Date: 19951114, End Date: 19951116\n",
      "Downloading data from refinitiv...\n",
      "(324, 71)\n",
      "Master shape: (972, 71)\n",
      "Start Date: 19951117, End Date: 19951119\n",
      "Downloading data from refinitiv...\n"
     ]
    },
    {
     "name": "stderr",
     "output_type": "stream",
     "text": [
      "/var/tmp/ipykernel_10925/3801902500.py:128: FutureWarning: The behavior of DataFrame concatenation with empty or all-NA entries is deprecated. In a future version, this will no longer exclude empty or all-NA columns when determining the result dtypes. To retain the old behavior, exclude the relevant entries before the concat operation.\n",
      "  master_df = pd.concat([master_df, mnas], ignore_index=True)\n"
     ]
    },
    {
     "name": "stdout",
     "output_type": "stream",
     "text": [
      "(144, 71)\n",
      "Master shape: (1116, 71)\n",
      "Start Date: 19951120, End Date: 19951122\n",
      "Downloading data from refinitiv...\n"
     ]
    },
    {
     "name": "stderr",
     "output_type": "stream",
     "text": [
      "/var/tmp/ipykernel_10925/3801902500.py:128: FutureWarning: The behavior of DataFrame concatenation with empty or all-NA entries is deprecated. In a future version, this will no longer exclude empty or all-NA columns when determining the result dtypes. To retain the old behavior, exclude the relevant entries before the concat operation.\n",
      "  master_df = pd.concat([master_df, mnas], ignore_index=True)\n"
     ]
    },
    {
     "name": "stdout",
     "output_type": "stream",
     "text": [
      "(364, 71)\n",
      "Master shape: (1480, 71)\n",
      "Start Date: 19951123, End Date: 19951125\n",
      "Downloading data from refinitiv...\n",
      "(119, 71)\n",
      "Master shape: (1599, 71)\n",
      "Start Date: 19951126, End Date: 19951128\n",
      "Downloading data from refinitiv...\n",
      "(204, 71)\n",
      "Master shape: (1803, 71)\n",
      "Start Date: 19951129, End Date: 19951201\n",
      "Downloading data from refinitiv...\n",
      "(558, 71)\n",
      "Master shape: (2361, 71)\n",
      "Start Date: 19951202, End Date: 19951204\n",
      "Downloading data from refinitiv...\n",
      "(126, 71)\n",
      "Master shape: (2487, 71)\n",
      "Start Date: 19951205, End Date: 19951207\n",
      "Downloading data from refinitiv...\n",
      "(329, 71)\n",
      "Master shape: (2816, 71)\n",
      "Start Date: 19951208, End Date: 19951210\n",
      "Downloading data from refinitiv...\n",
      "(156, 71)\n",
      "Master shape: (2972, 71)\n",
      "Start Date: 19951211, End Date: 19951213\n",
      "Downloading data from refinitiv...\n"
     ]
    },
    {
     "name": "stderr",
     "output_type": "stream",
     "text": [
      "/var/tmp/ipykernel_10925/3801902500.py:128: FutureWarning: The behavior of DataFrame concatenation with empty or all-NA entries is deprecated. In a future version, this will no longer exclude empty or all-NA columns when determining the result dtypes. To retain the old behavior, exclude the relevant entries before the concat operation.\n",
      "  master_df = pd.concat([master_df, mnas], ignore_index=True)\n"
     ]
    },
    {
     "name": "stdout",
     "output_type": "stream",
     "text": [
      "(317, 71)\n",
      "Master shape: (3289, 71)\n",
      "Start Date: 19951214, End Date: 19951216\n",
      "Downloading data from refinitiv...\n",
      "(255, 71)\n",
      "Master shape: (3544, 71)\n",
      "Start Date: 19951217, End Date: 19951219\n",
      "Downloading data from refinitiv...\n",
      "(274, 71)\n",
      "Master shape: (3818, 71)\n",
      "Start Date: 19951220, End Date: 19951222\n",
      "Downloading data from refinitiv...\n",
      "(427, 71)\n",
      "Master shape: (4245, 71)\n",
      "Start Date: 19951223, End Date: 19951225\n",
      "Downloading data from refinitiv...\n",
      "(11, 71)\n",
      "Master shape: (4256, 71)\n",
      "Start Date: 19951226, End Date: 19951228\n",
      "Downloading data from refinitiv...\n"
     ]
    },
    {
     "name": "stderr",
     "output_type": "stream",
     "text": [
      "/var/tmp/ipykernel_10925/3801902500.py:128: FutureWarning: The behavior of DataFrame concatenation with empty or all-NA entries is deprecated. In a future version, this will no longer exclude empty or all-NA columns when determining the result dtypes. To retain the old behavior, exclude the relevant entries before the concat operation.\n",
      "  master_df = pd.concat([master_df, mnas], ignore_index=True)\n"
     ]
    },
    {
     "name": "stdout",
     "output_type": "stream",
     "text": [
      "(200, 71)\n",
      "Master shape: (4456, 71)\n",
      "Start Date: 19951229, End Date: 19951231\n",
      "Downloading data from refinitiv...\n"
     ]
    },
    {
     "name": "stderr",
     "output_type": "stream",
     "text": [
      "/var/tmp/ipykernel_10925/3801902500.py:128: FutureWarning: The behavior of DataFrame concatenation with empty or all-NA entries is deprecated. In a future version, this will no longer exclude empty or all-NA columns when determining the result dtypes. To retain the old behavior, exclude the relevant entries before the concat operation.\n",
      "  master_df = pd.concat([master_df, mnas], ignore_index=True)\n"
     ]
    },
    {
     "name": "stdout",
     "output_type": "stream",
     "text": [
      "(206, 71)\n",
      "Master shape: (4662, 71)\n",
      "Start Date: 19960101, End Date: 19960103\n",
      "Downloading data from refinitiv...\n",
      "(314, 71)\n",
      "Master shape: (4976, 71)\n",
      "Appending chunk to BQ\n",
      "Data appended successfully\n",
      "Start Date: 19960104, End Date: 19960106\n",
      "Downloading data from refinitiv...\n",
      "(234, 71)\n",
      "Master shape: (234, 71)\n",
      "Start Date: 19960107, End Date: 19960109\n",
      "Downloading data from refinitiv...\n",
      "(267, 71)\n",
      "Master shape: (501, 71)\n",
      "Start Date: 19960110, End Date: 19960112\n",
      "Downloading data from refinitiv...\n",
      "(328, 71)\n",
      "Master shape: (829, 71)\n",
      "Start Date: 19960113, End Date: 19960115\n",
      "Downloading data from refinitiv...\n",
      "(120, 71)\n",
      "Master shape: (949, 71)\n",
      "Start Date: 19960116, End Date: 19960118\n",
      "Downloading data from refinitiv...\n"
     ]
    },
    {
     "name": "stderr",
     "output_type": "stream",
     "text": [
      "/var/tmp/ipykernel_10925/3801902500.py:128: FutureWarning: The behavior of DataFrame concatenation with empty or all-NA entries is deprecated. In a future version, this will no longer exclude empty or all-NA columns when determining the result dtypes. To retain the old behavior, exclude the relevant entries before the concat operation.\n",
      "  master_df = pd.concat([master_df, mnas], ignore_index=True)\n",
      "ERROR!!! An error occurred while requesting URL('https://api.refinitiv.com/data/datagrid/beta1/').\n",
      "     ReadTimeout('')\n"
     ]
    },
    {
     "name": "stdout",
     "output_type": "stream",
     "text": [
      "An error occurred: . Retrying for the range 19960116 to 19960118...\n",
      "Start Date: 19960116, End Date: 19960118\n",
      "Downloading data from refinitiv...\n",
      "(374, 71)\n",
      "Master shape: (1323, 71)\n",
      "Start Date: 19960119, End Date: 19960121\n",
      "Downloading data from refinitiv...\n",
      "(139, 71)\n",
      "Master shape: (1462, 71)\n",
      "Start Date: 19960122, End Date: 19960124\n",
      "Downloading data from refinitiv...\n"
     ]
    },
    {
     "name": "stderr",
     "output_type": "stream",
     "text": [
      "/var/tmp/ipykernel_10925/3801902500.py:128: FutureWarning: The behavior of DataFrame concatenation with empty or all-NA entries is deprecated. In a future version, this will no longer exclude empty or all-NA columns when determining the result dtypes. To retain the old behavior, exclude the relevant entries before the concat operation.\n",
      "  master_df = pd.concat([master_df, mnas], ignore_index=True)\n"
     ]
    },
    {
     "name": "stdout",
     "output_type": "stream",
     "text": [
      "(317, 71)\n",
      "Master shape: (1779, 71)\n",
      "Start Date: 19960125, End Date: 19960127\n",
      "Downloading data from refinitiv...\n",
      "(242, 71)\n",
      "Master shape: (2021, 71)\n",
      "Start Date: 19960128, End Date: 19960130\n",
      "Downloading data from refinitiv...\n",
      "(199, 71)\n",
      "Master shape: (2220, 71)\n",
      "Start Date: 19960131, End Date: 19960202\n",
      "Downloading data from refinitiv...\n",
      "(469, 71)\n",
      "Master shape: (2689, 71)\n",
      "Start Date: 19960203, End Date: 19960205\n",
      "Downloading data from refinitiv...\n"
     ]
    },
    {
     "name": "stderr",
     "output_type": "stream",
     "text": [
      "ERROR!!! An error occurred while requesting URL('https://api.refinitiv.com/data/datagrid/beta1/').\n",
      "     ReadTimeout('')\n"
     ]
    },
    {
     "name": "stdout",
     "output_type": "stream",
     "text": [
      "An error occurred: . Retrying for the range 19960203 to 19960205...\n",
      "Start Date: 19960203, End Date: 19960205\n",
      "Downloading data from refinitiv...\n",
      "(124, 71)\n",
      "Master shape: (2813, 71)\n",
      "Start Date: 19960206, End Date: 19960208\n",
      "Downloading data from refinitiv...\n",
      "(292, 71)\n",
      "Master shape: (3105, 71)\n",
      "Start Date: 19960209, End Date: 19960211\n",
      "Downloading data from refinitiv...\n",
      "(139, 71)\n",
      "Master shape: (3244, 71)\n",
      "Start Date: 19960212, End Date: 19960214\n",
      "Downloading data from refinitiv...\n"
     ]
    },
    {
     "name": "stderr",
     "output_type": "stream",
     "text": [
      "ERROR!!! An error occurred while requesting URL('https://api.refinitiv.com/data/datagrid/beta1/').\n",
      "     ReadTimeout('')\n"
     ]
    },
    {
     "name": "stdout",
     "output_type": "stream",
     "text": [
      "An error occurred: . Retrying for the range 19960212 to 19960214...\n",
      "Start Date: 19960212, End Date: 19960214\n",
      "Downloading data from refinitiv...\n",
      "(329, 71)\n",
      "Master shape: (3573, 71)\n",
      "Start Date: 19960215, End Date: 19960217\n",
      "Downloading data from refinitiv...\n",
      "(267, 71)\n",
      "Master shape: (3840, 71)\n",
      "Start Date: 19960218, End Date: 19960220\n",
      "Downloading data from refinitiv...\n",
      "(155, 71)\n",
      "Master shape: (3995, 71)\n",
      "Start Date: 19960221, End Date: 19960223\n",
      "Downloading data from refinitiv...\n",
      "(323, 71)\n",
      "Master shape: (4318, 71)\n",
      "Start Date: 19960224, End Date: 19960226\n",
      "Downloading data from refinitiv...\n",
      "(99, 71)\n",
      "Master shape: (4417, 71)\n",
      "Start Date: 19960227, End Date: 19960229\n",
      "Downloading data from refinitiv...\n",
      "(355, 71)\n",
      "Master shape: (4772, 71)\n",
      "Start Date: 19960301, End Date: 19960303\n",
      "Downloading data from refinitiv...\n",
      "(196, 71)\n",
      "Master shape: (4968, 71)\n",
      "Appending chunk to BQ\n"
     ]
    },
    {
     "name": "stderr",
     "output_type": "stream",
     "text": [
      "/var/tmp/ipykernel_10925/3801902500.py:128: FutureWarning: The behavior of DataFrame concatenation with empty or all-NA entries is deprecated. In a future version, this will no longer exclude empty or all-NA columns when determining the result dtypes. To retain the old behavior, exclude the relevant entries before the concat operation.\n",
      "  master_df = pd.concat([master_df, mnas], ignore_index=True)\n"
     ]
    },
    {
     "name": "stdout",
     "output_type": "stream",
     "text": [
      "Data appended successfully\n",
      "Start Date: 19960304, End Date: 19960306\n",
      "Downloading data from refinitiv...\n",
      "(407, 71)\n",
      "Master shape: (407, 71)\n",
      "Start Date: 19960307, End Date: 19960309\n",
      "Downloading data from refinitiv...\n",
      "(244, 71)\n",
      "Master shape: (651, 71)\n",
      "Start Date: 19960310, End Date: 19960312\n",
      "Downloading data from refinitiv...\n",
      "(273, 71)\n",
      "Master shape: (924, 71)\n",
      "Start Date: 19960313, End Date: 19960315\n",
      "Downloading data from refinitiv...\n",
      "(351, 71)\n",
      "Master shape: (1275, 71)\n",
      "Start Date: 19960316, End Date: 19960318\n",
      "Downloading data from refinitiv...\n"
     ]
    },
    {
     "name": "stderr",
     "output_type": "stream",
     "text": [
      "ERROR!!! An error occurred while requesting URL('https://api.refinitiv.com/data/datagrid/beta1/').\n",
      "     ReadTimeout('')\n"
     ]
    },
    {
     "name": "stdout",
     "output_type": "stream",
     "text": [
      "An error occurred: . Retrying for the range 19960316 to 19960318...\n",
      "Start Date: 19960316, End Date: 19960318\n",
      "Downloading data from refinitiv...\n",
      "(103, 71)\n",
      "Master shape: (1378, 71)\n",
      "Start Date: 19960319, End Date: 19960321\n",
      "Downloading data from refinitiv...\n",
      "(302, 71)\n",
      "Master shape: (1680, 71)\n",
      "Start Date: 19960322, End Date: 19960324\n",
      "Downloading data from refinitiv...\n",
      "(116, 71)\n",
      "Master shape: (1796, 71)\n",
      "Start Date: 19960325, End Date: 19960327\n",
      "Downloading data from refinitiv...\n",
      "(298, 71)\n",
      "Master shape: (2094, 71)\n",
      "Start Date: 19960328, End Date: 19960330\n",
      "Downloading data from refinitiv...\n",
      "(258, 71)\n",
      "Master shape: (2352, 71)\n",
      "Start Date: 19960331, End Date: 19960402\n",
      "Downloading data from refinitiv...\n",
      "(285, 71)\n",
      "Master shape: (2637, 71)\n",
      "Start Date: 19960403, End Date: 19960405\n",
      "Downloading data from refinitiv...\n",
      "(235, 71)\n",
      "Master shape: (2872, 71)\n",
      "Start Date: 19960406, End Date: 19960408\n",
      "Downloading data from refinitiv...\n",
      "(91, 71)\n",
      "Master shape: (2963, 71)\n",
      "Start Date: 19960409, End Date: 19960411\n",
      "Downloading data from refinitiv...\n",
      "(316, 71)\n",
      "Master shape: (3279, 71)\n",
      "Start Date: 19960412, End Date: 19960414\n",
      "Downloading data from refinitiv...\n",
      "(105, 71)\n",
      "Master shape: (3384, 71)\n",
      "Start Date: 19960415, End Date: 19960417\n",
      "Downloading data from refinitiv...\n",
      "(347, 71)\n",
      "Master shape: (3731, 71)\n",
      "Start Date: 19960418, End Date: 19960420\n",
      "Downloading data from refinitiv...\n",
      "(221, 71)\n",
      "Master shape: (3952, 71)\n",
      "Start Date: 19960421, End Date: 19960423\n",
      "Downloading data from refinitiv...\n",
      "(236, 71)\n",
      "Master shape: (4188, 71)\n",
      "Start Date: 19960424, End Date: 19960426\n",
      "Downloading data from refinitiv...\n",
      "(323, 71)\n",
      "Master shape: (4511, 71)\n",
      "Start Date: 19960427, End Date: 19960429\n",
      "Downloading data from refinitiv...\n"
     ]
    },
    {
     "name": "stderr",
     "output_type": "stream",
     "text": [
      "ERROR!!! An error occurred while requesting URL('https://api.refinitiv.com/data/datagrid/beta1/').\n",
      "     ReadTimeout('')\n"
     ]
    },
    {
     "name": "stdout",
     "output_type": "stream",
     "text": [
      "An error occurred: . Retrying for the range 19960427 to 19960429...\n",
      "Start Date: 19960427, End Date: 19960429\n",
      "Downloading data from refinitiv...\n",
      "(117, 71)\n",
      "Master shape: (4628, 71)\n",
      "Start Date: 19960430, End Date: 19960502\n",
      "Downloading data from refinitiv...\n",
      "(367, 71)\n",
      "Master shape: (4995, 71)\n",
      "Appending chunk to BQ\n",
      "Data appended successfully\n",
      "Start Date: 19960503, End Date: 19960505\n",
      "Downloading data from refinitiv...\n",
      "(123, 71)\n",
      "Master shape: (123, 71)\n",
      "Start Date: 19960506, End Date: 19960508\n",
      "Downloading data from refinitiv...\n",
      "(377, 71)\n",
      "Master shape: (500, 71)\n",
      "Start Date: 19960509, End Date: 19960511\n",
      "Downloading data from refinitiv...\n",
      "(233, 71)\n",
      "Master shape: (733, 71)\n",
      "Start Date: 19960512, End Date: 19960514\n",
      "Downloading data from refinitiv...\n",
      "(211, 71)\n",
      "Master shape: (944, 71)\n",
      "Start Date: 19960515, End Date: 19960517\n",
      "Downloading data from refinitiv...\n",
      "(323, 71)\n",
      "Master shape: (1267, 71)\n",
      "Start Date: 19960518, End Date: 19960520\n",
      "Downloading data from refinitiv...\n"
     ]
    },
    {
     "name": "stderr",
     "output_type": "stream",
     "text": [
      "/var/tmp/ipykernel_10925/3801902500.py:128: FutureWarning: The behavior of DataFrame concatenation with empty or all-NA entries is deprecated. In a future version, this will no longer exclude empty or all-NA columns when determining the result dtypes. To retain the old behavior, exclude the relevant entries before the concat operation.\n",
      "  master_df = pd.concat([master_df, mnas], ignore_index=True)\n"
     ]
    },
    {
     "name": "stdout",
     "output_type": "stream",
     "text": [
      "(100, 71)\n",
      "Master shape: (1367, 71)\n",
      "Start Date: 19960521, End Date: 19960523\n",
      "Downloading data from refinitiv...\n",
      "(342, 71)\n",
      "Master shape: (1709, 71)\n",
      "Start Date: 19960524, End Date: 19960526\n",
      "Downloading data from refinitiv...\n",
      "(108, 71)\n",
      "Master shape: (1817, 71)\n",
      "Start Date: 19960527, End Date: 19960529\n",
      "Downloading data from refinitiv...\n"
     ]
    },
    {
     "name": "stderr",
     "output_type": "stream",
     "text": [
      "ERROR!!! An error occurred while requesting URL('https://api.refinitiv.com/data/datagrid/beta1/').\n",
      "     ReadTimeout('')\n"
     ]
    },
    {
     "name": "stdout",
     "output_type": "stream",
     "text": [
      "An error occurred: . Retrying for the range 19960527 to 19960529...\n",
      "Start Date: 19960527, End Date: 19960529\n",
      "Downloading data from refinitiv...\n",
      "(224, 71)\n",
      "Master shape: (2041, 71)\n",
      "Start Date: 19960530, End Date: 19960601\n",
      "Downloading data from refinitiv...\n",
      "(302, 71)\n",
      "Master shape: (2343, 71)\n",
      "Start Date: 19960602, End Date: 19960604\n",
      "Downloading data from refinitiv...\n",
      "(255, 71)\n",
      "Master shape: (2598, 71)\n",
      "Start Date: 19960605, End Date: 19960607\n",
      "Downloading data from refinitiv...\n",
      "(390, 71)\n",
      "Master shape: (2988, 71)\n",
      "Start Date: 19960608, End Date: 19960610\n",
      "Downloading data from refinitiv...\n",
      "(145, 71)\n",
      "Master shape: (3133, 71)\n",
      "Start Date: 19960611, End Date: 19960613\n",
      "Downloading data from refinitiv...\n",
      "(369, 71)\n",
      "Master shape: (3502, 71)\n",
      "Start Date: 19960614, End Date: 19960616\n",
      "Downloading data from refinitiv...\n",
      "(132, 71)\n",
      "Master shape: (3634, 71)\n",
      "Start Date: 19960617, End Date: 19960619\n",
      "Downloading data from refinitiv...\n"
     ]
    },
    {
     "name": "stderr",
     "output_type": "stream",
     "text": [
      "/var/tmp/ipykernel_10925/3801902500.py:128: FutureWarning: The behavior of DataFrame concatenation with empty or all-NA entries is deprecated. In a future version, this will no longer exclude empty or all-NA columns when determining the result dtypes. To retain the old behavior, exclude the relevant entries before the concat operation.\n",
      "  master_df = pd.concat([master_df, mnas], ignore_index=True)\n",
      "ERROR!!! An error occurred while requesting URL('https://api.refinitiv.com/data/datagrid/beta1/').\n",
      "     ReadTimeout('')\n"
     ]
    },
    {
     "name": "stdout",
     "output_type": "stream",
     "text": [
      "An error occurred: . Retrying for the range 19960617 to 19960619...\n",
      "Start Date: 19960617, End Date: 19960619\n",
      "Downloading data from refinitiv...\n"
     ]
    },
    {
     "name": "stderr",
     "output_type": "stream",
     "text": [
      "ERROR!!! An error occurred while requesting URL('https://api.refinitiv.com/data/datagrid/beta1/').\n",
      "     ReadTimeout('')\n"
     ]
    },
    {
     "name": "stdout",
     "output_type": "stream",
     "text": [
      "An error occurred: . Retrying for the range 19960617 to 19960619...\n",
      "Start Date: 19960617, End Date: 19960619\n",
      "Downloading data from refinitiv...\n",
      "(376, 71)\n",
      "Master shape: (4010, 71)\n",
      "Start Date: 19960620, End Date: 19960622\n",
      "Downloading data from refinitiv...\n",
      "(217, 71)\n",
      "Master shape: (4227, 71)\n",
      "Start Date: 19960623, End Date: 19960625\n",
      "Downloading data from refinitiv...\n",
      "(212, 71)\n",
      "Master shape: (4439, 71)\n",
      "Start Date: 19960626, End Date: 19960628\n",
      "Downloading data from refinitiv...\n",
      "(409, 71)\n",
      "Master shape: (4848, 71)\n",
      "Start Date: 19960629, End Date: 19960701\n",
      "Downloading data from refinitiv...\n",
      "(243, 71)\n",
      "Master shape: (5091, 71)\n",
      "Appending chunk to BQ\n",
      "Data appended successfully\n",
      "Start Date: 19960702, End Date: 19960704\n",
      "Downloading data from refinitiv...\n"
     ]
    },
    {
     "name": "stderr",
     "output_type": "stream",
     "text": [
      "ERROR!!! An error occurred while requesting URL('https://api.refinitiv.com/data/datagrid/beta1/').\n",
      "     ReadTimeout('')\n"
     ]
    },
    {
     "name": "stdout",
     "output_type": "stream",
     "text": [
      "An error occurred: . Retrying for the range 19960702 to 19960704...\n",
      "Start Date: 19960702, End Date: 19960704\n",
      "Downloading data from refinitiv...\n",
      "(329, 71)\n",
      "Master shape: (329, 71)\n",
      "Start Date: 19960705, End Date: 19960707\n",
      "Downloading data from refinitiv...\n"
     ]
    },
    {
     "name": "stderr",
     "output_type": "stream",
     "text": [
      "ERROR!!! An error occurred while requesting URL('https://api.refinitiv.com/data/datagrid/beta1/').\n",
      "     ReadTimeout('')\n"
     ]
    },
    {
     "name": "stdout",
     "output_type": "stream",
     "text": [
      "An error occurred: . Retrying for the range 19960705 to 19960707...\n",
      "Start Date: 19960705, End Date: 19960707\n",
      "Downloading data from refinitiv...\n",
      "(94, 71)\n",
      "Master shape: (423, 71)\n",
      "Start Date: 19960708, End Date: 19960710\n",
      "Downloading data from refinitiv...\n",
      "(376, 71)\n",
      "Master shape: (799, 71)\n",
      "Start Date: 19960711, End Date: 19960713\n",
      "Downloading data from refinitiv...\n",
      "(298, 71)\n",
      "Master shape: (1097, 71)\n",
      "Start Date: 19960714, End Date: 19960716\n",
      "Downloading data from refinitiv...\n",
      "(236, 71)\n",
      "Master shape: (1333, 71)\n",
      "Start Date: 19960717, End Date: 19960719\n",
      "Downloading data from refinitiv...\n",
      "(370, 71)\n",
      "Master shape: (1703, 71)\n",
      "Start Date: 19960720, End Date: 19960722\n",
      "Downloading data from refinitiv...\n",
      "(108, 71)\n",
      "Master shape: (1811, 71)\n",
      "Start Date: 19960723, End Date: 19960725\n",
      "Downloading data from refinitiv...\n"
     ]
    },
    {
     "name": "stderr",
     "output_type": "stream",
     "text": [
      "ERROR!!! An error occurred while requesting URL('https://api.refinitiv.com/data/datagrid/beta1/').\n",
      "     ReadTimeout('')\n"
     ]
    },
    {
     "name": "stdout",
     "output_type": "stream",
     "text": [
      "An error occurred: . Retrying for the range 19960723 to 19960725...\n",
      "Start Date: 19960723, End Date: 19960725\n",
      "Downloading data from refinitiv...\n",
      "(356, 71)\n",
      "Master shape: (2167, 71)\n",
      "Start Date: 19960726, End Date: 19960728\n",
      "Downloading data from refinitiv...\n"
     ]
    },
    {
     "name": "stderr",
     "output_type": "stream",
     "text": [
      "ERROR!!! An error occurred while requesting URL('https://api.refinitiv.com/data/datagrid/beta1/').\n",
      "     ReadTimeout('')\n"
     ]
    },
    {
     "name": "stdout",
     "output_type": "stream",
     "text": [
      "An error occurred: . Retrying for the range 19960726 to 19960728...\n",
      "Start Date: 19960726, End Date: 19960728\n",
      "Downloading data from refinitiv...\n",
      "(118, 71)\n",
      "Master shape: (2285, 71)\n",
      "Start Date: 19960729, End Date: 19960731\n",
      "Downloading data from refinitiv...\n",
      "(371, 71)\n",
      "Master shape: (2656, 71)\n",
      "Start Date: 19960801, End Date: 19960803\n",
      "Downloading data from refinitiv...\n",
      "(243, 71)\n",
      "Master shape: (2899, 71)\n",
      "Start Date: 19960804, End Date: 19960806\n",
      "Downloading data from refinitiv...\n",
      "(195, 71)\n",
      "Master shape: (3094, 71)\n",
      "Start Date: 19960807, End Date: 19960809\n",
      "Downloading data from refinitiv...\n",
      "(292, 71)\n",
      "Master shape: (3386, 71)\n",
      "Start Date: 19960810, End Date: 19960812\n",
      "Downloading data from refinitiv...\n",
      "(124, 71)\n",
      "Master shape: (3510, 71)\n",
      "Start Date: 19960813, End Date: 19960815\n",
      "Downloading data from refinitiv...\n",
      "(367, 71)\n",
      "Master shape: (3877, 71)\n",
      "Start Date: 19960816, End Date: 19960818\n",
      "Downloading data from refinitiv...\n",
      "(111, 71)\n",
      "Master shape: (3988, 71)\n",
      "Start Date: 19960819, End Date: 19960821\n",
      "Downloading data from refinitiv...\n",
      "(288, 71)\n",
      "Master shape: (4276, 71)\n",
      "Start Date: 19960822, End Date: 19960824\n",
      "Downloading data from refinitiv...\n"
     ]
    },
    {
     "name": "stderr",
     "output_type": "stream",
     "text": [
      "ERROR!!! An error occurred while requesting URL('https://api.refinitiv.com/data/datagrid/beta1/').\n",
      "     ReadTimeout('')\n"
     ]
    },
    {
     "name": "stdout",
     "output_type": "stream",
     "text": [
      "An error occurred: . Retrying for the range 19960822 to 19960824...\n",
      "Start Date: 19960822, End Date: 19960824\n",
      "Downloading data from refinitiv...\n",
      "(188, 71)\n",
      "Master shape: (4464, 71)\n",
      "Start Date: 19960825, End Date: 19960827\n",
      "Downloading data from refinitiv...\n",
      "(189, 71)\n",
      "Master shape: (4653, 71)\n",
      "Start Date: 19960828, End Date: 19960830\n",
      "Downloading data from refinitiv...\n",
      "(296, 71)\n",
      "Master shape: (4949, 71)\n",
      "Appending chunk to BQ\n",
      "Data appended successfully\n",
      "Start Date: 19960831, End Date: 19960902\n",
      "Downloading data from refinitiv...\n",
      "(115, 71)\n",
      "Master shape: (115, 71)\n",
      "Start Date: 19960903, End Date: 19960905\n",
      "Downloading data from refinitiv...\n",
      "(421, 71)\n",
      "Master shape: (536, 71)\n",
      "Start Date: 19960906, End Date: 19960908\n",
      "Downloading data from refinitiv...\n"
     ]
    },
    {
     "name": "stderr",
     "output_type": "stream",
     "text": [
      "/var/tmp/ipykernel_10925/3801902500.py:128: FutureWarning: The behavior of DataFrame concatenation with empty or all-NA entries is deprecated. In a future version, this will no longer exclude empty or all-NA columns when determining the result dtypes. To retain the old behavior, exclude the relevant entries before the concat operation.\n",
      "  master_df = pd.concat([master_df, mnas], ignore_index=True)\n"
     ]
    },
    {
     "name": "stdout",
     "output_type": "stream",
     "text": [
      "(107, 71)\n",
      "Master shape: (643, 71)\n",
      "Start Date: 19960909, End Date: 19960911\n",
      "Downloading data from refinitiv...\n",
      "(300, 71)\n",
      "Master shape: (943, 71)\n",
      "Start Date: 19960912, End Date: 19960914\n",
      "Downloading data from refinitiv...\n",
      "(173, 71)\n",
      "Master shape: (1116, 71)\n",
      "Start Date: 19960915, End Date: 19960917\n",
      "Downloading data from refinitiv...\n"
     ]
    },
    {
     "name": "stderr",
     "output_type": "stream",
     "text": [
      "ERROR!!! An error occurred while requesting URL('https://api.refinitiv.com/data/datagrid/beta1/').\n",
      "     ReadTimeout('')\n"
     ]
    },
    {
     "name": "stdout",
     "output_type": "stream",
     "text": [
      "An error occurred: . Retrying for the range 19960915 to 19960917...\n",
      "Start Date: 19960915, End Date: 19960917\n",
      "Downloading data from refinitiv...\n"
     ]
    },
    {
     "name": "stderr",
     "output_type": "stream",
     "text": [
      "ERROR!!! An error occurred while requesting URL('https://api.refinitiv.com/data/datagrid/beta1/').\n",
      "     ReadTimeout('')\n"
     ]
    },
    {
     "name": "stdout",
     "output_type": "stream",
     "text": [
      "An error occurred: . Retrying for the range 19960915 to 19960917...\n",
      "Start Date: 19960915, End Date: 19960917\n",
      "Downloading data from refinitiv...\n",
      "(248, 71)\n",
      "Master shape: (1364, 71)\n",
      "Start Date: 19960918, End Date: 19960920\n",
      "Downloading data from refinitiv...\n",
      "(331, 71)\n",
      "Master shape: (1695, 71)\n",
      "Start Date: 19960921, End Date: 19960923\n",
      "Downloading data from refinitiv...\n",
      "(96, 71)\n",
      "Master shape: (1791, 71)\n",
      "Start Date: 19960924, End Date: 19960926\n",
      "Downloading data from refinitiv...\n",
      "(310, 71)\n",
      "Master shape: (2101, 71)\n",
      "Start Date: 19960927, End Date: 19960929\n",
      "Downloading data from refinitiv...\n",
      "(111, 71)\n",
      "Master shape: (2212, 71)\n",
      "Start Date: 19960930, End Date: 19961002\n",
      "Downloading data from refinitiv...\n",
      "(452, 71)\n",
      "Master shape: (2664, 71)\n",
      "Start Date: 19961003, End Date: 19961005\n",
      "Downloading data from refinitiv...\n",
      "(230, 71)\n",
      "Master shape: (2894, 71)\n",
      "Start Date: 19961006, End Date: 19961008\n",
      "Downloading data from refinitiv...\n",
      "(256, 71)\n",
      "Master shape: (3150, 71)\n",
      "Start Date: 19961009, End Date: 19961011\n",
      "Downloading data from refinitiv...\n"
     ]
    },
    {
     "name": "stderr",
     "output_type": "stream",
     "text": [
      "ERROR!!! An error occurred while requesting URL('https://api.refinitiv.com/data/datagrid/beta1/').\n",
      "     ReadTimeout('')\n"
     ]
    },
    {
     "name": "stdout",
     "output_type": "stream",
     "text": [
      "An error occurred: . Retrying for the range 19961009 to 19961011...\n",
      "Start Date: 19961009, End Date: 19961011\n",
      "Downloading data from refinitiv...\n",
      "(322, 71)\n",
      "Master shape: (3472, 71)\n",
      "Start Date: 19961012, End Date: 19961014\n",
      "Downloading data from refinitiv...\n"
     ]
    },
    {
     "name": "stderr",
     "output_type": "stream",
     "text": [
      "/var/tmp/ipykernel_10925/3801902500.py:128: FutureWarning: The behavior of DataFrame concatenation with empty or all-NA entries is deprecated. In a future version, this will no longer exclude empty or all-NA columns when determining the result dtypes. To retain the old behavior, exclude the relevant entries before the concat operation.\n",
      "  master_df = pd.concat([master_df, mnas], ignore_index=True)\n"
     ]
    },
    {
     "name": "stdout",
     "output_type": "stream",
     "text": [
      "(90, 71)\n",
      "Master shape: (3562, 71)\n",
      "Start Date: 19961015, End Date: 19961017\n",
      "Downloading data from refinitiv...\n",
      "(326, 71)\n",
      "Master shape: (3888, 71)\n",
      "Start Date: 19961018, End Date: 19961020\n",
      "Downloading data from refinitiv...\n",
      "(125, 71)\n",
      "Master shape: (4013, 71)\n",
      "Start Date: 19961021, End Date: 19961023\n",
      "Downloading data from refinitiv...\n",
      "(311, 71)\n",
      "Master shape: (4324, 71)\n",
      "Start Date: 19961024, End Date: 19961026\n",
      "Downloading data from refinitiv...\n",
      "(218, 71)\n",
      "Master shape: (4542, 71)\n",
      "Start Date: 19961027, End Date: 19961029\n",
      "Downloading data from refinitiv...\n",
      "(206, 71)\n",
      "Master shape: (4748, 71)\n",
      "Appending chunk to BQ\n",
      "Data appended successfully\n",
      "Start Date: 19961030, End Date: 19961101\n",
      "Downloading data from refinitiv...\n",
      "(415, 71)\n",
      "Master shape: (415, 71)\n",
      "Start Date: 19961102, End Date: 19961104\n",
      "Downloading data from refinitiv...\n",
      "(137, 71)\n",
      "Master shape: (552, 71)\n",
      "Start Date: 19961105, End Date: 19961107\n",
      "Downloading data from refinitiv...\n"
     ]
    },
    {
     "name": "stderr",
     "output_type": "stream",
     "text": [
      "/var/tmp/ipykernel_10925/3801902500.py:128: FutureWarning: The behavior of DataFrame concatenation with empty or all-NA entries is deprecated. In a future version, this will no longer exclude empty or all-NA columns when determining the result dtypes. To retain the old behavior, exclude the relevant entries before the concat operation.\n",
      "  master_df = pd.concat([master_df, mnas], ignore_index=True)\n"
     ]
    },
    {
     "name": "stdout",
     "output_type": "stream",
     "text": [
      "(342, 71)\n",
      "Master shape: (894, 71)\n",
      "Start Date: 19961108, End Date: 19961110\n",
      "Downloading data from refinitiv...\n",
      "(90, 71)\n",
      "Master shape: (984, 71)\n",
      "Start Date: 19961111, End Date: 19961113\n",
      "Downloading data from refinitiv...\n"
     ]
    },
    {
     "name": "stderr",
     "output_type": "stream",
     "text": [
      "ERROR!!! An error occurred while requesting URL('https://api.refinitiv.com/data/datagrid/beta1/').\n",
      "     ReadTimeout('')\n"
     ]
    },
    {
     "name": "stdout",
     "output_type": "stream",
     "text": [
      "An error occurred: . Retrying for the range 19961111 to 19961113...\n",
      "Start Date: 19961111, End Date: 19961113\n",
      "Downloading data from refinitiv...\n",
      "(267, 71)\n",
      "Master shape: (1251, 71)\n",
      "Start Date: 19961114, End Date: 19961116\n",
      "Downloading data from refinitiv...\n",
      "(224, 71)\n",
      "Master shape: (1475, 71)\n",
      "Start Date: 19961117, End Date: 19961119\n",
      "Downloading data from refinitiv...\n",
      "(224, 71)\n",
      "Master shape: (1699, 71)\n",
      "Start Date: 19961120, End Date: 19961122\n",
      "Downloading data from refinitiv...\n",
      "(383, 71)\n",
      "Master shape: (2082, 71)\n",
      "Start Date: 19961123, End Date: 19961125\n",
      "Downloading data from refinitiv...\n",
      "(121, 71)\n",
      "Master shape: (2203, 71)\n",
      "Start Date: 19961126, End Date: 19961128\n",
      "Downloading data from refinitiv...\n"
     ]
    },
    {
     "name": "stderr",
     "output_type": "stream",
     "text": [
      "ERROR!!! An error occurred while requesting URL('https://api.refinitiv.com/data/datagrid/beta1/').\n",
      "     ReadTimeout('')\n"
     ]
    },
    {
     "name": "stdout",
     "output_type": "stream",
     "text": [
      "An error occurred: . Retrying for the range 19961126 to 19961128...\n",
      "Start Date: 19961126, End Date: 19961128\n",
      "Downloading data from refinitiv...\n",
      "(245, 71)\n",
      "Master shape: (2448, 71)\n",
      "Start Date: 19961129, End Date: 19961201\n",
      "Downloading data from refinitiv...\n"
     ]
    },
    {
     "name": "stderr",
     "output_type": "stream",
     "text": [
      "ERROR!!! An error occurred while requesting URL('https://api.refinitiv.com/data/datagrid/beta1/').\n",
      "     ReadTimeout('')\n"
     ]
    },
    {
     "name": "stdout",
     "output_type": "stream",
     "text": [
      "An error occurred: . Retrying for the range 19961129 to 19961201...\n",
      "Start Date: 19961129, End Date: 19961201\n",
      "Downloading data from refinitiv...\n",
      "(106, 71)\n",
      "Master shape: (2554, 71)\n",
      "Start Date: 19961202, End Date: 19961204\n",
      "Downloading data from refinitiv...\n"
     ]
    },
    {
     "name": "stderr",
     "output_type": "stream",
     "text": [
      "/var/tmp/ipykernel_10925/3801902500.py:128: FutureWarning: The behavior of DataFrame concatenation with empty or all-NA entries is deprecated. In a future version, this will no longer exclude empty or all-NA columns when determining the result dtypes. To retain the old behavior, exclude the relevant entries before the concat operation.\n",
      "  master_df = pd.concat([master_df, mnas], ignore_index=True)\n"
     ]
    },
    {
     "name": "stdout",
     "output_type": "stream",
     "text": [
      "(382, 71)\n",
      "Master shape: (2936, 71)\n",
      "Start Date: 19961205, End Date: 19961207\n",
      "Downloading data from refinitiv...\n",
      "(173, 71)\n",
      "Master shape: (3109, 71)\n",
      "Start Date: 19961208, End Date: 19961210\n",
      "Downloading data from refinitiv...\n"
     ]
    },
    {
     "name": "stderr",
     "output_type": "stream",
     "text": [
      "/var/tmp/ipykernel_10925/3801902500.py:128: FutureWarning: The behavior of DataFrame concatenation with empty or all-NA entries is deprecated. In a future version, this will no longer exclude empty or all-NA columns when determining the result dtypes. To retain the old behavior, exclude the relevant entries before the concat operation.\n",
      "  master_df = pd.concat([master_df, mnas], ignore_index=True)\n"
     ]
    },
    {
     "name": "stdout",
     "output_type": "stream",
     "text": [
      "(221, 71)\n",
      "Master shape: (3330, 71)\n",
      "Start Date: 19961211, End Date: 19961213\n",
      "Downloading data from refinitiv...\n",
      "(322, 71)\n",
      "Master shape: (3652, 71)\n",
      "Start Date: 19961214, End Date: 19961216\n",
      "Downloading data from refinitiv...\n",
      "(139, 71)\n",
      "Master shape: (3791, 71)\n",
      "Start Date: 19961217, End Date: 19961219\n",
      "Downloading data from refinitiv...\n",
      "(397, 71)\n",
      "Master shape: (4188, 71)\n",
      "Start Date: 19961220, End Date: 19961222\n",
      "Downloading data from refinitiv...\n",
      "(178, 71)\n",
      "Master shape: (4366, 71)\n",
      "Start Date: 19961223, End Date: 19961225\n",
      "Downloading data from refinitiv...\n",
      "(224, 71)\n",
      "Master shape: (4590, 71)\n",
      "Start Date: 19961226, End Date: 19961228\n",
      "Downloading data from refinitiv...\n",
      "(121, 71)\n",
      "Master shape: (4711, 71)\n",
      "Appending chunk to BQ\n"
     ]
    },
    {
     "name": "stderr",
     "output_type": "stream",
     "text": [
      "/var/tmp/ipykernel_10925/3801902500.py:128: FutureWarning: The behavior of DataFrame concatenation with empty or all-NA entries is deprecated. In a future version, this will no longer exclude empty or all-NA columns when determining the result dtypes. To retain the old behavior, exclude the relevant entries before the concat operation.\n",
      "  master_df = pd.concat([master_df, mnas], ignore_index=True)\n"
     ]
    },
    {
     "name": "stdout",
     "output_type": "stream",
     "text": [
      "Data appended successfully\n",
      "Start Date: 19961229, End Date: 19961231\n",
      "Downloading data from refinitiv...\n",
      "(266, 71)\n",
      "Master shape: (266, 71)\n",
      "Start Date: 19970101, End Date: 19970103\n",
      "Downloading data from refinitiv...\n",
      "(291, 71)\n",
      "Master shape: (557, 71)\n",
      "Start Date: 19970104, End Date: 19970106\n",
      "Downloading data from refinitiv...\n"
     ]
    },
    {
     "name": "stderr",
     "output_type": "stream",
     "text": [
      "/var/tmp/ipykernel_10925/3801902500.py:128: FutureWarning: The behavior of DataFrame concatenation with empty or all-NA entries is deprecated. In a future version, this will no longer exclude empty or all-NA columns when determining the result dtypes. To retain the old behavior, exclude the relevant entries before the concat operation.\n",
      "  master_df = pd.concat([master_df, mnas], ignore_index=True)\n"
     ]
    },
    {
     "name": "stdout",
     "output_type": "stream",
     "text": [
      "(128, 71)\n",
      "Master shape: (685, 71)\n",
      "Start Date: 19970107, End Date: 19970109\n",
      "Downloading data from refinitiv...\n"
     ]
    },
    {
     "name": "stderr",
     "output_type": "stream",
     "text": [
      "/var/tmp/ipykernel_10925/3801902500.py:128: FutureWarning: The behavior of DataFrame concatenation with empty or all-NA entries is deprecated. In a future version, this will no longer exclude empty or all-NA columns when determining the result dtypes. To retain the old behavior, exclude the relevant entries before the concat operation.\n",
      "  master_df = pd.concat([master_df, mnas], ignore_index=True)\n"
     ]
    },
    {
     "name": "stdout",
     "output_type": "stream",
     "text": [
      "(322, 71)\n",
      "Master shape: (1007, 71)\n",
      "Start Date: 19970110, End Date: 19970112\n",
      "Downloading data from refinitiv...\n"
     ]
    },
    {
     "name": "stderr",
     "output_type": "stream",
     "text": [
      "ERROR!!! An error occurred while requesting URL('https://api.refinitiv.com/data/datagrid/beta1/').\n",
      "     ReadTimeout('')\n"
     ]
    },
    {
     "name": "stdout",
     "output_type": "stream",
     "text": [
      "An error occurred: . Retrying for the range 19970110 to 19970112...\n",
      "Start Date: 19970110, End Date: 19970112\n",
      "Downloading data from refinitiv...\n",
      "(115, 71)\n",
      "Master shape: (1122, 71)\n",
      "Start Date: 19970113, End Date: 19970115\n",
      "Downloading data from refinitiv...\n",
      "(360, 71)\n",
      "Master shape: (1482, 71)\n",
      "Start Date: 19970116, End Date: 19970118\n",
      "Downloading data from refinitiv...\n",
      "(221, 71)\n",
      "Master shape: (1703, 71)\n",
      "Start Date: 19970119, End Date: 19970121\n",
      "Downloading data from refinitiv...\n",
      "(192, 71)\n",
      "Master shape: (1895, 71)\n",
      "Start Date: 19970122, End Date: 19970124\n",
      "Downloading data from refinitiv...\n",
      "(347, 71)\n",
      "Master shape: (2242, 71)\n",
      "Start Date: 19970125, End Date: 19970127\n",
      "Downloading data from refinitiv...\n",
      "(121, 71)\n",
      "Master shape: (2363, 71)\n",
      "Start Date: 19970128, End Date: 19970130\n",
      "Downloading data from refinitiv...\n",
      "(293, 71)\n",
      "Master shape: (2656, 71)\n",
      "Start Date: 19970131, End Date: 19970202\n",
      "Downloading data from refinitiv...\n",
      "(187, 71)\n",
      "Master shape: (2843, 71)\n",
      "Start Date: 19970203, End Date: 19970205\n",
      "Downloading data from refinitiv...\n",
      "(374, 71)\n",
      "Master shape: (3217, 71)\n",
      "Start Date: 19970206, End Date: 19970208\n",
      "Downloading data from refinitiv...\n",
      "(204, 71)\n",
      "Master shape: (3421, 71)\n",
      "Start Date: 19970209, End Date: 19970211\n",
      "Downloading data from refinitiv...\n"
     ]
    },
    {
     "name": "stderr",
     "output_type": "stream",
     "text": [
      "/var/tmp/ipykernel_10925/3801902500.py:128: FutureWarning: The behavior of DataFrame concatenation with empty or all-NA entries is deprecated. In a future version, this will no longer exclude empty or all-NA columns when determining the result dtypes. To retain the old behavior, exclude the relevant entries before the concat operation.\n",
      "  master_df = pd.concat([master_df, mnas], ignore_index=True)\n"
     ]
    },
    {
     "name": "stdout",
     "output_type": "stream",
     "text": [
      "(196, 71)\n",
      "Master shape: (3617, 71)\n",
      "Start Date: 19970212, End Date: 19970214\n",
      "Downloading data from refinitiv...\n",
      "(326, 71)\n",
      "Master shape: (3943, 71)\n",
      "Start Date: 19970215, End Date: 19970217\n",
      "Downloading data from refinitiv...\n",
      "(60, 71)\n",
      "Master shape: (4003, 71)\n",
      "Start Date: 19970218, End Date: 19970220\n",
      "Downloading data from refinitiv...\n"
     ]
    },
    {
     "name": "stderr",
     "output_type": "stream",
     "text": [
      "/var/tmp/ipykernel_10925/3801902500.py:128: FutureWarning: The behavior of DataFrame concatenation with empty or all-NA entries is deprecated. In a future version, this will no longer exclude empty or all-NA columns when determining the result dtypes. To retain the old behavior, exclude the relevant entries before the concat operation.\n",
      "  master_df = pd.concat([master_df, mnas], ignore_index=True)\n"
     ]
    },
    {
     "name": "stdout",
     "output_type": "stream",
     "text": [
      "(340, 71)\n",
      "Master shape: (4343, 71)\n",
      "Start Date: 19970221, End Date: 19970223\n",
      "Downloading data from refinitiv...\n",
      "(93, 71)\n",
      "Master shape: (4436, 71)\n",
      "Start Date: 19970224, End Date: 19970226\n",
      "Downloading data from refinitiv...\n",
      "(303, 71)\n",
      "Master shape: (4739, 71)\n",
      "Appending chunk to BQ\n",
      "Data appended successfully\n",
      "Start Date: 19970227, End Date: 19970301\n",
      "Downloading data from refinitiv...\n",
      "(256, 71)\n",
      "Master shape: (256, 71)\n",
      "Start Date: 19970302, End Date: 19970304\n",
      "Downloading data from refinitiv...\n",
      "(265, 71)\n",
      "Master shape: (521, 71)\n",
      "Start Date: 19970305, End Date: 19970307\n",
      "Downloading data from refinitiv...\n",
      "(320, 71)\n",
      "Master shape: (841, 71)\n",
      "Start Date: 19970308, End Date: 19970310\n",
      "Downloading data from refinitiv...\n",
      "(121, 71)\n",
      "Master shape: (962, 71)\n",
      "Start Date: 19970311, End Date: 19970313\n",
      "Downloading data from refinitiv...\n",
      "(289, 71)\n",
      "Master shape: (1251, 71)\n",
      "Start Date: 19970314, End Date: 19970316\n",
      "Downloading data from refinitiv...\n",
      "(105, 71)\n",
      "Master shape: (1356, 71)\n",
      "Start Date: 19970317, End Date: 19970319\n",
      "Downloading data from refinitiv...\n",
      "(373, 71)\n",
      "Master shape: (1729, 71)\n",
      "Start Date: 19970320, End Date: 19970322\n",
      "Downloading data from refinitiv...\n",
      "(219, 71)\n",
      "Master shape: (1948, 71)\n",
      "Start Date: 19970323, End Date: 19970325\n",
      "Downloading data from refinitiv...\n",
      "(250, 71)\n",
      "Master shape: (2198, 71)\n",
      "Start Date: 19970326, End Date: 19970328\n",
      "Downloading data from refinitiv...\n"
     ]
    },
    {
     "name": "stderr",
     "output_type": "stream",
     "text": [
      "ERROR!!! An error occurred while requesting URL('https://api.refinitiv.com/data/datagrid/beta1/').\n",
      "     ReadTimeout('')\n"
     ]
    },
    {
     "name": "stdout",
     "output_type": "stream",
     "text": [
      "An error occurred: . Retrying for the range 19970326 to 19970328...\n",
      "Start Date: 19970326, End Date: 19970328\n",
      "Downloading data from refinitiv...\n",
      "(233, 71)\n",
      "Master shape: (2431, 71)\n",
      "Start Date: 19970329, End Date: 19970331\n",
      "Downloading data from refinitiv...\n"
     ]
    },
    {
     "name": "stderr",
     "output_type": "stream",
     "text": [
      "/var/tmp/ipykernel_10925/3801902500.py:128: FutureWarning: The behavior of DataFrame concatenation with empty or all-NA entries is deprecated. In a future version, this will no longer exclude empty or all-NA columns when determining the result dtypes. To retain the old behavior, exclude the relevant entries before the concat operation.\n",
      "  master_df = pd.concat([master_df, mnas], ignore_index=True)\n"
     ]
    },
    {
     "name": "stdout",
     "output_type": "stream",
     "text": [
      "(163, 71)\n",
      "Master shape: (2594, 71)\n",
      "Start Date: 19970401, End Date: 19970403\n",
      "Downloading data from refinitiv...\n",
      "(401, 71)\n",
      "Master shape: (2995, 71)\n",
      "Start Date: 19970404, End Date: 19970406\n",
      "Downloading data from refinitiv...\n",
      "(131, 71)\n",
      "Master shape: (3126, 71)\n",
      "Start Date: 19970407, End Date: 19970409\n",
      "Downloading data from refinitiv...\n"
     ]
    },
    {
     "name": "stderr",
     "output_type": "stream",
     "text": [
      "/var/tmp/ipykernel_10925/3801902500.py:128: FutureWarning: The behavior of DataFrame concatenation with empty or all-NA entries is deprecated. In a future version, this will no longer exclude empty or all-NA columns when determining the result dtypes. To retain the old behavior, exclude the relevant entries before the concat operation.\n",
      "  master_df = pd.concat([master_df, mnas], ignore_index=True)\n"
     ]
    },
    {
     "name": "stdout",
     "output_type": "stream",
     "text": [
      "(349, 71)\n",
      "Master shape: (3475, 71)\n",
      "Start Date: 19970410, End Date: 19970412\n",
      "Downloading data from refinitiv...\n",
      "(186, 71)\n",
      "Master shape: (3661, 71)\n",
      "Start Date: 19970413, End Date: 19970415\n",
      "Downloading data from refinitiv...\n"
     ]
    },
    {
     "name": "stderr",
     "output_type": "stream",
     "text": [
      "/var/tmp/ipykernel_10925/3801902500.py:128: FutureWarning: The behavior of DataFrame concatenation with empty or all-NA entries is deprecated. In a future version, this will no longer exclude empty or all-NA columns when determining the result dtypes. To retain the old behavior, exclude the relevant entries before the concat operation.\n",
      "  master_df = pd.concat([master_df, mnas], ignore_index=True)\n"
     ]
    },
    {
     "name": "stdout",
     "output_type": "stream",
     "text": [
      "(231, 71)\n",
      "Master shape: (3892, 71)\n",
      "Start Date: 19970416, End Date: 19970418\n",
      "Downloading data from refinitiv...\n",
      "(288, 71)\n",
      "Master shape: (4180, 71)\n",
      "Start Date: 19970419, End Date: 19970421\n",
      "Downloading data from refinitiv...\n",
      "(107, 71)\n",
      "Master shape: (4287, 71)\n",
      "Start Date: 19970422, End Date: 19970424\n",
      "Downloading data from refinitiv...\n",
      "(318, 71)\n",
      "Master shape: (4605, 71)\n",
      "Start Date: 19970425, End Date: 19970427\n",
      "Downloading data from refinitiv...\n",
      "(114, 71)\n",
      "Master shape: (4719, 71)\n",
      "Appending chunk to BQ\n"
     ]
    },
    {
     "name": "stderr",
     "output_type": "stream",
     "text": [
      "/var/tmp/ipykernel_10925/3801902500.py:128: FutureWarning: The behavior of DataFrame concatenation with empty or all-NA entries is deprecated. In a future version, this will no longer exclude empty or all-NA columns when determining the result dtypes. To retain the old behavior, exclude the relevant entries before the concat operation.\n",
      "  master_df = pd.concat([master_df, mnas], ignore_index=True)\n"
     ]
    },
    {
     "name": "stdout",
     "output_type": "stream",
     "text": [
      "Data appended successfully\n",
      "Start Date: 19970428, End Date: 19970430\n",
      "Downloading data from refinitiv...\n",
      "(310, 71)\n",
      "Master shape: (310, 71)\n",
      "Start Date: 19970501, End Date: 19970503\n",
      "Downloading data from refinitiv...\n"
     ]
    },
    {
     "name": "stderr",
     "output_type": "stream",
     "text": [
      "ERROR!!! An error occurred while requesting URL('https://api.refinitiv.com/data/datagrid/beta1/').\n",
      "     ReadTimeout('')\n"
     ]
    },
    {
     "name": "stdout",
     "output_type": "stream",
     "text": [
      "An error occurred: . Retrying for the range 19970501 to 19970503...\n",
      "Start Date: 19970501, End Date: 19970503\n",
      "Downloading data from refinitiv...\n",
      "(242, 71)\n",
      "Master shape: (552, 71)\n",
      "Start Date: 19970504, End Date: 19970506\n",
      "Downloading data from refinitiv...\n",
      "(210, 71)\n",
      "Master shape: (762, 71)\n",
      "Start Date: 19970507, End Date: 19970509\n",
      "Downloading data from refinitiv...\n",
      "(323, 71)\n",
      "Master shape: (1085, 71)\n",
      "Start Date: 19970510, End Date: 19970512\n",
      "Downloading data from refinitiv...\n",
      "(117, 71)\n",
      "Master shape: (1202, 71)\n",
      "Start Date: 19970513, End Date: 19970515\n",
      "Downloading data from refinitiv...\n",
      "(263, 71)\n",
      "Master shape: (1465, 71)\n",
      "Start Date: 19970516, End Date: 19970518\n",
      "Downloading data from refinitiv...\n",
      "(116, 71)\n",
      "Master shape: (1581, 71)\n",
      "Start Date: 19970519, End Date: 19970521\n",
      "Downloading data from refinitiv...\n"
     ]
    },
    {
     "name": "stderr",
     "output_type": "stream",
     "text": [
      "/var/tmp/ipykernel_10925/3801902500.py:128: FutureWarning: The behavior of DataFrame concatenation with empty or all-NA entries is deprecated. In a future version, this will no longer exclude empty or all-NA columns when determining the result dtypes. To retain the old behavior, exclude the relevant entries before the concat operation.\n",
      "  master_df = pd.concat([master_df, mnas], ignore_index=True)\n"
     ]
    },
    {
     "name": "stdout",
     "output_type": "stream",
     "text": [
      "(299, 71)\n",
      "Master shape: (1880, 71)\n",
      "Start Date: 19970522, End Date: 19970524\n",
      "Downloading data from refinitiv...\n",
      "(244, 71)\n",
      "Master shape: (2124, 71)\n",
      "Start Date: 19970525, End Date: 19970527\n",
      "Downloading data from refinitiv...\n",
      "(155, 71)\n",
      "Master shape: (2279, 71)\n",
      "Start Date: 19970528, End Date: 19970530\n",
      "Downloading data from refinitiv...\n"
     ]
    },
    {
     "name": "stderr",
     "output_type": "stream",
     "text": [
      "/var/tmp/ipykernel_10925/3801902500.py:128: FutureWarning: The behavior of DataFrame concatenation with empty or all-NA entries is deprecated. In a future version, this will no longer exclude empty or all-NA columns when determining the result dtypes. To retain the old behavior, exclude the relevant entries before the concat operation.\n",
      "  master_df = pd.concat([master_df, mnas], ignore_index=True)\n",
      "ERROR!!! An error occurred while requesting URL('https://api.refinitiv.com/data/datagrid/beta1/').\n",
      "     ReadTimeout('')\n"
     ]
    },
    {
     "name": "stdout",
     "output_type": "stream",
     "text": [
      "An error occurred: . Retrying for the range 19970528 to 19970530...\n",
      "Start Date: 19970528, End Date: 19970530\n",
      "Downloading data from refinitiv...\n",
      "(334, 71)\n",
      "Master shape: (2613, 71)\n",
      "Start Date: 19970531, End Date: 19970602\n",
      "Downloading data from refinitiv...\n",
      "(199, 71)\n",
      "Master shape: (2812, 71)\n",
      "Start Date: 19970603, End Date: 19970605\n",
      "Downloading data from refinitiv...\n",
      "(340, 71)\n",
      "Master shape: (3152, 71)\n",
      "Start Date: 19970606, End Date: 19970608\n",
      "Downloading data from refinitiv...\n",
      "(119, 71)\n",
      "Master shape: (3271, 71)\n",
      "Start Date: 19970609, End Date: 19970611\n",
      "Downloading data from refinitiv...\n",
      "(315, 71)\n",
      "Master shape: (3586, 71)\n",
      "Start Date: 19970612, End Date: 19970614\n",
      "Downloading data from refinitiv...\n",
      "(239, 71)\n",
      "Master shape: (3825, 71)\n",
      "Start Date: 19970615, End Date: 19970617\n",
      "Downloading data from refinitiv...\n",
      "(209, 71)\n",
      "Master shape: (4034, 71)\n",
      "Start Date: 19970618, End Date: 19970620\n",
      "Downloading data from refinitiv...\n",
      "(300, 71)\n",
      "Master shape: (4334, 71)\n",
      "Start Date: 19970621, End Date: 19970623\n",
      "Downloading data from refinitiv...\n",
      "(140, 71)\n",
      "Master shape: (4474, 71)\n",
      "Start Date: 19970624, End Date: 19970626\n",
      "Downloading data from refinitiv...\n",
      "(368, 71)\n",
      "Master shape: (4842, 71)\n",
      "Appending chunk to BQ\n",
      "Data appended successfully\n",
      "Start Date: 19970627, End Date: 19970629\n",
      "Downloading data from refinitiv...\n",
      "(122, 71)\n",
      "Master shape: (122, 71)\n",
      "Start Date: 19970630, End Date: 19970702\n",
      "Downloading data from refinitiv...\n"
     ]
    },
    {
     "name": "stderr",
     "output_type": "stream",
     "text": [
      "ERROR!!! An error occurred while requesting URL('https://api.refinitiv.com/data/datagrid/beta1/').\n",
      "     ReadTimeout('')\n"
     ]
    },
    {
     "name": "stdout",
     "output_type": "stream",
     "text": [
      "An error occurred: . Retrying for the range 19970630 to 19970702...\n",
      "Start Date: 19970630, End Date: 19970702\n",
      "Downloading data from refinitiv...\n",
      "(559, 71)\n",
      "Master shape: (681, 71)\n",
      "Start Date: 19970703, End Date: 19970705\n",
      "Downloading data from refinitiv...\n",
      "(191, 71)\n",
      "Master shape: (872, 71)\n",
      "Start Date: 19970706, End Date: 19970708\n",
      "Downloading data from refinitiv...\n",
      "(235, 71)\n",
      "Master shape: (1107, 71)\n",
      "Start Date: 19970709, End Date: 19970711\n",
      "Downloading data from refinitiv...\n",
      "(341, 71)\n",
      "Master shape: (1448, 71)\n",
      "Start Date: 19970712, End Date: 19970714\n",
      "Downloading data from refinitiv...\n",
      "(115, 71)\n",
      "Master shape: (1563, 71)\n",
      "Start Date: 19970715, End Date: 19970717\n",
      "Downloading data from refinitiv...\n"
     ]
    },
    {
     "name": "stderr",
     "output_type": "stream",
     "text": [
      "/var/tmp/ipykernel_10925/3801902500.py:128: FutureWarning: The behavior of DataFrame concatenation with empty or all-NA entries is deprecated. In a future version, this will no longer exclude empty or all-NA columns when determining the result dtypes. To retain the old behavior, exclude the relevant entries before the concat operation.\n",
      "  master_df = pd.concat([master_df, mnas], ignore_index=True)\n"
     ]
    },
    {
     "name": "stdout",
     "output_type": "stream",
     "text": [
      "(352, 71)\n",
      "Master shape: (1915, 71)\n",
      "Start Date: 19970718, End Date: 19970720\n",
      "Downloading data from refinitiv...\n",
      "(105, 71)\n",
      "Master shape: (2020, 71)\n",
      "Start Date: 19970721, End Date: 19970723\n",
      "Downloading data from refinitiv...\n",
      "(358, 71)\n",
      "Master shape: (2378, 71)\n",
      "Start Date: 19970724, End Date: 19970726\n",
      "Downloading data from refinitiv...\n"
     ]
    },
    {
     "name": "stderr",
     "output_type": "stream",
     "text": [
      "ERROR!!! An error occurred while requesting URL('https://api.refinitiv.com/data/datagrid/beta1/').\n",
      "     ReadTimeout('')\n"
     ]
    },
    {
     "name": "stdout",
     "output_type": "stream",
     "text": [
      "An error occurred: . Retrying for the range 19970724 to 19970726...\n",
      "Start Date: 19970724, End Date: 19970726\n",
      "Downloading data from refinitiv...\n",
      "(218, 71)\n",
      "Master shape: (2596, 71)\n",
      "Start Date: 19970727, End Date: 19970729\n",
      "Downloading data from refinitiv...\n",
      "(246, 71)\n",
      "Master shape: (2842, 71)\n",
      "Start Date: 19970730, End Date: 19970801\n",
      "Downloading data from refinitiv...\n"
     ]
    },
    {
     "name": "stderr",
     "output_type": "stream",
     "text": [
      "ERROR!!! An error occurred while requesting URL('https://api.refinitiv.com/data/datagrid/beta1/').\n",
      "     ReadTimeout('')\n"
     ]
    },
    {
     "name": "stdout",
     "output_type": "stream",
     "text": [
      "An error occurred: . Retrying for the range 19970730 to 19970801...\n",
      "Start Date: 19970730, End Date: 19970801\n",
      "Downloading data from refinitiv...\n"
     ]
    },
    {
     "name": "stderr",
     "output_type": "stream",
     "text": [
      "ERROR!!! An error occurred while requesting URL('https://api.refinitiv.com/data/datagrid/beta1/').\n",
      "     ReadTimeout('')\n"
     ]
    },
    {
     "name": "stdout",
     "output_type": "stream",
     "text": [
      "An error occurred: . Retrying for the range 19970730 to 19970801...\n",
      "Start Date: 19970730, End Date: 19970801\n",
      "Downloading data from refinitiv...\n",
      "(482, 71)\n",
      "Master shape: (3324, 71)\n",
      "Start Date: 19970802, End Date: 19970804\n",
      "Downloading data from refinitiv...\n",
      "(153, 71)\n",
      "Master shape: (3477, 71)\n",
      "Start Date: 19970805, End Date: 19970807\n",
      "Downloading data from refinitiv...\n"
     ]
    },
    {
     "name": "stderr",
     "output_type": "stream",
     "text": [
      "ERROR!!! An error occurred while requesting URL('https://api.refinitiv.com/data/datagrid/beta1/').\n",
      "     ReadTimeout('')\n"
     ]
    },
    {
     "name": "stdout",
     "output_type": "stream",
     "text": [
      "An error occurred: . Retrying for the range 19970805 to 19970807...\n",
      "Start Date: 19970805, End Date: 19970807\n",
      "Downloading data from refinitiv...\n",
      "(339, 71)\n",
      "Master shape: (3816, 71)\n",
      "Start Date: 19970808, End Date: 19970810\n",
      "Downloading data from refinitiv...\n",
      "(127, 71)\n",
      "Master shape: (3943, 71)\n",
      "Start Date: 19970811, End Date: 19970813\n",
      "Downloading data from refinitiv...\n"
     ]
    },
    {
     "name": "stderr",
     "output_type": "stream",
     "text": [
      "/var/tmp/ipykernel_10925/3801902500.py:128: FutureWarning: The behavior of DataFrame concatenation with empty or all-NA entries is deprecated. In a future version, this will no longer exclude empty or all-NA columns when determining the result dtypes. To retain the old behavior, exclude the relevant entries before the concat operation.\n",
      "  master_df = pd.concat([master_df, mnas], ignore_index=True)\n",
      "ERROR!!! An error occurred while requesting URL('https://api.refinitiv.com/data/datagrid/beta1/').\n",
      "     ReadTimeout('')\n"
     ]
    },
    {
     "name": "stdout",
     "output_type": "stream",
     "text": [
      "An error occurred: . Retrying for the range 19970811 to 19970813...\n",
      "Start Date: 19970811, End Date: 19970813\n",
      "Downloading data from refinitiv...\n",
      "(314, 71)\n",
      "Master shape: (4257, 71)\n",
      "Start Date: 19970814, End Date: 19970816\n",
      "Downloading data from refinitiv...\n",
      "(242, 71)\n",
      "Master shape: (4499, 71)\n",
      "Start Date: 19970817, End Date: 19970819\n",
      "Downloading data from refinitiv...\n",
      "(221, 71)\n",
      "Master shape: (4720, 71)\n",
      "Start Date: 19970820, End Date: 19970822\n",
      "Downloading data from refinitiv...\n",
      "(319, 71)\n",
      "Master shape: (5039, 71)\n",
      "Start Date: 19970823, End Date: 19970825\n",
      "Downloading data from refinitiv...\n"
     ]
    },
    {
     "name": "stderr",
     "output_type": "stream",
     "text": [
      "ERROR!!! An error occurred while requesting URL('https://api.refinitiv.com/data/datagrid/beta1/').\n",
      "     ReadTimeout('')\n"
     ]
    },
    {
     "name": "stdout",
     "output_type": "stream",
     "text": [
      "An error occurred: . Retrying for the range 19970823 to 19970825...\n",
      "Start Date: 19970823, End Date: 19970825\n",
      "Downloading data from refinitiv...\n",
      "(87, 71)\n",
      "Master shape: (5126, 71)\n",
      "Appending chunk to BQ\n"
     ]
    },
    {
     "name": "stderr",
     "output_type": "stream",
     "text": [
      "/var/tmp/ipykernel_10925/3801902500.py:128: FutureWarning: The behavior of DataFrame concatenation with empty or all-NA entries is deprecated. In a future version, this will no longer exclude empty or all-NA columns when determining the result dtypes. To retain the old behavior, exclude the relevant entries before the concat operation.\n",
      "  master_df = pd.concat([master_df, mnas], ignore_index=True)\n"
     ]
    },
    {
     "name": "stdout",
     "output_type": "stream",
     "text": [
      "Data appended successfully\n",
      "Start Date: 19970826, End Date: 19970828\n",
      "Downloading data from refinitiv...\n",
      "(345, 71)\n",
      "Master shape: (345, 71)\n",
      "Start Date: 19970829, End Date: 19970831\n",
      "Downloading data from refinitiv...\n",
      "(132, 71)\n",
      "Master shape: (477, 71)\n",
      "Start Date: 19970901, End Date: 19970903\n",
      "Downloading data from refinitiv...\n",
      "(355, 71)\n",
      "Master shape: (832, 71)\n",
      "Start Date: 19970904, End Date: 19970906\n",
      "Downloading data from refinitiv...\n"
     ]
    },
    {
     "name": "stderr",
     "output_type": "stream",
     "text": [
      "ERROR!!! An error occurred while requesting URL('https://api.refinitiv.com/data/datagrid/beta1/').\n",
      "     ReadTimeout('')\n"
     ]
    },
    {
     "name": "stdout",
     "output_type": "stream",
     "text": [
      "An error occurred: . Retrying for the range 19970904 to 19970906...\n",
      "Start Date: 19970904, End Date: 19970906\n",
      "Downloading data from refinitiv...\n",
      "(250, 71)\n",
      "Master shape: (1082, 71)\n",
      "Start Date: 19970907, End Date: 19970909\n",
      "Downloading data from refinitiv...\n",
      "(281, 71)\n",
      "Master shape: (1363, 71)\n",
      "Start Date: 19970910, End Date: 19970912\n",
      "Downloading data from refinitiv...\n",
      "(355, 71)\n",
      "Master shape: (1718, 71)\n",
      "Start Date: 19970913, End Date: 19970915\n",
      "Downloading data from refinitiv...\n"
     ]
    },
    {
     "name": "stderr",
     "output_type": "stream",
     "text": [
      "ERROR!!! An error occurred while requesting URL('https://api.refinitiv.com/data/datagrid/beta1/').\n",
      "     ReadTimeout('')\n"
     ]
    },
    {
     "name": "stdout",
     "output_type": "stream",
     "text": [
      "An error occurred: . Retrying for the range 19970913 to 19970915...\n",
      "Start Date: 19970913, End Date: 19970915\n",
      "Downloading data from refinitiv...\n",
      "(127, 71)\n",
      "Master shape: (1845, 71)\n",
      "Start Date: 19970916, End Date: 19970918\n",
      "Downloading data from refinitiv...\n",
      "(371, 71)\n",
      "Master shape: (2216, 71)\n",
      "Start Date: 19970919, End Date: 19970921\n",
      "Downloading data from refinitiv...\n",
      "(105, 71)\n",
      "Master shape: (2321, 71)\n",
      "Start Date: 19970922, End Date: 19970924\n",
      "Downloading data from refinitiv...\n"
     ]
    },
    {
     "name": "stderr",
     "output_type": "stream",
     "text": [
      "/var/tmp/ipykernel_10925/3801902500.py:128: FutureWarning: The behavior of DataFrame concatenation with empty or all-NA entries is deprecated. In a future version, this will no longer exclude empty or all-NA columns when determining the result dtypes. To retain the old behavior, exclude the relevant entries before the concat operation.\n",
      "  master_df = pd.concat([master_df, mnas], ignore_index=True)\n"
     ]
    },
    {
     "name": "stdout",
     "output_type": "stream",
     "text": [
      "(338, 71)\n",
      "Master shape: (2659, 71)\n",
      "Start Date: 19970925, End Date: 19970927\n",
      "Downloading data from refinitiv...\n",
      "(198, 71)\n",
      "Master shape: (2857, 71)\n",
      "Start Date: 19970928, End Date: 19970930\n",
      "Downloading data from refinitiv...\n"
     ]
    },
    {
     "name": "stderr",
     "output_type": "stream",
     "text": [
      "ERROR!!! An error occurred while requesting URL('https://api.refinitiv.com/data/datagrid/beta1/').\n",
      "     ReadTimeout('')\n"
     ]
    },
    {
     "name": "stdout",
     "output_type": "stream",
     "text": [
      "An error occurred: . Retrying for the range 19970928 to 19970930...\n",
      "Start Date: 19970928, End Date: 19970930\n",
      "Downloading data from refinitiv...\n",
      "(303, 71)\n",
      "Master shape: (3160, 71)\n",
      "Start Date: 19971001, End Date: 19971003\n",
      "Downloading data from refinitiv...\n"
     ]
    },
    {
     "name": "stderr",
     "output_type": "stream",
     "text": [
      "ERROR!!! An error occurred while requesting URL('https://api.refinitiv.com/data/datagrid/beta1/').\n",
      "     ReadTimeout('')\n"
     ]
    },
    {
     "name": "stdout",
     "output_type": "stream",
     "text": [
      "An error occurred: . Retrying for the range 19971001 to 19971003...\n",
      "Start Date: 19971001, End Date: 19971003\n",
      "Downloading data from refinitiv...\n",
      "(451, 71)\n",
      "Master shape: (3611, 71)\n",
      "Start Date: 19971004, End Date: 19971006\n",
      "Downloading data from refinitiv...\n",
      "(139, 71)\n",
      "Master shape: (3750, 71)\n",
      "Start Date: 19971007, End Date: 19971009\n",
      "Downloading data from refinitiv...\n"
     ]
    },
    {
     "name": "stderr",
     "output_type": "stream",
     "text": [
      "ERROR!!! An error occurred while requesting URL('https://api.refinitiv.com/data/datagrid/beta1/').\n",
      "     ReadTimeout('')\n"
     ]
    },
    {
     "name": "stdout",
     "output_type": "stream",
     "text": [
      "An error occurred: . Retrying for the range 19971007 to 19971009...\n",
      "Start Date: 19971007, End Date: 19971009\n",
      "Downloading data from refinitiv...\n",
      "(336, 71)\n",
      "Master shape: (4086, 71)\n",
      "Start Date: 19971010, End Date: 19971012\n",
      "Downloading data from refinitiv...\n",
      "(126, 71)\n",
      "Master shape: (4212, 71)\n",
      "Start Date: 19971013, End Date: 19971015\n",
      "Downloading data from refinitiv...\n"
     ]
    },
    {
     "name": "stderr",
     "output_type": "stream",
     "text": [
      "ERROR!!! An error occurred while requesting URL('https://api.refinitiv.com/data/datagrid/beta1/').\n",
      "     ReadTimeout('')\n"
     ]
    },
    {
     "name": "stdout",
     "output_type": "stream",
     "text": [
      "An error occurred: . Retrying for the range 19971013 to 19971015...\n",
      "Start Date: 19971013, End Date: 19971015\n",
      "Downloading data from refinitiv...\n",
      "(320, 71)\n",
      "Master shape: (4532, 71)\n",
      "Start Date: 19971016, End Date: 19971018\n",
      "Downloading data from refinitiv...\n",
      "(235, 71)\n",
      "Master shape: (4767, 71)\n",
      "Start Date: 19971019, End Date: 19971021\n",
      "Downloading data from refinitiv...\n"
     ]
    },
    {
     "name": "stderr",
     "output_type": "stream",
     "text": [
      "ERROR!!! An error occurred while requesting URL('https://api.refinitiv.com/data/datagrid/beta1/').\n",
      "     ReadTimeout('')\n"
     ]
    },
    {
     "name": "stdout",
     "output_type": "stream",
     "text": [
      "An error occurred: . Retrying for the range 19971019 to 19971021...\n",
      "Start Date: 19971019, End Date: 19971021\n",
      "Downloading data from refinitiv...\n",
      "(253, 71)\n",
      "Master shape: (5020, 71)\n",
      "Start Date: 19971022, End Date: 19971024\n",
      "Downloading data from refinitiv...\n",
      "(314, 71)\n",
      "Master shape: (5334, 71)\n",
      "Appending chunk to BQ\n",
      "Data appended successfully\n",
      "Start Date: 19971025, End Date: 19971027\n",
      "Downloading data from refinitiv...\n",
      "(113, 71)\n",
      "Master shape: (113, 71)\n",
      "Start Date: 19971028, End Date: 19971030\n",
      "Downloading data from refinitiv...\n",
      "(333, 71)\n",
      "Master shape: (446, 71)\n",
      "Start Date: 19971031, End Date: 19971102\n",
      "Downloading data from refinitiv...\n"
     ]
    },
    {
     "name": "stderr",
     "output_type": "stream",
     "text": [
      "/var/tmp/ipykernel_10925/3801902500.py:128: FutureWarning: The behavior of DataFrame concatenation with empty or all-NA entries is deprecated. In a future version, this will no longer exclude empty or all-NA columns when determining the result dtypes. To retain the old behavior, exclude the relevant entries before the concat operation.\n",
      "  master_df = pd.concat([master_df, mnas], ignore_index=True)\n",
      "ERROR!!! An error occurred while requesting URL('https://api.refinitiv.com/data/datagrid/beta1/').\n",
      "     ReadTimeout('')\n"
     ]
    },
    {
     "name": "stdout",
     "output_type": "stream",
     "text": [
      "An error occurred: . Retrying for the range 19971031 to 19971102...\n",
      "Start Date: 19971031, End Date: 19971102\n",
      "Downloading data from refinitiv...\n",
      "(180, 71)\n",
      "Master shape: (626, 71)\n",
      "Start Date: 19971103, End Date: 19971105\n",
      "Downloading data from refinitiv...\n",
      "(410, 71)\n",
      "Master shape: (1036, 71)\n",
      "Start Date: 19971106, End Date: 19971108\n",
      "Downloading data from refinitiv...\n",
      "(229, 71)\n",
      "Master shape: (1265, 71)\n",
      "Start Date: 19971109, End Date: 19971111\n",
      "Downloading data from refinitiv...\n",
      "(238, 71)\n",
      "Master shape: (1503, 71)\n",
      "Start Date: 19971112, End Date: 19971114\n",
      "Downloading data from refinitiv...\n",
      "(327, 71)\n",
      "Master shape: (1830, 71)\n",
      "Start Date: 19971115, End Date: 19971117\n",
      "Downloading data from refinitiv...\n",
      "(144, 71)\n",
      "Master shape: (1974, 71)\n",
      "Start Date: 19971118, End Date: 19971120\n",
      "Downloading data from refinitiv...\n",
      "(310, 71)\n",
      "Master shape: (2284, 71)\n",
      "Start Date: 19971121, End Date: 19971123\n",
      "Downloading data from refinitiv...\n",
      "(155, 71)\n",
      "Master shape: (2439, 71)\n",
      "Start Date: 19971124, End Date: 19971126\n",
      "Downloading data from refinitiv...\n",
      "(358, 71)\n",
      "Master shape: (2797, 71)\n",
      "Start Date: 19971127, End Date: 19971129\n",
      "Downloading data from refinitiv...\n",
      "(151, 71)\n",
      "Master shape: (2948, 71)\n",
      "Start Date: 19971130, End Date: 19971202\n",
      "Downloading data from refinitiv...\n",
      "(366, 71)\n",
      "Master shape: (3314, 71)\n",
      "Start Date: 19971203, End Date: 19971205\n",
      "Downloading data from refinitiv...\n",
      "(364, 71)\n",
      "Master shape: (3678, 71)\n",
      "Start Date: 19971206, End Date: 19971208\n",
      "Downloading data from refinitiv...\n"
     ]
    },
    {
     "name": "stderr",
     "output_type": "stream",
     "text": [
      "ERROR!!! An error occurred while requesting URL('https://api.refinitiv.com/data/datagrid/beta1/').\n",
      "     ReadTimeout('')\n"
     ]
    },
    {
     "name": "stdout",
     "output_type": "stream",
     "text": [
      "An error occurred: . Retrying for the range 19971206 to 19971208...\n",
      "Start Date: 19971206, End Date: 19971208\n",
      "Downloading data from refinitiv...\n",
      "(132, 71)\n",
      "Master shape: (3810, 71)\n",
      "Start Date: 19971209, End Date: 19971211\n",
      "Downloading data from refinitiv...\n"
     ]
    },
    {
     "name": "stderr",
     "output_type": "stream",
     "text": [
      "/var/tmp/ipykernel_10925/3801902500.py:128: FutureWarning: The behavior of DataFrame concatenation with empty or all-NA entries is deprecated. In a future version, this will no longer exclude empty or all-NA columns when determining the result dtypes. To retain the old behavior, exclude the relevant entries before the concat operation.\n",
      "  master_df = pd.concat([master_df, mnas], ignore_index=True)\n",
      "ERROR!!! An error occurred while requesting URL('https://api.refinitiv.com/data/datagrid/beta1/').\n",
      "     ReadTimeout('')\n"
     ]
    },
    {
     "name": "stdout",
     "output_type": "stream",
     "text": [
      "An error occurred: . Retrying for the range 19971209 to 19971211...\n",
      "Start Date: 19971209, End Date: 19971211\n",
      "Downloading data from refinitiv...\n",
      "(410, 71)\n",
      "Master shape: (4220, 71)\n",
      "Start Date: 19971212, End Date: 19971214\n",
      "Downloading data from refinitiv...\n",
      "(146, 71)\n",
      "Master shape: (4366, 71)\n",
      "Start Date: 19971215, End Date: 19971217\n",
      "Downloading data from refinitiv...\n",
      "(424, 71)\n",
      "Master shape: (4790, 71)\n",
      "Start Date: 19971218, End Date: 19971220\n",
      "Downloading data from refinitiv...\n"
     ]
    },
    {
     "name": "stderr",
     "output_type": "stream",
     "text": [
      "ERROR!!! An error occurred while requesting URL('https://api.refinitiv.com/data/datagrid/beta1/').\n",
      "     ReadTimeout('')\n"
     ]
    },
    {
     "name": "stdout",
     "output_type": "stream",
     "text": [
      "An error occurred: . Retrying for the range 19971218 to 19971220...\n",
      "Start Date: 19971218, End Date: 19971220\n",
      "Downloading data from refinitiv...\n"
     ]
    },
    {
     "name": "stderr",
     "output_type": "stream",
     "text": [
      "ERROR!!! An error occurred while requesting URL('https://api.refinitiv.com/data/datagrid/beta1/').\n",
      "     ReadTimeout('')\n"
     ]
    },
    {
     "name": "stdout",
     "output_type": "stream",
     "text": [
      "An error occurred: . Retrying for the range 19971218 to 19971220...\n",
      "Start Date: 19971218, End Date: 19971220\n",
      "Downloading data from refinitiv...\n",
      "(348, 71)\n",
      "Master shape: (5138, 71)\n",
      "Start Date: 19971221, End Date: 19971223\n",
      "Downloading data from refinitiv...\n",
      "(311, 71)\n",
      "Master shape: (5449, 71)\n",
      "Appending chunk to BQ\n",
      "Data appended successfully\n",
      "Start Date: 19971224, End Date: 19971226\n",
      "Downloading data from refinitiv...\n"
     ]
    },
    {
     "name": "stderr",
     "output_type": "stream",
     "text": [
      "ERROR!!! An error occurred while requesting URL('https://api.refinitiv.com/data/datagrid/beta1/').\n",
      "     ReadTimeout('')\n"
     ]
    },
    {
     "name": "stdout",
     "output_type": "stream",
     "text": [
      "An error occurred: . Retrying for the range 19971224 to 19971226...\n",
      "Start Date: 19971224, End Date: 19971226\n",
      "Downloading data from refinitiv...\n",
      "(101, 71)\n",
      "Master shape: (101, 71)\n",
      "Start Date: 19971227, End Date: 19971229\n",
      "Downloading data from refinitiv...\n",
      "(109, 71)\n",
      "Master shape: (210, 71)\n",
      "Start Date: 19971230, End Date: 19980101\n",
      "Downloading data from refinitiv...\n"
     ]
    },
    {
     "name": "stderr",
     "output_type": "stream",
     "text": [
      "/var/tmp/ipykernel_10925/3801902500.py:128: FutureWarning: The behavior of DataFrame concatenation with empty or all-NA entries is deprecated. In a future version, this will no longer exclude empty or all-NA columns when determining the result dtypes. To retain the old behavior, exclude the relevant entries before the concat operation.\n",
      "  master_df = pd.concat([master_df, mnas], ignore_index=True)\n"
     ]
    },
    {
     "name": "stdout",
     "output_type": "stream",
     "text": [
      "(460, 71)\n",
      "Master shape: (670, 71)\n",
      "Start Date: 19980102, End Date: 19980104\n",
      "Downloading data from refinitiv...\n",
      "(103, 71)\n",
      "Master shape: (773, 71)\n",
      "Start Date: 19980105, End Date: 19980107\n",
      "Downloading data from refinitiv...\n",
      "(462, 71)\n",
      "Master shape: (1235, 71)\n",
      "Start Date: 19980108, End Date: 19980110\n",
      "Downloading data from refinitiv...\n",
      "(293, 71)\n",
      "Master shape: (1528, 71)\n",
      "Start Date: 19980111, End Date: 19980113\n",
      "Downloading data from refinitiv...\n"
     ]
    },
    {
     "name": "stderr",
     "output_type": "stream",
     "text": [
      "ERROR!!! An error occurred while requesting URL('https://api.refinitiv.com/data/datagrid/beta1/').\n",
      "     ReadTimeout('')\n"
     ]
    },
    {
     "name": "stdout",
     "output_type": "stream",
     "text": [
      "An error occurred: . Retrying for the range 19980111 to 19980113...\n",
      "Start Date: 19980111, End Date: 19980113\n",
      "Downloading data from refinitiv...\n",
      "(274, 71)\n",
      "Master shape: (1802, 71)\n",
      "Start Date: 19980114, End Date: 19980116\n",
      "Downloading data from refinitiv...\n",
      "(354, 71)\n",
      "Master shape: (2156, 71)\n",
      "Start Date: 19980117, End Date: 19980119\n",
      "Downloading data from refinitiv...\n",
      "(92, 71)\n",
      "Master shape: (2248, 71)\n",
      "Start Date: 19980120, End Date: 19980122\n",
      "Downloading data from refinitiv...\n",
      "(361, 71)\n",
      "Master shape: (2609, 71)\n",
      "Start Date: 19980123, End Date: 19980125\n",
      "Downloading data from refinitiv...\n",
      "(126, 71)\n",
      "Master shape: (2735, 71)\n",
      "Start Date: 19980126, End Date: 19980128\n",
      "Downloading data from refinitiv...\n",
      "(370, 71)\n",
      "Master shape: (3105, 71)\n",
      "Start Date: 19980129, End Date: 19980131\n",
      "Downloading data from refinitiv...\n"
     ]
    },
    {
     "name": "stderr",
     "output_type": "stream",
     "text": [
      "ERROR!!! An error occurred while requesting URL('https://api.refinitiv.com/data/datagrid/beta1/').\n",
      "     ReadTimeout('')\n"
     ]
    },
    {
     "name": "stdout",
     "output_type": "stream",
     "text": [
      "An error occurred: . Retrying for the range 19980129 to 19980131...\n",
      "Start Date: 19980129, End Date: 19980131\n",
      "Downloading data from refinitiv...\n",
      "(314, 71)\n",
      "Master shape: (3419, 71)\n",
      "Start Date: 19980201, End Date: 19980203\n",
      "Downloading data from refinitiv...\n",
      "(334, 71)\n",
      "Master shape: (3753, 71)\n",
      "Start Date: 19980204, End Date: 19980206\n",
      "Downloading data from refinitiv...\n",
      "(339, 71)\n",
      "Master shape: (4092, 71)\n",
      "Start Date: 19980207, End Date: 19980209\n",
      "Downloading data from refinitiv...\n",
      "(138, 71)\n",
      "Master shape: (4230, 71)\n",
      "Start Date: 19980210, End Date: 19980212\n",
      "Downloading data from refinitiv...\n",
      "(340, 71)\n",
      "Master shape: (4570, 71)\n",
      "Start Date: 19980213, End Date: 19980215\n",
      "Downloading data from refinitiv...\n",
      "(126, 71)\n",
      "Master shape: (4696, 71)\n",
      "Start Date: 19980216, End Date: 19980218\n",
      "Downloading data from refinitiv...\n",
      "(296, 71)\n",
      "Master shape: (4992, 71)\n",
      "Start Date: 19980219, End Date: 19980221\n",
      "Downloading data from refinitiv...\n",
      "(233, 71)\n",
      "Master shape: (5225, 71)\n",
      "Appending chunk to BQ\n",
      "Data appended successfully\n",
      "Start Date: 19980222, End Date: 19980224\n",
      "Downloading data from refinitiv...\n",
      "(204, 71)\n",
      "Master shape: (204, 71)\n",
      "Start Date: 19980225, End Date: 19980227\n",
      "Downloading data from refinitiv...\n",
      "(360, 71)\n",
      "Master shape: (564, 71)\n",
      "Start Date: 19980228, End Date: 19980302\n",
      "Downloading data from refinitiv...\n"
     ]
    },
    {
     "name": "stderr",
     "output_type": "stream",
     "text": [
      "ERROR!!! An error occurred while requesting URL('https://api.refinitiv.com/data/datagrid/beta1/').\n",
      "     ReadTimeout('')\n"
     ]
    },
    {
     "name": "stdout",
     "output_type": "stream",
     "text": [
      "An error occurred: . Retrying for the range 19980228 to 19980302...\n",
      "Start Date: 19980228, End Date: 19980302\n",
      "Downloading data from refinitiv...\n",
      "(200, 71)\n",
      "Master shape: (764, 71)\n",
      "Start Date: 19980303, End Date: 19980305\n",
      "Downloading data from refinitiv...\n",
      "(371, 71)\n",
      "Master shape: (1135, 71)\n",
      "Start Date: 19980306, End Date: 19980308\n",
      "Downloading data from refinitiv...\n",
      "(128, 71)\n",
      "Master shape: (1263, 71)\n",
      "Start Date: 19980309, End Date: 19980311\n",
      "Downloading data from refinitiv...\n",
      "(365, 71)\n",
      "Master shape: (1628, 71)\n",
      "Start Date: 19980312, End Date: 19980314\n",
      "Downloading data from refinitiv...\n",
      "(248, 71)\n",
      "Master shape: (1876, 71)\n",
      "Start Date: 19980315, End Date: 19980317\n",
      "Downloading data from refinitiv...\n"
     ]
    },
    {
     "name": "stderr",
     "output_type": "stream",
     "text": [
      "/var/tmp/ipykernel_10925/3801902500.py:128: FutureWarning: The behavior of DataFrame concatenation with empty or all-NA entries is deprecated. In a future version, this will no longer exclude empty or all-NA columns when determining the result dtypes. To retain the old behavior, exclude the relevant entries before the concat operation.\n",
      "  master_df = pd.concat([master_df, mnas], ignore_index=True)\n"
     ]
    },
    {
     "name": "stdout",
     "output_type": "stream",
     "text": [
      "(285, 71)\n",
      "Master shape: (2161, 71)\n",
      "Start Date: 19980318, End Date: 19980320\n",
      "Downloading data from refinitiv...\n",
      "(355, 71)\n",
      "Master shape: (2516, 71)\n",
      "Start Date: 19980321, End Date: 19980323\n",
      "Downloading data from refinitiv...\n",
      "(136, 71)\n",
      "Master shape: (2652, 71)\n",
      "Start Date: 19980324, End Date: 19980326\n",
      "Downloading data from refinitiv...\n"
     ]
    },
    {
     "name": "stderr",
     "output_type": "stream",
     "text": [
      "/var/tmp/ipykernel_10925/3801902500.py:128: FutureWarning: The behavior of DataFrame concatenation with empty or all-NA entries is deprecated. In a future version, this will no longer exclude empty or all-NA columns when determining the result dtypes. To retain the old behavior, exclude the relevant entries before the concat operation.\n",
      "  master_df = pd.concat([master_df, mnas], ignore_index=True)\n"
     ]
    },
    {
     "name": "stdout",
     "output_type": "stream",
     "text": [
      "(374, 71)\n",
      "Master shape: (3026, 71)\n",
      "Start Date: 19980327, End Date: 19980329\n",
      "Downloading data from refinitiv...\n",
      "(141, 71)\n",
      "Master shape: (3167, 71)\n",
      "Start Date: 19980330, End Date: 19980401\n",
      "Downloading data from refinitiv...\n"
     ]
    },
    {
     "name": "stderr",
     "output_type": "stream",
     "text": [
      "/var/tmp/ipykernel_10925/3801902500.py:128: FutureWarning: The behavior of DataFrame concatenation with empty or all-NA entries is deprecated. In a future version, this will no longer exclude empty or all-NA columns when determining the result dtypes. To retain the old behavior, exclude the relevant entries before the concat operation.\n",
      "  master_df = pd.concat([master_df, mnas], ignore_index=True)\n"
     ]
    },
    {
     "name": "stdout",
     "output_type": "stream",
     "text": [
      "(601, 71)\n",
      "Master shape: (3768, 71)\n",
      "Start Date: 19980402, End Date: 19980404\n",
      "Downloading data from refinitiv...\n",
      "(338, 71)\n",
      "Master shape: (4106, 71)\n",
      "Start Date: 19980405, End Date: 19980407\n",
      "Downloading data from refinitiv...\n",
      "(283, 71)\n",
      "Master shape: (4389, 71)\n",
      "Start Date: 19980408, End Date: 19980410\n",
      "Downloading data from refinitiv...\n",
      "(306, 71)\n",
      "Master shape: (4695, 71)\n",
      "Start Date: 19980411, End Date: 19980413\n",
      "Downloading data from refinitiv...\n"
     ]
    },
    {
     "name": "stderr",
     "output_type": "stream",
     "text": [
      "ERROR!!! An error occurred while requesting URL('https://api.refinitiv.com/data/datagrid/beta1/').\n",
      "     ReadTimeout('')\n"
     ]
    },
    {
     "name": "stdout",
     "output_type": "stream",
     "text": [
      "An error occurred: . Retrying for the range 19980411 to 19980413...\n",
      "Start Date: 19980411, End Date: 19980413\n",
      "Downloading data from refinitiv...\n",
      "(89, 71)\n",
      "Master shape: (4784, 71)\n",
      "Start Date: 19980414, End Date: 19980416\n",
      "Downloading data from refinitiv...\n"
     ]
    },
    {
     "name": "stderr",
     "output_type": "stream",
     "text": [
      "/var/tmp/ipykernel_10925/3801902500.py:128: FutureWarning: The behavior of DataFrame concatenation with empty or all-NA entries is deprecated. In a future version, this will no longer exclude empty or all-NA columns when determining the result dtypes. To retain the old behavior, exclude the relevant entries before the concat operation.\n",
      "  master_df = pd.concat([master_df, mnas], ignore_index=True)\n"
     ]
    },
    {
     "name": "stdout",
     "output_type": "stream",
     "text": [
      "(404, 71)\n",
      "Master shape: (5188, 71)\n",
      "Start Date: 19980417, End Date: 19980419\n",
      "Downloading data from refinitiv...\n",
      "(135, 71)\n",
      "Master shape: (5323, 71)\n",
      "Start Date: 19980420, End Date: 19980422\n",
      "Downloading data from refinitiv...\n",
      "(354, 71)\n",
      "Master shape: (5677, 71)\n",
      "Appending chunk to BQ\n",
      "Data appended successfully\n",
      "Start Date: 19980423, End Date: 19980425\n",
      "Downloading data from refinitiv...\n",
      "(285, 71)\n",
      "Master shape: (285, 71)\n",
      "Start Date: 19980426, End Date: 19980428\n",
      "Downloading data from refinitiv...\n",
      "(281, 71)\n",
      "Master shape: (566, 71)\n",
      "Start Date: 19980429, End Date: 19980501\n",
      "Downloading data from refinitiv...\n",
      "(454, 71)\n",
      "Master shape: (1020, 71)\n",
      "Start Date: 19980502, End Date: 19980504\n",
      "Downloading data from refinitiv...\n",
      "(163, 71)\n",
      "Master shape: (1183, 71)\n",
      "Start Date: 19980505, End Date: 19980507\n",
      "Downloading data from refinitiv...\n",
      "(376, 71)\n",
      "Master shape: (1559, 71)\n",
      "Start Date: 19980508, End Date: 19980510\n",
      "Downloading data from refinitiv...\n",
      "(135, 71)\n",
      "Master shape: (1694, 71)\n",
      "Start Date: 19980511, End Date: 19980513\n",
      "Downloading data from refinitiv...\n"
     ]
    },
    {
     "name": "stderr",
     "output_type": "stream",
     "text": [
      "ERROR!!! An error occurred while requesting URL('https://api.refinitiv.com/data/datagrid/beta1/').\n",
      "     ReadTimeout('')\n"
     ]
    },
    {
     "name": "stdout",
     "output_type": "stream",
     "text": [
      "An error occurred: . Retrying for the range 19980511 to 19980513...\n",
      "Start Date: 19980511, End Date: 19980513\n",
      "Downloading data from refinitiv...\n",
      "(444, 71)\n",
      "Master shape: (2138, 71)\n",
      "Start Date: 19980514, End Date: 19980516\n",
      "Downloading data from refinitiv...\n",
      "(249, 71)\n",
      "Master shape: (2387, 71)\n",
      "Start Date: 19980517, End Date: 19980519\n",
      "Downloading data from refinitiv...\n",
      "(343, 71)\n",
      "Master shape: (2730, 71)\n",
      "Start Date: 19980520, End Date: 19980522\n",
      "Downloading data from refinitiv...\n",
      "(366, 71)\n",
      "Master shape: (3096, 71)\n",
      "Start Date: 19980523, End Date: 19980525\n",
      "Downloading data from refinitiv...\n"
     ]
    },
    {
     "name": "stderr",
     "output_type": "stream",
     "text": [
      "ERROR!!! An error occurred while requesting URL('https://api.refinitiv.com/data/datagrid/beta1/').\n",
      "     ReadTimeout('')\n"
     ]
    },
    {
     "name": "stdout",
     "output_type": "stream",
     "text": [
      "An error occurred: . Retrying for the range 19980523 to 19980525...\n",
      "Start Date: 19980523, End Date: 19980525\n",
      "Downloading data from refinitiv...\n",
      "(90, 71)\n",
      "Master shape: (3186, 71)\n",
      "Start Date: 19980526, End Date: 19980528\n",
      "Downloading data from refinitiv...\n"
     ]
    },
    {
     "name": "stderr",
     "output_type": "stream",
     "text": [
      "ERROR!!! An error occurred while requesting URL('https://api.refinitiv.com/data/datagrid/beta1/').\n",
      "     ReadTimeout('')\n"
     ]
    },
    {
     "name": "stdout",
     "output_type": "stream",
     "text": [
      "An error occurred: . Retrying for the range 19980526 to 19980528...\n",
      "Start Date: 19980526, End Date: 19980528\n",
      "Downloading data from refinitiv...\n",
      "(406, 71)\n",
      "Master shape: (3592, 71)\n",
      "Start Date: 19980529, End Date: 19980531\n",
      "Downloading data from refinitiv...\n",
      "(203, 71)\n",
      "Master shape: (3795, 71)\n",
      "Start Date: 19980601, End Date: 19980603\n",
      "Downloading data from refinitiv...\n",
      "(525, 71)\n",
      "Master shape: (4320, 71)\n",
      "Start Date: 19980604, End Date: 19980606\n",
      "Downloading data from refinitiv...\n",
      "(277, 71)\n",
      "Master shape: (4597, 71)\n",
      "Start Date: 19980607, End Date: 19980609\n",
      "Downloading data from refinitiv...\n",
      "(289, 71)\n",
      "Master shape: (4886, 71)\n",
      "Start Date: 19980610, End Date: 19980612\n",
      "Downloading data from refinitiv...\n",
      "(343, 71)\n",
      "Master shape: (5229, 71)\n",
      "Start Date: 19980613, End Date: 19980615\n",
      "Downloading data from refinitiv...\n"
     ]
    },
    {
     "name": "stderr",
     "output_type": "stream",
     "text": [
      "ERROR!!! An error occurred while requesting URL('https://api.refinitiv.com/data/datagrid/beta1/').\n",
      "     ReadTimeout('')\n"
     ]
    },
    {
     "name": "stdout",
     "output_type": "stream",
     "text": [
      "An error occurred: . Retrying for the range 19980613 to 19980615...\n",
      "Start Date: 19980613, End Date: 19980615\n",
      "Downloading data from refinitiv...\n",
      "(143, 71)\n",
      "Master shape: (5372, 71)\n",
      "Start Date: 19980616, End Date: 19980618\n",
      "Downloading data from refinitiv...\n",
      "(411, 71)\n",
      "Master shape: (5783, 71)\n",
      "Start Date: 19980619, End Date: 19980621\n",
      "Downloading data from refinitiv...\n",
      "(129, 71)\n",
      "Master shape: (5912, 71)\n",
      "Appending chunk to BQ\n",
      "Data appended successfully\n",
      "Start Date: 19980622, End Date: 19980624\n",
      "Downloading data from refinitiv...\n",
      "(329, 71)\n",
      "Master shape: (329, 71)\n",
      "Start Date: 19980625, End Date: 19980627\n",
      "Downloading data from refinitiv...\n",
      "(225, 71)\n",
      "Master shape: (554, 71)\n",
      "Start Date: 19980628, End Date: 19980630\n",
      "Downloading data from refinitiv...\n",
      "(392, 71)\n",
      "Master shape: (946, 71)\n",
      "Start Date: 19980701, End Date: 19980703\n",
      "Downloading data from refinitiv...\n",
      "(401, 71)\n",
      "Master shape: (1347, 71)\n",
      "Start Date: 19980704, End Date: 19980706\n",
      "Downloading data from refinitiv...\n",
      "(164, 71)\n",
      "Master shape: (1511, 71)\n",
      "Start Date: 19980707, End Date: 19980709\n",
      "Downloading data from refinitiv...\n",
      "(391, 71)\n",
      "Master shape: (1902, 71)\n",
      "Start Date: 19980710, End Date: 19980712\n",
      "Downloading data from refinitiv...\n",
      "(132, 71)\n",
      "Master shape: (2034, 71)\n",
      "Start Date: 19980713, End Date: 19980715\n",
      "Downloading data from refinitiv...\n",
      "(383, 71)\n",
      "Master shape: (2417, 71)\n",
      "Start Date: 19980716, End Date: 19980718\n",
      "Downloading data from refinitiv...\n",
      "(244, 71)\n",
      "Master shape: (2661, 71)\n",
      "Start Date: 19980719, End Date: 19980721\n",
      "Downloading data from refinitiv...\n"
     ]
    },
    {
     "name": "stderr",
     "output_type": "stream",
     "text": [
      "ERROR!!! An error occurred while requesting URL('https://api.refinitiv.com/data/datagrid/beta1/').\n",
      "     ReadTimeout('')\n"
     ]
    },
    {
     "name": "stdout",
     "output_type": "stream",
     "text": [
      "An error occurred: . Retrying for the range 19980719 to 19980721...\n",
      "Start Date: 19980719, End Date: 19980721\n",
      "Downloading data from refinitiv...\n",
      "(266, 71)\n",
      "Master shape: (2927, 71)\n",
      "Start Date: 19980722, End Date: 19980724\n",
      "Downloading data from refinitiv...\n",
      "(406, 71)\n",
      "Master shape: (3333, 71)\n",
      "Start Date: 19980725, End Date: 19980727\n",
      "Downloading data from refinitiv...\n",
      "(189, 71)\n",
      "Master shape: (3522, 71)\n",
      "Start Date: 19980728, End Date: 19980730\n",
      "Downloading data from refinitiv...\n",
      "(377, 71)\n",
      "Master shape: (3899, 71)\n",
      "Start Date: 19980731, End Date: 19980802\n",
      "Downloading data from refinitiv...\n",
      "(284, 71)\n",
      "Master shape: (4183, 71)\n",
      "Start Date: 19980803, End Date: 19980805\n",
      "Downloading data from refinitiv...\n",
      "(520, 71)\n",
      "Master shape: (4703, 71)\n",
      "Start Date: 19980806, End Date: 19980808\n",
      "Downloading data from refinitiv...\n",
      "(278, 71)\n",
      "Master shape: (4981, 71)\n",
      "Start Date: 19980809, End Date: 19980811\n",
      "Downloading data from refinitiv...\n",
      "(259, 71)\n",
      "Master shape: (5240, 71)\n",
      "Start Date: 19980812, End Date: 19980814\n",
      "Downloading data from refinitiv...\n",
      "(402, 71)\n",
      "Master shape: (5642, 71)\n",
      "Start Date: 19980815, End Date: 19980817\n",
      "Downloading data from refinitiv...\n",
      "(165, 71)\n",
      "Master shape: (5807, 71)\n",
      "Start Date: 19980818, End Date: 19980820\n",
      "Downloading data from refinitiv...\n",
      "(424, 71)\n",
      "Master shape: (6231, 71)\n",
      "Appending chunk to BQ\n",
      "Data appended successfully\n",
      "Start Date: 19980821, End Date: 19980823\n",
      "Downloading data from refinitiv...\n"
     ]
    },
    {
     "name": "stderr",
     "output_type": "stream",
     "text": [
      "ERROR!!! An error occurred while requesting URL('https://api.refinitiv.com/data/datagrid/beta1/').\n",
      "     ReadTimeout('')\n"
     ]
    },
    {
     "name": "stdout",
     "output_type": "stream",
     "text": [
      "An error occurred: . Retrying for the range 19980821 to 19980823...\n",
      "Start Date: 19980821, End Date: 19980823\n",
      "Downloading data from refinitiv...\n",
      "(151, 71)\n",
      "Master shape: (151, 71)\n",
      "Start Date: 19980824, End Date: 19980826\n",
      "Downloading data from refinitiv...\n",
      "(408, 71)\n",
      "Master shape: (559, 71)\n",
      "Start Date: 19980827, End Date: 19980829\n",
      "Downloading data from refinitiv...\n"
     ]
    },
    {
     "name": "stderr",
     "output_type": "stream",
     "text": [
      "ERROR!!! An error occurred while requesting URL('https://api.refinitiv.com/data/datagrid/beta1/').\n",
      "     ReadTimeout('')\n"
     ]
    },
    {
     "name": "stdout",
     "output_type": "stream",
     "text": [
      "An error occurred: . Retrying for the range 19980827 to 19980829...\n",
      "Start Date: 19980827, End Date: 19980829\n",
      "Downloading data from refinitiv...\n"
     ]
    },
    {
     "name": "stderr",
     "output_type": "stream",
     "text": [
      "ERROR!!! An error occurred while requesting URL('https://api.refinitiv.com/data/datagrid/beta1/').\n",
      "     ReadTimeout('')\n"
     ]
    },
    {
     "name": "stdout",
     "output_type": "stream",
     "text": [
      "An error occurred: . Retrying for the range 19980827 to 19980829...\n",
      "Start Date: 19980827, End Date: 19980829\n",
      "Downloading data from refinitiv...\n",
      "(285, 71)\n",
      "Master shape: (844, 71)\n",
      "Start Date: 19980830, End Date: 19980901\n",
      "Downloading data from refinitiv...\n",
      "(446, 71)\n",
      "Master shape: (1290, 71)\n",
      "Start Date: 19980902, End Date: 19980904\n",
      "Downloading data from refinitiv...\n",
      "(438, 71)\n",
      "Master shape: (1728, 71)\n",
      "Start Date: 19980905, End Date: 19980907\n",
      "Downloading data from refinitiv...\n",
      "(69, 71)\n",
      "Master shape: (1797, 71)\n",
      "Start Date: 19980908, End Date: 19980910\n",
      "Downloading data from refinitiv...\n",
      "(455, 71)\n",
      "Master shape: (2252, 71)\n",
      "Start Date: 19980911, End Date: 19980913\n",
      "Downloading data from refinitiv...\n",
      "(149, 71)\n",
      "Master shape: (2401, 71)\n",
      "Start Date: 19980914, End Date: 19980916\n",
      "Downloading data from refinitiv...\n",
      "(455, 71)\n",
      "Master shape: (2856, 71)\n",
      "Start Date: 19980917, End Date: 19980919\n",
      "Downloading data from refinitiv...\n"
     ]
    },
    {
     "name": "stderr",
     "output_type": "stream",
     "text": [
      "ERROR!!! An error occurred while requesting URL('https://api.refinitiv.com/data/datagrid/beta1/').\n",
      "     ReadTimeout('')\n"
     ]
    },
    {
     "name": "stdout",
     "output_type": "stream",
     "text": [
      "An error occurred: . Retrying for the range 19980917 to 19980919...\n",
      "Start Date: 19980917, End Date: 19980919\n",
      "Downloading data from refinitiv...\n"
     ]
    },
    {
     "name": "stderr",
     "output_type": "stream",
     "text": [
      "ERROR!!! An error occurred while requesting URL('https://api.refinitiv.com/data/datagrid/beta1/').\n",
      "     ReadTimeout('')\n"
     ]
    },
    {
     "name": "stdout",
     "output_type": "stream",
     "text": [
      "An error occurred: . Retrying for the range 19980917 to 19980919...\n",
      "Start Date: 19980917, End Date: 19980919\n",
      "Downloading data from refinitiv...\n",
      "(287, 71)\n",
      "Master shape: (3143, 71)\n",
      "Start Date: 19980920, End Date: 19980922\n",
      "Downloading data from refinitiv...\n",
      "(284, 71)\n",
      "Master shape: (3427, 71)\n",
      "Start Date: 19980923, End Date: 19980925\n",
      "Downloading data from refinitiv...\n",
      "(396, 71)\n",
      "Master shape: (3823, 71)\n",
      "Start Date: 19980926, End Date: 19980928\n",
      "Downloading data from refinitiv...\n",
      "(139, 71)\n",
      "Master shape: (3962, 71)\n",
      "Start Date: 19980929, End Date: 19981001\n",
      "Downloading data from refinitiv...\n"
     ]
    },
    {
     "name": "stderr",
     "output_type": "stream",
     "text": [
      "/var/tmp/ipykernel_10925/3801902500.py:128: FutureWarning: The behavior of DataFrame concatenation with empty or all-NA entries is deprecated. In a future version, this will no longer exclude empty or all-NA columns when determining the result dtypes. To retain the old behavior, exclude the relevant entries before the concat operation.\n",
      "  master_df = pd.concat([master_df, mnas], ignore_index=True)\n"
     ]
    },
    {
     "name": "stdout",
     "output_type": "stream",
     "text": [
      "(577, 71)\n",
      "Master shape: (4539, 71)\n",
      "Start Date: 19981002, End Date: 19981004\n",
      "Downloading data from refinitiv...\n"
     ]
    },
    {
     "name": "stderr",
     "output_type": "stream",
     "text": [
      "ERROR!!! An error occurred while requesting URL('https://api.refinitiv.com/data/datagrid/beta1/').\n",
      "     ReadTimeout('')\n"
     ]
    },
    {
     "name": "stdout",
     "output_type": "stream",
     "text": [
      "An error occurred: . Retrying for the range 19981002 to 19981004...\n",
      "Start Date: 19981002, End Date: 19981004\n",
      "Downloading data from refinitiv...\n",
      "(139, 71)\n",
      "Master shape: (4678, 71)\n",
      "Start Date: 19981005, End Date: 19981007\n",
      "Downloading data from refinitiv...\n",
      "(431, 71)\n",
      "Master shape: (5109, 71)\n",
      "Start Date: 19981008, End Date: 19981010\n",
      "Downloading data from refinitiv...\n",
      "(236, 71)\n",
      "Master shape: (5345, 71)\n",
      "Start Date: 19981011, End Date: 19981013\n",
      "Downloading data from refinitiv...\n",
      "(246, 71)\n",
      "Master shape: (5591, 71)\n",
      "Start Date: 19981014, End Date: 19981016\n",
      "Downloading data from refinitiv...\n"
     ]
    },
    {
     "name": "stderr",
     "output_type": "stream",
     "text": [
      "/var/tmp/ipykernel_10925/3801902500.py:128: FutureWarning: The behavior of DataFrame concatenation with empty or all-NA entries is deprecated. In a future version, this will no longer exclude empty or all-NA columns when determining the result dtypes. To retain the old behavior, exclude the relevant entries before the concat operation.\n",
      "  master_df = pd.concat([master_df, mnas], ignore_index=True)\n"
     ]
    },
    {
     "name": "stdout",
     "output_type": "stream",
     "text": [
      "(378, 71)\n",
      "Master shape: (5969, 71)\n",
      "Start Date: 19981017, End Date: 19981019\n",
      "Downloading data from refinitiv...\n"
     ]
    },
    {
     "name": "stderr",
     "output_type": "stream",
     "text": [
      "ERROR!!! An error occurred while requesting URL('https://api.refinitiv.com/data/datagrid/beta1/').\n",
      "     ReadTimeout('')\n"
     ]
    },
    {
     "name": "stdout",
     "output_type": "stream",
     "text": [
      "An error occurred: . Retrying for the range 19981017 to 19981019...\n",
      "Start Date: 19981017, End Date: 19981019\n",
      "Downloading data from refinitiv...\n",
      "(146, 71)\n",
      "Master shape: (6115, 71)\n",
      "Appending chunk to BQ\n",
      "Data appended successfully\n",
      "Start Date: 19981020, End Date: 19981022\n",
      "Downloading data from refinitiv...\n"
     ]
    },
    {
     "name": "stderr",
     "output_type": "stream",
     "text": [
      "ERROR!!! An error occurred while requesting URL('https://api.refinitiv.com/data/datagrid/beta1/').\n",
      "     ReadTimeout('')\n"
     ]
    },
    {
     "name": "stdout",
     "output_type": "stream",
     "text": [
      "An error occurred: . Retrying for the range 19981020 to 19981022...\n",
      "Start Date: 19981020, End Date: 19981022\n",
      "Downloading data from refinitiv...\n",
      "(373, 71)\n",
      "Master shape: (373, 71)\n",
      "Start Date: 19981023, End Date: 19981025\n",
      "Downloading data from refinitiv...\n",
      "(129, 71)\n",
      "Master shape: (502, 71)\n",
      "Start Date: 19981026, End Date: 19981028\n",
      "Downloading data from refinitiv...\n",
      "(344, 71)\n",
      "Master shape: (846, 71)\n",
      "Start Date: 19981029, End Date: 19981031\n",
      "Downloading data from refinitiv...\n",
      "(358, 71)\n",
      "Master shape: (1204, 71)\n",
      "Start Date: 19981101, End Date: 19981103\n",
      "Downloading data from refinitiv...\n",
      "(288, 71)\n",
      "Master shape: (1492, 71)\n",
      "Start Date: 19981104, End Date: 19981106\n",
      "Downloading data from refinitiv...\n",
      "(420, 71)\n",
      "Master shape: (1912, 71)\n",
      "Start Date: 19981107, End Date: 19981109\n",
      "Downloading data from refinitiv...\n",
      "(137, 71)\n",
      "Master shape: (2049, 71)\n",
      "Start Date: 19981110, End Date: 19981112\n",
      "Downloading data from refinitiv...\n"
     ]
    },
    {
     "name": "stderr",
     "output_type": "stream",
     "text": [
      "/var/tmp/ipykernel_10925/3801902500.py:128: FutureWarning: The behavior of DataFrame concatenation with empty or all-NA entries is deprecated. In a future version, this will no longer exclude empty or all-NA columns when determining the result dtypes. To retain the old behavior, exclude the relevant entries before the concat operation.\n",
      "  master_df = pd.concat([master_df, mnas], ignore_index=True)\n",
      "ERROR!!! An error occurred while requesting URL('https://api.refinitiv.com/data/datagrid/beta1/').\n",
      "     ReadTimeout('')\n"
     ]
    },
    {
     "name": "stdout",
     "output_type": "stream",
     "text": [
      "An error occurred: . Retrying for the range 19981110 to 19981112...\n",
      "Start Date: 19981110, End Date: 19981112\n",
      "Downloading data from refinitiv...\n",
      "(356, 71)\n",
      "Master shape: (2405, 71)\n",
      "Start Date: 19981113, End Date: 19981115\n",
      "Downloading data from refinitiv...\n",
      "(125, 71)\n",
      "Master shape: (2530, 71)\n",
      "Start Date: 19981116, End Date: 19981118\n",
      "Downloading data from refinitiv...\n"
     ]
    },
    {
     "name": "stderr",
     "output_type": "stream",
     "text": [
      "/var/tmp/ipykernel_10925/3801902500.py:128: FutureWarning: The behavior of DataFrame concatenation with empty or all-NA entries is deprecated. In a future version, this will no longer exclude empty or all-NA columns when determining the result dtypes. To retain the old behavior, exclude the relevant entries before the concat operation.\n",
      "  master_df = pd.concat([master_df, mnas], ignore_index=True)\n"
     ]
    },
    {
     "name": "stdout",
     "output_type": "stream",
     "text": [
      "(372, 71)\n",
      "Master shape: (2902, 71)\n",
      "Start Date: 19981119, End Date: 19981121\n",
      "Downloading data from refinitiv...\n",
      "(336, 71)\n",
      "Master shape: (3238, 71)\n",
      "Start Date: 19981122, End Date: 19981124\n",
      "Downloading data from refinitiv...\n",
      "(293, 71)\n",
      "Master shape: (3531, 71)\n",
      "Start Date: 19981125, End Date: 19981127\n",
      "Downloading data from refinitiv...\n",
      "(263, 71)\n",
      "Master shape: (3794, 71)\n",
      "Start Date: 19981128, End Date: 19981130\n",
      "Downloading data from refinitiv...\n",
      "(169, 71)\n",
      "Master shape: (3963, 71)\n",
      "Start Date: 19981201, End Date: 19981203\n",
      "Downloading data from refinitiv...\n",
      "(508, 71)\n",
      "Master shape: (4471, 71)\n",
      "Start Date: 19981204, End Date: 19981206\n",
      "Downloading data from refinitiv...\n",
      "(137, 71)\n",
      "Master shape: (4608, 71)\n",
      "Start Date: 19981207, End Date: 19981209\n",
      "Downloading data from refinitiv...\n",
      "(374, 71)\n",
      "Master shape: (4982, 71)\n",
      "Start Date: 19981210, End Date: 19981212\n",
      "Downloading data from refinitiv...\n",
      "(255, 71)\n",
      "Master shape: (5237, 71)\n",
      "Start Date: 19981213, End Date: 19981215\n",
      "Downloading data from refinitiv...\n",
      "(342, 71)\n",
      "Master shape: (5579, 71)\n",
      "Start Date: 19981216, End Date: 19981218\n",
      "Downloading data from refinitiv...\n",
      "(485, 71)\n",
      "Master shape: (6064, 71)\n",
      "Appending chunk to BQ\n",
      "Data appended successfully\n",
      "Start Date: 19981219, End Date: 19981221\n",
      "Downloading data from refinitiv...\n",
      "(167, 71)\n",
      "Master shape: (167, 71)\n",
      "Start Date: 19981222, End Date: 19981224\n",
      "Downloading data from refinitiv...\n",
      "(438, 71)\n",
      "Master shape: (605, 71)\n",
      "Start Date: 19981225, End Date: 19981227\n",
      "Downloading data from refinitiv...\n",
      "(21, 71)\n",
      "Master shape: (626, 71)\n",
      "Start Date: 19981228, End Date: 19981230\n",
      "Downloading data from refinitiv...\n"
     ]
    },
    {
     "name": "stderr",
     "output_type": "stream",
     "text": [
      "/var/tmp/ipykernel_10925/3801902500.py:128: FutureWarning: The behavior of DataFrame concatenation with empty or all-NA entries is deprecated. In a future version, this will no longer exclude empty or all-NA columns when determining the result dtypes. To retain the old behavior, exclude the relevant entries before the concat operation.\n",
      "  master_df = pd.concat([master_df, mnas], ignore_index=True)\n"
     ]
    },
    {
     "name": "stdout",
     "output_type": "stream",
     "text": [
      "(308, 71)\n",
      "Master shape: (934, 71)\n",
      "Start Date: 19981231, End Date: 19990102\n",
      "Downloading data from refinitiv...\n"
     ]
    },
    {
     "name": "stderr",
     "output_type": "stream",
     "text": [
      "ERROR!!! An error occurred while requesting URL('https://api.refinitiv.com/data/datagrid/beta1/').\n",
      "     ReadTimeout('')\n"
     ]
    },
    {
     "name": "stdout",
     "output_type": "stream",
     "text": [
      "An error occurred: . Retrying for the range 19981231 to 19990102...\n",
      "Start Date: 19981231, End Date: 19990102\n",
      "Downloading data from refinitiv...\n",
      "(400, 71)\n",
      "Master shape: (1334, 71)\n",
      "Start Date: 19990103, End Date: 19990105\n",
      "Downloading data from refinitiv...\n",
      "(325, 71)\n",
      "Master shape: (1659, 71)\n",
      "Start Date: 19990106, End Date: 19990108\n",
      "Downloading data from refinitiv...\n",
      "(429, 71)\n",
      "Master shape: (2088, 71)\n",
      "Start Date: 19990109, End Date: 19990111\n",
      "Downloading data from refinitiv...\n",
      "(174, 71)\n",
      "Master shape: (2262, 71)\n",
      "Start Date: 19990112, End Date: 19990114\n",
      "Downloading data from refinitiv...\n",
      "(480, 71)\n",
      "Master shape: (2742, 71)\n",
      "Start Date: 19990115, End Date: 19990117\n",
      "Downloading data from refinitiv...\n",
      "(156, 71)\n",
      "Master shape: (2898, 71)\n",
      "Start Date: 19990118, End Date: 19990120\n",
      "Downloading data from refinitiv...\n"
     ]
    },
    {
     "name": "stderr",
     "output_type": "stream",
     "text": [
      "/var/tmp/ipykernel_10925/3801902500.py:128: FutureWarning: The behavior of DataFrame concatenation with empty or all-NA entries is deprecated. In a future version, this will no longer exclude empty or all-NA columns when determining the result dtypes. To retain the old behavior, exclude the relevant entries before the concat operation.\n",
      "  master_df = pd.concat([master_df, mnas], ignore_index=True)\n"
     ]
    },
    {
     "name": "stdout",
     "output_type": "stream",
     "text": [
      "(410, 71)\n",
      "Master shape: (3308, 71)\n",
      "Start Date: 19990121, End Date: 19990123\n",
      "Downloading data from refinitiv...\n",
      "(256, 71)\n",
      "Master shape: (3564, 71)\n",
      "Start Date: 19990124, End Date: 19990126\n",
      "Downloading data from refinitiv...\n",
      "(278, 71)\n",
      "Master shape: (3842, 71)\n",
      "Start Date: 19990127, End Date: 19990129\n",
      "Downloading data from refinitiv...\n",
      "(414, 71)\n",
      "Master shape: (4256, 71)\n",
      "Start Date: 19990130, End Date: 19990201\n",
      "Downloading data from refinitiv...\n",
      "(296, 71)\n",
      "Master shape: (4552, 71)\n",
      "Start Date: 19990202, End Date: 19990204\n",
      "Downloading data from refinitiv...\n",
      "(438, 71)\n",
      "Master shape: (4990, 71)\n",
      "Start Date: 19990205, End Date: 19990207\n",
      "Downloading data from refinitiv...\n",
      "(150, 71)\n",
      "Master shape: (5140, 71)\n",
      "Start Date: 19990208, End Date: 19990210\n",
      "Downloading data from refinitiv...\n",
      "(429, 71)\n",
      "Master shape: (5569, 71)\n",
      "Start Date: 19990211, End Date: 19990213\n",
      "Downloading data from refinitiv...\n"
     ]
    },
    {
     "name": "stderr",
     "output_type": "stream",
     "text": [
      "ERROR!!! An error occurred while requesting URL('https://api.refinitiv.com/data/datagrid/beta1/').\n",
      "     ReadTimeout('')\n"
     ]
    },
    {
     "name": "stdout",
     "output_type": "stream",
     "text": [
      "An error occurred: . Retrying for the range 19990211 to 19990213...\n",
      "Start Date: 19990211, End Date: 19990213\n",
      "Downloading data from refinitiv...\n"
     ]
    },
    {
     "name": "stderr",
     "output_type": "stream",
     "text": [
      "ERROR!!! An error occurred while requesting URL('https://api.refinitiv.com/data/datagrid/beta1/').\n",
      "     ReadTimeout('')\n"
     ]
    },
    {
     "name": "stdout",
     "output_type": "stream",
     "text": [
      "An error occurred: . Retrying for the range 19990211 to 19990213...\n",
      "Start Date: 19990211, End Date: 19990213\n",
      "Downloading data from refinitiv...\n",
      "(247, 71)\n",
      "Master shape: (5816, 71)\n",
      "Start Date: 19990214, End Date: 19990216\n",
      "Downloading data from refinitiv...\n",
      "(265, 71)\n",
      "Master shape: (6081, 71)\n",
      "Appending chunk to BQ\n",
      "Data appended successfully\n",
      "Start Date: 19990217, End Date: 19990219\n",
      "Downloading data from refinitiv...\n",
      "(416, 71)\n",
      "Master shape: (416, 71)\n",
      "Start Date: 19990220, End Date: 19990222\n",
      "Downloading data from refinitiv...\n",
      "(134, 71)\n",
      "Master shape: (550, 71)\n",
      "Start Date: 19990223, End Date: 19990225\n",
      "Downloading data from refinitiv...\n",
      "(375, 71)\n",
      "Master shape: (925, 71)\n",
      "Start Date: 19990226, End Date: 19990228\n",
      "Downloading data from refinitiv...\n",
      "(196, 71)\n",
      "Master shape: (1121, 71)\n",
      "Start Date: 19990301, End Date: 19990303\n",
      "Downloading data from refinitiv...\n",
      "(523, 71)\n",
      "Master shape: (1644, 71)\n",
      "Start Date: 19990304, End Date: 19990306\n",
      "Downloading data from refinitiv...\n",
      "(308, 71)\n",
      "Master shape: (1952, 71)\n",
      "Start Date: 19990307, End Date: 19990309\n",
      "Downloading data from refinitiv...\n",
      "(262, 71)\n",
      "Master shape: (2214, 71)\n",
      "Start Date: 19990310, End Date: 19990312\n",
      "Downloading data from refinitiv...\n",
      "(405, 71)\n",
      "Master shape: (2619, 71)\n",
      "Start Date: 19990313, End Date: 19990315\n",
      "Downloading data from refinitiv...\n",
      "(172, 71)\n",
      "Master shape: (2791, 71)\n",
      "Start Date: 19990316, End Date: 19990318\n",
      "Downloading data from refinitiv...\n",
      "(364, 71)\n",
      "Master shape: (3155, 71)\n",
      "Start Date: 19990319, End Date: 19990321\n",
      "Downloading data from refinitiv...\n",
      "(189, 71)\n",
      "Master shape: (3344, 71)\n",
      "Start Date: 19990322, End Date: 19990324\n",
      "Downloading data from refinitiv...\n",
      "(464, 71)\n",
      "Master shape: (3808, 71)\n",
      "Start Date: 19990325, End Date: 19990327\n",
      "Downloading data from refinitiv...\n",
      "(343, 71)\n",
      "Master shape: (4151, 71)\n",
      "Start Date: 19990328, End Date: 19990330\n",
      "Downloading data from refinitiv...\n",
      "(311, 71)\n",
      "Master shape: (4462, 71)\n",
      "Start Date: 19990331, End Date: 19990402\n",
      "Downloading data from refinitiv...\n",
      "(449, 71)\n",
      "Master shape: (4911, 71)\n",
      "Start Date: 19990403, End Date: 19990405\n",
      "Downloading data from refinitiv...\n",
      "(127, 71)\n",
      "Master shape: (5038, 71)\n",
      "Start Date: 19990406, End Date: 19990408\n",
      "Downloading data from refinitiv...\n"
     ]
    },
    {
     "name": "stderr",
     "output_type": "stream",
     "text": [
      "/var/tmp/ipykernel_10925/3801902500.py:128: FutureWarning: The behavior of DataFrame concatenation with empty or all-NA entries is deprecated. In a future version, this will no longer exclude empty or all-NA columns when determining the result dtypes. To retain the old behavior, exclude the relevant entries before the concat operation.\n",
      "  master_df = pd.concat([master_df, mnas], ignore_index=True)\n"
     ]
    },
    {
     "name": "stdout",
     "output_type": "stream",
     "text": [
      "(404, 71)\n",
      "Master shape: (5442, 71)\n",
      "Start Date: 19990409, End Date: 19990411\n",
      "Downloading data from refinitiv...\n",
      "(159, 71)\n",
      "Master shape: (5601, 71)\n",
      "Start Date: 19990412, End Date: 19990414\n",
      "Downloading data from refinitiv...\n",
      "(433, 71)\n",
      "Master shape: (6034, 71)\n",
      "Start Date: 19990415, End Date: 19990417\n",
      "Downloading data from refinitiv...\n",
      "(345, 71)\n",
      "Master shape: (6379, 71)\n",
      "Appending chunk to BQ\n",
      "Data appended successfully\n",
      "Start Date: 19990418, End Date: 19990420\n",
      "Downloading data from refinitiv...\n",
      "(279, 71)\n",
      "Master shape: (279, 71)\n",
      "Start Date: 19990421, End Date: 19990423\n",
      "Downloading data from refinitiv...\n",
      "(420, 71)\n",
      "Master shape: (699, 71)\n",
      "Start Date: 19990424, End Date: 19990426\n",
      "Downloading data from refinitiv...\n",
      "(138, 71)\n",
      "Master shape: (837, 71)\n",
      "Start Date: 19990427, End Date: 19990429\n",
      "Downloading data from refinitiv...\n"
     ]
    },
    {
     "name": "stderr",
     "output_type": "stream",
     "text": [
      "ERROR!!! An error occurred while requesting URL('https://api.refinitiv.com/data/datagrid/beta1/').\n",
      "     ReadTimeout('')\n"
     ]
    },
    {
     "name": "stdout",
     "output_type": "stream",
     "text": [
      "An error occurred: . Retrying for the range 19990427 to 19990429...\n",
      "Start Date: 19990427, End Date: 19990429\n",
      "Downloading data from refinitiv...\n",
      "(425, 71)\n",
      "Master shape: (1262, 71)\n",
      "Start Date: 19990430, End Date: 19990502\n",
      "Downloading data from refinitiv...\n",
      "(238, 71)\n",
      "Master shape: (1500, 71)\n",
      "Start Date: 19990503, End Date: 19990505\n",
      "Downloading data from refinitiv...\n"
     ]
    },
    {
     "name": "stderr",
     "output_type": "stream",
     "text": [
      "ERROR!!! An error occurred while requesting URL('https://api.refinitiv.com/data/datagrid/beta1/').\n",
      "     ReadTimeout('')\n"
     ]
    },
    {
     "name": "stdout",
     "output_type": "stream",
     "text": [
      "An error occurred: . Retrying for the range 19990503 to 19990505...\n",
      "Start Date: 19990503, End Date: 19990505\n",
      "Downloading data from refinitiv...\n",
      "(488, 71)\n",
      "Master shape: (1988, 71)\n",
      "Start Date: 19990506, End Date: 19990508\n",
      "Downloading data from refinitiv...\n",
      "(304, 71)\n",
      "Master shape: (2292, 71)\n",
      "Start Date: 19990509, End Date: 19990511\n",
      "Downloading data from refinitiv...\n",
      "(300, 71)\n",
      "Master shape: (2592, 71)\n",
      "Start Date: 19990512, End Date: 19990514\n",
      "Downloading data from refinitiv...\n",
      "(412, 71)\n",
      "Master shape: (3004, 71)\n",
      "Start Date: 19990515, End Date: 19990517\n",
      "Downloading data from refinitiv...\n",
      "(189, 71)\n",
      "Master shape: (3193, 71)\n",
      "Start Date: 19990518, End Date: 19990520\n",
      "Downloading data from refinitiv...\n"
     ]
    },
    {
     "name": "stderr",
     "output_type": "stream",
     "text": [
      "ERROR!!! An error occurred while requesting URL('https://api.refinitiv.com/data/datagrid/beta1/').\n",
      "     ReadTimeout('')\n"
     ]
    },
    {
     "name": "stdout",
     "output_type": "stream",
     "text": [
      "An error occurred: . Retrying for the range 19990518 to 19990520...\n",
      "Start Date: 19990518, End Date: 19990520\n",
      "Downloading data from refinitiv...\n",
      "(459, 71)\n",
      "Master shape: (3652, 71)\n",
      "Start Date: 19990521, End Date: 19990523\n",
      "Downloading data from refinitiv...\n",
      "(146, 71)\n",
      "Master shape: (3798, 71)\n",
      "Start Date: 19990524, End Date: 19990526\n",
      "Downloading data from refinitiv...\n",
      "(374, 71)\n",
      "Master shape: (4172, 71)\n",
      "Start Date: 19990527, End Date: 19990529\n",
      "Downloading data from refinitiv...\n",
      "(312, 71)\n",
      "Master shape: (4484, 71)\n",
      "Start Date: 19990530, End Date: 19990601\n",
      "Downloading data from refinitiv...\n",
      "(295, 71)\n",
      "Master shape: (4779, 71)\n",
      "Start Date: 19990602, End Date: 19990604\n",
      "Downloading data from refinitiv...\n",
      "(428, 71)\n",
      "Master shape: (5207, 71)\n",
      "Start Date: 19990605, End Date: 19990607\n",
      "Downloading data from refinitiv...\n",
      "(181, 71)\n",
      "Master shape: (5388, 71)\n",
      "Start Date: 19990608, End Date: 19990610\n",
      "Downloading data from refinitiv...\n",
      "(409, 71)\n",
      "Master shape: (5797, 71)\n",
      "Start Date: 19990611, End Date: 19990613\n",
      "Downloading data from refinitiv...\n",
      "(141, 71)\n",
      "Master shape: (5938, 71)\n",
      "Start Date: 19990614, End Date: 19990616\n",
      "Downloading data from refinitiv...\n"
     ]
    },
    {
     "name": "stderr",
     "output_type": "stream",
     "text": [
      "ERROR!!! An error occurred while requesting URL('https://api.refinitiv.com/data/datagrid/beta1/').\n",
      "     ReadTimeout('')\n"
     ]
    },
    {
     "name": "stdout",
     "output_type": "stream",
     "text": [
      "An error occurred: . Retrying for the range 19990614 to 19990616...\n",
      "Start Date: 19990614, End Date: 19990616\n",
      "Downloading data from refinitiv...\n",
      "(430, 71)\n",
      "Master shape: (6368, 71)\n",
      "Appending chunk to BQ\n",
      "Data appended successfully\n",
      "Start Date: 19990617, End Date: 19990619\n",
      "Downloading data from refinitiv...\n",
      "(287, 71)\n",
      "Master shape: (287, 71)\n",
      "Start Date: 19990620, End Date: 19990622\n",
      "Downloading data from refinitiv...\n",
      "(327, 71)\n",
      "Master shape: (614, 71)\n",
      "Start Date: 19990623, End Date: 19990625\n",
      "Downloading data from refinitiv...\n",
      "(440, 71)\n",
      "Master shape: (1054, 71)\n",
      "Start Date: 19990626, End Date: 19990628\n",
      "Downloading data from refinitiv...\n",
      "(163, 71)\n",
      "Master shape: (1217, 71)\n",
      "Start Date: 19990629, End Date: 19990701\n",
      "Downloading data from refinitiv...\n",
      "(707, 71)\n",
      "Master shape: (1924, 71)\n",
      "Start Date: 19990702, End Date: 19990704\n",
      "Downloading data from refinitiv...\n",
      "(164, 71)\n",
      "Master shape: (2088, 71)\n",
      "Start Date: 19990705, End Date: 19990707\n",
      "Downloading data from refinitiv...\n"
     ]
    },
    {
     "name": "stderr",
     "output_type": "stream",
     "text": [
      "/var/tmp/ipykernel_10925/3801902500.py:128: FutureWarning: The behavior of DataFrame concatenation with empty or all-NA entries is deprecated. In a future version, this will no longer exclude empty or all-NA columns when determining the result dtypes. To retain the old behavior, exclude the relevant entries before the concat operation.\n",
      "  master_df = pd.concat([master_df, mnas], ignore_index=True)\n"
     ]
    },
    {
     "name": "stdout",
     "output_type": "stream",
     "text": [
      "(351, 71)\n",
      "Master shape: (2439, 71)\n",
      "Start Date: 19990708, End Date: 19990710\n",
      "Downloading data from refinitiv...\n",
      "(311, 71)\n",
      "Master shape: (2750, 71)\n",
      "Start Date: 19990711, End Date: 19990713\n",
      "Downloading data from refinitiv...\n",
      "(346, 71)\n",
      "Master shape: (3096, 71)\n",
      "Start Date: 19990714, End Date: 19990716\n",
      "Downloading data from refinitiv...\n",
      "(398, 71)\n",
      "Master shape: (3494, 71)\n",
      "Start Date: 19990717, End Date: 19990719\n",
      "Downloading data from refinitiv...\n",
      "(151, 71)\n",
      "Master shape: (3645, 71)\n",
      "Start Date: 19990720, End Date: 19990722\n",
      "Downloading data from refinitiv...\n",
      "(364, 71)\n",
      "Master shape: (4009, 71)\n",
      "Start Date: 19990723, End Date: 19990725\n",
      "Downloading data from refinitiv...\n"
     ]
    },
    {
     "name": "stderr",
     "output_type": "stream",
     "text": [
      "ERROR!!! An error occurred while requesting URL('https://api.refinitiv.com/data/datagrid/beta1/').\n",
      "     ReadTimeout('')\n"
     ]
    },
    {
     "name": "stdout",
     "output_type": "stream",
     "text": [
      "An error occurred: . Retrying for the range 19990723 to 19990725...\n",
      "Start Date: 19990723, End Date: 19990725\n",
      "Downloading data from refinitiv...\n",
      "(113, 71)\n",
      "Master shape: (4122, 71)\n",
      "Start Date: 19990726, End Date: 19990728\n",
      "Downloading data from refinitiv...\n"
     ]
    },
    {
     "name": "stderr",
     "output_type": "stream",
     "text": [
      "/var/tmp/ipykernel_10925/3801902500.py:128: FutureWarning: The behavior of DataFrame concatenation with empty or all-NA entries is deprecated. In a future version, this will no longer exclude empty or all-NA columns when determining the result dtypes. To retain the old behavior, exclude the relevant entries before the concat operation.\n",
      "  master_df = pd.concat([master_df, mnas], ignore_index=True)\n"
     ]
    },
    {
     "name": "stdout",
     "output_type": "stream",
     "text": [
      "(441, 71)\n",
      "Master shape: (4563, 71)\n",
      "Start Date: 19990729, End Date: 19990731\n",
      "Downloading data from refinitiv...\n"
     ]
    },
    {
     "name": "stderr",
     "output_type": "stream",
     "text": [
      "ERROR!!! An error occurred while requesting URL('https://api.refinitiv.com/data/datagrid/beta1/').\n",
      "     ReadTimeout('')\n"
     ]
    },
    {
     "name": "stdout",
     "output_type": "stream",
     "text": [
      "An error occurred: . Retrying for the range 19990729 to 19990731...\n",
      "Start Date: 19990729, End Date: 19990731\n",
      "Downloading data from refinitiv...\n",
      "(355, 71)\n",
      "Master shape: (4918, 71)\n",
      "Start Date: 19990801, End Date: 19990803\n",
      "Downloading data from refinitiv...\n",
      "(327, 71)\n",
      "Master shape: (5245, 71)\n",
      "Start Date: 19990804, End Date: 19990806\n",
      "Downloading data from refinitiv...\n",
      "(407, 71)\n",
      "Master shape: (5652, 71)\n",
      "Start Date: 19990807, End Date: 19990809\n",
      "Downloading data from refinitiv...\n",
      "(151, 71)\n",
      "Master shape: (5803, 71)\n",
      "Start Date: 19990810, End Date: 19990812\n",
      "Downloading data from refinitiv...\n",
      "(345, 71)\n",
      "Master shape: (6148, 71)\n",
      "Start Date: 19990813, End Date: 19990815\n",
      "Downloading data from refinitiv...\n",
      "(131, 71)\n",
      "Master shape: (6279, 71)\n",
      "Appending chunk to BQ\n"
     ]
    },
    {
     "name": "stderr",
     "output_type": "stream",
     "text": [
      "/var/tmp/ipykernel_10925/3801902500.py:128: FutureWarning: The behavior of DataFrame concatenation with empty or all-NA entries is deprecated. In a future version, this will no longer exclude empty or all-NA columns when determining the result dtypes. To retain the old behavior, exclude the relevant entries before the concat operation.\n",
      "  master_df = pd.concat([master_df, mnas], ignore_index=True)\n"
     ]
    },
    {
     "name": "stdout",
     "output_type": "stream",
     "text": [
      "Data appended successfully\n",
      "Start Date: 19990816, End Date: 19990818\n",
      "Downloading data from refinitiv...\n",
      "(376, 71)\n",
      "Master shape: (376, 71)\n",
      "Start Date: 19990819, End Date: 19990821\n",
      "Downloading data from refinitiv...\n",
      "(245, 71)\n",
      "Master shape: (621, 71)\n",
      "Start Date: 19990822, End Date: 19990824\n",
      "Downloading data from refinitiv...\n"
     ]
    },
    {
     "name": "stderr",
     "output_type": "stream",
     "text": [
      "ERROR!!! An error occurred while requesting URL('https://api.refinitiv.com/data/datagrid/beta1/').\n",
      "     ReadTimeout('')\n"
     ]
    },
    {
     "name": "stdout",
     "output_type": "stream",
     "text": [
      "An error occurred: . Retrying for the range 19990822 to 19990824...\n",
      "Start Date: 19990822, End Date: 19990824\n",
      "Downloading data from refinitiv...\n",
      "(249, 71)\n",
      "Master shape: (870, 71)\n",
      "Start Date: 19990825, End Date: 19990827\n",
      "Downloading data from refinitiv...\n",
      "(345, 71)\n",
      "Master shape: (1215, 71)\n",
      "Start Date: 19990828, End Date: 19990830\n",
      "Downloading data from refinitiv...\n"
     ]
    },
    {
     "name": "stderr",
     "output_type": "stream",
     "text": [
      "ERROR!!! An error occurred while requesting URL('https://api.refinitiv.com/data/datagrid/beta1/').\n",
      "     ReadTimeout('')\n"
     ]
    },
    {
     "name": "stdout",
     "output_type": "stream",
     "text": [
      "An error occurred: . Retrying for the range 19990828 to 19990830...\n",
      "Start Date: 19990828, End Date: 19990830\n",
      "Downloading data from refinitiv...\n",
      "(157, 71)\n",
      "Master shape: (1372, 71)\n",
      "Start Date: 19990831, End Date: 19990902\n",
      "Downloading data from refinitiv...\n",
      "(569, 71)\n",
      "Master shape: (1941, 71)\n",
      "Start Date: 19990903, End Date: 19990905\n",
      "Downloading data from refinitiv...\n"
     ]
    },
    {
     "name": "stderr",
     "output_type": "stream",
     "text": [
      "ERROR!!! An error occurred while requesting URL('https://api.refinitiv.com/data/datagrid/beta1/').\n",
      "     ReadTimeout('')\n"
     ]
    },
    {
     "name": "stdout",
     "output_type": "stream",
     "text": [
      "An error occurred: . Retrying for the range 19990903 to 19990905...\n",
      "Start Date: 19990903, End Date: 19990905\n",
      "Downloading data from refinitiv...\n",
      "(136, 71)\n",
      "Master shape: (2077, 71)\n",
      "Start Date: 19990906, End Date: 19990908\n",
      "Downloading data from refinitiv...\n",
      "(362, 71)\n",
      "Master shape: (2439, 71)\n",
      "Start Date: 19990909, End Date: 19990911\n",
      "Downloading data from refinitiv...\n",
      "(297, 71)\n",
      "Master shape: (2736, 71)\n",
      "Start Date: 19990912, End Date: 19990914\n",
      "Downloading data from refinitiv...\n",
      "(295, 71)\n",
      "Master shape: (3031, 71)\n",
      "Start Date: 19990915, End Date: 19990917\n",
      "Downloading data from refinitiv...\n",
      "(419, 71)\n",
      "Master shape: (3450, 71)\n",
      "Start Date: 19990918, End Date: 19990920\n",
      "Downloading data from refinitiv...\n",
      "(141, 71)\n",
      "Master shape: (3591, 71)\n",
      "Start Date: 19990921, End Date: 19990923\n",
      "Downloading data from refinitiv...\n"
     ]
    },
    {
     "name": "stderr",
     "output_type": "stream",
     "text": [
      "/var/tmp/ipykernel_10925/3801902500.py:128: FutureWarning: The behavior of DataFrame concatenation with empty or all-NA entries is deprecated. In a future version, this will no longer exclude empty or all-NA columns when determining the result dtypes. To retain the old behavior, exclude the relevant entries before the concat operation.\n",
      "  master_df = pd.concat([master_df, mnas], ignore_index=True)\n"
     ]
    },
    {
     "name": "stdout",
     "output_type": "stream",
     "text": [
      "(439, 71)\n",
      "Master shape: (4030, 71)\n",
      "Start Date: 19990924, End Date: 19990926\n",
      "Downloading data from refinitiv...\n",
      "(148, 71)\n",
      "Master shape: (4178, 71)\n",
      "Start Date: 19990927, End Date: 19990929\n",
      "Downloading data from refinitiv...\n"
     ]
    },
    {
     "name": "stderr",
     "output_type": "stream",
     "text": [
      "/var/tmp/ipykernel_10925/3801902500.py:128: FutureWarning: The behavior of DataFrame concatenation with empty or all-NA entries is deprecated. In a future version, this will no longer exclude empty or all-NA columns when determining the result dtypes. To retain the old behavior, exclude the relevant entries before the concat operation.\n",
      "  master_df = pd.concat([master_df, mnas], ignore_index=True)\n"
     ]
    },
    {
     "name": "stdout",
     "output_type": "stream",
     "text": [
      "(493, 71)\n",
      "Master shape: (4671, 71)\n",
      "Start Date: 19990930, End Date: 19991002\n",
      "Downloading data from refinitiv...\n",
      "(471, 71)\n",
      "Master shape: (5142, 71)\n",
      "Start Date: 19991003, End Date: 19991005\n",
      "Downloading data from refinitiv...\n",
      "(335, 71)\n",
      "Master shape: (5477, 71)\n",
      "Start Date: 19991006, End Date: 19991008\n",
      "Downloading data from refinitiv...\n",
      "(390, 71)\n",
      "Master shape: (5867, 71)\n",
      "Start Date: 19991009, End Date: 19991011\n",
      "Downloading data from refinitiv...\n",
      "(150, 71)\n",
      "Master shape: (6017, 71)\n",
      "Start Date: 19991012, End Date: 19991014\n",
      "Downloading data from refinitiv...\n",
      "(449, 71)\n",
      "Master shape: (6466, 71)\n",
      "Appending chunk to BQ\n",
      "Data appended successfully\n",
      "Start Date: 19991015, End Date: 19991017\n",
      "Downloading data from refinitiv...\n",
      "(188, 71)\n",
      "Master shape: (188, 71)\n",
      "Start Date: 19991018, End Date: 19991020\n",
      "Downloading data from refinitiv...\n",
      "(457, 71)\n",
      "Master shape: (645, 71)\n",
      "Start Date: 19991021, End Date: 19991023\n",
      "Downloading data from refinitiv...\n",
      "(290, 71)\n",
      "Master shape: (935, 71)\n",
      "Start Date: 19991024, End Date: 19991026\n",
      "Downloading data from refinitiv...\n",
      "(269, 71)\n",
      "Master shape: (1204, 71)\n",
      "Start Date: 19991027, End Date: 19991029\n",
      "Downloading data from refinitiv...\n"
     ]
    },
    {
     "name": "stderr",
     "output_type": "stream",
     "text": [
      "ERROR!!! An error occurred while requesting URL('https://api.refinitiv.com/data/datagrid/beta1/').\n",
      "     ReadTimeout('')\n"
     ]
    },
    {
     "name": "stdout",
     "output_type": "stream",
     "text": [
      "An error occurred: . Retrying for the range 19991027 to 19991029...\n",
      "Start Date: 19991027, End Date: 19991029\n",
      "Downloading data from refinitiv...\n",
      "(391, 71)\n",
      "Master shape: (1595, 71)\n",
      "Start Date: 19991030, End Date: 19991101\n",
      "Downloading data from refinitiv...\n"
     ]
    },
    {
     "name": "stderr",
     "output_type": "stream",
     "text": [
      "ERROR!!! An error occurred while requesting URL('https://api.refinitiv.com/data/datagrid/beta1/').\n",
      "     ReadTimeout('')\n"
     ]
    },
    {
     "name": "stdout",
     "output_type": "stream",
     "text": [
      "An error occurred: . Retrying for the range 19991030 to 19991101...\n",
      "Start Date: 19991030, End Date: 19991101\n",
      "Downloading data from refinitiv...\n",
      "(232, 71)\n",
      "Master shape: (1827, 71)\n",
      "Start Date: 19991102, End Date: 19991104\n",
      "Downloading data from refinitiv...\n",
      "(439, 71)\n",
      "Master shape: (2266, 71)\n",
      "Start Date: 19991105, End Date: 19991107\n",
      "Downloading data from refinitiv...\n",
      "(173, 71)\n",
      "Master shape: (2439, 71)\n",
      "Start Date: 19991108, End Date: 19991110\n",
      "Downloading data from refinitiv...\n",
      "(424, 71)\n",
      "Master shape: (2863, 71)\n",
      "Start Date: 19991111, End Date: 19991113\n",
      "Downloading data from refinitiv...\n",
      "(267, 71)\n",
      "Master shape: (3130, 71)\n",
      "Start Date: 19991114, End Date: 19991116\n",
      "Downloading data from refinitiv...\n",
      "(362, 71)\n",
      "Master shape: (3492, 71)\n",
      "Start Date: 19991117, End Date: 19991119\n",
      "Downloading data from refinitiv...\n",
      "(513, 71)\n",
      "Master shape: (4005, 71)\n",
      "Start Date: 19991120, End Date: 19991122\n",
      "Downloading data from refinitiv...\n",
      "(177, 71)\n",
      "Master shape: (4182, 71)\n",
      "Start Date: 19991123, End Date: 19991125\n",
      "Downloading data from refinitiv...\n",
      "(353, 71)\n",
      "Master shape: (4535, 71)\n",
      "Start Date: 19991126, End Date: 19991128\n",
      "Downloading data from refinitiv...\n"
     ]
    },
    {
     "name": "stderr",
     "output_type": "stream",
     "text": [
      "/var/tmp/ipykernel_10925/3801902500.py:128: FutureWarning: The behavior of DataFrame concatenation with empty or all-NA entries is deprecated. In a future version, this will no longer exclude empty or all-NA columns when determining the result dtypes. To retain the old behavior, exclude the relevant entries before the concat operation.\n",
      "  master_df = pd.concat([master_df, mnas], ignore_index=True)\n"
     ]
    },
    {
     "name": "stdout",
     "output_type": "stream",
     "text": [
      "(156, 71)\n",
      "Master shape: (4691, 71)\n",
      "Start Date: 19991129, End Date: 19991201\n",
      "Downloading data from refinitiv...\n"
     ]
    },
    {
     "name": "stderr",
     "output_type": "stream",
     "text": [
      "/var/tmp/ipykernel_10925/3801902500.py:128: FutureWarning: The behavior of DataFrame concatenation with empty or all-NA entries is deprecated. In a future version, this will no longer exclude empty or all-NA columns when determining the result dtypes. To retain the old behavior, exclude the relevant entries before the concat operation.\n",
      "  master_df = pd.concat([master_df, mnas], ignore_index=True)\n"
     ]
    },
    {
     "name": "stdout",
     "output_type": "stream",
     "text": [
      "(562, 71)\n",
      "Master shape: (5253, 71)\n",
      "Start Date: 19991202, End Date: 19991204\n",
      "Downloading data from refinitiv...\n",
      "(312, 71)\n",
      "Master shape: (5565, 71)\n",
      "Start Date: 19991205, End Date: 19991207\n",
      "Downloading data from refinitiv...\n",
      "(341, 71)\n",
      "Master shape: (5906, 71)\n",
      "Start Date: 19991208, End Date: 19991210\n",
      "Downloading data from refinitiv...\n",
      "(418, 71)\n",
      "Master shape: (6324, 71)\n",
      "Start Date: 19991211, End Date: 19991213\n",
      "Downloading data from refinitiv...\n",
      "(196, 71)\n",
      "Master shape: (6520, 71)\n",
      "Appending chunk to BQ\n",
      "Data appended successfully\n",
      "Start Date: 19991214, End Date: 19991216\n",
      "Downloading data from refinitiv...\n",
      "(565, 71)\n",
      "Master shape: (565, 71)\n",
      "Start Date: 19991217, End Date: 19991219\n",
      "Downloading data from refinitiv...\n",
      "(248, 71)\n",
      "Master shape: (813, 71)\n",
      "Start Date: 19991220, End Date: 19991222\n",
      "Downloading data from refinitiv...\n"
     ]
    },
    {
     "name": "stderr",
     "output_type": "stream",
     "text": [
      "/var/tmp/ipykernel_10925/3801902500.py:128: FutureWarning: The behavior of DataFrame concatenation with empty or all-NA entries is deprecated. In a future version, this will no longer exclude empty or all-NA columns when determining the result dtypes. To retain the old behavior, exclude the relevant entries before the concat operation.\n",
      "  master_df = pd.concat([master_df, mnas], ignore_index=True)\n",
      "ERROR!!! An error occurred while requesting URL('https://api.refinitiv.com/data/datagrid/beta1/').\n",
      "     ReadTimeout('')\n"
     ]
    },
    {
     "name": "stdout",
     "output_type": "stream",
     "text": [
      "An error occurred: . Retrying for the range 19991220 to 19991222...\n",
      "Start Date: 19991220, End Date: 19991222\n",
      "Downloading data from refinitiv...\n",
      "(596, 71)\n",
      "Master shape: (1409, 71)\n",
      "Start Date: 19991223, End Date: 19991225\n",
      "Downloading data from refinitiv...\n",
      "(228, 71)\n",
      "Master shape: (1637, 71)\n",
      "Start Date: 19991226, End Date: 19991228\n",
      "Downloading data from refinitiv...\n",
      "(174, 71)\n",
      "Master shape: (1811, 71)\n",
      "Start Date: 19991229, End Date: 19991231\n",
      "Downloading data from refinitiv...\n",
      "(385, 71)\n",
      "Master shape: (2196, 71)\n",
      "Start Date: 20000101, End Date: 20000103\n",
      "Downloading data from refinitiv...\n",
      "(237, 71)\n",
      "Master shape: (2433, 71)\n",
      "Start Date: 20000104, End Date: 20000106\n",
      "Downloading data from refinitiv...\n",
      "(407, 71)\n",
      "Master shape: (2840, 71)\n",
      "Start Date: 20000107, End Date: 20000109\n",
      "Downloading data from refinitiv...\n",
      "(116, 71)\n",
      "Master shape: (2956, 71)\n",
      "Start Date: 20000110, End Date: 20000112\n",
      "Downloading data from refinitiv...\n",
      "(475, 71)\n",
      "Master shape: (3431, 71)\n",
      "Start Date: 20000113, End Date: 20000115\n",
      "Downloading data from refinitiv...\n",
      "(313, 71)\n",
      "Master shape: (3744, 71)\n",
      "Start Date: 20000116, End Date: 20000118\n",
      "Downloading data from refinitiv...\n",
      "(356, 71)\n",
      "Master shape: (4100, 71)\n",
      "Start Date: 20000119, End Date: 20000121\n",
      "Downloading data from refinitiv...\n",
      "(447, 71)\n",
      "Master shape: (4547, 71)\n",
      "Start Date: 20000122, End Date: 20000124\n",
      "Downloading data from refinitiv...\n",
      "(174, 71)\n",
      "Master shape: (4721, 71)\n",
      "Start Date: 20000125, End Date: 20000127\n",
      "Downloading data from refinitiv...\n",
      "(476, 71)\n",
      "Master shape: (5197, 71)\n",
      "Start Date: 20000128, End Date: 20000130\n",
      "Downloading data from refinitiv...\n",
      "(188, 71)\n",
      "Master shape: (5385, 71)\n",
      "Start Date: 20000131, End Date: 20000202\n",
      "Downloading data from refinitiv...\n",
      "(682, 71)\n",
      "Master shape: (6067, 71)\n",
      "Start Date: 20000203, End Date: 20000205\n",
      "Downloading data from refinitiv...\n",
      "(358, 71)\n",
      "Master shape: (6425, 71)\n",
      "Start Date: 20000206, End Date: 20000208\n",
      "Downloading data from refinitiv...\n",
      "(362, 71)\n",
      "Master shape: (6787, 71)\n",
      "Start Date: 20000209, End Date: 20000211\n",
      "Downloading data from refinitiv...\n",
      "(513, 71)\n",
      "Master shape: (7300, 71)\n",
      "Appending chunk to BQ\n",
      "Data appended successfully\n",
      "Start Date: 20000212, End Date: 20000214\n",
      "Downloading data from refinitiv...\n",
      "(200, 71)\n",
      "Master shape: (200, 71)\n",
      "Start Date: 20000215, End Date: 20000217\n",
      "Downloading data from refinitiv...\n",
      "(519, 71)\n",
      "Master shape: (719, 71)\n",
      "Start Date: 20000218, End Date: 20000220\n",
      "Downloading data from refinitiv...\n",
      "(194, 71)\n",
      "Master shape: (913, 71)\n",
      "Start Date: 20000221, End Date: 20000223\n",
      "Downloading data from refinitiv...\n",
      "(495, 71)\n",
      "Master shape: (1408, 71)\n",
      "Start Date: 20000224, End Date: 20000226\n",
      "Downloading data from refinitiv...\n",
      "(358, 71)\n",
      "Master shape: (1766, 71)\n",
      "Start Date: 20000227, End Date: 20000229\n",
      "Downloading data from refinitiv...\n",
      "(461, 71)\n",
      "Master shape: (2227, 71)\n",
      "Start Date: 20000301, End Date: 20000303\n",
      "Downloading data from refinitiv...\n"
     ]
    },
    {
     "name": "stderr",
     "output_type": "stream",
     "text": [
      "ERROR!!! An error occurred while requesting URL('https://api.refinitiv.com/data/datagrid/beta1/').\n",
      "     ReadTimeout('')\n"
     ]
    },
    {
     "name": "stdout",
     "output_type": "stream",
     "text": [
      "An error occurred: . Retrying for the range 20000301 to 20000303...\n",
      "Start Date: 20000301, End Date: 20000303\n",
      "Downloading data from refinitiv...\n",
      "(633, 71)\n",
      "Master shape: (2860, 71)\n",
      "Start Date: 20000304, End Date: 20000306\n",
      "Downloading data from refinitiv...\n",
      "(231, 71)\n",
      "Master shape: (3091, 71)\n",
      "Start Date: 20000307, End Date: 20000309\n",
      "Downloading data from refinitiv...\n",
      "(555, 71)\n",
      "Master shape: (3646, 71)\n",
      "Start Date: 20000310, End Date: 20000312\n",
      "Downloading data from refinitiv...\n",
      "(198, 71)\n",
      "Master shape: (3844, 71)\n",
      "Start Date: 20000313, End Date: 20000315\n",
      "Downloading data from refinitiv...\n",
      "(460, 71)\n",
      "Master shape: (4304, 71)\n",
      "Start Date: 20000316, End Date: 20000318\n",
      "Downloading data from refinitiv...\n"
     ]
    },
    {
     "name": "stderr",
     "output_type": "stream",
     "text": [
      "ERROR!!! An error occurred while requesting URL('https://api.refinitiv.com/data/datagrid/beta1/').\n",
      "     ReadTimeout('')\n"
     ]
    },
    {
     "name": "stdout",
     "output_type": "stream",
     "text": [
      "An error occurred: . Retrying for the range 20000316 to 20000318...\n",
      "Start Date: 20000316, End Date: 20000318\n",
      "Downloading data from refinitiv...\n",
      "(351, 71)\n",
      "Master shape: (4655, 71)\n",
      "Start Date: 20000319, End Date: 20000321\n",
      "Downloading data from refinitiv...\n",
      "(331, 71)\n",
      "Master shape: (4986, 71)\n",
      "Start Date: 20000322, End Date: 20000324\n",
      "Downloading data from refinitiv...\n",
      "(545, 71)\n",
      "Master shape: (5531, 71)\n",
      "Start Date: 20000325, End Date: 20000327\n",
      "Downloading data from refinitiv...\n"
     ]
    },
    {
     "name": "stderr",
     "output_type": "stream",
     "text": [
      "ERROR!!! An error occurred while requesting URL('https://api.refinitiv.com/data/datagrid/beta1/').\n",
      "     ReadTimeout('')\n"
     ]
    },
    {
     "name": "stdout",
     "output_type": "stream",
     "text": [
      "An error occurred: . Retrying for the range 20000325 to 20000327...\n",
      "Start Date: 20000325, End Date: 20000327\n",
      "Downloading data from refinitiv...\n"
     ]
    },
    {
     "ename": "KeyboardInterrupt",
     "evalue": "",
     "output_type": "error",
     "traceback": [
      "\u001b[0;31m---------------------------------------------------------------------------\u001b[0m",
      "\u001b[0;31mKeyboardInterrupt\u001b[0m                         Traceback (most recent call last)",
      "Cell \u001b[0;32mIn[7], line 57\u001b[0m\n\u001b[1;32m     51\u001b[0m mna_screen \u001b[38;5;241m=\u001b[39m \u001b[38;5;124mf\u001b[39m\u001b[38;5;124m'\u001b[39m\u001b[38;5;124mSCREEN(U(IN(DEALS)/*UNV:DEALSMNA*/),\u001b[39m\u001b[38;5;130;01m\\\u001b[39;00m\n\u001b[1;32m     52\u001b[0m \u001b[38;5;124m            BETWEEN(TR.MnAAnnDate,\u001b[39m\u001b[38;5;132;01m{\u001b[39;00mstart\u001b[38;5;132;01m}\u001b[39;00m\u001b[38;5;124m,\u001b[39m\u001b[38;5;132;01m{\u001b[39;00mend\u001b[38;5;132;01m}\u001b[39;00m\u001b[38;5;124m)/*dt:Date*/, \u001b[39m\u001b[38;5;130;01m\\\u001b[39;00m\n\u001b[1;32m     53\u001b[0m \u001b[38;5;124m            CURN=USD)\u001b[39m\u001b[38;5;124m'\u001b[39m\n\u001b[1;32m     56\u001b[0m \u001b[38;5;66;03m# input ipo screen results as instrument list and pull ipo attributes via fields from Eikon Data API. \u001b[39;00m\n\u001b[0;32m---> 57\u001b[0m mnas \u001b[38;5;241m=\u001b[39m \u001b[43mrdp\u001b[49m\u001b[38;5;241;43m.\u001b[39;49m\u001b[43mget_data\u001b[49m\u001b[43m(\u001b[49m\u001b[43mmna_screen\u001b[49m\u001b[43m,\u001b[49m\u001b[43m[\u001b[49m\u001b[38;5;124;43m'\u001b[39;49m\u001b[38;5;124;43mTR.MNASDCDealNumber\u001b[39;49m\u001b[38;5;124;43m'\u001b[39;49m\u001b[43m,\u001b[49m\n\u001b[1;32m     58\u001b[0m \u001b[43m                                \u001b[49m\u001b[38;5;124;43m'\u001b[39;49m\u001b[38;5;124;43mTR.MnAAnnDate\u001b[39;49m\u001b[38;5;124;43m'\u001b[39;49m\u001b[43m,\u001b[49m\u001b[43m \u001b[49m\u001b[38;5;124;43m'\u001b[39;49m\u001b[38;5;124;43mTR.MnARankValueIncNetDebt(Curn=USD,Scale=6)\u001b[39;49m\u001b[38;5;124;43m'\u001b[39;49m\u001b[43m,\u001b[49m\n\u001b[1;32m     59\u001b[0m \u001b[43m                                \u001b[49m\u001b[38;5;124;43m'\u001b[39;49m\u001b[38;5;124;43mTR.MnATarget\u001b[39;49m\u001b[38;5;124;43m'\u001b[39;49m\u001b[43m,\u001b[49m\u001b[43m \u001b[49m\u001b[38;5;124;43m'\u001b[39;49m\u001b[38;5;124;43mTR.MnATargetPermId\u001b[39;49m\u001b[38;5;124;43m'\u001b[39;49m\u001b[43m,\u001b[49m\n\u001b[1;32m     60\u001b[0m \u001b[43m                                \u001b[49m\u001b[38;5;124;43m'\u001b[39;49m\u001b[38;5;124;43mTR.MnATargetPriTickerSym\u001b[39;49m\u001b[38;5;124;43m'\u001b[39;49m\u001b[43m,\u001b[49m\n\u001b[1;32m     61\u001b[0m \u001b[43m                                \u001b[49m\u001b[38;5;124;43m'\u001b[39;49m\u001b[38;5;124;43mTR.MnATargetNation\u001b[39;49m\u001b[38;5;124;43m'\u001b[39;49m\u001b[43m,\u001b[49m\n\u001b[1;32m     62\u001b[0m \u001b[43m                                \u001b[49m\u001b[38;5;124;43m'\u001b[39;49m\u001b[38;5;124;43mTR.MnATargetMacroInd\u001b[39;49m\u001b[38;5;124;43m'\u001b[39;49m\u001b[43m,\u001b[49m\n\u001b[1;32m     63\u001b[0m \u001b[43m                                \u001b[49m\u001b[38;5;124;43m'\u001b[39;49m\u001b[38;5;124;43mTR.MnATargetMidInd\u001b[39;49m\u001b[38;5;124;43m'\u001b[39;49m\u001b[43m,\u001b[49m\n\u001b[1;32m     64\u001b[0m \u001b[43m                                \u001b[49m\u001b[38;5;124;43m'\u001b[39;49m\u001b[38;5;124;43mTR.MnAAcquiror\u001b[39;49m\u001b[38;5;124;43m'\u001b[39;49m\u001b[43m,\u001b[49m\n\u001b[1;32m     65\u001b[0m \u001b[43m                                \u001b[49m\u001b[38;5;124;43m'\u001b[39;49m\u001b[38;5;124;43mTR.MnAAcquirorPermId\u001b[39;49m\u001b[38;5;124;43m'\u001b[39;49m\u001b[43m,\u001b[49m\n\u001b[1;32m     66\u001b[0m \u001b[43m                                \u001b[49m\u001b[38;5;124;43m'\u001b[39;49m\u001b[38;5;124;43mTR.MnAAcquirorMacroInd\u001b[39;49m\u001b[38;5;124;43m'\u001b[39;49m\u001b[43m,\u001b[49m\n\u001b[1;32m     67\u001b[0m \u001b[43m                                \u001b[49m\u001b[38;5;124;43m'\u001b[39;49m\u001b[38;5;124;43mTR.MnAAcquirorMidInd\u001b[39;49m\u001b[38;5;124;43m'\u001b[39;49m\u001b[43m,\u001b[49m\n\u001b[1;32m     68\u001b[0m \u001b[43m                                \u001b[49m\u001b[38;5;124;43m'\u001b[39;49m\u001b[38;5;124;43mTR.MnAAcquirorNation\u001b[39;49m\u001b[38;5;124;43m'\u001b[39;49m\u001b[43m,\u001b[49m\n\u001b[1;32m     69\u001b[0m \u001b[43m                                \u001b[49m\u001b[38;5;124;43m'\u001b[39;49m\u001b[38;5;124;43mTR.MNADealId\u001b[39;49m\u001b[38;5;124;43m'\u001b[39;49m\u001b[43m,\u001b[49m\u001b[38;5;124;43m'\u001b[39;49m\u001b[38;5;124;43mTR.MnASynopsis\u001b[39;49m\u001b[38;5;124;43m'\u001b[39;49m\u001b[43m,\u001b[49m\n\u001b[1;32m     70\u001b[0m \u001b[43m                                \u001b[49m\u001b[38;5;124;43m'\u001b[39;49m\u001b[38;5;124;43mTR.MnAAcquirorPriHiTech\u001b[39;49m\u001b[38;5;124;43m'\u001b[39;49m\u001b[43m,\u001b[49m\n\u001b[1;32m     71\u001b[0m \u001b[43m                                \u001b[49m\u001b[38;5;124;43m'\u001b[39;49m\u001b[38;5;124;43mTR.MnAAcquirorPriTickerSym\u001b[39;49m\u001b[38;5;124;43m'\u001b[39;49m\u001b[43m,\u001b[49m\n\u001b[1;32m     72\u001b[0m \u001b[43m                                \u001b[49m\u001b[38;5;124;43m'\u001b[39;49m\u001b[38;5;124;43mTR.MnAAcquirorExchTicker(Concat=\u001b[39;49m\u001b[38;5;124;43m\"\u001b[39;49m\u001b[38;5;124;43m|\u001b[39;49m\u001b[38;5;124;43m\"\u001b[39;49m\u001b[38;5;124;43m)\u001b[39;49m\u001b[38;5;124;43m'\u001b[39;49m\u001b[43m,\u001b[49m\n\u001b[1;32m     73\u001b[0m \u001b[43m                                \u001b[49m\u001b[38;5;124;43m'\u001b[39;49m\u001b[38;5;124;43mTR.MnAAcquirorUltParentPermID\u001b[39;49m\u001b[38;5;124;43m'\u001b[39;49m\u001b[43m,\u001b[49m\n\u001b[1;32m     74\u001b[0m \u001b[43m                                \u001b[49m\u001b[38;5;124;43m'\u001b[39;49m\u001b[38;5;124;43mTR.MnAHiTechGroup(Concat=\u001b[39;49m\u001b[38;5;124;43m\"\u001b[39;49m\u001b[38;5;124;43m|\u001b[39;49m\u001b[38;5;124;43m\"\u001b[39;49m\u001b[38;5;124;43m)\u001b[39;49m\u001b[38;5;124;43m'\u001b[39;49m\u001b[43m,\u001b[49m\n\u001b[1;32m     75\u001b[0m \u001b[43m                                \u001b[49m\u001b[38;5;124;43m'\u001b[39;49m\u001b[38;5;124;43mTR.MnaAcquirorDate1DayPriorToAnn\u001b[39;49m\u001b[38;5;124;43m'\u001b[39;49m\u001b[43m,\u001b[49m\n\u001b[1;32m     76\u001b[0m \u001b[43m                                \u001b[49m\u001b[38;5;124;43m'\u001b[39;49m\u001b[38;5;124;43mTR.MnaAcquirorStockPrice1DayPriorToAnnInAcqCurr(Curn=USD)\u001b[39;49m\u001b[38;5;124;43m'\u001b[39;49m\u001b[43m,\u001b[49m\n\u001b[1;32m     77\u001b[0m \u001b[43m                                \u001b[49m\u001b[38;5;124;43m'\u001b[39;49m\u001b[38;5;124;43mTR.MnAAcquirorStockPriceOnAnn(Curn=USD)\u001b[39;49m\u001b[38;5;124;43m'\u001b[39;49m\u001b[43m,\u001b[49m\n\u001b[1;32m     78\u001b[0m \u001b[43m                                \u001b[49m\u001b[38;5;124;43m'\u001b[39;49m\u001b[38;5;124;43mTR.MnAAcquirorStockPrice1DayPostAnn(Curn=USD)\u001b[39;49m\u001b[38;5;124;43m'\u001b[39;49m\u001b[43m,\u001b[49m\n\u001b[1;32m     79\u001b[0m \u001b[43m                                \u001b[49m\u001b[38;5;124;43m'\u001b[39;49m\u001b[38;5;124;43mTR.MnASnP5001DayPreAnn\u001b[39;49m\u001b[38;5;124;43m'\u001b[39;49m\u001b[43m,\u001b[49m\n\u001b[1;32m     80\u001b[0m \u001b[43m                                \u001b[49m\u001b[38;5;124;43m'\u001b[39;49m\u001b[38;5;124;43mTR.MnASnP500AtAnnouncement\u001b[39;49m\u001b[38;5;124;43m'\u001b[39;49m\u001b[43m,\u001b[49m\n\u001b[1;32m     81\u001b[0m \u001b[43m                                \u001b[49m\u001b[38;5;124;43m'\u001b[39;49m\u001b[38;5;124;43mTR.MnASnP5001DayPostAnn\u001b[39;49m\u001b[38;5;124;43m'\u001b[39;49m\u001b[43m,\u001b[49m\n\u001b[1;32m     82\u001b[0m \u001b[43m                                \u001b[49m\u001b[38;5;124;43m'\u001b[39;49m\u001b[38;5;124;43mTR.MnATargetSDCCusip\u001b[39;49m\u001b[38;5;124;43m'\u001b[39;49m\u001b[43m,\u001b[49m\n\u001b[1;32m     83\u001b[0m \u001b[43m                                \u001b[49m\u001b[38;5;124;43m'\u001b[39;49m\u001b[38;5;124;43mTR.MnAAcquirorSDCCusip\u001b[39;49m\u001b[38;5;124;43m'\u001b[39;49m\u001b[43m,\u001b[49m\n\u001b[1;32m     84\u001b[0m \u001b[43m                                \u001b[49m\u001b[38;5;124;43m'\u001b[39;49m\u001b[38;5;124;43mTR.MnAAcquirorUltParentSDCCusip\u001b[39;49m\u001b[38;5;124;43m'\u001b[39;49m\u001b[43m,\u001b[49m\n\u001b[1;32m     85\u001b[0m \u001b[43m                                \u001b[49m\u001b[38;5;124;43m'\u001b[39;49m\u001b[38;5;124;43mTR.MnAValueOfCash(Curn=USD, Scale=6)\u001b[39;49m\u001b[38;5;124;43m'\u001b[39;49m\u001b[43m,\u001b[49m\n\u001b[1;32m     86\u001b[0m \u001b[43m                                \u001b[49m\u001b[38;5;124;43m'\u001b[39;49m\u001b[38;5;124;43mTR.MnAValueOfEarnout(Curn=USD, Scale=6)\u001b[39;49m\u001b[38;5;124;43m'\u001b[39;49m\u001b[43m,\u001b[49m\n\u001b[1;32m     87\u001b[0m \u001b[43m                                \u001b[49m\u001b[38;5;124;43m'\u001b[39;49m\u001b[38;5;124;43mTR.MnADealValue(Curn=USD, Scale=6)\u001b[39;49m\u001b[38;5;124;43m'\u001b[39;49m\u001b[43m,\u001b[49m\n\u001b[1;32m     88\u001b[0m \u001b[43m                                \u001b[49m\u001b[38;5;124;43m'\u001b[39;49m\u001b[38;5;124;43mTR.MnAAcquirorHiTech(Concat=\u001b[39;49m\u001b[38;5;124;43m\"\u001b[39;49m\u001b[38;5;124;43m|\u001b[39;49m\u001b[38;5;124;43m\"\u001b[39;49m\u001b[38;5;124;43m)\u001b[39;49m\u001b[38;5;124;43m'\u001b[39;49m\u001b[43m,\u001b[49m\n\u001b[1;32m     89\u001b[0m \u001b[43m                                \u001b[49m\u001b[38;5;124;43m'\u001b[39;49m\u001b[38;5;124;43mTR.MnAAcquirorUltParentHiTech(Concat=\u001b[39;49m\u001b[38;5;124;43m\"\u001b[39;49m\u001b[38;5;124;43m|\u001b[39;49m\u001b[38;5;124;43m\"\u001b[39;49m\u001b[38;5;124;43m)\u001b[39;49m\u001b[38;5;124;43m'\u001b[39;49m\u001b[43m,\u001b[49m\n\u001b[1;32m     90\u001b[0m \u001b[43m                                \u001b[49m\u001b[38;5;124;43m'\u001b[39;49m\u001b[38;5;124;43mTR.MnATargetPriHiTech\u001b[39;49m\u001b[38;5;124;43m'\u001b[39;49m\u001b[43m,\u001b[49m\n\u001b[1;32m     91\u001b[0m \u001b[43m                                \u001b[49m\u001b[38;5;124;43m'\u001b[39;49m\u001b[38;5;124;43mTR.MnAAcquirorMajorInd\u001b[39;49m\u001b[38;5;124;43m'\u001b[39;49m\u001b[43m,\u001b[49m\n\u001b[1;32m     92\u001b[0m \u001b[43m                                \u001b[49m\u001b[38;5;124;43m'\u001b[39;49m\u001b[38;5;124;43mTR.MnAAcquirorMajorIndGrp\u001b[39;49m\u001b[38;5;124;43m'\u001b[39;49m\u001b[43m,\u001b[49m\n\u001b[1;32m     93\u001b[0m \u001b[43m                                \u001b[49m\u001b[38;5;124;43m'\u001b[39;49m\u001b[38;5;124;43mTR.MnAAcquirorPriVEIC\u001b[39;49m\u001b[38;5;124;43m'\u001b[39;49m\u001b[43m,\u001b[49m\n\u001b[1;32m     94\u001b[0m \u001b[43m                                \u001b[49m\u001b[38;5;124;43m'\u001b[39;49m\u001b[38;5;124;43mTR.MnAMasterDealType\u001b[39;49m\u001b[38;5;124;43m'\u001b[39;49m\u001b[43m,\u001b[49m\n\u001b[1;32m     95\u001b[0m \u001b[43m                                \u001b[49m\u001b[38;5;124;43m'\u001b[39;49m\u001b[38;5;124;43mTR.MnADealType\u001b[39;49m\u001b[38;5;124;43m'\u001b[39;49m\u001b[43m,\u001b[49m\n\u001b[1;32m     96\u001b[0m \u001b[43m                                \u001b[49m\u001b[38;5;124;43m'\u001b[39;49m\u001b[38;5;124;43mTR.MnAType(Concat=\u001b[39;49m\u001b[38;5;124;43m\"\u001b[39;49m\u001b[38;5;124;43m|\u001b[39;49m\u001b[38;5;124;43m\"\u001b[39;49m\u001b[38;5;124;43m)\u001b[39;49m\u001b[38;5;124;43m'\u001b[39;49m\u001b[43m,\u001b[49m\n\u001b[1;32m     97\u001b[0m \u001b[43m                                \u001b[49m\u001b[38;5;124;43m'\u001b[39;49m\u001b[38;5;124;43mTR.MnAAcquirorVeic(Concat=\u001b[39;49m\u001b[38;5;124;43m\"\u001b[39;49m\u001b[38;5;124;43m|\u001b[39;49m\u001b[38;5;124;43m\"\u001b[39;49m\u001b[38;5;124;43m)\u001b[39;49m\u001b[38;5;124;43m'\u001b[39;49m\u001b[43m,\u001b[49m\n\u001b[1;32m     98\u001b[0m \u001b[43m                                \u001b[49m\u001b[38;5;124;43m'\u001b[39;49m\u001b[38;5;124;43mTR.MnAPurposeDescription\u001b[39;49m\u001b[38;5;124;43m'\u001b[39;49m\u001b[43m,\u001b[49m\n\u001b[1;32m     99\u001b[0m \u001b[43m                                \u001b[49m\u001b[38;5;124;43m'\u001b[39;49m\u001b[38;5;124;43mTR.MnAIsCrossBorder\u001b[39;49m\u001b[38;5;124;43m'\u001b[39;49m\u001b[43m,\u001b[49m\n\u001b[1;32m    100\u001b[0m \u001b[43m                                \u001b[49m\u001b[38;5;124;43m'\u001b[39;49m\u001b[38;5;124;43mTR.MnAAcquirorIsVentureFirm\u001b[39;49m\u001b[38;5;124;43m'\u001b[39;49m\u001b[43m,\u001b[49m\n\u001b[1;32m    101\u001b[0m \u001b[43m                                \u001b[49m\u001b[38;5;124;43m'\u001b[39;49m\u001b[38;5;124;43mTR.MnATargetPriVEIC\u001b[39;49m\u001b[38;5;124;43m'\u001b[39;49m\u001b[43m,\u001b[49m\n\u001b[1;32m    102\u001b[0m \u001b[43m                                \u001b[49m\u001b[38;5;124;43m'\u001b[39;49m\u001b[38;5;124;43mTR.MnATargetVeic(Concat=\u001b[39;49m\u001b[38;5;124;43m\"\u001b[39;49m\u001b[38;5;124;43m|\u001b[39;49m\u001b[38;5;124;43m\"\u001b[39;49m\u001b[38;5;124;43m)\u001b[39;49m\u001b[38;5;124;43m'\u001b[39;49m\u001b[43m,\u001b[49m\n\u001b[1;32m    103\u001b[0m \u001b[43m                                \u001b[49m\u001b[38;5;124;43m'\u001b[39;49m\u001b[38;5;124;43mTR.MnAAcquirorBusDesc\u001b[39;49m\u001b[38;5;124;43m'\u001b[39;49m\u001b[43m,\u001b[49m\n\u001b[1;32m    104\u001b[0m \u001b[43m                                \u001b[49m\u001b[38;5;124;43m'\u001b[39;49m\u001b[38;5;124;43mTR.MnATargetBusDesc\u001b[39;49m\u001b[38;5;124;43m'\u001b[39;49m\u001b[43m,\u001b[49m\n\u001b[1;32m    105\u001b[0m \u001b[43m                                \u001b[49m\u001b[38;5;124;43m'\u001b[39;49m\u001b[38;5;124;43mTR.MnATargetExchTicker(Concat=\u001b[39;49m\u001b[38;5;124;43m\"\u001b[39;49m\u001b[38;5;124;43m|\u001b[39;49m\u001b[38;5;124;43m\"\u001b[39;49m\u001b[38;5;124;43m)\u001b[39;49m\u001b[38;5;124;43m'\u001b[39;49m\u001b[43m,\u001b[49m\n\u001b[1;32m    106\u001b[0m \u001b[43m                                \u001b[49m\u001b[38;5;124;43m'\u001b[39;49m\u001b[38;5;124;43mTR.MnATargetUltParentSDCCusip\u001b[39;49m\u001b[38;5;124;43m'\u001b[39;49m\u001b[43m,\u001b[49m\n\u001b[1;32m    107\u001b[0m \u001b[43m                                \u001b[49m\u001b[38;5;124;43m'\u001b[39;49m\u001b[38;5;124;43mTR.MnATargetUltParentPriTickerSym\u001b[39;49m\u001b[38;5;124;43m'\u001b[39;49m\u001b[43m,\u001b[49m\n\u001b[1;32m    108\u001b[0m \u001b[43m                                \u001b[49m\u001b[38;5;124;43m'\u001b[39;49m\u001b[38;5;124;43mTR.MnATargetUltParentPermID\u001b[39;49m\u001b[38;5;124;43m'\u001b[39;49m\u001b[43m,\u001b[49m\n\u001b[1;32m    109\u001b[0m \u001b[43m                                \u001b[49m\u001b[38;5;124;43m'\u001b[39;49m\u001b[38;5;124;43mTR.MnAAcquirorUltParentPriTickerSym\u001b[39;49m\u001b[38;5;124;43m'\u001b[39;49m\u001b[43m,\u001b[49m\n\u001b[1;32m    110\u001b[0m \u001b[43m                                \u001b[49m\u001b[38;5;124;43m'\u001b[39;49m\u001b[38;5;124;43mTR.MnAAcquirorUltParentExchTicker(Concat=\u001b[39;49m\u001b[38;5;124;43m\"\u001b[39;49m\u001b[38;5;124;43m|\u001b[39;49m\u001b[38;5;124;43m\"\u001b[39;49m\u001b[38;5;124;43m)\u001b[39;49m\u001b[38;5;124;43m'\u001b[39;49m\u001b[43m,\u001b[49m\n\u001b[1;32m    111\u001b[0m \u001b[43m                                \u001b[49m\u001b[38;5;124;43m'\u001b[39;49m\u001b[38;5;124;43mTR.MnATargetUltParentExchTicker(Concat=\u001b[39;49m\u001b[38;5;124;43m\"\u001b[39;49m\u001b[38;5;124;43m|\u001b[39;49m\u001b[38;5;124;43m\"\u001b[39;49m\u001b[38;5;124;43m)\u001b[39;49m\u001b[38;5;124;43m'\u001b[39;49m\u001b[43m,\u001b[49m\n\u001b[1;32m    112\u001b[0m \u001b[43m                                \u001b[49m\u001b[38;5;124;43m'\u001b[39;49m\u001b[38;5;124;43mTR.MnATargetMajorInd\u001b[39;49m\u001b[38;5;124;43m'\u001b[39;49m\u001b[43m,\u001b[49m\n\u001b[1;32m    113\u001b[0m \u001b[43m                                \u001b[49m\u001b[38;5;124;43m'\u001b[39;49m\u001b[38;5;124;43mTR.MnATargetMajorIndGrp\u001b[39;49m\u001b[38;5;124;43m'\u001b[39;49m\u001b[43m,\u001b[49m\n\u001b[1;32m    114\u001b[0m \u001b[43m                                \u001b[49m\u001b[38;5;124;43m'\u001b[39;49m\u001b[38;5;124;43mTR.MnATargetHiTech(Concat=\u001b[39;49m\u001b[38;5;124;43m\"\u001b[39;49m\u001b[38;5;124;43m|\u001b[39;49m\u001b[38;5;124;43m\"\u001b[39;49m\u001b[38;5;124;43m)\u001b[39;49m\u001b[38;5;124;43m'\u001b[39;49m\u001b[43m,\u001b[49m\n\u001b[1;32m    115\u001b[0m \u001b[43m                                \u001b[49m\u001b[38;5;124;43m'\u001b[39;49m\u001b[38;5;124;43mTR.MnAAcquirorUltParentPriHiTech\u001b[39;49m\u001b[38;5;124;43m'\u001b[39;49m\u001b[43m,\u001b[49m\n\u001b[1;32m    116\u001b[0m \u001b[43m                                \u001b[49m\u001b[38;5;124;43m'\u001b[39;49m\u001b[38;5;124;43mTR.MnAAcquirorHiTechGroup(Concat=\u001b[39;49m\u001b[38;5;124;43m\"\u001b[39;49m\u001b[38;5;124;43m|\u001b[39;49m\u001b[38;5;124;43m\"\u001b[39;49m\u001b[38;5;124;43m)\u001b[39;49m\u001b[38;5;124;43m'\u001b[39;49m\u001b[43m,\u001b[49m\n\u001b[1;32m    117\u001b[0m \u001b[43m                                \u001b[49m\u001b[38;5;124;43m'\u001b[39;49m\u001b[38;5;124;43mTR.MnATargetHiTechGroup(Concat=\u001b[39;49m\u001b[38;5;124;43m\"\u001b[39;49m\u001b[38;5;124;43m|\u001b[39;49m\u001b[38;5;124;43m\"\u001b[39;49m\u001b[38;5;124;43m)\u001b[39;49m\u001b[38;5;124;43m'\u001b[39;49m\u001b[43m,\u001b[49m\n\u001b[1;32m    118\u001b[0m \u001b[43m                                \u001b[49m\u001b[38;5;124;43m'\u001b[39;49m\u001b[38;5;124;43mTR.MnAWithdrawnDate\u001b[39;49m\u001b[38;5;124;43m'\u001b[39;49m\u001b[43m,\u001b[49m\n\u001b[1;32m    119\u001b[0m \u001b[43m                                \u001b[49m\u001b[38;5;124;43m'\u001b[39;49m\u001b[38;5;124;43mTR.MnADateUnconditional\u001b[39;49m\u001b[38;5;124;43m'\u001b[39;49m\u001b[43m,\u001b[49m\n\u001b[1;32m    120\u001b[0m \u001b[43m                                \u001b[49m\u001b[38;5;124;43m'\u001b[39;49m\u001b[38;5;124;43mTR.MnAOrigAnnDate\u001b[39;49m\u001b[38;5;124;43m'\u001b[39;49m\u001b[43m,\u001b[49m\n\u001b[1;32m    121\u001b[0m \u001b[43m                                \u001b[49m\u001b[38;5;124;43m'\u001b[39;49m\u001b[38;5;124;43mTR.MnAPercentCash\u001b[39;49m\u001b[38;5;124;43m'\u001b[39;49m\u001b[43m,\u001b[49m\n\u001b[1;32m    122\u001b[0m \u001b[43m                                \u001b[49m\u001b[38;5;124;43m'\u001b[39;49m\u001b[38;5;124;43mTR.MnADealCurrency\u001b[39;49m\u001b[38;5;124;43m'\u001b[39;49m\u001b[43m,\u001b[49m\n\u001b[1;32m    123\u001b[0m \u001b[43m                                \u001b[49m\u001b[38;5;124;43m'\u001b[39;49m\u001b[38;5;124;43mTR.MnAEarnoutDesc\u001b[39;49m\u001b[38;5;124;43m'\u001b[39;49m\u001b[43m]\u001b[49m\u001b[43m)\u001b[49m \n\u001b[1;32m    125\u001b[0m \u001b[38;5;28mprint\u001b[39m(mnas\u001b[38;5;241m.\u001b[39mshape)\n\u001b[1;32m    126\u001b[0m mnas\u001b[38;5;241m.\u001b[39mcolumns \u001b[38;5;241m=\u001b[39m [col[\u001b[38;5;241m3\u001b[39m:]\u001b[38;5;241m.\u001b[39mlower() \u001b[38;5;28;01mfor\u001b[39;00m col \u001b[38;5;129;01min\u001b[39;00m mnas\u001b[38;5;241m.\u001b[39mcolumns]\n",
      "File \u001b[0;32m/opt/conda/lib/python3.10/site-packages/refinitiv/dataplatform/content/data_grid/_functions.py:80\u001b[0m, in \u001b[0;36mget_data\u001b[0;34m(universe, fields, parameters, field_name)\u001b[0m\n\u001b[1;32m      9\u001b[0m \u001b[38;5;28;01mdef\u001b[39;00m \u001b[38;5;21mget_data\u001b[39m(\n\u001b[1;32m     10\u001b[0m     universe,\n\u001b[1;32m     11\u001b[0m     fields,\n\u001b[1;32m     12\u001b[0m     parameters\u001b[38;5;241m=\u001b[39m\u001b[38;5;28;01mNone\u001b[39;00m,\n\u001b[1;32m     13\u001b[0m     field_name\u001b[38;5;241m=\u001b[39m\u001b[38;5;28;01mNone\u001b[39;00m,\n\u001b[1;32m     14\u001b[0m ):\n\u001b[1;32m     15\u001b[0m \u001b[38;5;250m    \u001b[39m\u001b[38;5;124;03m\"\"\"\u001b[39;00m\n\u001b[1;32m     16\u001b[0m \u001b[38;5;124;03m    Returns a pandas.DataFrame with fields in columns and instruments as row index\u001b[39;00m\n\u001b[1;32m     17\u001b[0m \n\u001b[0;32m   (...)\u001b[0m\n\u001b[1;32m     77\u001b[0m \u001b[38;5;124;03m    >>> data = rdp.get_data([\"IBM\",\"MSFT.O\"], fields)\u001b[39;00m\n\u001b[1;32m     78\u001b[0m \u001b[38;5;124;03m    \"\"\"\u001b[39;00m\n\u001b[0;32m---> 80\u001b[0m     result \u001b[38;5;241m=\u001b[39m \u001b[43mFundamental\u001b[49m\u001b[38;5;241;43m.\u001b[39;49m\u001b[43mget_data\u001b[49m\u001b[43m(\u001b[49m\n\u001b[1;32m     81\u001b[0m \u001b[43m        \u001b[49m\u001b[43muniverse\u001b[49m\u001b[38;5;241;43m=\u001b[39;49m\u001b[43muniverse\u001b[49m\u001b[43m,\u001b[49m\n\u001b[1;32m     82\u001b[0m \u001b[43m        \u001b[49m\u001b[43mfields\u001b[49m\u001b[38;5;241;43m=\u001b[39;49m\u001b[43mfields\u001b[49m\u001b[43m,\u001b[49m\n\u001b[1;32m     83\u001b[0m \u001b[43m        \u001b[49m\u001b[43mparameters\u001b[49m\u001b[38;5;241;43m=\u001b[39;49m\u001b[43mparameters\u001b[49m\u001b[43m,\u001b[49m\n\u001b[1;32m     84\u001b[0m \u001b[43m        \u001b[49m\u001b[43mfield_name\u001b[49m\u001b[38;5;241;43m=\u001b[39;49m\u001b[43mfield_name\u001b[49m\u001b[43m,\u001b[49m\n\u001b[1;32m     85\u001b[0m \u001b[43m    \u001b[49m\u001b[43m)\u001b[49m\n\u001b[1;32m     86\u001b[0m     \u001b[38;5;28;01mfrom\u001b[39;00m \u001b[38;5;21;01mrefinitiv\u001b[39;00m\u001b[38;5;21;01m.\u001b[39;00m\u001b[38;5;21;01mdataplatform\u001b[39;00m\u001b[38;5;21;01m.\u001b[39;00m\u001b[38;5;21;01mfactory\u001b[39;00m\u001b[38;5;21;01m.\u001b[39;00m\u001b[38;5;21;01mcontent_factory\u001b[39;00m \u001b[38;5;28;01mimport\u001b[39;00m ContentFactory\n\u001b[1;32m     88\u001b[0m     \u001b[38;5;28;01mif\u001b[39;00m result\u001b[38;5;241m.\u001b[39mis_success \u001b[38;5;129;01mand\u001b[39;00m result\u001b[38;5;241m.\u001b[39mdata \u001b[38;5;129;01mand\u001b[39;00m result\u001b[38;5;241m.\u001b[39mdata\u001b[38;5;241m.\u001b[39mdf \u001b[38;5;129;01mis\u001b[39;00m \u001b[38;5;129;01mnot\u001b[39;00m \u001b[38;5;28;01mNone\u001b[39;00m:\n",
      "File \u001b[0;32m/opt/conda/lib/python3.10/site-packages/refinitiv/dataplatform/content/data_grid/_fundamental_class.py:67\u001b[0m, in \u001b[0;36mFundamental.get_data\u001b[0;34m(universe, fields, parameters, field_name, on_response, closure, session)\u001b[0m\n\u001b[1;32m     56\u001b[0m \u001b[38;5;129m@staticmethod\u001b[39m\n\u001b[1;32m     57\u001b[0m \u001b[38;5;28;01mdef\u001b[39;00m \u001b[38;5;21mget_data\u001b[39m(\n\u001b[1;32m     58\u001b[0m     universe,\n\u001b[0;32m   (...)\u001b[0m\n\u001b[1;32m     64\u001b[0m     session\u001b[38;5;241m=\u001b[39m\u001b[38;5;28;01mNone\u001b[39;00m,\n\u001b[1;32m     65\u001b[0m ):\n\u001b[1;32m     66\u001b[0m     fundamental \u001b[38;5;241m=\u001b[39m Fundamental(session\u001b[38;5;241m=\u001b[39msession, on_response\u001b[38;5;241m=\u001b[39mon_response)\n\u001b[0;32m---> 67\u001b[0m     result \u001b[38;5;241m=\u001b[39m \u001b[43mfundamental\u001b[49m\u001b[38;5;241;43m.\u001b[39;49m\u001b[43m_get_data\u001b[49m\u001b[43m(\u001b[49m\n\u001b[1;32m     68\u001b[0m \u001b[43m        \u001b[49m\u001b[43muniverse\u001b[49m\u001b[38;5;241;43m=\u001b[39;49m\u001b[43muniverse\u001b[49m\u001b[43m,\u001b[49m\n\u001b[1;32m     69\u001b[0m \u001b[43m        \u001b[49m\u001b[43mfields\u001b[49m\u001b[38;5;241;43m=\u001b[39;49m\u001b[43mfields\u001b[49m\u001b[43m,\u001b[49m\n\u001b[1;32m     70\u001b[0m \u001b[43m        \u001b[49m\u001b[43mparameters\u001b[49m\u001b[38;5;241;43m=\u001b[39;49m\u001b[43mparameters\u001b[49m\u001b[43m,\u001b[49m\n\u001b[1;32m     71\u001b[0m \u001b[43m        \u001b[49m\u001b[43mfield_name\u001b[49m\u001b[38;5;241;43m=\u001b[39;49m\u001b[43mfield_name\u001b[49m\u001b[43m,\u001b[49m\n\u001b[1;32m     72\u001b[0m \u001b[43m        \u001b[49m\u001b[43mclosure\u001b[49m\u001b[38;5;241;43m=\u001b[39;49m\u001b[38;5;28;43;01mNone\u001b[39;49;00m\u001b[43m,\u001b[49m\n\u001b[1;32m     73\u001b[0m \u001b[43m        \u001b[49m\u001b[43msession\u001b[49m\u001b[38;5;241;43m=\u001b[39;49m\u001b[38;5;28;43;01mNone\u001b[39;49;00m\u001b[43m,\u001b[49m\n\u001b[1;32m     74\u001b[0m \u001b[43m    \u001b[49m\u001b[43m)\u001b[49m\n\u001b[1;32m     75\u001b[0m     \u001b[38;5;28;01mreturn\u001b[39;00m result\n",
      "File \u001b[0;32m/opt/conda/lib/python3.10/site-packages/refinitiv/dataplatform/content/data_grid/_fundamental_class.py:94\u001b[0m, in \u001b[0;36mFundamental._get_data\u001b[0;34m(self, universe, fields, parameters, field_name, closure, session)\u001b[0m\n\u001b[1;32m     77\u001b[0m \u001b[38;5;28;01mdef\u001b[39;00m \u001b[38;5;21m_get_data\u001b[39m(\n\u001b[1;32m     78\u001b[0m     \u001b[38;5;28mself\u001b[39m,\n\u001b[1;32m     79\u001b[0m     universe,\n\u001b[0;32m   (...)\u001b[0m\n\u001b[1;32m     84\u001b[0m     session\u001b[38;5;241m=\u001b[39m\u001b[38;5;28;01mNone\u001b[39;00m,\n\u001b[1;32m     85\u001b[0m ):\n\u001b[1;32m     86\u001b[0m \u001b[38;5;250m    \u001b[39m\u001b[38;5;124;03m\"\"\"\u001b[39;00m\n\u001b[1;32m     87\u001b[0m \u001b[38;5;124;03m    :param universe: list    The list of RICs\u001b[39;00m\n\u001b[1;32m     88\u001b[0m \u001b[38;5;124;03m    :param fields: list      List of fundamental field names\u001b[39;00m\n\u001b[0;32m   (...)\u001b[0m\n\u001b[1;32m     92\u001b[0m \u001b[38;5;124;03m    :return:Response\u001b[39;00m\n\u001b[1;32m     93\u001b[0m \u001b[38;5;124;03m    \"\"\"\u001b[39;00m\n\u001b[0;32m---> 94\u001b[0m     result \u001b[38;5;241m=\u001b[39m \u001b[38;5;28;43mself\u001b[39;49m\u001b[38;5;241;43m.\u001b[39;49m\u001b[43m_run_until_complete\u001b[49m\u001b[43m(\u001b[49m\n\u001b[1;32m     95\u001b[0m \u001b[43m        \u001b[49m\u001b[38;5;28;43mself\u001b[39;49m\u001b[38;5;241;43m.\u001b[39;49m\u001b[43m_get_data_async\u001b[49m\u001b[43m(\u001b[49m\n\u001b[1;32m     96\u001b[0m \u001b[43m            \u001b[49m\u001b[43muniverse\u001b[49m\u001b[38;5;241;43m=\u001b[39;49m\u001b[43muniverse\u001b[49m\u001b[43m,\u001b[49m\n\u001b[1;32m     97\u001b[0m \u001b[43m            \u001b[49m\u001b[43mfields\u001b[49m\u001b[38;5;241;43m=\u001b[39;49m\u001b[43mfields\u001b[49m\u001b[43m,\u001b[49m\n\u001b[1;32m     98\u001b[0m \u001b[43m            \u001b[49m\u001b[43mparameters\u001b[49m\u001b[38;5;241;43m=\u001b[39;49m\u001b[43mparameters\u001b[49m\u001b[43m,\u001b[49m\n\u001b[1;32m     99\u001b[0m \u001b[43m            \u001b[49m\u001b[43mfield_name\u001b[49m\u001b[38;5;241;43m=\u001b[39;49m\u001b[43mfield_name\u001b[49m\u001b[43m,\u001b[49m\n\u001b[1;32m    100\u001b[0m \u001b[43m            \u001b[49m\u001b[43mclosure\u001b[49m\u001b[38;5;241;43m=\u001b[39;49m\u001b[43mclosure\u001b[49m\u001b[43m,\u001b[49m\n\u001b[1;32m    101\u001b[0m \u001b[43m        \u001b[49m\u001b[43m)\u001b[49m\n\u001b[1;32m    102\u001b[0m \u001b[43m    \u001b[49m\u001b[43m)\u001b[49m\n\u001b[1;32m    103\u001b[0m     \u001b[38;5;28;01mreturn\u001b[39;00m result\n",
      "File \u001b[0;32m/opt/conda/lib/python3.10/site-packages/refinitiv/dataplatform/content/data_grid/_fundamental_class.py:54\u001b[0m, in \u001b[0;36mFundamental._run_until_complete\u001b[0;34m(self, future)\u001b[0m\n\u001b[1;32m     53\u001b[0m \u001b[38;5;28;01mdef\u001b[39;00m \u001b[38;5;21m_run_until_complete\u001b[39m(\u001b[38;5;28mself\u001b[39m, future):\n\u001b[0;32m---> 54\u001b[0m     \u001b[38;5;28;01mreturn\u001b[39;00m \u001b[38;5;28;43mself\u001b[39;49m\u001b[38;5;241;43m.\u001b[39;49m\u001b[43m_endpoint\u001b[49m\u001b[38;5;241;43m.\u001b[39;49m\u001b[43msession\u001b[49m\u001b[38;5;241;43m.\u001b[39;49m\u001b[43m_loop\u001b[49m\u001b[38;5;241;43m.\u001b[39;49m\u001b[43mrun_until_complete\u001b[49m\u001b[43m(\u001b[49m\u001b[43mfuture\u001b[49m\u001b[43m)\u001b[49m\n",
      "File \u001b[0;32m/opt/conda/lib/python3.10/site-packages/nest_asyncio.py:92\u001b[0m, in \u001b[0;36m_patch_loop.<locals>.run_until_complete\u001b[0;34m(self, future)\u001b[0m\n\u001b[1;32m     90\u001b[0m     f\u001b[38;5;241m.\u001b[39m_log_destroy_pending \u001b[38;5;241m=\u001b[39m \u001b[38;5;28;01mFalse\u001b[39;00m\n\u001b[1;32m     91\u001b[0m \u001b[38;5;28;01mwhile\u001b[39;00m \u001b[38;5;129;01mnot\u001b[39;00m f\u001b[38;5;241m.\u001b[39mdone():\n\u001b[0;32m---> 92\u001b[0m     \u001b[38;5;28;43mself\u001b[39;49m\u001b[38;5;241;43m.\u001b[39;49m\u001b[43m_run_once\u001b[49m\u001b[43m(\u001b[49m\u001b[43m)\u001b[49m\n\u001b[1;32m     93\u001b[0m     \u001b[38;5;28;01mif\u001b[39;00m \u001b[38;5;28mself\u001b[39m\u001b[38;5;241m.\u001b[39m_stopping:\n\u001b[1;32m     94\u001b[0m         \u001b[38;5;28;01mbreak\u001b[39;00m\n",
      "File \u001b[0;32m/opt/conda/lib/python3.10/site-packages/nest_asyncio.py:115\u001b[0m, in \u001b[0;36m_patch_loop.<locals>._run_once\u001b[0;34m(self)\u001b[0m\n\u001b[1;32m    108\u001b[0m     heappop(scheduled)\n\u001b[1;32m    110\u001b[0m timeout \u001b[38;5;241m=\u001b[39m (\n\u001b[1;32m    111\u001b[0m     \u001b[38;5;241m0\u001b[39m \u001b[38;5;28;01mif\u001b[39;00m ready \u001b[38;5;129;01mor\u001b[39;00m \u001b[38;5;28mself\u001b[39m\u001b[38;5;241m.\u001b[39m_stopping\n\u001b[1;32m    112\u001b[0m     \u001b[38;5;28;01melse\u001b[39;00m \u001b[38;5;28mmin\u001b[39m(\u001b[38;5;28mmax\u001b[39m(\n\u001b[1;32m    113\u001b[0m         scheduled[\u001b[38;5;241m0\u001b[39m]\u001b[38;5;241m.\u001b[39m_when \u001b[38;5;241m-\u001b[39m \u001b[38;5;28mself\u001b[39m\u001b[38;5;241m.\u001b[39mtime(), \u001b[38;5;241m0\u001b[39m), \u001b[38;5;241m86400\u001b[39m) \u001b[38;5;28;01mif\u001b[39;00m scheduled\n\u001b[1;32m    114\u001b[0m     \u001b[38;5;28;01melse\u001b[39;00m \u001b[38;5;28;01mNone\u001b[39;00m)\n\u001b[0;32m--> 115\u001b[0m event_list \u001b[38;5;241m=\u001b[39m \u001b[38;5;28;43mself\u001b[39;49m\u001b[38;5;241;43m.\u001b[39;49m\u001b[43m_selector\u001b[49m\u001b[38;5;241;43m.\u001b[39;49m\u001b[43mselect\u001b[49m\u001b[43m(\u001b[49m\u001b[43mtimeout\u001b[49m\u001b[43m)\u001b[49m\n\u001b[1;32m    116\u001b[0m \u001b[38;5;28mself\u001b[39m\u001b[38;5;241m.\u001b[39m_process_events(event_list)\n\u001b[1;32m    118\u001b[0m end_time \u001b[38;5;241m=\u001b[39m \u001b[38;5;28mself\u001b[39m\u001b[38;5;241m.\u001b[39mtime() \u001b[38;5;241m+\u001b[39m \u001b[38;5;28mself\u001b[39m\u001b[38;5;241m.\u001b[39m_clock_resolution\n",
      "File \u001b[0;32m/opt/conda/lib/python3.10/selectors.py:469\u001b[0m, in \u001b[0;36mEpollSelector.select\u001b[0;34m(self, timeout)\u001b[0m\n\u001b[1;32m    467\u001b[0m ready \u001b[38;5;241m=\u001b[39m []\n\u001b[1;32m    468\u001b[0m \u001b[38;5;28;01mtry\u001b[39;00m:\n\u001b[0;32m--> 469\u001b[0m     fd_event_list \u001b[38;5;241m=\u001b[39m \u001b[38;5;28;43mself\u001b[39;49m\u001b[38;5;241;43m.\u001b[39;49m\u001b[43m_selector\u001b[49m\u001b[38;5;241;43m.\u001b[39;49m\u001b[43mpoll\u001b[49m\u001b[43m(\u001b[49m\u001b[43mtimeout\u001b[49m\u001b[43m,\u001b[49m\u001b[43m \u001b[49m\u001b[43mmax_ev\u001b[49m\u001b[43m)\u001b[49m\n\u001b[1;32m    470\u001b[0m \u001b[38;5;28;01mexcept\u001b[39;00m \u001b[38;5;167;01mInterruptedError\u001b[39;00m:\n\u001b[1;32m    471\u001b[0m     \u001b[38;5;28;01mreturn\u001b[39;00m ready\n",
      "\u001b[0;31mKeyboardInterrupt\u001b[0m: "
     ]
    }
   ],
   "source": [
    "\n",
    "# Initialize a BigQuery client\n",
    "client = bigquery.Client()\n",
    "\n",
    "# Define your project, dataset, and table\n",
    "project_id = \"starfire-410116\"\n",
    "dataset_id = \"derived\"\n",
    "table_id = \"refinitiv_deals_3\"\n",
    "\n",
    "\n",
    "# Construct a reference to the target table\n",
    "table_ref = client.dataset(dataset_id).table(table_id)\n",
    "\n",
    "# Configure the load job to append data to the existing table\n",
    "job_config = bigquery.LoadJobConfig(\n",
    "    write_disposition=bigquery.WriteDisposition.WRITE_APPEND\n",
    ")\n",
    "\n",
    "\n",
    "master_df = pd.DataFrame()\n",
    "\n",
    "\n",
    "from datetime import datetime, timedelta\n",
    "\n",
    "# Initial start date\n",
    "start_date = datetime.strptime('19850101', '%Y%m%d')\n",
    " # 20000101 20210330 20210109\n",
    "\n",
    "# Define the interval (5 days) to avoid time outs\n",
    "interval = timedelta(days=2)\n",
    "\n",
    "# Initialize an empty list to store the date ranges\n",
    "date_ranges = []\n",
    "\n",
    "# Loop to create date intervals\n",
    "for _ in range(10000):  # Adjust the range to get the desired number of intervals\n",
    "    end_date = start_date + interval\n",
    "    date_ranges.append((start_date.strftime('%Y%m%d'), end_date.strftime('%Y%m%d')))\n",
    "    start_date = end_date + timedelta(days=1)\n",
    "\n",
    "j = 1\n",
    "N = 21\n",
    "# Print the date ranges\n",
    "for start, end in date_ranges:\n",
    "    success = False\n",
    "    while not success:\n",
    "        try:\n",
    "            print(f\"Start Date: {start}, End Date: {end}\")\n",
    "\n",
    "            print(\"Downloading data from refinitiv...\")\n",
    "\n",
    "            mna_screen = f'SCREEN(U(IN(DEALS)/*UNV:DEALSMNA*/),\\\n",
    "                        BETWEEN(TR.MnAAnnDate,{start},{end})/*dt:Date*/, \\\n",
    "                        CURN=USD)'\n",
    "\n",
    "\n",
    "            # input ipo screen results as instrument list and pull ipo attributes via fields from Eikon Data API. \n",
    "            mnas = rdp.get_data(mna_screen,['TR.MNASDCDealNumber',\n",
    "                                            'TR.MnAAnnDate', 'TR.MnARankValueIncNetDebt(Curn=USD,Scale=6)',\n",
    "                                            'TR.MnATarget', 'TR.MnATargetPermId',\n",
    "                                            'TR.MnATargetPriTickerSym',\n",
    "                                            'TR.MnATargetNation',\n",
    "                                            'TR.MnATargetMacroInd',\n",
    "                                            'TR.MnATargetMidInd',\n",
    "                                            'TR.MnAAcquiror',\n",
    "                                            'TR.MnAAcquirorPermId',\n",
    "                                            'TR.MnAAcquirorMacroInd',\n",
    "                                            'TR.MnAAcquirorMidInd',\n",
    "                                            'TR.MnAAcquirorNation',\n",
    "                                            'TR.MNADealId','TR.MnASynopsis',\n",
    "                                            'TR.MnAAcquirorPriHiTech',\n",
    "                                            'TR.MnAAcquirorPriTickerSym',\n",
    "                                            'TR.MnAAcquirorExchTicker(Concat=\"|\")',\n",
    "                                            'TR.MnAAcquirorUltParentPermID',\n",
    "                                            'TR.MnAHiTechGroup(Concat=\"|\")',\n",
    "                                            'TR.MnaAcquirorDate1DayPriorToAnn',\n",
    "                                            'TR.MnaAcquirorStockPrice1DayPriorToAnnInAcqCurr(Curn=USD)',\n",
    "                                            'TR.MnAAcquirorStockPriceOnAnn(Curn=USD)',\n",
    "                                            'TR.MnAAcquirorStockPrice1DayPostAnn(Curn=USD)',\n",
    "                                            'TR.MnASnP5001DayPreAnn',\n",
    "                                            'TR.MnASnP500AtAnnouncement',\n",
    "                                            'TR.MnASnP5001DayPostAnn',\n",
    "                                            'TR.MnATargetSDCCusip',\n",
    "                                            'TR.MnAAcquirorSDCCusip',\n",
    "                                            'TR.MnAAcquirorUltParentSDCCusip',\n",
    "                                            'TR.MnAValueOfCash(Curn=USD, Scale=6)',\n",
    "                                            'TR.MnAValueOfEarnout(Curn=USD, Scale=6)',\n",
    "                                            'TR.MnADealValue(Curn=USD, Scale=6)',\n",
    "                                            'TR.MnAAcquirorHiTech(Concat=\"|\")',\n",
    "                                            'TR.MnAAcquirorUltParentHiTech(Concat=\"|\")',\n",
    "                                            'TR.MnATargetPriHiTech',\n",
    "                                            'TR.MnAAcquirorMajorInd',\n",
    "                                            'TR.MnAAcquirorMajorIndGrp',\n",
    "                                            'TR.MnAAcquirorPriVEIC',\n",
    "                                            'TR.MnAMasterDealType',\n",
    "                                            'TR.MnADealType',\n",
    "                                            'TR.MnAType(Concat=\"|\")',\n",
    "                                            'TR.MnAAcquirorVeic(Concat=\"|\")',\n",
    "                                            'TR.MnAPurposeDescription',\n",
    "                                            'TR.MnAIsCrossBorder',\n",
    "                                            'TR.MnAAcquirorIsVentureFirm',\n",
    "                                            'TR.MnATargetPriVEIC',\n",
    "                                            'TR.MnATargetVeic(Concat=\"|\")',\n",
    "                                            'TR.MnAAcquirorBusDesc',\n",
    "                                            'TR.MnATargetBusDesc',\n",
    "                                            'TR.MnATargetExchTicker(Concat=\"|\")',\n",
    "                                            'TR.MnATargetUltParentSDCCusip',\n",
    "                                            'TR.MnATargetUltParentPriTickerSym',\n",
    "                                            'TR.MnATargetUltParentPermID',\n",
    "                                            'TR.MnAAcquirorUltParentPriTickerSym',\n",
    "                                            'TR.MnAAcquirorUltParentExchTicker(Concat=\"|\")',\n",
    "                                            'TR.MnATargetUltParentExchTicker(Concat=\"|\")',\n",
    "                                            'TR.MnATargetMajorInd',\n",
    "                                            'TR.MnATargetMajorIndGrp',\n",
    "                                            'TR.MnATargetHiTech(Concat=\"|\")',\n",
    "                                            'TR.MnAAcquirorUltParentPriHiTech',\n",
    "                                            'TR.MnAAcquirorHiTechGroup(Concat=\"|\")',\n",
    "                                            'TR.MnATargetHiTechGroup(Concat=\"|\")',\n",
    "                                            'TR.MnAWithdrawnDate',\n",
    "                                            'TR.MnADateUnconditional',\n",
    "                                            'TR.MnAOrigAnnDate',\n",
    "                                            'TR.MnAPercentCash',\n",
    "                                            'TR.MnADealCurrency',\n",
    "                                            'TR.MnAEarnoutDesc']) \n",
    "\n",
    "            print(mnas.shape)\n",
    "            mnas.columns = [col[3:].lower() for col in mnas.columns]\n",
    "\n",
    "            master_df = pd.concat([master_df, mnas], ignore_index=True)\n",
    "            print(f'Master shape: {master_df.shape}')\n",
    "\n",
    "            j += 1\n",
    "            success = True \n",
    "\n",
    "                \n",
    "            # Process some code every N iterations\n",
    "            if j % N == 0:\n",
    "                print(f\"Appending chunk to BQ\")\n",
    "                # Load the DataFrame into BigQuery\n",
    "                load_job = client.load_table_from_dataframe(master_df, table_ref, job_config=job_config)\n",
    "                # Wait for the load job to complete\n",
    "                load_job.result()\n",
    "                print(\"Data appended successfully\")\n",
    "                \n",
    "                # Reinitialize master_df to not store duplicate info next time this runs\n",
    "                master_df = pd.DataFrame()\n",
    "                j = 1\n",
    "        \n",
    "            \n",
    "        except Exception as e:\n",
    "            print(f\"An error occurred: {e}. Retrying for the range {start} to {end}...\")\n",
    "            \n",
    "print(\"Uploading data to BQ...\")\n",
    "\n",
    "\n",
    "            \n"
   ]
  }
 ],
 "metadata": {
  "environment": {
   "kernel": "conda-root-py",
   "name": "workbench-notebooks.m120",
   "type": "gcloud",
   "uri": "us-docker.pkg.dev/deeplearning-platform-release/gcr.io/workbench-notebooks:m120"
  },
  "kernelspec": {
   "display_name": "Python 3 (ipykernel)",
   "language": "python",
   "name": "conda-root-py"
  },
  "language_info": {
   "codemirror_mode": {
    "name": "ipython",
    "version": 3
   },
   "file_extension": ".py",
   "mimetype": "text/x-python",
   "name": "python",
   "nbconvert_exporter": "python",
   "pygments_lexer": "ipython3",
   "version": "3.10.14"
  }
 },
 "nbformat": 4,
 "nbformat_minor": 5
}

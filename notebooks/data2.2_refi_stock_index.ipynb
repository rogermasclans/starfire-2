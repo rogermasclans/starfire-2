{
 "cells": [
  {
   "cell_type": "code",
   "execution_count": 103,
   "id": "90cbe14f-6a7c-43da-984d-ca8fd255b870",
   "metadata": {
    "tags": []
   },
   "outputs": [
    {
     "name": "stdout",
     "output_type": "stream",
     "text": [
      "/home/jupyter\n"
     ]
    }
   ],
   "source": [
    "import pandas as pd\n",
    "import seaborn as sns\n",
    "import matplotlib.pyplot as plt\n",
    "import numpy as np\n",
    "import matplotlib.ticker as ticker\n",
    "from google.cloud import bigquery\n",
    "import os\n",
    "from google.cloud import bigquery\n",
    "\n",
    "\n",
    "# pd.set_option('display.max_columns', None)\n",
    "\n",
    "os.chdir('/home/jupyter')\n",
    "!pwd\n",
    "# # %cd \n",
    "# !pwd\n",
    "\n",
    "import refinitiv.dataplatform as rdp\n",
    "\n",
    "%run ./starfire/notebooks/credentials.ipynb\n",
    "\n",
    "session = rdp.open_platform_session(\n",
    "    APP_KEY,\n",
    "    rdp.GrantPassword(\n",
    "        username = RDP_LOGIN,\n",
    "        password = RDP_PASSWORD\n",
    "    )\n",
    ")\n",
    "\n"
   ]
  },
  {
   "cell_type": "code",
   "execution_count": 144,
   "id": "ebc024cb-4544-419e-a755-ccb622f809b7",
   "metadata": {
    "tags": []
   },
   "outputs": [
    {
     "name": "stdout",
     "output_type": "stream",
     "text": [
      "session is closed\n",
      "session is open\n",
      "     instrument                 Date  TR.CLOSEPRICE TR.PriceOpen TR.Volume\n",
      "0        .FTEU1  1980-01-01T00:00:00    1170.211255         None      None\n",
      "1        .FTEU1  1980-01-02T00:00:00    1191.927755         None      None\n",
      "2        .FTEU1  1980-01-03T00:00:00    1237.581124         None      None\n",
      "3        .FTEU1  1980-01-04T00:00:00    1224.321572         None      None\n",
      "4        .FTEU1  1980-01-07T00:00:00    1231.246201         None      None\n",
      "...         ...                  ...            ...          ...       ...\n",
      "5214     .FTEU1  1999-12-24T00:00:00           <NA>         None      None\n",
      "5215     .FTEU1  1999-12-24T00:00:00           <NA>         None      None\n",
      "5216     .FTEU1  1999-12-29T00:00:00           <NA>         None      None\n",
      "5217     .FTEU1  1999-12-30T00:00:00           <NA>         None      None\n",
      "5218     .FTEU1  1999-12-30T00:00:00           <NA>         None      None\n",
      "\n",
      "[5219 rows x 5 columns]\n",
      "session is closed\n"
     ]
    }
   ],
   "source": [
    "## Session needs to be closed and opened to avoid errors caused by ...who knows what.\n",
    "rdp.close_session()\n",
    "print('session is closed')\n",
    "session = rdp.open_platform_session(\n",
    "    APP_KEY,\n",
    "    rdp.GrantPassword(\n",
    "        username = RDP_LOGIN,\n",
    "        password = RDP_PASSWORD\n",
    "    )\n",
    ")\n",
    "\n",
    "print('session is open')\n",
    "index = '.FTEU1'\n",
    "sdate = '1980-01-01'\n",
    "edate = '1999-12-31'\n",
    "\n",
    "index_prices = rdp.get_data(\n",
    "    index,\n",
    "    fields = ['TR.CLOSEPRICE.Date','TR.CLOSEPRICE', 'TR.PriceOpen', \n",
    "              'TR.VOLUME'],\n",
    "    parameters = {'SDate':sdate,'EDate':edate,'Curn':'USD'}\n",
    ")\n",
    "index_prices\n",
    "print(index_prices)\n",
    "rdp.close_session()\n",
    "print('session is closed')\n",
    "index_prices.to_csv(f'{index.strip(\".\")}_{sdate}_{edate}.csv')\n"
   ]
  },
  {
   "cell_type": "code",
   "execution_count": 134,
   "id": "08ef4c25-94b4-438e-9a1b-fcfa8b721cdf",
   "metadata": {
    "tags": []
   },
   "outputs": [],
   "source": []
  },
  {
   "cell_type": "code",
   "execution_count": 146,
   "id": "d8dc95a8-37cd-4b03-ad14-982c9cd9c763",
   "metadata": {
    "tags": []
   },
   "outputs": [
    {
     "name": "stdout",
     "output_type": "stream",
     "text": [
      "       unnamed: 0 instrument                 date   closeprice  priceopen  \\\n",
      "0               0      .TOPX  1999-12-30T00:00:00    16.823288  16.735762   \n",
      "1               1      .TOPX  2000-01-04T00:00:00    16.634092  16.718741   \n",
      "2               2      .TOPX  2000-01-05T00:00:00    15.841949  16.395608   \n",
      "3               3      .TOPX  2000-01-06T00:00:00    15.284303  15.707340   \n",
      "4               4      .TOPX  2000-01-07T00:00:00    15.178073  15.257048   \n",
      "...           ...        ...                  ...          ...        ...   \n",
      "90623        6425     .SP500  2024-08-19T00:00:00  5608.247300        NaN   \n",
      "90624        6426     .SP500  2024-08-20T00:00:00  5597.124800        NaN   \n",
      "90625        6427     .SP500  2024-08-21T00:00:00  5620.852700        NaN   \n",
      "90626        6428     .SP500  2024-08-22T00:00:00  5570.644600        NaN   \n",
      "90627        6429     .SP500  2024-08-22T00:00:00  5570.644600        NaN   \n",
      "\n",
      "            volume  \n",
      "0              0.0  \n",
      "1      285970000.0  \n",
      "2      553090000.0  \n",
      "3      574240000.0  \n",
      "4      547560000.0  \n",
      "...            ...  \n",
      "90623          NaN  \n",
      "90624          NaN  \n",
      "90625          NaN  \n",
      "90626          NaN  \n",
      "90627          NaN  \n",
      "\n",
      "[90628 rows x 6 columns]\n",
      "Loaded 90628 rows into starfire-410116.derived.equity_indices_2000_2024.\n"
     ]
    }
   ],
   "source": [
    "import pandas as pd\n",
    "import glob\n",
    "from google.cloud import bigquery\n",
    "\n",
    "# Define the folder containing the CSV files\n",
    "folder_path = 'index/*.csv'\n",
    "\n",
    "# Use glob to get all CSV file paths in the folder\n",
    "csv_files = glob.glob(folder_path)\n",
    "\n",
    "# Read and concatenate all CSV files into a single DataFrame\n",
    "df_list = [pd.read_csv(file) for file in csv_files]\n",
    "main_df = pd.concat(df_list, ignore_index=True)\n",
    "main_df.columns = main_df.columns.str.replace('TR.', '', regex=False).str.lower()\n",
    "\n",
    "# Display the final concatenated DataFrame\n",
    "print(main_df)\n",
    "\n",
    "# Configure your BigQuery credentials and client\n",
    "# Make sure you've set the GOOGLE_APPLICATION_CREDENTIALS environment variable\n",
    "client = bigquery.Client()\n",
    "\n",
    "# Define your BigQuery dataset and table\n",
    "dataset_id = 'derived'  # Replace with your dataset ID\n",
    "table_id = 'equity_indices_2000_2024'  # Replace with your table ID\n",
    "\n",
    "# Create a full table ID in the format of project.dataset.table\n",
    "table_full_id = f'{client.project}.{dataset_id}.{table_id}'\n",
    "\n",
    "# Upload the DataFrame to BigQuery\n",
    "job = client.load_table_from_dataframe(main_df, table_full_id)\n",
    "\n",
    "# Wait for the load job to complete\n",
    "job.result()\n",
    "\n",
    "print(f\"Loaded {job.output_rows} rows into {table_full_id}.\")\n"
   ]
  }
 ],
 "metadata": {
  "environment": {
   "kernel": "conda-root-py",
   "name": "workbench-notebooks.m120",
   "type": "gcloud",
   "uri": "us-docker.pkg.dev/deeplearning-platform-release/gcr.io/workbench-notebooks:m120"
  },
  "kernelspec": {
   "display_name": "Python 3 (ipykernel)",
   "language": "python",
   "name": "conda-root-py"
  },
  "language_info": {
   "codemirror_mode": {
    "name": "ipython",
    "version": 3
   },
   "file_extension": ".py",
   "mimetype": "text/x-python",
   "name": "python",
   "nbconvert_exporter": "python",
   "pygments_lexer": "ipython3",
   "version": "3.10.14"
  }
 },
 "nbformat": 4,
 "nbformat_minor": 5
}

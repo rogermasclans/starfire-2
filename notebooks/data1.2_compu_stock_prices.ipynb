{
 "cells": [
  {
   "cell_type": "code",
   "execution_count": 1,
   "id": "d4e35794-922d-4f5c-a7cb-4ded7c89e811",
   "metadata": {
    "tags": []
   },
   "outputs": [
    {
     "name": "stdout",
     "output_type": "stream",
     "text": [
      "Requirement already satisfied: openpyxl in /opt/conda/lib/python3.10/site-packages (3.1.2)\n",
      "Requirement already satisfied: et-xmlfile in /opt/conda/lib/python3.10/site-packages (from openpyxl) (1.1.0)\n",
      "Requirement already satisfied: wrds in /opt/conda/lib/python3.10/site-packages (3.2.0)\n",
      "Requirement already satisfied: numpy<1.27,>=1.26 in /opt/conda/lib/python3.10/site-packages (from wrds) (1.26.4)\n",
      "Requirement already satisfied: packaging<23.3 in /opt/conda/lib/python3.10/site-packages (from wrds) (23.2)\n",
      "Requirement already satisfied: pandas<2.3,>=2.2 in /opt/conda/lib/python3.10/site-packages (from wrds) (2.2.2)\n",
      "Requirement already satisfied: psycopg2-binary<2.10,>=2.9 in /opt/conda/lib/python3.10/site-packages (from wrds) (2.9.9)\n",
      "Requirement already satisfied: scipy<1.13,>=1.12 in /opt/conda/lib/python3.10/site-packages (from wrds) (1.12.0)\n",
      "Requirement already satisfied: sqlalchemy<2.1,>=2 in /opt/conda/lib/python3.10/site-packages (from wrds) (2.0.29)\n",
      "Requirement already satisfied: python-dateutil>=2.8.2 in /opt/conda/lib/python3.10/site-packages (from pandas<2.3,>=2.2->wrds) (2.9.0)\n",
      "Requirement already satisfied: pytz>=2020.1 in /opt/conda/lib/python3.10/site-packages (from pandas<2.3,>=2.2->wrds) (2024.1)\n",
      "Requirement already satisfied: tzdata>=2022.7 in /opt/conda/lib/python3.10/site-packages (from pandas<2.3,>=2.2->wrds) (2024.1)\n",
      "Requirement already satisfied: typing-extensions>=4.6.0 in /opt/conda/lib/python3.10/site-packages (from sqlalchemy<2.1,>=2->wrds) (4.11.0)\n",
      "Requirement already satisfied: greenlet!=0.4.17 in /opt/conda/lib/python3.10/site-packages (from sqlalchemy<2.1,>=2->wrds) (3.0.3)\n",
      "Requirement already satisfied: six>=1.5 in /opt/conda/lib/python3.10/site-packages (from python-dateutil>=2.8.2->pandas<2.3,>=2.2->wrds) (1.16.0)\n",
      "----------------\n",
      " Establishing WRDS connection:\n"
     ]
    },
    {
     "name": "stdin",
     "output_type": "stream",
     "text": [
      "Enter your WRDS username [jupyter]: rogermasclans\n",
      "Enter your password: ········\n"
     ]
    },
    {
     "name": "stdout",
     "output_type": "stream",
     "text": [
      "WRDS recommends setting up a .pgpass file.\n"
     ]
    },
    {
     "name": "stdin",
     "output_type": "stream",
     "text": [
      "Create .pgpass file now [y/n]?:  y\n"
     ]
    },
    {
     "name": "stdout",
     "output_type": "stream",
     "text": [
      "Created .pgpass file successfully.\n",
      "You can create this file yourself at any time with the create_pgpass_file() function.\n",
      "Loading library list...\n",
      "Done\n"
     ]
    }
   ],
   "source": [
    "import pandas as pd\n",
    "import seaborn as sns\n",
    "import matplotlib.pyplot as plt\n",
    "import numpy as np\n",
    "import matplotlib.ticker as ticker\n",
    "from google.cloud import bigquery\n",
    "import os\n",
    "\n",
    "!pip install openpyxl ## read excel files\n",
    "!pip install wrds\n",
    "import wrds\n",
    "\n",
    "print('----------------\\n Establishing WRDS connection:')\n",
    "# establish connection\n",
    "conn = wrds.Connection()\n",
    "\n"
   ]
  },
  {
   "cell_type": "code",
   "execution_count": 9,
   "id": "8df036dd-dd8b-4fd3-a1db-335d1fd652ec",
   "metadata": {
    "tags": []
   },
   "outputs": [
    {
     "data": {
      "text/html": [
       "<div>\n",
       "<style scoped>\n",
       "    .dataframe tbody tr th:only-of-type {\n",
       "        vertical-align: middle;\n",
       "    }\n",
       "\n",
       "    .dataframe tbody tr th {\n",
       "        vertical-align: top;\n",
       "    }\n",
       "\n",
       "    .dataframe thead th {\n",
       "        text-align: right;\n",
       "    }\n",
       "</style>\n",
       "<table border=\"1\" class=\"dataframe\">\n",
       "  <thead>\n",
       "    <tr style=\"text-align: right;\">\n",
       "      <th></th>\n",
       "      <th>gvkey</th>\n",
       "      <th>cik</th>\n",
       "      <th>conm</th>\n",
       "      <th>fic</th>\n",
       "    </tr>\n",
       "  </thead>\n",
       "  <tbody>\n",
       "    <tr>\n",
       "      <th>0</th>\n",
       "      <td>001166</td>\n",
       "      <td>0000351483</td>\n",
       "      <td>ASM INTERNATIONAL NV</td>\n",
       "      <td>NLD</td>\n",
       "    </tr>\n",
       "  </tbody>\n",
       "</table>\n",
       "</div>"
      ],
      "text/plain": [
       "    gvkey         cik                  conm  fic\n",
       "0  001166  0000351483  ASM INTERNATIONAL NV  NLD"
      ]
     },
     "execution_count": 9,
     "metadata": {},
     "output_type": "execute_result"
    }
   ],
   "source": [
    "\n",
    "# comp_global_daily.g_secd \n",
    "stock_data = conn.raw_sql(\n",
    "f\"\"\"\n",
    "\n",
    "SELECT\n",
    "    gvkey, cik, conm\n",
    "FROM comp_global_daily.g_company\n",
    "where gvkey = '001166'\n",
    "limit 10\n",
    "\"\"\"\n",
    ")\n",
    "stock_data\n",
    "# WHERE comp_global_daily.g_secd.datadate BETWEEN\n",
    "    # '2024-01-01'::date AND '2024-01-05'::date\n",
    "# 1999-02-05 where gvkey = '17095' \n",
    "\n",
    "stock_data = conn.raw_sql(\n",
    "f\"\"\"\n",
    "\n",
    "SELECT\n",
    "    gvkey, cik, conm, fic\n",
    "FROM comp_global_daily.g_company\n",
    "where gvkey = '001166'\n",
    "limit 10\n",
    "\"\"\"\n",
    ")\n",
    "stock_data\n",
    "\n",
    "# https://wrds-www.wharton.upenn.edu/data-dictionary/comp_global_daily/g_company/\n"
   ]
  },
  {
   "cell_type": "code",
   "execution_count": 3,
   "id": "f9f93b83-221f-400d-93a9-18d677b3dd47",
   "metadata": {
    "tags": []
   },
   "outputs": [
    {
     "data": {
      "text/plain": [
       "Index(['gvkey', 'iid', 'datadate', 'conm', 'curcdd', 'ajexdi', 'cshoc',\n",
       "       'cshtrd', 'prccd', 'prchd', 'prcld', 'prcod', 'prcstd', 'qunit',\n",
       "       'curcddv', 'cheqv', 'cheqvgross', 'cheqvnet', 'cheqvtm', 'div', 'divd',\n",
       "       'divdgross', 'divdnet', 'divdtm', 'divgross', 'divnet', 'divrc',\n",
       "       'divrcgross', 'divrcnet', 'divsp', 'divspgross', 'divspnet', 'divsptm',\n",
       "       'anncdate', 'cheqvpaydate', 'divdpaydate', 'divrcpaydate',\n",
       "       'divsppaydate', 'paydate', 'recorddate', 'split', 'splitf', 'trfd',\n",
       "       'epf', 'exchg', 'isin', 'secstat', 'sedol', 'tpci', 'fic', 'gind',\n",
       "       'gsubind', 'loc', 'monthend'],\n",
       "      dtype='object')"
      ]
     },
     "execution_count": 3,
     "metadata": {},
     "output_type": "execute_result"
    }
   ],
   "source": [
    "stock_data.columns"
   ]
  },
  {
   "cell_type": "code",
   "execution_count": 7,
   "id": "1c99e24a-0019-4f1a-a2d8-553b92235183",
   "metadata": {},
   "outputs": [
    {
     "name": "stderr",
     "output_type": "stream",
     "text": [
      "/opt/conda/lib/python3.10/site-packages/google/cloud/bigquery/_pandas_helpers.py:537: UserWarning: Pyarrow could not determine the type of columns: dvpsxd, newnum, oldnum, prccddiv, prccddivn, prchd, prcld.\n",
      "  warnings.warn(\n"
     ]
    },
    {
     "name": "stdout",
     "output_type": "stream",
     "text": [
      "... done\n"
     ]
    }
   ],
   "source": [
    "\n",
    "####SET BG PROJECT TO FETCH DATA\n",
    "# Define project on BQ\n",
    "project_id = \"starfire-410116\"\n",
    "\n",
    "# Authenticate to Google Cloud\n",
    "client = bigquery.Client(project=project_id)\n",
    "\n",
    "# Set allow_large_results to Truepoti\n",
    "job_config = bigquery.QueryJobConfig()\n",
    "job_config.allow_large_results = True\n",
    "\n",
    "dataset_id = 'derived'\n",
    "table_id = 'stock_index_data_1980_1999'\n",
    "\n",
    "# Authenticate with Google Cloud using your service account key\n",
    "client = bigquery.Client(project=project_id)\n",
    "\n",
    "# Specify the BigQuery table reference\n",
    "table_ref = client.dataset(dataset_id).table(table_id)\n",
    "\n",
    "# Upload the Pandas DataFrame to BigQuery with auto-detection\n",
    "job_config = bigquery.LoadJobConfig(\n",
    "  autodetect=True, # Enable auto-detection of the schema\n",
    "  write_disposition=bigquery.WriteDisposition.WRITE_TRUNCATE # You can choose your write disposition\n",
    ")\n",
    "\n",
    "# Upload the DataFrame to BigQuery\n",
    "job = client.load_table_from_dataframe(stock_index_data, table_ref, job_config=job_config)\n",
    "job.result() # Wait for the job to complete\n",
    "print(f'... done')\n"
   ]
  }
 ],
 "metadata": {
  "environment": {
   "kernel": "conda-root-py",
   "name": "workbench-notebooks.m120",
   "type": "gcloud",
   "uri": "us-docker.pkg.dev/deeplearning-platform-release/gcr.io/workbench-notebooks:m120"
  },
  "kernelspec": {
   "display_name": "Python 3 (ipykernel)",
   "language": "python",
   "name": "conda-root-py"
  },
  "language_info": {
   "codemirror_mode": {
    "name": "ipython",
    "version": 3
   },
   "file_extension": ".py",
   "mimetype": "text/x-python",
   "name": "python",
   "nbconvert_exporter": "python",
   "pygments_lexer": "ipython3",
   "version": "3.10.14"
  }
 },
 "nbformat": 4,
 "nbformat_minor": 5
}

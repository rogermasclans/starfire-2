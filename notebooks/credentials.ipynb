{
 "cells": [
  {
   "cell_type": "code",
   "execution_count": 2,
   "id": "678218c5-0cbf-4c64-a556-bfc775fdd981",
   "metadata": {
    "tags": []
   },
   "outputs": [],
   "source": [
    "RDP_LOGIN = 'roger.masclans@duke.edu'\n",
    "RDP_PASSWORD = 'TARMet21!TARMet21!'\n",
    "APP_KEY = 'dac71cb674804588a026988d9bbba78e6e51c605'"
   ]
  }
 ],
 "metadata": {
  "environment": {
   "kernel": "conda-root-py",
   "name": "workbench-notebooks.m120",
   "type": "gcloud",
   "uri": "us-docker.pkg.dev/deeplearning-platform-release/gcr.io/workbench-notebooks:m120"
  },
  "kernelspec": {
   "display_name": "Python 3 (ipykernel)",
   "language": "python",
   "name": "conda-root-py"
  },
  "language_info": {
   "codemirror_mode": {
    "name": "ipython",
    "version": 3
   },
   "file_extension": ".py",
   "mimetype": "text/x-python",
   "name": "python",
   "nbconvert_exporter": "python",
   "pygments_lexer": "ipython3",
   "version": "3.10.14"
  }
 },
 "nbformat": 4,
 "nbformat_minor": 5
}

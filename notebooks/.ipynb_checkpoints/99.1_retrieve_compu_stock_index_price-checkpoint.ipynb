{
 "cells": [
  {
   "cell_type": "code",
   "execution_count": 1,
   "id": "d4e35794-922d-4f5c-a7cb-4ded7c89e811",
   "metadata": {
    "tags": []
   },
   "outputs": [
    {
     "name": "stdout",
     "output_type": "stream",
     "text": [
      "Requirement already satisfied: openpyxl in /opt/conda/lib/python3.10/site-packages (3.1.2)\n",
      "Requirement already satisfied: et-xmlfile in /opt/conda/lib/python3.10/site-packages (from openpyxl) (1.1.0)\n",
      "Requirement already satisfied: wrds in /opt/conda/lib/python3.10/site-packages (3.2.0)\n",
      "Requirement already satisfied: numpy<1.27,>=1.26 in /opt/conda/lib/python3.10/site-packages (from wrds) (1.26.4)\n",
      "Requirement already satisfied: packaging<23.3 in /opt/conda/lib/python3.10/site-packages (from wrds) (23.2)\n",
      "Requirement already satisfied: pandas<2.3,>=2.2 in /opt/conda/lib/python3.10/site-packages (from wrds) (2.2.2)\n",
      "Requirement already satisfied: psycopg2-binary<2.10,>=2.9 in /opt/conda/lib/python3.10/site-packages (from wrds) (2.9.9)\n",
      "Requirement already satisfied: scipy<1.13,>=1.12 in /opt/conda/lib/python3.10/site-packages (from wrds) (1.12.0)\n",
      "Requirement already satisfied: sqlalchemy<2.1,>=2 in /opt/conda/lib/python3.10/site-packages (from wrds) (2.0.29)\n",
      "Requirement already satisfied: python-dateutil>=2.8.2 in /opt/conda/lib/python3.10/site-packages (from pandas<2.3,>=2.2->wrds) (2.9.0)\n",
      "Requirement already satisfied: pytz>=2020.1 in /opt/conda/lib/python3.10/site-packages (from pandas<2.3,>=2.2->wrds) (2024.1)\n",
      "Requirement already satisfied: tzdata>=2022.7 in /opt/conda/lib/python3.10/site-packages (from pandas<2.3,>=2.2->wrds) (2024.1)\n",
      "Requirement already satisfied: typing-extensions>=4.6.0 in /opt/conda/lib/python3.10/site-packages (from sqlalchemy<2.1,>=2->wrds) (4.11.0)\n",
      "Requirement already satisfied: greenlet!=0.4.17 in /opt/conda/lib/python3.10/site-packages (from sqlalchemy<2.1,>=2->wrds) (3.0.3)\n",
      "Requirement already satisfied: six>=1.5 in /opt/conda/lib/python3.10/site-packages (from python-dateutil>=2.8.2->pandas<2.3,>=2.2->wrds) (1.16.0)\n",
      "----------------\n",
      " Establishing WRDS connection:\n"
     ]
    },
    {
     "name": "stdin",
     "output_type": "stream",
     "text": [
      "Enter your WRDS username [jupyter]: rogermasclans\n",
      "Enter your password: ········\n"
     ]
    },
    {
     "name": "stdout",
     "output_type": "stream",
     "text": [
      "WRDS recommends setting up a .pgpass file.\n"
     ]
    },
    {
     "name": "stdin",
     "output_type": "stream",
     "text": [
      "Create .pgpass file now [y/n]?:  y\n"
     ]
    },
    {
     "name": "stdout",
     "output_type": "stream",
     "text": [
      "Created .pgpass file successfully.\n",
      "You can create this file yourself at any time with the create_pgpass_file() function.\n",
      "Loading library list...\n",
      "Done\n"
     ]
    }
   ],
   "source": [
    "import pandas as pd\n",
    "import seaborn as sns\n",
    "import matplotlib.pyplot as plt\n",
    "import numpy as np\n",
    "import matplotlib.ticker as ticker\n",
    "from google.cloud import bigquery\n",
    "import os\n",
    "\n",
    "!pip install openpyxl ## read excel files\n",
    "!pip install wrds\n",
    "import wrds\n",
    "\n",
    "print('----------------\\n Establishing WRDS connection:')\n",
    "# establish connection\n",
    "conn = wrds.Connection()\n",
    "\n"
   ]
  },
  {
   "cell_type": "code",
   "execution_count": 8,
   "id": "8df036dd-dd8b-4fd3-a1db-335d1fd652ec",
   "metadata": {
    "tags": []
   },
   "outputs": [
    {
     "data": {
      "text/html": [
       "<div>\n",
       "<style scoped>\n",
       "    .dataframe tbody tr th:only-of-type {\n",
       "        vertical-align: middle;\n",
       "    }\n",
       "\n",
       "    .dataframe tbody tr th {\n",
       "        vertical-align: top;\n",
       "    }\n",
       "\n",
       "    .dataframe thead th {\n",
       "        text-align: right;\n",
       "    }\n",
       "</style>\n",
       "<table border=\"1\" class=\"dataframe\">\n",
       "  <thead>\n",
       "    <tr style=\"text-align: right;\">\n",
       "      <th></th>\n",
       "      <th>tic</th>\n",
       "      <th>datadate</th>\n",
       "      <th>gvkeyx</th>\n",
       "      <th>conm</th>\n",
       "      <th>indextype</th>\n",
       "      <th>indexid</th>\n",
       "      <th>indexcat</th>\n",
       "      <th>idxiddesc</th>\n",
       "      <th>dvpsxd</th>\n",
       "      <th>newnum</th>\n",
       "      <th>oldnum</th>\n",
       "      <th>prccd</th>\n",
       "      <th>prccddiv</th>\n",
       "      <th>prccddivn</th>\n",
       "      <th>prchd</th>\n",
       "      <th>prcld</th>\n",
       "    </tr>\n",
       "  </thead>\n",
       "  <tbody>\n",
       "  </tbody>\n",
       "</table>\n",
       "</div>"
      ],
      "text/plain": [
       "Empty DataFrame\n",
       "Columns: [tic, datadate, gvkeyx, conm, indextype, indexid, indexcat, idxiddesc, dvpsxd, newnum, oldnum, prccd, prccddiv, prccddivn, prchd, prcld]\n",
       "Index: []"
      ]
     },
     "execution_count": 8,
     "metadata": {},
     "output_type": "execute_result"
    }
   ],
   "source": [
    "\n",
    "\n",
    "stock_index_data = conn.raw_sql(\n",
    "f\"\"\"\n",
    "\n",
    "SELECT\n",
    "    comp_global_daily.g_names_ix.tic,\n",
    "    comp_global_daily.g_idx_daily.datadate,\n",
    "    comp_global_daily.g_names_ix.gvkeyx,\n",
    "    comp_global_daily.g_names_ix.conm,\n",
    "    comp_global_daily.g_names_ix.indextype,\n",
    "    comp_global_daily.g_names_ix.indexid,\n",
    "    comp_global_daily.g_names_ix.indexcat,\n",
    "    comp_global_daily.g_names_ix.idxiddesc,\n",
    "    comp_global_daily.g_idx_daily.dvpsxd,\n",
    "    comp_global_daily.g_idx_daily.newnum,\n",
    "    comp_global_daily.g_idx_daily.oldnum,\n",
    "    comp_global_daily.g_idx_daily.prccd,\n",
    "    comp_global_daily.g_idx_daily.prccddiv,\n",
    "    comp_global_daily.g_idx_daily.prccddivn,\n",
    "    comp_global_daily.g_idx_daily.prchd,\n",
    "    comp_global_daily.g_idx_daily.prcld\n",
    "\n",
    "FROM comp_global_daily.g_idx_daily\n",
    "LEFT JOIN comp_global_daily.g_names_ix\n",
    "    ON comp_global_daily.g_idx_daily.gvkeyx = comp_global_daily.g_names_ix.gvkeyx\n",
    "\n",
    "WHERE comp_global_daily.g_idx_daily.datadate BETWEEN\n",
    "    '1980-01-01'::date AND '1999-12-31'::date\"\"\"\n",
    ")\n",
    "stock_index_data\n",
    "\n",
    "\n",
    "\n",
    "\n",
    "\n"
   ]
  },
  {
   "cell_type": "code",
   "execution_count": 7,
   "id": "1c99e24a-0019-4f1a-a2d8-553b92235183",
   "metadata": {},
   "outputs": [
    {
     "name": "stderr",
     "output_type": "stream",
     "text": [
      "/opt/conda/lib/python3.10/site-packages/google/cloud/bigquery/_pandas_helpers.py:537: UserWarning: Pyarrow could not determine the type of columns: dvpsxd, newnum, oldnum, prccddiv, prccddivn, prchd, prcld.\n",
      "  warnings.warn(\n"
     ]
    },
    {
     "name": "stdout",
     "output_type": "stream",
     "text": [
      "... done\n"
     ]
    }
   ],
   "source": [
    "\n",
    "####SET BG PROJECT TO FETCH DATA\n",
    "# Define project on BQ\n",
    "project_id = \"starfire-410116\"\n",
    "\n",
    "# Authenticate to Google Cloud\n",
    "client = bigquery.Client(project=project_id)\n",
    "\n",
    "# Set allow_large_results to Truepoti\n",
    "job_config = bigquery.QueryJobConfig()\n",
    "job_config.allow_large_results = True\n",
    "\n",
    "dataset_id = 'derived'\n",
    "table_id = 'stock_index_data_1980_1999'\n",
    "\n",
    "# Authenticate with Google Cloud using your service account key\n",
    "client = bigquery.Client(project=project_id)\n",
    "\n",
    "# Specify the BigQuery table reference\n",
    "table_ref = client.dataset(dataset_id).table(table_id)\n",
    "\n",
    "# Upload the Pandas DataFrame to BigQuery with auto-detection\n",
    "job_config = bigquery.LoadJobConfig(\n",
    "  autodetect=True, # Enable auto-detection of the schema\n",
    "  write_disposition=bigquery.WriteDisposition.WRITE_TRUNCATE # You can choose your write disposition\n",
    ")\n",
    "\n",
    "# Upload the DataFrame to BigQuery\n",
    "job = client.load_table_from_dataframe(stock_index_data, table_ref, job_config=job_config)\n",
    "job.result() # Wait for the job to complete\n",
    "print(f'... done')\n"
   ]
  }
 ],
 "metadata": {
  "environment": {
   "kernel": "conda-root-py",
   "name": "workbench-notebooks.m120",
   "type": "gcloud",
   "uri": "us-docker.pkg.dev/deeplearning-platform-release/gcr.io/workbench-notebooks:m120"
  },
  "kernelspec": {
   "display_name": "Python 3 (ipykernel)",
   "language": "python",
   "name": "conda-root-py"
  },
  "language_info": {
   "codemirror_mode": {
    "name": "ipython",
    "version": 3
   },
   "file_extension": ".py",
   "mimetype": "text/x-python",
   "name": "python",
   "nbconvert_exporter": "python",
   "pygments_lexer": "ipython3",
   "version": "3.10.14"
  }
 },
 "nbformat": 4,
 "nbformat_minor": 5
}
